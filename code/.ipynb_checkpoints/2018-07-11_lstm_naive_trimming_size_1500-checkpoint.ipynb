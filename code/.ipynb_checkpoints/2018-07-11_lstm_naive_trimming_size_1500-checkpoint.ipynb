{
 "cells": [
  {
   "cell_type": "markdown",
   "metadata": {},
   "source": [
    "**Date**: 2018-07-11\n",
    "\n",
    "**Authors**: Yichen Fang, Adam Stafford\n",
    "\n",
    "**Purpose**: To test the relationship between validation accuracy and alignment length.\n",
    "\n",
    "This notebook tests a naive alignment scheme that selects the first 1500 positions of a DNA sequence (add null positions to the end if a sequence is shorter than 1500).\n",
    "\n",
    "**Background**:\n",
    "- This notebook is a follow-up experiment of `2018-07-11_lstm_naive_trimming_size_2000.ipynb`.\n",
    "- This notebook uses the one-hot encoded dna data buffered in `data/list_buffer.txt`. The buffered data is a concatenation of all files in `data/output` folder. The purpose of the buffering is to speed up the notebook.\n",
    "- The output data in `data/output` folder is based on the input data in folders `data/input/3.24_species_only` (the dna sequence data), and `data/input/5_TFBS_score_subset_30May2018` (the TFBS motif data).\n",
    "- The output data can be reproduced by running `code/utility/producing_output_files.ipynb` (not needed for running this notebook).\n",
    "- The data include 10752 dna sequences, each trimmed to a length of 1500 positions. For each position, one-hot encoding is applied, and three TFBS motif scores are attached. 9600 sequences are used as training sequences, among which 960 sequences are served as validation sequences.\n",
    "- There may be slight variation in the accuracy results in each rerun of the experient due to the inherent shuffling randomness of LSTM RNN network.\n",
    "- The notebook is catered for running on a computer that utilizes TensorFlow GPU acceleration. To run the notebook on a computer without GPU acceleration, change all `CuDNNLSTM` to `LSTM` (beware that the neural network training would be extremely slow without GPU acceleration).\n",
    "\n",
    "**Experiment**:"
   ]
  },
  {
   "cell_type": "code",
   "execution_count": 2,
   "metadata": {},
   "outputs": [],
   "source": [
    "import pickle\n",
    "import numpy as np\n",
    "import matplotlib.pyplot as plt"
   ]
  },
  {
   "cell_type": "markdown",
   "metadata": {},
   "source": [
    "Load the `pickle` buffered list:"
   ]
  },
  {
   "cell_type": "code",
   "execution_count": 3,
   "metadata": {},
   "outputs": [],
   "source": [
    "with open(\"../data/list_buffer.txt\", \"rb\") as buff:\n",
    "    seq_record_list = pickle.load(buff)"
   ]
  },
  {
   "cell_type": "markdown",
   "metadata": {},
   "source": [
    "The following cell transforms the data into a format that is recognizable by the neural network model."
   ]
  },
  {
   "cell_type": "code",
   "execution_count": 4,
   "metadata": {},
   "outputs": [],
   "source": [
    "# A helper function to flatten a 2d list to 1d.\n",
    "# Input: [[1, 2], [2, 3], [3, 4, 5]]\n",
    "# Output: [1, 2, 2, 3, 3, 4, 5]\n",
    "def flatten(lst):\n",
    "    new_lst = []\n",
    "    for sub_lst in lst:\n",
    "        for item in sub_lst:\n",
    "            new_lst.append(item)\n",
    "    return new_lst\n",
    "\n",
    "# A helper function to transform a lst so that its length becomes read_len by:\n",
    "# 1. If len(lst) > read_len, curtail the end of the lst.\n",
    "# 2. If len(lst) < read_len, keep extending the end of the lst with 0 (NA).\n",
    "def curtail(lst, read_len):\n",
    "    if len(lst) > read_len:\n",
    "        lst = lst[:read_len]\n",
    "    else:\n",
    "        for i in range(read_len - len(lst)):\n",
    "            lst.append([0, 0, 0, 0, 0, 0, 0])\n",
    "    return lst\n",
    "\n",
    "# Produce the train-test split\n",
    "# length_read: the length that you want all DNA sequences to conform to\n",
    "def prepare_input(training_size, test_size, length_read):\n",
    "    X_train = []\n",
    "    y_train = []\n",
    "    X_test = []\n",
    "    y_test = []\n",
    "    seq_count = 0\n",
    "    while seq_count < training_size:\n",
    "        X_train.append(flatten(curtail(seq_record_list[seq_count][3], length_read)))\n",
    "        y_train.append(int(seq_record_list[seq_count][1]))\n",
    "        seq_count += 1\n",
    "    while seq_count < (training_size + test_size):\n",
    "        X_test.append(flatten(curtail(seq_record_list[seq_count][3], length_read)))\n",
    "        y_test.append(int(seq_record_list[seq_count][1]))\n",
    "        seq_count += 1\n",
    "    return X_train, y_train, X_test, y_test\n",
    "\n",
    "# Turn list into numpy tensors that can directly feed into a neural network model\n",
    "def to_np_array(X_train, y_train, X_test, y_test):\n",
    "    X_train = np.array(X_train)\n",
    "    y_train = np.array(y_train)\n",
    "    if len(y_train.shape) == 1:\n",
    "        y_train = np.transpose(np.array([y_train]))\n",
    "    X_test = np.array(X_test)\n",
    "    y_test = np.transpose(np.array(y_test))\n",
    "    if len(y_test.shape) == 1:\n",
    "        y_test = np.transpose(np.array([y_test]))\n",
    "    return X_train, y_train, X_test, y_test"
   ]
  },
  {
   "cell_type": "code",
   "execution_count": 5,
   "metadata": {},
   "outputs": [
    {
     "data": {
      "text/plain": [
       "[(9600, 10500), (9600, 1), (1152, 10500), (1152, 1)]"
      ]
     },
     "execution_count": 5,
     "metadata": {},
     "output_type": "execute_result"
    }
   ],
   "source": [
    "X_train, y_train, X_test, y_test = prepare_input(9600, 1152, 1500)\n",
    "X_train, y_train, X_test, y_test = to_np_array(X_train, y_train, X_test, y_test)\n",
    "[X_train.shape, y_train.shape, X_test.shape, y_test.shape]"
   ]
  },
  {
   "cell_type": "markdown",
   "metadata": {},
   "source": [
    "The following cells build a recurrent network with four LSTM layers, with 8, 8, 4, 4 units respectively:"
   ]
  },
  {
   "cell_type": "code",
   "execution_count": 13,
   "metadata": {},
   "outputs": [],
   "source": [
    "from keras.models import Model, Sequential\n",
    "from keras.layers import Dense, CuDNNLSTM"
   ]
  },
  {
   "cell_type": "code",
   "execution_count": 7,
   "metadata": {},
   "outputs": [],
   "source": [
    "X_train_rnn = X_train.reshape(9600, 1500, 7)"
   ]
  },
  {
   "cell_type": "code",
   "execution_count": 11,
   "metadata": {
    "scrolled": true
   },
   "outputs": [
    {
     "name": "stdout",
     "output_type": "stream",
     "text": [
      "Train on 8640 samples, validate on 960 samples\n",
      "Epoch 1/20\n",
      "8640/8640 [==============================] - 33s 4ms/step - loss: 0.6746 - acc: 0.5773 - val_loss: 0.6625 - val_acc: 0.5750\n",
      "Epoch 2/20\n",
      "8640/8640 [==============================] - 32s 4ms/step - loss: 0.6610 - acc: 0.5825 - val_loss: 0.6551 - val_acc: 0.5427\n",
      "Epoch 3/20\n",
      "8640/8640 [==============================] - 32s 4ms/step - loss: 0.6525 - acc: 0.6068 - val_loss: 0.6492 - val_acc: 0.6198\n",
      "Epoch 4/20\n",
      "8640/8640 [==============================] - 32s 4ms/step - loss: 0.6440 - acc: 0.6300 - val_loss: 0.6422 - val_acc: 0.6406\n",
      "Epoch 5/20\n",
      "8640/8640 [==============================] - 32s 4ms/step - loss: 0.6377 - acc: 0.6380 - val_loss: 0.6594 - val_acc: 0.5437\n",
      "Epoch 6/20\n",
      "8640/8640 [==============================] - 32s 4ms/step - loss: 0.6361 - acc: 0.6414 - val_loss: 0.6728 - val_acc: 0.6292\n",
      "Epoch 7/20\n",
      "8640/8640 [==============================] - 32s 4ms/step - loss: 0.6282 - acc: 0.6525 - val_loss: 0.6355 - val_acc: 0.6094\n",
      "Epoch 8/20\n",
      "8640/8640 [==============================] - 32s 4ms/step - loss: 0.6234 - acc: 0.6538 - val_loss: 0.6318 - val_acc: 0.6344\n",
      "Epoch 9/20\n",
      "8640/8640 [==============================] - 32s 4ms/step - loss: 0.6177 - acc: 0.6612 - val_loss: 0.6178 - val_acc: 0.6375\n",
      "Epoch 10/20\n",
      "8640/8640 [==============================] - 32s 4ms/step - loss: 0.6099 - acc: 0.6716 - val_loss: 0.6485 - val_acc: 0.5719\n",
      "Epoch 11/20\n",
      "8640/8640 [==============================] - 32s 4ms/step - loss: 0.6022 - acc: 0.6803 - val_loss: 0.6226 - val_acc: 0.6240\n",
      "Epoch 12/20\n",
      "8640/8640 [==============================] - 32s 4ms/step - loss: 0.5946 - acc: 0.6927 - val_loss: 0.6879 - val_acc: 0.6823\n",
      "Epoch 13/20\n",
      "8640/8640 [==============================] - 32s 4ms/step - loss: 0.5876 - acc: 0.6963 - val_loss: 0.6277 - val_acc: 0.6250\n",
      "Epoch 14/20\n",
      "8640/8640 [==============================] - 32s 4ms/step - loss: 0.5810 - acc: 0.6997 - val_loss: 0.6510 - val_acc: 0.6177\n",
      "Epoch 15/20\n",
      "8640/8640 [==============================] - 32s 4ms/step - loss: 0.5698 - acc: 0.7105 - val_loss: 0.6692 - val_acc: 0.6188\n",
      "Epoch 16/20\n",
      "8640/8640 [==============================] - 32s 4ms/step - loss: 0.5633 - acc: 0.7178 - val_loss: 0.7088 - val_acc: 0.6156\n",
      "Epoch 17/20\n",
      "8640/8640 [==============================] - 32s 4ms/step - loss: 0.5534 - acc: 0.7229 - val_loss: 0.6589 - val_acc: 0.6583\n",
      "Epoch 18/20\n",
      "8640/8640 [==============================] - 32s 4ms/step - loss: 0.5422 - acc: 0.7358 - val_loss: 0.7460 - val_acc: 0.6271\n",
      "Epoch 19/20\n",
      "8640/8640 [==============================] - 32s 4ms/step - loss: 0.5359 - acc: 0.7382 - val_loss: 0.7283 - val_acc: 0.6438\n",
      "Epoch 20/20\n",
      "8640/8640 [==============================] - 32s 4ms/step - loss: 0.5291 - acc: 0.7462 - val_loss: 0.7611 - val_acc: 0.5938\n"
     ]
    }
   ],
   "source": [
    "model = Sequential()\n",
    "model.add(CuDNNLSTM(8, input_shape=(1500, 7), return_sequences=True))\n",
    "model.add(CuDNNLSTM(8, return_sequences=True))\n",
    "model.add(CuDNNLSTM(4, return_sequences=True))\n",
    "model.add(CuDNNLSTM(4))\n",
    "model.add(Dense(1, activation='sigmoid'))\n",
    "model.compile(optimizer='rmsprop', loss='binary_crossentropy', metrics=['acc'])\n",
    "history = model.fit(X_train_rnn, y_train, epochs=20, batch_size=128, validation_split=0.1)"
   ]
  },
  {
   "cell_type": "markdown",
   "metadata": {},
   "source": [
    "**Result**:\n",
    "\n",
    "The following cell **visualize** the training/validation accuracies and losses over each epoch."
   ]
  },
  {
   "cell_type": "code",
   "execution_count": 12,
   "metadata": {},
   "outputs": [
    {
     "data": {
      "image/png": "[encoded data removed]",
      "text/plain": [
       "<Figure size 432x288 with 1 Axes>"
      ]
     },
     "metadata": {},
     "output_type": "display_data"
    },
    {
     "data": {
      "image/png": "[encoded data removed]",
      "text/plain": [
       "<Figure size 432x288 with 1 Axes>"
      ]
     },
     "metadata": {},
     "output_type": "display_data"
    }
   ],
   "source": [
    "acc = history.history['acc']\n",
    "val_acc = history.history['val_acc']\n",
    "loss = history.history['loss']\n",
    "val_loss = history.history['val_loss']\n",
    "\n",
    "epochs = range(1, len(acc) + 1)\n",
    "\n",
    "plt.plot(epochs, acc, 'bo', label='Training Accuracy')\n",
    "plt.plot(epochs, val_acc, 'b', label='Validation Accuracy')\n",
    "plt.title('Training and Validation Accuracy')\n",
    "plt.xlabel('epoches')\n",
    "plt.legend()\n",
    "\n",
    "plt.figure()\n",
    "\n",
    "plt.plot(epochs, loss, 'bo', label='Training Loss')\n",
    "plt.plot(epochs, val_loss, 'b', label='Validation Loss')\n",
    "plt.title('Training and Validation Loss')\n",
    "plt.xlabel('epoches')\n",
    "plt.legend()\n",
    "\n",
    "plt.show()"
   ]
  },
  {
   "cell_type": "markdown",
   "metadata": {},
   "source": [
    "- Note that the trend of validation accuracy roughly follows the trend of the training accuracy as long as the validation loss follows the training loss, indicating that the validation data is picking up useful information from the training data.\n",
    "\n",
    "**Conclusion**:\n",
    "\n",
    "- Based on the results above, a sequence trimming scheme of length 1500 is indeed doing much better than a sequence trimming scheme of length 2000.\n",
    "- Though the trends are similar, the validation accuracy still lags behind the training accuracy, and there still exists lots of fluctuations, indicating more areas for improvements.\n",
    "- We will try a follow-up experiment with a sequence trimming scheme of length 1000."
   ]
  }
 ],
 "metadata": {
  "kernelspec": {
   "display_name": "Python 3",
   "language": "python",
   "name": "python3"
  },
  "language_info": {
   "codemirror_mode": {
    "name": "ipython",
    "version": 3
   },
   "file_extension": ".py",
   "mimetype": "text/x-python",
   "name": "python",
   "nbconvert_exporter": "python",
   "pygments_lexer": "ipython3",
   "version": "3.6.4"
  }
 },
 "nbformat": 4,
 "nbformat_minor": 2
}
