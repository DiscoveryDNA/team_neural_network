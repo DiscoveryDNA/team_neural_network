{
 "cells": [
  {
   "cell_type": "markdown",
   "metadata": {},
   "source": [
    "**Date**: 2018-07-11\n",
    "\n",
    "**Authors**: Yichen Fang, Adam Stafford\n",
    "\n",
    "**Purpose**: To test the relationship between validation accuracy and alignment length.\n",
    "\n",
    "This notebook tests a naive alignment scheme that selects the first 2000 positions of a DNA sequence (add null positions to the end if a sequence is shorter than 2000).\n",
    "\n",
    "**Background**:\n",
    "- This notebook uses the one-hot encoded dna data buffered in `data/list_buffer.txt`. The buffered data is a concatenation of all files in `data/output` folder. The purpose of the buffering is to speed up the notebook.\n",
    "- The output data in `data/output` folder is based on the input data in folders `data/input/3.24_species_only` (the data sequence data), and `data/input/5_TFBS_score_subset_30May2018` (the TFBS motif data).\n",
    "- The output data can be reproduced by running `code/utility/producing_output_files.ipynb` (not needed for running this notebook).\n",
    "- The data include 10752 dna sequences, each trimmed to a length of 2000 positions. For each position, one-hot encoding is applied, and three TFBS motif scores are attached. 9600 sequences are used as training sequences, among which 960 sequences are served as validation sequences.\n",
    "- There may be slight variation in the accuracy results in each rerun of the experient due to the inherent shuffling randomness of LSTM RNN network.\n",
    "- The notebook is catered for running on a computer that utilizes TensorFlow GPU acceleration. To run the notebook on a computer without GPU acceleration, change all `CuDNNLSTM` to `LSTM` (beware that the neural network training would be extremely slow without GPU acceleration).\n",
    "\n",
    "**Experiment**:"
   ]
  },
  {
   "cell_type": "code",
   "execution_count": 2,
   "metadata": {},
   "outputs": [],
   "source": [
    "import pickle\n",
    "import numpy as np\n",
    "import matplotlib.pyplot as plt"
   ]
  },
  {
   "cell_type": "markdown",
   "metadata": {},
   "source": [
    "Load the `pickle` buffered list:"
   ]
  },
  {
   "cell_type": "code",
   "execution_count": 3,
   "metadata": {},
   "outputs": [],
   "source": [
    "with open(\"../data/list_buffer.txt\", \"rb\") as buff:\n",
    "    seq_record_list = pickle.load(buff)"
   ]
  },
  {
   "cell_type": "markdown",
   "metadata": {},
   "source": [
    "The following cell transforms the data into a format that is recognizable by the neural network model."
   ]
  },
  {
   "cell_type": "code",
   "execution_count": 4,
   "metadata": {},
   "outputs": [],
   "source": [
    "# A helper function to flatten a 2d list to 1d.\n",
    "# Input: [[1, 2], [2, 3], [3, 4, 5]]\n",
    "# Output: [1, 2, 2, 3, 3, 4, 5]\n",
    "def flatten(lst):\n",
    "    new_lst = []\n",
    "    for sub_lst in lst:\n",
    "        for item in sub_lst:\n",
    "            new_lst.append(item)\n",
    "    return new_lst\n",
    "\n",
    "# A helper function to transform a lst so that its length becomes read_len by:\n",
    "# 1. If len(lst) > read_len, curtail the end of the lst.\n",
    "# 2. If len(lst) < read_len, keep extending the end of the lst with 0 (NA).\n",
    "def curtail(lst, read_len):\n",
    "    if len(lst) > read_len:\n",
    "        lst = lst[:read_len]\n",
    "    else:\n",
    "        for i in range(read_len - len(lst)):\n",
    "            lst.append([0, 0, 0, 0, 0, 0, 0])\n",
    "    return lst\n",
    "\n",
    "# Produce the train-test split\n",
    "# length_read: the length that you want all DNA sequences to conform to\n",
    "def prepare_input(training_size, test_size, length_read):\n",
    "    X_train = []\n",
    "    y_train = []\n",
    "    X_test = []\n",
    "    y_test = []\n",
    "    seq_count = 0\n",
    "    while seq_count < training_size:\n",
    "        X_train.append(flatten(curtail(seq_record_list[seq_count][3], length_read)))\n",
    "        y_train.append(int(seq_record_list[seq_count][1]))\n",
    "        seq_count += 1\n",
    "    while seq_count < (training_size + test_size):\n",
    "        X_test.append(flatten(curtail(seq_record_list[seq_count][3], length_read)))\n",
    "        y_test.append(int(seq_record_list[seq_count][1]))\n",
    "        seq_count += 1\n",
    "    return X_train, y_train, X_test, y_test\n",
    "\n",
    "# Turn list into numpy tensors that can directly feed into a neural network model\n",
    "def to_np_array(X_train, y_train, X_test, y_test):\n",
    "    X_train = np.array(X_train)\n",
    "    y_train = np.array(y_train)\n",
    "    if len(y_train.shape) == 1:\n",
    "        y_train = np.transpose(np.array([y_train]))\n",
    "    X_test = np.array(X_test)\n",
    "    y_test = np.transpose(np.array(y_test))\n",
    "    if len(y_test.shape) == 1:\n",
    "        y_test = np.transpose(np.array([y_test]))\n",
    "    return X_train, y_train, X_test, y_test"
   ]
  },
  {
   "cell_type": "code",
   "execution_count": 5,
   "metadata": {},
   "outputs": [
    {
     "data": {
      "text/plain": [
       "[(9600, 14000), (9600, 1), (1152, 14000), (1152, 1)]"
      ]
     },
     "execution_count": 5,
     "metadata": {},
     "output_type": "execute_result"
    }
   ],
   "source": [
    "X_train, y_train, X_test, y_test = prepare_input(9600, 1152, 2000)\n",
    "X_train, y_train, X_test, y_test = to_np_array(X_train, y_train, X_test, y_test)\n",
    "[X_train.shape, y_train.shape, X_test.shape, y_test.shape]"
   ]
  },
  {
   "cell_type": "markdown",
   "metadata": {},
   "source": [
    "The following cells build a recurrent network with four LSTM layers, with 8, 8, 4, 4 units respectively:"
   ]
  },
  {
   "cell_type": "code",
   "execution_count": 11,
   "metadata": {},
   "outputs": [],
   "source": [
    "from keras.models import Model, Sequential\n",
    "from keras.layers import Dense, CuDNNLSTM"
   ]
  },
  {
   "cell_type": "code",
   "execution_count": 7,
   "metadata": {},
   "outputs": [],
   "source": [
    "X_train_rnn = X_train.reshape(9600, 2000, 7)"
   ]
  },
  {
   "cell_type": "code",
   "execution_count": 8,
   "metadata": {
    "scrolled": true
   },
   "outputs": [
    {
     "name": "stdout",
     "output_type": "stream",
     "text": [
      "Train on 8640 samples, validate on 960 samples\n",
      "Epoch 1/20\n",
      "8640/8640 [==============================] - 154s 18ms/step - loss: 0.6739 - acc: 0.5868 - val_loss: 0.6776 - val_acc: 0.5469\n",
      "Epoch 2/20\n",
      "8640/8640 [==============================] - 41s 5ms/step - loss: 0.6595 - acc: 0.6119 - val_loss: 0.6704 - val_acc: 0.5719\n",
      "Epoch 3/20\n",
      "8640/8640 [==============================] - 41s 5ms/step - loss: 0.6522 - acc: 0.6257 - val_loss: 0.6650 - val_acc: 0.5906\n",
      "Epoch 4/20\n",
      "8640/8640 [==============================] - 41s 5ms/step - loss: 0.6468 - acc: 0.6398 - val_loss: 0.6806 - val_acc: 0.5573\n",
      "Epoch 5/20\n",
      "8640/8640 [==============================] - 41s 5ms/step - loss: 0.6401 - acc: 0.6507 - val_loss: 0.6963 - val_acc: 0.5458\n",
      "Epoch 6/20\n",
      "8640/8640 [==============================] - 41s 5ms/step - loss: 0.6360 - acc: 0.6608 - val_loss: 0.6835 - val_acc: 0.5906\n",
      "Epoch 7/20\n",
      "8640/8640 [==============================] - 41s 5ms/step - loss: 0.6319 - acc: 0.6723 - val_loss: 0.6887 - val_acc: 0.5781\n",
      "Epoch 8/20\n",
      "8640/8640 [==============================] - 41s 5ms/step - loss: 0.6236 - acc: 0.6850 - val_loss: 0.6869 - val_acc: 0.5917\n",
      "Epoch 9/20\n",
      "8640/8640 [==============================] - 41s 5ms/step - loss: 0.6161 - acc: 0.6943 - val_loss: 0.6977 - val_acc: 0.5906\n",
      "Epoch 10/20\n",
      "8640/8640 [==============================] - 41s 5ms/step - loss: 0.6107 - acc: 0.6984 - val_loss: 0.7269 - val_acc: 0.5552\n",
      "Epoch 11/20\n",
      "8640/8640 [==============================] - 41s 5ms/step - loss: 0.6061 - acc: 0.7042 - val_loss: 0.7155 - val_acc: 0.5760\n",
      "Epoch 12/20\n",
      "8640/8640 [==============================] - 41s 5ms/step - loss: 0.6008 - acc: 0.7094 - val_loss: 0.7362 - val_acc: 0.5552\n",
      "Epoch 13/20\n",
      "8640/8640 [==============================] - 41s 5ms/step - loss: 0.5966 - acc: 0.7104 - val_loss: 0.7388 - val_acc: 0.5542\n",
      "Epoch 14/20\n",
      "8640/8640 [==============================] - 41s 5ms/step - loss: 0.5909 - acc: 0.7159 - val_loss: 0.7554 - val_acc: 0.5458\n",
      "Epoch 15/20\n",
      "8640/8640 [==============================] - 40s 5ms/step - loss: 0.5836 - acc: 0.7194 - val_loss: 0.7337 - val_acc: 0.5823\n",
      "Epoch 16/20\n",
      "8640/8640 [==============================] - 40s 5ms/step - loss: 0.5763 - acc: 0.7236 - val_loss: 0.7299 - val_acc: 0.5906\n",
      "Epoch 17/20\n",
      "8640/8640 [==============================] - 40s 5ms/step - loss: 0.5635 - acc: 0.7293 - val_loss: 0.7470 - val_acc: 0.5906\n",
      "Epoch 18/20\n",
      "8640/8640 [==============================] - 40s 5ms/step - loss: 0.5539 - acc: 0.7332 - val_loss: 0.7586 - val_acc: 0.5802\n",
      "Epoch 19/20\n",
      "8640/8640 [==============================] - 40s 5ms/step - loss: 0.5437 - acc: 0.7354 - val_loss: 0.7658 - val_acc: 0.5760\n",
      "Epoch 20/20\n",
      "8640/8640 [==============================] - 41s 5ms/step - loss: 0.5335 - acc: 0.7382 - val_loss: 0.8072 - val_acc: 0.5823\n"
     ]
    }
   ],
   "source": [
    "model = Sequential()\n",
    "model.add(CuDNNLSTM(8, input_shape=(2000, 7), return_sequences=True))\n",
    "model.add(CuDNNLSTM(8, return_sequences=True))\n",
    "model.add(CuDNNLSTM(4, return_sequences=True))\n",
    "model.add(CuDNNLSTM(4))\n",
    "model.add(Dense(1, activation='sigmoid'))\n",
    "model.compile(optimizer='rmsprop', loss='binary_crossentropy', metrics=['acc'])\n",
    "history = model.fit(X_train_rnn, y_train, epochs=20, batch_size=128, validation_split=0.1)"
   ]
  },
  {
   "cell_type": "markdown",
   "metadata": {},
   "source": [
    "**Result**:\n",
    "\n",
    "The following cell **visualize** the training/validation accuracies and losses over each epoch."
   ]
  },
  {
   "cell_type": "code",
   "execution_count": 9,
   "metadata": {},
   "outputs": [
    {
     "data": {
      "image/png": "[encoded data removed]",
      "text/plain": [
       "<Figure size 432x288 with 1 Axes>"
      ]
     },
     "metadata": {},
     "output_type": "display_data"
    },
    {
     "data": {
      "image/png": "[encoded data removed]",
      "text/plain": [
       "<Figure size 432x288 with 1 Axes>"
      ]
     },
     "metadata": {},
     "output_type": "display_data"
    }
   ],
   "source": [
    "acc = history.history['acc']\n",
    "val_acc = history.history['val_acc']\n",
    "loss = history.history['loss']\n",
    "val_loss = history.history['val_loss']\n",
    "\n",
    "epochs = range(1, len(acc) + 1)\n",
    "\n",
    "plt.plot(epochs, acc, 'bo', label='Training Accuracy')\n",
    "plt.plot(epochs, val_acc, 'b', label='Validation Accuracy')\n",
    "plt.title('Training and Validation Accuracy')\n",
    "plt.xlabel('epoches')\n",
    "plt.legend()\n",
    "\n",
    "plt.figure()\n",
    "\n",
    "plt.plot(epochs, loss, 'bo', label='Training Loss')\n",
    "plt.plot(epochs, val_loss, 'b', label='Validation Loss')\n",
    "plt.title('Training and Validation Loss')\n",
    "plt.xlabel('epoches')\n",
    "plt.legend()\n",
    "\n",
    "plt.show()"
   ]
  },
  {
   "cell_type": "markdown",
   "metadata": {},
   "source": [
    "- Note that the validation accuracy does not imporve at all with the training accuracy, indicating that the model learnt from the training data does not suit the validation data.\n",
    "\n",
    "**Conclusion**:\n",
    "\n",
    "- The conjecture is that the data trimming scheme (2000 positions) is too loose. Since a lot of sequences have a length shorter than 2000, trimming them to 2000 involves adding a lot of null positions at the end of those sequences. The null positions may cause too much noise to overshadow any trend.\n",
    "- To verify the conjecture, we need to run further experiments with shorter sequence length (e.g. 1500 or 1000)."
   ]
  }
 ],
 "metadata": {
  "kernelspec": {
   "display_name": "Python 3",
   "language": "python",
   "name": "python3"
  },
  "language_info": {
   "codemirror_mode": {
    "name": "ipython",
    "version": 3
   },
   "file_extension": ".py",
   "mimetype": "text/x-python",
   "name": "python",
   "nbconvert_exporter": "python",
   "pygments_lexer": "ipython3",
   "version": "3.6.4"
  }
 },
 "nbformat": 4,
 "nbformat_minor": 2
}
