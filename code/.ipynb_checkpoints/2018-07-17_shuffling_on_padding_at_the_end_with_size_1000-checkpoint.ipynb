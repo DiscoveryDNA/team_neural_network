{
 "cells": [
  {
   "cell_type": "markdown",
   "metadata": {},
   "source": [
    "**Date**: 2018-07-17\n",
    "\n",
    "**Authors**: Yichen Fang\n",
    "\n",
    "**Purpose**: To test whether shuffling the input improves the accuracy.\n",
    "\n",
    "This notebook tests a naive alignment scheme that selects the first 1000 positions of a DNA sequence (add null positions to the end if a sequence is shorter than 1000). The sequences are shuffled before feeding into the neural network.\n",
    "\n",
    "**Background**:\n",
    "- The idea of this experiment is based on the understanding that any sequence bears more resemblance with its 23 'siblings' (which are next to each other in the list of sequences before shuffling). Without shuffling, either all siblings are in the training set, or all of them are in the validation set. By shuffling the sequences, all siblings would be randomly distributed into the training set and the validation set. We might be able to extract more information for a sequence based on those of its siblings that are distributed into the training set.\n",
    "\n",
    "**Experiment**:"
   ]
  },
  {
   "cell_type": "code",
   "execution_count": 2,
   "metadata": {},
   "outputs": [],
   "source": [
    "import pickle\n",
    "import numpy as np\n",
    "import matplotlib.pyplot as plt"
   ]
  },
  {
   "cell_type": "markdown",
   "metadata": {},
   "source": [
    "Load the `pickle` buffered list:"
   ]
  },
  {
   "cell_type": "code",
   "execution_count": 3,
   "metadata": {},
   "outputs": [],
   "source": [
    "with open(\"../data/list_buffer.txt\", \"rb\") as buff:\n",
    "    seq_record_list = pickle.load(buff)"
   ]
  },
  {
   "cell_type": "markdown",
   "metadata": {},
   "source": [
    "The following cell retains only 4800 sequences, for the purpose of testing speed. It also randomly shuffles the 4800 sequences."
   ]
  },
  {
   "cell_type": "code",
   "execution_count": 24,
   "metadata": {},
   "outputs": [],
   "source": [
    "seq_record_list = seq_record_list[:4800]\n",
    "from random import shuffle\n",
    "shuffle(seq_record_list)"
   ]
  },
  {
   "cell_type": "markdown",
   "metadata": {},
   "source": [
    "The following cell transforms the data into a format that is recognizable by the neural network model."
   ]
  },
  {
   "cell_type": "code",
   "execution_count": 13,
   "metadata": {},
   "outputs": [],
   "source": [
    "# A helper function to flatten a 2d list to 1d.\n",
    "# Input: [[1, 2], [2, 3], [3, 4, 5]]\n",
    "# Output: [1, 2, 2, 3, 3, 4, 5]\n",
    "def flatten(lst):\n",
    "    new_lst = []\n",
    "    for sub_lst in lst:\n",
    "        for item in sub_lst:\n",
    "            new_lst.append(item)\n",
    "    return new_lst\n",
    "\n",
    "# A helper function to transform a lst so that its length becomes read_len by:\n",
    "# 1. If len(lst) > read_len, curtail the end of the lst.\n",
    "# 2. If len(lst) < read_len, keep extending the end of the lst with 0 (NA).\n",
    "def curtail(lst, read_len):\n",
    "    if len(lst) > read_len:\n",
    "        lst = lst[:read_len]\n",
    "    else:\n",
    "        for i in range(read_len - len(lst)):\n",
    "            lst.append([0, 0, 0, 0, 0, 0, 0])\n",
    "    return lst\n",
    "\n",
    "# Produce the train-test split\n",
    "# length_read: the length that you want all DNA sequences to conform to\n",
    "def prepare_input(training_size, test_size, length_read):\n",
    "    X_train = []\n",
    "    y_train = []\n",
    "    X_test = []\n",
    "    y_test = []\n",
    "    seq_count = 0\n",
    "    while seq_count < training_size:\n",
    "        X_train.append(flatten(curtail(seq_record_list[seq_count][3], length_read)))\n",
    "        y_train.append(int(seq_record_list[seq_count][1]))\n",
    "        seq_count += 1\n",
    "    while seq_count < (training_size + test_size):\n",
    "        X_test.append(flatten(curtail(seq_record_list[seq_count][3], length_read)))\n",
    "        y_test.append(int(seq_record_list[seq_count][1]))\n",
    "        seq_count += 1\n",
    "    return X_train, y_train, X_test, y_test\n",
    "\n",
    "# Turn list into numpy tensors that can directly feed into a neural network model\n",
    "def to_np_array(X_train, y_train, X_test, y_test):\n",
    "    X_train = np.array(X_train)\n",
    "    y_train = np.array(y_train)\n",
    "    if len(y_train.shape) == 1:\n",
    "        y_train = np.transpose(np.array([y_train]))\n",
    "    X_test = np.array(X_test)\n",
    "    y_test = np.transpose(np.array(y_test))\n",
    "    if len(y_test.shape) == 1:\n",
    "        y_test = np.transpose(np.array([y_test]))\n",
    "    return X_train, y_train, X_test, y_test"
   ]
  },
  {
   "cell_type": "code",
   "execution_count": 14,
   "metadata": {},
   "outputs": [
    {
     "data": {
      "text/plain": [
       "[(4320, 7000), (4320, 1), (480, 7000), (480, 1)]"
      ]
     },
     "execution_count": 14,
     "metadata": {},
     "output_type": "execute_result"
    }
   ],
   "source": [
    "X_train, y_train, X_test, y_test = prepare_input(4320, 480, 1000)\n",
    "X_train, y_train, X_test, y_test = to_np_array(X_train, y_train, X_test, y_test)\n",
    "[X_train.shape, y_train.shape, X_test.shape, y_test.shape]"
   ]
  },
  {
   "cell_type": "markdown",
   "metadata": {},
   "source": [
    "The following cells build a recurrent network with four LSTM layers, with 8, 8, 4, 4 units respectively:"
   ]
  },
  {
   "cell_type": "code",
   "execution_count": 16,
   "metadata": {},
   "outputs": [],
   "source": [
    "from keras.models import Model, Sequential\n",
    "from keras.layers import Dense, CuDNNLSTM"
   ]
  },
  {
   "cell_type": "code",
   "execution_count": 18,
   "metadata": {},
   "outputs": [],
   "source": [
    "X_train_rnn = X_train.reshape(4320, 1000, 7)"
   ]
  },
  {
   "cell_type": "code",
   "execution_count": 22,
   "metadata": {
    "scrolled": true
   },
   "outputs": [
    {
     "name": "stdout",
     "output_type": "stream",
     "text": [
      "Train on 3888 samples, validate on 432 samples\n",
      "Epoch 1/20\n",
      "3888/3888 [==============================] - 13s 3ms/step - loss: 0.6763 - acc: 0.5661 - val_loss: 0.6686 - val_acc: 0.5926\n",
      "Epoch 2/20\n",
      "3888/3888 [==============================] - 11s 3ms/step - loss: 0.6552 - acc: 0.5856 - val_loss: 0.6659 - val_acc: 0.5556\n",
      "Epoch 3/20\n",
      "3888/3888 [==============================] - 11s 3ms/step - loss: 0.6442 - acc: 0.6013 - val_loss: 0.6730 - val_acc: 0.5648\n",
      "Epoch 4/20\n",
      "3888/3888 [==============================] - 11s 3ms/step - loss: 0.6327 - acc: 0.6247 - val_loss: 0.6403 - val_acc: 0.6273\n",
      "Epoch 5/20\n",
      "3888/3888 [==============================] - 11s 3ms/step - loss: 0.6278 - acc: 0.6286 - val_loss: 0.6351 - val_acc: 0.6273\n",
      "Epoch 6/20\n",
      "3888/3888 [==============================] - 11s 3ms/step - loss: 0.6192 - acc: 0.6433 - val_loss: 0.6309 - val_acc: 0.6620\n",
      "Epoch 7/20\n",
      "3888/3888 [==============================] - 11s 3ms/step - loss: 0.6096 - acc: 0.6474 - val_loss: 0.6139 - val_acc: 0.6921\n",
      "Epoch 8/20\n",
      "3888/3888 [==============================] - 11s 3ms/step - loss: 0.6031 - acc: 0.6574 - val_loss: 0.6113 - val_acc: 0.6759\n",
      "Epoch 9/20\n",
      "3888/3888 [==============================] - 11s 3ms/step - loss: 0.5905 - acc: 0.6788 - val_loss: 0.5936 - val_acc: 0.7130\n",
      "Epoch 10/20\n",
      "3888/3888 [==============================] - 11s 3ms/step - loss: 0.5850 - acc: 0.6790 - val_loss: 0.5841 - val_acc: 0.7176\n",
      "Epoch 11/20\n",
      "3888/3888 [==============================] - 11s 3ms/step - loss: 0.5746 - acc: 0.6829 - val_loss: 0.6252 - val_acc: 0.6597\n",
      "Epoch 12/20\n",
      "3888/3888 [==============================] - 11s 3ms/step - loss: 0.5630 - acc: 0.7094 - val_loss: 0.5694 - val_acc: 0.7176\n",
      "Epoch 13/20\n",
      "3888/3888 [==============================] - 11s 3ms/step - loss: 0.5584 - acc: 0.7050 - val_loss: 0.5907 - val_acc: 0.7037\n",
      "Epoch 14/20\n",
      "3888/3888 [==============================] - 11s 3ms/step - loss: 0.5504 - acc: 0.7142 - val_loss: 0.5714 - val_acc: 0.7014\n",
      "Epoch 15/20\n",
      "3888/3888 [==============================] - 11s 3ms/step - loss: 0.5370 - acc: 0.7312 - val_loss: 0.5495 - val_acc: 0.7315\n",
      "Epoch 16/20\n",
      "3888/3888 [==============================] - 11s 3ms/step - loss: 0.5266 - acc: 0.7382 - val_loss: 0.5295 - val_acc: 0.7407\n",
      "Epoch 17/20\n",
      "3888/3888 [==============================] - 11s 3ms/step - loss: 0.5133 - acc: 0.7577 - val_loss: 0.5791 - val_acc: 0.6852\n",
      "Epoch 18/20\n",
      "3888/3888 [==============================] - 11s 3ms/step - loss: 0.5088 - acc: 0.7562 - val_loss: 0.5171 - val_acc: 0.7593\n",
      "Epoch 19/20\n",
      "3888/3888 [==============================] - 11s 3ms/step - loss: 0.5020 - acc: 0.7587 - val_loss: 0.5104 - val_acc: 0.7731\n",
      "Epoch 20/20\n",
      "3888/3888 [==============================] - 11s 3ms/step - loss: 0.4896 - acc: 0.7716 - val_loss: 0.5150 - val_acc: 0.7546\n"
     ]
    }
   ],
   "source": [
    "model = Sequential()\n",
    "model.add(CuDNNLSTM(8, input_shape=(1000, 7), return_sequences=True))\n",
    "model.add(CuDNNLSTM(8, return_sequences=True))\n",
    "model.add(CuDNNLSTM(4, return_sequences=True))\n",
    "model.add(CuDNNLSTM(4))\n",
    "model.add(Dense(1, activation='sigmoid'))\n",
    "model.compile(optimizer='rmsprop', loss='binary_crossentropy', metrics=['acc'])\n",
    "history = model.fit(X_train_rnn, y_train, epochs=20, batch_size=128, validation_split=0.1)"
   ]
  },
  {
   "cell_type": "markdown",
   "metadata": {},
   "source": [
    "**Result**:\n",
    "\n",
    "The following cell **visualize** the training/validation accuracies and losses over each epoch."
   ]
  },
  {
   "cell_type": "code",
   "execution_count": 23,
   "metadata": {},
   "outputs": [
    {
     "data": {
      "image/png": "[encoded data removed]",
      "text/plain": [
       "<Figure size 432x288 with 1 Axes>"
      ]
     },
     "metadata": {},
     "output_type": "display_data"
    },
    {
     "data": {
      "image/png": "[encoded data removed]",
      "text/plain": [
       "<Figure size 432x288 with 1 Axes>"
      ]
     },
     "metadata": {},
     "output_type": "display_data"
    }
   ],
   "source": [
    "acc = history.history['acc']\n",
    "val_acc = history.history['val_acc']\n",
    "loss = history.history['loss']\n",
    "val_loss = history.history['val_loss']\n",
    "\n",
    "epochs = range(1, len(acc) + 1)\n",
    "\n",
    "plt.plot(epochs, acc, 'bo', label='Training Accuracy')\n",
    "plt.plot(epochs, val_acc, 'b', label='Validation Accuracy')\n",
    "plt.title('Training and Validation Accuracy')\n",
    "plt.xlabel('epoches')\n",
    "plt.legend()\n",
    "\n",
    "plt.figure()\n",
    "\n",
    "plt.plot(epochs, loss, 'bo', label='Training Loss')\n",
    "plt.plot(epochs, val_loss, 'b', label='Validation Loss')\n",
    "plt.title('Training and Validation Loss')\n",
    "plt.xlabel('epoches')\n",
    "plt.legend()\n",
    "\n",
    "plt.show()"
   ]
  },
  {
   "cell_type": "markdown",
   "metadata": {},
   "source": [
    "- The validation trend now follows closely to the training trend, and the correlation does not stop before 20 epoches, indicating that we might be able to achieve even better results if running for more than 20 epoches.\n",
    "\n",
    "**Conclusion**:\n",
    "\n",
    "- The result of the experiment proves my conjecture at the beginning.\n",
    "- To summarize, for any sequence, its most resemblance sequences are its 23 ‘siblings’. If we don’t shuffle the data, either all 24 ‘siblings’ are in the training data, or all of them are in the validation data. By shuffling them, the 24 ‘siblings’ are randomly distributed into both training and validation data, allowing us to extracting more information."
   ]
  }
 ],
 "metadata": {
  "kernelspec": {
   "display_name": "Python 3",
   "language": "python",
   "name": "python3"
  },
  "language_info": {
   "codemirror_mode": {
    "name": "ipython",
    "version": 3
   },
   "file_extension": ".py",
   "mimetype": "text/x-python",
   "name": "python",
   "nbconvert_exporter": "python",
   "pygments_lexer": "ipython3",
   "version": "3.6.4"
  }
 },
 "nbformat": 4,
 "nbformat_minor": 2
}
