{
 "cells": [
  {
   "cell_type": "markdown",
   "metadata": {},
   "source": [
    "**Date**: 2018-07-18\n",
    "\n",
    "**Authors**: Yichen Fang\n",
    "\n",
    "**Purpose**: Try more tests in order to confirm the shuffling result on 2018-07-17.\n",
    "\n",
    "This notebook tests a naive alignment scheme that selects the first 1000 positions of a DNA sequence (add null positions to the end if a sequence is shorter than 1000). The sequences are shuffled before feeding into the neural network. The training data consists of 8712 sequences, and the validation data consists of 968 sequences.\n",
    "\n",
    "**Background**:\n",
    "- Based on the success of the shuffling result, this notebook runs more experiment to confirm that the result is indeed valid (not due to, say, random coincidence).\n",
    "\n",
    "**Experiment**:"
   ]
  },
  {
   "cell_type": "code",
   "execution_count": 1,
   "metadata": {},
   "outputs": [
    {
     "name": "stderr",
     "output_type": "stream",
     "text": [
      "/home/ubuntu/anaconda3/envs/tensorflow_p36/lib/python3.6/site-packages/matplotlib/__init__.py:1067: UserWarning: Duplicate key in file \"/home/ubuntu/.config/matplotlib/matplotlibrc\", line #2\n",
      "  (fname, cnt))\n",
      "/home/ubuntu/anaconda3/envs/tensorflow_p36/lib/python3.6/site-packages/matplotlib/__init__.py:1067: UserWarning: Duplicate key in file \"/home/ubuntu/.config/matplotlib/matplotlibrc\", line #3\n",
      "  (fname, cnt))\n"
     ]
    }
   ],
   "source": [
    "import pickle\n",
    "import numpy as np\n",
    "import matplotlib.pyplot as plt"
   ]
  },
  {
   "cell_type": "markdown",
   "metadata": {},
   "source": [
    "Load the `pickle` buffered list:"
   ]
  },
  {
   "cell_type": "code",
   "execution_count": 2,
   "metadata": {},
   "outputs": [
    {
     "data": {
      "text/plain": [
       "10752"
      ]
     },
     "execution_count": 2,
     "metadata": {},
     "output_type": "execute_result"
    }
   ],
   "source": [
    "with open(\"../data/list_buffer.txt\", \"rb\") as buff:\n",
    "    seq_record_list = pickle.load(buff)\n",
    "len(seq_record_list)"
   ]
  },
  {
   "cell_type": "code",
   "execution_count": null,
   "metadata": {},
   "outputs": [],
   "source": [
    "length_distribution = []\n",
    "k = 0\n",
    "for each_list in seq_record_list:\n",
    "    length_distribution.append(len(each_list[3]))\n",
    "    k += 1\n",
    "    if k % 1000 == 1:\n",
    "        print(k)"
   ]
  },
  {
   "cell_type": "code",
   "execution_count": null,
   "metadata": {},
   "outputs": [],
   "source": [
    "plt.figure(figsize=(20, 10))\n",
    "plt.hist(length_distribution,bins=500)\n",
    "plt.show()"
   ]
  },
  {
   "cell_type": "markdown",
   "metadata": {},
   "source": [
    "The following cell randomly shuffles the sequences."
   ]
  },
  {
   "cell_type": "code",
   "execution_count": null,
   "metadata": {},
   "outputs": [],
   "source": [
    "from random import shuffle\n",
    "shuffle(seq_record_list)"
   ]
  },
  {
   "cell_type": "code",
   "execution_count": 3,
   "metadata": {},
   "outputs": [],
   "source": [
    "import random\n",
    "from random import shuffle\n",
    "\n",
    "first_list = []\n",
    "second_list = []\n",
    "current = []\n",
    "\n",
    "for i in range(len(seq_record_list)):\n",
    "    current.append(seq_record_list.pop())\n",
    "    if len(current) == 24:\n",
    "        shuffle(current)\n",
    "        random_select = random.randint(21, 24)\n",
    "        first_list.extend(current[:random_select])\n",
    "        second_list.extend(current[random_select:])\n",
    "        current = []\n",
    "\n",
    "shuffle(first_list)\n",
    "shuffle(second_list)\n",
    "\n",
    "seq_record_list = first_list + second_list"
   ]
  },
  {
   "cell_type": "code",
   "execution_count": 9,
   "metadata": {},
   "outputs": [
    {
     "data": {
      "text/plain": [
       "611"
      ]
     },
     "execution_count": 9,
     "metadata": {},
     "output_type": "execute_result"
    }
   ],
   "source": [
    "len(second_list)"
   ]
  },
  {
   "cell_type": "markdown",
   "metadata": {},
   "source": [
    "The following cell transforms the data into a format that is recognizable by the neural network model."
   ]
  },
  {
   "cell_type": "code",
   "execution_count": 7,
   "metadata": {},
   "outputs": [],
   "source": [
    "# A helper function to flatten a 2d list to 1d.\n",
    "# Input: [[1, 2], [2, 3], [3, 4, 5]]\n",
    "# Output: [1, 2, 2, 3, 3, 4, 5]\n",
    "def flatten(lst):\n",
    "    new_lst = []\n",
    "    for sub_lst in lst:\n",
    "        for item in sub_lst:\n",
    "            new_lst.append(item)\n",
    "    return new_lst\n",
    "\n",
    "# A helper function to transform a lst so that its length becomes read_len by:\n",
    "# 1. If len(lst) > read_len, curtail the end of the lst.\n",
    "# 2. If len(lst) < read_len, keep extending the end of the lst with 0 (NA).\n",
    "def curtail(lst, read_len):\n",
    "    if len(lst) > read_len:\n",
    "        lst = lst[:read_len]\n",
    "    else:\n",
    "        for i in range(read_len - len(lst)):\n",
    "            lst.append([0, 0, 0, 0, 0, 0, 0])\n",
    "    return lst\n",
    "\n",
    "# Produce the train-test split\n",
    "# length_read: the length that you want all DNA sequences to conform to\n",
    "def prepare_input(training_size, test_size, length_read):\n",
    "    X_train = []\n",
    "    y_train = []\n",
    "    X_test = []\n",
    "    y_test = []\n",
    "    seq_count = 0\n",
    "    while seq_count < training_size:\n",
    "        X_train.append(flatten(curtail(seq_record_list[seq_count][3], length_read)))\n",
    "        y_train.append(int(seq_record_list[seq_count][1]))\n",
    "        seq_count += 1\n",
    "    while seq_count < (training_size + test_size):\n",
    "        X_test.append(flatten(curtail(seq_record_list[seq_count][3], length_read)))\n",
    "        y_test.append(int(seq_record_list[seq_count][1]))\n",
    "        seq_count += 1\n",
    "    return X_train, y_train, X_test, y_test\n",
    "\n",
    "# Turn list into numpy tensors that can directly feed into a neural network model\n",
    "def to_np_array(X_train, y_train, X_test, y_test):\n",
    "    X_train = np.array(X_train)\n",
    "    y_train = np.array(y_train)\n",
    "    if len(y_train.shape) == 1:\n",
    "        y_train = np.transpose(np.array([y_train]))\n",
    "    X_test = np.array(X_test)\n",
    "    y_test = np.transpose(np.array(y_test))\n",
    "    if len(y_test.shape) == 1:\n",
    "        y_test = np.transpose(np.array([y_test]))\n",
    "    return X_train, y_train, X_test, y_test"
   ]
  },
  {
   "cell_type": "code",
   "execution_count": 10,
   "metadata": {},
   "outputs": [
    {
     "data": {
      "text/plain": [
       "[(10141, 7000), (10141, 1), (611, 7000), (611, 1)]"
      ]
     },
     "execution_count": 10,
     "metadata": {},
     "output_type": "execute_result"
    }
   ],
   "source": [
    "X_train, y_train, X_test, y_test = prepare_input(10141, 611, 1000)\n",
    "X_train, y_train, X_test, y_test = to_np_array(X_train, y_train, X_test, y_test)\n",
    "[X_train.shape, y_train.shape, X_test.shape, y_test.shape]"
   ]
  },
  {
   "cell_type": "markdown",
   "metadata": {},
   "source": [
    "We run the experiment with four LSTM layers, having 8, 8, 4, 4 units respectively, and 50 epoches:"
   ]
  },
  {
   "cell_type": "code",
   "execution_count": 11,
   "metadata": {},
   "outputs": [
    {
     "name": "stderr",
     "output_type": "stream",
     "text": [
      "/home/ubuntu/anaconda3/envs/tensorflow_p36/lib/python3.6/site-packages/h5py/__init__.py:36: FutureWarning: Conversion of the second argument of issubdtype from `float` to `np.floating` is deprecated. In future, it will be treated as `np.float64 == np.dtype(float).type`.\n",
      "  from ._conv import register_converters as _register_converters\n",
      "Using TensorFlow backend.\n"
     ]
    }
   ],
   "source": [
    "from keras.models import Model, Sequential\n",
    "from keras.layers import Dense, CuDNNLSTM"
   ]
  },
  {
   "cell_type": "code",
   "execution_count": 12,
   "metadata": {},
   "outputs": [],
   "source": [
    "X_train_rnn = X_train.reshape(10141, 1000, 7)"
   ]
  },
  {
   "cell_type": "code",
   "execution_count": 13,
   "metadata": {
    "scrolled": true
   },
   "outputs": [
    {
     "name": "stdout",
     "output_type": "stream",
     "text": [
      "Train on 9126 samples, validate on 1015 samples\n",
      "Epoch 1/50\n",
      "9126/9126 [==============================] - 29s 3ms/step - loss: 0.6713 - acc: 0.5879 - val_loss: 0.6538 - val_acc: 0.6030\n",
      "Epoch 2/50\n",
      "9126/9126 [==============================] - 25s 3ms/step - loss: 0.6575 - acc: 0.5909 - val_loss: 0.6423 - val_acc: 0.6039\n",
      "Epoch 3/50\n",
      "9126/9126 [==============================] - 25s 3ms/step - loss: 0.6522 - acc: 0.6007 - val_loss: 0.6367 - val_acc: 0.6049\n",
      "Epoch 4/50\n",
      "9126/9126 [==============================] - 25s 3ms/step - loss: 0.6463 - acc: 0.6096 - val_loss: 0.6347 - val_acc: 0.6512\n",
      "Epoch 5/50\n",
      "9126/9126 [==============================] - 24s 3ms/step - loss: 0.6411 - acc: 0.6140 - val_loss: 0.6259 - val_acc: 0.6562\n",
      "Epoch 6/50\n",
      "9126/9126 [==============================] - 24s 3ms/step - loss: 0.6325 - acc: 0.6259 - val_loss: 0.6257 - val_acc: 0.6325\n",
      "Epoch 7/50\n",
      "9126/9126 [==============================] - 24s 3ms/step - loss: 0.6215 - acc: 0.6479 - val_loss: 0.6055 - val_acc: 0.6690\n",
      "Epoch 8/50\n",
      "9126/9126 [==============================] - 24s 3ms/step - loss: 0.6129 - acc: 0.6566 - val_loss: 0.5962 - val_acc: 0.6778\n",
      "Epoch 9/50\n",
      "9126/9126 [==============================] - 24s 3ms/step - loss: 0.6149 - acc: 0.6588 - val_loss: 0.5881 - val_acc: 0.7005\n",
      "Epoch 10/50\n",
      "9126/9126 [==============================] - 24s 3ms/step - loss: 0.5963 - acc: 0.6885 - val_loss: 0.5678 - val_acc: 0.7320\n",
      "Epoch 11/50\n",
      "9126/9126 [==============================] - 24s 3ms/step - loss: 0.5843 - acc: 0.7030 - val_loss: 0.5536 - val_acc: 0.7399\n",
      "Epoch 12/50\n",
      "9126/9126 [==============================] - 24s 3ms/step - loss: 0.5730 - acc: 0.7133 - val_loss: 0.5508 - val_acc: 0.7261\n",
      "Epoch 13/50\n",
      "9126/9126 [==============================] - 24s 3ms/step - loss: 0.5610 - acc: 0.7234 - val_loss: 0.5332 - val_acc: 0.7419\n",
      "Epoch 14/50\n",
      "9126/9126 [==============================] - 24s 3ms/step - loss: 0.5473 - acc: 0.7312 - val_loss: 0.5230 - val_acc: 0.7537\n",
      "Epoch 15/50\n",
      "9126/9126 [==============================] - 25s 3ms/step - loss: 0.5348 - acc: 0.7401 - val_loss: 0.5068 - val_acc: 0.7675\n",
      "Epoch 16/50\n",
      "9126/9126 [==============================] - 25s 3ms/step - loss: 0.5229 - acc: 0.7512 - val_loss: 0.5182 - val_acc: 0.7576\n",
      "Epoch 17/50\n",
      "9126/9126 [==============================] - 25s 3ms/step - loss: 0.5094 - acc: 0.7663 - val_loss: 0.4908 - val_acc: 0.7665\n",
      "Epoch 18/50\n",
      "9126/9126 [==============================] - 25s 3ms/step - loss: 0.4988 - acc: 0.7723 - val_loss: 0.4904 - val_acc: 0.7803\n",
      "Epoch 19/50\n",
      "9126/9126 [==============================] - 25s 3ms/step - loss: 0.4867 - acc: 0.7854 - val_loss: 0.4706 - val_acc: 0.7773\n",
      "Epoch 20/50\n",
      "9126/9126 [==============================] - 25s 3ms/step - loss: 0.4741 - acc: 0.7941 - val_loss: 0.4655 - val_acc: 0.7941\n",
      "Epoch 21/50\n",
      "9126/9126 [==============================] - 25s 3ms/step - loss: 0.4642 - acc: 0.8013 - val_loss: 0.4489 - val_acc: 0.8010\n",
      "Epoch 22/50\n",
      "9126/9126 [==============================] - 25s 3ms/step - loss: 0.4517 - acc: 0.8066 - val_loss: 0.4585 - val_acc: 0.8089\n",
      "Epoch 23/50\n",
      "9126/9126 [==============================] - 25s 3ms/step - loss: 0.4370 - acc: 0.8176 - val_loss: 0.4610 - val_acc: 0.7921\n",
      "Epoch 24/50\n",
      "9126/9126 [==============================] - 24s 3ms/step - loss: 0.4254 - acc: 0.8205 - val_loss: 0.4236 - val_acc: 0.8187\n",
      "Epoch 25/50\n",
      "9126/9126 [==============================] - 25s 3ms/step - loss: 0.4127 - acc: 0.8309 - val_loss: 0.4060 - val_acc: 0.8266\n",
      "Epoch 26/50\n",
      "9126/9126 [==============================] - 25s 3ms/step - loss: 0.3958 - acc: 0.8373 - val_loss: 0.4138 - val_acc: 0.8315\n",
      "Epoch 27/50\n",
      "9126/9126 [==============================] - 25s 3ms/step - loss: 0.3860 - acc: 0.8423 - val_loss: 0.3813 - val_acc: 0.8493\n",
      "Epoch 28/50\n",
      "9126/9126 [==============================] - 24s 3ms/step - loss: 0.3744 - acc: 0.8531 - val_loss: 0.4119 - val_acc: 0.8138\n",
      "Epoch 29/50\n",
      "9126/9126 [==============================] - 24s 3ms/step - loss: 0.3602 - acc: 0.8568 - val_loss: 0.3551 - val_acc: 0.8581\n",
      "Epoch 30/50\n",
      "9126/9126 [==============================] - 25s 3ms/step - loss: 0.3487 - acc: 0.8620 - val_loss: 0.3431 - val_acc: 0.8729\n",
      "Epoch 31/50\n",
      "9126/9126 [==============================] - 24s 3ms/step - loss: 0.3350 - acc: 0.8685 - val_loss: 0.3517 - val_acc: 0.8650\n",
      "Epoch 32/50\n",
      "9126/9126 [==============================] - 25s 3ms/step - loss: 0.3269 - acc: 0.8744 - val_loss: 0.3438 - val_acc: 0.8562\n",
      "Epoch 33/50\n",
      "9126/9126 [==============================] - 24s 3ms/step - loss: 0.3184 - acc: 0.8783 - val_loss: 0.3060 - val_acc: 0.8897\n",
      "Epoch 34/50\n",
      "9126/9126 [==============================] - 25s 3ms/step - loss: 0.3025 - acc: 0.8852 - val_loss: 0.4433 - val_acc: 0.8079\n",
      "Epoch 35/50\n",
      "9126/9126 [==============================] - 25s 3ms/step - loss: 0.3032 - acc: 0.8867 - val_loss: 0.4419 - val_acc: 0.8217\n",
      "Epoch 36/50\n",
      "9126/9126 [==============================] - 25s 3ms/step - loss: 0.2845 - acc: 0.8938 - val_loss: 0.2752 - val_acc: 0.9015\n",
      "Epoch 37/50\n",
      "9126/9126 [==============================] - 25s 3ms/step - loss: 0.2824 - acc: 0.8964 - val_loss: 0.2690 - val_acc: 0.9113\n",
      "Epoch 38/50\n",
      "9126/9126 [==============================] - 25s 3ms/step - loss: 0.2850 - acc: 0.8936 - val_loss: 0.2867 - val_acc: 0.8975\n",
      "Epoch 39/50\n",
      "9126/9126 [==============================] - 24s 3ms/step - loss: 0.2680 - acc: 0.9013 - val_loss: 0.2808 - val_acc: 0.9015\n",
      "Epoch 40/50\n",
      "9126/9126 [==============================] - 25s 3ms/step - loss: 0.2607 - acc: 0.9039 - val_loss: 0.2477 - val_acc: 0.9212\n",
      "Epoch 41/50\n",
      "9126/9126 [==============================] - 25s 3ms/step - loss: 0.2607 - acc: 0.9041 - val_loss: 0.2511 - val_acc: 0.9182\n",
      "Epoch 42/50\n",
      "9126/9126 [==============================] - 25s 3ms/step - loss: 0.2532 - acc: 0.9048 - val_loss: 0.2353 - val_acc: 0.9241\n",
      "Epoch 43/50\n",
      "9126/9126 [==============================] - 25s 3ms/step - loss: 0.2407 - acc: 0.9114 - val_loss: 0.4145 - val_acc: 0.8394\n",
      "Epoch 44/50\n",
      "9126/9126 [==============================] - 24s 3ms/step - loss: 0.2497 - acc: 0.9065 - val_loss: 0.2680 - val_acc: 0.9044\n",
      "Epoch 45/50\n",
      "9126/9126 [==============================] - 25s 3ms/step - loss: 0.2357 - acc: 0.9129 - val_loss: 0.2328 - val_acc: 0.9222\n",
      "Epoch 46/50\n",
      "9126/9126 [==============================] - 25s 3ms/step - loss: 0.2267 - acc: 0.9167 - val_loss: 0.2432 - val_acc: 0.9212\n",
      "Epoch 47/50\n",
      "9126/9126 [==============================] - 25s 3ms/step - loss: 0.2270 - acc: 0.9153 - val_loss: 0.2168 - val_acc: 0.9271\n",
      "Epoch 48/50\n",
      "9126/9126 [==============================] - 25s 3ms/step - loss: 0.2292 - acc: 0.9153 - val_loss: 0.2095 - val_acc: 0.9330\n",
      "Epoch 49/50\n",
      "9126/9126 [==============================] - 25s 3ms/step - loss: 0.2212 - acc: 0.9189 - val_loss: 0.2936 - val_acc: 0.8916\n",
      "Epoch 50/50\n",
      "9126/9126 [==============================] - 25s 3ms/step - loss: 0.2184 - acc: 0.9236 - val_loss: 0.2279 - val_acc: 0.9261\n"
     ]
    }
   ],
   "source": [
    "model = Sequential()\n",
    "model.add(CuDNNLSTM(8, input_shape=(1000, 7), return_sequences=True))\n",
    "model.add(CuDNNLSTM(8, return_sequences=True))\n",
    "model.add(CuDNNLSTM(4, return_sequences=True))\n",
    "model.add(CuDNNLSTM(4))\n",
    "model.add(Dense(1, activation='sigmoid'))\n",
    "model.compile(optimizer='rmsprop', loss='binary_crossentropy', metrics=['acc'])\n",
    "history = model.fit(X_train_rnn, y_train, epochs=50, batch_size=128, validation_split=0.1)"
   ]
  },
  {
   "cell_type": "markdown",
   "metadata": {},
   "source": [
    "**Result**:\n",
    "\n",
    "The following cell **visualize** the training/validation accuracies and losses over each epoch."
   ]
  },
  {
   "cell_type": "code",
   "execution_count": 14,
   "metadata": {},
   "outputs": [
    {
     "data": {
      "image/png": "[encoded data removed]",
      "text/plain": [
       "<Figure size 432x288 with 1 Axes>"
      ]
     },
     "metadata": {},
     "output_type": "display_data"
    },
    {
     "data": {
      "image/png": "[encoded data removed]",
      "text/plain": [
       "<Figure size 432x288 with 1 Axes>"
      ]
     },
     "metadata": {},
     "output_type": "display_data"
    }
   ],
   "source": [
    "acc = history.history['acc']\n",
    "val_acc = history.history['val_acc']\n",
    "loss = history.history['loss']\n",
    "val_loss = history.history['val_loss']\n",
    "\n",
    "epochs = range(1, len(acc) + 1)\n",
    "\n",
    "plt.plot(epochs, acc, 'bo', label='Training Accuracy')\n",
    "plt.plot(epochs, val_acc, 'b', label='Validation Accuracy')\n",
    "plt.title('Training and Validation Accuracy')\n",
    "plt.xlabel('epoches')\n",
    "plt.legend()\n",
    "\n",
    "plt.figure()\n",
    "\n",
    "plt.plot(epochs, loss, 'bo', label='Training Loss')\n",
    "plt.plot(epochs, val_loss, 'b', label='Validation Loss')\n",
    "plt.title('Training and Validation Loss')\n",
    "plt.xlabel('epoches')\n",
    "plt.legend()\n",
    "\n",
    "plt.show()"
   ]
  },
  {
   "cell_type": "markdown",
   "metadata": {},
   "source": [
    "\n",
    "**Conclusion**:\n",
    "\n",
    "- The result is very promising. It confirms two things:\n",
    "    1. The result on 2018-07-17 is not mere coincidence.\n",
    "    2. As shown on the graph above, the trend of accuracy shows no sign of fading at epoch 50 and an accuracy of 85%, indicating that the limit has not been reached yet.\n",
    "- My next steps are:\n",
    "    1. Test the limit of the model.\n",
    "    2. Speed up the model."
   ]
  }
 ],
 "metadata": {
  "kernelspec": {
   "display_name": "Python 3",
   "language": "python",
   "name": "python3"
  },
  "language_info": {
   "codemirror_mode": {
    "name": "ipython",
    "version": 3
   },
   "file_extension": ".py",
   "mimetype": "text/x-python",
   "name": "python",
   "nbconvert_exporter": "python",
   "pygments_lexer": "ipython3",
   "version": "3.6.4"
  }
 },
 "nbformat": 4,
 "nbformat_minor": 2
}
