{
 "cells": [
  {
   "cell_type": "markdown",
   "metadata": {},
   "source": [
    "**Date**: 2019-01-29\n",
    "\n",
    "**Authors**: Adam Stafford\n",
    "\n",
    "**Purpose**: To test whether shuffling the input improves the accuracy when using a bidirectional LSTM.\n",
    "\n",
    "This notebook tests a naive alignment scheme that selects the first 1000 positions of a DNA sequence (add null positions to the end if a sequence is shorter than 1000). The sequences are shuffled before feeding into the neural network.\n",
    "\n",
    "**Background**:\n",
    "- The idea of this experiment is based on the understanding that any sequence bears more resemblance with its 23 'siblings' (which are next to each other in the list of sequences before shuffling). Without shuffling, either all siblings are in the training set, or all of them are in the validation set. By shuffling the sequences, all siblings would be randomly distributed into the training set and the validation set. We might be able to extract more information for a sequence based on those of its siblings that are distributed into the training set.\n",
    "\n",
    "**Experiment**:"
   ]
  },
  {
   "cell_type": "code",
   "execution_count": 1,
   "metadata": {},
   "outputs": [
    {
     "name": "stderr",
     "output_type": "stream",
     "text": [
      "/home/ubuntu/anaconda3/envs/tensorflow_p36/lib/python3.6/site-packages/matplotlib/__init__.py:1067: UserWarning: Duplicate key in file \"/home/ubuntu/.config/matplotlib/matplotlibrc\", line #2\n",
      "  (fname, cnt))\n",
      "/home/ubuntu/anaconda3/envs/tensorflow_p36/lib/python3.6/site-packages/matplotlib/__init__.py:1067: UserWarning: Duplicate key in file \"/home/ubuntu/.config/matplotlib/matplotlibrc\", line #3\n",
      "  (fname, cnt))\n"
     ]
    }
   ],
   "source": [
    "import pickle\n",
    "import numpy as np\n",
    "import matplotlib.pyplot as plt"
   ]
  },
  {
   "cell_type": "markdown",
   "metadata": {},
   "source": [
    "Load the `pickle` buffered list:"
   ]
  },
  {
   "cell_type": "code",
   "execution_count": 2,
   "metadata": {},
   "outputs": [],
   "source": [
    "with open(\"../data/new_list_buffer.txt\", \"rb\") as buff:\n",
    "    seq_record_list = pickle.load(buff)"
   ]
  },
  {
   "cell_type": "markdown",
   "metadata": {},
   "source": [
    "The following cell retains only 4800 sequences, for the purpose of testing speed. It also randomly shuffles the 4800 sequences."
   ]
  },
  {
   "cell_type": "code",
   "execution_count": 3,
   "metadata": {},
   "outputs": [],
   "source": [
    "seq_record_list = seq_record_list[:4800]\n",
    "from random import shuffle\n",
    "shuffle(seq_record_list)"
   ]
  },
  {
   "cell_type": "markdown",
   "metadata": {},
   "source": [
    "The following cell transforms the data into a format that is recognizable by the neural network model."
   ]
  },
  {
   "cell_type": "code",
   "execution_count": 4,
   "metadata": {},
   "outputs": [],
   "source": [
    "# A helper function to flatten a 2d list to 1d.\n",
    "# Input: [[1, 2], [2, 3], [3, 4, 5]]\n",
    "# Output: [1, 2, 2, 3, 3, 4, 5]\n",
    "def flatten(lst):\n",
    "    new_lst = []\n",
    "    for sub_lst in lst:\n",
    "        for item in sub_lst:\n",
    "            new_lst.append(item)\n",
    "    return new_lst\n",
    "\n",
    "# A helper function to transform a lst so that its length becomes read_len by:\n",
    "# 1. If len(lst) > read_len, curtail the end of the lst.\n",
    "# 2. If len(lst) < read_len, keep extending the end of the lst with 0 (NA).\n",
    "def curtail(lst, read_len):\n",
    "    if len(lst) > read_len:\n",
    "        lst = lst[:read_len]\n",
    "    else:\n",
    "        for i in range(read_len - len(lst)):\n",
    "            lst.append([0, 0, 0, 0, 0, 0, 0, 0])\n",
    "    return lst\n",
    "\n",
    "# Produce the train-test split\n",
    "# length_read: the length that you want all DNA sequences to conform to\n",
    "def prepare_input(training_size, test_size, length_read):\n",
    "    X_train = []\n",
    "    y_train = []\n",
    "    X_test = []\n",
    "    y_test = []\n",
    "    seq_count = 0\n",
    "    while seq_count < training_size:\n",
    "        X_train.append(flatten(curtail(seq_record_list[seq_count][3], length_read)))\n",
    "        y_train.append(int(seq_record_list[seq_count][1]))\n",
    "        seq_count += 1\n",
    "    while seq_count < (training_size + test_size):\n",
    "        X_test.append(flatten(curtail(seq_record_list[seq_count][3], length_read)))\n",
    "        y_test.append(int(seq_record_list[seq_count][1]))\n",
    "        seq_count += 1\n",
    "    return X_train, y_train, X_test, y_test\n",
    "\n",
    "# Turn list into numpy tensors that can directly feed into a neural network model\n",
    "def to_np_array(X_train, y_train, X_test, y_test):\n",
    "    X_train = np.array(X_train)\n",
    "    y_train = np.array(y_train)\n",
    "    if len(y_train.shape) == 1:\n",
    "        y_train = np.transpose(np.array([y_train]))\n",
    "    X_test = np.array(X_test)\n",
    "    y_test = np.transpose(np.array(y_test))\n",
    "    if len(y_test.shape) == 1:\n",
    "        y_test = np.transpose(np.array([y_test]))\n",
    "    return X_train, y_train, X_test, y_test"
   ]
  },
  {
   "cell_type": "code",
   "execution_count": 5,
   "metadata": {},
   "outputs": [
    {
     "data": {
      "text/plain": [
       "[(4320, 8000), (4320, 1), (480, 8000), (480, 1)]"
      ]
     },
     "execution_count": 5,
     "metadata": {},
     "output_type": "execute_result"
    }
   ],
   "source": [
    "X_train, y_train, X_test, y_test = prepare_input(4320, 480, 1000)\n",
    "X_train, y_train, X_test, y_test = to_np_array(X_train, y_train, X_test, y_test)\n",
    "[X_train.shape, y_train.shape, X_test.shape, y_test.shape]"
   ]
  },
  {
   "cell_type": "markdown",
   "metadata": {},
   "source": [
    "The following cells build a recurrent network with one bidirectional LSTM layer."
   ]
  },
  {
   "cell_type": "code",
   "execution_count": 6,
   "metadata": {},
   "outputs": [
    {
     "name": "stderr",
     "output_type": "stream",
     "text": [
      "/home/ubuntu/anaconda3/envs/tensorflow_p36/lib/python3.6/site-packages/h5py/__init__.py:36: FutureWarning: Conversion of the second argument of issubdtype from `float` to `np.floating` is deprecated. In future, it will be treated as `np.float64 == np.dtype(float).type`.\n",
      "  from ._conv import register_converters as _register_converters\n",
      "Using TensorFlow backend.\n"
     ]
    }
   ],
   "source": [
    "from keras.models import Model, Sequential\n",
    "from keras.layers import Dense, CuDNNLSTM, Bidirectional"
   ]
  },
  {
   "cell_type": "code",
   "execution_count": 7,
   "metadata": {},
   "outputs": [],
   "source": [
    "X_train_rnn = X_train.reshape(4320, 1000, 8)"
   ]
  },
  {
   "cell_type": "code",
   "execution_count": 8,
   "metadata": {
    "scrolled": true
   },
   "outputs": [
    {
     "name": "stdout",
     "output_type": "stream",
     "text": [
      "Train on 3888 samples, validate on 432 samples\n",
      "Epoch 1/150\n",
      "3888/3888 [==============================] - 91s 23ms/step - loss: 0.6928 - acc: 0.5064 - val_loss: 0.6935 - val_acc: 0.5093\n",
      "Epoch 2/150\n",
      "3888/3888 [==============================] - 5s 1ms/step - loss: 0.6817 - acc: 0.5358 - val_loss: 0.6843 - val_acc: 0.5255\n",
      "Epoch 3/150\n",
      "3888/3888 [==============================] - 5s 1ms/step - loss: 0.6723 - acc: 0.5682 - val_loss: 0.6757 - val_acc: 0.5718\n",
      "Epoch 4/150\n",
      "3888/3888 [==============================] - 5s 1ms/step - loss: 0.6639 - acc: 0.5939 - val_loss: 0.6683 - val_acc: 0.5856\n",
      "Epoch 5/150\n",
      "3888/3888 [==============================] - 5s 1ms/step - loss: 0.6577 - acc: 0.6016 - val_loss: 0.6633 - val_acc: 0.6065\n",
      "Epoch 6/150\n",
      "3888/3888 [==============================] - 5s 1ms/step - loss: 0.6516 - acc: 0.6170 - val_loss: 0.6586 - val_acc: 0.6343\n",
      "Epoch 7/150\n",
      "3888/3888 [==============================] - 5s 1ms/step - loss: 0.6451 - acc: 0.6312 - val_loss: 0.6537 - val_acc: 0.6458\n",
      "Epoch 8/150\n",
      "3888/3888 [==============================] - 5s 1ms/step - loss: 0.6383 - acc: 0.6453 - val_loss: 0.6477 - val_acc: 0.6597\n",
      "Epoch 9/150\n",
      "3888/3888 [==============================] - 5s 1ms/step - loss: 0.6317 - acc: 0.6602 - val_loss: 0.6420 - val_acc: 0.6736\n",
      "Epoch 10/150\n",
      "3888/3888 [==============================] - 5s 1ms/step - loss: 0.6244 - acc: 0.6713 - val_loss: 0.6361 - val_acc: 0.6782\n",
      "Epoch 11/150\n",
      "3888/3888 [==============================] - 5s 1ms/step - loss: 0.6170 - acc: 0.6767 - val_loss: 0.6284 - val_acc: 0.6806\n",
      "Epoch 12/150\n",
      "3888/3888 [==============================] - 5s 1ms/step - loss: 0.6111 - acc: 0.6834 - val_loss: 0.6249 - val_acc: 0.6736\n",
      "Epoch 13/150\n",
      "3888/3888 [==============================] - 5s 1ms/step - loss: 0.6048 - acc: 0.6875 - val_loss: 0.6255 - val_acc: 0.6782\n",
      "Epoch 14/150\n",
      "3888/3888 [==============================] - 5s 1ms/step - loss: 0.5984 - acc: 0.6947 - val_loss: 0.6126 - val_acc: 0.6806\n",
      "Epoch 15/150\n",
      "3888/3888 [==============================] - 5s 1ms/step - loss: 0.5936 - acc: 0.6914 - val_loss: 0.6133 - val_acc: 0.6759\n",
      "Epoch 16/150\n",
      "3888/3888 [==============================] - 5s 1ms/step - loss: 0.5878 - acc: 0.6955 - val_loss: 0.6107 - val_acc: 0.6898\n",
      "Epoch 17/150\n",
      "3888/3888 [==============================] - 5s 1ms/step - loss: 0.5843 - acc: 0.6986 - val_loss: 0.6017 - val_acc: 0.6829\n",
      "Epoch 18/150\n",
      "3888/3888 [==============================] - 5s 1ms/step - loss: 0.5797 - acc: 0.7032 - val_loss: 0.6032 - val_acc: 0.6921\n",
      "Epoch 19/150\n",
      "3888/3888 [==============================] - 5s 1ms/step - loss: 0.5751 - acc: 0.7070 - val_loss: 0.5926 - val_acc: 0.6898\n",
      "Epoch 20/150\n",
      "3888/3888 [==============================] - 5s 1ms/step - loss: 0.5717 - acc: 0.7096 - val_loss: 0.5934 - val_acc: 0.6944\n",
      "Epoch 21/150\n",
      "3888/3888 [==============================] - 5s 1ms/step - loss: 0.5672 - acc: 0.7096 - val_loss: 0.5924 - val_acc: 0.6944\n",
      "Epoch 22/150\n",
      "3888/3888 [==============================] - 5s 1ms/step - loss: 0.5654 - acc: 0.7091 - val_loss: 0.5900 - val_acc: 0.6944\n",
      "Epoch 23/150\n",
      "3888/3888 [==============================] - 5s 1ms/step - loss: 0.5609 - acc: 0.7158 - val_loss: 0.5821 - val_acc: 0.6944\n",
      "Epoch 24/150\n",
      "3888/3888 [==============================] - 5s 1ms/step - loss: 0.5578 - acc: 0.7130 - val_loss: 0.5853 - val_acc: 0.7037\n",
      "Epoch 25/150\n",
      "3888/3888 [==============================] - 5s 1ms/step - loss: 0.5532 - acc: 0.7166 - val_loss: 0.5833 - val_acc: 0.6968\n",
      "Epoch 26/150\n",
      "3888/3888 [==============================] - 5s 1ms/step - loss: 0.5496 - acc: 0.7225 - val_loss: 0.5728 - val_acc: 0.7014\n",
      "Epoch 27/150\n",
      "3888/3888 [==============================] - 5s 1ms/step - loss: 0.5454 - acc: 0.7220 - val_loss: 0.5883 - val_acc: 0.7106\n",
      "Epoch 28/150\n",
      "3888/3888 [==============================] - 5s 1ms/step - loss: 0.5431 - acc: 0.7274 - val_loss: 0.5635 - val_acc: 0.7130\n",
      "Epoch 29/150\n",
      "3888/3888 [==============================] - 5s 1ms/step - loss: 0.5398 - acc: 0.7320 - val_loss: 0.5602 - val_acc: 0.7153\n",
      "Epoch 30/150\n",
      "3888/3888 [==============================] - 5s 1ms/step - loss: 0.5357 - acc: 0.7353 - val_loss: 0.5634 - val_acc: 0.7245\n",
      "Epoch 31/150\n",
      "3888/3888 [==============================] - 5s 1ms/step - loss: 0.5339 - acc: 0.7346 - val_loss: 0.5539 - val_acc: 0.7176\n",
      "Epoch 32/150\n",
      "3888/3888 [==============================] - 5s 1ms/step - loss: 0.5300 - acc: 0.7392 - val_loss: 0.5617 - val_acc: 0.7014\n",
      "Epoch 33/150\n",
      "3888/3888 [==============================] - 5s 1ms/step - loss: 0.5255 - acc: 0.7459 - val_loss: 0.5624 - val_acc: 0.7222\n",
      "Epoch 34/150\n",
      "3888/3888 [==============================] - 5s 1ms/step - loss: 0.5226 - acc: 0.7497 - val_loss: 0.5437 - val_acc: 0.7269\n",
      "Epoch 35/150\n",
      "3888/3888 [==============================] - 5s 1ms/step - loss: 0.5191 - acc: 0.7482 - val_loss: 0.5515 - val_acc: 0.7106\n",
      "Epoch 36/150\n",
      "3888/3888 [==============================] - 5s 1ms/step - loss: 0.5153 - acc: 0.7539 - val_loss: 0.5402 - val_acc: 0.7338\n",
      "Epoch 37/150\n",
      "3888/3888 [==============================] - 5s 1ms/step - loss: 0.5133 - acc: 0.7531 - val_loss: 0.5467 - val_acc: 0.7292\n",
      "Epoch 38/150\n",
      "3888/3888 [==============================] - 5s 1ms/step - loss: 0.5100 - acc: 0.7634 - val_loss: 0.5407 - val_acc: 0.7199\n",
      "Epoch 39/150\n",
      "3888/3888 [==============================] - 5s 1ms/step - loss: 0.5067 - acc: 0.7636 - val_loss: 0.5345 - val_acc: 0.7338\n",
      "Epoch 40/150\n",
      "3888/3888 [==============================] - 5s 1ms/step - loss: 0.5038 - acc: 0.7659 - val_loss: 0.5424 - val_acc: 0.7199\n",
      "Epoch 41/150\n",
      "3888/3888 [==============================] - 5s 1ms/step - loss: 0.5011 - acc: 0.7657 - val_loss: 0.5402 - val_acc: 0.7199\n",
      "Epoch 42/150\n",
      "3888/3888 [==============================] - 5s 1ms/step - loss: 0.4997 - acc: 0.7670 - val_loss: 0.5313 - val_acc: 0.7338\n",
      "Epoch 43/150\n",
      "3888/3888 [==============================] - 5s 1ms/step - loss: 0.4966 - acc: 0.7708 - val_loss: 0.5281 - val_acc: 0.7384\n",
      "Epoch 44/150\n",
      "3888/3888 [==============================] - 5s 1ms/step - loss: 0.4933 - acc: 0.7708 - val_loss: 0.5218 - val_acc: 0.7384\n",
      "Epoch 45/150\n",
      "3888/3888 [==============================] - 5s 1ms/step - loss: 0.4911 - acc: 0.7755 - val_loss: 0.5274 - val_acc: 0.7269\n",
      "Epoch 46/150\n",
      "3888/3888 [==============================] - 5s 1ms/step - loss: 0.4885 - acc: 0.7767 - val_loss: 0.5215 - val_acc: 0.7245\n",
      "Epoch 47/150\n",
      "3888/3888 [==============================] - 5s 1ms/step - loss: 0.4848 - acc: 0.7767 - val_loss: 0.5210 - val_acc: 0.7523\n",
      "Epoch 48/150\n",
      "3888/3888 [==============================] - 5s 1ms/step - loss: 0.4831 - acc: 0.7798 - val_loss: 0.5146 - val_acc: 0.7292\n",
      "Epoch 49/150\n",
      "3888/3888 [==============================] - 5s 1ms/step - loss: 0.4803 - acc: 0.7824 - val_loss: 0.5191 - val_acc: 0.7361\n",
      "Epoch 50/150\n",
      "3888/3888 [==============================] - 5s 1ms/step - loss: 0.4785 - acc: 0.7827 - val_loss: 0.5108 - val_acc: 0.7384\n",
      "Epoch 51/150\n",
      "3888/3888 [==============================] - 5s 1ms/step - loss: 0.4742 - acc: 0.7855 - val_loss: 0.5160 - val_acc: 0.7431\n",
      "Epoch 52/150\n",
      "3888/3888 [==============================] - 5s 1ms/step - loss: 0.4726 - acc: 0.7796 - val_loss: 0.5074 - val_acc: 0.7431\n",
      "Epoch 53/150\n",
      "3888/3888 [==============================] - 5s 1ms/step - loss: 0.4701 - acc: 0.7865 - val_loss: 0.5035 - val_acc: 0.7500\n",
      "Epoch 54/150\n",
      "3888/3888 [==============================] - 5s 1ms/step - loss: 0.4685 - acc: 0.7891 - val_loss: 0.5111 - val_acc: 0.7500\n",
      "Epoch 55/150\n",
      "3888/3888 [==============================] - 5s 1ms/step - loss: 0.4637 - acc: 0.7917 - val_loss: 0.5030 - val_acc: 0.7454\n",
      "Epoch 56/150\n",
      "3888/3888 [==============================] - 5s 1ms/step - loss: 0.4626 - acc: 0.7878 - val_loss: 0.5133 - val_acc: 0.7593\n",
      "Epoch 57/150\n",
      "3888/3888 [==============================] - 5s 1ms/step - loss: 0.4588 - acc: 0.7899 - val_loss: 0.5116 - val_acc: 0.7523\n",
      "Epoch 58/150\n",
      "3888/3888 [==============================] - 5s 1ms/step - loss: 0.4563 - acc: 0.7989 - val_loss: 0.5135 - val_acc: 0.7245\n",
      "Epoch 59/150\n",
      "3888/3888 [==============================] - 5s 1ms/step - loss: 0.4549 - acc: 0.7963 - val_loss: 0.5081 - val_acc: 0.7639\n",
      "Epoch 60/150\n",
      "3888/3888 [==============================] - 5s 1ms/step - loss: 0.4508 - acc: 0.7976 - val_loss: 0.5065 - val_acc: 0.7639\n"
     ]
    },
    {
     "name": "stdout",
     "output_type": "stream",
     "text": [
      "Epoch 61/150\n",
      "3888/3888 [==============================] - 5s 1ms/step - loss: 0.4502 - acc: 0.8022 - val_loss: 0.4947 - val_acc: 0.7616\n",
      "Epoch 62/150\n",
      "3888/3888 [==============================] - 5s 1ms/step - loss: 0.4455 - acc: 0.8030 - val_loss: 0.4944 - val_acc: 0.7546\n",
      "Epoch 63/150\n",
      "3888/3888 [==============================] - 5s 1ms/step - loss: 0.4440 - acc: 0.8063 - val_loss: 0.4900 - val_acc: 0.7523\n",
      "Epoch 64/150\n",
      "3888/3888 [==============================] - 5s 1ms/step - loss: 0.4420 - acc: 0.8099 - val_loss: 0.4870 - val_acc: 0.7616\n",
      "Epoch 65/150\n",
      "3888/3888 [==============================] - 5s 1ms/step - loss: 0.4396 - acc: 0.8063 - val_loss: 0.4818 - val_acc: 0.7778\n",
      "Epoch 66/150\n",
      "3888/3888 [==============================] - 5s 1ms/step - loss: 0.4357 - acc: 0.8130 - val_loss: 0.4897 - val_acc: 0.7755\n",
      "Epoch 67/150\n",
      "3888/3888 [==============================] - 5s 1ms/step - loss: 0.4341 - acc: 0.8120 - val_loss: 0.4847 - val_acc: 0.7569\n",
      "Epoch 68/150\n",
      "3888/3888 [==============================] - 5s 1ms/step - loss: 0.4323 - acc: 0.8148 - val_loss: 0.4854 - val_acc: 0.7847\n",
      "Epoch 69/150\n",
      "3888/3888 [==============================] - 5s 1ms/step - loss: 0.4330 - acc: 0.8125 - val_loss: 0.4811 - val_acc: 0.7801\n",
      "Epoch 70/150\n",
      "3888/3888 [==============================] - 5s 1ms/step - loss: 0.4274 - acc: 0.8135 - val_loss: 0.4781 - val_acc: 0.7685\n",
      "Epoch 71/150\n",
      "3888/3888 [==============================] - 5s 1ms/step - loss: 0.4249 - acc: 0.8205 - val_loss: 0.4704 - val_acc: 0.7870\n",
      "Epoch 72/150\n",
      "3888/3888 [==============================] - 5s 1ms/step - loss: 0.4234 - acc: 0.8218 - val_loss: 0.4710 - val_acc: 0.7824\n",
      "Epoch 73/150\n",
      "3888/3888 [==============================] - 5s 1ms/step - loss: 0.4210 - acc: 0.8223 - val_loss: 0.4833 - val_acc: 0.7662\n",
      "Epoch 74/150\n",
      "3888/3888 [==============================] - 5s 1ms/step - loss: 0.4203 - acc: 0.8230 - val_loss: 0.5012 - val_acc: 0.7685\n",
      "Epoch 75/150\n",
      "3888/3888 [==============================] - 5s 1ms/step - loss: 0.4181 - acc: 0.8256 - val_loss: 0.4811 - val_acc: 0.7685\n",
      "Epoch 76/150\n",
      "3888/3888 [==============================] - 5s 1ms/step - loss: 0.4195 - acc: 0.8218 - val_loss: 0.4663 - val_acc: 0.7917\n",
      "Epoch 77/150\n",
      "3888/3888 [==============================] - 5s 1ms/step - loss: 0.4129 - acc: 0.8272 - val_loss: 0.4690 - val_acc: 0.7847\n",
      "Epoch 78/150\n",
      "3888/3888 [==============================] - 5s 1ms/step - loss: 0.4126 - acc: 0.8295 - val_loss: 0.4611 - val_acc: 0.7917\n",
      "Epoch 79/150\n",
      "3888/3888 [==============================] - 5s 1ms/step - loss: 0.4102 - acc: 0.8282 - val_loss: 0.4680 - val_acc: 0.7824\n",
      "Epoch 80/150\n",
      "3888/3888 [==============================] - 5s 1ms/step - loss: 0.4099 - acc: 0.8259 - val_loss: 0.4606 - val_acc: 0.8009\n",
      "Epoch 81/150\n",
      "3888/3888 [==============================] - 5s 1ms/step - loss: 0.4061 - acc: 0.8308 - val_loss: 0.4558 - val_acc: 0.8032\n",
      "Epoch 82/150\n",
      "3888/3888 [==============================] - 5s 1ms/step - loss: 0.4048 - acc: 0.8331 - val_loss: 0.4665 - val_acc: 0.7870\n",
      "Epoch 83/150\n",
      "3888/3888 [==============================] - 5s 1ms/step - loss: 0.4072 - acc: 0.8284 - val_loss: 0.4604 - val_acc: 0.7894\n",
      "Epoch 84/150\n",
      "3888/3888 [==============================] - 5s 1ms/step - loss: 0.3998 - acc: 0.8320 - val_loss: 0.4825 - val_acc: 0.7778\n",
      "Epoch 85/150\n",
      "3888/3888 [==============================] - 5s 1ms/step - loss: 0.4003 - acc: 0.8323 - val_loss: 0.4540 - val_acc: 0.8125\n",
      "Epoch 86/150\n",
      "3888/3888 [==============================] - 5s 1ms/step - loss: 0.3976 - acc: 0.8331 - val_loss: 0.4589 - val_acc: 0.8009\n",
      "Epoch 87/150\n",
      "3888/3888 [==============================] - 5s 1ms/step - loss: 0.3968 - acc: 0.8344 - val_loss: 0.4579 - val_acc: 0.8032\n",
      "Epoch 88/150\n",
      "3888/3888 [==============================] - 5s 1ms/step - loss: 0.3973 - acc: 0.8369 - val_loss: 0.4522 - val_acc: 0.8171\n",
      "Epoch 89/150\n",
      "3888/3888 [==============================] - 5s 1ms/step - loss: 0.3950 - acc: 0.8338 - val_loss: 0.4671 - val_acc: 0.8009\n",
      "Epoch 90/150\n",
      "3888/3888 [==============================] - 5s 1ms/step - loss: 0.3916 - acc: 0.8398 - val_loss: 0.4491 - val_acc: 0.8194\n",
      "Epoch 91/150\n",
      "3888/3888 [==============================] - 5s 1ms/step - loss: 0.3895 - acc: 0.8395 - val_loss: 0.4570 - val_acc: 0.8079\n",
      "Epoch 92/150\n",
      "3888/3888 [==============================] - 5s 1ms/step - loss: 0.3880 - acc: 0.8431 - val_loss: 0.4585 - val_acc: 0.8009\n",
      "Epoch 93/150\n",
      "3888/3888 [==============================] - 5s 1ms/step - loss: 0.3901 - acc: 0.8410 - val_loss: 0.4598 - val_acc: 0.8032\n",
      "Epoch 94/150\n",
      "3888/3888 [==============================] - 5s 1ms/step - loss: 0.3836 - acc: 0.8447 - val_loss: 0.4474 - val_acc: 0.8125\n",
      "Epoch 95/150\n",
      "3888/3888 [==============================] - 5s 1ms/step - loss: 0.3841 - acc: 0.8434 - val_loss: 0.4852 - val_acc: 0.7917\n",
      "Epoch 96/150\n",
      "3888/3888 [==============================] - 5s 1ms/step - loss: 0.3814 - acc: 0.8498 - val_loss: 0.4799 - val_acc: 0.7940\n",
      "Epoch 97/150\n",
      "3888/3888 [==============================] - 5s 1ms/step - loss: 0.3819 - acc: 0.8452 - val_loss: 0.4425 - val_acc: 0.8171\n",
      "Epoch 98/150\n",
      "3888/3888 [==============================] - 5s 1ms/step - loss: 0.3799 - acc: 0.8495 - val_loss: 0.4549 - val_acc: 0.8241\n",
      "Epoch 99/150\n",
      "3888/3888 [==============================] - 5s 1ms/step - loss: 0.3758 - acc: 0.8452 - val_loss: 0.4440 - val_acc: 0.8125\n",
      "Epoch 100/150\n",
      "3888/3888 [==============================] - 5s 1ms/step - loss: 0.3755 - acc: 0.8480 - val_loss: 0.4536 - val_acc: 0.7940\n",
      "Epoch 101/150\n",
      "3888/3888 [==============================] - 5s 1ms/step - loss: 0.3738 - acc: 0.8498 - val_loss: 0.4675 - val_acc: 0.7801\n",
      "Epoch 102/150\n",
      "3888/3888 [==============================] - 5s 1ms/step - loss: 0.3748 - acc: 0.8508 - val_loss: 0.4509 - val_acc: 0.8102\n",
      "Epoch 103/150\n",
      "3888/3888 [==============================] - 5s 1ms/step - loss: 0.3693 - acc: 0.8508 - val_loss: 0.4699 - val_acc: 0.8032\n",
      "Epoch 104/150\n",
      "3888/3888 [==============================] - 5s 1ms/step - loss: 0.3695 - acc: 0.8531 - val_loss: 0.4393 - val_acc: 0.8171\n",
      "Epoch 105/150\n",
      "3888/3888 [==============================] - 5s 1ms/step - loss: 0.3700 - acc: 0.8511 - val_loss: 0.4692 - val_acc: 0.8032\n",
      "Epoch 106/150\n",
      "3888/3888 [==============================] - 5s 1ms/step - loss: 0.3684 - acc: 0.8519 - val_loss: 0.4390 - val_acc: 0.8102\n",
      "Epoch 107/150\n",
      "3888/3888 [==============================] - 5s 1ms/step - loss: 0.3640 - acc: 0.8531 - val_loss: 0.4438 - val_acc: 0.8148\n",
      "Epoch 108/150\n",
      "3888/3888 [==============================] - 5s 1ms/step - loss: 0.3646 - acc: 0.8511 - val_loss: 0.4459 - val_acc: 0.8079\n",
      "Epoch 109/150\n",
      "3888/3888 [==============================] - 5s 1ms/step - loss: 0.3660 - acc: 0.8529 - val_loss: 0.4412 - val_acc: 0.8287\n",
      "Epoch 110/150\n",
      "3888/3888 [==============================] - 5s 1ms/step - loss: 0.3615 - acc: 0.8567 - val_loss: 0.4459 - val_acc: 0.8056\n",
      "Epoch 111/150\n",
      "3888/3888 [==============================] - 5s 1ms/step - loss: 0.3607 - acc: 0.8531 - val_loss: 0.4419 - val_acc: 0.8125\n",
      "Epoch 112/150\n",
      "3888/3888 [==============================] - 5s 1ms/step - loss: 0.3590 - acc: 0.8575 - val_loss: 0.4352 - val_acc: 0.8171\n",
      "Epoch 113/150\n",
      "3888/3888 [==============================] - 5s 1ms/step - loss: 0.3565 - acc: 0.8565 - val_loss: 0.4482 - val_acc: 0.8056\n",
      "Epoch 114/150\n",
      "3888/3888 [==============================] - 5s 1ms/step - loss: 0.3575 - acc: 0.8552 - val_loss: 0.4386 - val_acc: 0.8264\n",
      "Epoch 115/150\n",
      "3888/3888 [==============================] - 5s 1ms/step - loss: 0.3542 - acc: 0.8573 - val_loss: 0.4311 - val_acc: 0.8264\n",
      "Epoch 116/150\n",
      "3888/3888 [==============================] - 5s 1ms/step - loss: 0.3536 - acc: 0.8609 - val_loss: 0.4397 - val_acc: 0.8241\n",
      "Epoch 117/150\n",
      "3888/3888 [==============================] - 5s 1ms/step - loss: 0.3574 - acc: 0.8552 - val_loss: 0.4341 - val_acc: 0.8171\n",
      "Epoch 118/150\n",
      "3888/3888 [==============================] - 5s 1ms/step - loss: 0.3487 - acc: 0.8583 - val_loss: 0.4339 - val_acc: 0.8194\n",
      "Epoch 119/150\n",
      "3888/3888 [==============================] - 5s 1ms/step - loss: 0.3503 - acc: 0.8606 - val_loss: 0.4623 - val_acc: 0.8056\n",
      "Epoch 120/150\n",
      "3888/3888 [==============================] - 5s 1ms/step - loss: 0.3478 - acc: 0.8606 - val_loss: 0.4376 - val_acc: 0.8241\n",
      "Epoch 121/150\n"
     ]
    },
    {
     "name": "stdout",
     "output_type": "stream",
     "text": [
      "3888/3888 [==============================] - 5s 1ms/step - loss: 0.3459 - acc: 0.8627 - val_loss: 0.4278 - val_acc: 0.8125\n",
      "Epoch 122/150\n",
      "3888/3888 [==============================] - 5s 1ms/step - loss: 0.3460 - acc: 0.8627 - val_loss: 0.4521 - val_acc: 0.8241\n",
      "Epoch 123/150\n",
      "3888/3888 [==============================] - 5s 1ms/step - loss: 0.3456 - acc: 0.8619 - val_loss: 0.4493 - val_acc: 0.8079\n",
      "Epoch 124/150\n",
      "3888/3888 [==============================] - 5s 1ms/step - loss: 0.3432 - acc: 0.8621 - val_loss: 0.4363 - val_acc: 0.8171\n",
      "Epoch 125/150\n",
      "3888/3888 [==============================] - 5s 1ms/step - loss: 0.3431 - acc: 0.8611 - val_loss: 0.4672 - val_acc: 0.8171\n",
      "Epoch 126/150\n",
      "3888/3888 [==============================] - 5s 1ms/step - loss: 0.3427 - acc: 0.8632 - val_loss: 0.4374 - val_acc: 0.8287\n",
      "Epoch 127/150\n",
      "3888/3888 [==============================] - 5s 1ms/step - loss: 0.3390 - acc: 0.8652 - val_loss: 0.4286 - val_acc: 0.8264\n",
      "Epoch 128/150\n",
      "3888/3888 [==============================] - 5s 1ms/step - loss: 0.3388 - acc: 0.8678 - val_loss: 0.4269 - val_acc: 0.8264\n",
      "Epoch 129/150\n",
      "3888/3888 [==============================] - 5s 1ms/step - loss: 0.3389 - acc: 0.8642 - val_loss: 0.4419 - val_acc: 0.8194\n",
      "Epoch 130/150\n",
      "3888/3888 [==============================] - 5s 1ms/step - loss: 0.3409 - acc: 0.8650 - val_loss: 0.4436 - val_acc: 0.8264\n",
      "Epoch 131/150\n",
      "3888/3888 [==============================] - 5s 1ms/step - loss: 0.3384 - acc: 0.8660 - val_loss: 0.4527 - val_acc: 0.8171\n",
      "Epoch 132/150\n",
      "3888/3888 [==============================] - 5s 1ms/step - loss: 0.3331 - acc: 0.8681 - val_loss: 0.4389 - val_acc: 0.8218\n",
      "Epoch 133/150\n",
      "3888/3888 [==============================] - 5s 1ms/step - loss: 0.3327 - acc: 0.8706 - val_loss: 0.4310 - val_acc: 0.8241\n",
      "Epoch 134/150\n",
      "3888/3888 [==============================] - 5s 1ms/step - loss: 0.3325 - acc: 0.8683 - val_loss: 0.4262 - val_acc: 0.8241\n",
      "Epoch 135/150\n",
      "3888/3888 [==============================] - 5s 1ms/step - loss: 0.3328 - acc: 0.8670 - val_loss: 0.4280 - val_acc: 0.8310\n",
      "Epoch 136/150\n",
      "3888/3888 [==============================] - 5s 1ms/step - loss: 0.3329 - acc: 0.8665 - val_loss: 0.4686 - val_acc: 0.8125\n",
      "Epoch 137/150\n",
      "3888/3888 [==============================] - 5s 1ms/step - loss: 0.3413 - acc: 0.8619 - val_loss: 0.4421 - val_acc: 0.8102\n",
      "Epoch 138/150\n",
      "3888/3888 [==============================] - 5s 1ms/step - loss: 0.3275 - acc: 0.8688 - val_loss: 0.4248 - val_acc: 0.8333\n",
      "Epoch 139/150\n",
      "3888/3888 [==============================] - 5s 1ms/step - loss: 0.3268 - acc: 0.8699 - val_loss: 0.4460 - val_acc: 0.8218\n",
      "Epoch 140/150\n",
      "3888/3888 [==============================] - 5s 1ms/step - loss: 0.3268 - acc: 0.8696 - val_loss: 0.4179 - val_acc: 0.8333\n",
      "Epoch 141/150\n",
      "3888/3888 [==============================] - 5s 1ms/step - loss: 0.3277 - acc: 0.8701 - val_loss: 0.4216 - val_acc: 0.8356\n",
      "Epoch 142/150\n",
      "3888/3888 [==============================] - 5s 1ms/step - loss: 0.3230 - acc: 0.8693 - val_loss: 0.4290 - val_acc: 0.8287\n",
      "Epoch 143/150\n",
      "3888/3888 [==============================] - 5s 1ms/step - loss: 0.3240 - acc: 0.8701 - val_loss: 0.4288 - val_acc: 0.8194\n",
      "Epoch 144/150\n",
      "3888/3888 [==============================] - 5s 1ms/step - loss: 0.3205 - acc: 0.8755 - val_loss: 0.4256 - val_acc: 0.8241\n",
      "Epoch 145/150\n",
      "3888/3888 [==============================] - 5s 1ms/step - loss: 0.3229 - acc: 0.8719 - val_loss: 0.4773 - val_acc: 0.8125\n",
      "Epoch 146/150\n",
      "3888/3888 [==============================] - 5s 1ms/step - loss: 0.3257 - acc: 0.8704 - val_loss: 0.4485 - val_acc: 0.8148\n",
      "Epoch 147/150\n",
      "3888/3888 [==============================] - 5s 1ms/step - loss: 0.3220 - acc: 0.8732 - val_loss: 0.4166 - val_acc: 0.8310\n",
      "Epoch 148/150\n",
      "3888/3888 [==============================] - 5s 1ms/step - loss: 0.3186 - acc: 0.8737 - val_loss: 0.4189 - val_acc: 0.8356\n",
      "Epoch 149/150\n",
      "3888/3888 [==============================] - 5s 1ms/step - loss: 0.3200 - acc: 0.8724 - val_loss: 0.4377 - val_acc: 0.8241\n",
      "Epoch 150/150\n",
      "3888/3888 [==============================] - 5s 1ms/step - loss: 0.3166 - acc: 0.8740 - val_loss: 0.4347 - val_acc: 0.8310\n"
     ]
    }
   ],
   "source": [
    "model = Sequential()\n",
    "#model.add(CuDNNLSTM(8, input_shape=(1000, 8), return_sequences=True))\n",
    "model.add(Bidirectional(CuDNNLSTM(8), input_shape=(1000, 8)))\n",
    "#model.add(CuDNNLSTM(8, return_sequences=True))\n",
    "#model.add(CuDNNLSTM(4, return_sequences=True))\n",
    "#model.add(CuDNNLSTM(4))\n",
    "model.add(Dense(1, activation='sigmoid'))\n",
    "model.compile(optimizer='rmsprop', loss='binary_crossentropy', metrics=['acc'])\n",
    "history = model.fit(X_train_rnn, y_train, epochs=150, batch_size=128, validation_split=0.1)"
   ]
  },
  {
   "cell_type": "markdown",
   "metadata": {},
   "source": [
    "**Result**:\n",
    "\n",
    "The following cell **visualize** the training/validation accuracies and losses over each epoch."
   ]
  },
  {
   "cell_type": "code",
   "execution_count": 9,
   "metadata": {},
   "outputs": [
    {
     "data": {
      "image/png": "[encoded data removed]",
      "text/plain": [
       "<Figure size 432x288 with 1 Axes>"
      ]
     },
     "metadata": {},
     "output_type": "display_data"
    },
    {
     "data": {
      "image/png": "[encoded data removed]",
      "text/plain": [
       "<Figure size 432x288 with 1 Axes>"
      ]
     },
     "metadata": {},
     "output_type": "display_data"
    }
   ],
   "source": [
    "acc = history.history['acc']\n",
    "val_acc = history.history['val_acc']\n",
    "loss = history.history['loss']\n",
    "val_loss = history.history['val_loss']\n",
    "\n",
    "epochs = range(1, len(acc) + 1)\n",
    "\n",
    "plt.plot(epochs, acc, 'bo', label='Training Accuracy')\n",
    "plt.plot(epochs, val_acc, 'b', label='Validation Accuracy')\n",
    "plt.title('Training and Validation Accuracy')\n",
    "plt.xlabel('epoches')\n",
    "plt.legend()\n",
    "\n",
    "plt.figure()\n",
    "\n",
    "plt.plot(epochs, loss, 'bo', label='Training Loss')\n",
    "plt.plot(epochs, val_loss, 'b', label='Validation Loss')\n",
    "plt.title('Training and Validation Loss')\n",
    "plt.xlabel('epoches')\n",
    "plt.legend()\n",
    "\n",
    "plt.show()"
   ]
  },
  {
   "cell_type": "code",
   "execution_count": 10,
   "metadata": {},
   "outputs": [
    {
     "name": "stdout",
     "output_type": "stream",
     "text": [
      "Save model to models/adam_2019_01_29.json\n"
     ]
    }
   ],
   "source": [
    "import utility\n",
    "utility.save_model(model, 'models/adam_2019_01_29.json', 'models/adam_2019_01_29_weights.h5')\n"
   ]
  },
  {
   "cell_type": "markdown",
   "metadata": {},
   "source": [
    "- The validation trend now follows closely to the training trend.\n",
    "\n",
    "**Conclusion**:\n",
    "\n",
    "- The result of the experiment demonstrates a marked improvement over previous experiments and suggests that the combination of shuffling the data and using a bidirectional neural network improves accuracy.\n",
    "- To summarize, for any sequence, its most resemblance sequences are its 23 ‘siblings’. If we don’t shuffle the data, either all 24 ‘siblings’ are in the training data, or all of them are in the validation data. By shuffling them, the 24 ‘siblings’ are randomly distributed into both training and validation data, allowing us to extract more information."
   ]
  },
  {
   "cell_type": "code",
   "execution_count": null,
   "metadata": {},
   "outputs": [],
   "source": []
  }
 ],
 "metadata": {
  "kernelspec": {
   "display_name": "Environment (conda_tensorflow_p36)",
   "language": "python",
   "name": "conda_tensorflow_p36"
  },
  "language_info": {
   "codemirror_mode": {
    "name": "ipython",
    "version": 3
   },
   "file_extension": ".py",
   "mimetype": "text/x-python",
   "name": "python",
   "nbconvert_exporter": "python",
   "pygments_lexer": "ipython3",
   "version": "3.6.4"
  }
 },
 "nbformat": 4,
 "nbformat_minor": 2
}
