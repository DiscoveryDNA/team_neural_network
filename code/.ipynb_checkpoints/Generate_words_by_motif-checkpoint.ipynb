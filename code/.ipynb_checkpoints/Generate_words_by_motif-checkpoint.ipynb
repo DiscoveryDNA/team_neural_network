{
 "cells": [
  {
   "cell_type": "code",
   "execution_count": 1,
   "metadata": {},
   "outputs": [],
   "source": [
    "import numpy as np\n",
    "import os\n",
    "import pickle"
   ]
  },
  {
   "cell_type": "code",
   "execution_count": 2,
   "metadata": {},
   "outputs": [],
   "source": [
    "# May add more motifs in the future to this list\n",
    "jaspar_list = [\"MA0049.1_hb.jaspar\", \"MA0216.2_cad.jaspar\", \"MA0212.1_bcd.jaspar\", \"MA0447.1_gt.jaspar\"]\n",
    "\n",
    "# Modify this path appropriately\n",
    "jaspar_path = \"/home/zhanyuan/uc-berkeley/discoverydna/team_neural_network/data/input/jaspar_pwm/\""
   ]
  },
  {
   "cell_type": "code",
   "execution_count": 3,
   "metadata": {},
   "outputs": [
    {
     "data": {
      "text/plain": [
       "['>MA0447.1\\tgt\\n',\n",
       " 'A  [    28      0      1     54      0      7      0     55     60      2 ]\\n',\n",
       " 'C  [     5      0      1      0     53      0      6      3      0     25 ]\\n',\n",
       " 'G  [    25      0      3      6      0     53      0      1      0      5 ]\\n',\n",
       " 'T  [     2     60     55      0      7      0     54      1      0     28 ]\\n']"
      ]
     },
     "execution_count": 3,
     "metadata": {},
     "output_type": "execute_result"
    }
   ],
   "source": [
    "# Change the index according to the jaspar_list\n",
    "data = open(jaspar_path + jaspar_list[3], 'r').readlines()\n",
    "\n",
    "# Extract the name of the motif for buffering\n",
    "motif_name = data[0].split()[1]\n",
    "\n",
    "# The first digit shows up at START, the last one shows up at END\n",
    "start = 4\n",
    "end = len(data[1]) - 3\n",
    "\n",
    "data"
   ]
  },
  {
   "cell_type": "code",
   "execution_count": 4,
   "metadata": {},
   "outputs": [
    {
     "data": {
      "text/plain": [
       "[[28.0, 0.0, 1.0, 54.0, 0.0, 7.0, 0.0, 55.0, 60.0, 2.0],\n",
       " [5.0, 0.0, 1.0, 0.0, 53.0, 0.0, 6.0, 3.0, 0.0, 25.0],\n",
       " [25.0, 0.0, 3.0, 6.0, 0.0, 53.0, 0.0, 1.0, 0.0, 5.0],\n",
       " [2.0, 60.0, 55.0, 0.0, 7.0, 0.0, 54.0, 1.0, 0.0, 28.0]]"
      ]
     },
     "execution_count": 4,
     "metadata": {},
     "output_type": "execute_result"
    }
   ],
   "source": [
    "pre_pwm = []\n",
    "for a_line in data[1:]:\n",
    "    row = a_line.split(\"\\t\")[0][start:end]\n",
    "    numbers = row.split() \n",
    "    entries = [float(k) for k in numbers] # cast to float\n",
    "    pre_pwm.append(entries)\n",
    "pre_pwm"
   ]
  },
  {
   "cell_type": "code",
   "execution_count": 5,
   "metadata": {},
   "outputs": [
    {
     "name": "stdout",
     "output_type": "stream",
     "text": [
      "[[ 0.62415431        -inf -2.7080502   1.28093385        -inf -0.76214005\n",
      "         -inf  1.29928298  1.38629436 -2.01490302]\n",
      " [-1.09861229        -inf -2.7080502         -inf  1.26224171        -inf\n",
      "  -0.91629073 -1.60943791        -inf  0.51082562]\n",
      " [ 0.51082562        -inf -1.60943791 -0.91629073        -inf  1.26224171\n",
      "         -inf -2.7080502         -inf -1.09861229]\n",
      " [-2.01490302  1.38629436  1.29928298        -inf -0.76214005        -inf\n",
      "   1.28093385 -2.7080502         -inf  0.62415431]]\n"
     ]
    },
    {
     "name": "stderr",
     "output_type": "stream",
     "text": [
      "/usr/lib/python3/dist-packages/ipykernel_launcher.py:14: RuntimeWarning: divide by zero encountered in log\n",
      "  \n"
     ]
    }
   ],
   "source": [
    "# Convert the 2D list into a matrix\n",
    "hbpwm = np.matrix(pre_pwm)\n",
    "\n",
    "# Find the length of the words\n",
    "word_length = len(pre_pwm[0])\n",
    "\n",
    "# Determine the background model (assuming ATCG show up uniformly)\n",
    "total_obs = 0\n",
    "for i in range(len(pre_pwm)):\n",
    "    total_obs += pre_pwm[i][0]\n",
    "b = total_obs/4\n",
    "\n",
    "# Transform the entries by taking log\n",
    "log_hbpwm = np.log(hbpwm/b)\n",
    "print(log_hbpwm)"
   ]
  },
  {
   "cell_type": "code",
   "execution_count": 6,
   "metadata": {},
   "outputs": [
    {
     "data": {
      "text/plain": [
       "[(0, 0),\n",
       " (0, 3),\n",
       " (0, 7),\n",
       " (0, 8),\n",
       " (1, 4),\n",
       " (1, 9),\n",
       " (2, 0),\n",
       " (2, 5),\n",
       " (3, 1),\n",
       " (3, 2),\n",
       " (3, 6),\n",
       " (3, 9)]"
      ]
     },
     "execution_count": 6,
     "metadata": {},
     "output_type": "execute_result"
    }
   ],
   "source": [
    "positive_entries = []\n",
    "for i in range (log_hbpwm.shape[0]):\n",
    "    for j in range(log_hbpwm.shape[1]):\n",
    "        if log_hbpwm[i, j] > 0:\n",
    "            positive_entries.append((i, j))\n",
    "positive_entries"
   ]
  },
  {
   "cell_type": "code",
   "execution_count": 7,
   "metadata": {},
   "outputs": [
    {
     "name": "stdout",
     "output_type": "stream",
     "text": [
      "[['A', 'G'], ['T'], ['T'], ['A'], ['C'], ['G'], ['T'], ['A'], ['A'], ['C', 'T']]\n"
     ]
    }
   ],
   "source": [
    "ACGT = {0:\"A\", 1:\"C\", 2:\"G\", 3:\"T\"}\n",
    "pairs = []\n",
    "for i in range(0, word_length):\n",
    "    temp = []\n",
    "    for j in range(0, len(positive_entries)):\n",
    "        if (positive_entries[j][1] == i):\n",
    "            temp.append(ACGT[positive_entries[j][0]])\n",
    "    pairs.append(temp)\n",
    "print(pairs)"
   ]
  },
  {
   "cell_type": "code",
   "execution_count": 8,
   "metadata": {},
   "outputs": [],
   "source": [
    "# Find all the words by dynamic programming\n",
    "W = [pairs[0]]\n",
    "for i in range(1, len(pairs)):\n",
    "    temp = W[i - 1].copy()\n",
    "    W.append([])\n",
    "    for char in pairs[i]:\n",
    "        for word in temp:\n",
    "            W[i].append(word+char)"
   ]
  },
  {
   "cell_type": "code",
   "execution_count": 9,
   "metadata": {},
   "outputs": [
    {
     "data": {
      "text/plain": [
       "['ATTACGTAAC', 'GTTACGTAAC', 'ATTACGTAAT', 'GTTACGTAAT']"
      ]
     },
     "execution_count": 9,
     "metadata": {},
     "output_type": "execute_result"
    }
   ],
   "source": [
    "W[word_length - 1]"
   ]
  },
  {
   "cell_type": "code",
   "execution_count": 10,
   "metadata": {},
   "outputs": [],
   "source": [
    "buffer_file_path = jaspar_path + \"words_generated_by_\" + motif_name"
   ]
  },
  {
   "cell_type": "code",
   "execution_count": 11,
   "metadata": {},
   "outputs": [],
   "source": [
    "with open(buffer_file_path, \"wb\") as buff:\n",
    "    pickle.dump(W[word_length - 1], buff)"
   ]
  },
  {
   "cell_type": "code",
   "execution_count": null,
   "metadata": {},
   "outputs": [],
   "source": []
  }
 ],
 "metadata": {
  "kernelspec": {
   "display_name": "Python 3",
   "language": "python",
   "name": "python3"
  },
  "language_info": {
   "codemirror_mode": {
    "name": "ipython",
    "version": 3
   },
   "file_extension": ".py",
   "mimetype": "text/x-python",
   "name": "python",
   "nbconvert_exporter": "python",
   "pygments_lexer": "ipython3",
   "version": "3.6.6"
  }
 },
 "nbformat": 4,
 "nbformat_minor": 2
}
