{
 "cells": [
  {
   "cell_type": "markdown",
   "metadata": {},
   "source": [
    "**Date**: 2019-1-11\n",
    "\n",
    "**Authors**: Adam Stafford\n",
    "\n",
    "**Purpose**: To test the relationship between validation accuracy and alignment length.\n",
    "\n",
    "This notebook tests a naive alignment scheme that selects the first 1000 positions of a DNA sequence (add null positions to the end if a sequence is shorter than 1000), using the new data.\n",
    "\n",
    "**Background**:\n",
    "- This notebook is a follow-up experiment of `2018-07-11_lstm_naive_trimming_size_1000.ipynb`, but uses new data.\n",
    "- This notebook uses the one-hot encoded dna data buffered in `data/new_list_buffer.txt`. The buffered data is a concatenation of all files in `data/output` folder. The purpose of the buffering is to speed up the notebook.\n",
    "- The output data in `data/output` folder is based on the input data in folders `data/input/3.24_species_only` (the dna sequence data), and `data/input/5_TFBS_score_subset_30May2018` (the TFBS motif data).\n",
    "- The output data can be reproduced by running `code/utility/producing_output_files.ipynb` (not needed for running this notebook).\n",
    "- The data include 10752 dna sequences, each trimmed to a length of 1000 positions. For each position, one-hot encoding is applied, and three TFBS motif scores are attached. 9600 sequences are used as training sequences, among which 960 sequences are served as validation sequences.\n",
    "- There may be slight variation in the accuracy results in each rerun of the experient due to the inherent shuffling randomness of LSTM RNN network.\n",
    "- The notebook is catered for running on a computer that utilizes TensorFlow GPU acceleration. To run the notebook on a computer without GPU acceleration, change all `CuDNNLSTM` to `LSTM` (beware that the neural network training would be extremely slow without GPU acceleration).\n",
    "\n",
    "**Experiment**:"
   ]
  },
  {
   "cell_type": "code",
   "execution_count": 1,
   "metadata": {},
   "outputs": [
    {
     "name": "stderr",
     "output_type": "stream",
     "text": [
      "/home/ubuntu/anaconda3/envs/tensorflow_p36/lib/python3.6/site-packages/matplotlib/__init__.py:1067: UserWarning: Duplicate key in file \"/home/ubuntu/.config/matplotlib/matplotlibrc\", line #2\n",
      "  (fname, cnt))\n",
      "/home/ubuntu/anaconda3/envs/tensorflow_p36/lib/python3.6/site-packages/matplotlib/__init__.py:1067: UserWarning: Duplicate key in file \"/home/ubuntu/.config/matplotlib/matplotlibrc\", line #3\n",
      "  (fname, cnt))\n"
     ]
    }
   ],
   "source": [
    "import pickle\n",
    "import numpy as np\n",
    "import matplotlib.pyplot as plt"
   ]
  },
  {
   "cell_type": "markdown",
   "metadata": {},
   "source": [
    "Load the `pickle` buffered list:"
   ]
  },
  {
   "cell_type": "code",
   "execution_count": 2,
   "metadata": {},
   "outputs": [],
   "source": [
    "with open(\"../data/new_list_buffer.txt\", \"rb\") as buff:\n",
    "    seq_record_list = pickle.load(buff)"
   ]
  },
  {
   "cell_type": "markdown",
   "metadata": {},
   "source": [
    "The following cell transforms the data into a format that is recognizable by the neural network model."
   ]
  },
  {
   "cell_type": "code",
   "execution_count": 3,
   "metadata": {},
   "outputs": [],
   "source": [
    "# A helper function to flatten a 2d list to 1d.\n",
    "# Input: [[1, 2], [2, 3], [3, 4, 5]]\n",
    "# Output: [1, 2, 2, 3, 3, 4, 5]\n",
    "def flatten(lst):\n",
    "    new_lst = []\n",
    "    for sub_lst in lst:\n",
    "        for item in sub_lst:\n",
    "            new_lst.append(item)\n",
    "    return np.array(new_lst)\n",
    "\n",
    "# A helper function to transform a lst so that its length becomes read_len by:\n",
    "# 1. If len(lst) > read_len, curtail the end of the lst.\n",
    "# 2. If len(lst) < read_len, keep extending the end of the lst with 0 (NA).\n",
    "def curtail(lst, read_len):\n",
    "    if len(lst) > read_len:\n",
    "        lst = lst[:read_len]\n",
    "    else:\n",
    "        for i in range(read_len - len(lst)):\n",
    "            lst.append([0, 0, 0, 0, 0, 0, 0, 0])\n",
    "    return lst\n",
    "\n",
    "# Produce the train-test split\n",
    "# length_read: the length that you want all DNA sequences to conform to\n",
    "def prepare_input(training_size, test_size, length_read):\n",
    "    X_train = []\n",
    "    y_train = []\n",
    "    X_test = []\n",
    "    y_test = []\n",
    "    seq_count = 0\n",
    "    while seq_count < training_size:\n",
    "        X_train.append(flatten(curtail(seq_record_list[seq_count][3], length_read)))\n",
    "        y_train.append(int(seq_record_list[seq_count][1]))\n",
    "        seq_count += 1\n",
    "    while seq_count < (training_size + test_size):\n",
    "        X_test.append(flatten(curtail(seq_record_list[seq_count][3], length_read)))\n",
    "        y_test.append(int(seq_record_list[seq_count][1]))\n",
    "        seq_count += 1\n",
    "    return X_train, y_train, X_test, y_test\n",
    "\n",
    "# Turn list into numpy tensors that can directly feed into a neural network model\n",
    "def to_np_array(X_train, y_train, X_test, y_test):\n",
    "    X_train = np.array(X_train)\n",
    "    y_train = np.array(y_train)\n",
    "    if len(y_train.shape) == 1:\n",
    "        y_train = np.transpose(np.array([y_train]))\n",
    "    X_test = np.array(X_test)\n",
    "    y_test = np.transpose(np.array(y_test))\n",
    "    if len(y_test.shape) == 1:\n",
    "        y_test = np.transpose(np.array([y_test]))\n",
    "    return X_train, y_train, X_test, y_test"
   ]
  },
  {
   "cell_type": "code",
   "execution_count": 4,
   "metadata": {},
   "outputs": [
    {
     "data": {
      "text/plain": [
       "[(9600, 8000), (9600, 1), (1152, 8000), (1152, 1)]"
      ]
     },
     "execution_count": 4,
     "metadata": {},
     "output_type": "execute_result"
    }
   ],
   "source": [
    "X_train, y_train, X_test, y_test = prepare_input(9600, 1152, 1000)\n",
    "X_train, y_train, X_test, y_test = to_np_array(X_train, y_train, X_test, y_test)\n",
    "[X_train.shape, y_train.shape, X_test.shape, y_test.shape]"
   ]
  },
  {
   "cell_type": "markdown",
   "metadata": {},
   "source": [
    "The following cells build a recurrent network with four LSTM layers, with 8, 8, 4, 4 units respectively:"
   ]
  },
  {
   "cell_type": "code",
   "execution_count": 5,
   "metadata": {},
   "outputs": [
    {
     "name": "stderr",
     "output_type": "stream",
     "text": [
      "/home/ubuntu/anaconda3/envs/tensorflow_p36/lib/python3.6/site-packages/h5py/__init__.py:36: FutureWarning: Conversion of the second argument of issubdtype from `float` to `np.floating` is deprecated. In future, it will be treated as `np.float64 == np.dtype(float).type`.\n",
      "  from ._conv import register_converters as _register_converters\n",
      "Using TensorFlow backend.\n"
     ]
    }
   ],
   "source": [
    "from keras.models import Model, Sequential\n",
    "from keras.layers import Dense, CuDNNLSTM"
   ]
  },
  {
   "cell_type": "code",
   "execution_count": 8,
   "metadata": {},
   "outputs": [],
   "source": [
    "X_train_rnn = X_train.reshape(9600, 1000, 8)"
   ]
  },
  {
   "cell_type": "code",
   "execution_count": 10,
   "metadata": {
    "scrolled": true
   },
   "outputs": [
    {
     "name": "stdout",
     "output_type": "stream",
     "text": [
      "Train on 8640 samples, validate on 960 samples\n",
      "Epoch 1/20\n",
      "8640/8640 [==============================] - 106s 12ms/step - loss: 0.6902 - acc: 0.5223 - val_loss: 0.6911 - val_acc: 0.5156\n",
      "Epoch 2/20\n",
      "8640/8640 [==============================] - 16s 2ms/step - loss: 0.6846 - acc: 0.5186 - val_loss: 0.6951 - val_acc: 0.5115\n",
      "Epoch 3/20\n",
      "8640/8640 [==============================] - 17s 2ms/step - loss: 0.6821 - acc: 0.5221 - val_loss: 0.6982 - val_acc: 0.5229\n",
      "Epoch 4/20\n",
      "8640/8640 [==============================] - 17s 2ms/step - loss: 0.6813 - acc: 0.5240 - val_loss: 0.7010 - val_acc: 0.5073\n",
      "Epoch 5/20\n",
      "8640/8640 [==============================] - 17s 2ms/step - loss: 0.6809 - acc: 0.5286 - val_loss: 0.7015 - val_acc: 0.5156\n",
      "Epoch 6/20\n",
      "8640/8640 [==============================] - 17s 2ms/step - loss: 0.6804 - acc: 0.5334 - val_loss: 0.7034 - val_acc: 0.5094\n",
      "Epoch 7/20\n",
      "8640/8640 [==============================] - 17s 2ms/step - loss: 0.6798 - acc: 0.5413 - val_loss: 0.7049 - val_acc: 0.5073\n",
      "Epoch 8/20\n",
      "8640/8640 [==============================] - 17s 2ms/step - loss: 0.6789 - acc: 0.5461 - val_loss: 0.7077 - val_acc: 0.4927\n",
      "Epoch 9/20\n",
      "8640/8640 [==============================] - 17s 2ms/step - loss: 0.6779 - acc: 0.5407 - val_loss: 0.7089 - val_acc: 0.4823\n",
      "Epoch 10/20\n",
      "8640/8640 [==============================] - 17s 2ms/step - loss: 0.6762 - acc: 0.5596 - val_loss: 0.7126 - val_acc: 0.4677\n",
      "Epoch 11/20\n",
      "8640/8640 [==============================] - 17s 2ms/step - loss: 0.6754 - acc: 0.5618 - val_loss: 0.7143 - val_acc: 0.4938\n",
      "Epoch 12/20\n",
      "8640/8640 [==============================] - 17s 2ms/step - loss: 0.6748 - acc: 0.5611 - val_loss: 0.7188 - val_acc: 0.4719\n",
      "Epoch 13/20\n",
      "8640/8640 [==============================] - 17s 2ms/step - loss: 0.6739 - acc: 0.5609 - val_loss: 0.7204 - val_acc: 0.4677\n",
      "Epoch 14/20\n",
      "8640/8640 [==============================] - 17s 2ms/step - loss: 0.6729 - acc: 0.5622 - val_loss: 0.7258 - val_acc: 0.4917\n",
      "Epoch 15/20\n",
      "8640/8640 [==============================] - 17s 2ms/step - loss: 0.6724 - acc: 0.5686 - val_loss: 0.7243 - val_acc: 0.4667\n",
      "Epoch 16/20\n",
      "8640/8640 [==============================] - 17s 2ms/step - loss: 0.6718 - acc: 0.5675 - val_loss: 0.7308 - val_acc: 0.4708\n",
      "Epoch 17/20\n",
      "8640/8640 [==============================] - 17s 2ms/step - loss: 0.6703 - acc: 0.5735 - val_loss: 0.7299 - val_acc: 0.4510\n",
      "Epoch 18/20\n",
      "8640/8640 [==============================] - 17s 2ms/step - loss: 0.6700 - acc: 0.5722 - val_loss: 0.7293 - val_acc: 0.4625\n",
      "Epoch 19/20\n",
      "8640/8640 [==============================] - 17s 2ms/step - loss: 0.6692 - acc: 0.5766 - val_loss: 0.7324 - val_acc: 0.4573\n",
      "Epoch 20/20\n",
      "8640/8640 [==============================] - 17s 2ms/step - loss: 0.6676 - acc: 0.5788 - val_loss: 0.7384 - val_acc: 0.4594\n"
     ]
    }
   ],
   "source": [
    "model = Sequential()\n",
    "model.add(CuDNNLSTM(8, input_shape=(1000, 8), return_sequences=True))\n",
    "#model.add(CuDNNLSTM(8, return_sequences=True))\n",
    "model.add(CuDNNLSTM(4, return_sequences=True))\n",
    "model.add(CuDNNLSTM(4))\n",
    "model.add(Dense(1, activation='sigmoid'))\n",
    "model.compile(optimizer='rmsprop', loss='binary_crossentropy', metrics=['acc'])\n",
    "history = model.fit(X_train_rnn, y_train, epochs=20, batch_size=128, validation_split=0.1)"
   ]
  },
  {
   "cell_type": "markdown",
   "metadata": {},
   "source": [
    "**Result**:\n",
    "\n",
    "The following cell **visualize** the training/validation accuracies and losses over each epoch."
   ]
  },
  {
   "cell_type": "code",
   "execution_count": 11,
   "metadata": {},
   "outputs": [
    {
     "data": {
      "image/png": "[encoded data removed]",
      "text/plain": [
       "<Figure size 432x288 with 1 Axes>"
      ]
     },
     "metadata": {},
     "output_type": "display_data"
    },
    {
     "data": {
      "image/png": "[encoded data removed]",
      "text/plain": [
       "<Figure size 432x288 with 1 Axes>"
      ]
     },
     "metadata": {},
     "output_type": "display_data"
    }
   ],
   "source": [
    "acc = history.history['acc']\n",
    "val_acc = history.history['val_acc']\n",
    "loss = history.history['loss']\n",
    "val_loss = history.history['val_loss']\n",
    "\n",
    "epochs = range(1, len(acc) + 1)\n",
    "\n",
    "plt.plot(epochs, acc, 'bo', label='Training Accuracy')\n",
    "plt.plot(epochs, val_acc, 'b', label='Validation Accuracy')\n",
    "plt.title('Training and Validation Accuracy')\n",
    "plt.xlabel('epoches')\n",
    "plt.legend()\n",
    "\n",
    "plt.figure()\n",
    "\n",
    "plt.plot(epochs, loss, 'bo', label='Training Loss')\n",
    "plt.plot(epochs, val_loss, 'b', label='Validation Loss')\n",
    "plt.title('Training and Validation Loss')\n",
    "plt.xlabel('epoches')\n",
    "plt.legend()\n",
    "\n",
    "plt.show()"
   ]
  },
  {
   "cell_type": "markdown",
   "metadata": {},
   "source": [
    "**Conclusion**:\n",
    "\n",
    "- This classification does not work at all for the new data, with best accuracy being essentially equal to random guessing."
   ]
  },
  {
   "cell_type": "code",
   "execution_count": null,
   "metadata": {},
   "outputs": [],
   "source": []
  }
 ],
 "metadata": {
  "kernelspec": {
   "display_name": "Environment (conda_tensorflow_p36)",
   "language": "python",
   "name": "conda_tensorflow_p36"
  },
  "language_info": {
   "codemirror_mode": {
    "name": "ipython",
    "version": 3
   },
   "file_extension": ".py",
   "mimetype": "text/x-python",
   "name": "python",
   "nbconvert_exporter": "python",
   "pygments_lexer": "ipython3",
   "version": "3.6.4"
  }
 },
 "nbformat": 4,
 "nbformat_minor": 2
}
