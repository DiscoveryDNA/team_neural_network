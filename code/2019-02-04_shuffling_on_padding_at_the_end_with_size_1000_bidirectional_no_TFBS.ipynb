{
 "cells": [
  {
   "cell_type": "markdown",
   "metadata": {},
   "source": [
    "**Date**: 2019-02-08\n",
    "\n",
    "**Authors**: Adam Stafford\n",
    "\n",
    "**Purpose**: To test whether the experiment using the bidirectional LTSM from 2018-01-29 will work with only the DNA sequence without the TFBS data.\n",
    "\n",
    "This notebook tests a naive alignment scheme that selects the first 1000 positions of a DNA sequence (add null positions to the end if a sequence is shorter than 1000). The sequences are shuffled before feeding into the neural network.\n",
    "\n",
    "**Background**:\n",
    "- The idea of this experiment is to understand how the DNA sequences contribute to the accuracy of the model from 2018-01-29. For this purpose, we run the neural network without the TFBS data.\n",
    "\n",
    "**Experiment**:"
   ]
  },
  {
   "cell_type": "code",
   "execution_count": 1,
   "metadata": {},
   "outputs": [
    {
     "name": "stderr",
     "output_type": "stream",
     "text": [
      "/home/ubuntu/anaconda3/envs/tensorflow_p36/lib/python3.6/site-packages/matplotlib/__init__.py:1067: UserWarning: Duplicate key in file \"/home/ubuntu/.config/matplotlib/matplotlibrc\", line #2\n",
      "  (fname, cnt))\n",
      "/home/ubuntu/anaconda3/envs/tensorflow_p36/lib/python3.6/site-packages/matplotlib/__init__.py:1067: UserWarning: Duplicate key in file \"/home/ubuntu/.config/matplotlib/matplotlibrc\", line #3\n",
      "  (fname, cnt))\n"
     ]
    }
   ],
   "source": [
    "import pickle\n",
    "import numpy as np\n",
    "import matplotlib.pyplot as plt"
   ]
  },
  {
   "cell_type": "markdown",
   "metadata": {},
   "source": [
    "Load the `pickle` buffered list:"
   ]
  },
  {
   "cell_type": "code",
   "execution_count": 2,
   "metadata": {},
   "outputs": [],
   "source": [
    "with open(\"../data/new_list_buffer.txt\", \"rb\") as buff:\n",
    "    seq_record_list = pickle.load(buff)"
   ]
  },
  {
   "cell_type": "markdown",
   "metadata": {},
   "source": [
    "The following cell retains only 4800 sequences, for the purpose of testing speed. It also randomly shuffles the 4800 sequences."
   ]
  },
  {
   "cell_type": "code",
   "execution_count": 3,
   "metadata": {},
   "outputs": [],
   "source": [
    "seq_record_list = seq_record_list[:4800]\n",
    "from random import shuffle\n",
    "shuffle(seq_record_list)"
   ]
  },
  {
   "cell_type": "markdown",
   "metadata": {},
   "source": [
    "The following cell transforms the data into a format that is recognizable by the neural network model, but ignores the TFBS data."
   ]
  },
  {
   "cell_type": "code",
   "execution_count": 4,
   "metadata": {},
   "outputs": [],
   "source": [
    "# A helper function to flatten a 2d list to 1d.\n",
    "# Input: [[1, 2], [2, 3], [3, 4, 5]]\n",
    "# Output: [1, 2, 2, 3, 3, 4, 5]\n",
    "def flatten(lst):\n",
    "    new_lst = []\n",
    "    for sub_lst in lst:\n",
    "        for item in sub_lst:\n",
    "            new_lst.append(item)\n",
    "    return new_lst\n",
    "\n",
    "# A helper function to transform a lst so that its length becomes read_len by:\n",
    "# 1. If len(lst) > read_len, curtail the end of the lst.\n",
    "# 2. If len(lst) < read_len, keep extending the end of the lst with 0 (NA).\n",
    "def curtail(lst, read_len):\n",
    "    for i in range(0, len(lst)):\n",
    "        lst[i] = lst[i][0:4]\n",
    "    if len(lst) > read_len:\n",
    "        lst = lst[:read_len]\n",
    "    else:\n",
    "        for i in range(read_len - len(lst)):\n",
    "            lst.append([0, 0, 0, 0])\n",
    "    return lst\n",
    "\n",
    "# Produce the train-test split\n",
    "# length_read: the length that you want all DNA sequences to conform to\n",
    "def prepare_input(training_size, test_size, length_read):\n",
    "    X_train = []\n",
    "    y_train = []\n",
    "    X_test = []\n",
    "    y_test = []\n",
    "    seq_count = 0\n",
    "    while seq_count < training_size:\n",
    "        X_train.append(flatten(curtail(seq_record_list[seq_count][3], length_read)))\n",
    "        y_train.append(int(seq_record_list[seq_count][1]))\n",
    "        seq_count += 1\n",
    "    while seq_count < (training_size + test_size):\n",
    "        X_test.append(flatten(curtail(seq_record_list[seq_count][3], length_read)))\n",
    "        y_test.append(int(seq_record_list[seq_count][1]))\n",
    "        seq_count += 1\n",
    "    return X_train, y_train, X_test, y_test\n",
    "\n",
    "# Turn list into numpy tensors that can directly feed into a neural network model\n",
    "def to_np_array(X_train, y_train, X_test, y_test):\n",
    "    X_train = np.array(X_train)\n",
    "    y_train = np.array(y_train)\n",
    "    if len(y_train.shape) == 1:\n",
    "        y_train = np.transpose(np.array([y_train]))\n",
    "    X_test = np.array(X_test)\n",
    "    y_test = np.transpose(np.array(y_test))\n",
    "    if len(y_test.shape) == 1:\n",
    "        y_test = np.transpose(np.array([y_test]))\n",
    "    return X_train, y_train, X_test, y_test"
   ]
  },
  {
   "cell_type": "code",
   "execution_count": 5,
   "metadata": {},
   "outputs": [
    {
     "data": {
      "text/plain": [
       "[(4320, 4000), (4320, 1), (480, 4000), (480, 1)]"
      ]
     },
     "execution_count": 5,
     "metadata": {},
     "output_type": "execute_result"
    }
   ],
   "source": [
    "X_train, y_train, X_test, y_test = prepare_input(4320, 480, 1000)\n",
    "X_train, y_train, X_test, y_test = to_np_array(X_train, y_train, X_test, y_test)\n",
    "[X_train.shape, y_train.shape, X_test.shape, y_test.shape]"
   ]
  },
  {
   "cell_type": "code",
   "execution_count": null,
   "metadata": {},
   "outputs": [],
   "source": []
  },
  {
   "cell_type": "markdown",
   "metadata": {},
   "source": [
    "The following cells build a recurrent network with one bidirectional LSTM layer."
   ]
  },
  {
   "cell_type": "code",
   "execution_count": 6,
   "metadata": {},
   "outputs": [
    {
     "name": "stderr",
     "output_type": "stream",
     "text": [
      "/home/ubuntu/anaconda3/envs/tensorflow_p36/lib/python3.6/site-packages/h5py/__init__.py:36: FutureWarning: Conversion of the second argument of issubdtype from `float` to `np.floating` is deprecated. In future, it will be treated as `np.float64 == np.dtype(float).type`.\n",
      "  from ._conv import register_converters as _register_converters\n",
      "Using TensorFlow backend.\n"
     ]
    }
   ],
   "source": [
    "from keras.models import Model, Sequential\n",
    "from keras.layers import Dense, CuDNNLSTM, Bidirectional"
   ]
  },
  {
   "cell_type": "code",
   "execution_count": 7,
   "metadata": {},
   "outputs": [],
   "source": [
    "X_train_rnn = X_train.reshape(4320, 1000, 4)"
   ]
  },
  {
   "cell_type": "code",
   "execution_count": 8,
   "metadata": {
    "scrolled": true
   },
   "outputs": [
    {
     "name": "stdout",
     "output_type": "stream",
     "text": [
      "Train on 3888 samples, validate on 432 samples\n",
      "Epoch 1/150\n",
      "3888/3888 [==============================] - 91s 23ms/step - loss: 0.6935 - acc: 0.5255 - val_loss: 0.6910 - val_acc: 0.5509\n",
      "Epoch 2/150\n",
      "3888/3888 [==============================] - 3s 687us/step - loss: 0.6911 - acc: 0.5324 - val_loss: 0.6891 - val_acc: 0.5440\n",
      "Epoch 3/150\n",
      "3888/3888 [==============================] - 3s 668us/step - loss: 0.6886 - acc: 0.5296 - val_loss: 0.6868 - val_acc: 0.5486\n",
      "Epoch 4/150\n",
      "3888/3888 [==============================] - 3s 691us/step - loss: 0.6858 - acc: 0.5324 - val_loss: 0.6836 - val_acc: 0.5347\n",
      "Epoch 5/150\n",
      "3888/3888 [==============================] - 3s 666us/step - loss: 0.6827 - acc: 0.5332 - val_loss: 0.6806 - val_acc: 0.5417\n",
      "Epoch 6/150\n",
      "3888/3888 [==============================] - 3s 665us/step - loss: 0.6801 - acc: 0.5350 - val_loss: 0.6782 - val_acc: 0.5347\n",
      "Epoch 7/150\n",
      "3888/3888 [==============================] - 3s 670us/step - loss: 0.6784 - acc: 0.5381 - val_loss: 0.6761 - val_acc: 0.5486\n",
      "Epoch 8/150\n",
      "3888/3888 [==============================] - 3s 669us/step - loss: 0.6774 - acc: 0.5381 - val_loss: 0.6749 - val_acc: 0.5509\n",
      "Epoch 9/150\n",
      "3888/3888 [==============================] - 3s 666us/step - loss: 0.6772 - acc: 0.5386 - val_loss: 0.6741 - val_acc: 0.5394\n",
      "Epoch 10/150\n",
      "3888/3888 [==============================] - 3s 681us/step - loss: 0.6768 - acc: 0.5352 - val_loss: 0.6738 - val_acc: 0.5625\n",
      "Epoch 11/150\n",
      "3888/3888 [==============================] - 3s 676us/step - loss: 0.6767 - acc: 0.5303 - val_loss: 0.6733 - val_acc: 0.5440\n",
      "Epoch 12/150\n",
      "3888/3888 [==============================] - 3s 671us/step - loss: 0.6763 - acc: 0.5319 - val_loss: 0.6735 - val_acc: 0.5486\n",
      "Epoch 13/150\n",
      "3888/3888 [==============================] - 3s 667us/step - loss: 0.6761 - acc: 0.5358 - val_loss: 0.6726 - val_acc: 0.5185\n",
      "Epoch 14/150\n",
      "3888/3888 [==============================] - 3s 672us/step - loss: 0.6760 - acc: 0.5324 - val_loss: 0.6726 - val_acc: 0.5231\n",
      "Epoch 15/150\n",
      "3888/3888 [==============================] - 3s 681us/step - loss: 0.6754 - acc: 0.5401 - val_loss: 0.6735 - val_acc: 0.5532\n",
      "Epoch 16/150\n",
      "3888/3888 [==============================] - 3s 657us/step - loss: 0.6755 - acc: 0.5383 - val_loss: 0.6724 - val_acc: 0.5324\n",
      "Epoch 17/150\n",
      "3888/3888 [==============================] - 3s 664us/step - loss: 0.6751 - acc: 0.5306 - val_loss: 0.6732 - val_acc: 0.5440\n",
      "Epoch 18/150\n",
      "3888/3888 [==============================] - 3s 664us/step - loss: 0.6751 - acc: 0.5383 - val_loss: 0.6728 - val_acc: 0.5301\n",
      "Epoch 19/150\n",
      "3888/3888 [==============================] - 3s 660us/step - loss: 0.6750 - acc: 0.5350 - val_loss: 0.6726 - val_acc: 0.5440\n",
      "Epoch 20/150\n",
      "3888/3888 [==============================] - 3s 662us/step - loss: 0.6748 - acc: 0.5368 - val_loss: 0.6730 - val_acc: 0.5278\n",
      "Epoch 21/150\n",
      "3888/3888 [==============================] - 3s 661us/step - loss: 0.6748 - acc: 0.5463 - val_loss: 0.6725 - val_acc: 0.5440\n",
      "Epoch 22/150\n",
      "3888/3888 [==============================] - 3s 661us/step - loss: 0.6746 - acc: 0.5417 - val_loss: 0.6726 - val_acc: 0.5347\n",
      "Epoch 23/150\n",
      "3888/3888 [==============================] - 3s 670us/step - loss: 0.6744 - acc: 0.5368 - val_loss: 0.6725 - val_acc: 0.5370\n",
      "Epoch 24/150\n",
      "3888/3888 [==============================] - 3s 665us/step - loss: 0.6744 - acc: 0.5373 - val_loss: 0.6726 - val_acc: 0.5417\n",
      "Epoch 25/150\n",
      "3888/3888 [==============================] - 3s 670us/step - loss: 0.6744 - acc: 0.5376 - val_loss: 0.6726 - val_acc: 0.5440\n",
      "Epoch 26/150\n",
      "3888/3888 [==============================] - 3s 663us/step - loss: 0.6742 - acc: 0.5432 - val_loss: 0.6727 - val_acc: 0.5370\n",
      "Epoch 27/150\n",
      "3888/3888 [==============================] - 3s 685us/step - loss: 0.6740 - acc: 0.5424 - val_loss: 0.6727 - val_acc: 0.5463\n",
      "Epoch 28/150\n",
      "3888/3888 [==============================] - 3s 667us/step - loss: 0.6740 - acc: 0.5463 - val_loss: 0.6736 - val_acc: 0.5069\n",
      "Epoch 29/150\n",
      "3888/3888 [==============================] - 3s 670us/step - loss: 0.6739 - acc: 0.5442 - val_loss: 0.6728 - val_acc: 0.5278\n",
      "Epoch 30/150\n",
      "3888/3888 [==============================] - 3s 663us/step - loss: 0.6737 - acc: 0.5453 - val_loss: 0.6741 - val_acc: 0.5116\n",
      "Epoch 31/150\n",
      "3888/3888 [==============================] - 3s 665us/step - loss: 0.6740 - acc: 0.5512 - val_loss: 0.6733 - val_acc: 0.5162\n",
      "Epoch 32/150\n",
      "3888/3888 [==============================] - 3s 675us/step - loss: 0.6738 - acc: 0.5484 - val_loss: 0.6731 - val_acc: 0.5116\n",
      "Epoch 33/150\n",
      "3888/3888 [==============================] - 3s 669us/step - loss: 0.6737 - acc: 0.5460 - val_loss: 0.6726 - val_acc: 0.5324\n",
      "Epoch 34/150\n",
      "3888/3888 [==============================] - 3s 671us/step - loss: 0.6731 - acc: 0.5409 - val_loss: 0.6737 - val_acc: 0.5093\n",
      "Epoch 35/150\n",
      "3888/3888 [==============================] - 3s 662us/step - loss: 0.6737 - acc: 0.5468 - val_loss: 0.6729 - val_acc: 0.5139\n",
      "Epoch 36/150\n",
      "3888/3888 [==============================] - 3s 666us/step - loss: 0.6793 - acc: 0.5424 - val_loss: 0.6853 - val_acc: 0.5440\n",
      "Epoch 37/150\n",
      "3888/3888 [==============================] - 3s 661us/step - loss: 0.6887 - acc: 0.5445 - val_loss: 0.6909 - val_acc: 0.5231\n",
      "Epoch 38/150\n",
      "3888/3888 [==============================] - 3s 660us/step - loss: 0.6809 - acc: 0.5507 - val_loss: 0.6726 - val_acc: 0.5162\n",
      "Epoch 39/150\n",
      "3888/3888 [==============================] - 3s 660us/step - loss: 0.6734 - acc: 0.5502 - val_loss: 0.6724 - val_acc: 0.5278\n",
      "Epoch 40/150\n",
      "3888/3888 [==============================] - 3s 662us/step - loss: 0.6733 - acc: 0.5484 - val_loss: 0.6722 - val_acc: 0.5208\n",
      "Epoch 41/150\n",
      "3888/3888 [==============================] - 3s 659us/step - loss: 0.6731 - acc: 0.5486 - val_loss: 0.6720 - val_acc: 0.5255\n",
      "Epoch 42/150\n",
      "3888/3888 [==============================] - 3s 660us/step - loss: 0.6729 - acc: 0.5468 - val_loss: 0.6716 - val_acc: 0.5231\n",
      "Epoch 43/150\n",
      "3888/3888 [==============================] - 3s 680us/step - loss: 0.6745 - acc: 0.5489 - val_loss: 0.6746 - val_acc: 0.5231\n",
      "Epoch 44/150\n",
      "3888/3888 [==============================] - 3s 666us/step - loss: 0.6727 - acc: 0.5486 - val_loss: 0.6730 - val_acc: 0.5231\n",
      "Epoch 45/150\n",
      "3888/3888 [==============================] - 3s 668us/step - loss: 0.6725 - acc: 0.5491 - val_loss: 0.6710 - val_acc: 0.5208\n",
      "Epoch 46/150\n",
      "3888/3888 [==============================] - 3s 666us/step - loss: 0.6731 - acc: 0.5463 - val_loss: 0.6711 - val_acc: 0.5347\n",
      "Epoch 47/150\n",
      "3888/3888 [==============================] - 3s 677us/step - loss: 0.6725 - acc: 0.5517 - val_loss: 0.6707 - val_acc: 0.5301\n",
      "Epoch 48/150\n",
      "3888/3888 [==============================] - 3s 671us/step - loss: 0.6725 - acc: 0.5514 - val_loss: 0.6710 - val_acc: 0.5162\n",
      "Epoch 49/150\n",
      "3888/3888 [==============================] - 3s 663us/step - loss: 0.6729 - acc: 0.5476 - val_loss: 0.6704 - val_acc: 0.5301\n",
      "Epoch 50/150\n",
      "3888/3888 [==============================] - 3s 691us/step - loss: 0.6723 - acc: 0.5571 - val_loss: 0.6726 - val_acc: 0.5255\n",
      "Epoch 51/150\n",
      "3888/3888 [==============================] - 3s 667us/step - loss: 0.6722 - acc: 0.5538 - val_loss: 0.6708 - val_acc: 0.5255\n",
      "Epoch 52/150\n",
      "3888/3888 [==============================] - 3s 677us/step - loss: 0.6721 - acc: 0.5430 - val_loss: 0.6724 - val_acc: 0.5185\n",
      "Epoch 53/150\n",
      "3888/3888 [==============================] - 3s 659us/step - loss: 0.6722 - acc: 0.5484 - val_loss: 0.6704 - val_acc: 0.5208\n",
      "Epoch 54/150\n",
      "3888/3888 [==============================] - 3s 663us/step - loss: 0.6723 - acc: 0.5532 - val_loss: 0.6713 - val_acc: 0.5116\n",
      "Epoch 55/150\n",
      "3888/3888 [==============================] - 3s 660us/step - loss: 0.6718 - acc: 0.5512 - val_loss: 0.6679 - val_acc: 0.5347\n",
      "Epoch 56/150\n",
      "3888/3888 [==============================] - 3s 663us/step - loss: 0.6730 - acc: 0.5471 - val_loss: 0.6705 - val_acc: 0.5347\n",
      "Epoch 57/150\n",
      "3888/3888 [==============================] - 3s 662us/step - loss: 0.6721 - acc: 0.5489 - val_loss: 0.6723 - val_acc: 0.5278\n",
      "Epoch 58/150\n",
      "3888/3888 [==============================] - 3s 657us/step - loss: 0.6715 - acc: 0.5473 - val_loss: 0.6688 - val_acc: 0.5162\n",
      "Epoch 59/150\n",
      "3888/3888 [==============================] - 3s 672us/step - loss: 0.6716 - acc: 0.5527 - val_loss: 0.6701 - val_acc: 0.5231\n",
      "Epoch 60/150\n"
     ]
    },
    {
     "name": "stdout",
     "output_type": "stream",
     "text": [
      "3888/3888 [==============================] - 3s 665us/step - loss: 0.6717 - acc: 0.5532 - val_loss: 0.6704 - val_acc: 0.5162\n",
      "Epoch 61/150\n",
      "3888/3888 [==============================] - 3s 669us/step - loss: 0.6717 - acc: 0.5553 - val_loss: 0.6707 - val_acc: 0.5486\n",
      "Epoch 62/150\n",
      "3888/3888 [==============================] - 3s 663us/step - loss: 0.6716 - acc: 0.5514 - val_loss: 0.6696 - val_acc: 0.5301\n",
      "Epoch 63/150\n",
      "3888/3888 [==============================] - 3s 709us/step - loss: 0.6713 - acc: 0.5514 - val_loss: 0.6713 - val_acc: 0.5185\n",
      "Epoch 64/150\n",
      "3888/3888 [==============================] - 3s 669us/step - loss: 0.6715 - acc: 0.5509 - val_loss: 0.6693 - val_acc: 0.5394\n",
      "Epoch 65/150\n",
      "3888/3888 [==============================] - 3s 676us/step - loss: 0.6713 - acc: 0.5484 - val_loss: 0.6675 - val_acc: 0.5370\n",
      "Epoch 66/150\n",
      "3888/3888 [==============================] - 3s 677us/step - loss: 0.6716 - acc: 0.5507 - val_loss: 0.6721 - val_acc: 0.5231\n",
      "Epoch 67/150\n",
      "3888/3888 [==============================] - 3s 659us/step - loss: 0.6710 - acc: 0.5532 - val_loss: 0.6686 - val_acc: 0.5185\n",
      "Epoch 68/150\n",
      "3888/3888 [==============================] - 3s 668us/step - loss: 0.6713 - acc: 0.5558 - val_loss: 0.6696 - val_acc: 0.5162\n",
      "Epoch 69/150\n",
      "3888/3888 [==============================] - 3s 680us/step - loss: 0.6710 - acc: 0.5514 - val_loss: 0.6663 - val_acc: 0.5255\n",
      "Epoch 70/150\n",
      "3888/3888 [==============================] - 3s 663us/step - loss: 0.6715 - acc: 0.5496 - val_loss: 0.6686 - val_acc: 0.5255\n",
      "Epoch 71/150\n",
      "3888/3888 [==============================] - 3s 661us/step - loss: 0.6705 - acc: 0.5561 - val_loss: 0.6674 - val_acc: 0.5301\n",
      "Epoch 72/150\n",
      "3888/3888 [==============================] - 3s 664us/step - loss: 0.6724 - acc: 0.5579 - val_loss: 0.6699 - val_acc: 0.5231\n",
      "Epoch 73/150\n",
      "3888/3888 [==============================] - 3s 663us/step - loss: 0.6703 - acc: 0.5540 - val_loss: 0.6703 - val_acc: 0.5301\n",
      "Epoch 74/150\n",
      "3888/3888 [==============================] - 3s 662us/step - loss: 0.6709 - acc: 0.5571 - val_loss: 0.6704 - val_acc: 0.5231\n",
      "Epoch 75/150\n",
      "3888/3888 [==============================] - 3s 672us/step - loss: 0.6710 - acc: 0.5592 - val_loss: 0.6710 - val_acc: 0.5231\n",
      "Epoch 76/150\n",
      "3888/3888 [==============================] - 3s 668us/step - loss: 0.6709 - acc: 0.5494 - val_loss: 0.6692 - val_acc: 0.5278\n",
      "Epoch 77/150\n",
      "3888/3888 [==============================] - 3s 670us/step - loss: 0.6707 - acc: 0.5545 - val_loss: 0.6711 - val_acc: 0.5162\n",
      "Epoch 78/150\n",
      "3888/3888 [==============================] - 3s 658us/step - loss: 0.6702 - acc: 0.5563 - val_loss: 0.6697 - val_acc: 0.5231\n",
      "Epoch 79/150\n",
      "3888/3888 [==============================] - 3s 678us/step - loss: 0.6705 - acc: 0.5527 - val_loss: 0.6702 - val_acc: 0.5278\n",
      "Epoch 80/150\n",
      "3888/3888 [==============================] - 3s 685us/step - loss: 0.6708 - acc: 0.5563 - val_loss: 0.6710 - val_acc: 0.5208\n",
      "Epoch 81/150\n",
      "3888/3888 [==============================] - 3s 666us/step - loss: 0.6702 - acc: 0.5527 - val_loss: 0.6655 - val_acc: 0.5278\n",
      "Epoch 82/150\n",
      "3888/3888 [==============================] - 3s 671us/step - loss: 0.6704 - acc: 0.5514 - val_loss: 0.6699 - val_acc: 0.5185\n",
      "Epoch 83/150\n",
      "3888/3888 [==============================] - 3s 669us/step - loss: 0.6704 - acc: 0.5584 - val_loss: 0.6741 - val_acc: 0.5301\n",
      "Epoch 84/150\n",
      "3888/3888 [==============================] - 3s 666us/step - loss: 0.6703 - acc: 0.5545 - val_loss: 0.6695 - val_acc: 0.5347\n",
      "Epoch 85/150\n",
      "3888/3888 [==============================] - 3s 680us/step - loss: 0.6703 - acc: 0.5553 - val_loss: 0.6689 - val_acc: 0.5370\n",
      "Epoch 86/150\n",
      "3888/3888 [==============================] - 3s 666us/step - loss: 0.6699 - acc: 0.5553 - val_loss: 0.6713 - val_acc: 0.5162\n",
      "Epoch 87/150\n",
      "3888/3888 [==============================] - 3s 662us/step - loss: 0.6704 - acc: 0.5530 - val_loss: 0.6695 - val_acc: 0.5231\n",
      "Epoch 88/150\n",
      "3888/3888 [==============================] - 3s 662us/step - loss: 0.6694 - acc: 0.5507 - val_loss: 0.6698 - val_acc: 0.5139\n",
      "Epoch 89/150\n",
      "3888/3888 [==============================] - 3s 664us/step - loss: 0.6699 - acc: 0.5563 - val_loss: 0.6683 - val_acc: 0.5208\n",
      "Epoch 90/150\n",
      "3888/3888 [==============================] - 3s 661us/step - loss: 0.6697 - acc: 0.5568 - val_loss: 0.6695 - val_acc: 0.5185\n",
      "Epoch 91/150\n",
      "3888/3888 [==============================] - 3s 659us/step - loss: 0.6694 - acc: 0.5584 - val_loss: 0.6668 - val_acc: 0.5347\n",
      "Epoch 92/150\n",
      "3888/3888 [==============================] - 3s 659us/step - loss: 0.6691 - acc: 0.5584 - val_loss: 0.6709 - val_acc: 0.5255\n",
      "Epoch 93/150\n",
      "3888/3888 [==============================] - 3s 666us/step - loss: 0.6691 - acc: 0.5538 - val_loss: 0.6687 - val_acc: 0.5417\n",
      "Epoch 94/150\n",
      "3888/3888 [==============================] - 3s 667us/step - loss: 0.6693 - acc: 0.5558 - val_loss: 0.6711 - val_acc: 0.5301\n",
      "Epoch 95/150\n",
      "3888/3888 [==============================] - 3s 675us/step - loss: 0.6687 - acc: 0.5612 - val_loss: 0.6717 - val_acc: 0.5278\n",
      "Epoch 96/150\n",
      "3888/3888 [==============================] - 3s 672us/step - loss: 0.6690 - acc: 0.5509 - val_loss: 0.6724 - val_acc: 0.5370\n",
      "Epoch 97/150\n",
      "3888/3888 [==============================] - 3s 665us/step - loss: 0.6695 - acc: 0.5545 - val_loss: 0.6686 - val_acc: 0.5486\n",
      "Epoch 98/150\n",
      "3888/3888 [==============================] - 3s 660us/step - loss: 0.6687 - acc: 0.5540 - val_loss: 0.6701 - val_acc: 0.5440\n",
      "Epoch 99/150\n",
      "3888/3888 [==============================] - 3s 691us/step - loss: 0.6693 - acc: 0.5538 - val_loss: 0.6728 - val_acc: 0.5440\n",
      "Epoch 100/150\n",
      "3888/3888 [==============================] - 3s 661us/step - loss: 0.6703 - acc: 0.5602 - val_loss: 0.6675 - val_acc: 0.5255\n",
      "Epoch 101/150\n",
      "3888/3888 [==============================] - 3s 667us/step - loss: 0.6687 - acc: 0.5561 - val_loss: 0.6683 - val_acc: 0.5486\n",
      "Epoch 102/150\n",
      "3888/3888 [==============================] - 3s 677us/step - loss: 0.6694 - acc: 0.5499 - val_loss: 0.6717 - val_acc: 0.5208\n",
      "Epoch 103/150\n",
      "3888/3888 [==============================] - 3s 666us/step - loss: 0.6689 - acc: 0.5558 - val_loss: 0.6681 - val_acc: 0.5069\n",
      "Epoch 104/150\n",
      "3888/3888 [==============================] - 3s 660us/step - loss: 0.6688 - acc: 0.5610 - val_loss: 0.6708 - val_acc: 0.5370\n",
      "Epoch 105/150\n",
      "3888/3888 [==============================] - 3s 661us/step - loss: 0.6690 - acc: 0.5525 - val_loss: 0.6656 - val_acc: 0.5301\n",
      "Epoch 106/150\n",
      "3888/3888 [==============================] - 3s 663us/step - loss: 0.6689 - acc: 0.5538 - val_loss: 0.6708 - val_acc: 0.5347\n",
      "Epoch 107/150\n",
      "3888/3888 [==============================] - 3s 664us/step - loss: 0.6686 - acc: 0.5532 - val_loss: 0.6738 - val_acc: 0.5417\n",
      "Epoch 108/150\n",
      "3888/3888 [==============================] - 3s 662us/step - loss: 0.6685 - acc: 0.5535 - val_loss: 0.6686 - val_acc: 0.5162\n",
      "Epoch 109/150\n",
      "3888/3888 [==============================] - 3s 659us/step - loss: 0.6696 - acc: 0.5545 - val_loss: 0.6739 - val_acc: 0.5463\n",
      "Epoch 110/150\n",
      "3888/3888 [==============================] - 3s 667us/step - loss: 0.6684 - acc: 0.5543 - val_loss: 0.6665 - val_acc: 0.5278\n",
      "Epoch 111/150\n",
      "3888/3888 [==============================] - 3s 661us/step - loss: 0.6695 - acc: 0.5558 - val_loss: 0.6643 - val_acc: 0.5255\n",
      "Epoch 112/150\n",
      "3888/3888 [==============================] - 3s 677us/step - loss: 0.6687 - acc: 0.5530 - val_loss: 0.6668 - val_acc: 0.5417\n",
      "Epoch 113/150\n",
      "3888/3888 [==============================] - 3s 670us/step - loss: 0.6706 - acc: 0.5556 - val_loss: 0.6670 - val_acc: 0.5509\n",
      "Epoch 114/150\n",
      "3888/3888 [==============================] - 3s 668us/step - loss: 0.6685 - acc: 0.5563 - val_loss: 0.6682 - val_acc: 0.5463\n",
      "Epoch 115/150\n",
      "3888/3888 [==============================] - 3s 673us/step - loss: 0.6685 - acc: 0.5581 - val_loss: 0.6671 - val_acc: 0.5255\n",
      "Epoch 116/150\n",
      "3888/3888 [==============================] - 3s 671us/step - loss: 0.6689 - acc: 0.5576 - val_loss: 0.6683 - val_acc: 0.5231\n",
      "Epoch 117/150\n",
      "3888/3888 [==============================] - 3s 666us/step - loss: 0.6682 - acc: 0.5548 - val_loss: 0.6676 - val_acc: 0.5185\n",
      "Epoch 118/150\n",
      "3888/3888 [==============================] - 3s 670us/step - loss: 0.6679 - acc: 0.5571 - val_loss: 0.6715 - val_acc: 0.5463\n",
      "Epoch 119/150\n"
     ]
    },
    {
     "name": "stdout",
     "output_type": "stream",
     "text": [
      "3888/3888 [==============================] - 3s 669us/step - loss: 0.6683 - acc: 0.5576 - val_loss: 0.6683 - val_acc: 0.5394\n",
      "Epoch 120/150\n",
      "3888/3888 [==============================] - 3s 669us/step - loss: 0.6676 - acc: 0.5625 - val_loss: 0.6659 - val_acc: 0.5278\n",
      "Epoch 121/150\n",
      "3888/3888 [==============================] - 3s 670us/step - loss: 0.6678 - acc: 0.5561 - val_loss: 0.6700 - val_acc: 0.5417\n",
      "Epoch 122/150\n",
      "3888/3888 [==============================] - 3s 666us/step - loss: 0.6689 - acc: 0.5558 - val_loss: 0.6683 - val_acc: 0.5579\n",
      "Epoch 123/150\n",
      "3888/3888 [==============================] - 3s 663us/step - loss: 0.6681 - acc: 0.5579 - val_loss: 0.6713 - val_acc: 0.5347\n",
      "Epoch 124/150\n",
      "3888/3888 [==============================] - 3s 672us/step - loss: 0.6678 - acc: 0.5612 - val_loss: 0.6669 - val_acc: 0.5440\n",
      "Epoch 125/150\n",
      "3888/3888 [==============================] - 3s 659us/step - loss: 0.6675 - acc: 0.5581 - val_loss: 0.6676 - val_acc: 0.5579\n",
      "Epoch 126/150\n",
      "3888/3888 [==============================] - 3s 660us/step - loss: 0.6677 - acc: 0.5571 - val_loss: 0.6694 - val_acc: 0.5532\n",
      "Epoch 127/150\n",
      "3888/3888 [==============================] - 3s 647us/step - loss: 0.6674 - acc: 0.5527 - val_loss: 0.6669 - val_acc: 0.5208\n",
      "Epoch 128/150\n",
      "3888/3888 [==============================] - 2s 628us/step - loss: 0.6675 - acc: 0.5617 - val_loss: 0.6700 - val_acc: 0.5463\n",
      "Epoch 129/150\n",
      "3888/3888 [==============================] - 3s 655us/step - loss: 0.6679 - acc: 0.5553 - val_loss: 0.6664 - val_acc: 0.5370\n",
      "Epoch 130/150\n",
      "3888/3888 [==============================] - 3s 666us/step - loss: 0.6677 - acc: 0.5622 - val_loss: 0.6673 - val_acc: 0.5440\n",
      "Epoch 131/150\n",
      "3888/3888 [==============================] - 3s 661us/step - loss: 0.6670 - acc: 0.5664 - val_loss: 0.6697 - val_acc: 0.5301\n",
      "Epoch 132/150\n",
      "3888/3888 [==============================] - 3s 683us/step - loss: 0.6675 - acc: 0.5556 - val_loss: 0.6676 - val_acc: 0.5486\n",
      "Epoch 133/150\n",
      "3888/3888 [==============================] - 3s 666us/step - loss: 0.6679 - acc: 0.5558 - val_loss: 0.6664 - val_acc: 0.5370\n",
      "Epoch 134/150\n",
      "3888/3888 [==============================] - 3s 657us/step - loss: 0.6680 - acc: 0.5579 - val_loss: 0.6715 - val_acc: 0.5463\n",
      "Epoch 135/150\n",
      "3888/3888 [==============================] - 3s 667us/step - loss: 0.6675 - acc: 0.5643 - val_loss: 0.6686 - val_acc: 0.5440\n",
      "Epoch 136/150\n",
      "3888/3888 [==============================] - 3s 661us/step - loss: 0.6671 - acc: 0.5635 - val_loss: 0.6688 - val_acc: 0.5509\n",
      "Epoch 137/150\n",
      "3888/3888 [==============================] - 3s 664us/step - loss: 0.6673 - acc: 0.5589 - val_loss: 0.6660 - val_acc: 0.5301\n",
      "Epoch 138/150\n",
      "3888/3888 [==============================] - 3s 701us/step - loss: 0.6676 - acc: 0.5604 - val_loss: 0.6682 - val_acc: 0.5579\n",
      "Epoch 139/150\n",
      "3888/3888 [==============================] - 3s 660us/step - loss: 0.6671 - acc: 0.5558 - val_loss: 0.6670 - val_acc: 0.5509\n",
      "Epoch 140/150\n",
      "3888/3888 [==============================] - 3s 695us/step - loss: 0.6668 - acc: 0.5656 - val_loss: 0.6668 - val_acc: 0.5278\n",
      "Epoch 141/150\n",
      "3888/3888 [==============================] - 3s 716us/step - loss: 0.6677 - acc: 0.5610 - val_loss: 0.6658 - val_acc: 0.5301\n",
      "Epoch 142/150\n",
      "3888/3888 [==============================] - 3s 682us/step - loss: 0.6669 - acc: 0.5586 - val_loss: 0.6659 - val_acc: 0.5278\n",
      "Epoch 143/150\n",
      "3888/3888 [==============================] - 3s 687us/step - loss: 0.6667 - acc: 0.5610 - val_loss: 0.6691 - val_acc: 0.5255\n",
      "Epoch 144/150\n",
      "3888/3888 [==============================] - 3s 712us/step - loss: 0.6675 - acc: 0.5640 - val_loss: 0.6676 - val_acc: 0.5579\n",
      "Epoch 145/150\n",
      "3888/3888 [==============================] - 3s 661us/step - loss: 0.6673 - acc: 0.5615 - val_loss: 0.6686 - val_acc: 0.5463\n",
      "Epoch 146/150\n",
      "3888/3888 [==============================] - 3s 737us/step - loss: 0.6667 - acc: 0.5622 - val_loss: 0.6688 - val_acc: 0.5509\n",
      "Epoch 147/150\n",
      "3888/3888 [==============================] - 3s 715us/step - loss: 0.6672 - acc: 0.5615 - val_loss: 0.6667 - val_acc: 0.5324\n",
      "Epoch 148/150\n",
      "3888/3888 [==============================] - 3s 727us/step - loss: 0.6663 - acc: 0.5630 - val_loss: 0.6697 - val_acc: 0.5509\n",
      "Epoch 149/150\n",
      "3888/3888 [==============================] - 3s 730us/step - loss: 0.6670 - acc: 0.5568 - val_loss: 0.6669 - val_acc: 0.5463\n",
      "Epoch 150/150\n",
      "3888/3888 [==============================] - 3s 743us/step - loss: 0.6660 - acc: 0.5664 - val_loss: 0.6684 - val_acc: 0.5463\n"
     ]
    }
   ],
   "source": [
    "model = Sequential()\n",
    "#model.add(CuDNNLSTM(8, input_shape=(1000, 8), return_sequences=True))\n",
    "model.add(CuDNNLSTM(8, input_shape=(1000, 4)))\n",
    "#model.add(CuDNNLSTM(8, return_sequences=True))\n",
    "#model.add(CuDNNLSTM(4, return_sequences=True))\n",
    "#model.add(CuDNNLSTM(4))\n",
    "model.add(Dense(1, activation='sigmoid'))\n",
    "model.compile(optimizer='rmsprop', loss='binary_crossentropy', metrics=['acc'])\n",
    "history = model.fit(X_train_rnn, y_train, epochs=150, batch_size=128, validation_split=0.1)"
   ]
  },
  {
   "cell_type": "markdown",
   "metadata": {},
   "source": [
    "**Result**:\n",
    "\n",
    "The following cell **visualizes** the training/validation accuracies and losses over each epoch."
   ]
  },
  {
   "cell_type": "code",
   "execution_count": 9,
   "metadata": {},
   "outputs": [
    {
     "data": {
      "image/png": "[encoded data removed]",
      "text/plain": [
       "<Figure size 432x288 with 1 Axes>"
      ]
     },
     "metadata": {},
     "output_type": "display_data"
    },
    {
     "data": {
      "image/png": "[encoded data removed]",
      "text/plain": [
       "<Figure size 432x288 with 1 Axes>"
      ]
     },
     "metadata": {},
     "output_type": "display_data"
    }
   ],
   "source": [
    "acc = history.history['acc']\n",
    "val_acc = history.history['val_acc']\n",
    "loss = history.history['loss']\n",
    "val_loss = history.history['val_loss']\n",
    "\n",
    "epochs = range(1, len(acc) + 1)\n",
    "\n",
    "plt.plot(epochs, acc, 'bo', label='Training Accuracy')\n",
    "plt.plot(epochs, val_acc, 'b', label='Validation Accuracy')\n",
    "plt.title('Training and Validation Accuracy')\n",
    "plt.xlabel('epoches')\n",
    "plt.legend()\n",
    "\n",
    "plt.figure()\n",
    "\n",
    "plt.plot(epochs, loss, 'bo', label='Training Loss')\n",
    "plt.plot(epochs, val_loss, 'b', label='Validation Loss')\n",
    "plt.title('Training and Validation Loss')\n",
    "plt.xlabel('epoches')\n",
    "plt.legend()\n",
    "\n",
    "plt.show()"
   ]
  },
  {
   "cell_type": "code",
   "execution_count": 10,
   "metadata": {},
   "outputs": [
    {
     "name": "stdout",
     "output_type": "stream",
     "text": [
      "Save model to models/adam_2019_02_08.json\n"
     ]
    }
   ],
   "source": [
    "import utility\n",
    "utility.save_model(model, 'models/adam_2019_02_08.json', 'models/adam_2019_02_08_weights.h5')\n"
   ]
  },
  {
   "cell_type": "markdown",
   "metadata": {},
   "source": [
    "**Conclusion**:\n",
    "\n",
    "- Using only DNA sequences and not using TFBS data, the neural network is unable to produce accurate results. It is possible that the DNA is too noisy and that the TFBS data concentrates the important information making it possible for the neural network to make accurate predictions."
   ]
  },
  {
   "cell_type": "code",
   "execution_count": null,
   "metadata": {},
   "outputs": [],
   "source": []
  }
 ],
 "metadata": {
  "kernelspec": {
   "display_name": "Environment (conda_tensorflow_p36)",
   "language": "python",
   "name": "conda_tensorflow_p36"
  },
  "language_info": {
   "codemirror_mode": {
    "name": "ipython",
    "version": 3
   },
   "file_extension": ".py",
   "mimetype": "text/x-python",
   "name": "python",
   "nbconvert_exporter": "python",
   "pygments_lexer": "ipython3",
   "version": "3.6.4"
  }
 },
 "nbformat": 4,
 "nbformat_minor": 2
}
