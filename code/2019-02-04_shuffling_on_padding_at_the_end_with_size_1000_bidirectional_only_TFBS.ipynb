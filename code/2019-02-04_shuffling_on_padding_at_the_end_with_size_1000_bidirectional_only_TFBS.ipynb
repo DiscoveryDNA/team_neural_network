{
 "cells": [
  {
   "cell_type": "markdown",
   "metadata": {},
   "source": [
    "**Date**: 2019-02-08\n",
    "\n",
    "**Authors**: Adam Stafford\n",
    "\n",
    "**Purpose**: To test whether the experiment using the bidirectional LTSM from 2018-01-29 will work without the DNA sequence using only the TFBS data.\n",
    "\n",
    "**Background**:\n",
    "- The idea of this experiment is to understand how the TFBS data contributes to the accuracy of the model from 2018-01-29. For this purpose, we run the neural network without the DNA sequences.\n",
    "\n",
    "**Experiment**:"
   ]
  },
  {
   "cell_type": "code",
   "execution_count": 1,
   "metadata": {},
   "outputs": [
    {
     "name": "stderr",
     "output_type": "stream",
     "text": [
      "/home/ubuntu/anaconda3/envs/tensorflow_p36/lib/python3.6/site-packages/matplotlib/__init__.py:1067: UserWarning: Duplicate key in file \"/home/ubuntu/.config/matplotlib/matplotlibrc\", line #2\n",
      "  (fname, cnt))\n",
      "/home/ubuntu/anaconda3/envs/tensorflow_p36/lib/python3.6/site-packages/matplotlib/__init__.py:1067: UserWarning: Duplicate key in file \"/home/ubuntu/.config/matplotlib/matplotlibrc\", line #3\n",
      "  (fname, cnt))\n"
     ]
    }
   ],
   "source": [
    "import pickle\n",
    "import numpy as np\n",
    "import matplotlib.pyplot as plt"
   ]
  },
  {
   "cell_type": "markdown",
   "metadata": {},
   "source": [
    "Load the `pickle` buffered list:"
   ]
  },
  {
   "cell_type": "code",
   "execution_count": 2,
   "metadata": {},
   "outputs": [],
   "source": [
    "with open(\"../data/new_list_buffer.txt\", \"rb\") as buff:\n",
    "    seq_record_list = pickle.load(buff)"
   ]
  },
  {
   "cell_type": "markdown",
   "metadata": {},
   "source": [
    "The following cell retains only 4800 sequences, for the purpose of testing speed. It also randomly shuffles the 4800 sequences."
   ]
  },
  {
   "cell_type": "code",
   "execution_count": 3,
   "metadata": {},
   "outputs": [],
   "source": [
    "seq_record_list = seq_record_list[:4800]\n",
    "from random import shuffle\n",
    "shuffle(seq_record_list)"
   ]
  },
  {
   "cell_type": "markdown",
   "metadata": {},
   "source": [
    "The following cell transforms the data into a format that is recognizable by the neural network model, but ignores the DNA sequence data."
   ]
  },
  {
   "cell_type": "code",
   "execution_count": 4,
   "metadata": {},
   "outputs": [],
   "source": [
    "# A helper function to flatten a 2d list to 1d.\n",
    "# Input: [[1, 2], [2, 3], [3, 4, 5]]\n",
    "# Output: [1, 2, 2, 3, 3, 4, 5]\n",
    "def flatten(lst):\n",
    "    new_lst = []\n",
    "    for sub_lst in lst:\n",
    "        for item in sub_lst:\n",
    "            new_lst.append(item)\n",
    "    return new_lst\n",
    "\n",
    "# A helper function to transform a lst so that its length becomes read_len by:\n",
    "# 1. If len(lst) > read_len, curtail the end of the lst.\n",
    "# 2. If len(lst) < read_len, keep extending the end of the lst with 0 (NA).\n",
    "def curtail(lst, read_len):\n",
    "    for i in range(0, len(lst)):\n",
    "        lst[i] = lst[i][4:8]\n",
    "    if len(lst) > read_len:\n",
    "        lst = lst[:read_len]\n",
    "    else:\n",
    "        for i in range(read_len - len(lst)):\n",
    "            lst.append([0, 0, 0, 0])\n",
    "    return lst\n",
    "\n",
    "# Produce the train-test split\n",
    "# length_read: the length that you want all DNA sequences to conform to\n",
    "def prepare_input(training_size, test_size, length_read):\n",
    "    X_train = []\n",
    "    y_train = []\n",
    "    X_test = []\n",
    "    y_test = []\n",
    "    seq_count = 0\n",
    "    while seq_count < training_size:\n",
    "        X_train.append(flatten(curtail(seq_record_list[seq_count][3], length_read)))\n",
    "        y_train.append(int(seq_record_list[seq_count][1]))\n",
    "        seq_count += 1\n",
    "    while seq_count < (training_size + test_size):\n",
    "        X_test.append(flatten(curtail(seq_record_list[seq_count][3], length_read)))\n",
    "        y_test.append(int(seq_record_list[seq_count][1]))\n",
    "        seq_count += 1\n",
    "    return X_train, y_train, X_test, y_test\n",
    "\n",
    "# Turn list into numpy tensors that can directly feed into a neural network model\n",
    "def to_np_array(X_train, y_train, X_test, y_test):\n",
    "    X_train = np.array(X_train)\n",
    "    y_train = np.array(y_train)\n",
    "    if len(y_train.shape) == 1:\n",
    "        y_train = np.transpose(np.array([y_train]))\n",
    "    X_test = np.array(X_test)\n",
    "    y_test = np.transpose(np.array(y_test))\n",
    "    if len(y_test.shape) == 1:\n",
    "        y_test = np.transpose(np.array([y_test]))\n",
    "    return X_train, y_train, X_test, y_test"
   ]
  },
  {
   "cell_type": "code",
   "execution_count": 5,
   "metadata": {},
   "outputs": [
    {
     "data": {
      "text/plain": [
       "[(4320, 4000), (4320, 1), (480, 4000), (480, 1)]"
      ]
     },
     "execution_count": 5,
     "metadata": {},
     "output_type": "execute_result"
    }
   ],
   "source": [
    "X_train, y_train, X_test, y_test = prepare_input(4320, 480, 1000)\n",
    "X_train, y_train, X_test, y_test = to_np_array(X_train, y_train, X_test, y_test)\n",
    "[X_train.shape, y_train.shape, X_test.shape, y_test.shape]"
   ]
  },
  {
   "cell_type": "code",
   "execution_count": null,
   "metadata": {},
   "outputs": [],
   "source": []
  },
  {
   "cell_type": "markdown",
   "metadata": {},
   "source": [
    "The following cells build a recurrent network with one bidirectional LSTM layer."
   ]
  },
  {
   "cell_type": "code",
   "execution_count": 6,
   "metadata": {},
   "outputs": [
    {
     "name": "stderr",
     "output_type": "stream",
     "text": [
      "/home/ubuntu/anaconda3/envs/tensorflow_p36/lib/python3.6/site-packages/h5py/__init__.py:36: FutureWarning: Conversion of the second argument of issubdtype from `float` to `np.floating` is deprecated. In future, it will be treated as `np.float64 == np.dtype(float).type`.\n",
      "  from ._conv import register_converters as _register_converters\n",
      "Using TensorFlow backend.\n"
     ]
    }
   ],
   "source": [
    "from keras.models import Model, Sequential\n",
    "from keras.layers import Dense, CuDNNLSTM, Bidirectional"
   ]
  },
  {
   "cell_type": "code",
   "execution_count": 7,
   "metadata": {},
   "outputs": [],
   "source": [
    "X_train_rnn = X_train.reshape(4320, 1000, 4)"
   ]
  },
  {
   "cell_type": "code",
   "execution_count": 8,
   "metadata": {
    "scrolled": true
   },
   "outputs": [
    {
     "name": "stdout",
     "output_type": "stream",
     "text": [
      "Train on 3888 samples, validate on 432 samples\n",
      "Epoch 1/150\n",
      "3888/3888 [==============================] - 72s 19ms/step - loss: 0.7024 - acc: 0.4807 - val_loss: 0.6898 - val_acc: 0.5139\n",
      "Epoch 2/150\n",
      "3888/3888 [==============================] - 5s 1ms/step - loss: 0.6876 - acc: 0.5180 - val_loss: 0.6766 - val_acc: 0.5926\n",
      "Epoch 3/150\n",
      "3888/3888 [==============================] - 5s 1ms/step - loss: 0.6765 - acc: 0.5586 - val_loss: 0.6664 - val_acc: 0.6319\n",
      "Epoch 4/150\n",
      "3888/3888 [==============================] - 5s 1ms/step - loss: 0.6673 - acc: 0.5864 - val_loss: 0.6585 - val_acc: 0.6435\n",
      "Epoch 5/150\n",
      "3888/3888 [==============================] - 5s 1ms/step - loss: 0.6600 - acc: 0.6060 - val_loss: 0.6547 - val_acc: 0.6458\n",
      "Epoch 6/150\n",
      "3888/3888 [==============================] - 5s 1ms/step - loss: 0.6536 - acc: 0.6229 - val_loss: 0.6499 - val_acc: 0.6435\n",
      "Epoch 7/150\n",
      "3888/3888 [==============================] - 5s 1ms/step - loss: 0.6476 - acc: 0.6301 - val_loss: 0.6447 - val_acc: 0.6412\n",
      "Epoch 8/150\n",
      "3888/3888 [==============================] - 5s 1ms/step - loss: 0.6422 - acc: 0.6371 - val_loss: 0.6376 - val_acc: 0.6435\n",
      "Epoch 9/150\n",
      "3888/3888 [==============================] - 5s 1ms/step - loss: 0.6376 - acc: 0.6384 - val_loss: 0.6352 - val_acc: 0.6389\n",
      "Epoch 10/150\n",
      "3888/3888 [==============================] - 5s 1ms/step - loss: 0.6339 - acc: 0.6422 - val_loss: 0.6313 - val_acc: 0.6458\n",
      "Epoch 11/150\n",
      "3888/3888 [==============================] - 5s 1ms/step - loss: 0.6300 - acc: 0.6458 - val_loss: 0.6290 - val_acc: 0.6551\n",
      "Epoch 12/150\n",
      "3888/3888 [==============================] - 5s 1ms/step - loss: 0.6267 - acc: 0.6530 - val_loss: 0.6295 - val_acc: 0.6366\n",
      "Epoch 13/150\n",
      "3888/3888 [==============================] - 5s 1ms/step - loss: 0.6235 - acc: 0.6512 - val_loss: 0.6232 - val_acc: 0.6690\n",
      "Epoch 14/150\n",
      "3888/3888 [==============================] - 5s 1ms/step - loss: 0.6204 - acc: 0.6548 - val_loss: 0.6211 - val_acc: 0.6528\n",
      "Epoch 15/150\n",
      "3888/3888 [==============================] - 5s 1ms/step - loss: 0.6177 - acc: 0.6564 - val_loss: 0.6200 - val_acc: 0.6574\n",
      "Epoch 16/150\n",
      "3888/3888 [==============================] - 5s 1ms/step - loss: 0.6147 - acc: 0.6590 - val_loss: 0.6203 - val_acc: 0.6574\n",
      "Epoch 17/150\n",
      "3888/3888 [==============================] - 5s 1ms/step - loss: 0.6115 - acc: 0.6582 - val_loss: 0.6176 - val_acc: 0.6667\n",
      "Epoch 18/150\n",
      "3888/3888 [==============================] - 5s 1ms/step - loss: 0.6081 - acc: 0.6623 - val_loss: 0.6154 - val_acc: 0.6644\n",
      "Epoch 19/150\n",
      "3888/3888 [==============================] - 5s 1ms/step - loss: 0.6053 - acc: 0.6582 - val_loss: 0.6062 - val_acc: 0.6736\n",
      "Epoch 20/150\n",
      "3888/3888 [==============================] - 5s 1ms/step - loss: 0.6019 - acc: 0.6687 - val_loss: 0.6066 - val_acc: 0.6759\n",
      "Epoch 21/150\n",
      "3888/3888 [==============================] - 5s 1ms/step - loss: 0.5984 - acc: 0.6695 - val_loss: 0.6016 - val_acc: 0.6667\n",
      "Epoch 22/150\n",
      "3888/3888 [==============================] - 5s 1ms/step - loss: 0.5954 - acc: 0.6710 - val_loss: 0.6032 - val_acc: 0.6667\n",
      "Epoch 23/150\n",
      "3888/3888 [==============================] - 5s 1ms/step - loss: 0.5923 - acc: 0.6770 - val_loss: 0.5985 - val_acc: 0.6782\n",
      "Epoch 24/150\n",
      "3888/3888 [==============================] - 5s 1ms/step - loss: 0.5896 - acc: 0.6800 - val_loss: 0.5970 - val_acc: 0.6736\n",
      "Epoch 25/150\n",
      "3888/3888 [==============================] - 5s 1ms/step - loss: 0.5870 - acc: 0.6824 - val_loss: 0.5881 - val_acc: 0.6898\n",
      "Epoch 26/150\n",
      "3888/3888 [==============================] - 5s 1ms/step - loss: 0.5835 - acc: 0.6836 - val_loss: 0.5886 - val_acc: 0.6852\n",
      "Epoch 27/150\n",
      "3888/3888 [==============================] - 5s 1ms/step - loss: 0.5809 - acc: 0.6860 - val_loss: 0.5942 - val_acc: 0.6574\n",
      "Epoch 28/150\n",
      "3888/3888 [==============================] - 5s 1ms/step - loss: 0.5780 - acc: 0.6939 - val_loss: 0.5871 - val_acc: 0.6667\n",
      "Epoch 29/150\n",
      "3888/3888 [==============================] - 5s 1ms/step - loss: 0.5749 - acc: 0.6924 - val_loss: 0.5857 - val_acc: 0.6620\n",
      "Epoch 30/150\n",
      "3888/3888 [==============================] - 5s 1ms/step - loss: 0.5715 - acc: 0.6965 - val_loss: 0.5805 - val_acc: 0.6690\n",
      "Epoch 31/150\n",
      "3888/3888 [==============================] - 5s 1ms/step - loss: 0.5694 - acc: 0.6973 - val_loss: 0.5791 - val_acc: 0.6667\n",
      "Epoch 32/150\n",
      "3888/3888 [==============================] - 5s 1ms/step - loss: 0.5663 - acc: 0.7022 - val_loss: 0.5756 - val_acc: 0.6690\n",
      "Epoch 33/150\n",
      "3888/3888 [==============================] - 5s 1ms/step - loss: 0.5642 - acc: 0.7065 - val_loss: 0.5722 - val_acc: 0.6852\n",
      "Epoch 34/150\n",
      "3888/3888 [==============================] - 5s 1ms/step - loss: 0.5605 - acc: 0.7122 - val_loss: 0.5689 - val_acc: 0.7037\n",
      "Epoch 35/150\n",
      "3888/3888 [==============================] - 5s 1ms/step - loss: 0.5585 - acc: 0.7112 - val_loss: 0.5710 - val_acc: 0.6759\n",
      "Epoch 36/150\n",
      "3888/3888 [==============================] - 5s 1ms/step - loss: 0.5557 - acc: 0.7058 - val_loss: 0.5692 - val_acc: 0.6782\n",
      "Epoch 37/150\n",
      "3888/3888 [==============================] - 5s 1ms/step - loss: 0.5525 - acc: 0.7142 - val_loss: 0.5679 - val_acc: 0.6713\n",
      "Epoch 38/150\n",
      "3888/3888 [==============================] - 5s 1ms/step - loss: 0.5499 - acc: 0.7130 - val_loss: 0.5684 - val_acc: 0.6806\n",
      "Epoch 39/150\n",
      "3888/3888 [==============================] - 5s 1ms/step - loss: 0.5477 - acc: 0.7215 - val_loss: 0.5630 - val_acc: 0.6852\n",
      "Epoch 40/150\n",
      "3888/3888 [==============================] - 5s 1ms/step - loss: 0.5452 - acc: 0.7184 - val_loss: 0.5704 - val_acc: 0.6829\n",
      "Epoch 41/150\n",
      "3888/3888 [==============================] - 5s 1ms/step - loss: 0.5423 - acc: 0.7207 - val_loss: 0.5548 - val_acc: 0.7037\n",
      "Epoch 42/150\n",
      "3888/3888 [==============================] - 5s 1ms/step - loss: 0.5399 - acc: 0.7256 - val_loss: 0.5523 - val_acc: 0.7060\n",
      "Epoch 43/150\n",
      "3888/3888 [==============================] - 5s 1ms/step - loss: 0.5367 - acc: 0.7289 - val_loss: 0.5557 - val_acc: 0.7014\n",
      "Epoch 44/150\n",
      "3888/3888 [==============================] - 5s 1ms/step - loss: 0.5339 - acc: 0.7284 - val_loss: 0.5487 - val_acc: 0.7060\n",
      "Epoch 45/150\n",
      "3888/3888 [==============================] - 5s 1ms/step - loss: 0.5310 - acc: 0.7323 - val_loss: 0.5537 - val_acc: 0.7014\n",
      "Epoch 46/150\n",
      "3888/3888 [==============================] - 5s 1ms/step - loss: 0.5274 - acc: 0.7343 - val_loss: 0.5527 - val_acc: 0.6991\n",
      "Epoch 47/150\n",
      "3888/3888 [==============================] - 5s 1ms/step - loss: 0.5257 - acc: 0.7369 - val_loss: 0.5426 - val_acc: 0.7269\n",
      "Epoch 48/150\n",
      "3888/3888 [==============================] - 5s 1ms/step - loss: 0.5292 - acc: 0.7351 - val_loss: 0.5487 - val_acc: 0.7176\n",
      "Epoch 49/150\n",
      "3888/3888 [==============================] - 5s 1ms/step - loss: 0.5199 - acc: 0.7449 - val_loss: 0.5383 - val_acc: 0.7292\n",
      "Epoch 50/150\n",
      "3888/3888 [==============================] - 5s 1ms/step - loss: 0.5171 - acc: 0.7456 - val_loss: 0.5372 - val_acc: 0.7315\n",
      "Epoch 51/150\n",
      "3888/3888 [==============================] - 5s 1ms/step - loss: 0.5148 - acc: 0.7487 - val_loss: 0.5358 - val_acc: 0.7222\n",
      "Epoch 52/150\n",
      "3888/3888 [==============================] - 5s 1ms/step - loss: 0.5152 - acc: 0.7474 - val_loss: 0.5521 - val_acc: 0.7222\n",
      "Epoch 53/150\n",
      "3888/3888 [==============================] - 5s 1ms/step - loss: 0.5103 - acc: 0.7495 - val_loss: 0.5303 - val_acc: 0.7431\n",
      "Epoch 54/150\n",
      "3888/3888 [==============================] - 5s 1ms/step - loss: 0.5081 - acc: 0.7485 - val_loss: 0.5463 - val_acc: 0.7315\n",
      "Epoch 55/150\n",
      "3888/3888 [==============================] - 5s 1ms/step - loss: 0.5084 - acc: 0.7559 - val_loss: 0.5389 - val_acc: 0.7361\n",
      "Epoch 56/150\n",
      "3888/3888 [==============================] - 5s 1ms/step - loss: 0.4992 - acc: 0.7611 - val_loss: 0.5338 - val_acc: 0.7361\n",
      "Epoch 57/150\n",
      "3888/3888 [==============================] - 5s 1ms/step - loss: 0.4961 - acc: 0.7585 - val_loss: 0.5419 - val_acc: 0.7245\n",
      "Epoch 58/150\n",
      "3888/3888 [==============================] - 5s 1ms/step - loss: 0.5010 - acc: 0.7564 - val_loss: 0.5259 - val_acc: 0.7407\n",
      "Epoch 59/150\n",
      "3888/3888 [==============================] - 5s 1ms/step - loss: 0.4980 - acc: 0.7598 - val_loss: 0.5220 - val_acc: 0.7407\n",
      "Epoch 60/150\n",
      "3888/3888 [==============================] - 5s 1ms/step - loss: 0.4947 - acc: 0.7641 - val_loss: 0.5188 - val_acc: 0.7407\n"
     ]
    },
    {
     "name": "stdout",
     "output_type": "stream",
     "text": [
      "Epoch 61/150\n",
      "3888/3888 [==============================] - 5s 1ms/step - loss: 0.4931 - acc: 0.7641 - val_loss: 0.5386 - val_acc: 0.7361\n",
      "Epoch 62/150\n",
      "3888/3888 [==============================] - 5s 1ms/step - loss: 0.4930 - acc: 0.7644 - val_loss: 0.5274 - val_acc: 0.7477\n",
      "Epoch 63/150\n",
      "3888/3888 [==============================] - 5s 1ms/step - loss: 0.4886 - acc: 0.7667 - val_loss: 0.5287 - val_acc: 0.7407\n",
      "Epoch 64/150\n",
      "3888/3888 [==============================] - 5s 1ms/step - loss: 0.4839 - acc: 0.7698 - val_loss: 0.5143 - val_acc: 0.7431\n",
      "Epoch 65/150\n",
      "3888/3888 [==============================] - 5s 1ms/step - loss: 0.4834 - acc: 0.7685 - val_loss: 0.5072 - val_acc: 0.7523\n",
      "Epoch 66/150\n",
      "3888/3888 [==============================] - 5s 1ms/step - loss: 0.4793 - acc: 0.7721 - val_loss: 0.5074 - val_acc: 0.7523\n",
      "Epoch 67/150\n",
      "3888/3888 [==============================] - 5s 1ms/step - loss: 0.4797 - acc: 0.7693 - val_loss: 0.5115 - val_acc: 0.7500\n",
      "Epoch 68/150\n",
      "3888/3888 [==============================] - 5s 1ms/step - loss: 0.4779 - acc: 0.7742 - val_loss: 0.5073 - val_acc: 0.7431\n",
      "Epoch 69/150\n",
      "3888/3888 [==============================] - 5s 1ms/step - loss: 0.4771 - acc: 0.7757 - val_loss: 0.5203 - val_acc: 0.7454\n",
      "Epoch 70/150\n",
      "3888/3888 [==============================] - 5s 1ms/step - loss: 0.4700 - acc: 0.7765 - val_loss: 0.5064 - val_acc: 0.7500\n",
      "Epoch 71/150\n",
      "3888/3888 [==============================] - 5s 1ms/step - loss: 0.4741 - acc: 0.7731 - val_loss: 0.5180 - val_acc: 0.7523\n",
      "Epoch 72/150\n",
      "3888/3888 [==============================] - 5s 1ms/step - loss: 0.4686 - acc: 0.7778 - val_loss: 0.5160 - val_acc: 0.7477\n",
      "Epoch 73/150\n",
      "3888/3888 [==============================] - 5s 1ms/step - loss: 0.4712 - acc: 0.7739 - val_loss: 0.4975 - val_acc: 0.7569\n",
      "Epoch 74/150\n",
      "3888/3888 [==============================] - 5s 1ms/step - loss: 0.4693 - acc: 0.7775 - val_loss: 0.5069 - val_acc: 0.7500\n",
      "Epoch 75/150\n",
      "3888/3888 [==============================] - 5s 1ms/step - loss: 0.4665 - acc: 0.7773 - val_loss: 0.5024 - val_acc: 0.7523\n",
      "Epoch 76/150\n",
      "3888/3888 [==============================] - 5s 1ms/step - loss: 0.4649 - acc: 0.7824 - val_loss: 0.4979 - val_acc: 0.7593\n",
      "Epoch 77/150\n",
      "3888/3888 [==============================] - 5s 1ms/step - loss: 0.4636 - acc: 0.7822 - val_loss: 0.5129 - val_acc: 0.7569\n",
      "Epoch 78/150\n",
      "3888/3888 [==============================] - 5s 1ms/step - loss: 0.4618 - acc: 0.7829 - val_loss: 0.5072 - val_acc: 0.7593\n",
      "Epoch 79/150\n",
      "3888/3888 [==============================] - 5s 1ms/step - loss: 0.4597 - acc: 0.7829 - val_loss: 0.4942 - val_acc: 0.7546\n",
      "Epoch 80/150\n",
      "3888/3888 [==============================] - 5s 1ms/step - loss: 0.4597 - acc: 0.7873 - val_loss: 0.4932 - val_acc: 0.7639\n",
      "Epoch 81/150\n",
      "3888/3888 [==============================] - 5s 1ms/step - loss: 0.4594 - acc: 0.7865 - val_loss: 0.4878 - val_acc: 0.7685\n",
      "Epoch 82/150\n",
      "3888/3888 [==============================] - 5s 1ms/step - loss: 0.4536 - acc: 0.7863 - val_loss: 0.5204 - val_acc: 0.7477\n",
      "Epoch 83/150\n",
      "3888/3888 [==============================] - 5s 1ms/step - loss: 0.4535 - acc: 0.7870 - val_loss: 0.5015 - val_acc: 0.7546\n",
      "Epoch 84/150\n",
      "3888/3888 [==============================] - 5s 1ms/step - loss: 0.4525 - acc: 0.7881 - val_loss: 0.4939 - val_acc: 0.7569\n",
      "Epoch 85/150\n",
      "3888/3888 [==============================] - 5s 1ms/step - loss: 0.4523 - acc: 0.7881 - val_loss: 0.4886 - val_acc: 0.7708\n",
      "Epoch 86/150\n",
      "3888/3888 [==============================] - 5s 1ms/step - loss: 0.4486 - acc: 0.7924 - val_loss: 0.4905 - val_acc: 0.7685\n",
      "Epoch 87/150\n",
      "3888/3888 [==============================] - 5s 1ms/step - loss: 0.4521 - acc: 0.7912 - val_loss: 0.4776 - val_acc: 0.7917\n",
      "Epoch 88/150\n",
      "3888/3888 [==============================] - 5s 1ms/step - loss: 0.4459 - acc: 0.7968 - val_loss: 0.5002 - val_acc: 0.7639\n",
      "Epoch 89/150\n",
      "3888/3888 [==============================] - 5s 1ms/step - loss: 0.4489 - acc: 0.7891 - val_loss: 0.4991 - val_acc: 0.7662\n",
      "Epoch 90/150\n",
      "3888/3888 [==============================] - 5s 1ms/step - loss: 0.4509 - acc: 0.7906 - val_loss: 0.4959 - val_acc: 0.7616\n",
      "Epoch 91/150\n",
      "3888/3888 [==============================] - 5s 1ms/step - loss: 0.4380 - acc: 0.8035 - val_loss: 0.4935 - val_acc: 0.7616\n",
      "Epoch 92/150\n",
      "3888/3888 [==============================] - 5s 1ms/step - loss: 0.4429 - acc: 0.7958 - val_loss: 0.4696 - val_acc: 0.7870\n",
      "Epoch 93/150\n",
      "3888/3888 [==============================] - 5s 1ms/step - loss: 0.4449 - acc: 0.7958 - val_loss: 0.4694 - val_acc: 0.7847\n",
      "Epoch 94/150\n",
      "3888/3888 [==============================] - 5s 1ms/step - loss: 0.4397 - acc: 0.8045 - val_loss: 0.4757 - val_acc: 0.7847\n",
      "Epoch 95/150\n",
      "3888/3888 [==============================] - 5s 1ms/step - loss: 0.4361 - acc: 0.8020 - val_loss: 0.4709 - val_acc: 0.7847\n",
      "Epoch 96/150\n",
      "3888/3888 [==============================] - 5s 1ms/step - loss: 0.4341 - acc: 0.8094 - val_loss: 0.4705 - val_acc: 0.7801\n",
      "Epoch 97/150\n",
      "3888/3888 [==============================] - 5s 1ms/step - loss: 0.4333 - acc: 0.8053 - val_loss: 0.4710 - val_acc: 0.7847\n",
      "Epoch 98/150\n",
      "3888/3888 [==============================] - 5s 1ms/step - loss: 0.4349 - acc: 0.8084 - val_loss: 0.4670 - val_acc: 0.7894\n",
      "Epoch 99/150\n",
      "3888/3888 [==============================] - 5s 1ms/step - loss: 0.4326 - acc: 0.8081 - val_loss: 0.4694 - val_acc: 0.7847\n",
      "Epoch 100/150\n",
      "3888/3888 [==============================] - 5s 1ms/step - loss: 0.4280 - acc: 0.8112 - val_loss: 0.4708 - val_acc: 0.7847\n",
      "Epoch 101/150\n",
      "3888/3888 [==============================] - 5s 1ms/step - loss: 0.4288 - acc: 0.8104 - val_loss: 0.4733 - val_acc: 0.7847\n",
      "Epoch 102/150\n",
      "3888/3888 [==============================] - 5s 1ms/step - loss: 0.4279 - acc: 0.8097 - val_loss: 0.4798 - val_acc: 0.7731\n",
      "Epoch 103/150\n",
      "3888/3888 [==============================] - 5s 1ms/step - loss: 0.4287 - acc: 0.8084 - val_loss: 0.4713 - val_acc: 0.7708\n",
      "Epoch 104/150\n",
      "3888/3888 [==============================] - 5s 1ms/step - loss: 0.4361 - acc: 0.8071 - val_loss: 0.4651 - val_acc: 0.7940\n",
      "Epoch 105/150\n",
      "3888/3888 [==============================] - 5s 1ms/step - loss: 0.4262 - acc: 0.8094 - val_loss: 0.4727 - val_acc: 0.7847\n",
      "Epoch 106/150\n",
      "3888/3888 [==============================] - 5s 1ms/step - loss: 0.4246 - acc: 0.8133 - val_loss: 0.4752 - val_acc: 0.7778\n",
      "Epoch 107/150\n",
      "3888/3888 [==============================] - 5s 1ms/step - loss: 0.4249 - acc: 0.8143 - val_loss: 0.4793 - val_acc: 0.7847\n",
      "Epoch 108/150\n",
      "3888/3888 [==============================] - 5s 1ms/step - loss: 0.4189 - acc: 0.8161 - val_loss: 0.4766 - val_acc: 0.7708\n",
      "Epoch 109/150\n",
      "3888/3888 [==============================] - 5s 1ms/step - loss: 0.4168 - acc: 0.8146 - val_loss: 0.4633 - val_acc: 0.7940\n",
      "Epoch 110/150\n",
      "3888/3888 [==============================] - 5s 1ms/step - loss: 0.4177 - acc: 0.8158 - val_loss: 0.4574 - val_acc: 0.8009\n",
      "Epoch 111/150\n",
      "3888/3888 [==============================] - 5s 1ms/step - loss: 0.4170 - acc: 0.8158 - val_loss: 0.4754 - val_acc: 0.7708\n",
      "Epoch 112/150\n",
      "3888/3888 [==============================] - 5s 1ms/step - loss: 0.4162 - acc: 0.8189 - val_loss: 0.4683 - val_acc: 0.7801\n",
      "Epoch 113/150\n",
      "3888/3888 [==============================] - 5s 1ms/step - loss: 0.4173 - acc: 0.8171 - val_loss: 0.4722 - val_acc: 0.7847\n",
      "Epoch 114/150\n",
      "3888/3888 [==============================] - 5s 1ms/step - loss: 0.4226 - acc: 0.8110 - val_loss: 0.4668 - val_acc: 0.7755\n",
      "Epoch 115/150\n",
      "3888/3888 [==============================] - 5s 1ms/step - loss: 0.4108 - acc: 0.8218 - val_loss: 0.4521 - val_acc: 0.7940\n",
      "Epoch 116/150\n",
      "3888/3888 [==============================] - 5s 1ms/step - loss: 0.4100 - acc: 0.8225 - val_loss: 0.4897 - val_acc: 0.7685\n",
      "Epoch 117/150\n",
      "3888/3888 [==============================] - 5s 1ms/step - loss: 0.4191 - acc: 0.8156 - val_loss: 0.4569 - val_acc: 0.7778\n",
      "Epoch 118/150\n",
      "3888/3888 [==============================] - 5s 1ms/step - loss: 0.4065 - acc: 0.8256 - val_loss: 0.4637 - val_acc: 0.7847\n",
      "Epoch 119/150\n",
      "3888/3888 [==============================] - 5s 1ms/step - loss: 0.4071 - acc: 0.8243 - val_loss: 0.4475 - val_acc: 0.7940\n",
      "Epoch 120/150\n",
      "3888/3888 [==============================] - 5s 1ms/step - loss: 0.4017 - acc: 0.8310 - val_loss: 0.4449 - val_acc: 0.8056\n",
      "Epoch 121/150\n"
     ]
    },
    {
     "name": "stdout",
     "output_type": "stream",
     "text": [
      "3888/3888 [==============================] - 5s 1ms/step - loss: 0.4030 - acc: 0.8272 - val_loss: 0.4586 - val_acc: 0.7870\n",
      "Epoch 122/150\n",
      "3888/3888 [==============================] - 5s 1ms/step - loss: 0.4008 - acc: 0.8282 - val_loss: 0.4577 - val_acc: 0.7847\n",
      "Epoch 123/150\n",
      "3888/3888 [==============================] - 5s 1ms/step - loss: 0.4022 - acc: 0.8297 - val_loss: 0.4543 - val_acc: 0.7963\n",
      "Epoch 124/150\n",
      "3888/3888 [==============================] - 5s 1ms/step - loss: 0.3982 - acc: 0.8305 - val_loss: 0.4495 - val_acc: 0.7917\n",
      "Epoch 125/150\n",
      "3888/3888 [==============================] - 5s 1ms/step - loss: 0.4038 - acc: 0.8259 - val_loss: 0.4386 - val_acc: 0.8125\n",
      "Epoch 126/150\n",
      "3888/3888 [==============================] - 5s 1ms/step - loss: 0.3982 - acc: 0.8269 - val_loss: 0.4477 - val_acc: 0.8009\n",
      "Epoch 127/150\n",
      "3888/3888 [==============================] - 5s 1ms/step - loss: 0.3942 - acc: 0.8308 - val_loss: 0.4519 - val_acc: 0.7986\n",
      "Epoch 128/150\n",
      "3888/3888 [==============================] - 5s 1ms/step - loss: 0.3964 - acc: 0.8323 - val_loss: 0.4470 - val_acc: 0.7963\n",
      "Epoch 129/150\n",
      "3888/3888 [==============================] - 5s 1ms/step - loss: 0.3970 - acc: 0.8287 - val_loss: 0.4490 - val_acc: 0.7986\n",
      "Epoch 130/150\n",
      "3888/3888 [==============================] - 5s 1ms/step - loss: 0.3936 - acc: 0.8297 - val_loss: 0.4384 - val_acc: 0.8056\n",
      "Epoch 131/150\n",
      "3888/3888 [==============================] - 5s 1ms/step - loss: 0.3927 - acc: 0.8328 - val_loss: 0.4638 - val_acc: 0.7801\n",
      "Epoch 132/150\n",
      "3888/3888 [==============================] - 5s 1ms/step - loss: 0.3920 - acc: 0.8323 - val_loss: 0.4498 - val_acc: 0.7917\n",
      "Epoch 133/150\n",
      "3888/3888 [==============================] - 5s 1ms/step - loss: 0.3918 - acc: 0.8346 - val_loss: 0.4590 - val_acc: 0.7940\n",
      "Epoch 134/150\n",
      "3888/3888 [==============================] - 5s 1ms/step - loss: 0.3887 - acc: 0.8349 - val_loss: 0.4638 - val_acc: 0.7755\n",
      "Epoch 135/150\n",
      "3888/3888 [==============================] - 5s 1ms/step - loss: 0.3932 - acc: 0.8282 - val_loss: 0.4530 - val_acc: 0.8032\n",
      "Epoch 136/150\n",
      "3888/3888 [==============================] - 5s 1ms/step - loss: 0.3876 - acc: 0.8344 - val_loss: 0.4382 - val_acc: 0.7986\n",
      "Epoch 137/150\n",
      "3888/3888 [==============================] - 5s 1ms/step - loss: 0.3884 - acc: 0.8346 - val_loss: 0.4439 - val_acc: 0.8056\n",
      "Epoch 138/150\n",
      "3888/3888 [==============================] - 5s 1ms/step - loss: 0.3850 - acc: 0.8356 - val_loss: 0.4373 - val_acc: 0.8079\n",
      "Epoch 139/150\n",
      "3888/3888 [==============================] - 5s 1ms/step - loss: 0.3863 - acc: 0.8362 - val_loss: 0.4408 - val_acc: 0.7940\n",
      "Epoch 140/150\n",
      "3888/3888 [==============================] - 5s 1ms/step - loss: 0.3844 - acc: 0.8331 - val_loss: 0.4426 - val_acc: 0.7847\n",
      "Epoch 141/150\n",
      "3888/3888 [==============================] - 5s 1ms/step - loss: 0.3862 - acc: 0.8336 - val_loss: 0.4495 - val_acc: 0.7870\n",
      "Epoch 142/150\n",
      "3888/3888 [==============================] - 5s 1ms/step - loss: 0.3870 - acc: 0.8354 - val_loss: 0.4545 - val_acc: 0.7824\n",
      "Epoch 143/150\n",
      "3888/3888 [==============================] - 5s 1ms/step - loss: 0.3831 - acc: 0.8333 - val_loss: 0.4436 - val_acc: 0.7940\n",
      "Epoch 144/150\n",
      "3888/3888 [==============================] - 5s 1ms/step - loss: 0.3885 - acc: 0.8326 - val_loss: 0.4451 - val_acc: 0.7940\n",
      "Epoch 145/150\n",
      "3888/3888 [==============================] - 5s 1ms/step - loss: 0.3857 - acc: 0.8336 - val_loss: 0.4392 - val_acc: 0.8032\n",
      "Epoch 146/150\n",
      "3888/3888 [==============================] - 5s 1ms/step - loss: 0.3802 - acc: 0.8392 - val_loss: 0.4533 - val_acc: 0.7870\n",
      "Epoch 147/150\n",
      "3888/3888 [==============================] - 5s 1ms/step - loss: 0.3829 - acc: 0.8346 - val_loss: 0.4531 - val_acc: 0.7847\n",
      "Epoch 148/150\n",
      "3888/3888 [==============================] - 5s 1ms/step - loss: 0.3829 - acc: 0.8351 - val_loss: 0.4349 - val_acc: 0.8032\n",
      "Epoch 149/150\n",
      "3888/3888 [==============================] - 5s 1ms/step - loss: 0.3787 - acc: 0.8367 - val_loss: 0.4463 - val_acc: 0.7778\n",
      "Epoch 150/150\n",
      "3888/3888 [==============================] - 5s 1ms/step - loss: 0.3790 - acc: 0.8395 - val_loss: 0.4413 - val_acc: 0.7917\n"
     ]
    }
   ],
   "source": [
    "model = Sequential()\n",
    "#model.add(CuDNNLSTM(8, input_shape=(1000, 8), return_sequences=True))\n",
    "model.add(Bidirectional(CuDNNLSTM(8), input_shape=(1000, 4)))\n",
    "#model.add(CuDNNLSTM(8, return_sequences=True))\n",
    "#model.add(CuDNNLSTM(4, return_sequences=True))\n",
    "#model.add(CuDNNLSTM(4))\n",
    "model.add(Dense(1, activation='sigmoid'))\n",
    "model.compile(optimizer='rmsprop', loss='binary_crossentropy', metrics=['acc'])\n",
    "history = model.fit(X_train_rnn, y_train, epochs=150, batch_size=128, validation_split=0.1)"
   ]
  },
  {
   "cell_type": "markdown",
   "metadata": {},
   "source": [
    "**Result**:\n",
    "\n",
    "The following cell **visualizes** the training/validation accuracies and losses over each epoch."
   ]
  },
  {
   "cell_type": "code",
   "execution_count": 9,
   "metadata": {},
   "outputs": [
    {
     "data": {
      "image/png": "[encoded data removed]",
      "text/plain": [
       "<Figure size 432x288 with 1 Axes>"
      ]
     },
     "metadata": {},
     "output_type": "display_data"
    },
    {
     "data": {
      "image/png": "[encoded data removed]",
      "text/plain": [
       "<Figure size 432x288 with 1 Axes>"
      ]
     },
     "metadata": {},
     "output_type": "display_data"
    }
   ],
   "source": [
    "acc = history.history['acc']\n",
    "val_acc = history.history['val_acc']\n",
    "loss = history.history['loss']\n",
    "val_loss = history.history['val_loss']\n",
    "\n",
    "epochs = range(1, len(acc) + 1)\n",
    "\n",
    "plt.plot(epochs, acc, 'bo', label='Training Accuracy')\n",
    "plt.plot(epochs, val_acc, 'b', label='Validation Accuracy')\n",
    "plt.title('Training and Validation Accuracy')\n",
    "plt.xlabel('epoches')\n",
    "plt.legend()\n",
    "\n",
    "plt.figure()\n",
    "\n",
    "plt.plot(epochs, loss, 'bo', label='Training Loss')\n",
    "plt.plot(epochs, val_loss, 'b', label='Validation Loss')\n",
    "plt.title('Training and Validation Loss')\n",
    "plt.xlabel('epoches')\n",
    "plt.legend()\n",
    "\n",
    "plt.show()"
   ]
  },
  {
   "cell_type": "code",
   "execution_count": 10,
   "metadata": {},
   "outputs": [
    {
     "name": "stdout",
     "output_type": "stream",
     "text": [
      "Save model to models/adam_2019_02_08_2.json\n"
     ]
    }
   ],
   "source": [
    "import utility\n",
    "utility.save_model(model, 'models/adam_2019_02_08_2.json', 'models/adam_2019_02_08_weights_2.h5')\n"
   ]
  },
  {
   "cell_type": "markdown",
   "metadata": {},
   "source": [
    "**Conclusion**:\n",
    "\n",
    "- Using only TFBS data but not DNA sequences, the neural network is able to produce results similar to using both DNA and TFBS sequences. It is possible that the TFBS data is enough to make good predictions."
   ]
  },
  {
   "cell_type": "code",
   "execution_count": null,
   "metadata": {},
   "outputs": [],
   "source": []
  }
 ],
 "metadata": {
  "kernelspec": {
   "display_name": "Environment (conda_tensorflow_p36)",
   "language": "python",
   "name": "conda_tensorflow_p36"
  },
  "language_info": {
   "codemirror_mode": {
    "name": "ipython",
    "version": 3
   },
   "file_extension": ".py",
   "mimetype": "text/x-python",
   "name": "python",
   "nbconvert_exporter": "python",
   "pygments_lexer": "ipython3",
   "version": "3.6.4"
  }
 },
 "nbformat": 4,
 "nbformat_minor": 2
}
