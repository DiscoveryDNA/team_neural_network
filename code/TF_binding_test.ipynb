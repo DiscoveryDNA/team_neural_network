{
 "cells": [
  {
   "cell_type": "markdown",
   "metadata": {},
   "source": [
    "Given the output we get from the \"basic_neural_network\" notebook, the accuracy we get when testing our neural network on new data is poor even when we train it with large data set (24000 sequences). <br/>\n",
    "This is of course related to the fact that we only make use of (part of) the DNA sequence itself and no extra information is incorporated in the input. <br/>\n",
    "This notebook trys to incorporate the Transcription Factor Binding Site information into the current data set and  explores different ways to accomplish this."
   ]
  },
  {
   "cell_type": "markdown",
   "metadata": {},
   "source": [
    "### To Do\n",
    "1. Merge the information of TF binding sites in various ways and prepare it properly into the desired format.\n",
    "2. Design the Neural Network architecture (without implementation)\n",
    "3. Hopefully, test some architecture designs and see how it improves(?) the result accuracy"
   ]
  },
  {
   "cell_type": "markdown",
   "metadata": {},
   "source": [
    "### Incorporate the TF Information and Prepare the Data"
   ]
  },
  {
   "cell_type": "code",
   "execution_count": null,
   "metadata": {},
   "outputs": [],
   "source": []
  }
 ],
 "metadata": {
  "kernelspec": {
   "display_name": "Python 3",
   "language": "python",
   "name": "python3"
  },
  "language_info": {
   "codemirror_mode": {
    "name": "ipython",
    "version": 3
   },
   "file_extension": ".py",
   "mimetype": "text/x-python",
   "name": "python",
   "nbconvert_exporter": "python",
   "pygments_lexer": "ipython3",
   "version": "3.6.4"
  }
 },
 "nbformat": 4,
 "nbformat_minor": 2
}
