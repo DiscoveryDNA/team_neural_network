{
 "cells": [
  {
   "cell_type": "code",
   "execution_count": 1,
   "metadata": {},
   "outputs": [
    {
     "name": "stderr",
     "output_type": "stream",
     "text": [
      "Using TensorFlow backend.\n"
     ]
    }
   ],
   "source": [
    "import os, shutil, pickle\n",
    "from Bio import SeqIO\n",
    "import numpy as np\n",
    "import matplotlib.pyplot as plt\n",
    "from keras.models import Model, Sequential\n",
    "from keras.models import Sequential\n",
    "from keras.layers import Dense, Dropout, MaxPooling1D, Flatten, Conv1D, LSTM, CuDNNLSTM, Bidirectional\n",
    "from keras.optimizers import RMSprop, Adam\n",
    "from keras.initializers import glorot_normal # also called Xavier Initialization"
   ]
  },
  {
   "cell_type": "markdown",
   "metadata": {},
   "source": [
    "Randomly generate training data  \n",
    "`train_x` has shape: (# of training data, max length of sequence, 4),\n",
    "where the maximal length of sequence by default is 1000 and 4 reflects the one-hot encoding of one nucleotide(A, T, G, or C)."
   ]
  },
  {
   "cell_type": "code",
   "execution_count": 2,
   "metadata": {},
   "outputs": [
    {
     "data": {
      "text/plain": [
       "3544"
      ]
     },
     "execution_count": 2,
     "metadata": {},
     "output_type": "execute_result"
    }
   ],
   "source": [
    "input_folder_path = \"../../../temp/samples/\"\n",
    "output_folder_path = \"../../../temp/buffers/\"\n",
    "\n",
    "# sample data from:\n",
    "data_dir = \"/home/ubuntu/group_volume/team_neural_network/data/input/3.24_species_only\"\n",
    "\n",
    "len(os.listdir(data_dir)) # total number of regions"
   ]
  },
  {
   "cell_type": "code",
   "execution_count": 3,
   "metadata": {},
   "outputs": [],
   "source": [
    "# all_data_lst = np.array(os.listdir(data_dir))\n",
    "# n = len(all_data_lst)\n",
    "# num_samples = 209\n",
    "\n",
    "# np.random.seed(189)\n",
    "# sample_indices = np.random.choice(np.arange(n), num_samples, replace = False)\n",
    "# sample_files = all_data_lst[sample_indices]\n",
    "\n",
    "# sample_files_list = []\n",
    "# for file in sample_files:\n",
    "#     sample_files_list.append(file)\n",
    "#     shutil.copy(os.path.join(data_dir, file),\n",
    "#                         input_folder_path)"
   ]
  },
  {
   "cell_type": "code",
   "execution_count": 4,
   "metadata": {},
   "outputs": [],
   "source": [
    "# # Use the following dictionary to perform the transformation\n",
    "# base_pairs = {'A': [1, 0, 0, 0], \n",
    "#               'C': [0, 1, 0, 0],\n",
    "#               'G': [0, 0, 1, 0],\n",
    "#               'T': [0, 0, 0, 1],\n",
    "#               'a': [1, 0, 0, 0],\n",
    "#               'c': [0, 1, 0, 0],\n",
    "#               'g': [0, 0, 1, 0],\n",
    "#               't': [0, 0, 0, 1],\n",
    "#               'n': [0, 0, 0, 0],\n",
    "#               'N': [0, 0, 0, 0]}\n",
    "\n",
    "# file_num_limit = 10000    # The maximum number of files to be decoded\n",
    "# file_count = 0\n",
    "\n",
    "# # Iterate through every file\n",
    "# all_regions = []\n",
    "# for file in os.listdir(input_folder_path):\n",
    "#     # When the number of file decoded has reached the limit, stop\n",
    "#     if file_count < file_num_limit:\n",
    "#         data = list(SeqIO.parse(input_folder_path + file,\"fasta\"))\n",
    "#         for n in range(0, len(data)):\n",
    "#             # Extract the header information\n",
    "#             header = data[n].description.split('|')\n",
    "#             descr = data[n].description\n",
    "#             regionID = header[0]\n",
    "#             expressed = header[1]\n",
    "#             speciesID = header[2]\n",
    "#             strand = header[3]\n",
    "#             # Complement all sequences in the negative DNA strand\n",
    "# #             if strand == '-':\n",
    "# #                 # Using the syntax [e for e in base_pairs[n]] to create a new pointer for each position\n",
    "# #                 one_hot.append([descr, expressed, speciesID, [[e for e in base_pairs[n]] for n in data[n].seq.complement()]])\n",
    "# #             else:\n",
    "#             all_regions.append([descr, expressed, speciesID, [[e for e in base_pairs[n]] for n in data[n].seq]])\n",
    "#         file_count += 1\n",
    "        \n",
    "# output_name = 'all_regions.data'\n",
    "# with open(output_folder_path + output_name, mode=\"wb\") as output:\n",
    "#     print(\"save to {}\".format(os.path.join(output_folder_path, output_name)))\n",
    "#     pickle.dump(all_regions, output)"
   ]
  },
  {
   "cell_type": "markdown",
   "metadata": {},
   "source": [
    "### Load sampled data from a buffer"
   ]
  },
  {
   "cell_type": "code",
   "execution_count": 5,
   "metadata": {},
   "outputs": [],
   "source": [
    "# output_name = 'all_regions.data'\n",
    "# with open(os.path.join(output_folder_path, output_name), 'rb') as file:\n",
    "#     all_regions = pickle.load(file)"
   ]
  },
  {
   "cell_type": "code",
   "execution_count": 4,
   "metadata": {},
   "outputs": [],
   "source": [
    "# def curtail(lst, read_len):\n",
    "#     if len(lst) > read_len:\n",
    "#         lst = lst[:read_len]\n",
    "#     else:\n",
    "#         for i in range(read_len - len(lst)):\n",
    "#             lst.append([0, 0, 0, 0])\n",
    "#     return lst"
   ]
  },
  {
   "cell_type": "code",
   "execution_count": 7,
   "metadata": {},
   "outputs": [
    {
     "data": {
      "text/plain": [
       "((5016, 1000, 4), (5016,))"
      ]
     },
     "execution_count": 7,
     "metadata": {},
     "output_type": "execute_result"
    }
   ],
   "source": [
    "# max_len = 1000\n",
    "\n",
    "# train_x, train_y = [], []\n",
    "# for region in all_regions:\n",
    "#     y, x = int(region[1]), region[3]\n",
    "#     x = curtail(x, max_len)\n",
    "#     x = np.array(x).flatten()\n",
    "#     x = x.reshape((1000, 4))\n",
    "#     train_x.append(x)\n",
    "#     train_y.append(y)\n",
    "\n",
    "# train_x, train_y = np.array(train_x), np.array(train_y)\n",
    "\n",
    "# train_x.shape, train_y.shape"
   ]
  },
  {
   "cell_type": "code",
   "execution_count": 8,
   "metadata": {},
   "outputs": [
    {
     "name": "stdout",
     "output_type": "stream",
     "text": [
      "save to ../../../temp/buffers/train_x.data\n",
      "save to ../../../temp/buffers/train_y.data\n"
     ]
    }
   ],
   "source": [
    "# with open(output_folder_path + 'train_x.data', mode=\"wb\") as output:\n",
    "#     print(\"save to {}\".format(os.path.join(output_folder_path, 'train_x.data')))\n",
    "#     pickle.dump(train_x, output)\n",
    "\n",
    "# with open(output_folder_path + 'train_y.data', mode=\"wb\") as output:\n",
    "#     print(\"save to {}\".format(os.path.join(output_folder_path, 'train_y.data')))\n",
    "#     pickle.dump(train_y, output)"
   ]
  },
  {
   "cell_type": "code",
   "execution_count": 6,
   "metadata": {},
   "outputs": [
    {
     "data": {
      "text/plain": [
       "((5016, 1000, 4), (5016,))"
      ]
     },
     "execution_count": 6,
     "metadata": {},
     "output_type": "execute_result"
    }
   ],
   "source": [
    "output_name = 'train_x.data'\n",
    "with open(os.path.join(output_folder_path, output_name), 'rb') as file:\n",
    "    train_x = pickle.load(file)\n",
    "\n",
    "output_name = 'train_y.data'\n",
    "with open(os.path.join(output_folder_path, output_name), 'rb') as file:\n",
    "    train_y = pickle.load(file)\n",
    "\n",
    "train_x.shape, train_y.shape"
   ]
  },
  {
   "cell_type": "markdown",
   "metadata": {},
   "source": [
    "Sanity check: overfit this small random dataset."
   ]
  },
  {
   "cell_type": "code",
   "execution_count": 7,
   "metadata": {},
   "outputs": [
    {
     "name": "stdout",
     "output_type": "stream",
     "text": [
      "Train on 4012 samples, validate on 1004 samples\n",
      "Epoch 1/50\n",
      "4012/4012 [==============================] - 18s 4ms/step - loss: 0.6879 - acc: 0.5601 - val_loss: 0.6920 - val_acc: 0.5149\n",
      "Epoch 9/50\n",
      "4012/4012 [==============================] - 18s 4ms/step - loss: 0.6885 - acc: 0.5474 - val_loss: 0.6915 - val_acc: 0.5309\n",
      "Epoch 10/50\n",
      "4012/4012 [==============================] - 18s 4ms/step - loss: 0.6861 - acc: 0.5591 - val_loss: 0.6916 - val_acc: 0.5239\n",
      "Epoch 11/50\n",
      "4012/4012 [==============================] - 17s 4ms/step - loss: 0.6868 - acc: 0.5518 - val_loss: 0.6895 - val_acc: 0.5737\n",
      "Epoch 12/50\n",
      "4012/4012 [==============================] - 17s 4ms/step - loss: 0.6857 - acc: 0.5523 - val_loss: 0.6946 - val_acc: 0.4622\n",
      "Epoch 13/50\n",
      "4012/4012 [==============================] - 17s 4ms/step - loss: 0.6842 - acc: 0.5563 - val_loss: 0.6963 - val_acc: 0.4382\n",
      "Epoch 14/50\n",
      "4012/4012 [==============================] - 18s 4ms/step - loss: 0.6854 - acc: 0.5491 - val_loss: 0.6856 - val_acc: 0.6295\n",
      "Epoch 15/50\n",
      "4012/4012 [==============================] - 18s 4ms/step - loss: 0.6841 - acc: 0.5466 - val_loss: 0.6858 - val_acc: 0.6245\n",
      "Epoch 16/50\n",
      "4012/4012 [==============================] - 18s 4ms/step - loss: 0.6831 - acc: 0.5566 - val_loss: 0.6855 - val_acc: 0.6205\n",
      "Epoch 17/50\n",
      "4012/4012 [==============================] - 19s 5ms/step - loss: 0.6844 - acc: 0.5444 - val_loss: 0.6907 - val_acc: 0.5219\n",
      "Epoch 18/50\n",
      "4012/4012 [==============================] - 17s 4ms/step - loss: 0.6819 - acc: 0.5661 - val_loss: 0.6938 - val_acc: 0.4861\n",
      "Epoch 19/50\n",
      "4012/4012 [==============================] - 17s 4ms/step - loss: 0.6839 - acc: 0.5499 - val_loss: 0.6920 - val_acc: 0.5060\n",
      "Epoch 20/50\n",
      "4012/4012 [==============================] - 18s 4ms/step - loss: 0.6796 - acc: 0.5653 - val_loss: 0.6896 - val_acc: 0.5428\n",
      "Epoch 21/50\n",
      "4012/4012 [==============================] - 17s 4ms/step - loss: 0.6824 - acc: 0.5543 - val_loss: 0.6891 - val_acc: 0.5518\n",
      "Epoch 22/50\n",
      "4012/4012 [==============================] - 17s 4ms/step - loss: 0.6802 - acc: 0.5556 - val_loss: 0.6886 - val_acc: 0.5478\n",
      "Epoch 23/50\n",
      "4012/4012 [==============================] - 18s 4ms/step - loss: 0.6793 - acc: 0.5598 - val_loss: 0.6914 - val_acc: 0.5179\n",
      "Epoch 24/50\n",
      "4012/4012 [==============================] - 17s 4ms/step - loss: 0.6765 - acc: 0.5763 - val_loss: 0.6939 - val_acc: 0.5080\n",
      "Epoch 25/50\n",
      "4012/4012 [==============================] - 17s 4ms/step - loss: 0.6777 - acc: 0.5633 - val_loss: 0.6861 - val_acc: 0.5518\n",
      "Epoch 26/50\n",
      "4012/4012 [==============================] - 17s 4ms/step - loss: 0.6735 - acc: 0.5795 - val_loss: 0.6795 - val_acc: 0.5837\n",
      "Epoch 27/50\n",
      "4012/4012 [==============================] - 19s 5ms/step - loss: 0.6724 - acc: 0.5795 - val_loss: 0.6929 - val_acc: 0.5438\n",
      "Epoch 28/50\n",
      "4012/4012 [==============================] - 18s 5ms/step - loss: 0.6708 - acc: 0.5818 - val_loss: 0.6936 - val_acc: 0.5468\n",
      "Epoch 29/50\n",
      "4012/4012 [==============================] - 18s 4ms/step - loss: 0.6715 - acc: 0.5857 - val_loss: 0.6946 - val_acc: 0.5428\n",
      "Epoch 30/50\n",
      "4012/4012 [==============================] - 18s 4ms/step - loss: 0.6667 - acc: 0.5803 - val_loss: 0.6952 - val_acc: 0.5229\n",
      "Epoch 31/50\n",
      "4012/4012 [==============================] - 17s 4ms/step - loss: 0.6703 - acc: 0.5758 - val_loss: 0.6992 - val_acc: 0.5349\n",
      "Epoch 32/50\n",
      "4012/4012 [==============================] - 17s 4ms/step - loss: 0.6682 - acc: 0.5803 - val_loss: 0.6826 - val_acc: 0.5568\n",
      "Epoch 33/50\n",
      "4012/4012 [==============================] - 17s 4ms/step - loss: 0.6679 - acc: 0.5758 - val_loss: 0.6991 - val_acc: 0.5179\n",
      "Epoch 34/50\n",
      "4012/4012 [==============================] - 17s 4ms/step - loss: 0.6652 - acc: 0.5912 - val_loss: 0.6834 - val_acc: 0.5518\n",
      "Epoch 35/50\n",
      "4012/4012 [==============================] - 17s 4ms/step - loss: 0.6635 - acc: 0.5835 - val_loss: 0.6882 - val_acc: 0.5349\n",
      "Epoch 36/50\n",
      "4012/4012 [==============================] - 17s 4ms/step - loss: 0.6623 - acc: 0.5955 - val_loss: 0.7009 - val_acc: 0.5120\n",
      "Epoch 37/50\n",
      "4012/4012 [==============================] - 19s 5ms/step - loss: 0.6609 - acc: 0.5995 - val_loss: 0.6938 - val_acc: 0.5199\n",
      "Epoch 38/50\n",
      "4012/4012 [==============================] - 17s 4ms/step - loss: 0.6600 - acc: 0.5915 - val_loss: 0.7220 - val_acc: 0.4741\n",
      "Epoch 39/50\n",
      "4012/4012 [==============================] - 17s 4ms/step - loss: 0.6596 - acc: 0.6002 - val_loss: 0.7043 - val_acc: 0.5120\n",
      "Epoch 40/50\n",
      "4012/4012 [==============================] - 17s 4ms/step - loss: 0.6532 - acc: 0.6109 - val_loss: 0.6760 - val_acc: 0.6056\n",
      "Epoch 41/50\n",
      "4012/4012 [==============================] - 17s 4ms/step - loss: 0.6501 - acc: 0.6201 - val_loss: 0.6908 - val_acc: 0.5169\n",
      "Epoch 42/50\n",
      "4012/4012 [==============================] - 17s 4ms/step - loss: 0.6529 - acc: 0.6109 - val_loss: 0.6686 - val_acc: 0.6355\n",
      "Epoch 43/50\n",
      "4012/4012 [==============================] - 17s 4ms/step - loss: 0.6549 - acc: 0.6032 - val_loss: 0.7008 - val_acc: 0.5100\n",
      "Epoch 44/50\n",
      "4012/4012 [==============================] - 17s 4ms/step - loss: 0.6446 - acc: 0.6239 - val_loss: 0.6839 - val_acc: 0.5498\n",
      "Epoch 45/50\n",
      "4012/4012 [==============================] - 18s 4ms/step - loss: 0.6484 - acc: 0.6127 - val_loss: 0.6675 - val_acc: 0.6394\n",
      "Epoch 46/50\n",
      "4012/4012 [==============================] - 17s 4ms/step - loss: 0.6470 - acc: 0.6179 - val_loss: 0.7243 - val_acc: 0.5010\n",
      "Epoch 47/50\n",
      "4012/4012 [==============================] - 17s 4ms/step - loss: 0.6385 - acc: 0.6304 - val_loss: 0.7097 - val_acc: 0.5090\n",
      "Epoch 48/50\n",
      "4012/4012 [==============================] - 19s 5ms/step - loss: 0.6359 - acc: 0.6331 - val_loss: 0.6710 - val_acc: 0.6225\n",
      "Epoch 49/50\n",
      "4012/4012 [==============================] - 17s 4ms/step - loss: 0.6388 - acc: 0.6368 - val_loss: 0.7308 - val_acc: 0.4940\n",
      "Epoch 50/50\n",
      "4012/4012 [==============================] - 17s 4ms/step - loss: 0.6332 - acc: 0.6319 - val_loss: 0.7387 - val_acc: 0.4970\n"
     ]
    }
   ],
   "source": [
    "model = Sequential()\n",
    "model.add(Conv1D(filters = 50, \n",
    "                 kernel_size = 26, \n",
    "                 padding = 'valid',\n",
    "                 data_format = 'channels_last',\n",
    "                 activation = 'relu'))\n",
    "model.add(MaxPooling1D(pool_size = 10, strides = 10))\n",
    "model.add(Dropout(0.7)) # 0.2\n",
    "model.add(Bidirectional(LSTM(10), input_shape=(1000, 50)))\n",
    "model.add(Dropout(0.6)) # 0.5\n",
    "#model.add(Dense(100, activation = 'relu'))\n",
    "init = glorot_normal(seed = 42)\n",
    "model.add(Dense(20, activation = 'relu', kernel_initializer=init))\n",
    "model.add(Dense(1, activation='sigmoid'))\n",
    "opt = RMSprop(lr=0.0001, rho=0.9, epsilon=None, decay=0.0)\n",
    "#opt = keras.optimizers.Adam(lr=0.001, beta_1=0.9, beta_2=0.999, epsilon=None, decay=0.0, amsgrad=False)\n",
    "model.compile(optimizer=opt, loss='binary_crossentropy', metrics=['acc'])\n",
    "history = model.fit(train_x, train_y, epochs=50, batch_size=100, validation_split=0.2)"
   ]
  },
  {
   "cell_type": "code",
   "execution_count": 8,
   "metadata": {},
   "outputs": [
    {
     "name": "stdout",
     "output_type": "stream",
     "text": [
      "_________________________________________________________________\n",
      "Layer (type)                 Output Shape              Param #   \n",
      "=================================================================\n",
      "conv1d_1 (Conv1D)            (None, 975, 50)           5250      \n",
      "_________________________________________________________________\n",
      "max_pooling1d_1 (MaxPooling1 (None, 97, 50)            0         \n",
      "_________________________________________________________________\n",
      "dropout_1 (Dropout)          (None, 97, 50)            0         \n",
      "_________________________________________________________________\n",
      "bidirectional_1 (Bidirection (None, 20)                4880      \n",
      "_________________________________________________________________\n",
      "dropout_2 (Dropout)          (None, 20)                0         \n",
      "_________________________________________________________________\n",
      "dense_1 (Dense)              (None, 20)                420       \n",
      "_________________________________________________________________\n",
      "dense_2 (Dense)              (None, 1)                 21        \n",
      "=================================================================\n",
      "Total params: 10,571\n",
      "Trainable params: 10,571\n",
      "Non-trainable params: 0\n",
      "_________________________________________________________________\n"
     ]
    }
   ],
   "source": [
    "model.summary()"
   ]
  },
  {
   "cell_type": "code",
   "execution_count": 9,
   "metadata": {},
   "outputs": [
    {
     "data": {
      "image/png": "[encoded data removed]",
      "text/plain": [
       "<Figure size 432x288 with 1 Axes>"
      ]
     },
     "metadata": {},
     "output_type": "display_data"
    },
    {
     "data": {
      "image/png": "[encoded data removed]",
      "text/plain": [
       "<Figure size 432x288 with 1 Axes>"
      ]
     },
     "metadata": {},
     "output_type": "display_data"
    }
   ],
   "source": [
    "acc = history.history['acc']\n",
    "val_acc = history.history['val_acc']\n",
    "loss = history.history['loss']\n",
    "val_loss = history.history['val_loss']\n",
    "\n",
    "epochs = range(1, len(acc) + 1)\n",
    "\n",
    "plt.plot(epochs, acc, '-', label='Training Accuracy')\n",
    "plt.plot(epochs, val_acc, '-', label='Validation Accuracy')\n",
    "plt.title('Training and Validation Accuracy')\n",
    "plt.xlabel('epoches')\n",
    "plt.legend()\n",
    "\n",
    "plt.figure()\n",
    "\n",
    "plt.plot(epochs, loss, '-', label='Training Loss')\n",
    "plt.plot(epochs, val_loss, '-', label='Validation Loss')\n",
    "plt.title('Training and Validation Loss')\n",
    "plt.xlabel('epoches')\n",
    "plt.legend()\n",
    "\n",
    "plt.show()"
   ]
  },
  {
   "cell_type": "code",
   "execution_count": 61,
   "metadata": {},
   "outputs": [
    {
     "data": {
      "text/plain": [
       "(array([[0.53303534]], dtype=float32), array([[1]], dtype=int32))"
      ]
     },
     "execution_count": 61,
     "metadata": {},
     "output_type": "execute_result"
    }
   ],
   "source": [
    "i = 4\n",
    "model.predict(train_x[i].reshape(1, -1, 4)), model.predict_classes(train_x[i].reshape(1, -1, 4))"
   ]
  },
  {
   "cell_type": "code",
   "execution_count": 62,
   "metadata": {},
   "outputs": [],
   "source": [
    "conv_weights = model.layers[0].get_weights()"
   ]
  },
  {
   "cell_type": "code",
   "execution_count": 63,
   "metadata": {},
   "outputs": [
    {
     "data": {
      "text/plain": [
       "(26, 4, 50)"
      ]
     },
     "execution_count": 63,
     "metadata": {},
     "output_type": "execute_result"
    }
   ],
   "source": [
    "# weights\n",
    "conv_weights[0].shape"
   ]
  },
  {
   "cell_type": "code",
   "execution_count": 64,
   "metadata": {},
   "outputs": [
    {
     "data": {
      "text/plain": [
       "(50,)"
      ]
     },
     "execution_count": 64,
     "metadata": {},
     "output_type": "execute_result"
    }
   ],
   "source": [
    "# bias\n",
    "conv_weights[1].shape"
   ]
  },
  {
   "cell_type": "code",
   "execution_count": 65,
   "metadata": {},
   "outputs": [
    {
     "data": {
      "text/plain": [
       "<tf.Tensor 'conv1d_2/Relu:0' shape=(?, 975, 50) dtype=float32>"
      ]
     },
     "execution_count": 65,
     "metadata": {},
     "output_type": "execute_result"
    }
   ],
   "source": [
    "model.layers[0].output"
   ]
  },
  {
   "cell_type": "code",
   "execution_count": null,
   "metadata": {},
   "outputs": [],
   "source": []
  }
 ],
 "metadata": {
  "kernelspec": {
   "display_name": "Python 3",
   "language": "python",
   "name": "python3"
  },
  "language_info": {
   "codemirror_mode": {
    "name": "ipython",
    "version": 3
   },
   "file_extension": ".py",
   "mimetype": "text/x-python",
   "name": "python",
   "nbconvert_exporter": "python",
   "pygments_lexer": "ipython3",
   "version": "3.6.8"
  }
 },
 "nbformat": 4,
 "nbformat_minor": 2
}
