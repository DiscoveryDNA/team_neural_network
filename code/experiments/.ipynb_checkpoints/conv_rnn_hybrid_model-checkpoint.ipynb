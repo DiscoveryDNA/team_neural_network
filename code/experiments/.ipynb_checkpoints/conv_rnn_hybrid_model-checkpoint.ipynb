{
 "cells": [
  {
   "cell_type": "markdown",
   "metadata": {},
   "source": [
    "**Date:** 2019-3-22  \n",
    "**Authors:** Zhanyuan Zhang  \n",
    "**Purpose:** This experiment aims to accomplish the following things:\n",
    "- Training a sample convolutional and recurrent hybrid network.\n",
    "- Using the previous pure BiLSTM network to compare the result.\n",
    "- Inspecting the motifs discoveried by the hybrid network."
   ]
  },
  {
   "cell_type": "code",
   "execution_count": 34,
   "metadata": {},
   "outputs": [],
   "source": [
    "import os, shutil, pickle, shelve\n",
    "from Bio import SeqIO\n",
    "import numpy as np\n",
    "import matplotlib.pyplot as plt\n",
    "from keras.utils import plot_model\n",
    "from keras.models import Model, Sequential\n",
    "from keras.models import Sequential\n",
    "from keras.layers import Dense, Dropout, MaxPooling1D, Flatten, Conv1D, LSTM, CuDNNLSTM, Bidirectional\n",
    "from keras.optimizers import RMSprop, Adam\n",
    "from keras.initializers import glorot_normal"
   ]
  },
  {
   "cell_type": "markdown",
   "metadata": {},
   "source": [
    "## 1. Data sampling and preparation"
   ]
  },
  {
   "cell_type": "markdown",
   "metadata": {},
   "source": [
    "This part may get removed to another notebook in the future."
   ]
  },
  {
   "cell_type": "markdown",
   "metadata": {},
   "source": [
    "### 1.1 For hybrid model:"
   ]
  },
  {
   "cell_type": "code",
   "execution_count": 4,
   "metadata": {},
   "outputs": [
    {
     "data": {
      "text/plain": [
       "3544"
      ]
     },
     "execution_count": 4,
     "metadata": {},
     "output_type": "execute_result"
    }
   ],
   "source": [
    "input_folder_path = \"../../../temp/samples/\"\n",
    "output_folder_path = \"../../../temp/buffers/\"\n",
    "\n",
    "# This should be the parent folder of motif files\n",
    "motif_folder_path = \"../../../Map_Motif_no_threshold_14Nov2018/\"\n",
    "\n",
    "# The shelve with motif as the outermost key\n",
    "motif_species_shelve_path = \"../../../temp/formatted/motif_dic\"\n",
    "\n",
    "# The shelve with species name as the outermost key\n",
    "species_motif_shelve_path = \"../../../temp/formatted/species_motif_dic\"\n",
    "# sample data from:\n",
    "data_dir = \"/home/ubuntu/group_volume/team_neural_network/data/input/3.24_species_only\"\n",
    "\n",
    "len(os.listdir(data_dir)) # total number of regions"
   ]
  },
  {
   "cell_type": "markdown",
   "metadata": {},
   "source": [
    "If need different set of samples, uncomment the following folded cells to perform sampling and saving data into a new buffer.  \n",
    "**Note:** To make sure the number of samples is exactly `num_samples`, clear all the samples in the `input_folder_path`."
   ]
  },
  {
   "cell_type": "code",
   "execution_count": null,
   "metadata": {
    "code_folding": [
     0,
     16,
     67,
     77,
     109,
     120
    ]
   },
   "outputs": [],
   "source": [
    "def sampling(src, dest, num_samples, seed=42):\n",
    "    \"\"\"  \n",
    "    Sample NUM_SAMPLES of data from SRC and copy them to DEST.\n",
    "    Set random seed to be SEED.\n",
    "    \"\"\"\n",
    "    np.random.seed(seed)\n",
    "    sample_indices = np.random.choice(np.arange(n), num_samples, replace = False)\n",
    "    all_data_lst = np.array(os.listdir(src))\n",
    "    sample_files = all_data_lst[sample_indices]\n",
    "\n",
    "    sample_files_list = []\n",
    "    for file in sample_files:\n",
    "        sample_files_list.append(file)\n",
    "        shutil.copy(os.path.join(src, file),\n",
    "                            input_folder_path)\n",
    "        \n",
    "def one_hot_encoding(input_folder_path, output_file_path, \n",
    "                     max_file_num=10000):\n",
    "    \"\"\"\n",
    "    Given the data in INPUT_FOLDER_PATH, encode them and save\n",
    "    as a buffer called OUTPUT_FILE_PATH.\n",
    "    \n",
    "    Note: INPUT_FOLDER_PATH is a directory while OUTPUT_FILE_PATH\n",
    "          is a file.\n",
    "    \"\"\"\n",
    "    # Use the following dictionary to perform the transformation\n",
    "    base_pairs = {'A': [1, 0, 0, 0], \n",
    "                  'C': [0, 1, 0, 0],\n",
    "                  'G': [0, 0, 1, 0],\n",
    "                  'T': [0, 0, 0, 1],\n",
    "                  'a': [1, 0, 0, 0],\n",
    "                  'c': [0, 1, 0, 0],\n",
    "                  'g': [0, 0, 1, 0],\n",
    "                  't': [0, 0, 0, 1],\n",
    "                  'n': [0, 0, 0, 0],\n",
    "                  'N': [0, 0, 0, 0]}\n",
    "\n",
    "    file_num_limit = max_file_num    # The maximum number of files to be decoded\n",
    "    file_count = 0\n",
    "\n",
    "    # Iterate through every file\n",
    "    all_regions = []\n",
    "    for file in os.listdir(input_folder_path):\n",
    "        # When the number of file decoded has reached the limit, stop\n",
    "        if file_count < file_num_limit:\n",
    "            data = list(SeqIO.parse(input_folder_path + file,\"fasta\"))\n",
    "            for n in range(0, len(data)):\n",
    "                # Extract the header information\n",
    "                header = data[n].description.split('|')\n",
    "                descr = data[n].description\n",
    "                regionID = header[0]\n",
    "                expressed = header[1]\n",
    "                speciesID = header[2]\n",
    "                strand = header[3]\n",
    "                # Complement all sequences in the negative DNA strand\n",
    "    #             if strand == '-':\n",
    "    #                 # Using the syntax [e for e in base_pairs[n]] to create a new pointer for each position\n",
    "    #                 one_hot.append([descr, expressed, speciesID, [[e for e in base_pairs[n]] for n in data[n].seq.complement()]])\n",
    "    #             else:\n",
    "                all_regions.append([descr, expressed, speciesID, [[e for e in base_pairs[n]] for n in data[n].seq]])\n",
    "            file_count += 1\n",
    "\n",
    "    with open(output_file_path, mode=\"wb\") as output:\n",
    "        print(\"save to {}\".format(output_file_path))\n",
    "        pickle.dump(all_regions, output)\n",
    "    return\n",
    "\n",
    "def curtail(lst, read_len):\n",
    "    \"\"\" A helper function of get_training_data\n",
    "    \"\"\"\n",
    "    if len(lst) > read_len:\n",
    "        lst = lst[:read_len]\n",
    "    else:\n",
    "        for i in range(read_len - len(lst)):\n",
    "            lst.append([0, 0, 0, 0])\n",
    "    return lst\n",
    "\n",
    "def get_training_data(input_data, output_folder_path,\n",
    "                      max_len\n",
    "                      train_x_name, train_y_name):\n",
    "    \"\"\" \n",
    "    Convert INPUT_DATA to ready-to-be-fed training data and \n",
    "        corresponding labels.\n",
    "    Save them to OUTPUT_FOLDER_PATH with name TRAIN_X_NAME and\n",
    "        TRAIN_Y_NAME.\n",
    "    INPUT_DATA is directly generated by the function one_hot_encoding. \n",
    "    \"\"\"\n",
    "    train_x, train_y = [], []\n",
    "    for region in all_regions:\n",
    "        y, x = int(region[1]), region[3]\n",
    "        x = curtail(x, max_len)  # Curtail\n",
    "        x = np.array(x).flatten() # Flatten\n",
    "        x = x.reshape((1000, 4)) # Reshape\n",
    "        train_x.append(x)\n",
    "        train_y.append(y)\n",
    "\n",
    "    train_x, train_y = np.array(train_x), np.array(train_y)\n",
    "\n",
    "    print(train_x.shape, train_y.shape)\n",
    "\n",
    "    with open(os.path.join(output_folder_path, train_x_name), mode=\"wb\") as output:\n",
    "        print(\"save to {}\".format(os.path.join(output_folder_path, train_x_name)))\n",
    "        pickle.dump(train_x, output)\n",
    "\n",
    "    with open(os.path.join(output_folder_path, train_y_name), mode=\"wb\") as output:\n",
    "        print(\"save to {}\".format(os.path.join(output_folder_path, train_y_name)))\n",
    "        pickle.dump(train_y, output)\n",
    "    return\n",
    "\n",
    "def load_data(data_folder_path, train_x_name, train_y_name):\n",
    "    output_name = train_x_name\n",
    "    with open(os.path.join(output_folder_path, output_name), 'rb') as file:\n",
    "        data_x = pickle.load(file)\n",
    "\n",
    "    output_name = train_y_name\n",
    "    with open(os.path.join(output_folder_path, output_name), 'rb') as file:\n",
    "        data_y = pickle.load(file)\n",
    "\n",
    "    print(data_x.shape, data_y.shape)\n",
    "    \n",
    "def data_split(data_x, data_y, val_split=0.2, seed=42):\n",
    "    \"\"\"\n",
    "    Given totally N data, randomly sample N*VAL_SPLIT of them \n",
    "        to form validation data.\n",
    "    Set random seed to SEED.\n",
    "    \"\"\"\n",
    "    # Split it into training and validation data sets\n",
    "    N = data_x.shape[0]\n",
    "    num_val = int(N * val_split)\n",
    "    \n",
    "    np.random.seed(seed)\n",
    "    val_indices = np.random.choice(np.arange(N), num_val, replace=False)\n",
    "    train_indices = np.arange(N)[~np.isin(np.arange(N), val_indices)]\n",
    "\n",
    "    train_x, train_y = data_x[train_indices], data_y[train_indices]\n",
    "    val_x, val_y = data_x[val_indices], data_y[val_indices]\n",
    "    \n",
    "    print(N, train_x.shape, train_y.shape, val_x.shape, val_y.shape)\n",
    "    return train_x, train_y, val_x, val_y"
   ]
  },
  {
   "cell_type": "code",
   "execution_count": 5,
   "metadata": {
    "code_folding": [
     0
    ]
   },
   "outputs": [],
   "source": [
    "# # sample and preprocess data\n",
    "# all_data_lst = np.array(os.listdir(data_dir))\n",
    "# n = len(all_data_lst)\n",
    "# num_samples = 209\n",
    "\n",
    "# np.random.seed(189)\n",
    "# sample_indices = np.random.choice(np.arange(n), num_samples, replace = False)\n",
    "# sample_files = all_data_lst[sample_indices]\n",
    "\n",
    "# sample_files_list = []\n",
    "# for file in sample_files:\n",
    "#     sample_files_list.append(file)\n",
    "#     shutil.copy(os.path.join(data_dir, file),\n",
    "#                         input_folder_path)\n",
    "\n",
    "# # Use the following dictionary to perform the transformation\n",
    "# base_pairs = {'A': [1, 0, 0, 0], \n",
    "#               'C': [0, 1, 0, 0],\n",
    "#               'G': [0, 0, 1, 0],\n",
    "#               'T': [0, 0, 0, 1],\n",
    "#               'a': [1, 0, 0, 0],\n",
    "#               'c': [0, 1, 0, 0],\n",
    "#               'g': [0, 0, 1, 0],\n",
    "#               't': [0, 0, 0, 1],\n",
    "#               'n': [0, 0, 0, 0],\n",
    "#               'N': [0, 0, 0, 0]}\n",
    "\n",
    "# file_num_limit = 10000    # The maximum number of files to be decoded\n",
    "# file_count = 0\n",
    "\n",
    "# # Iterate through every file\n",
    "# all_regions = []\n",
    "# for file in os.listdir(input_folder_path):\n",
    "#     # When the number of file decoded has reached the limit, stop\n",
    "#     if file_count < file_num_limit:\n",
    "#         data = list(SeqIO.parse(input_folder_path + file,\"fasta\"))\n",
    "#         for n in range(0, len(data)):\n",
    "#             # Extract the header information\n",
    "#             header = data[n].description.split('|')\n",
    "#             descr = data[n].description\n",
    "#             regionID = header[0]\n",
    "#             expressed = header[1]\n",
    "#             speciesID = header[2]\n",
    "#             strand = header[3]\n",
    "#             # Complement all sequences in the negative DNA strand\n",
    "# #             if strand == '-':\n",
    "# #                 # Using the syntax [e for e in base_pairs[n]] to create a new pointer for each position\n",
    "# #                 one_hot.append([descr, expressed, speciesID, [[e for e in base_pairs[n]] for n in data[n].seq.complement()]])\n",
    "# #             else:\n",
    "#             all_regions.append([descr, expressed, speciesID, [[e for e in base_pairs[n]] for n in data[n].seq]])\n",
    "#         file_count += 1\n",
    "        \n",
    "# output_name = 'all_regions.data'\n",
    "# with open(output_folder_path + output_name, mode=\"wb\") as output:\n",
    "#     print(\"save to {}\".format(os.path.join(output_folder_path, output_name)))\n",
    "#     pickle.dump(all_regions, output)\n",
    "\n",
    "# output_name = 'all_regions.data'\n",
    "# with open(os.path.join(output_folder_path, output_name), 'rb') as file:\n",
    "#     all_regions = pickle.load(file)\n",
    "\n",
    "# def curtail(lst, read_len):\n",
    "#     if len(lst) > read_len:\n",
    "#         lst = lst[:read_len]\n",
    "#     else:\n",
    "#         for i in range(read_len - len(lst)):\n",
    "#             lst.append([0, 0, 0, 0])\n",
    "#     return lst\n",
    "\n",
    "# max_len = 1000\n",
    "\n",
    "# train_x, train_y = [], []\n",
    "# for region in all_regions:\n",
    "#     y, x = int(region[1]), region[3]\n",
    "#     x = curtail(x, max_len)\n",
    "#     x = np.array(x).flatten()\n",
    "#     x = x.reshape((1000, 4))\n",
    "#     train_x.append(x)\n",
    "#     train_y.append(y)\n",
    "\n",
    "# train_x, train_y = np.array(train_x), np.array(train_y)\n",
    "\n",
    "# print(train_x.shape, train_y.shape)\n",
    "\n",
    "# with open(output_folder_path + 'train_x.data', mode=\"wb\") as output:\n",
    "#     print(\"save to {}\".format(os.path.join(output_folder_path, 'train_x.data')))\n",
    "#     pickle.dump(train_x, output)\n",
    "\n",
    "# with open(output_folder_path + 'train_y.data', mode=\"wb\") as output:\n",
    "#     print(\"save to {}\".format(os.path.join(output_folder_path, 'train_y.data')))\n",
    "#     pickle.dump(train_y, output)"
   ]
  },
  {
   "cell_type": "markdown",
   "metadata": {},
   "source": [
    "#### Load sampled data from a buffer"
   ]
  },
  {
   "cell_type": "code",
   "execution_count": 6,
   "metadata": {
    "code_folding": [
     1,
     5
    ]
   },
   "outputs": [
    {
     "data": {
      "text/plain": [
       "((5016, 1000, 4), (5016,))"
      ]
     },
     "execution_count": 6,
     "metadata": {},
     "output_type": "execute_result"
    }
   ],
   "source": [
    "output_name = 'train_x.data'\n",
    "with open(os.path.join(output_folder_path, output_name), 'rb') as file:\n",
    "    data_x = pickle.load(file)\n",
    "\n",
    "output_name = 'train_y.data'\n",
    "with open(os.path.join(output_folder_path, output_name), 'rb') as file:\n",
    "    data_y = pickle.load(file)\n",
    "\n",
    "data_x.shape, data_y.shape"
   ]
  },
  {
   "cell_type": "code",
   "execution_count": 20,
   "metadata": {
    "code_folding": [
     0
    ]
   },
   "outputs": [
    {
     "data": {
      "text/plain": [
       "((4013, 1000, 4), (4013,), (1003, 1000, 4), (1003,))"
      ]
     },
     "execution_count": 20,
     "metadata": {},
     "output_type": "execute_result"
    }
   ],
   "source": [
    "# Split it into training and validation data sets\n",
    "val_split = 0.2\n",
    "N = data_x.shape[0]\n",
    "num_val = int(N * val_split)\n",
    "\n",
    "val_indices = np.random.choice(np.arange(N), num_val, replace=False)\n",
    "train_indices = np.arange(N)[~np.isin(np.arange(N), val_indices)]\n",
    "\n",
    "train_x, train_y = data_x[train_indices], data_y[train_indices]\n",
    "val_x, val_y = data_x[val_indices], data_y[val_indices]\n",
    "\n",
    "train_x.shape, train_y.shape, val_x.shape, val_y.shape"
   ]
  },
  {
   "cell_type": "markdown",
   "metadata": {},
   "source": [
    "`train_x` has shape: (*# of training data*, *max length of sequence*, 4),\n",
    "where the maximal length of sequence by default is 1000 and 4 reflects the one-hot encoding of one nucleotide(A, T, G, or C)."
   ]
  },
  {
   "cell_type": "markdown",
   "metadata": {},
   "source": [
    "### 1.2 For BiLSTM model: (TODO: prepare data for pure BiLSTM model)"
   ]
  },
  {
   "cell_type": "code",
   "execution_count": 21,
   "metadata": {
    "code_folding": [
     0
    ]
   },
   "outputs": [],
   "source": [
    "# motif_list = []\n",
    "# motif_list.append(\"zelda\")\n",
    "# motif_list.append(\"cad_FlyReg\")\n",
    "# motif_list.append(\"bcd_FlyReg\")\n",
    "# motif_list.append(\"eve_new6\")\n",
    "\n",
    "# def motif_processing(motif_name):\n",
    "#     ''' Transform the motif files into the data structure specified above, one motif at a time.\n",
    "#     '''\n",
    "#     all_csvs = glob.glob(motif_folder_path + motif_name + '/*.fa.csv') # modified\n",
    "#     all_scores = shelve.open(motif_species_shelve_path)\n",
    "#     curr_motif = {}\n",
    "#     u = 0\n",
    "#     for csv_ in all_csvs:\n",
    "#         with open(csv_, encoding='utf-8') as csv_file:\n",
    "#             for a_line in csv_file:\n",
    "#                 curr_line = a_line.split(',') # modified\n",
    "#                 strand = curr_line[4] # modified\n",
    "#                 if strand == 'positive': # modified\n",
    "#                     score = float(curr_line[1]) # modified\n",
    "#                     species = curr_line[2] # modified\n",
    "#                     raw_position = int(curr_line[3]) # modified\n",
    "#                     if species not in curr_motif:\n",
    "#                         curr_motif[species] = {}\n",
    "#                     curr_motif[species][raw_position] = score\n",
    "#         u += 1\n",
    "#         #print(motif_name + ': ' + str(u))\n",
    "#     all_scores[motif_name] = curr_motif\n",
    "#     all_scores.close()\n",
    "    \n",
    "# for each_motif in motif_list:\n",
    "#     motif_processing(each_motif)\n",
    "    \n",
    "# all_scores = shelve.open(motif_species_shelve_path)\n",
    "# new_scores = shelve.open(species_motif_shelve_path)\n",
    "\n",
    "# def redesign_shelve(motif):\n",
    "#     ''' Redesign the data structure as specified above, one motif at a time.\n",
    "#     '''\n",
    "#     v = 0\n",
    "#     current_motif = all_scores[motif]\n",
    "#     for species in current_motif:\n",
    "#         if species not in new_scores:\n",
    "#             species_dic = {}\n",
    "#             species_dic[motif] = current_motif[species]\n",
    "#             new_scores[species] = species_dic\n",
    "#         else:\n",
    "#             species_dic = new_scores[species]\n",
    "#             species_dic[motif] = current_motif[species]\n",
    "#             new_scores[species] = species_dic\n",
    "#         v += 1\n",
    "#         print(motif + \": \" + str(v))\n",
    "\n",
    "# for each_motif in motif_list:\n",
    "#     redesign_shelve(each_motif)\n",
    "\n",
    "# new_scores.close()\n",
    "# all_scores.close()"
   ]
  },
  {
   "cell_type": "code",
   "execution_count": 22,
   "metadata": {
    "code_folding": [
     0
    ]
   },
   "outputs": [],
   "source": [
    "# # Use the following dictionary to perform the transformation\n",
    "# base_pairs = {'A': [1, 0, 0, 0], \n",
    "#               'C': [0, 1, 0, 0],\n",
    "#               'G': [0, 0, 1, 0],\n",
    "#               'T': [0, 0, 0, 1],\n",
    "#               'a': [1, 0, 0, 0],\n",
    "#               'c': [0, 1, 0, 0],\n",
    "#               'g': [0, 0, 1, 0],\n",
    "#               't': [0, 0, 0, 1],\n",
    "#               'n': [0, 0, 0, 0],\n",
    "#               'N': [0, 0, 0, 0]}\n",
    "\n",
    "# # The maximum number of files to be decoded\n",
    "# file_num_limit = 10000\n",
    "\n",
    "# # A counter for file processing\n",
    "# file_count = 0\n",
    "\n",
    "# def lacking_motif(sequence):\n",
    "#     ''' Return True if one or more motifs are missing for a sequence.\n",
    "#         Otherwise, return False.\n",
    "#     '''\n",
    "#     for each_motif in motif_list:\n",
    "#         if each_motif not in sequence:\n",
    "#             return True\n",
    "#     return False\n",
    "\n",
    "# new_scores = shelve.open(species_motif_shelve_path)\n",
    "\n",
    "# # Iterate through every file\n",
    "# for file in os.listdir(input_folder_path):\n",
    "#     one_hot = []\n",
    "#     # When the number of file decoded has reached the limit, stop\n",
    "#     if file_count < file_num_limit:\n",
    "#         data = list(SeqIO.parse(input_folder_path + file,\"fasta\"))\n",
    "#         for n in range(0, len(data)):\n",
    "#             # Extract the header information\n",
    "#             header = data[n].description.split('|')\n",
    "#             descr = data[n].description\n",
    "#             regionID = header[0]\n",
    "#             expressed = header[1]\n",
    "#             speciesID = header[2]\n",
    "#             strand = header[3]\n",
    "# #             # Complement all sequences in the negative DNA strand\n",
    "# #             if strand == '-':\n",
    "# #                 # Using the syntax [e for e in base_pairs[n]] to create a new pointer for each position\n",
    "# #                 one_hot.append([descr, expressed, speciesID, [[e for e in base_pairs[n]] for n in data[n].seq.complement()]])\n",
    "# #             else:\n",
    "#             one_hot.append([descr, expressed, speciesID, [[e for e in base_pairs[n]] for n in data[n].seq]])\n",
    "#         # Attach the TFBS scores to the end of each position\n",
    "#         to_write = True\n",
    "#         for item in one_hot:\n",
    "#             # Only outputs sequences that currently have TFBS scores\n",
    "#             # Ignore all sequences that do not have TFBS scores yet\n",
    "#             sequence_name = item[0]\n",
    "#             if sequence_name not in new_scores:\n",
    "#                 to_write = False\n",
    "#                 break\n",
    "#             current_sequence = new_scores[sequence_name]\n",
    "#             if lacking_motif(current_sequence):\n",
    "#                 to_write = False\n",
    "#                 break\n",
    "#             i = 0\n",
    "#             for encoding in item[3]:\n",
    "#                 # Take care of positions that do not have TFBS scores, attaching 0 as placeholder (i.e. NA)\n",
    "#                 if i not in current_sequence[motif_list[0]]:\n",
    "#                     encoding.extend([0 for _ in range(len(motif_list))])\n",
    "#                 else:\n",
    "#                     for each_motif in motif_list:\n",
    "#                         encoding.append(current_sequence[each_motif][i])\n",
    "#                 i += 1\n",
    "#         # Write the final encoding into txt files\n",
    "#         if to_write:\n",
    "#             with open(output_folder_path + regionID + \".txt\", mode=\"w\", encoding='utf-8') as output:\n",
    "#                 output.write(str(one_hot))\n",
    "#             file_count += 1\n",
    "#             #print(\"output: \" + str(file_count))\n",
    "\n",
    "# new_scores.close()"
   ]
  },
  {
   "cell_type": "markdown",
   "metadata": {},
   "source": [
    "## 2. Model and configurations"
   ]
  },
  {
   "cell_type": "code",
   "execution_count": 41,
   "metadata": {},
   "outputs": [],
   "source": [
    "def get_hybrid(opt):\n",
    "    \"\"\"  Return a hybrid network given a optimizer\n",
    "    \"\"\"\n",
    "    model = Sequential()\n",
    "    model.add(Conv1D(filters = 30, \n",
    "                     kernel_size = 15, \n",
    "                     padding = 'valid',\n",
    "                     data_format = 'channels_last',\n",
    "                     activation = 'relu'))\n",
    "    model.add(MaxPooling1D(pool_size = 5, strides = 5))\n",
    "    model.add(Dropout(0.8)) # 0.2\n",
    "    model.add(Bidirectional(LSTM(50), input_shape=(100, 50)))\n",
    "    model.add(Dropout(0.8)) # 0.5\n",
    "    model.add(Dense(20, activation = 'relu'))\n",
    "    model.add(Dense(1, activation='sigmoid'))\n",
    "    model.compile(optimizer=opt, loss='binary_crossentropy', metrics=['acc'])\n",
    "    return model\n",
    "\n",
    "def get_bilstm(opt):\n",
    "    \"\"\"  Return a baselined BiLSTM model given a optimizer\n",
    "    \"\"\"\n",
    "    model = Sequential()\n",
    "    model.add(Bidirectional(CuDNNLSTM(8), input_shape=(1000, 8)))\n",
    "    model.add(Dense(1, activation='sigmoid'))\n",
    "    model.compile(optimizer='rmsprop', loss='binary_crossentropy', metrics=['acc'])\n",
    "\n",
    "def train(model, train_x, train_y, val_data, config = {'epochs': 35, 'batch_size': 256}):\n",
    "    \"\"\"  Train model for a given config, training data, and validation data\n",
    "    \"\"\"\n",
    "    epochs, batch_size = config['epochs'], config['batch_size']\n",
    "    return model.fit(train_x, train_y, epochs=epochs, batch_size=batch_size, validation_data=val_data)\n",
    "\n",
    "def dianostic_plots(train_acc, train_loss, val_train_acc, val_loss):\n",
    "    \"\"\"  Plot dianostic plots of a model:\n",
    "    Plot 1: Traning loss & validation loss against epochs\n",
    "    Plot 2: Training acc & validation acc against epochs\n",
    "    \"\"\"\n",
    "    epochs = range(1, len(train_acc) + 1)\n",
    "\n",
    "    plt.plot(epochs, train_acc, '-', label='Training train_accuracy')\n",
    "    plt.plot(epochs, val_train_acc, '-', label='Validation Accuracy')\n",
    "    plt.title('Training and Validation Accuracy')\n",
    "    plt.xlabel('epoches')\n",
    "    plt.legend()\n",
    "\n",
    "    plt.figure()\n",
    "    plt.plot(epochs, loss, '-', label='Training Loss')\n",
    "    plt.plot(epochs, val_loss, '-', label='Validation Loss')\n",
    "    plt.title('Training and Validation Loss')\n",
    "    plt.xlabel('epoches')\n",
    "    plt.legend()\n",
    "    \n",
    "    plt.show()"
   ]
  },
  {
   "cell_type": "markdown",
   "metadata": {},
   "source": [
    "### 2.1 Training and Tuning"
   ]
  },
  {
   "cell_type": "code",
   "execution_count": 44,
   "metadata": {},
   "outputs": [],
   "source": [
    "# Set up some configurations\n",
    "optimizers = {'adam': Adam(lr=1e-3, beta_1=0.9, beta_2=0.999, epsilon=None, decay=1e-2, amsgrad=False),\n",
    "              'rmsprop': RMSprop(lr=1e-2, rho=0.9, epsilon=None, decay=1e-2)}\n",
    "\n",
    "model_prefix = ['hybrid']"
   ]
  },
  {
   "cell_type": "code",
   "execution_count": 45,
   "metadata": {},
   "outputs": [
    {
     "name": "stdout",
     "output_type": "stream",
     "text": [
      "Train on 4013 samples, validate on 1003 samples\n",
      "Epoch 1/35\n",
      "4013/4013 [==============================] - 27s 7ms/step - loss: 0.7006 - acc: 0.5223 - val_loss: 0.6463 - val_acc: 0.5513\n",
      "Epoch 2/35\n",
      "4013/4013 [==============================] - 24s 6ms/step - loss: 0.6631 - acc: 0.5365 - val_loss: 0.6495 - val_acc: 0.5414\n",
      "Epoch 3/35\n",
      "4013/4013 [==============================] - 23s 6ms/step - loss: 0.6609 - acc: 0.5522 - val_loss: 0.6424 - val_acc: 0.5733\n",
      "Epoch 4/35\n",
      "4013/4013 [==============================] - 24s 6ms/step - loss: 0.6726 - acc: 0.5492 - val_loss: 0.6471 - val_acc: 0.5513\n",
      "Epoch 5/35\n",
      "4013/4013 [==============================] - 23s 6ms/step - loss: 0.6572 - acc: 0.5624 - val_loss: 0.6454 - val_acc: 0.5513\n",
      "Epoch 6/35\n",
      "4013/4013 [==============================] - 23s 6ms/step - loss: 0.6504 - acc: 0.5736 - val_loss: 0.6395 - val_acc: 0.5553\n",
      "Epoch 7/35\n",
      "4013/4013 [==============================] - 23s 6ms/step - loss: 0.8495 - acc: 0.5769 - val_loss: 0.6426 - val_acc: 0.5693\n",
      "Epoch 8/35\n",
      "4013/4013 [==============================] - 24s 6ms/step - loss: 0.6465 - acc: 0.5973 - val_loss: 0.6300 - val_acc: 0.6481\n",
      "Epoch 9/35\n",
      "4013/4013 [==============================] - 24s 6ms/step - loss: 0.6423 - acc: 0.5976 - val_loss: 0.6298 - val_acc: 0.5773\n",
      "Epoch 10/35\n",
      "4013/4013 [==============================] - 24s 6ms/step - loss: 0.6310 - acc: 0.6222 - val_loss: 0.6083 - val_acc: 0.6461\n",
      "Epoch 11/35\n",
      "4013/4013 [==============================] - 23s 6ms/step - loss: 0.6129 - acc: 0.6536 - val_loss: 0.5683 - val_acc: 0.7378\n",
      "Epoch 12/35\n",
      "4013/4013 [==============================] - 24s 6ms/step - loss: 0.6025 - acc: 0.6626 - val_loss: 0.5671 - val_acc: 0.7059\n",
      "Epoch 13/35\n",
      "4013/4013 [==============================] - 23s 6ms/step - loss: 0.5867 - acc: 0.6880 - val_loss: 0.5613 - val_acc: 0.7827\n",
      "Epoch 14/35\n",
      "4013/4013 [==============================] - 23s 6ms/step - loss: 0.5767 - acc: 0.6972 - val_loss: 0.5062 - val_acc: 0.7677\n",
      "Epoch 15/35\n",
      "4013/4013 [==============================] - 23s 6ms/step - loss: 0.5509 - acc: 0.7147 - val_loss: 0.4666 - val_acc: 0.8056\n",
      "Epoch 16/35\n",
      "4013/4013 [==============================] - 24s 6ms/step - loss: 0.5308 - acc: 0.7314 - val_loss: 0.4696 - val_acc: 0.7757\n",
      "Epoch 17/35\n",
      "4013/4013 [==============================] - 23s 6ms/step - loss: 0.5245 - acc: 0.7361 - val_loss: 0.4447 - val_acc: 0.8225\n",
      "Epoch 18/35\n",
      "4013/4013 [==============================] - 24s 6ms/step - loss: 0.5186 - acc: 0.7431 - val_loss: 0.4397 - val_acc: 0.8056\n",
      "Epoch 19/35\n",
      "4013/4013 [==============================] - 24s 6ms/step - loss: 0.5108 - acc: 0.7483 - val_loss: 0.3875 - val_acc: 0.8564\n",
      "Epoch 20/35\n",
      "4013/4013 [==============================] - 24s 6ms/step - loss: 0.4993 - acc: 0.7580 - val_loss: 0.3966 - val_acc: 0.8465\n",
      "Epoch 21/35\n",
      "4013/4013 [==============================] - 24s 6ms/step - loss: 0.4951 - acc: 0.7608 - val_loss: 0.4324 - val_acc: 0.8026\n",
      "Epoch 22/35\n",
      "4013/4013 [==============================] - 24s 6ms/step - loss: 0.4872 - acc: 0.7640 - val_loss: 0.3915 - val_acc: 0.8564\n",
      "Epoch 23/35\n",
      "4013/4013 [==============================] - 24s 6ms/step - loss: 0.4804 - acc: 0.7690 - val_loss: 0.3754 - val_acc: 0.8554\n",
      "Epoch 24/35\n",
      "4013/4013 [==============================] - 23s 6ms/step - loss: 0.4845 - acc: 0.7683 - val_loss: 0.3722 - val_acc: 0.8644\n",
      "Epoch 25/35\n",
      "4013/4013 [==============================] - 24s 6ms/step - loss: 0.4954 - acc: 0.7653 - val_loss: 0.3705 - val_acc: 0.8644\n",
      "Epoch 26/35\n",
      "4013/4013 [==============================] - 23s 6ms/step - loss: 0.4572 - acc: 0.7832 - val_loss: 0.3631 - val_acc: 0.8694\n",
      "Epoch 27/35\n",
      "4013/4013 [==============================] - 24s 6ms/step - loss: 0.4590 - acc: 0.7802 - val_loss: 0.3374 - val_acc: 0.8833\n",
      "Epoch 28/35\n",
      "4013/4013 [==============================] - 24s 6ms/step - loss: 0.4606 - acc: 0.7847 - val_loss: 0.3510 - val_acc: 0.8754\n",
      "Epoch 29/35\n",
      "4013/4013 [==============================] - 23s 6ms/step - loss: 0.4548 - acc: 0.7842 - val_loss: 0.3411 - val_acc: 0.8814\n",
      "Epoch 30/35\n",
      "4013/4013 [==============================] - 24s 6ms/step - loss: 0.4406 - acc: 0.7897 - val_loss: 0.3425 - val_acc: 0.8764\n",
      "Epoch 31/35\n",
      "4013/4013 [==============================] - 23s 6ms/step - loss: 0.4352 - acc: 0.7974 - val_loss: 0.3318 - val_acc: 0.8863\n",
      "Epoch 32/35\n",
      "4013/4013 [==============================] - 24s 6ms/step - loss: 0.4210 - acc: 0.8101 - val_loss: 0.3123 - val_acc: 0.8833\n",
      "Epoch 33/35\n",
      "4013/4013 [==============================] - 23s 6ms/step - loss: 0.4350 - acc: 0.7949 - val_loss: 0.2906 - val_acc: 0.9053\n",
      "Epoch 34/35\n",
      "4013/4013 [==============================] - 24s 6ms/step - loss: 0.4408 - acc: 0.7912 - val_loss: 0.3113 - val_acc: 0.8953\n",
      "Epoch 35/35\n",
      "4013/4013 [==============================] - 24s 6ms/step - loss: 0.4112 - acc: 0.8116 - val_loss: 0.2958 - val_acc: 0.8973\n"
     ]
    }
   ],
   "source": [
    "# Start training\n",
    "opt = optimizers['rmsprop']\n",
    "model = get_hybrid(opt)\n",
    "history = train(model, train_x, train_y, (val_x, val_y))"
   ]
  },
  {
   "cell_type": "code",
   "execution_count": 46,
   "metadata": {},
   "outputs": [
    {
     "name": "stdout",
     "output_type": "stream",
     "text": [
      "_________________________________________________________________\n",
      "Layer (type)                 Output Shape              Param #   \n",
      "=================================================================\n",
      "conv1d_5 (Conv1D)            (None, 986, 30)           1830      \n",
      "_________________________________________________________________\n",
      "max_pooling1d_5 (MaxPooling1 (None, 197, 30)           0         \n",
      "_________________________________________________________________\n",
      "dropout_9 (Dropout)          (None, 197, 30)           0         \n",
      "_________________________________________________________________\n",
      "bidirectional_5 (Bidirection (None, 100)               32400     \n",
      "_________________________________________________________________\n",
      "dropout_10 (Dropout)         (None, 100)               0         \n",
      "_________________________________________________________________\n",
      "dense_9 (Dense)              (None, 20)                2020      \n",
      "_________________________________________________________________\n",
      "dense_10 (Dense)             (None, 1)                 21        \n",
      "=================================================================\n",
      "Total params: 36,271\n",
      "Trainable params: 36,271\n",
      "Non-trainable params: 0\n",
      "_________________________________________________________________\n"
     ]
    }
   ],
   "source": [
    "model.summary()"
   ]
  },
  {
   "cell_type": "code",
   "execution_count": 47,
   "metadata": {},
   "outputs": [
    {
     "data": {
      "image/png": "[encoded data removed]",
      "text/plain": [
       "<Figure size 432x288 with 1 Axes>"
      ]
     },
     "metadata": {},
     "output_type": "display_data"
    },
    {
     "data": {
      "image/png": "[encoded data removed]",
      "text/plain": [
       "<Figure size 432x288 with 1 Axes>"
      ]
     },
     "metadata": {},
     "output_type": "display_data"
    }
   ],
   "source": [
    "acc = history.history['acc']\n",
    "val_acc = history.history['val_acc']\n",
    "loss = history.history['loss']\n",
    "val_loss = history.history['val_loss']\n",
    "\n",
    "dianostic_plots(acc, loss, val_acc, val_loss)"
   ]
  },
  {
   "cell_type": "code",
   "execution_count": 53,
   "metadata": {},
   "outputs": [],
   "source": [
    "# Save the model for later analysis\n",
    "save_model_path = '/home/ubuntu/data/team_neural_network/code/models'\n",
    "model_name = 'hybrid_net'\n",
    "model.save(os.path.join(save_model_path, model_name))"
   ]
  },
  {
   "cell_type": "markdown",
   "metadata": {},
   "source": [
    "### 2.2 Evaluation"
   ]
  },
  {
   "cell_type": "markdown",
   "metadata": {},
   "source": [
    "## 3. Retrieve the motifs found by the network"
   ]
  },
  {
   "cell_type": "code",
   "execution_count": 48,
   "metadata": {},
   "outputs": [
    {
     "data": {
      "text/plain": [
       "(array([[0.944966]], dtype=float32), array([[1]], dtype=int32))"
      ]
     },
     "execution_count": 48,
     "metadata": {},
     "output_type": "execute_result"
    }
   ],
   "source": [
    "i = 4\n",
    "model.predict(train_x[i].reshape(1, -1, 4)), model.predict_classes(train_x[i].reshape(1, -1, 4))"
   ]
  },
  {
   "cell_type": "code",
   "execution_count": 49,
   "metadata": {},
   "outputs": [],
   "source": [
    "conv_weights = model.layers[0].get_weights()"
   ]
  },
  {
   "cell_type": "code",
   "execution_count": 50,
   "metadata": {},
   "outputs": [
    {
     "data": {
      "text/plain": [
       "(15, 4, 30)"
      ]
     },
     "execution_count": 50,
     "metadata": {},
     "output_type": "execute_result"
    }
   ],
   "source": [
    "# weights\n",
    "conv_weights[0].shape"
   ]
  },
  {
   "cell_type": "code",
   "execution_count": 51,
   "metadata": {},
   "outputs": [
    {
     "data": {
      "text/plain": [
       "(30,)"
      ]
     },
     "execution_count": 51,
     "metadata": {},
     "output_type": "execute_result"
    }
   ],
   "source": [
    "# bias\n",
    "conv_weights[1].shape"
   ]
  },
  {
   "cell_type": "code",
   "execution_count": null,
   "metadata": {},
   "outputs": [],
   "source": []
  }
 ],
 "metadata": {
  "kernelspec": {
   "display_name": "Python 3",
   "language": "python",
   "name": "python3"
  },
  "language_info": {
   "codemirror_mode": {
    "name": "ipython",
    "version": 3
   },
   "file_extension": ".py",
   "mimetype": "text/x-python",
   "name": "python",
   "nbconvert_exporter": "python",
   "pygments_lexer": "ipython3",
   "version": "3.6.8"
  }
 },
 "nbformat": 4,
 "nbformat_minor": 2
}
