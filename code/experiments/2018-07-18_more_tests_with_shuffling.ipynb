{
 "cells": [
  {
   "cell_type": "markdown",
   "metadata": {},
   "source": [
    "**Date**: 2018-07-18\n",
    "\n",
    "**Authors**: Yichen Fang\n",
    "\n",
    "**Purpose**: Try more tests in order to confirm the shuffling result on 2018-07-17.\n",
    "\n",
    "This notebook tests a naive alignment scheme that selects the first 1000 positions of a DNA sequence (add null positions to the end if a sequence is shorter than 1000). The sequences are shuffled before feeding into the neural network. The training data consists of 8712 sequences, and the validation data consists of 968 sequences.\n",
    "\n",
    "**Background**:\n",
    "- Based on the success of the shuffling result, this notebook runs more experiment to confirm that the result is indeed valid (not due to, say, random coincidence).\n",
    "\n",
    "**Experiment**:"
   ]
  },
  {
   "cell_type": "code",
   "execution_count": 2,
   "metadata": {},
   "outputs": [],
   "source": [
    "import pickle\n",
    "import numpy as np\n",
    "import matplotlib.pyplot as plt"
   ]
  },
  {
   "cell_type": "markdown",
   "metadata": {},
   "source": [
    "Load the `pickle` buffered list:"
   ]
  },
  {
   "cell_type": "code",
   "execution_count": 3,
   "metadata": {},
   "outputs": [
    {
     "data": {
      "text/plain": [
       "10752"
      ]
     },
     "execution_count": 3,
     "metadata": {},
     "output_type": "execute_result"
    }
   ],
   "source": [
    "with open(\"../data/list_buffer.txt\", \"rb\") as buff:\n",
    "    seq_record_list = pickle.load(buff)\n",
    "len(seq_record_list)"
   ]
  },
  {
   "cell_type": "markdown",
   "metadata": {},
   "source": [
    "The following cell randomly shuffles the sequences."
   ]
  },
  {
   "cell_type": "code",
   "execution_count": 4,
   "metadata": {},
   "outputs": [],
   "source": [
    "from random import shuffle\n",
    "shuffle(seq_record_list)"
   ]
  },
  {
   "cell_type": "markdown",
   "metadata": {},
   "source": [
    "The following cell transforms the data into a format that is recognizable by the neural network model."
   ]
  },
  {
   "cell_type": "code",
   "execution_count": 5,
   "metadata": {},
   "outputs": [],
   "source": [
    "# A helper function to flatten a 2d list to 1d.\n",
    "# Input: [[1, 2], [2, 3], [3, 4, 5]]\n",
    "# Output: [1, 2, 2, 3, 3, 4, 5]\n",
    "def flatten(lst):\n",
    "    new_lst = []\n",
    "    for sub_lst in lst:\n",
    "        for item in sub_lst:\n",
    "            new_lst.append(item)\n",
    "    return new_lst\n",
    "\n",
    "# A helper function to transform a lst so that its length becomes read_len by:\n",
    "# 1. If len(lst) > read_len, curtail the end of the lst.\n",
    "# 2. If len(lst) < read_len, keep extending the end of the lst with 0 (NA).\n",
    "def curtail(lst, read_len):\n",
    "    if len(lst) > read_len:\n",
    "        lst = lst[:read_len]\n",
    "    else:\n",
    "        for i in range(read_len - len(lst)):\n",
    "            lst.append([0, 0, 0, 0, 0, 0, 0])\n",
    "    return lst\n",
    "\n",
    "# Produce the train-test split\n",
    "# length_read: the length that you want all DNA sequences to conform to\n",
    "def prepare_input(training_size, test_size, length_read):\n",
    "    X_train = []\n",
    "    y_train = []\n",
    "    X_test = []\n",
    "    y_test = []\n",
    "    seq_count = 0\n",
    "    while seq_count < training_size:\n",
    "        X_train.append(flatten(curtail(seq_record_list[seq_count][3], length_read)))\n",
    "        y_train.append(int(seq_record_list[seq_count][1]))\n",
    "        seq_count += 1\n",
    "    while seq_count < (training_size + test_size):\n",
    "        X_test.append(flatten(curtail(seq_record_list[seq_count][3], length_read)))\n",
    "        y_test.append(int(seq_record_list[seq_count][1]))\n",
    "        seq_count += 1\n",
    "    return X_train, y_train, X_test, y_test\n",
    "\n",
    "# Turn list into numpy tensors that can directly feed into a neural network model\n",
    "def to_np_array(X_train, y_train, X_test, y_test):\n",
    "    X_train = np.array(X_train)\n",
    "    y_train = np.array(y_train)\n",
    "    if len(y_train.shape) == 1:\n",
    "        y_train = np.transpose(np.array([y_train]))\n",
    "    X_test = np.array(X_test)\n",
    "    y_test = np.transpose(np.array(y_test))\n",
    "    if len(y_test.shape) == 1:\n",
    "        y_test = np.transpose(np.array([y_test]))\n",
    "    return X_train, y_train, X_test, y_test"
   ]
  },
  {
   "cell_type": "code",
   "execution_count": 6,
   "metadata": {},
   "outputs": [
    {
     "data": {
      "text/plain": [
       "[(9680, 7000), (9680, 1), (1072, 7000), (1072, 1)]"
      ]
     },
     "execution_count": 6,
     "metadata": {},
     "output_type": "execute_result"
    }
   ],
   "source": [
    "X_train, y_train, X_test, y_test = prepare_input(9680, 1072, 1000)\n",
    "X_train, y_train, X_test, y_test = to_np_array(X_train, y_train, X_test, y_test)\n",
    "[X_train.shape, y_train.shape, X_test.shape, y_test.shape]"
   ]
  },
  {
   "cell_type": "markdown",
   "metadata": {},
   "source": [
    "We run the experiment with four LSTM layers, having 8, 8, 4, 4 units respectively, and 50 epoches:"
   ]
  },
  {
   "cell_type": "code",
   "execution_count": 8,
   "metadata": {},
   "outputs": [],
   "source": [
    "from keras.models import Model, Sequential\n",
    "from keras.layers import Dense, CuDNNLSTM"
   ]
  },
  {
   "cell_type": "code",
   "execution_count": 9,
   "metadata": {},
   "outputs": [],
   "source": [
    "X_train_rnn = X_train.reshape(9680, 1000, 7)"
   ]
  },
  {
   "cell_type": "code",
   "execution_count": 10,
   "metadata": {
    "scrolled": true
   },
   "outputs": [
    {
     "name": "stdout",
     "output_type": "stream",
     "text": [
      "Train on 8712 samples, validate on 968 samples\n",
      "Epoch 1/50\n",
      "8712/8712 [==============================] - 30s 3ms/step - loss: 0.6761 - acc: 0.5895 - val_loss: 0.6661 - val_acc: 0.5899\n",
      "Epoch 2/50\n",
      "8712/8712 [==============================] - 27s 3ms/step - loss: 0.6572 - acc: 0.5968 - val_loss: 0.6715 - val_acc: 0.5950\n",
      "Epoch 3/50\n",
      "8712/8712 [==============================] - 26s 3ms/step - loss: 0.6489 - acc: 0.6101 - val_loss: 0.6536 - val_acc: 0.5775\n",
      "Epoch 4/50\n",
      "8712/8712 [==============================] - 25s 3ms/step - loss: 0.6447 - acc: 0.6065 - val_loss: 0.6518 - val_acc: 0.5806\n",
      "Epoch 5/50\n",
      "8712/8712 [==============================] - 24s 3ms/step - loss: 0.6411 - acc: 0.6096 - val_loss: 0.6591 - val_acc: 0.5971\n",
      "Epoch 6/50\n",
      "8712/8712 [==============================] - 24s 3ms/step - loss: 0.6384 - acc: 0.6080 - val_loss: 0.6488 - val_acc: 0.6002\n",
      "Epoch 7/50\n",
      "8712/8712 [==============================] - 24s 3ms/step - loss: 0.6359 - acc: 0.6118 - val_loss: 0.6410 - val_acc: 0.6209\n",
      "Epoch 8/50\n",
      "8712/8712 [==============================] - 24s 3ms/step - loss: 0.6330 - acc: 0.6172 - val_loss: 0.6727 - val_acc: 0.6012\n",
      "Epoch 9/50\n",
      "8712/8712 [==============================] - 24s 3ms/step - loss: 0.6295 - acc: 0.6265 - val_loss: 0.6434 - val_acc: 0.6043\n",
      "Epoch 10/50\n",
      "8712/8712 [==============================] - 24s 3ms/step - loss: 0.6260 - acc: 0.6329 - val_loss: 0.6361 - val_acc: 0.6178\n",
      "Epoch 11/50\n",
      "8712/8712 [==============================] - 24s 3ms/step - loss: 0.6228 - acc: 0.6389 - val_loss: 0.6828 - val_acc: 0.6095\n",
      "Epoch 12/50\n",
      "8712/8712 [==============================] - 24s 3ms/step - loss: 0.6185 - acc: 0.6469 - val_loss: 0.6641 - val_acc: 0.5640\n",
      "Epoch 13/50\n",
      "8712/8712 [==============================] - 24s 3ms/step - loss: 0.6121 - acc: 0.6577 - val_loss: 0.6388 - val_acc: 0.6281\n",
      "Epoch 14/50\n",
      "8712/8712 [==============================] - 24s 3ms/step - loss: 0.6069 - acc: 0.6661 - val_loss: 0.6065 - val_acc: 0.6829\n",
      "Epoch 15/50\n",
      "8712/8712 [==============================] - 24s 3ms/step - loss: 0.6013 - acc: 0.6786 - val_loss: 0.6091 - val_acc: 0.6746\n",
      "Epoch 16/50\n",
      "8712/8712 [==============================] - 24s 3ms/step - loss: 0.5959 - acc: 0.6866 - val_loss: 0.6205 - val_acc: 0.6653\n",
      "Epoch 17/50\n",
      "8712/8712 [==============================] - 24s 3ms/step - loss: 0.5873 - acc: 0.6963 - val_loss: 0.5928 - val_acc: 0.7014\n",
      "Epoch 18/50\n",
      "8712/8712 [==============================] - 24s 3ms/step - loss: 0.5807 - acc: 0.7003 - val_loss: 0.6471 - val_acc: 0.6188\n",
      "Epoch 19/50\n",
      "8712/8712 [==============================] - 24s 3ms/step - loss: 0.5740 - acc: 0.7112 - val_loss: 0.6725 - val_acc: 0.5930\n",
      "Epoch 20/50\n",
      "8712/8712 [==============================] - 24s 3ms/step - loss: 0.5669 - acc: 0.7177 - val_loss: 0.6142 - val_acc: 0.6643\n",
      "Epoch 21/50\n",
      "8712/8712 [==============================] - 24s 3ms/step - loss: 0.5623 - acc: 0.7200 - val_loss: 0.5608 - val_acc: 0.7345\n",
      "Epoch 22/50\n",
      "8712/8712 [==============================] - 24s 3ms/step - loss: 0.5517 - acc: 0.7326 - val_loss: 0.5672 - val_acc: 0.7200\n",
      "Epoch 23/50\n",
      "8712/8712 [==============================] - 24s 3ms/step - loss: 0.5479 - acc: 0.7374 - val_loss: 0.5563 - val_acc: 0.7211\n",
      "Epoch 24/50\n",
      "8712/8712 [==============================] - 24s 3ms/step - loss: 0.5417 - acc: 0.7428 - val_loss: 0.5742 - val_acc: 0.7118\n",
      "Epoch 25/50\n",
      "8712/8712 [==============================] - 24s 3ms/step - loss: 0.5344 - acc: 0.7462 - val_loss: 0.6008 - val_acc: 0.7035\n",
      "Epoch 26/50\n",
      "8712/8712 [==============================] - 24s 3ms/step - loss: 0.5358 - acc: 0.7498 - val_loss: 0.5475 - val_acc: 0.7407\n",
      "Epoch 27/50\n",
      "8712/8712 [==============================] - 24s 3ms/step - loss: 0.5183 - acc: 0.7652 - val_loss: 0.5647 - val_acc: 0.7314\n",
      "Epoch 28/50\n",
      "8712/8712 [==============================] - 24s 3ms/step - loss: 0.5128 - acc: 0.7731 - val_loss: 0.5877 - val_acc: 0.7107\n",
      "Epoch 29/50\n",
      "8712/8712 [==============================] - 24s 3ms/step - loss: 0.5100 - acc: 0.7756 - val_loss: 0.5167 - val_acc: 0.7769\n",
      "Epoch 30/50\n",
      "8712/8712 [==============================] - 24s 3ms/step - loss: 0.5100 - acc: 0.7753 - val_loss: 0.5350 - val_acc: 0.7541\n",
      "Epoch 31/50\n",
      "8712/8712 [==============================] - 24s 3ms/step - loss: 0.4951 - acc: 0.7924 - val_loss: 0.5041 - val_acc: 0.7789\n",
      "Epoch 32/50\n",
      "8712/8712 [==============================] - 24s 3ms/step - loss: 0.4827 - acc: 0.8020 - val_loss: 0.5709 - val_acc: 0.7138\n",
      "Epoch 33/50\n",
      "8712/8712 [==============================] - 24s 3ms/step - loss: 0.4752 - acc: 0.8113 - val_loss: 0.4950 - val_acc: 0.7872\n",
      "Epoch 34/50\n",
      "8712/8712 [==============================] - 24s 3ms/step - loss: 0.4663 - acc: 0.8152 - val_loss: 0.5387 - val_acc: 0.7603\n",
      "Epoch 35/50\n",
      "8712/8712 [==============================] - 24s 3ms/step - loss: 0.4591 - acc: 0.8204 - val_loss: 0.4931 - val_acc: 0.7872\n",
      "Epoch 36/50\n",
      "8712/8712 [==============================] - 24s 3ms/step - loss: 0.4508 - acc: 0.8256 - val_loss: 0.4697 - val_acc: 0.8171\n",
      "Epoch 37/50\n",
      "8712/8712 [==============================] - 24s 3ms/step - loss: 0.4437 - acc: 0.8286 - val_loss: 0.4991 - val_acc: 0.7820\n",
      "Epoch 38/50\n",
      "8712/8712 [==============================] - 24s 3ms/step - loss: 0.4389 - acc: 0.8332 - val_loss: 0.4976 - val_acc: 0.7872\n",
      "Epoch 39/50\n",
      "8712/8712 [==============================] - 24s 3ms/step - loss: 0.4259 - acc: 0.8406 - val_loss: 0.5637 - val_acc: 0.7469\n",
      "Epoch 40/50\n",
      "8712/8712 [==============================] - 24s 3ms/step - loss: 0.4198 - acc: 0.8442 - val_loss: 0.4401 - val_acc: 0.8316\n",
      "Epoch 41/50\n",
      "8712/8712 [==============================] - 24s 3ms/step - loss: 0.4157 - acc: 0.8446 - val_loss: 0.4479 - val_acc: 0.8223\n",
      "Epoch 42/50\n",
      "8712/8712 [==============================] - 24s 3ms/step - loss: 0.4127 - acc: 0.8453 - val_loss: 0.4296 - val_acc: 0.8285\n",
      "Epoch 43/50\n",
      "8712/8712 [==============================] - 24s 3ms/step - loss: 0.4009 - acc: 0.8547 - val_loss: 0.4145 - val_acc: 0.8471\n",
      "Epoch 44/50\n",
      "8712/8712 [==============================] - 24s 3ms/step - loss: 0.3936 - acc: 0.8562 - val_loss: 0.4588 - val_acc: 0.8089\n",
      "Epoch 45/50\n",
      "8712/8712 [==============================] - 24s 3ms/step - loss: 0.3875 - acc: 0.8627 - val_loss: 0.3839 - val_acc: 0.8636\n",
      "Epoch 46/50\n",
      "8712/8712 [==============================] - 24s 3ms/step - loss: 0.3833 - acc: 0.8647 - val_loss: 0.4041 - val_acc: 0.8554\n",
      "Epoch 47/50\n",
      "8712/8712 [==============================] - 24s 3ms/step - loss: 0.3841 - acc: 0.8648 - val_loss: 0.4616 - val_acc: 0.8110\n",
      "Epoch 48/50\n",
      "8712/8712 [==============================] - 24s 3ms/step - loss: 0.3671 - acc: 0.8749 - val_loss: 0.4213 - val_acc: 0.8388\n",
      "Epoch 49/50\n",
      "8712/8712 [==============================] - 24s 3ms/step - loss: 0.3620 - acc: 0.8773 - val_loss: 0.3751 - val_acc: 0.8709\n",
      "Epoch 50/50\n",
      "8712/8712 [==============================] - 24s 3ms/step - loss: 0.3605 - acc: 0.8763 - val_loss: 0.3702 - val_acc: 0.8626\n"
     ]
    }
   ],
   "source": [
    "model = Sequential()\n",
    "model.add(CuDNNLSTM(8, input_shape=(1000, 7), return_sequences=True))\n",
    "model.add(CuDNNLSTM(8, return_sequences=True))\n",
    "model.add(CuDNNLSTM(4, return_sequences=True))\n",
    "model.add(CuDNNLSTM(4))\n",
    "model.add(Dense(1, activation='sigmoid'))\n",
    "model.compile(optimizer='rmsprop', loss='binary_crossentropy', metrics=['acc'])\n",
    "history = model.fit(X_train_rnn, y_train, epochs=50, batch_size=128, validation_split=0.1)"
   ]
  },
  {
   "cell_type": "markdown",
   "metadata": {},
   "source": [
    "**Result**:\n",
    "\n",
    "The following cell **visualize** the training/validation accuracies and losses over each epoch."
   ]
  },
  {
   "cell_type": "code",
   "execution_count": 11,
   "metadata": {},
   "outputs": [
    {
     "data": {
      "image/png": "[encoded data removed]",
      "text/plain": [
       "<Figure size 432x288 with 1 Axes>"
      ]
     },
     "metadata": {},
     "output_type": "display_data"
    },
    {
     "data": {
      "image/png": "[encoded data removed]",
      "text/plain": [
       "<Figure size 432x288 with 1 Axes>"
      ]
     },
     "metadata": {},
     "output_type": "display_data"
    }
   ],
   "source": [
    "acc = history.history['acc']\n",
    "val_acc = history.history['val_acc']\n",
    "loss = history.history['loss']\n",
    "val_loss = history.history['val_loss']\n",
    "\n",
    "epochs = range(1, len(acc) + 1)\n",
    "\n",
    "plt.plot(epochs, acc, 'bo', label='Training Accuracy')\n",
    "plt.plot(epochs, val_acc, 'b', label='Validation Accuracy')\n",
    "plt.title('Training and Validation Accuracy')\n",
    "plt.xlabel('epoches')\n",
    "plt.legend()\n",
    "\n",
    "plt.figure()\n",
    "\n",
    "plt.plot(epochs, loss, 'bo', label='Training Loss')\n",
    "plt.plot(epochs, val_loss, 'b', label='Validation Loss')\n",
    "plt.title('Training and Validation Loss')\n",
    "plt.xlabel('epoches')\n",
    "plt.legend()\n",
    "\n",
    "plt.show()"
   ]
  },
  {
   "cell_type": "markdown",
   "metadata": {},
   "source": [
    "\n",
    "**Conclusion**:\n",
    "\n",
    "- The result is very promising. It confirms two things:\n",
    "    1. The result on 2018-07-17 is not mere coincidence.\n",
    "    2. As shown on the graph above, the trend of accuracy shows no sign of fading at epoch 50 and an accuracy of 85%, indicating that the limit has not been reached yet.\n",
    "- My next steps are:\n",
    "    1. Test the limit of the model.\n",
    "    2. Speed up the model."
   ]
  }
 ],
 "metadata": {
  "kernelspec": {
   "display_name": "Python 3",
   "language": "python",
   "name": "python3"
  },
  "language_info": {
   "codemirror_mode": {
    "name": "ipython",
    "version": 3
   },
   "file_extension": ".py",
   "mimetype": "text/x-python",
   "name": "python",
   "nbconvert_exporter": "python",
   "pygments_lexer": "ipython3",
   "version": "3.6.4"
  }
 },
 "nbformat": 4,
 "nbformat_minor": 2
}
