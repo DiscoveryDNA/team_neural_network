{
 "cells": [
  {
   "cell_type": "markdown",
   "metadata": {},
   "source": [
    "**Date**: 2019-02-08\n",
    "\n",
    "**Authors**: Adam Stafford\n",
    "\n",
    "**Purpose**: To test whether the experiment using the bidirectional LTSM from 2018-01-29 will work with only the DNA sequence without the TFBS data.\n",
    "\n",
    "This notebook tests a naive alignment scheme that selects the first 1000 positions of a DNA sequence (add null positions to the end if a sequence is shorter than 1000). The sequences are shuffled before feeding into the neural network.\n",
    "\n",
    "**Background**:\n",
    "- The idea of this experiment is to understand how the DNA sequences contribute to the accuracy of the model from 2018-01-29. For this purpose, we run the neural network without the TFBS data.\n",
    "\n",
    "**Experiment**:"
   ]
  },
  {
   "cell_type": "code",
   "execution_count": 1,
   "metadata": {},
   "outputs": [
    {
     "name": "stderr",
     "output_type": "stream",
     "text": [
      "/home/ubuntu/anaconda3/envs/tensorflow_p36/lib/python3.6/site-packages/matplotlib/__init__.py:1067: UserWarning: Duplicate key in file \"/home/ubuntu/.config/matplotlib/matplotlibrc\", line #2\n",
      "  (fname, cnt))\n",
      "/home/ubuntu/anaconda3/envs/tensorflow_p36/lib/python3.6/site-packages/matplotlib/__init__.py:1067: UserWarning: Duplicate key in file \"/home/ubuntu/.config/matplotlib/matplotlibrc\", line #3\n",
      "  (fname, cnt))\n"
     ]
    }
   ],
   "source": [
    "import pickle\n",
    "import numpy as np\n",
    "import matplotlib.pyplot as plt"
   ]
  },
  {
   "cell_type": "markdown",
   "metadata": {},
   "source": [
    "Load the `pickle` buffered list:"
   ]
  },
  {
   "cell_type": "code",
   "execution_count": 2,
   "metadata": {},
   "outputs": [],
   "source": [
    "with open(\"../data/new_list_buffer.txt\", \"rb\") as buff:\n",
    "    seq_record_list = pickle.load(buff)"
   ]
  },
  {
   "cell_type": "markdown",
   "metadata": {},
   "source": [
    "The following cell retains only 4800 sequences, for the purpose of testing speed. It also randomly shuffles the 4800 sequences."
   ]
  },
  {
   "cell_type": "code",
   "execution_count": 3,
   "metadata": {},
   "outputs": [],
   "source": [
    "seq_record_list = seq_record_list[:4800]\n",
    "from random import shuffle\n",
    "shuffle(seq_record_list)"
   ]
  },
  {
   "cell_type": "markdown",
   "metadata": {},
   "source": [
    "The following cell transforms the data into a format that is recognizable by the neural network model, but ignores the TFBS data."
   ]
  },
  {
   "cell_type": "code",
   "execution_count": 4,
   "metadata": {},
   "outputs": [],
   "source": [
    "# A helper function to flatten a 2d list to 1d.\n",
    "# Input: [[1, 2], [2, 3], [3, 4, 5]]\n",
    "# Output: [1, 2, 2, 3, 3, 4, 5]\n",
    "def flatten(lst):\n",
    "    new_lst = []\n",
    "    for sub_lst in lst:\n",
    "        for item in sub_lst:\n",
    "            new_lst.append(item)\n",
    "    return new_lst\n",
    "\n",
    "# A helper function to transform a lst so that its length becomes read_len by:\n",
    "# 1. If len(lst) > read_len, curtail the end of the lst.\n",
    "# 2. If len(lst) < read_len, keep extending the end of the lst with 0 (NA).\n",
    "def curtail(lst, read_len):\n",
    "    for i in range(0, len(lst)):\n",
    "        lst[i] = lst[i][0:4]\n",
    "    if len(lst) > read_len:\n",
    "        lst = lst[:read_len]\n",
    "    else:\n",
    "        for i in range(read_len - len(lst)):\n",
    "            lst.append([0, 0, 0, 0])\n",
    "    return lst\n",
    "\n",
    "# Produce the train-test split\n",
    "# length_read: the length that you want all DNA sequences to conform to\n",
    "def prepare_input(training_size, test_size, length_read):\n",
    "    X_train = []\n",
    "    y_train = []\n",
    "    X_test = []\n",
    "    y_test = []\n",
    "    seq_count = 0\n",
    "    while seq_count < training_size:\n",
    "        X_train.append(flatten(curtail(seq_record_list[seq_count][3], length_read)))\n",
    "        y_train.append(int(seq_record_list[seq_count][1]))\n",
    "        seq_count += 1\n",
    "    while seq_count < (training_size + test_size):\n",
    "        X_test.append(flatten(curtail(seq_record_list[seq_count][3], length_read)))\n",
    "        y_test.append(int(seq_record_list[seq_count][1]))\n",
    "        seq_count += 1\n",
    "    return X_train, y_train, X_test, y_test\n",
    "\n",
    "# Turn list into numpy tensors that can directly feed into a neural network model\n",
    "def to_np_array(X_train, y_train, X_test, y_test):\n",
    "    X_train = np.array(X_train)\n",
    "    y_train = np.array(y_train)\n",
    "    if len(y_train.shape) == 1:\n",
    "        y_train = np.transpose(np.array([y_train]))\n",
    "    X_test = np.array(X_test)\n",
    "    y_test = np.transpose(np.array(y_test))\n",
    "    if len(y_test.shape) == 1:\n",
    "        y_test = np.transpose(np.array([y_test]))\n",
    "    return X_train, y_train, X_test, y_test"
   ]
  },
  {
   "cell_type": "code",
   "execution_count": 5,
   "metadata": {},
   "outputs": [
    {
     "data": {
      "text/plain": [
       "[(4320, 4000), (4320, 1), (480, 4000), (480, 1)]"
      ]
     },
     "execution_count": 5,
     "metadata": {},
     "output_type": "execute_result"
    }
   ],
   "source": [
    "X_train, y_train, X_test, y_test = prepare_input(4320, 480, 1000)\n",
    "X_train, y_train, X_test, y_test = to_np_array(X_train, y_train, X_test, y_test)\n",
    "[X_train.shape, y_train.shape, X_test.shape, y_test.shape]"
   ]
  },
  {
   "cell_type": "code",
   "execution_count": null,
   "metadata": {},
   "outputs": [],
   "source": []
  },
  {
   "cell_type": "markdown",
   "metadata": {},
   "source": [
    "The following cells build a recurrent network with one bidirectional LSTM layer."
   ]
  },
  {
   "cell_type": "code",
   "execution_count": 6,
   "metadata": {},
   "outputs": [
    {
     "name": "stderr",
     "output_type": "stream",
     "text": [
      "/home/ubuntu/anaconda3/envs/tensorflow_p36/lib/python3.6/site-packages/h5py/__init__.py:36: FutureWarning: Conversion of the second argument of issubdtype from `float` to `np.floating` is deprecated. In future, it will be treated as `np.float64 == np.dtype(float).type`.\n",
      "  from ._conv import register_converters as _register_converters\n",
      "Using TensorFlow backend.\n"
     ]
    }
   ],
   "source": [
    "from keras.models import Model, Sequential\n",
    "from keras.layers import Dense, CuDNNLSTM, Bidirectional"
   ]
  },
  {
   "cell_type": "code",
   "execution_count": 7,
   "metadata": {},
   "outputs": [],
   "source": [
    "X_train_rnn = X_train.reshape(4320, 1000, 4)"
   ]
  },
  {
   "cell_type": "code",
   "execution_count": 8,
   "metadata": {
    "scrolled": true
   },
   "outputs": [
    {
     "name": "stdout",
     "output_type": "stream",
     "text": [
      "Train on 3888 samples, validate on 432 samples\n",
      "Epoch 1/150\n",
      "3888/3888 [==============================] - 7s 2ms/step - loss: 0.6950 - acc: 0.4946 - val_loss: 0.6927 - val_acc: 0.5162\n",
      "Epoch 2/150\n",
      "3888/3888 [==============================] - 5s 1ms/step - loss: 0.6912 - acc: 0.5249 - val_loss: 0.6908 - val_acc: 0.5116\n",
      "Epoch 3/150\n",
      "3888/3888 [==============================] - 5s 1ms/step - loss: 0.6875 - acc: 0.5306 - val_loss: 0.6873 - val_acc: 0.5301\n",
      "Epoch 4/150\n",
      "3888/3888 [==============================] - 5s 1ms/step - loss: 0.6817 - acc: 0.5365 - val_loss: 0.6832 - val_acc: 0.5301\n",
      "Epoch 5/150\n",
      "3888/3888 [==============================] - 5s 1ms/step - loss: 0.6778 - acc: 0.5409 - val_loss: 0.6810 - val_acc: 0.5370\n",
      "Epoch 6/150\n",
      "3888/3888 [==============================] - 5s 1ms/step - loss: 0.6755 - acc: 0.5458 - val_loss: 0.6793 - val_acc: 0.5440\n",
      "Epoch 7/150\n",
      "3888/3888 [==============================] - 5s 1ms/step - loss: 0.6738 - acc: 0.5401 - val_loss: 0.6775 - val_acc: 0.5324\n",
      "Epoch 8/150\n",
      "3888/3888 [==============================] - 5s 1ms/step - loss: 0.6720 - acc: 0.5435 - val_loss: 0.6761 - val_acc: 0.5532\n",
      "Epoch 9/150\n",
      "3888/3888 [==============================] - 5s 1ms/step - loss: 0.6709 - acc: 0.5553 - val_loss: 0.6749 - val_acc: 0.5648\n",
      "Epoch 10/150\n",
      "3888/3888 [==============================] - 5s 1ms/step - loss: 0.6699 - acc: 0.5468 - val_loss: 0.6726 - val_acc: 0.5463\n",
      "Epoch 11/150\n",
      "3888/3888 [==============================] - 5s 1ms/step - loss: 0.6689 - acc: 0.5622 - val_loss: 0.6726 - val_acc: 0.5602\n",
      "Epoch 12/150\n",
      "3888/3888 [==============================] - 5s 1ms/step - loss: 0.6685 - acc: 0.5622 - val_loss: 0.6720 - val_acc: 0.5602\n",
      "Epoch 13/150\n",
      "3888/3888 [==============================] - 5s 1ms/step - loss: 0.6677 - acc: 0.5700 - val_loss: 0.6705 - val_acc: 0.5671\n",
      "Epoch 14/150\n",
      "3888/3888 [==============================] - 5s 1ms/step - loss: 0.6664 - acc: 0.5646 - val_loss: 0.6690 - val_acc: 0.5694\n",
      "Epoch 15/150\n",
      "3888/3888 [==============================] - 5s 1ms/step - loss: 0.6656 - acc: 0.5746 - val_loss: 0.6683 - val_acc: 0.5903\n",
      "Epoch 16/150\n",
      "3888/3888 [==============================] - 5s 1ms/step - loss: 0.6650 - acc: 0.5748 - val_loss: 0.6671 - val_acc: 0.5949\n",
      "Epoch 17/150\n",
      "3888/3888 [==============================] - 5s 1ms/step - loss: 0.6637 - acc: 0.5764 - val_loss: 0.6667 - val_acc: 0.5972\n",
      "Epoch 18/150\n",
      "3888/3888 [==============================] - 5s 1ms/step - loss: 0.6626 - acc: 0.5900 - val_loss: 0.6640 - val_acc: 0.6042\n",
      "Epoch 19/150\n",
      "3888/3888 [==============================] - 5s 1ms/step - loss: 0.6617 - acc: 0.5898 - val_loss: 0.6627 - val_acc: 0.6181\n",
      "Epoch 20/150\n",
      "3888/3888 [==============================] - 5s 1ms/step - loss: 0.6603 - acc: 0.5900 - val_loss: 0.6641 - val_acc: 0.6227\n",
      "Epoch 21/150\n",
      "3888/3888 [==============================] - 5s 1ms/step - loss: 0.6611 - acc: 0.5890 - val_loss: 0.6637 - val_acc: 0.6204\n",
      "Epoch 22/150\n",
      "3888/3888 [==============================] - 5s 1ms/step - loss: 0.6585 - acc: 0.5952 - val_loss: 0.6583 - val_acc: 0.6319\n",
      "Epoch 23/150\n",
      "3888/3888 [==============================] - 5s 1ms/step - loss: 0.6568 - acc: 0.6006 - val_loss: 0.6582 - val_acc: 0.6227\n",
      "Epoch 24/150\n",
      "3888/3888 [==============================] - 5s 1ms/step - loss: 0.6554 - acc: 0.6070 - val_loss: 0.6562 - val_acc: 0.6227\n",
      "Epoch 25/150\n",
      "3888/3888 [==============================] - 5s 1ms/step - loss: 0.6541 - acc: 0.6075 - val_loss: 0.6558 - val_acc: 0.6296\n",
      "Epoch 26/150\n",
      "3888/3888 [==============================] - 5s 1ms/step - loss: 0.6531 - acc: 0.6155 - val_loss: 0.6549 - val_acc: 0.6389\n",
      "Epoch 27/150\n",
      "3888/3888 [==============================] - 5s 1ms/step - loss: 0.6496 - acc: 0.6181 - val_loss: 0.6559 - val_acc: 0.6157\n",
      "Epoch 28/150\n",
      "3888/3888 [==============================] - 5s 1ms/step - loss: 0.6506 - acc: 0.6137 - val_loss: 0.6523 - val_acc: 0.6204\n",
      "Epoch 29/150\n",
      "3888/3888 [==============================] - 5s 1ms/step - loss: 0.6464 - acc: 0.6204 - val_loss: 0.6524 - val_acc: 0.6204\n",
      "Epoch 30/150\n",
      "3888/3888 [==============================] - 5s 1ms/step - loss: 0.6441 - acc: 0.6222 - val_loss: 0.6490 - val_acc: 0.6296\n",
      "Epoch 31/150\n",
      "3888/3888 [==============================] - 5s 1ms/step - loss: 0.6416 - acc: 0.6196 - val_loss: 0.6470 - val_acc: 0.6111\n",
      "Epoch 32/150\n",
      "3888/3888 [==============================] - 5s 1ms/step - loss: 0.6380 - acc: 0.6214 - val_loss: 0.6425 - val_acc: 0.6481\n",
      "Epoch 33/150\n",
      "3888/3888 [==============================] - 5s 1ms/step - loss: 0.6479 - acc: 0.6147 - val_loss: 0.6404 - val_acc: 0.6343\n",
      "Epoch 34/150\n",
      "3888/3888 [==============================] - 5s 1ms/step - loss: 0.6346 - acc: 0.6286 - val_loss: 0.6435 - val_acc: 0.6204\n",
      "Epoch 35/150\n",
      "3888/3888 [==============================] - 5s 1ms/step - loss: 0.6321 - acc: 0.6291 - val_loss: 0.6486 - val_acc: 0.6204\n",
      "Epoch 36/150\n",
      "3888/3888 [==============================] - 5s 1ms/step - loss: 0.6359 - acc: 0.6322 - val_loss: 0.6412 - val_acc: 0.6204\n",
      "Epoch 37/150\n",
      "3888/3888 [==============================] - 5s 1ms/step - loss: 0.6296 - acc: 0.6379 - val_loss: 0.6566 - val_acc: 0.6157\n",
      "Epoch 38/150\n",
      "3888/3888 [==============================] - 5s 1ms/step - loss: 0.6391 - acc: 0.6417 - val_loss: 0.6795 - val_acc: 0.5856\n",
      "Epoch 39/150\n",
      "3888/3888 [==============================] - 5s 1ms/step - loss: 0.6291 - acc: 0.6456 - val_loss: 0.6346 - val_acc: 0.6343\n",
      "Epoch 40/150\n",
      "3888/3888 [==============================] - 5s 1ms/step - loss: 0.6228 - acc: 0.6543 - val_loss: 0.6494 - val_acc: 0.6111\n",
      "Epoch 41/150\n",
      "3888/3888 [==============================] - 5s 1ms/step - loss: 0.6244 - acc: 0.6479 - val_loss: 0.6403 - val_acc: 0.6343\n",
      "Epoch 42/150\n",
      "3888/3888 [==============================] - 5s 1ms/step - loss: 0.6204 - acc: 0.6566 - val_loss: 0.6519 - val_acc: 0.6204\n",
      "Epoch 43/150\n",
      "3888/3888 [==============================] - 5s 1ms/step - loss: 0.6197 - acc: 0.6543 - val_loss: 0.6413 - val_acc: 0.6296\n",
      "Epoch 44/150\n",
      "3888/3888 [==============================] - 5s 1ms/step - loss: 0.6162 - acc: 0.6620 - val_loss: 0.6340 - val_acc: 0.6273\n",
      "Epoch 45/150\n",
      "3888/3888 [==============================] - 5s 1ms/step - loss: 0.6155 - acc: 0.6592 - val_loss: 0.6357 - val_acc: 0.6343\n",
      "Epoch 46/150\n",
      "3888/3888 [==============================] - 5s 1ms/step - loss: 0.6145 - acc: 0.6559 - val_loss: 0.6376 - val_acc: 0.6296\n",
      "Epoch 47/150\n",
      "3888/3888 [==============================] - 5s 1ms/step - loss: 0.6272 - acc: 0.6515 - val_loss: 0.6427 - val_acc: 0.6157\n",
      "Epoch 48/150\n",
      "3888/3888 [==============================] - 5s 1ms/step - loss: 0.6205 - acc: 0.6528 - val_loss: 0.6276 - val_acc: 0.6458\n",
      "Epoch 49/150\n",
      "3888/3888 [==============================] - 5s 1ms/step - loss: 0.6115 - acc: 0.6646 - val_loss: 0.6247 - val_acc: 0.6505\n",
      "Epoch 50/150\n",
      "3888/3888 [==============================] - 5s 1ms/step - loss: 0.6098 - acc: 0.6633 - val_loss: 0.6349 - val_acc: 0.6389\n",
      "Epoch 51/150\n",
      "3888/3888 [==============================] - 5s 1ms/step - loss: 0.6104 - acc: 0.6659 - val_loss: 0.6332 - val_acc: 0.6458\n",
      "Epoch 52/150\n",
      "3888/3888 [==============================] - 5s 1ms/step - loss: 0.6085 - acc: 0.6649 - val_loss: 0.6345 - val_acc: 0.6273\n",
      "Epoch 53/150\n",
      "3888/3888 [==============================] - 5s 1ms/step - loss: 0.6077 - acc: 0.6646 - val_loss: 0.6314 - val_acc: 0.6343\n",
      "Epoch 54/150\n",
      "3888/3888 [==============================] - 5s 1ms/step - loss: 0.6061 - acc: 0.6672 - val_loss: 0.6323 - val_acc: 0.6273\n",
      "Epoch 55/150\n",
      "3888/3888 [==============================] - 5s 1ms/step - loss: 0.6073 - acc: 0.6623 - val_loss: 0.6413 - val_acc: 0.6273\n",
      "Epoch 56/150\n",
      "3888/3888 [==============================] - 5s 1ms/step - loss: 0.6050 - acc: 0.6672 - val_loss: 0.6275 - val_acc: 0.6458\n",
      "Epoch 57/150\n",
      "3888/3888 [==============================] - 5s 1ms/step - loss: 0.6047 - acc: 0.6667 - val_loss: 0.6343 - val_acc: 0.6435\n",
      "Epoch 58/150\n",
      "3888/3888 [==============================] - 5s 1ms/step - loss: 0.6041 - acc: 0.6739 - val_loss: 0.6586 - val_acc: 0.6227\n",
      "Epoch 59/150\n",
      "3888/3888 [==============================] - 5s 1ms/step - loss: 0.6058 - acc: 0.6687 - val_loss: 0.6303 - val_acc: 0.6505\n",
      "Epoch 60/150\n",
      "3888/3888 [==============================] - 5s 1ms/step - loss: 0.6017 - acc: 0.6785 - val_loss: 0.6291 - val_acc: 0.6481\n"
     ]
    },
    {
     "name": "stdout",
     "output_type": "stream",
     "text": [
      "Epoch 61/150\n",
      "3888/3888 [==============================] - 5s 1ms/step - loss: 0.6048 - acc: 0.6726 - val_loss: 0.6363 - val_acc: 0.6389\n",
      "Epoch 62/150\n",
      "3888/3888 [==============================] - 5s 1ms/step - loss: 0.6001 - acc: 0.6777 - val_loss: 0.6416 - val_acc: 0.6319\n",
      "Epoch 63/150\n",
      "3888/3888 [==============================] - 5s 1ms/step - loss: 0.6003 - acc: 0.6731 - val_loss: 0.6278 - val_acc: 0.6343\n",
      "Epoch 64/150\n",
      "3888/3888 [==============================] - 5s 1ms/step - loss: 0.5998 - acc: 0.6749 - val_loss: 0.6421 - val_acc: 0.6458\n",
      "Epoch 65/150\n",
      "3888/3888 [==============================] - 5s 1ms/step - loss: 0.6038 - acc: 0.6695 - val_loss: 0.6417 - val_acc: 0.6319\n",
      "Epoch 66/150\n",
      "3888/3888 [==============================] - 5s 1ms/step - loss: 0.5997 - acc: 0.6772 - val_loss: 0.6266 - val_acc: 0.6528\n",
      "Epoch 67/150\n",
      "3888/3888 [==============================] - 5s 1ms/step - loss: 0.5991 - acc: 0.6659 - val_loss: 0.6276 - val_acc: 0.6435\n",
      "Epoch 68/150\n",
      "3888/3888 [==============================] - 5s 1ms/step - loss: 0.6001 - acc: 0.6752 - val_loss: 0.6201 - val_acc: 0.6505\n",
      "Epoch 69/150\n",
      "3888/3888 [==============================] - 5s 1ms/step - loss: 0.5982 - acc: 0.6721 - val_loss: 0.6319 - val_acc: 0.6458\n",
      "Epoch 70/150\n",
      "3888/3888 [==============================] - 5s 1ms/step - loss: 0.6044 - acc: 0.6654 - val_loss: 0.6392 - val_acc: 0.6319\n",
      "Epoch 71/150\n",
      "3888/3888 [==============================] - 5s 1ms/step - loss: 0.6023 - acc: 0.6710 - val_loss: 0.6370 - val_acc: 0.6227\n",
      "Epoch 72/150\n",
      "3888/3888 [==============================] - 5s 1ms/step - loss: 0.5972 - acc: 0.6775 - val_loss: 0.6297 - val_acc: 0.6481\n",
      "Epoch 73/150\n",
      "3888/3888 [==============================] - 5s 1ms/step - loss: 0.5949 - acc: 0.6785 - val_loss: 0.6201 - val_acc: 0.6644\n",
      "Epoch 74/150\n",
      "3888/3888 [==============================] - 5s 1ms/step - loss: 0.5965 - acc: 0.6775 - val_loss: 0.6242 - val_acc: 0.6389\n",
      "Epoch 75/150\n",
      "3888/3888 [==============================] - 5s 1ms/step - loss: 0.5949 - acc: 0.6788 - val_loss: 0.6270 - val_acc: 0.6597\n",
      "Epoch 76/150\n",
      "3888/3888 [==============================] - 5s 1ms/step - loss: 0.5976 - acc: 0.6775 - val_loss: 0.6320 - val_acc: 0.6551\n",
      "Epoch 77/150\n",
      "3888/3888 [==============================] - 5s 1ms/step - loss: 0.6069 - acc: 0.6687 - val_loss: 0.6232 - val_acc: 0.6435\n",
      "Epoch 78/150\n",
      "3888/3888 [==============================] - 5s 1ms/step - loss: 0.5944 - acc: 0.6775 - val_loss: 0.6153 - val_acc: 0.6597\n",
      "Epoch 79/150\n",
      "3888/3888 [==============================] - 5s 1ms/step - loss: 0.5954 - acc: 0.6767 - val_loss: 0.6358 - val_acc: 0.6296\n",
      "Epoch 80/150\n",
      "3888/3888 [==============================] - 5s 1ms/step - loss: 0.6079 - acc: 0.6731 - val_loss: 0.6278 - val_acc: 0.6481\n",
      "Epoch 81/150\n",
      "3888/3888 [==============================] - 5s 1ms/step - loss: 0.5922 - acc: 0.6813 - val_loss: 0.6361 - val_acc: 0.6528\n",
      "Epoch 82/150\n",
      "3888/3888 [==============================] - 5s 1ms/step - loss: 0.5984 - acc: 0.6744 - val_loss: 0.6240 - val_acc: 0.6644\n",
      "Epoch 83/150\n",
      "3888/3888 [==============================] - 5s 1ms/step - loss: 0.5930 - acc: 0.6782 - val_loss: 0.6193 - val_acc: 0.6597\n",
      "Epoch 84/150\n",
      "3888/3888 [==============================] - 5s 1ms/step - loss: 0.5947 - acc: 0.6767 - val_loss: 0.6223 - val_acc: 0.6481\n",
      "Epoch 85/150\n",
      "3888/3888 [==============================] - 5s 1ms/step - loss: 0.5925 - acc: 0.6795 - val_loss: 0.6145 - val_acc: 0.6644\n",
      "Epoch 86/150\n",
      "3888/3888 [==============================] - 5s 1ms/step - loss: 0.5906 - acc: 0.6903 - val_loss: 0.6356 - val_acc: 0.6551\n",
      "Epoch 87/150\n",
      "3888/3888 [==============================] - 5s 1ms/step - loss: 0.5932 - acc: 0.6798 - val_loss: 0.6184 - val_acc: 0.6551\n",
      "Epoch 88/150\n",
      "3888/3888 [==============================] - 5s 1ms/step - loss: 0.5874 - acc: 0.6860 - val_loss: 0.6269 - val_acc: 0.6597\n",
      "Epoch 89/150\n",
      "3888/3888 [==============================] - 5s 1ms/step - loss: 0.5914 - acc: 0.6824 - val_loss: 0.6194 - val_acc: 0.6528\n",
      "Epoch 90/150\n",
      "3888/3888 [==============================] - 5s 1ms/step - loss: 0.5888 - acc: 0.6916 - val_loss: 0.6264 - val_acc: 0.6389\n",
      "Epoch 91/150\n",
      "3888/3888 [==============================] - 5s 1ms/step - loss: 0.5901 - acc: 0.6826 - val_loss: 0.6223 - val_acc: 0.6644\n",
      "Epoch 92/150\n",
      "3888/3888 [==============================] - 5s 1ms/step - loss: 0.5878 - acc: 0.6865 - val_loss: 0.6220 - val_acc: 0.6412\n",
      "Epoch 93/150\n",
      "3888/3888 [==============================] - 5s 1ms/step - loss: 0.5858 - acc: 0.6911 - val_loss: 0.6073 - val_acc: 0.6690\n",
      "Epoch 94/150\n",
      "3888/3888 [==============================] - 5s 1ms/step - loss: 0.5897 - acc: 0.6836 - val_loss: 0.6203 - val_acc: 0.6597\n",
      "Epoch 95/150\n",
      "3888/3888 [==============================] - 5s 1ms/step - loss: 0.5888 - acc: 0.6826 - val_loss: 0.6160 - val_acc: 0.6597\n",
      "Epoch 96/150\n",
      "3888/3888 [==============================] - 5s 1ms/step - loss: 0.5860 - acc: 0.6839 - val_loss: 0.6075 - val_acc: 0.6667\n",
      "Epoch 97/150\n",
      "3888/3888 [==============================] - 5s 1ms/step - loss: 0.5891 - acc: 0.6854 - val_loss: 0.6139 - val_acc: 0.6690\n",
      "Epoch 98/150\n",
      "3888/3888 [==============================] - 5s 1ms/step - loss: 0.5874 - acc: 0.6854 - val_loss: 0.6214 - val_acc: 0.6713\n",
      "Epoch 99/150\n",
      "3888/3888 [==============================] - 5s 1ms/step - loss: 0.5872 - acc: 0.6834 - val_loss: 0.6120 - val_acc: 0.6713\n",
      "Epoch 100/150\n",
      "3888/3888 [==============================] - 5s 1ms/step - loss: 0.5860 - acc: 0.6872 - val_loss: 0.5999 - val_acc: 0.6782\n",
      "Epoch 101/150\n",
      "3888/3888 [==============================] - 5s 1ms/step - loss: 0.5862 - acc: 0.6867 - val_loss: 0.6146 - val_acc: 0.6667\n",
      "Epoch 102/150\n",
      "3888/3888 [==============================] - 5s 1ms/step - loss: 0.5848 - acc: 0.6893 - val_loss: 0.6141 - val_acc: 0.6690\n",
      "Epoch 103/150\n",
      "3888/3888 [==============================] - 5s 1ms/step - loss: 0.5898 - acc: 0.6813 - val_loss: 0.6118 - val_acc: 0.6736\n",
      "Epoch 104/150\n",
      "3888/3888 [==============================] - 5s 1ms/step - loss: 0.5845 - acc: 0.6921 - val_loss: 0.6154 - val_acc: 0.6667\n",
      "Epoch 105/150\n",
      "3888/3888 [==============================] - 5s 1ms/step - loss: 0.5864 - acc: 0.6890 - val_loss: 0.6178 - val_acc: 0.6690\n",
      "Epoch 106/150\n",
      "3888/3888 [==============================] - 5s 1ms/step - loss: 0.5829 - acc: 0.6901 - val_loss: 0.6143 - val_acc: 0.6620\n",
      "Epoch 107/150\n",
      "3888/3888 [==============================] - 5s 1ms/step - loss: 0.5826 - acc: 0.6898 - val_loss: 0.6087 - val_acc: 0.6782\n",
      "Epoch 108/150\n",
      "3888/3888 [==============================] - 5s 1ms/step - loss: 0.5831 - acc: 0.6921 - val_loss: 0.6150 - val_acc: 0.6620\n",
      "Epoch 109/150\n",
      "3888/3888 [==============================] - 5s 1ms/step - loss: 0.5825 - acc: 0.6950 - val_loss: 0.6271 - val_acc: 0.6528\n",
      "Epoch 110/150\n",
      "3888/3888 [==============================] - 5s 1ms/step - loss: 0.5841 - acc: 0.6883 - val_loss: 0.6083 - val_acc: 0.6690\n",
      "Epoch 111/150\n",
      "3888/3888 [==============================] - 5s 1ms/step - loss: 0.5850 - acc: 0.6926 - val_loss: 0.6002 - val_acc: 0.6644\n",
      "Epoch 112/150\n",
      "3888/3888 [==============================] - 5s 1ms/step - loss: 0.5833 - acc: 0.6921 - val_loss: 0.5967 - val_acc: 0.6806\n",
      "Epoch 113/150\n",
      "3888/3888 [==============================] - 5s 1ms/step - loss: 0.5926 - acc: 0.6842 - val_loss: 0.6264 - val_acc: 0.6551\n",
      "Epoch 114/150\n",
      "3888/3888 [==============================] - 5s 1ms/step - loss: 0.5874 - acc: 0.6852 - val_loss: 0.6109 - val_acc: 0.6667\n",
      "Epoch 115/150\n",
      "3888/3888 [==============================] - 5s 1ms/step - loss: 0.5834 - acc: 0.6903 - val_loss: 0.6004 - val_acc: 0.6644\n",
      "Epoch 116/150\n",
      "3888/3888 [==============================] - 5s 1ms/step - loss: 0.5832 - acc: 0.6942 - val_loss: 0.6139 - val_acc: 0.6597\n",
      "Epoch 117/150\n",
      "3888/3888 [==============================] - 5s 1ms/step - loss: 0.5939 - acc: 0.6806 - val_loss: 0.6142 - val_acc: 0.6644\n",
      "Epoch 118/150\n",
      "3888/3888 [==============================] - 5s 1ms/step - loss: 0.5806 - acc: 0.6908 - val_loss: 0.6126 - val_acc: 0.6644\n",
      "Epoch 119/150\n",
      "3888/3888 [==============================] - 5s 1ms/step - loss: 0.5809 - acc: 0.6939 - val_loss: 0.6050 - val_acc: 0.6806\n",
      "Epoch 120/150\n",
      "3888/3888 [==============================] - 5s 1ms/step - loss: 0.5831 - acc: 0.7001 - val_loss: 0.5963 - val_acc: 0.6806\n",
      "Epoch 121/150\n"
     ]
    },
    {
     "name": "stdout",
     "output_type": "stream",
     "text": [
      "3888/3888 [==============================] - 5s 1ms/step - loss: 0.5772 - acc: 0.6978 - val_loss: 0.5998 - val_acc: 0.6829\n",
      "Epoch 122/150\n",
      "3888/3888 [==============================] - 5s 1ms/step - loss: 0.5812 - acc: 0.6937 - val_loss: 0.6001 - val_acc: 0.6806\n",
      "Epoch 123/150\n",
      "3888/3888 [==============================] - 5s 1ms/step - loss: 0.5775 - acc: 0.6993 - val_loss: 0.6151 - val_acc: 0.6806\n",
      "Epoch 124/150\n",
      "3888/3888 [==============================] - 5s 1ms/step - loss: 0.5867 - acc: 0.6898 - val_loss: 0.6055 - val_acc: 0.6782\n",
      "Epoch 125/150\n",
      "3888/3888 [==============================] - 5s 1ms/step - loss: 0.5796 - acc: 0.6991 - val_loss: 0.6129 - val_acc: 0.6690\n",
      "Epoch 126/150\n",
      "3888/3888 [==============================] - 5s 1ms/step - loss: 0.5839 - acc: 0.6934 - val_loss: 0.6023 - val_acc: 0.6736\n",
      "Epoch 127/150\n",
      "3888/3888 [==============================] - 5s 1ms/step - loss: 0.5754 - acc: 0.7027 - val_loss: 0.6070 - val_acc: 0.6690\n",
      "Epoch 128/150\n",
      "3888/3888 [==============================] - 5s 1ms/step - loss: 0.5745 - acc: 0.7076 - val_loss: 0.6156 - val_acc: 0.6690\n",
      "Epoch 129/150\n",
      "3888/3888 [==============================] - 5s 1ms/step - loss: 0.5780 - acc: 0.6998 - val_loss: 0.6015 - val_acc: 0.6782\n",
      "Epoch 130/150\n",
      "3888/3888 [==============================] - 5s 1ms/step - loss: 0.5761 - acc: 0.7022 - val_loss: 0.5894 - val_acc: 0.6852\n",
      "Epoch 131/150\n",
      "3888/3888 [==============================] - 5s 1ms/step - loss: 0.5745 - acc: 0.7029 - val_loss: 0.5935 - val_acc: 0.6875\n",
      "Epoch 132/150\n",
      "3888/3888 [==============================] - 5s 1ms/step - loss: 0.5807 - acc: 0.7032 - val_loss: 0.6032 - val_acc: 0.6782\n",
      "Epoch 133/150\n",
      "3888/3888 [==============================] - 5s 1ms/step - loss: 0.5765 - acc: 0.6988 - val_loss: 0.6233 - val_acc: 0.6574\n",
      "Epoch 134/150\n",
      "3888/3888 [==============================] - 5s 1ms/step - loss: 0.5802 - acc: 0.6952 - val_loss: 0.5954 - val_acc: 0.6782\n",
      "Epoch 135/150\n",
      "3888/3888 [==============================] - 5s 1ms/step - loss: 0.5752 - acc: 0.6986 - val_loss: 0.6281 - val_acc: 0.6481\n",
      "Epoch 136/150\n",
      "3888/3888 [==============================] - 5s 1ms/step - loss: 0.5750 - acc: 0.7019 - val_loss: 0.5996 - val_acc: 0.6829\n",
      "Epoch 137/150\n",
      "3888/3888 [==============================] - 5s 1ms/step - loss: 0.5737 - acc: 0.7022 - val_loss: 0.5948 - val_acc: 0.6921\n",
      "Epoch 138/150\n",
      "3888/3888 [==============================] - 5s 1ms/step - loss: 0.5728 - acc: 0.7029 - val_loss: 0.5863 - val_acc: 0.6944\n",
      "Epoch 139/150\n",
      "3888/3888 [==============================] - 5s 1ms/step - loss: 0.5727 - acc: 0.7058 - val_loss: 0.5927 - val_acc: 0.6921\n",
      "Epoch 140/150\n",
      "3888/3888 [==============================] - 5s 1ms/step - loss: 0.5794 - acc: 0.6996 - val_loss: 0.5893 - val_acc: 0.6852\n",
      "Epoch 141/150\n",
      "3888/3888 [==============================] - 5s 1ms/step - loss: 0.5728 - acc: 0.7047 - val_loss: 0.6077 - val_acc: 0.6806\n",
      "Epoch 142/150\n",
      "3888/3888 [==============================] - 5s 1ms/step - loss: 0.5717 - acc: 0.7091 - val_loss: 0.5959 - val_acc: 0.6898\n",
      "Epoch 143/150\n",
      "3888/3888 [==============================] - 5s 1ms/step - loss: 0.5726 - acc: 0.7058 - val_loss: 0.5998 - val_acc: 0.6690\n",
      "Epoch 144/150\n",
      "3888/3888 [==============================] - 5s 1ms/step - loss: 0.5795 - acc: 0.7034 - val_loss: 0.6190 - val_acc: 0.6389\n",
      "Epoch 145/150\n",
      "3888/3888 [==============================] - 5s 1ms/step - loss: 0.5765 - acc: 0.7014 - val_loss: 0.5973 - val_acc: 0.6759\n",
      "Epoch 146/150\n",
      "3888/3888 [==============================] - 5s 1ms/step - loss: 0.5675 - acc: 0.7094 - val_loss: 0.5923 - val_acc: 0.6736\n",
      "Epoch 147/150\n",
      "3888/3888 [==============================] - 5s 1ms/step - loss: 0.5703 - acc: 0.7022 - val_loss: 0.5973 - val_acc: 0.6829\n",
      "Epoch 148/150\n",
      "3888/3888 [==============================] - 5s 1ms/step - loss: 0.5725 - acc: 0.7086 - val_loss: 0.6001 - val_acc: 0.6968\n",
      "Epoch 149/150\n",
      "3888/3888 [==============================] - 5s 1ms/step - loss: 0.5674 - acc: 0.7096 - val_loss: 0.5963 - val_acc: 0.6875\n",
      "Epoch 150/150\n",
      "3888/3888 [==============================] - 5s 1ms/step - loss: 0.5695 - acc: 0.7117 - val_loss: 0.5956 - val_acc: 0.6852\n"
     ]
    }
   ],
   "source": [
    "model = Sequential()\n",
    "#model.add(CuDNNLSTM(8, input_shape=(1000, 8), return_sequences=True))\n",
    "model.add(Bidirectional(CuDNNLSTM(8), input_shape=(1000, 4)))\n",
    "#model.add(CuDNNLSTM(8, return_sequences=True))\n",
    "#model.add(CuDNNLSTM(4, return_sequences=True))\n",
    "#model.add(CuDNNLSTM(4))\n",
    "model.add(Dense(1, activation='sigmoid'))\n",
    "model.compile(optimizer='rmsprop', loss='binary_crossentropy', metrics=['acc'])\n",
    "history = model.fit(X_train_rnn, y_train, epochs=150, batch_size=128, validation_split=0.1)"
   ]
  },
  {
   "cell_type": "markdown",
   "metadata": {},
   "source": [
    "**Result**:\n",
    "\n",
    "The following cell **visualizes** the training/validation accuracies and losses over each epoch."
   ]
  },
  {
   "cell_type": "code",
   "execution_count": 9,
   "metadata": {},
   "outputs": [
    {
     "data": {
      "image/png": "[encoded data removed]",
      "text/plain": [
       "<Figure size 432x288 with 1 Axes>"
      ]
     },
     "metadata": {},
     "output_type": "display_data"
    },
    {
     "data": {
      "image/png": "[encoded data removed]",
      "text/plain": [
       "<Figure size 432x288 with 1 Axes>"
      ]
     },
     "metadata": {},
     "output_type": "display_data"
    }
   ],
   "source": [
    "acc = history.history['acc']\n",
    "val_acc = history.history['val_acc']\n",
    "loss = history.history['loss']\n",
    "val_loss = history.history['val_loss']\n",
    "\n",
    "epochs = range(1, len(acc) + 1)\n",
    "\n",
    "plt.plot(epochs, acc, 'bo', label='Training Accuracy')\n",
    "plt.plot(epochs, val_acc, 'b', label='Validation Accuracy')\n",
    "plt.title('Training and Validation Accuracy')\n",
    "plt.xlabel('epoches')\n",
    "plt.legend()\n",
    "\n",
    "plt.figure()\n",
    "\n",
    "plt.plot(epochs, loss, 'bo', label='Training Loss')\n",
    "plt.plot(epochs, val_loss, 'b', label='Validation Loss')\n",
    "plt.title('Training and Validation Loss')\n",
    "plt.xlabel('epoches')\n",
    "plt.legend()\n",
    "\n",
    "plt.show()"
   ]
  },
  {
   "cell_type": "code",
   "execution_count": 10,
   "metadata": {},
   "outputs": [
    {
     "name": "stdout",
     "output_type": "stream",
     "text": [
      "Save model to models/adam_2019_02_08.json\n"
     ]
    }
   ],
   "source": [
    "import utility\n",
    "utility.save_model(model, 'models/adam_2019_02_08.json', 'models/adam_2019_02_08_weights.h5')\n"
   ]
  },
  {
   "cell_type": "markdown",
   "metadata": {},
   "source": [
    "**Conclusion**:\n",
    "\n",
    "- Using only DNA sequences and not using TFBS data, the neural network converges much more slowly than with both DNA sequences and TFBS data. It is possible that the DNA is too noisy and that the TFBS data concentrates the important information making it possible for the neural network to make accurate predictions much more quickly."
   ]
  },
  {
   "cell_type": "code",
   "execution_count": null,
   "metadata": {},
   "outputs": [],
   "source": []
  }
 ],
 "metadata": {
  "kernelspec": {
   "display_name": "Environment (conda_tensorflow_p36)",
   "language": "python",
   "name": "conda_tensorflow_p36"
  },
  "language_info": {
   "codemirror_mode": {
    "name": "ipython",
    "version": 3
   },
   "file_extension": ".py",
   "mimetype": "text/x-python",
   "name": "python",
   "nbconvert_exporter": "python",
   "pygments_lexer": "ipython3",
   "version": "3.6.4"
  }
 },
 "nbformat": 4,
 "nbformat_minor": 2
}
