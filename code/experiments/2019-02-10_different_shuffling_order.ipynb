{
 "cells": [
  {
   "cell_type": "markdown",
   "metadata": {},
   "source": [
    "**Date**: 2019-02-10\n",
    "\n",
    "**Authors**: Adam Stafford, Zhanyuan Zhang\n",
    "\n",
    "**Background**:\n",
    "- Previously, we sampled the training data from the whole data set. We accidentally found out that different ways to perform the sampling led to different results. Specifically, for the same amount of data and the same bidirectional LSTM model, the validation accuracy tend to be higher (around ~80%) if we obtained the training data by randomly sampling from the first few species. However, did the sampling to the whole data set to get the training data, the model gave a lower validation accuracy (around 57%). \n",
    "- Our hypothesis is that sampling from whole dataset introduces noise into the training data, which prevent the model from improving. We may need biological reason to justify this noise.\n",
    "\n",
    "**Purpose**: This experiment trained a bidirectional LSTM model on the first 30976 (out of 35976) data. By our hypothesis, this training set has less noise and thus the model should do a decent job. We wanted to see if the model's performance matched this expectation."
   ]
  },
  {
   "cell_type": "markdown",
   "metadata": {},
   "source": [
    "### Experiment:"
   ]
  },
  {
   "cell_type": "code",
   "execution_count": 1,
   "metadata": {},
   "outputs": [
    {
     "name": "stderr",
     "output_type": "stream",
     "text": [
      "/home/ubuntu/anaconda3/envs/tensorflow_p36/lib/python3.6/site-packages/matplotlib/__init__.py:1067: UserWarning: Duplicate key in file \"/home/ubuntu/.config/matplotlib/matplotlibrc\", line #2\n",
      "  (fname, cnt))\n",
      "/home/ubuntu/anaconda3/envs/tensorflow_p36/lib/python3.6/site-packages/matplotlib/__init__.py:1067: UserWarning: Duplicate key in file \"/home/ubuntu/.config/matplotlib/matplotlibrc\", line #3\n",
      "  (fname, cnt))\n"
     ]
    }
   ],
   "source": [
    "import pickle\n",
    "import numpy as np\n",
    "import matplotlib.pyplot as plt"
   ]
  },
  {
   "cell_type": "markdown",
   "metadata": {},
   "source": [
    "Load the `pickle` buffered list:"
   ]
  },
  {
   "cell_type": "code",
   "execution_count": 2,
   "metadata": {},
   "outputs": [],
   "source": [
    "with open(\"../data/new_list_buffer.txt\", \"rb\") as buff:\n",
    "    seq_record_list = pickle.load(buff)"
   ]
  },
  {
   "cell_type": "markdown",
   "metadata": {},
   "source": [
    "The following cell retains only 4800 sequences, for the purpose of testing speed. It also randomly shuffles the 4800 sequences."
   ]
  },
  {
   "cell_type": "code",
   "execution_count": 3,
   "metadata": {},
   "outputs": [
    {
     "name": "stdout",
     "output_type": "stream",
     "text": [
      "35976\n"
     ]
    }
   ],
   "source": [
    "print(len(seq_record_list))"
   ]
  },
  {
   "cell_type": "code",
   "execution_count": 4,
   "metadata": {},
   "outputs": [],
   "source": [
    "from random import shuffle\n",
    "shuffle(seq_record_list)"
   ]
  },
  {
   "cell_type": "code",
   "execution_count": null,
   "metadata": {},
   "outputs": [],
   "source": [
    "# from random import shuffle\n",
    "# shuffle(seq_record_list)\n",
    "# seq_record_list = seq_record_list[:4800]"
   ]
  },
  {
   "cell_type": "markdown",
   "metadata": {},
   "source": [
    "The following cell transforms the data into a format that is recognizable by the neural network model."
   ]
  },
  {
   "cell_type": "code",
   "execution_count": 5,
   "metadata": {},
   "outputs": [],
   "source": [
    "# A helper function to flatten a 2d list to 1d.\n",
    "# Input: [[1, 2], [2, 3], [3, 4, 5]]\n",
    "# Output: [1, 2, 2, 3, 3, 4, 5]\n",
    "def flatten(lst):\n",
    "    new_lst = []\n",
    "    for sub_lst in lst:\n",
    "        for item in sub_lst:\n",
    "            new_lst.append(item)\n",
    "    return new_lst\n",
    "\n",
    "# A helper function to transform a lst so that its length becomes read_len by:\n",
    "# 1. If len(lst) > read_len, curtail the end of the lst.\n",
    "# 2. If len(lst) < read_len, keep extending the end of the lst with 0 (NA).\n",
    "def curtail(lst, read_len):\n",
    "    if len(lst) > read_len:\n",
    "        lst = lst[:read_len]\n",
    "    else:\n",
    "        for i in range(read_len - len(lst)):\n",
    "            lst.append([0, 0, 0, 0, 0, 0, 0, 0])\n",
    "    return lst\n",
    "\n",
    "# Produce the train-test split\n",
    "# length_read: the length that you want all DNA sequences to conform to\n",
    "def prepare_input(training_size, test_size, length_read):\n",
    "    X_train = []\n",
    "    y_train = []\n",
    "    X_test = []\n",
    "    y_test = []\n",
    "    seq_count = 0\n",
    "    while seq_count < training_size:\n",
    "        X_train.append(flatten(curtail(seq_record_list[seq_count][3], length_read)))\n",
    "        y_train.append(int(seq_record_list[seq_count][1]))\n",
    "        seq_count += 1\n",
    "    while seq_count < (training_size + test_size):\n",
    "        X_test.append(flatten(curtail(seq_record_list[seq_count][3], length_read)))\n",
    "        y_test.append(int(seq_record_list[seq_count][1]))\n",
    "        seq_count += 1\n",
    "    return X_train, y_train, X_test, y_test\n",
    "\n",
    "# Turn list into numpy tensors that can directly feed into a neural network model\n",
    "def to_np_array(X_train, y_train, X_test, y_test):\n",
    "    X_train = np.array(X_train)\n",
    "    y_train = np.array(y_train)\n",
    "    if len(y_train.shape) == 1:\n",
    "        y_train = np.transpose(np.array([y_train]))\n",
    "    X_test = np.array(X_test)\n",
    "    y_test = np.transpose(np.array(y_test))\n",
    "    if len(y_test.shape) == 1:\n",
    "        y_test = np.transpose(np.array([y_test]))\n",
    "    return X_train, y_train, X_test, y_test"
   ]
  },
  {
   "cell_type": "code",
   "execution_count": 6,
   "metadata": {},
   "outputs": [
    {
     "data": {
      "text/plain": [
       "[(30976, 8000), (30976, 1), (5000, 8000), (5000, 1)]"
      ]
     },
     "execution_count": 6,
     "metadata": {},
     "output_type": "execute_result"
    }
   ],
   "source": [
    "X_train, y_train, X_test, y_test = prepare_input(30976, 5000, 1000)\n",
    "X_train, y_train, X_test, y_test = to_np_array(X_train, y_train, X_test, y_test)\n",
    "[X_train.shape, y_train.shape, X_test.shape, y_test.shape]"
   ]
  },
  {
   "cell_type": "markdown",
   "metadata": {},
   "source": [
    "The following cells build a recurrent network with one bidirectional LSTM layer."
   ]
  },
  {
   "cell_type": "code",
   "execution_count": 7,
   "metadata": {},
   "outputs": [
    {
     "name": "stderr",
     "output_type": "stream",
     "text": [
      "/home/ubuntu/anaconda3/envs/tensorflow_p36/lib/python3.6/site-packages/h5py/__init__.py:36: FutureWarning: Conversion of the second argument of issubdtype from `float` to `np.floating` is deprecated. In future, it will be treated as `np.float64 == np.dtype(float).type`.\n",
      "  from ._conv import register_converters as _register_converters\n",
      "Using TensorFlow backend.\n"
     ]
    }
   ],
   "source": [
    "from keras.models import Model, Sequential\n",
    "from keras.layers import Dense, CuDNNLSTM, Bidirectional"
   ]
  },
  {
   "cell_type": "code",
   "execution_count": 8,
   "metadata": {},
   "outputs": [],
   "source": [
    "X_train_rnn = X_train.reshape(30976, 1000, 8)"
   ]
  },
  {
   "cell_type": "code",
   "execution_count": 9,
   "metadata": {
    "scrolled": false
   },
   "outputs": [
    {
     "name": "stdout",
     "output_type": "stream",
     "text": [
      "Train on 27878 samples, validate on 3098 samples\n",
      "Epoch 1/150\n",
      "27878/27878 [==============================] - 38s 1ms/step - loss: 0.6801 - acc: 0.5457 - val_loss: 0.6759 - val_acc: 0.5510\n",
      "Epoch 2/150\n",
      "27878/27878 [==============================] - 37s 1ms/step - loss: 0.6755 - acc: 0.5551 - val_loss: 0.6736 - val_acc: 0.5587\n",
      "Epoch 3/150\n",
      "27878/27878 [==============================] - 37s 1ms/step - loss: 0.6740 - acc: 0.5639 - val_loss: 0.6724 - val_acc: 0.5675\n",
      "Epoch 4/150\n",
      "27878/27878 [==============================] - 36s 1ms/step - loss: 0.6729 - acc: 0.5666 - val_loss: 0.6718 - val_acc: 0.5713\n",
      "Epoch 5/150\n",
      "27878/27878 [==============================] - 36s 1ms/step - loss: 0.6718 - acc: 0.5735 - val_loss: 0.6714 - val_acc: 0.5707\n",
      "Epoch 6/150\n",
      "27878/27878 [==============================] - 37s 1ms/step - loss: 0.6705 - acc: 0.5762 - val_loss: 0.6699 - val_acc: 0.5781\n",
      "Epoch 7/150\n",
      "27878/27878 [==============================] - 37s 1ms/step - loss: 0.6696 - acc: 0.5770 - val_loss: 0.6692 - val_acc: 0.5807\n",
      "Epoch 8/150\n",
      "27878/27878 [==============================] - 36s 1ms/step - loss: 0.6686 - acc: 0.5823 - val_loss: 0.6687 - val_acc: 0.5749\n",
      "Epoch 9/150\n",
      "27878/27878 [==============================] - 36s 1ms/step - loss: 0.6675 - acc: 0.5827 - val_loss: 0.6677 - val_acc: 0.5781\n",
      "Epoch 10/150\n",
      "27878/27878 [==============================] - 36s 1ms/step - loss: 0.6664 - acc: 0.5854 - val_loss: 0.6666 - val_acc: 0.5762\n",
      "Epoch 11/150\n",
      "27878/27878 [==============================] - 37s 1ms/step - loss: 0.6650 - acc: 0.5864 - val_loss: 0.6655 - val_acc: 0.5749\n",
      "Epoch 12/150\n",
      "27878/27878 [==============================] - 36s 1ms/step - loss: 0.6639 - acc: 0.5887 - val_loss: 0.6648 - val_acc: 0.5797\n",
      "Epoch 13/150\n",
      "27878/27878 [==============================] - 36s 1ms/step - loss: 0.6626 - acc: 0.5895 - val_loss: 0.6649 - val_acc: 0.5762\n",
      "Epoch 14/150\n",
      "27878/27878 [==============================] - 36s 1ms/step - loss: 0.6614 - acc: 0.5925 - val_loss: 0.6636 - val_acc: 0.5807\n",
      "Epoch 15/150\n",
      "27878/27878 [==============================] - 37s 1ms/step - loss: 0.6602 - acc: 0.5949 - val_loss: 0.6639 - val_acc: 0.5859\n",
      "Epoch 16/150\n",
      "27878/27878 [==============================] - 36s 1ms/step - loss: 0.6591 - acc: 0.5987 - val_loss: 0.6617 - val_acc: 0.5891\n",
      "Epoch 17/150\n",
      "27878/27878 [==============================] - 36s 1ms/step - loss: 0.6578 - acc: 0.6011 - val_loss: 0.6625 - val_acc: 0.5852\n",
      "Epoch 18/150\n",
      "27878/27878 [==============================] - 36s 1ms/step - loss: 0.6565 - acc: 0.6024 - val_loss: 0.6605 - val_acc: 0.5891\n",
      "Epoch 19/150\n",
      "27878/27878 [==============================] - 36s 1ms/step - loss: 0.6555 - acc: 0.6010 - val_loss: 0.6597 - val_acc: 0.5891\n",
      "Epoch 20/150\n",
      "27878/27878 [==============================] - 36s 1ms/step - loss: 0.6542 - acc: 0.6026 - val_loss: 0.6594 - val_acc: 0.5917\n",
      "Epoch 21/150\n",
      "27878/27878 [==============================] - 36s 1ms/step - loss: 0.6528 - acc: 0.6067 - val_loss: 0.6595 - val_acc: 0.5904\n",
      "Epoch 22/150\n",
      "27878/27878 [==============================] - 36s 1ms/step - loss: 0.6519 - acc: 0.6084 - val_loss: 0.6579 - val_acc: 0.5939\n",
      "Epoch 23/150\n",
      "27878/27878 [==============================] - 36s 1ms/step - loss: 0.6507 - acc: 0.6101 - val_loss: 0.6603 - val_acc: 0.5913\n",
      "Epoch 24/150\n",
      "27878/27878 [==============================] - 36s 1ms/step - loss: 0.6496 - acc: 0.6136 - val_loss: 0.6571 - val_acc: 0.5981\n",
      "Epoch 25/150\n",
      "27878/27878 [==============================] - 36s 1ms/step - loss: 0.6484 - acc: 0.6155 - val_loss: 0.6560 - val_acc: 0.6017\n",
      "Epoch 26/150\n",
      "27878/27878 [==============================] - 36s 1ms/step - loss: 0.6469 - acc: 0.6178 - val_loss: 0.6545 - val_acc: 0.6001\n",
      "Epoch 27/150\n",
      "27878/27878 [==============================] - 36s 1ms/step - loss: 0.6456 - acc: 0.6182 - val_loss: 0.6548 - val_acc: 0.6010\n",
      "Epoch 28/150\n",
      "27878/27878 [==============================] - 36s 1ms/step - loss: 0.6445 - acc: 0.6239 - val_loss: 0.6537 - val_acc: 0.6062\n",
      "Epoch 29/150\n",
      "27878/27878 [==============================] - 37s 1ms/step - loss: 0.6431 - acc: 0.6241 - val_loss: 0.6548 - val_acc: 0.6046\n",
      "Epoch 30/150\n",
      "27878/27878 [==============================] - 36s 1ms/step - loss: 0.6421 - acc: 0.6283 - val_loss: 0.6529 - val_acc: 0.6123\n",
      "Epoch 31/150\n",
      "27878/27878 [==============================] - 36s 1ms/step - loss: 0.6410 - acc: 0.6292 - val_loss: 0.6524 - val_acc: 0.6107\n",
      "Epoch 32/150\n",
      "27878/27878 [==============================] - 36s 1ms/step - loss: 0.6398 - acc: 0.6295 - val_loss: 0.6528 - val_acc: 0.6068\n",
      "Epoch 33/150\n",
      "27878/27878 [==============================] - 36s 1ms/step - loss: 0.6387 - acc: 0.6328 - val_loss: 0.6503 - val_acc: 0.6068\n",
      "Epoch 34/150\n",
      "27878/27878 [==============================] - 36s 1ms/step - loss: 0.6376 - acc: 0.6350 - val_loss: 0.6504 - val_acc: 0.6030\n",
      "Epoch 35/150\n",
      "27878/27878 [==============================] - 36s 1ms/step - loss: 0.6364 - acc: 0.6358 - val_loss: 0.6502 - val_acc: 0.6101\n",
      "Epoch 36/150\n",
      "27878/27878 [==============================] - 36s 1ms/step - loss: 0.6355 - acc: 0.6359 - val_loss: 0.6475 - val_acc: 0.6188\n",
      "Epoch 37/150\n",
      "27878/27878 [==============================] - 36s 1ms/step - loss: 0.6342 - acc: 0.6371 - val_loss: 0.6485 - val_acc: 0.6056\n",
      "Epoch 38/150\n",
      "27878/27878 [==============================] - 36s 1ms/step - loss: 0.6333 - acc: 0.6384 - val_loss: 0.6488 - val_acc: 0.6178\n",
      "Epoch 39/150\n",
      "27878/27878 [==============================] - 36s 1ms/step - loss: 0.6320 - acc: 0.6398 - val_loss: 0.6469 - val_acc: 0.6214\n",
      "Epoch 40/150\n",
      "27878/27878 [==============================] - 36s 1ms/step - loss: 0.6312 - acc: 0.6410 - val_loss: 0.6454 - val_acc: 0.6165\n",
      "Epoch 41/150\n",
      "27878/27878 [==============================] - 36s 1ms/step - loss: 0.6302 - acc: 0.6406 - val_loss: 0.6449 - val_acc: 0.6233\n",
      "Epoch 42/150\n",
      "27878/27878 [==============================] - 36s 1ms/step - loss: 0.6289 - acc: 0.6419 - val_loss: 0.6434 - val_acc: 0.6185\n",
      "Epoch 43/150\n",
      "27878/27878 [==============================] - 36s 1ms/step - loss: 0.6280 - acc: 0.6456 - val_loss: 0.6447 - val_acc: 0.6201\n",
      "Epoch 44/150\n",
      "27878/27878 [==============================] - 36s 1ms/step - loss: 0.6269 - acc: 0.6453 - val_loss: 0.6420 - val_acc: 0.6214\n",
      "Epoch 45/150\n",
      "27878/27878 [==============================] - 36s 1ms/step - loss: 0.6261 - acc: 0.6464 - val_loss: 0.6406 - val_acc: 0.6269\n",
      "Epoch 46/150\n",
      "27878/27878 [==============================] - 36s 1ms/step - loss: 0.6258 - acc: 0.6466 - val_loss: 0.6433 - val_acc: 0.6198\n",
      "Epoch 47/150\n",
      "27878/27878 [==============================] - 36s 1ms/step - loss: 0.6243 - acc: 0.6481 - val_loss: 0.6395 - val_acc: 0.6240\n",
      "Epoch 48/150\n",
      "27878/27878 [==============================] - 36s 1ms/step - loss: 0.6233 - acc: 0.6509 - val_loss: 0.6405 - val_acc: 0.6275\n",
      "Epoch 49/150\n",
      "27878/27878 [==============================] - 36s 1ms/step - loss: 0.6222 - acc: 0.6503 - val_loss: 0.6412 - val_acc: 0.6281\n",
      "Epoch 50/150\n",
      "27878/27878 [==============================] - 36s 1ms/step - loss: 0.6213 - acc: 0.6509 - val_loss: 0.6391 - val_acc: 0.6233\n",
      "Epoch 51/150\n",
      "27878/27878 [==============================] - 36s 1ms/step - loss: 0.6208 - acc: 0.6535 - val_loss: 0.6359 - val_acc: 0.6317\n",
      "Epoch 52/150\n",
      "27878/27878 [==============================] - 36s 1ms/step - loss: 0.6192 - acc: 0.6547 - val_loss: 0.6369 - val_acc: 0.6333\n",
      "Epoch 53/150\n",
      "27878/27878 [==============================] - 36s 1ms/step - loss: 0.6191 - acc: 0.6554 - val_loss: 0.6346 - val_acc: 0.6349\n",
      "Epoch 54/150\n",
      "27878/27878 [==============================] - 36s 1ms/step - loss: 0.6178 - acc: 0.6569 - val_loss: 0.6324 - val_acc: 0.6391\n",
      "Epoch 55/150\n",
      "27878/27878 [==============================] - 36s 1ms/step - loss: 0.6171 - acc: 0.6563 - val_loss: 0.6323 - val_acc: 0.6369\n",
      "Epoch 56/150\n",
      "27878/27878 [==============================] - 36s 1ms/step - loss: 0.6162 - acc: 0.6576 - val_loss: 0.6308 - val_acc: 0.6427\n",
      "Epoch 57/150\n",
      "27878/27878 [==============================] - 36s 1ms/step - loss: 0.6154 - acc: 0.6594 - val_loss: 0.6317 - val_acc: 0.6362\n",
      "Epoch 58/150\n",
      "27878/27878 [==============================] - 36s 1ms/step - loss: 0.6146 - acc: 0.6592 - val_loss: 0.6327 - val_acc: 0.6430\n",
      "Epoch 59/150\n"
     ]
    },
    {
     "name": "stdout",
     "output_type": "stream",
     "text": [
      "27878/27878 [==============================] - 36s 1ms/step - loss: 0.6137 - acc: 0.6610 - val_loss: 0.6307 - val_acc: 0.6382\n",
      "Epoch 60/150\n",
      "27878/27878 [==============================] - 36s 1ms/step - loss: 0.6131 - acc: 0.6626 - val_loss: 0.6302 - val_acc: 0.6404\n",
      "Epoch 61/150\n",
      "27878/27878 [==============================] - 36s 1ms/step - loss: 0.6113 - acc: 0.6651 - val_loss: 0.6293 - val_acc: 0.6449\n",
      "Epoch 62/150\n",
      "27878/27878 [==============================] - 36s 1ms/step - loss: 0.6113 - acc: 0.6649 - val_loss: 0.6264 - val_acc: 0.6491\n",
      "Epoch 63/150\n",
      "27878/27878 [==============================] - 36s 1ms/step - loss: 0.6103 - acc: 0.6644 - val_loss: 0.6252 - val_acc: 0.6485\n",
      "Epoch 64/150\n",
      "27878/27878 [==============================] - 36s 1ms/step - loss: 0.6097 - acc: 0.6657 - val_loss: 0.6292 - val_acc: 0.6420\n",
      "Epoch 65/150\n",
      "27878/27878 [==============================] - 36s 1ms/step - loss: 0.6089 - acc: 0.6666 - val_loss: 0.6267 - val_acc: 0.6514\n",
      "Epoch 66/150\n",
      "27878/27878 [==============================] - 36s 1ms/step - loss: 0.6079 - acc: 0.6681 - val_loss: 0.6235 - val_acc: 0.6553\n",
      "Epoch 67/150\n",
      "27878/27878 [==============================] - 36s 1ms/step - loss: 0.6070 - acc: 0.6688 - val_loss: 0.6264 - val_acc: 0.6469\n",
      "Epoch 68/150\n",
      "27878/27878 [==============================] - 36s 1ms/step - loss: 0.6066 - acc: 0.6676 - val_loss: 0.6229 - val_acc: 0.6540\n",
      "Epoch 69/150\n",
      "27878/27878 [==============================] - 36s 1ms/step - loss: 0.6064 - acc: 0.6710 - val_loss: 0.6239 - val_acc: 0.6540\n",
      "Epoch 70/150\n",
      "27878/27878 [==============================] - 36s 1ms/step - loss: 0.6049 - acc: 0.6697 - val_loss: 0.6270 - val_acc: 0.6533\n",
      "Epoch 71/150\n",
      "27878/27878 [==============================] - 36s 1ms/step - loss: 0.6039 - acc: 0.6730 - val_loss: 0.6244 - val_acc: 0.6595\n",
      "Epoch 72/150\n",
      "27878/27878 [==============================] - 36s 1ms/step - loss: 0.6030 - acc: 0.6729 - val_loss: 0.6189 - val_acc: 0.6624\n",
      "Epoch 73/150\n",
      "27878/27878 [==============================] - 36s 1ms/step - loss: 0.6022 - acc: 0.6743 - val_loss: 0.6197 - val_acc: 0.6588\n",
      "Epoch 74/150\n",
      "27878/27878 [==============================] - 36s 1ms/step - loss: 0.6011 - acc: 0.6740 - val_loss: 0.6229 - val_acc: 0.6530\n",
      "Epoch 75/150\n",
      "27878/27878 [==============================] - 36s 1ms/step - loss: 0.6009 - acc: 0.6758 - val_loss: 0.6200 - val_acc: 0.6585\n",
      "Epoch 76/150\n",
      "27878/27878 [==============================] - 36s 1ms/step - loss: 0.5999 - acc: 0.6749 - val_loss: 0.6208 - val_acc: 0.6617\n",
      "Epoch 77/150\n",
      "27878/27878 [==============================] - 36s 1ms/step - loss: 0.5996 - acc: 0.6770 - val_loss: 0.6199 - val_acc: 0.6617\n",
      "Epoch 78/150\n",
      "27878/27878 [==============================] - 36s 1ms/step - loss: 0.5987 - acc: 0.6776 - val_loss: 0.6175 - val_acc: 0.6591\n",
      "Epoch 79/150\n",
      "27878/27878 [==============================] - 36s 1ms/step - loss: 0.5978 - acc: 0.6775 - val_loss: 0.6179 - val_acc: 0.6643\n",
      "Epoch 80/150\n",
      "27878/27878 [==============================] - 36s 1ms/step - loss: 0.5974 - acc: 0.6785 - val_loss: 0.6171 - val_acc: 0.6637\n",
      "Epoch 81/150\n",
      "27878/27878 [==============================] - 36s 1ms/step - loss: 0.5968 - acc: 0.6788 - val_loss: 0.6182 - val_acc: 0.6662\n",
      "Epoch 82/150\n",
      "27878/27878 [==============================] - 36s 1ms/step - loss: 0.5960 - acc: 0.6795 - val_loss: 0.6176 - val_acc: 0.6656\n",
      "Epoch 83/150\n",
      "27878/27878 [==============================] - 36s 1ms/step - loss: 0.5958 - acc: 0.6792 - val_loss: 0.6218 - val_acc: 0.6582\n",
      "Epoch 84/150\n",
      "27878/27878 [==============================] - 36s 1ms/step - loss: 0.5950 - acc: 0.6820 - val_loss: 0.6191 - val_acc: 0.6643\n",
      "Epoch 85/150\n",
      "27878/27878 [==============================] - 36s 1ms/step - loss: 0.5941 - acc: 0.6819 - val_loss: 0.6177 - val_acc: 0.6649\n",
      "Epoch 86/150\n",
      "27878/27878 [==============================] - 36s 1ms/step - loss: 0.5937 - acc: 0.6807 - val_loss: 0.6153 - val_acc: 0.6711\n",
      "Epoch 87/150\n",
      "27878/27878 [==============================] - 36s 1ms/step - loss: 0.5932 - acc: 0.6836 - val_loss: 0.6182 - val_acc: 0.6620\n",
      "Epoch 88/150\n",
      "27878/27878 [==============================] - 36s 1ms/step - loss: 0.5927 - acc: 0.6839 - val_loss: 0.6170 - val_acc: 0.6659\n",
      "Epoch 89/150\n",
      "27878/27878 [==============================] - 36s 1ms/step - loss: 0.5922 - acc: 0.6845 - val_loss: 0.6179 - val_acc: 0.6601\n",
      "Epoch 90/150\n",
      "27878/27878 [==============================] - 36s 1ms/step - loss: 0.5916 - acc: 0.6856 - val_loss: 0.6163 - val_acc: 0.6659\n",
      "Epoch 91/150\n",
      "27878/27878 [==============================] - 36s 1ms/step - loss: 0.5915 - acc: 0.6848 - val_loss: 0.6164 - val_acc: 0.6607\n",
      "Epoch 92/150\n",
      "27878/27878 [==============================] - 36s 1ms/step - loss: 0.5906 - acc: 0.6851 - val_loss: 0.6243 - val_acc: 0.6511\n",
      "Epoch 93/150\n",
      "27878/27878 [==============================] - 36s 1ms/step - loss: 0.5900 - acc: 0.6861 - val_loss: 0.6128 - val_acc: 0.6620\n",
      "Epoch 94/150\n",
      "27878/27878 [==============================] - 36s 1ms/step - loss: 0.5897 - acc: 0.6878 - val_loss: 0.6153 - val_acc: 0.6640\n",
      "Epoch 95/150\n",
      "27878/27878 [==============================] - 36s 1ms/step - loss: 0.5890 - acc: 0.6895 - val_loss: 0.6162 - val_acc: 0.6624\n",
      "Epoch 96/150\n",
      "27878/27878 [==============================] - 36s 1ms/step - loss: 0.5892 - acc: 0.6888 - val_loss: 0.6170 - val_acc: 0.6630\n",
      "Epoch 97/150\n",
      "27878/27878 [==============================] - 36s 1ms/step - loss: 0.5876 - acc: 0.6900 - val_loss: 0.6153 - val_acc: 0.6643\n",
      "Epoch 98/150\n",
      "27878/27878 [==============================] - 36s 1ms/step - loss: 0.5874 - acc: 0.6903 - val_loss: 0.6118 - val_acc: 0.6691\n",
      "Epoch 99/150\n",
      "27878/27878 [==============================] - 36s 1ms/step - loss: 0.5869 - acc: 0.6896 - val_loss: 0.6122 - val_acc: 0.6711\n",
      "Epoch 100/150\n",
      "27878/27878 [==============================] - 36s 1ms/step - loss: 0.5865 - acc: 0.6915 - val_loss: 0.6116 - val_acc: 0.6675\n",
      "Epoch 101/150\n",
      "27878/27878 [==============================] - 36s 1ms/step - loss: 0.5856 - acc: 0.6926 - val_loss: 0.6120 - val_acc: 0.6675\n",
      "Epoch 102/150\n",
      "27878/27878 [==============================] - 36s 1ms/step - loss: 0.5851 - acc: 0.6918 - val_loss: 0.6107 - val_acc: 0.6714\n",
      "Epoch 103/150\n",
      "27878/27878 [==============================] - 36s 1ms/step - loss: 0.5849 - acc: 0.6923 - val_loss: 0.6122 - val_acc: 0.6691\n",
      "Epoch 104/150\n",
      "27878/27878 [==============================] - 36s 1ms/step - loss: 0.5844 - acc: 0.6928 - val_loss: 0.6124 - val_acc: 0.6659\n",
      "Epoch 105/150\n",
      "27878/27878 [==============================] - 36s 1ms/step - loss: 0.5839 - acc: 0.6935 - val_loss: 0.6124 - val_acc: 0.6743\n",
      "Epoch 106/150\n",
      "27878/27878 [==============================] - 36s 1ms/step - loss: 0.5835 - acc: 0.6943 - val_loss: 0.6125 - val_acc: 0.6640\n",
      "Epoch 107/150\n",
      "27878/27878 [==============================] - 36s 1ms/step - loss: 0.5836 - acc: 0.6923 - val_loss: 0.6114 - val_acc: 0.6711\n",
      "Epoch 108/150\n",
      "27878/27878 [==============================] - 36s 1ms/step - loss: 0.5825 - acc: 0.6934 - val_loss: 0.6140 - val_acc: 0.6701\n",
      "Epoch 109/150\n",
      "27878/27878 [==============================] - 36s 1ms/step - loss: 0.5819 - acc: 0.6965 - val_loss: 0.6115 - val_acc: 0.6727\n",
      "Epoch 110/150\n",
      "27878/27878 [==============================] - 36s 1ms/step - loss: 0.5822 - acc: 0.6964 - val_loss: 0.6131 - val_acc: 0.6672\n",
      "Epoch 111/150\n",
      "27878/27878 [==============================] - 36s 1ms/step - loss: 0.5810 - acc: 0.6963 - val_loss: 0.6110 - val_acc: 0.6717\n",
      "Epoch 112/150\n",
      "27878/27878 [==============================] - 36s 1ms/step - loss: 0.5803 - acc: 0.6986 - val_loss: 0.6079 - val_acc: 0.6772\n",
      "Epoch 113/150\n",
      "27878/27878 [==============================] - 36s 1ms/step - loss: 0.5803 - acc: 0.6978 - val_loss: 0.6072 - val_acc: 0.6779\n",
      "Epoch 114/150\n",
      "27878/27878 [==============================] - 36s 1ms/step - loss: 0.5799 - acc: 0.6979 - val_loss: 0.6078 - val_acc: 0.6775\n",
      "Epoch 115/150\n",
      "27878/27878 [==============================] - 36s 1ms/step - loss: 0.5795 - acc: 0.6983 - val_loss: 0.6082 - val_acc: 0.6720\n",
      "Epoch 116/150\n",
      "27878/27878 [==============================] - 36s 1ms/step - loss: 0.5799 - acc: 0.6974 - val_loss: 0.6125 - val_acc: 0.6727\n",
      "Epoch 117/150\n",
      "27878/27878 [==============================] - 36s 1ms/step - loss: 0.5792 - acc: 0.6995 - val_loss: 0.6075 - val_acc: 0.6759\n"
     ]
    },
    {
     "name": "stdout",
     "output_type": "stream",
     "text": [
      "Epoch 118/150\n",
      "27878/27878 [==============================] - 36s 1ms/step - loss: 0.5794 - acc: 0.6973 - val_loss: 0.6079 - val_acc: 0.6788\n",
      "Epoch 119/150\n",
      "27878/27878 [==============================] - 36s 1ms/step - loss: 0.5779 - acc: 0.6989 - val_loss: 0.6115 - val_acc: 0.6720\n",
      "Epoch 120/150\n",
      "27878/27878 [==============================] - 36s 1ms/step - loss: 0.5779 - acc: 0.6990 - val_loss: 0.6080 - val_acc: 0.6727\n",
      "Epoch 121/150\n",
      "27878/27878 [==============================] - 36s 1ms/step - loss: 0.5803 - acc: 0.6973 - val_loss: 0.6086 - val_acc: 0.6759\n",
      "Epoch 122/150\n",
      "27878/27878 [==============================] - 36s 1ms/step - loss: 0.5794 - acc: 0.6978 - val_loss: 0.6111 - val_acc: 0.6737\n",
      "Epoch 123/150\n",
      "27878/27878 [==============================] - 36s 1ms/step - loss: 0.5766 - acc: 0.7005 - val_loss: 0.6065 - val_acc: 0.6737\n",
      "Epoch 124/150\n",
      "27878/27878 [==============================] - 36s 1ms/step - loss: 0.5771 - acc: 0.7023 - val_loss: 0.6081 - val_acc: 0.6775\n",
      "Epoch 125/150\n",
      "27878/27878 [==============================] - 36s 1ms/step - loss: 0.5788 - acc: 0.6976 - val_loss: 0.6123 - val_acc: 0.6637\n",
      "Epoch 126/150\n",
      "27878/27878 [==============================] - 36s 1ms/step - loss: 0.5779 - acc: 0.6991 - val_loss: 0.6066 - val_acc: 0.6772\n",
      "Epoch 127/150\n",
      "27878/27878 [==============================] - 36s 1ms/step - loss: 0.5757 - acc: 0.7017 - val_loss: 0.6056 - val_acc: 0.6766\n",
      "Epoch 128/150\n",
      "27878/27878 [==============================] - 36s 1ms/step - loss: 0.5769 - acc: 0.7013 - val_loss: 0.6058 - val_acc: 0.6804\n",
      "Epoch 129/150\n",
      "27878/27878 [==============================] - 36s 1ms/step - loss: 0.5750 - acc: 0.7027 - val_loss: 0.6063 - val_acc: 0.6791\n",
      "Epoch 130/150\n",
      "27878/27878 [==============================] - 36s 1ms/step - loss: 0.5747 - acc: 0.7024 - val_loss: 0.6094 - val_acc: 0.6669\n",
      "Epoch 131/150\n",
      "27878/27878 [==============================] - 36s 1ms/step - loss: 0.5740 - acc: 0.7032 - val_loss: 0.6058 - val_acc: 0.6811\n",
      "Epoch 132/150\n",
      "27878/27878 [==============================] - 36s 1ms/step - loss: 0.5733 - acc: 0.7024 - val_loss: 0.6052 - val_acc: 0.6824\n",
      "Epoch 133/150\n",
      "27878/27878 [==============================] - 36s 1ms/step - loss: 0.5735 - acc: 0.7032 - val_loss: 0.6062 - val_acc: 0.6785\n",
      "Epoch 134/150\n",
      "27878/27878 [==============================] - 36s 1ms/step - loss: 0.5728 - acc: 0.7026 - val_loss: 0.6041 - val_acc: 0.6833\n",
      "Epoch 135/150\n",
      "27878/27878 [==============================] - 36s 1ms/step - loss: 0.5720 - acc: 0.7065 - val_loss: 0.6036 - val_acc: 0.6866\n",
      "Epoch 136/150\n",
      "27878/27878 [==============================] - 36s 1ms/step - loss: 0.5721 - acc: 0.7054 - val_loss: 0.6073 - val_acc: 0.6840\n",
      "Epoch 137/150\n",
      "27878/27878 [==============================] - 36s 1ms/step - loss: 0.5716 - acc: 0.7053 - val_loss: 0.6052 - val_acc: 0.6811\n",
      "Epoch 138/150\n",
      "27878/27878 [==============================] - 36s 1ms/step - loss: 0.5715 - acc: 0.7063 - val_loss: 0.6038 - val_acc: 0.6811\n",
      "Epoch 139/150\n",
      "27878/27878 [==============================] - 36s 1ms/step - loss: 0.5709 - acc: 0.7064 - val_loss: 0.6150 - val_acc: 0.6791\n",
      "Epoch 140/150\n",
      "27878/27878 [==============================] - 36s 1ms/step - loss: 0.5710 - acc: 0.7068 - val_loss: 0.6025 - val_acc: 0.6840\n",
      "Epoch 141/150\n",
      "27878/27878 [==============================] - 36s 1ms/step - loss: 0.5713 - acc: 0.7063 - val_loss: 0.6020 - val_acc: 0.6824\n",
      "Epoch 142/150\n",
      "27878/27878 [==============================] - 36s 1ms/step - loss: 0.5703 - acc: 0.7073 - val_loss: 0.6014 - val_acc: 0.6811\n",
      "Epoch 143/150\n",
      "27878/27878 [==============================] - 36s 1ms/step - loss: 0.5699 - acc: 0.7074 - val_loss: 0.6020 - val_acc: 0.6824\n",
      "Epoch 144/150\n",
      "27878/27878 [==============================] - 36s 1ms/step - loss: 0.5698 - acc: 0.7074 - val_loss: 0.6027 - val_acc: 0.6824\n",
      "Epoch 145/150\n",
      "27878/27878 [==============================] - 36s 1ms/step - loss: 0.5707 - acc: 0.7048 - val_loss: 0.6038 - val_acc: 0.6862\n",
      "Epoch 146/150\n",
      "27878/27878 [==============================] - 36s 1ms/step - loss: 0.5708 - acc: 0.7080 - val_loss: 0.6029 - val_acc: 0.6785\n",
      "Epoch 147/150\n",
      "27878/27878 [==============================] - 36s 1ms/step - loss: 0.5702 - acc: 0.7075 - val_loss: 0.6021 - val_acc: 0.6853\n",
      "Epoch 148/150\n",
      "27878/27878 [==============================] - 36s 1ms/step - loss: 0.5687 - acc: 0.7084 - val_loss: 0.6028 - val_acc: 0.6756\n",
      "Epoch 149/150\n",
      "27878/27878 [==============================] - 36s 1ms/step - loss: 0.5676 - acc: 0.7097 - val_loss: 0.6016 - val_acc: 0.6924\n",
      "Epoch 150/150\n",
      "27878/27878 [==============================] - 36s 1ms/step - loss: 0.5673 - acc: 0.7095 - val_loss: 0.6025 - val_acc: 0.6866\n"
     ]
    }
   ],
   "source": [
    "model = Sequential()\n",
    "#model.add(CuDNNLSTM(8, input_shape=(1000, 8), return_sequences=True))\n",
    "model.add(Bidirectional(CuDNNLSTM(8), input_shape=(1000, 8)))\n",
    "#model.add(CuDNNLSTM(8, return_sequences=True))\n",
    "#model.add(CuDNNLSTM(4, return_sequences=True))\n",
    "#model.add(CuDNNLSTM(4))\n",
    "model.add(Dense(1, activation='sigmoid'))\n",
    "model.compile(optimizer='rmsprop', loss='binary_crossentropy', metrics=['acc'])\n",
    "history = model.fit(X_train_rnn, y_train, epochs=150, batch_size=128, validation_split=0.1)"
   ]
  },
  {
   "cell_type": "markdown",
   "metadata": {},
   "source": [
    "**Result**:\n",
    "\n",
    "The following cell **visualize** the training/validation accuracies and losses over each epoch."
   ]
  },
  {
   "cell_type": "code",
   "execution_count": 10,
   "metadata": {},
   "outputs": [
    {
     "data": {
      "image/png": "[encoded data removed]",
      "text/plain": [
       "<Figure size 432x288 with 1 Axes>"
      ]
     },
     "metadata": {},
     "output_type": "display_data"
    },
    {
     "data": {
      "image/png": "[encoded data removed]",
      "text/plain": [
       "<Figure size 432x288 with 1 Axes>"
      ]
     },
     "metadata": {},
     "output_type": "display_data"
    }
   ],
   "source": [
    "acc = history.history['acc']\n",
    "val_acc = history.history['val_acc']\n",
    "loss = history.history['loss']\n",
    "val_loss = history.history['val_loss']\n",
    "\n",
    "epochs = range(1, len(acc) + 1)\n",
    "\n",
    "plt.plot(epochs, acc, 'bo', label='Training Accuracy')\n",
    "plt.plot(epochs, val_acc, 'b', label='Validation Accuracy')\n",
    "plt.title('Training and Validation Accuracy')\n",
    "plt.xlabel('epoches')\n",
    "plt.legend()\n",
    "\n",
    "plt.figure()\n",
    "\n",
    "plt.plot(epochs, loss, 'bo', label='Training Loss')\n",
    "plt.plot(epochs, val_loss, 'b', label='Validation Loss')\n",
    "plt.title('Training and Validation Loss')\n",
    "plt.xlabel('epoches')\n",
    "plt.legend()\n",
    "\n",
    "plt.show()"
   ]
  },
  {
   "cell_type": "code",
   "execution_count": 11,
   "metadata": {},
   "outputs": [
    {
     "name": "stdout",
     "output_type": "stream",
     "text": [
      "Save model to models/adam_2019_01_29.json\n"
     ]
    }
   ],
   "source": [
    "import utility\n",
    "utility.save_model(model, 'models/adam_2019_01_29.json', 'models/adam_2019_01_29_weights.h5')\n"
   ]
  },
  {
   "cell_type": "code",
   "execution_count": 12,
   "metadata": {},
   "outputs": [],
   "source": [
    "import tensorflow as tf\n",
    "import matplotlib.pyplot as plt\n",
    "import numpy as np\n",
    "from utility import load_model\n",
    "import pickle"
   ]
  },
  {
   "cell_type": "markdown",
   "metadata": {},
   "source": [
    "# False Discovery Rate\n",
    "This cell uses the model to make predictions on our data.\n",
    "\n",
    "Then it iterates through the results and the real labels and compares them to check for False Positives(FP) and True Positives(TP).\n",
    "\n",
    "Then it uses the formula to calculate the False Discovery Rate (FDR)"
   ]
  },
  {
   "cell_type": "code",
   "execution_count": 16,
   "metadata": {},
   "outputs": [
    {
     "name": "stdout",
     "output_type": "stream",
     "text": [
      "The false discovery rate is: 0.356\n"
     ]
    }
   ],
   "source": [
    "X_test_fdr = X_test.reshape(5000, 1000, 8)\n",
    "results = model.predict(X_test_fdr, batch_size=16)\n",
    "\n",
    "false_positives = 0\n",
    "true_positives = 0\n",
    "total_negatives = 0\n",
    "total_positives = 0\n",
    "true_negatives = 0\n",
    "\n",
    "for i in range(0,results.size):\n",
    "    \n",
    "    if results[i][0]>=0.5 and y_test[i]==0:\n",
    "        false_positives += 1\n",
    "\n",
    "    if results[i][0]>=0.5 and y_test[i]==1:\n",
    "        true_positives += 1\n",
    "        \n",
    "    if results[i][0]<=0.5 and y_test[i]==0:\n",
    "        true_negatives += 1\n",
    "        \n",
    "    if results[i][0] <= 0.5:\n",
    "        total_negatives += 1\n",
    "        \n",
    "    if results[i][0] >= 0.5:\n",
    "        total_positives += 1\n",
    "\n",
    "false_discovery_rate = false_positives/(false_positives + true_positives)\n",
    "print(\"The false discovery rate is: {}\".format(false_discovery_rate))"
   ]
  },
  {
   "cell_type": "markdown",
   "metadata": {},
   "source": [
    "# C-statistics\n",
    "This cell iterates through the data using an incrementing threshold value to generate an ROC Curve then uses a Riemann sum (trapezoidal) to generate the C-statistic"
   ]
  },
  {
   "cell_type": "code",
   "execution_count": 18,
   "metadata": {},
   "outputs": [
    {
     "name": "stdout",
     "output_type": "stream",
     "text": [
      "ROC Curve\n"
     ]
    },
    {
     "data": {
      "image/png": "[encoded data removed]",
      "text/plain": [
       "<Figure size 432x288 with 1 Axes>"
      ]
     },
     "metadata": {},
     "output_type": "display_data"
    },
    {
     "name": "stdout",
     "output_type": "stream",
     "text": [
      "c-statistic = 0.7085808268071134\n"
     ]
    }
   ],
   "source": [
    "sensitivities = []\n",
    "false_positive_rates =[]\n",
    "discovery_percentage = 0.05\n",
    "\n",
    "while discovery_percentage < 1.0:\n",
    "    \n",
    "    false_positives = 0\n",
    "    true_positives = 0\n",
    "    total_negatives = 0\n",
    "    total_positives = 0\n",
    "    true_negatives = 0\n",
    "    \n",
    "    for i in range(0,results.size):\n",
    "\n",
    "        if results[i][0]>=discovery_percentage and y_test[i]==0:\n",
    "            false_positives += 1\n",
    "\n",
    "        if results[i][0]>=discovery_percentage and y_test[i]==1:\n",
    "            true_positives += 1\n",
    "\n",
    "        if results[i][0]<=discovery_percentage and y_test[i]==0:\n",
    "            true_negatives += 1\n",
    "\n",
    "        if y_test[i]==0:\n",
    "            total_negatives += 1\n",
    "\n",
    "        if y_test[i]==1:\n",
    "            total_positives += 1\n",
    "            \n",
    "    if total_positives != 0 and total_negatives != 0:\n",
    "        sensitivities.append(true_positives / total_positives)\n",
    "        false_positive_rates.append(1-(true_negatives / total_negatives))\n",
    "    \n",
    "    discovery_percentage += 0.05\n",
    "    \n",
    "riemann = 0.0\n",
    "for i in range(0,len(sensitivities) - 1):\n",
    "    riemann += 0.5 * (sensitivities[i]+sensitivities[i+1]) * (false_positive_rates[i]-false_positive_rates[i+1])\n",
    "    \n",
    "\n",
    "print(\"ROC Curve\")\n",
    "plt.plot(false_positive_rates, sensitivities )\n",
    "plt.ylabel('sensitivity')\n",
    "plt.xlabel('false positive rate')\n",
    "plt.show()\n",
    "print(\"c-statistic = \" + str(riemann))"
   ]
  },
  {
   "cell_type": "markdown",
   "metadata": {},
   "source": [
    "#### c-statistic > 0.7 indicates that this is a good model"
   ]
  },
  {
   "cell_type": "markdown",
   "metadata": {},
   "source": [
    "### Conclusion:\n",
    "\n",
    "- The FDR and C-statistic showed us that the model did a decent job, which matches our expectation.\n",
    "- Hence, the hypothesis is reasonable and we need to investigate further to figure out the reason."
   ]
  },
  {
   "cell_type": "markdown",
   "metadata": {},
   "source": [
    "### Next:\n",
    "\n",
    "- Increase the number of epochs to see if the validation accuracy can be improved.\n",
    "- Use RELU instead of Sigmoid to prevent the gradient-vanishing issue.\n",
    "- Evaluate the model on new Drosophila species."
   ]
  }
 ],
 "metadata": {
  "kernelspec": {
   "display_name": "Environment (conda_tensorflow_p36)",
   "language": "python",
   "name": "conda_tensorflow_p36"
  },
  "language_info": {
   "codemirror_mode": {
    "name": "ipython",
    "version": 3
   },
   "file_extension": ".py",
   "mimetype": "text/x-python",
   "name": "python",
   "nbconvert_exporter": "python",
   "pygments_lexer": "ipython3",
   "version": "3.6.4"
  }
 },
 "nbformat": 4,
 "nbformat_minor": 2
}
