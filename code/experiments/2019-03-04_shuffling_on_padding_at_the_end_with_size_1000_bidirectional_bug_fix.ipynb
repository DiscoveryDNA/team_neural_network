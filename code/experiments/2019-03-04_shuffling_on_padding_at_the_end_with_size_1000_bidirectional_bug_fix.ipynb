{
 "cells": [
  {
   "cell_type": "markdown",
   "metadata": {},
   "source": [
    "**Date**: 2019-03-04\n",
    "\n",
    "**Authors**: Adam Stafford\n",
    "\n",
    "**Purpose**: To test whether shuffling the input improves the accuracy when using a bidirectional LSTM.\n",
    "\n",
    "This notebook tests a naive alignment scheme that selects the first 1000 positions of a DNA sequence (add null positions to the end if a sequence is shorter than 1000). The sequences are shuffled before feeding into the neural network. In this experiment we use new data that includes the negative strand.\n",
    "\n",
    "**Background**:\n",
    "- The idea of this experiment is based on the understanding that any sequence bears more resemblance with its 23 'siblings' (which are next to each other in the list of sequences before shuffling). Without shuffling, either all siblings are in the training set, or all of them are in the validation set. By shuffling the sequences, all siblings would be randomly distributed into the training set and the validation set. We might be able to extract more information for a sequence based on those of its siblings that are distributed into the training set.\n",
    "\n",
    "**Experiment**:"
   ]
  },
  {
   "cell_type": "code",
   "execution_count": 1,
   "metadata": {},
   "outputs": [
    {
     "name": "stderr",
     "output_type": "stream",
     "text": [
      "/home/ubuntu/anaconda3/envs/tensorflow_p36/lib/python3.6/site-packages/matplotlib/__init__.py:1067: UserWarning: Duplicate key in file \"/home/ubuntu/.config/matplotlib/matplotlibrc\", line #2\n",
      "  (fname, cnt))\n",
      "/home/ubuntu/anaconda3/envs/tensorflow_p36/lib/python3.6/site-packages/matplotlib/__init__.py:1067: UserWarning: Duplicate key in file \"/home/ubuntu/.config/matplotlib/matplotlibrc\", line #3\n",
      "  (fname, cnt))\n"
     ]
    }
   ],
   "source": [
    "import pickle\n",
    "import numpy as np\n",
    "import matplotlib.pyplot as plt"
   ]
  },
  {
   "cell_type": "markdown",
   "metadata": {},
   "source": [
    "Load the `pickle` buffered list:"
   ]
  },
  {
   "cell_type": "code",
   "execution_count": 3,
   "metadata": {},
   "outputs": [],
   "source": [
    "with open(\"../data/list_buffer2.txt\", \"rb\") as buff:\n",
    "    seq_record_list = pickle.load(buff)"
   ]
  },
  {
   "cell_type": "markdown",
   "metadata": {},
   "source": [
    "The following cell retains only 4800 sequences, for the purpose of testing speed. It also randomly shuffles the 4800 sequences."
   ]
  },
  {
   "cell_type": "code",
   "execution_count": 4,
   "metadata": {},
   "outputs": [],
   "source": [
    "seq_record_list = seq_record_list[:4800]\n",
    "from random import shuffle\n",
    "shuffle(seq_record_list)"
   ]
  },
  {
   "cell_type": "markdown",
   "metadata": {},
   "source": [
    "The following cell transforms the data into a format that is recognizable by the neural network model."
   ]
  },
  {
   "cell_type": "code",
   "execution_count": 5,
   "metadata": {},
   "outputs": [],
   "source": [
    "# A helper function to flatten a 2d list to 1d.\n",
    "# Input: [[1, 2], [2, 3], [3, 4, 5]]\n",
    "# Output: [1, 2, 2, 3, 3, 4, 5]\n",
    "def flatten(lst):\n",
    "    new_lst = []\n",
    "    for sub_lst in lst:\n",
    "        for item in sub_lst:\n",
    "            new_lst.append(item)\n",
    "    return new_lst\n",
    "\n",
    "# A helper function to transform a lst so that its length becomes read_len by:\n",
    "# 1. If len(lst) > read_len, curtail the end of the lst.\n",
    "# 2. If len(lst) < read_len, keep extending the end of the lst with 0 (NA).\n",
    "def curtail(lst, read_len):\n",
    "    if len(lst) > read_len:\n",
    "        lst = lst[:read_len]\n",
    "    else:\n",
    "        for i in range(read_len - len(lst)):\n",
    "            lst.append([0, 0, 0, 0, 0, 0, 0, 0])\n",
    "    return lst\n",
    "\n",
    "# Produce the train-test split\n",
    "# length_read: the length that you want all DNA sequences to conform to\n",
    "def prepare_input(training_size, test_size, length_read):\n",
    "    X_train = []\n",
    "    y_train = []\n",
    "    X_test = []\n",
    "    y_test = []\n",
    "    seq_count = 0\n",
    "    while seq_count < training_size:\n",
    "        X_train.append(flatten(curtail(seq_record_list[seq_count][3], length_read)))\n",
    "        y_train.append(int(seq_record_list[seq_count][1]))\n",
    "        seq_count += 1\n",
    "    while seq_count < (training_size + test_size):\n",
    "        X_test.append(flatten(curtail(seq_record_list[seq_count][3], length_read)))\n",
    "        y_test.append(int(seq_record_list[seq_count][1]))\n",
    "        seq_count += 1\n",
    "    return X_train, y_train, X_test, y_test\n",
    "\n",
    "# Turn list into numpy tensors that can directly feed into a neural network model\n",
    "def to_np_array(X_train, y_train, X_test, y_test):\n",
    "    X_train = np.array(X_train)\n",
    "    y_train = np.array(y_train)\n",
    "    if len(y_train.shape) == 1:\n",
    "        y_train = np.transpose(np.array([y_train]))\n",
    "    X_test = np.array(X_test)\n",
    "    y_test = np.transpose(np.array(y_test))\n",
    "    if len(y_test.shape) == 1:\n",
    "        y_test = np.transpose(np.array([y_test]))\n",
    "    return X_train, y_train, X_test, y_test"
   ]
  },
  {
   "cell_type": "code",
   "execution_count": 6,
   "metadata": {},
   "outputs": [
    {
     "data": {
      "text/plain": [
       "[(4320, 8000), (4320, 1), (480, 8000), (480, 1)]"
      ]
     },
     "execution_count": 6,
     "metadata": {},
     "output_type": "execute_result"
    }
   ],
   "source": [
    "X_train, y_train, X_test, y_test = prepare_input(4320, 480, 1000)\n",
    "X_train, y_train, X_test, y_test = to_np_array(X_train, y_train, X_test, y_test)\n",
    "[X_train.shape, y_train.shape, X_test.shape, y_test.shape]"
   ]
  },
  {
   "cell_type": "markdown",
   "metadata": {},
   "source": [
    "The following cells build a recurrent network with one bidirectional LSTM layer."
   ]
  },
  {
   "cell_type": "code",
   "execution_count": 7,
   "metadata": {},
   "outputs": [
    {
     "name": "stderr",
     "output_type": "stream",
     "text": [
      "/home/ubuntu/anaconda3/envs/tensorflow_p36/lib/python3.6/site-packages/h5py/__init__.py:36: FutureWarning: Conversion of the second argument of issubdtype from `float` to `np.floating` is deprecated. In future, it will be treated as `np.float64 == np.dtype(float).type`.\n",
      "  from ._conv import register_converters as _register_converters\n",
      "Using TensorFlow backend.\n"
     ]
    }
   ],
   "source": [
    "from keras.models import Model, Sequential\n",
    "from keras.layers import Dense, CuDNNLSTM, Bidirectional"
   ]
  },
  {
   "cell_type": "code",
   "execution_count": 8,
   "metadata": {},
   "outputs": [],
   "source": [
    "X_train_rnn = X_train.reshape(4320, 1000, 8)"
   ]
  },
  {
   "cell_type": "code",
   "execution_count": 9,
   "metadata": {
    "scrolled": true
   },
   "outputs": [
    {
     "name": "stdout",
     "output_type": "stream",
     "text": [
      "Train on 3888 samples, validate on 432 samples\n",
      "Epoch 1/150\n",
      "3888/3888 [==============================] - 94s 24ms/step - loss: 0.7216 - acc: 0.5378 - val_loss: 0.6985 - val_acc: 0.5347\n",
      "Epoch 2/150\n",
      "3888/3888 [==============================] - 5s 1ms/step - loss: 0.6877 - acc: 0.5499 - val_loss: 0.6827 - val_acc: 0.5370\n",
      "Epoch 3/150\n",
      "3888/3888 [==============================] - 5s 1ms/step - loss: 0.6772 - acc: 0.5674 - val_loss: 0.6712 - val_acc: 0.5764\n",
      "Epoch 4/150\n",
      "3888/3888 [==============================] - 5s 1ms/step - loss: 0.6680 - acc: 0.5823 - val_loss: 0.6583 - val_acc: 0.5856\n",
      "Epoch 5/150\n",
      "3888/3888 [==============================] - 5s 1ms/step - loss: 0.6587 - acc: 0.6029 - val_loss: 0.6503 - val_acc: 0.6065\n",
      "Epoch 6/150\n",
      "3888/3888 [==============================] - 5s 1ms/step - loss: 0.6529 - acc: 0.6142 - val_loss: 0.6443 - val_acc: 0.6111\n",
      "Epoch 7/150\n",
      "3888/3888 [==============================] - 5s 1ms/step - loss: 0.6470 - acc: 0.6178 - val_loss: 0.6395 - val_acc: 0.6204\n",
      "Epoch 8/150\n",
      "3888/3888 [==============================] - 5s 1ms/step - loss: 0.6417 - acc: 0.6301 - val_loss: 0.6345 - val_acc: 0.6204\n",
      "Epoch 9/150\n",
      "3888/3888 [==============================] - 5s 1ms/step - loss: 0.6366 - acc: 0.6353 - val_loss: 0.6303 - val_acc: 0.6343\n",
      "Epoch 10/150\n",
      "3888/3888 [==============================] - 5s 1ms/step - loss: 0.6317 - acc: 0.6435 - val_loss: 0.6271 - val_acc: 0.6435\n",
      "Epoch 11/150\n",
      "3888/3888 [==============================] - 5s 1ms/step - loss: 0.6277 - acc: 0.6445 - val_loss: 0.6223 - val_acc: 0.6505\n",
      "Epoch 12/150\n",
      "3888/3888 [==============================] - 5s 1ms/step - loss: 0.6230 - acc: 0.6474 - val_loss: 0.6186 - val_acc: 0.6481\n",
      "Epoch 13/150\n",
      "3888/3888 [==============================] - 5s 1ms/step - loss: 0.6174 - acc: 0.6572 - val_loss: 0.6162 - val_acc: 0.6481\n",
      "Epoch 14/150\n",
      "3888/3888 [==============================] - 5s 1ms/step - loss: 0.6186 - acc: 0.6566 - val_loss: 0.6212 - val_acc: 0.6319\n",
      "Epoch 15/150\n",
      "3888/3888 [==============================] - 5s 1ms/step - loss: 0.6154 - acc: 0.6602 - val_loss: 0.6173 - val_acc: 0.6620\n",
      "Epoch 16/150\n",
      "3888/3888 [==============================] - 5s 1ms/step - loss: 0.6111 - acc: 0.6705 - val_loss: 0.6119 - val_acc: 0.6597\n",
      "Epoch 17/150\n",
      "3888/3888 [==============================] - 5s 1ms/step - loss: 0.6075 - acc: 0.6793 - val_loss: 0.6172 - val_acc: 0.6620\n",
      "Epoch 18/150\n",
      "3888/3888 [==============================] - 5s 1ms/step - loss: 0.6047 - acc: 0.6865 - val_loss: 0.6055 - val_acc: 0.6528\n",
      "Epoch 19/150\n",
      "3888/3888 [==============================] - 5s 1ms/step - loss: 0.5925 - acc: 0.6898 - val_loss: 0.5953 - val_acc: 0.6505\n",
      "Epoch 20/150\n",
      "3888/3888 [==============================] - 5s 1ms/step - loss: 0.5893 - acc: 0.6924 - val_loss: 0.5923 - val_acc: 0.6551\n",
      "Epoch 21/150\n",
      "3888/3888 [==============================] - 5s 1ms/step - loss: 0.5839 - acc: 0.7029 - val_loss: 0.5907 - val_acc: 0.6644\n",
      "Epoch 22/150\n",
      "3888/3888 [==============================] - 5s 1ms/step - loss: 0.5789 - acc: 0.7073 - val_loss: 0.5869 - val_acc: 0.6644\n",
      "Epoch 23/150\n",
      "3888/3888 [==============================] - 5s 1ms/step - loss: 0.5742 - acc: 0.7096 - val_loss: 0.5874 - val_acc: 0.6806\n",
      "Epoch 24/150\n",
      "3888/3888 [==============================] - 5s 1ms/step - loss: 0.5708 - acc: 0.7140 - val_loss: 0.5798 - val_acc: 0.6806\n",
      "Epoch 25/150\n",
      "3888/3888 [==============================] - 5s 1ms/step - loss: 0.5659 - acc: 0.7233 - val_loss: 0.5754 - val_acc: 0.6759\n",
      "Epoch 26/150\n",
      "3888/3888 [==============================] - 5s 1ms/step - loss: 0.5614 - acc: 0.7227 - val_loss: 0.5727 - val_acc: 0.6667\n",
      "Epoch 27/150\n",
      "3888/3888 [==============================] - 5s 1ms/step - loss: 0.5564 - acc: 0.7305 - val_loss: 0.5707 - val_acc: 0.6667\n",
      "Epoch 28/150\n",
      "3888/3888 [==============================] - 5s 1ms/step - loss: 0.5519 - acc: 0.7289 - val_loss: 0.5687 - val_acc: 0.6597\n",
      "Epoch 29/150\n",
      "3888/3888 [==============================] - 5s 1ms/step - loss: 0.5506 - acc: 0.7328 - val_loss: 0.5651 - val_acc: 0.6782\n",
      "Epoch 30/150\n",
      "3888/3888 [==============================] - 5s 1ms/step - loss: 0.5460 - acc: 0.7325 - val_loss: 0.5657 - val_acc: 0.6829\n",
      "Epoch 31/150\n",
      "3888/3888 [==============================] - 5s 1ms/step - loss: 0.5428 - acc: 0.7377 - val_loss: 0.5612 - val_acc: 0.6759\n",
      "Epoch 32/150\n",
      "3888/3888 [==============================] - 5s 1ms/step - loss: 0.5415 - acc: 0.7410 - val_loss: 0.5549 - val_acc: 0.7014\n",
      "Epoch 33/150\n",
      "3888/3888 [==============================] - 5s 1ms/step - loss: 0.5341 - acc: 0.7469 - val_loss: 0.5520 - val_acc: 0.6944\n",
      "Epoch 34/150\n",
      "3888/3888 [==============================] - 5s 1ms/step - loss: 0.5293 - acc: 0.7505 - val_loss: 0.5432 - val_acc: 0.7060\n",
      "Epoch 35/150\n",
      "3888/3888 [==============================] - 5s 1ms/step - loss: 0.5243 - acc: 0.7554 - val_loss: 0.5408 - val_acc: 0.7106\n",
      "Epoch 36/150\n",
      "3888/3888 [==============================] - 5s 1ms/step - loss: 0.5225 - acc: 0.7533 - val_loss: 0.5471 - val_acc: 0.7083\n",
      "Epoch 37/150\n",
      "3888/3888 [==============================] - 5s 1ms/step - loss: 0.5183 - acc: 0.7582 - val_loss: 0.5361 - val_acc: 0.7153\n",
      "Epoch 38/150\n",
      "3888/3888 [==============================] - 5s 1ms/step - loss: 0.5134 - acc: 0.7590 - val_loss: 0.5371 - val_acc: 0.7222\n",
      "Epoch 39/150\n",
      "3888/3888 [==============================] - 5s 1ms/step - loss: 0.5127 - acc: 0.7572 - val_loss: 0.5405 - val_acc: 0.7338\n",
      "Epoch 40/150\n",
      "3888/3888 [==============================] - 5s 1ms/step - loss: 0.5068 - acc: 0.7634 - val_loss: 0.5275 - val_acc: 0.7361\n",
      "Epoch 41/150\n",
      "3888/3888 [==============================] - 5s 1ms/step - loss: 0.5031 - acc: 0.7729 - val_loss: 0.5298 - val_acc: 0.7199\n",
      "Epoch 42/150\n",
      "3888/3888 [==============================] - 5s 1ms/step - loss: 0.5010 - acc: 0.7675 - val_loss: 0.5212 - val_acc: 0.7269\n",
      "Epoch 43/150\n",
      "3888/3888 [==============================] - 5s 1ms/step - loss: 0.4984 - acc: 0.7695 - val_loss: 0.5208 - val_acc: 0.7361\n",
      "Epoch 44/150\n",
      "3888/3888 [==============================] - 5s 1ms/step - loss: 0.4945 - acc: 0.7729 - val_loss: 0.5160 - val_acc: 0.7361\n",
      "Epoch 45/150\n",
      "3888/3888 [==============================] - 5s 1ms/step - loss: 0.4935 - acc: 0.7703 - val_loss: 0.5198 - val_acc: 0.7292\n",
      "Epoch 46/150\n",
      "3888/3888 [==============================] - 5s 1ms/step - loss: 0.4886 - acc: 0.7760 - val_loss: 0.5215 - val_acc: 0.7269\n",
      "Epoch 47/150\n",
      "3888/3888 [==============================] - 5s 1ms/step - loss: 0.4874 - acc: 0.7775 - val_loss: 0.5081 - val_acc: 0.7407\n",
      "Epoch 48/150\n",
      "3888/3888 [==============================] - 5s 1ms/step - loss: 0.4828 - acc: 0.7788 - val_loss: 0.5092 - val_acc: 0.7407\n",
      "Epoch 49/150\n",
      "3888/3888 [==============================] - 5s 1ms/step - loss: 0.4782 - acc: 0.7829 - val_loss: 0.5017 - val_acc: 0.7546\n",
      "Epoch 50/150\n",
      "3888/3888 [==============================] - 5s 1ms/step - loss: 0.4757 - acc: 0.7834 - val_loss: 0.5014 - val_acc: 0.7431\n",
      "Epoch 51/150\n",
      "3888/3888 [==============================] - 5s 1ms/step - loss: 0.4741 - acc: 0.7842 - val_loss: 0.5079 - val_acc: 0.7431\n",
      "Epoch 52/150\n",
      "3888/3888 [==============================] - 5s 1ms/step - loss: 0.4722 - acc: 0.7814 - val_loss: 0.5116 - val_acc: 0.7338\n",
      "Epoch 53/150\n",
      "3888/3888 [==============================] - 5s 1ms/step - loss: 0.4669 - acc: 0.7829 - val_loss: 0.4959 - val_acc: 0.7338\n",
      "Epoch 54/150\n",
      "3888/3888 [==============================] - 5s 1ms/step - loss: 0.4651 - acc: 0.7845 - val_loss: 0.4946 - val_acc: 0.7407\n",
      "Epoch 55/150\n",
      "3888/3888 [==============================] - 5s 1ms/step - loss: 0.4600 - acc: 0.7886 - val_loss: 0.4987 - val_acc: 0.7384\n",
      "Epoch 56/150\n",
      "3888/3888 [==============================] - 5s 1ms/step - loss: 0.4593 - acc: 0.7860 - val_loss: 0.4954 - val_acc: 0.7431\n",
      "Epoch 57/150\n",
      "3888/3888 [==============================] - 5s 1ms/step - loss: 0.4535 - acc: 0.7942 - val_loss: 0.4855 - val_acc: 0.7616\n",
      "Epoch 58/150\n",
      "3888/3888 [==============================] - 5s 1ms/step - loss: 0.4527 - acc: 0.7924 - val_loss: 0.4830 - val_acc: 0.7593\n",
      "Epoch 59/150\n",
      "3888/3888 [==============================] - 5s 1ms/step - loss: 0.4487 - acc: 0.7955 - val_loss: 0.4915 - val_acc: 0.7500\n",
      "Epoch 60/150\n",
      "3888/3888 [==============================] - 5s 1ms/step - loss: 0.4485 - acc: 0.7948 - val_loss: 0.4917 - val_acc: 0.7500\n"
     ]
    },
    {
     "name": "stdout",
     "output_type": "stream",
     "text": [
      "Epoch 61/150\n",
      "3888/3888 [==============================] - 5s 1ms/step - loss: 0.4471 - acc: 0.7945 - val_loss: 0.4868 - val_acc: 0.7616\n",
      "Epoch 62/150\n",
      "3888/3888 [==============================] - 5s 1ms/step - loss: 0.4438 - acc: 0.7973 - val_loss: 0.5109 - val_acc: 0.7431\n",
      "Epoch 63/150\n",
      "3888/3888 [==============================] - 5s 1ms/step - loss: 0.4474 - acc: 0.7960 - val_loss: 0.4894 - val_acc: 0.7639\n",
      "Epoch 64/150\n",
      "3888/3888 [==============================] - 5s 1ms/step - loss: 0.4434 - acc: 0.7986 - val_loss: 0.4959 - val_acc: 0.7593\n",
      "Epoch 65/150\n",
      "3888/3888 [==============================] - 5s 1ms/step - loss: 0.4369 - acc: 0.8092 - val_loss: 0.4988 - val_acc: 0.7546\n",
      "Epoch 66/150\n",
      "3888/3888 [==============================] - 5s 1ms/step - loss: 0.4340 - acc: 0.8115 - val_loss: 0.4904 - val_acc: 0.7593\n",
      "Epoch 67/150\n",
      "3888/3888 [==============================] - 5s 1ms/step - loss: 0.4317 - acc: 0.8130 - val_loss: 0.5002 - val_acc: 0.7454\n",
      "Epoch 68/150\n",
      "3888/3888 [==============================] - 5s 1ms/step - loss: 0.4295 - acc: 0.8148 - val_loss: 0.4970 - val_acc: 0.7662\n",
      "Epoch 69/150\n",
      "3888/3888 [==============================] - 5s 1ms/step - loss: 0.4266 - acc: 0.8148 - val_loss: 0.4903 - val_acc: 0.7523\n",
      "Epoch 70/150\n",
      "3888/3888 [==============================] - 5s 1ms/step - loss: 0.4366 - acc: 0.8086 - val_loss: 0.4911 - val_acc: 0.7639\n",
      "Epoch 71/150\n",
      "3888/3888 [==============================] - 5s 1ms/step - loss: 0.4208 - acc: 0.8156 - val_loss: 0.5050 - val_acc: 0.7593\n",
      "Epoch 72/150\n",
      "3888/3888 [==============================] - 5s 1ms/step - loss: 0.4192 - acc: 0.8187 - val_loss: 0.5117 - val_acc: 0.7569\n",
      "Epoch 73/150\n",
      "3888/3888 [==============================] - 5s 1ms/step - loss: 0.4318 - acc: 0.8115 - val_loss: 0.5072 - val_acc: 0.7477\n",
      "Epoch 74/150\n",
      "3888/3888 [==============================] - 5s 1ms/step - loss: 0.4266 - acc: 0.8148 - val_loss: 0.4961 - val_acc: 0.7454\n",
      "Epoch 75/150\n",
      "3888/3888 [==============================] - 5s 1ms/step - loss: 0.4113 - acc: 0.8207 - val_loss: 0.4760 - val_acc: 0.7500\n",
      "Epoch 76/150\n",
      "3888/3888 [==============================] - 5s 1ms/step - loss: 0.4121 - acc: 0.8212 - val_loss: 0.4896 - val_acc: 0.7755\n",
      "Epoch 77/150\n",
      "3888/3888 [==============================] - 5s 1ms/step - loss: 0.4081 - acc: 0.8194 - val_loss: 0.4818 - val_acc: 0.7569\n",
      "Epoch 78/150\n",
      "3888/3888 [==============================] - 5s 1ms/step - loss: 0.4062 - acc: 0.8228 - val_loss: 0.4742 - val_acc: 0.7708\n",
      "Epoch 79/150\n",
      "3888/3888 [==============================] - 5s 1ms/step - loss: 0.4050 - acc: 0.8225 - val_loss: 0.4757 - val_acc: 0.7708\n",
      "Epoch 80/150\n",
      "3888/3888 [==============================] - 5s 1ms/step - loss: 0.4082 - acc: 0.8210 - val_loss: 0.4791 - val_acc: 0.7778\n",
      "Epoch 81/150\n",
      "3888/3888 [==============================] - 5s 1ms/step - loss: 0.4006 - acc: 0.8269 - val_loss: 0.4636 - val_acc: 0.7847\n",
      "Epoch 82/150\n",
      "3888/3888 [==============================] - 5s 1ms/step - loss: 0.3981 - acc: 0.8254 - val_loss: 0.4913 - val_acc: 0.7569\n",
      "Epoch 83/150\n",
      "3888/3888 [==============================] - 5s 1ms/step - loss: 0.4001 - acc: 0.8230 - val_loss: 0.4586 - val_acc: 0.7847\n",
      "Epoch 84/150\n",
      "3888/3888 [==============================] - 5s 1ms/step - loss: 0.3949 - acc: 0.8279 - val_loss: 0.4672 - val_acc: 0.7662\n",
      "Epoch 85/150\n",
      "3888/3888 [==============================] - 5s 1ms/step - loss: 0.3921 - acc: 0.8300 - val_loss: 0.4633 - val_acc: 0.7801\n",
      "Epoch 86/150\n",
      "3888/3888 [==============================] - 5s 1ms/step - loss: 0.3899 - acc: 0.8292 - val_loss: 0.4725 - val_acc: 0.7755\n",
      "Epoch 87/150\n",
      "3888/3888 [==============================] - 5s 1ms/step - loss: 0.3885 - acc: 0.8315 - val_loss: 0.4697 - val_acc: 0.7639\n",
      "Epoch 88/150\n",
      "3888/3888 [==============================] - 5s 1ms/step - loss: 0.3879 - acc: 0.8305 - val_loss: 0.4648 - val_acc: 0.7801\n",
      "Epoch 89/150\n",
      "3888/3888 [==============================] - 5s 1ms/step - loss: 0.3858 - acc: 0.8346 - val_loss: 0.4554 - val_acc: 0.7847\n",
      "Epoch 90/150\n",
      "3888/3888 [==============================] - 5s 1ms/step - loss: 0.3863 - acc: 0.8313 - val_loss: 0.4521 - val_acc: 0.7870\n",
      "Epoch 91/150\n",
      "3888/3888 [==============================] - 5s 1ms/step - loss: 0.3862 - acc: 0.8302 - val_loss: 0.4780 - val_acc: 0.7894\n",
      "Epoch 92/150\n",
      "3888/3888 [==============================] - 5s 1ms/step - loss: 0.3946 - acc: 0.8266 - val_loss: 0.4823 - val_acc: 0.7755\n",
      "Epoch 93/150\n",
      "3888/3888 [==============================] - 5s 1ms/step - loss: 0.3831 - acc: 0.8341 - val_loss: 0.4558 - val_acc: 0.7917\n",
      "Epoch 94/150\n",
      "3888/3888 [==============================] - 5s 1ms/step - loss: 0.3771 - acc: 0.8392 - val_loss: 0.4560 - val_acc: 0.7870\n",
      "Epoch 95/150\n",
      "3888/3888 [==============================] - 5s 1ms/step - loss: 0.3815 - acc: 0.8341 - val_loss: 0.4430 - val_acc: 0.7986\n",
      "Epoch 96/150\n",
      "3888/3888 [==============================] - 5s 1ms/step - loss: 0.3744 - acc: 0.8390 - val_loss: 0.4440 - val_acc: 0.8009\n",
      "Epoch 97/150\n",
      "3888/3888 [==============================] - 5s 1ms/step - loss: 0.3738 - acc: 0.8403 - val_loss: 0.4711 - val_acc: 0.7870\n",
      "Epoch 98/150\n",
      "3888/3888 [==============================] - 5s 1ms/step - loss: 0.3731 - acc: 0.8413 - val_loss: 0.4611 - val_acc: 0.7731\n",
      "Epoch 99/150\n",
      "3888/3888 [==============================] - 5s 1ms/step - loss: 0.3753 - acc: 0.8413 - val_loss: 0.4622 - val_acc: 0.7824\n",
      "Epoch 100/150\n",
      "3888/3888 [==============================] - 5s 1ms/step - loss: 0.3831 - acc: 0.8336 - val_loss: 0.4631 - val_acc: 0.7870\n",
      "Epoch 101/150\n",
      "3888/3888 [==============================] - 5s 1ms/step - loss: 0.3775 - acc: 0.8362 - val_loss: 0.4551 - val_acc: 0.7894\n",
      "Epoch 102/150\n",
      "3888/3888 [==============================] - 5s 1ms/step - loss: 0.3647 - acc: 0.8439 - val_loss: 0.4658 - val_acc: 0.7847\n",
      "Epoch 103/150\n",
      "3888/3888 [==============================] - 5s 1ms/step - loss: 0.3621 - acc: 0.8480 - val_loss: 0.4375 - val_acc: 0.8032\n",
      "Epoch 104/150\n",
      "3888/3888 [==============================] - 5s 1ms/step - loss: 0.3617 - acc: 0.8441 - val_loss: 0.4572 - val_acc: 0.8032\n",
      "Epoch 105/150\n",
      "3888/3888 [==============================] - 5s 1ms/step - loss: 0.3619 - acc: 0.8434 - val_loss: 0.4366 - val_acc: 0.8079\n",
      "Epoch 106/150\n",
      "3888/3888 [==============================] - 5s 1ms/step - loss: 0.3612 - acc: 0.8447 - val_loss: 0.4474 - val_acc: 0.7940\n",
      "Epoch 107/150\n",
      "3888/3888 [==============================] - 5s 1ms/step - loss: 0.3549 - acc: 0.8483 - val_loss: 0.4563 - val_acc: 0.7801\n",
      "Epoch 108/150\n",
      "3888/3888 [==============================] - 5s 1ms/step - loss: 0.3547 - acc: 0.8495 - val_loss: 0.4285 - val_acc: 0.8079\n",
      "Epoch 109/150\n",
      "3888/3888 [==============================] - 5s 1ms/step - loss: 0.3554 - acc: 0.8490 - val_loss: 0.4668 - val_acc: 0.7870\n",
      "Epoch 110/150\n",
      "3888/3888 [==============================] - 5s 1ms/step - loss: 0.3561 - acc: 0.8465 - val_loss: 0.4667 - val_acc: 0.7870\n",
      "Epoch 111/150\n",
      "3888/3888 [==============================] - 5s 1ms/step - loss: 0.3559 - acc: 0.8511 - val_loss: 0.4434 - val_acc: 0.7894\n",
      "Epoch 112/150\n",
      "3888/3888 [==============================] - 5s 1ms/step - loss: 0.3518 - acc: 0.8511 - val_loss: 0.4639 - val_acc: 0.7940\n",
      "Epoch 113/150\n",
      "3888/3888 [==============================] - 5s 1ms/step - loss: 0.3560 - acc: 0.8488 - val_loss: 0.4307 - val_acc: 0.7940\n",
      "Epoch 114/150\n",
      "3888/3888 [==============================] - 5s 1ms/step - loss: 0.3493 - acc: 0.8526 - val_loss: 0.4448 - val_acc: 0.7917\n",
      "Epoch 115/150\n",
      "3888/3888 [==============================] - 5s 1ms/step - loss: 0.3509 - acc: 0.8493 - val_loss: 0.4486 - val_acc: 0.7894\n",
      "Epoch 116/150\n",
      "3888/3888 [==============================] - 5s 1ms/step - loss: 0.3496 - acc: 0.8531 - val_loss: 0.4681 - val_acc: 0.7963\n",
      "Epoch 117/150\n",
      "3888/3888 [==============================] - 5s 1ms/step - loss: 0.3528 - acc: 0.8503 - val_loss: 0.4498 - val_acc: 0.7986\n",
      "Epoch 118/150\n",
      "3888/3888 [==============================] - 5s 1ms/step - loss: 0.3498 - acc: 0.8506 - val_loss: 0.4412 - val_acc: 0.8032\n",
      "Epoch 119/150\n",
      "3888/3888 [==============================] - 5s 1ms/step - loss: 0.3538 - acc: 0.8493 - val_loss: 0.4446 - val_acc: 0.8032\n",
      "Epoch 120/150\n",
      "3888/3888 [==============================] - 5s 1ms/step - loss: 0.3438 - acc: 0.8526 - val_loss: 0.4431 - val_acc: 0.7894\n",
      "Epoch 121/150\n"
     ]
    },
    {
     "name": "stdout",
     "output_type": "stream",
     "text": [
      "3888/3888 [==============================] - 5s 1ms/step - loss: 0.3475 - acc: 0.8557 - val_loss: 0.4167 - val_acc: 0.8194\n",
      "Epoch 122/150\n",
      "3888/3888 [==============================] - 5s 1ms/step - loss: 0.3383 - acc: 0.8560 - val_loss: 0.4204 - val_acc: 0.8079\n",
      "Epoch 123/150\n",
      "3888/3888 [==============================] - 5s 1ms/step - loss: 0.3415 - acc: 0.8552 - val_loss: 0.4386 - val_acc: 0.8125\n",
      "Epoch 124/150\n",
      "3888/3888 [==============================] - 5s 1ms/step - loss: 0.3361 - acc: 0.8565 - val_loss: 0.4396 - val_acc: 0.7963\n",
      "Epoch 125/150\n",
      "3888/3888 [==============================] - 5s 1ms/step - loss: 0.3376 - acc: 0.8578 - val_loss: 0.4307 - val_acc: 0.8032\n",
      "Epoch 126/150\n",
      "3888/3888 [==============================] - 5s 1ms/step - loss: 0.3387 - acc: 0.8567 - val_loss: 0.4428 - val_acc: 0.7917\n",
      "Epoch 127/150\n",
      "3888/3888 [==============================] - 5s 1ms/step - loss: 0.3315 - acc: 0.8616 - val_loss: 0.4361 - val_acc: 0.7917\n",
      "Epoch 128/150\n",
      "3888/3888 [==============================] - 5s 1ms/step - loss: 0.3338 - acc: 0.8611 - val_loss: 0.4276 - val_acc: 0.8056\n",
      "Epoch 129/150\n",
      "3888/3888 [==============================] - 5s 1ms/step - loss: 0.3304 - acc: 0.8585 - val_loss: 0.4766 - val_acc: 0.7778\n",
      "Epoch 130/150\n",
      "3888/3888 [==============================] - 5s 1ms/step - loss: 0.3310 - acc: 0.8580 - val_loss: 0.4379 - val_acc: 0.7963\n",
      "Epoch 131/150\n",
      "3888/3888 [==============================] - 5s 1ms/step - loss: 0.3264 - acc: 0.8663 - val_loss: 0.4417 - val_acc: 0.7963\n",
      "Epoch 132/150\n",
      "3888/3888 [==============================] - 5s 1ms/step - loss: 0.3275 - acc: 0.8624 - val_loss: 0.4471 - val_acc: 0.7963\n",
      "Epoch 133/150\n",
      "3888/3888 [==============================] - 5s 1ms/step - loss: 0.3271 - acc: 0.8621 - val_loss: 0.4673 - val_acc: 0.7778\n",
      "Epoch 134/150\n",
      "3888/3888 [==============================] - 5s 1ms/step - loss: 0.3322 - acc: 0.8583 - val_loss: 0.4341 - val_acc: 0.7963\n",
      "Epoch 135/150\n",
      "3888/3888 [==============================] - 5s 1ms/step - loss: 0.3317 - acc: 0.8575 - val_loss: 0.4272 - val_acc: 0.8009\n",
      "Epoch 136/150\n",
      "3888/3888 [==============================] - 5s 1ms/step - loss: 0.3265 - acc: 0.8591 - val_loss: 0.4421 - val_acc: 0.7963\n",
      "Epoch 137/150\n",
      "3888/3888 [==============================] - 5s 1ms/step - loss: 0.3227 - acc: 0.8673 - val_loss: 0.4400 - val_acc: 0.8009\n",
      "Epoch 138/150\n",
      "3888/3888 [==============================] - 5s 1ms/step - loss: 0.3206 - acc: 0.8665 - val_loss: 0.4304 - val_acc: 0.8102\n",
      "Epoch 139/150\n",
      "3888/3888 [==============================] - 5s 1ms/step - loss: 0.3179 - acc: 0.8693 - val_loss: 0.4344 - val_acc: 0.8102\n",
      "Epoch 140/150\n",
      "3888/3888 [==============================] - 5s 1ms/step - loss: 0.3226 - acc: 0.8629 - val_loss: 0.4142 - val_acc: 0.8125\n",
      "Epoch 141/150\n",
      "3888/3888 [==============================] - 5s 1ms/step - loss: 0.3169 - acc: 0.8675 - val_loss: 0.4407 - val_acc: 0.7917\n",
      "Epoch 142/150\n",
      "3888/3888 [==============================] - 5s 1ms/step - loss: 0.3180 - acc: 0.8704 - val_loss: 0.4701 - val_acc: 0.7755\n",
      "Epoch 143/150\n",
      "3888/3888 [==============================] - 5s 1ms/step - loss: 0.3169 - acc: 0.8686 - val_loss: 0.4269 - val_acc: 0.8009\n",
      "Epoch 144/150\n",
      "3888/3888 [==============================] - 5s 1ms/step - loss: 0.3133 - acc: 0.8706 - val_loss: 0.4160 - val_acc: 0.8148\n",
      "Epoch 145/150\n",
      "3888/3888 [==============================] - 5s 1ms/step - loss: 0.3107 - acc: 0.8732 - val_loss: 0.4319 - val_acc: 0.7940\n",
      "Epoch 146/150\n",
      "3888/3888 [==============================] - 5s 1ms/step - loss: 0.3133 - acc: 0.8675 - val_loss: 0.4439 - val_acc: 0.7917\n",
      "Epoch 147/150\n",
      "3888/3888 [==============================] - 5s 1ms/step - loss: 0.3128 - acc: 0.8706 - val_loss: 0.4430 - val_acc: 0.7917\n",
      "Epoch 148/150\n",
      "3888/3888 [==============================] - 5s 1ms/step - loss: 0.3153 - acc: 0.8688 - val_loss: 0.4281 - val_acc: 0.7963\n",
      "Epoch 149/150\n",
      "3888/3888 [==============================] - 5s 1ms/step - loss: 0.3080 - acc: 0.8727 - val_loss: 0.4076 - val_acc: 0.8194\n",
      "Epoch 150/150\n",
      "3888/3888 [==============================] - 5s 1ms/step - loss: 0.3146 - acc: 0.8696 - val_loss: 0.4530 - val_acc: 0.8009\n"
     ]
    }
   ],
   "source": [
    "model = Sequential()\n",
    "#model.add(CuDNNLSTM(8, input_shape=(1000, 8), return_sequences=True))\n",
    "model.add(Bidirectional(CuDNNLSTM(8), input_shape=(1000, 8)))\n",
    "#model.add(CuDNNLSTM(8, return_sequences=True))\n",
    "#model.add(CuDNNLSTM(4, return_sequences=True))\n",
    "#model.add(CuDNNLSTM(4))\n",
    "model.add(Dense(1, activation='sigmoid'))\n",
    "model.compile(optimizer='rmsprop', loss='binary_crossentropy', metrics=['acc'])\n",
    "history = model.fit(X_train_rnn, y_train, epochs=150, batch_size=128, validation_split=0.1)"
   ]
  },
  {
   "cell_type": "markdown",
   "metadata": {},
   "source": [
    "**Result**:\n",
    "\n",
    "The following cell **visualize** the training/validation accuracies and losses over each epoch."
   ]
  },
  {
   "cell_type": "code",
   "execution_count": 10,
   "metadata": {},
   "outputs": [
    {
     "data": {
      "image/png": "[encoded data removed]",
      "text/plain": [
       "<Figure size 432x288 with 1 Axes>"
      ]
     },
     "metadata": {},
     "output_type": "display_data"
    },
    {
     "data": {
      "image/png": "[encoded data removed]",
      "text/plain": [
       "<Figure size 432x288 with 1 Axes>"
      ]
     },
     "metadata": {},
     "output_type": "display_data"
    }
   ],
   "source": [
    "acc = history.history['acc']\n",
    "val_acc = history.history['val_acc']\n",
    "loss = history.history['loss']\n",
    "val_loss = history.history['val_loss']\n",
    "\n",
    "epochs = range(1, len(acc) + 1)\n",
    "\n",
    "plt.plot(epochs, acc, 'bo', label='Training Accuracy')\n",
    "plt.plot(epochs, val_acc, 'b', label='Validation Accuracy')\n",
    "plt.title('Training and Validation Accuracy')\n",
    "plt.xlabel('epoches')\n",
    "plt.legend()\n",
    "\n",
    "plt.figure()\n",
    "\n",
    "plt.plot(epochs, loss, 'bo', label='Training Loss')\n",
    "plt.plot(epochs, val_loss, 'b', label='Validation Loss')\n",
    "plt.title('Training and Validation Loss')\n",
    "plt.xlabel('epoches')\n",
    "plt.legend()\n",
    "\n",
    "plt.show()"
   ]
  },
  {
   "cell_type": "code",
   "execution_count": 11,
   "metadata": {},
   "outputs": [
    {
     "name": "stdout",
     "output_type": "stream",
     "text": [
      "Save model to models/adam_2019_01_29.json\n"
     ]
    }
   ],
   "source": [
    "import utility\n",
    "utility.save_model(model, 'models/adam_2019_01_29.json', 'models/adam_2019_01_29_weights.h5')\n"
   ]
  },
  {
   "cell_type": "markdown",
   "metadata": {},
   "source": [
    "- The validation trend now follows closely to the training trend.\n",
    "\n",
    "**Conclusion**:\n",
    "\n",
    "- The result of the experiment demonstrates a marked improvement over previous experiments and suggests that the combination of shuffling the data and using a bidirectional neural network improves accuracy.\n",
    "- To summarize, for any sequence, its most resemblance sequences are its 23 ‘siblings’. If we don’t shuffle the data, either all 24 ‘siblings’ are in the training data, or all of them are in the validation data. By shuffling them, the 24 ‘siblings’ are randomly distributed into both training and validation data, allowing us to extract more information."
   ]
  },
  {
   "cell_type": "code",
   "execution_count": null,
   "metadata": {},
   "outputs": [],
   "source": []
  }
 ],
 "metadata": {
  "kernelspec": {
   "display_name": "Python 3",
   "language": "python",
   "name": "python3"
  },
  "language_info": {
   "codemirror_mode": {
    "name": "ipython",
    "version": 3
   },
   "file_extension": ".py",
   "mimetype": "text/x-python",
   "name": "python",
   "nbconvert_exporter": "python",
   "pygments_lexer": "ipython3",
   "version": "3.7.1"
  }
 },
 "nbformat": 4,
 "nbformat_minor": 2
}
