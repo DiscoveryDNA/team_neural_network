{
 "cells": [
  {
   "cell_type": "markdown",
   "metadata": {},
   "source": [
    "**Date**: 2019-03-04\n",
    "\n",
    "**Authors**: Adam Stafford\n",
    "\n",
    "**Purpose**: To test whether the 4 new TFBS increase accuracy.\n",
    "\n",
    "This notebook is like the one from 2019-01-29, except it adds the new data. \n",
    "\n",
    "**Background**:\n",
    "\n",
    "With 4 TFBS we were getting over 80% accuracy. We wold like to see if we can get higher with 8 TFBS\n",
    "\n",
    "**Experiment**:"
   ]
  },
  {
   "cell_type": "code",
   "execution_count": 1,
   "metadata": {},
   "outputs": [
    {
     "name": "stderr",
     "output_type": "stream",
     "text": [
      "/home/ubuntu/anaconda3/envs/tensorflow_p36/lib/python3.6/site-packages/matplotlib/__init__.py:1067: UserWarning: Duplicate key in file \"/home/ubuntu/.config/matplotlib/matplotlibrc\", line #2\n",
      "  (fname, cnt))\n",
      "/home/ubuntu/anaconda3/envs/tensorflow_p36/lib/python3.6/site-packages/matplotlib/__init__.py:1067: UserWarning: Duplicate key in file \"/home/ubuntu/.config/matplotlib/matplotlibrc\", line #3\n",
      "  (fname, cnt))\n"
     ]
    }
   ],
   "source": [
    "import pickle\n",
    "import numpy as np\n",
    "import matplotlib.pyplot as plt"
   ]
  },
  {
   "cell_type": "markdown",
   "metadata": {},
   "source": [
    "Load the `pickle` buffered list:"
   ]
  },
  {
   "cell_type": "code",
   "execution_count": null,
   "metadata": {},
   "outputs": [],
   "source": [
    "with open(\"../../data/larger_dataset/larger_dataset_buffer.txt\", \"rb\") as buff:\n",
    "    seq_record_list = pickle.load(buff)"
   ]
  },
  {
   "cell_type": "markdown",
   "metadata": {},
   "source": [
    "The following cell retains only 4800 sequences, for the purpose of testing speed. It also randomly shuffles the 4800 sequences."
   ]
  },
  {
   "cell_type": "code",
   "execution_count": 3,
   "metadata": {},
   "outputs": [],
   "source": [
    "seq_record_list = seq_record_list[:4800]\n",
    "from random import shuffle\n",
    "shuffle(seq_record_list)"
   ]
  },
  {
   "cell_type": "markdown",
   "metadata": {},
   "source": [
    "The following cell transforms the data into a format that is recognizable by the neural network model."
   ]
  },
  {
   "cell_type": "code",
   "execution_count": 4,
   "metadata": {},
   "outputs": [],
   "source": [
    "# A helper function to flatten a 2d list to 1d.\n",
    "# Input: [[1, 2], [2, 3], [3, 4, 5]]\n",
    "# Output: [1, 2, 2, 3, 3, 4, 5]\n",
    "def flatten(lst):\n",
    "    new_lst = []\n",
    "    for sub_lst in lst:\n",
    "        for item in sub_lst:\n",
    "            new_lst.append(item)\n",
    "    return new_lst\n",
    "\n",
    "# A helper function to transform a lst so that its length becomes read_len by:\n",
    "# 1. If len(lst) > read_len, curtail the end of the lst.\n",
    "# 2. If len(lst) < read_len, keep extending the end of the lst with 0 (NA).\n",
    "def curtail(lst, read_len):\n",
    "    if len(lst) > read_len:\n",
    "        lst = lst[:read_len]\n",
    "    else:\n",
    "        for i in range(read_len - len(lst)):\n",
    "            lst.append([0, 0, 0, 0, 0, 0, 0, 0, 0, 0, 0, 0])\n",
    "    return lst\n",
    "\n",
    "# Produce the train-test split\n",
    "# length_read: the length that you want all DNA sequences to conform to\n",
    "def prepare_input(training_size, test_size, length_read):\n",
    "    X_train = []\n",
    "    y_train = []\n",
    "    X_test = []\n",
    "    y_test = []\n",
    "    seq_count = 0\n",
    "    while seq_count < training_size:\n",
    "        X_train.append(flatten(curtail(seq_record_list[seq_count][3], length_read)))\n",
    "        y_train.append(int(seq_record_list[seq_count][1]))\n",
    "        seq_count += 1\n",
    "    while seq_count < (training_size + test_size):\n",
    "        X_test.append(flatten(curtail(seq_record_list[seq_count][3], length_read)))\n",
    "        y_test.append(int(seq_record_list[seq_count][1]))\n",
    "        seq_count += 1\n",
    "    return X_train, y_train, X_test, y_test\n",
    "\n",
    "# Turn list into numpy tensors that can directly feed into a neural network model\n",
    "def to_np_array(X_train, y_train, X_test, y_test):\n",
    "    X_train = np.array(X_train)\n",
    "    y_train = np.array(y_train)\n",
    "    if len(y_train.shape) == 1:\n",
    "        y_train = np.transpose(np.array([y_train]))\n",
    "    X_test = np.array(X_test)\n",
    "    y_test = np.transpose(np.array(y_test))\n",
    "    if len(y_test.shape) == 1:\n",
    "        y_test = np.transpose(np.array([y_test]))\n",
    "    return X_train, y_train, X_test, y_test"
   ]
  },
  {
   "cell_type": "code",
   "execution_count": 5,
   "metadata": {},
   "outputs": [
    {
     "data": {
      "text/plain": [
       "[(4320, 12000), (4320, 1), (480, 12000), (480, 1)]"
      ]
     },
     "execution_count": 5,
     "metadata": {},
     "output_type": "execute_result"
    }
   ],
   "source": [
    "X_train, y_train, X_test, y_test = prepare_input(4320, 480, 1000)\n",
    "X_train, y_train, X_test, y_test = to_np_array(X_train, y_train, X_test, y_test)\n",
    "[X_train.shape, y_train.shape, X_test.shape, y_test.shape]"
   ]
  },
  {
   "cell_type": "markdown",
   "metadata": {},
   "source": [
    "The following cells build a recurrent network with one bidirectional LSTM layer."
   ]
  },
  {
   "cell_type": "code",
   "execution_count": 6,
   "metadata": {},
   "outputs": [
    {
     "name": "stderr",
     "output_type": "stream",
     "text": [
      "/home/ubuntu/anaconda3/envs/tensorflow_p36/lib/python3.6/site-packages/h5py/__init__.py:36: FutureWarning: Conversion of the second argument of issubdtype from `float` to `np.floating` is deprecated. In future, it will be treated as `np.float64 == np.dtype(float).type`.\n",
      "  from ._conv import register_converters as _register_converters\n",
      "Using TensorFlow backend.\n"
     ]
    }
   ],
   "source": [
    "from keras.models import Model, Sequential\n",
    "from keras.layers import Dense, CuDNNLSTM, Bidirectional"
   ]
  },
  {
   "cell_type": "code",
   "execution_count": 7,
   "metadata": {},
   "outputs": [],
   "source": [
    "X_train_rnn = X_train.reshape(4320, 1000, 12)"
   ]
  },
  {
   "cell_type": "code",
   "execution_count": 18,
   "metadata": {
    "scrolled": true
   },
   "outputs": [
    {
     "name": "stdout",
     "output_type": "stream",
     "text": [
      "Train on 3888 samples, validate on 432 samples\n",
      "Epoch 1/150\n",
      "3888/3888 [==============================] - 6s 2ms/step - loss: 0.6854 - acc: 0.5599 - val_loss: 0.6826 - val_acc: 0.5486\n",
      "Epoch 2/150\n",
      "3888/3888 [==============================] - 5s 1ms/step - loss: 0.6631 - acc: 0.6067 - val_loss: 0.6708 - val_acc: 0.5949\n",
      "Epoch 3/150\n",
      "3888/3888 [==============================] - 5s 1ms/step - loss: 0.6516 - acc: 0.6337 - val_loss: 0.6655 - val_acc: 0.5856\n",
      "Epoch 4/150\n",
      "3888/3888 [==============================] - 5s 1ms/step - loss: 0.6414 - acc: 0.6463 - val_loss: 0.6560 - val_acc: 0.6088\n",
      "Epoch 5/150\n",
      "3888/3888 [==============================] - 5s 1ms/step - loss: 0.6318 - acc: 0.6633 - val_loss: 0.6455 - val_acc: 0.6343\n",
      "Epoch 6/150\n",
      "3888/3888 [==============================] - 5s 1ms/step - loss: 0.6216 - acc: 0.6754 - val_loss: 0.6401 - val_acc: 0.6227\n",
      "Epoch 7/150\n",
      "3888/3888 [==============================] - 5s 1ms/step - loss: 0.6115 - acc: 0.6896 - val_loss: 0.6273 - val_acc: 0.6690\n",
      "Epoch 8/150\n",
      "3888/3888 [==============================] - 5s 1ms/step - loss: 0.5997 - acc: 0.6973 - val_loss: 0.6161 - val_acc: 0.6644\n",
      "Epoch 9/150\n",
      "3888/3888 [==============================] - 5s 1ms/step - loss: 0.5877 - acc: 0.7096 - val_loss: 0.6063 - val_acc: 0.6597\n",
      "Epoch 10/150\n",
      "3888/3888 [==============================] - 5s 1ms/step - loss: 0.5790 - acc: 0.7171 - val_loss: 0.6248 - val_acc: 0.6366\n",
      "Epoch 11/150\n",
      "3888/3888 [==============================] - 5s 1ms/step - loss: 0.5691 - acc: 0.7220 - val_loss: 0.5856 - val_acc: 0.6898\n",
      "Epoch 12/150\n",
      "3888/3888 [==============================] - 5s 1ms/step - loss: 0.5584 - acc: 0.7256 - val_loss: 0.5948 - val_acc: 0.6806\n",
      "Epoch 13/150\n",
      "3888/3888 [==============================] - 5s 1ms/step - loss: 0.5487 - acc: 0.7356 - val_loss: 0.5726 - val_acc: 0.6968\n",
      "Epoch 14/150\n",
      "3888/3888 [==============================] - 5s 1ms/step - loss: 0.5381 - acc: 0.7407 - val_loss: 0.5637 - val_acc: 0.7315\n",
      "Epoch 15/150\n",
      "3888/3888 [==============================] - 5s 1ms/step - loss: 0.5281 - acc: 0.7446 - val_loss: 0.5840 - val_acc: 0.6736\n",
      "Epoch 16/150\n",
      "3888/3888 [==============================] - 5s 1ms/step - loss: 0.5163 - acc: 0.7585 - val_loss: 0.5798 - val_acc: 0.6829\n",
      "Epoch 17/150\n",
      "3888/3888 [==============================] - 5s 1ms/step - loss: 0.5096 - acc: 0.7562 - val_loss: 0.5589 - val_acc: 0.6991\n",
      "Epoch 18/150\n",
      "3888/3888 [==============================] - 5s 1ms/step - loss: 0.4994 - acc: 0.7626 - val_loss: 0.5166 - val_acc: 0.7431\n",
      "Epoch 19/150\n",
      "3888/3888 [==============================] - 5s 1ms/step - loss: 0.4915 - acc: 0.7695 - val_loss: 0.5246 - val_acc: 0.7454\n",
      "Epoch 20/150\n",
      "3888/3888 [==============================] - 5s 1ms/step - loss: 0.4819 - acc: 0.7783 - val_loss: 0.5095 - val_acc: 0.7523\n",
      "Epoch 21/150\n",
      "3888/3888 [==============================] - 5s 1ms/step - loss: 0.4721 - acc: 0.7842 - val_loss: 0.5040 - val_acc: 0.7731\n",
      "Epoch 22/150\n",
      "3888/3888 [==============================] - 5s 1ms/step - loss: 0.4651 - acc: 0.7883 - val_loss: 0.4879 - val_acc: 0.7685\n",
      "Epoch 23/150\n",
      "3888/3888 [==============================] - 5s 1ms/step - loss: 0.4532 - acc: 0.7912 - val_loss: 0.4929 - val_acc: 0.7616\n",
      "Epoch 24/150\n",
      "3888/3888 [==============================] - 5s 1ms/step - loss: 0.4438 - acc: 0.8035 - val_loss: 0.4661 - val_acc: 0.7894\n",
      "Epoch 25/150\n",
      "3888/3888 [==============================] - 5s 1ms/step - loss: 0.4373 - acc: 0.8050 - val_loss: 0.4726 - val_acc: 0.7870\n",
      "Epoch 26/150\n",
      "3888/3888 [==============================] - 5s 1ms/step - loss: 0.4274 - acc: 0.8094 - val_loss: 0.4580 - val_acc: 0.8056\n",
      "Epoch 27/150\n",
      "3888/3888 [==============================] - 5s 1ms/step - loss: 0.4232 - acc: 0.8128 - val_loss: 0.4502 - val_acc: 0.7940\n",
      "Epoch 28/150\n",
      "3888/3888 [==============================] - 5s 1ms/step - loss: 0.4133 - acc: 0.8156 - val_loss: 0.4466 - val_acc: 0.8056\n",
      "Epoch 29/150\n",
      "3888/3888 [==============================] - 5s 1ms/step - loss: 0.4092 - acc: 0.8225 - val_loss: 0.4540 - val_acc: 0.7755\n",
      "Epoch 30/150\n",
      "3888/3888 [==============================] - 5s 1ms/step - loss: 0.4010 - acc: 0.8328 - val_loss: 0.4237 - val_acc: 0.8218\n",
      "Epoch 31/150\n",
      "3888/3888 [==============================] - 5s 1ms/step - loss: 0.3939 - acc: 0.8333 - val_loss: 0.4281 - val_acc: 0.8102\n",
      "Epoch 32/150\n",
      "3888/3888 [==============================] - 5s 1ms/step - loss: 0.3909 - acc: 0.8336 - val_loss: 0.4298 - val_acc: 0.8009\n",
      "Epoch 33/150\n",
      "3888/3888 [==============================] - 5s 1ms/step - loss: 0.3826 - acc: 0.8372 - val_loss: 0.4145 - val_acc: 0.8171\n",
      "Epoch 34/150\n",
      "3888/3888 [==============================] - 5s 1ms/step - loss: 0.3758 - acc: 0.8426 - val_loss: 0.4113 - val_acc: 0.8125\n",
      "Epoch 35/150\n",
      "3888/3888 [==============================] - 5s 1ms/step - loss: 0.3716 - acc: 0.8467 - val_loss: 0.4063 - val_acc: 0.8125\n",
      "Epoch 36/150\n",
      "3888/3888 [==============================] - 5s 1ms/step - loss: 0.3648 - acc: 0.8470 - val_loss: 0.3952 - val_acc: 0.8287\n",
      "Epoch 37/150\n",
      "3888/3888 [==============================] - 5s 1ms/step - loss: 0.3599 - acc: 0.8552 - val_loss: 0.3802 - val_acc: 0.8426\n",
      "Epoch 38/150\n",
      "3888/3888 [==============================] - 5s 1ms/step - loss: 0.3503 - acc: 0.8526 - val_loss: 0.3731 - val_acc: 0.8519\n",
      "Epoch 39/150\n",
      "3888/3888 [==============================] - 5s 1ms/step - loss: 0.3459 - acc: 0.8573 - val_loss: 0.4211 - val_acc: 0.8032\n",
      "Epoch 40/150\n",
      "3888/3888 [==============================] - 5s 1ms/step - loss: 0.3368 - acc: 0.8647 - val_loss: 0.3542 - val_acc: 0.8565\n",
      "Epoch 41/150\n",
      "3888/3888 [==============================] - 5s 1ms/step - loss: 0.3373 - acc: 0.8603 - val_loss: 0.3572 - val_acc: 0.8542\n",
      "Epoch 42/150\n",
      "3888/3888 [==============================] - 5s 1ms/step - loss: 0.3326 - acc: 0.8606 - val_loss: 0.3607 - val_acc: 0.8495\n",
      "Epoch 43/150\n",
      "3888/3888 [==============================] - 5s 1ms/step - loss: 0.3254 - acc: 0.8663 - val_loss: 0.3850 - val_acc: 0.8449\n",
      "Epoch 44/150\n",
      "3888/3888 [==============================] - 5s 1ms/step - loss: 0.3243 - acc: 0.8668 - val_loss: 0.3386 - val_acc: 0.8611\n",
      "Epoch 45/150\n",
      "3888/3888 [==============================] - 5s 1ms/step - loss: 0.3131 - acc: 0.8771 - val_loss: 0.3590 - val_acc: 0.8519\n",
      "Epoch 46/150\n",
      "3888/3888 [==============================] - 5s 1ms/step - loss: 0.3110 - acc: 0.8753 - val_loss: 0.3382 - val_acc: 0.8681\n",
      "Epoch 47/150\n",
      "3888/3888 [==============================] - 5s 1ms/step - loss: 0.3110 - acc: 0.8729 - val_loss: 0.3446 - val_acc: 0.8657\n",
      "Epoch 48/150\n",
      "3888/3888 [==============================] - 5s 1ms/step - loss: 0.3057 - acc: 0.8771 - val_loss: 0.3284 - val_acc: 0.8773\n",
      "Epoch 49/150\n",
      "3888/3888 [==============================] - 5s 1ms/step - loss: 0.3013 - acc: 0.8755 - val_loss: 0.3568 - val_acc: 0.8519\n",
      "Epoch 50/150\n",
      "3888/3888 [==============================] - 5s 1ms/step - loss: 0.3009 - acc: 0.8799 - val_loss: 0.3252 - val_acc: 0.8843\n",
      "Epoch 51/150\n",
      "3888/3888 [==============================] - 5s 1ms/step - loss: 0.2960 - acc: 0.8827 - val_loss: 0.3579 - val_acc: 0.8519\n",
      "Epoch 52/150\n",
      "3888/3888 [==============================] - 5s 1ms/step - loss: 0.2855 - acc: 0.8871 - val_loss: 0.3151 - val_acc: 0.8866\n",
      "Epoch 53/150\n",
      "3888/3888 [==============================] - 5s 1ms/step - loss: 0.2839 - acc: 0.8879 - val_loss: 0.3052 - val_acc: 0.8819\n",
      "Epoch 54/150\n",
      "3888/3888 [==============================] - 5s 1ms/step - loss: 0.2789 - acc: 0.8886 - val_loss: 0.3176 - val_acc: 0.8843\n",
      "Epoch 55/150\n",
      "3888/3888 [==============================] - 5s 1ms/step - loss: 0.2769 - acc: 0.8886 - val_loss: 0.2972 - val_acc: 0.8866\n",
      "Epoch 56/150\n",
      "3888/3888 [==============================] - 5s 1ms/step - loss: 0.2760 - acc: 0.8871 - val_loss: 0.2980 - val_acc: 0.8866\n",
      "Epoch 57/150\n",
      "3888/3888 [==============================] - 5s 1ms/step - loss: 0.2731 - acc: 0.8907 - val_loss: 0.2930 - val_acc: 0.8819\n",
      "Epoch 58/150\n",
      "3888/3888 [==============================] - 5s 1ms/step - loss: 0.2642 - acc: 0.8976 - val_loss: 0.3062 - val_acc: 0.8796\n",
      "Epoch 59/150\n",
      "3888/3888 [==============================] - 5s 1ms/step - loss: 0.2604 - acc: 0.9056 - val_loss: 0.2902 - val_acc: 0.8843\n",
      "Epoch 60/150\n",
      "3888/3888 [==============================] - 5s 1ms/step - loss: 0.2611 - acc: 0.8966 - val_loss: 0.3024 - val_acc: 0.8912\n"
     ]
    },
    {
     "name": "stdout",
     "output_type": "stream",
     "text": [
      "Epoch 61/150\n",
      "3888/3888 [==============================] - 5s 1ms/step - loss: 0.2546 - acc: 0.8971 - val_loss: 0.3034 - val_acc: 0.8866\n",
      "Epoch 62/150\n",
      "3888/3888 [==============================] - 5s 1ms/step - loss: 0.2491 - acc: 0.9051 - val_loss: 0.3028 - val_acc: 0.8819\n",
      "Epoch 63/150\n",
      "3888/3888 [==============================] - 5s 1ms/step - loss: 0.2488 - acc: 0.9030 - val_loss: 0.2861 - val_acc: 0.8981\n",
      "Epoch 64/150\n",
      "3888/3888 [==============================] - 5s 1ms/step - loss: 0.2451 - acc: 0.9035 - val_loss: 0.2865 - val_acc: 0.8866\n",
      "Epoch 65/150\n",
      "3888/3888 [==============================] - 5s 1ms/step - loss: 0.2362 - acc: 0.9102 - val_loss: 0.3854 - val_acc: 0.8426\n",
      "Epoch 66/150\n",
      "3888/3888 [==============================] - 5s 1ms/step - loss: 0.2454 - acc: 0.9017 - val_loss: 0.3148 - val_acc: 0.8657\n",
      "Epoch 67/150\n",
      "3888/3888 [==============================] - 5s 1ms/step - loss: 0.2352 - acc: 0.9100 - val_loss: 0.2911 - val_acc: 0.8866\n",
      "Epoch 68/150\n",
      "3888/3888 [==============================] - 5s 1ms/step - loss: 0.2332 - acc: 0.9053 - val_loss: 0.2722 - val_acc: 0.8866\n",
      "Epoch 69/150\n",
      "3888/3888 [==============================] - 5s 1ms/step - loss: 0.2341 - acc: 0.9064 - val_loss: 0.3065 - val_acc: 0.8796\n",
      "Epoch 70/150\n",
      "3888/3888 [==============================] - 5s 1ms/step - loss: 0.2320 - acc: 0.9097 - val_loss: 0.2791 - val_acc: 0.8843\n",
      "Epoch 71/150\n",
      "3888/3888 [==============================] - 5s 1ms/step - loss: 0.2230 - acc: 0.9144 - val_loss: 0.3457 - val_acc: 0.8634\n",
      "Epoch 72/150\n",
      "3888/3888 [==============================] - 5s 1ms/step - loss: 0.2244 - acc: 0.9118 - val_loss: 0.3333 - val_acc: 0.8634\n",
      "Epoch 73/150\n",
      "3888/3888 [==============================] - 5s 1ms/step - loss: 0.2233 - acc: 0.9118 - val_loss: 0.2625 - val_acc: 0.8935\n",
      "Epoch 74/150\n",
      "3888/3888 [==============================] - 5s 1ms/step - loss: 0.2216 - acc: 0.9146 - val_loss: 0.2785 - val_acc: 0.8912\n",
      "Epoch 75/150\n",
      "3888/3888 [==============================] - 5s 1ms/step - loss: 0.2115 - acc: 0.9210 - val_loss: 0.2645 - val_acc: 0.8958\n",
      "Epoch 76/150\n",
      "3888/3888 [==============================] - 5s 1ms/step - loss: 0.2124 - acc: 0.9172 - val_loss: 0.2799 - val_acc: 0.8935\n",
      "Epoch 77/150\n",
      "3888/3888 [==============================] - 5s 1ms/step - loss: 0.2103 - acc: 0.9198 - val_loss: 0.3117 - val_acc: 0.8727\n",
      "Epoch 78/150\n",
      "3888/3888 [==============================] - 5s 1ms/step - loss: 0.2109 - acc: 0.9174 - val_loss: 0.2639 - val_acc: 0.8958\n",
      "Epoch 79/150\n",
      "3888/3888 [==============================] - 5s 1ms/step - loss: 0.2082 - acc: 0.9221 - val_loss: 0.2920 - val_acc: 0.8819\n",
      "Epoch 80/150\n",
      "3888/3888 [==============================] - 5s 1ms/step - loss: 0.2022 - acc: 0.9221 - val_loss: 0.2688 - val_acc: 0.8958\n",
      "Epoch 81/150\n",
      "3888/3888 [==============================] - 5s 1ms/step - loss: 0.2019 - acc: 0.9280 - val_loss: 0.3044 - val_acc: 0.8750\n",
      "Epoch 82/150\n",
      "3888/3888 [==============================] - 5s 1ms/step - loss: 0.1970 - acc: 0.9254 - val_loss: 0.2631 - val_acc: 0.9028\n",
      "Epoch 83/150\n",
      "3888/3888 [==============================] - 5s 1ms/step - loss: 0.1954 - acc: 0.9252 - val_loss: 0.2554 - val_acc: 0.9005\n",
      "Epoch 84/150\n",
      "3888/3888 [==============================] - 5s 1ms/step - loss: 0.1880 - acc: 0.9280 - val_loss: 0.2626 - val_acc: 0.9005\n",
      "Epoch 85/150\n",
      "3888/3888 [==============================] - 5s 1ms/step - loss: 0.1950 - acc: 0.9249 - val_loss: 0.2564 - val_acc: 0.8981\n",
      "Epoch 86/150\n",
      "3888/3888 [==============================] - 5s 1ms/step - loss: 0.2009 - acc: 0.9210 - val_loss: 0.2661 - val_acc: 0.8981\n",
      "Epoch 87/150\n",
      "3888/3888 [==============================] - 5s 1ms/step - loss: 0.1859 - acc: 0.9280 - val_loss: 0.2912 - val_acc: 0.8889\n",
      "Epoch 88/150\n",
      "3888/3888 [==============================] - 5s 1ms/step - loss: 0.1837 - acc: 0.9342 - val_loss: 0.2638 - val_acc: 0.8958\n",
      "Epoch 89/150\n",
      "3888/3888 [==============================] - 5s 1ms/step - loss: 0.1810 - acc: 0.9324 - val_loss: 0.4257 - val_acc: 0.8241\n",
      "Epoch 90/150\n",
      "3888/3888 [==============================] - 5s 1ms/step - loss: 0.1810 - acc: 0.9308 - val_loss: 0.2385 - val_acc: 0.9051\n",
      "Epoch 91/150\n",
      "3888/3888 [==============================] - 5s 1ms/step - loss: 0.1788 - acc: 0.9331 - val_loss: 0.2576 - val_acc: 0.8935\n",
      "Epoch 92/150\n",
      "3888/3888 [==============================] - 5s 1ms/step - loss: 0.1745 - acc: 0.9339 - val_loss: 0.2540 - val_acc: 0.8981\n",
      "Epoch 93/150\n",
      "3888/3888 [==============================] - 5s 1ms/step - loss: 0.1816 - acc: 0.9321 - val_loss: 0.2690 - val_acc: 0.8958\n",
      "Epoch 94/150\n",
      "3888/3888 [==============================] - 5s 1ms/step - loss: 0.1638 - acc: 0.9388 - val_loss: 0.2443 - val_acc: 0.9005\n",
      "Epoch 95/150\n",
      "3888/3888 [==============================] - 5s 1ms/step - loss: 0.1701 - acc: 0.9383 - val_loss: 0.2852 - val_acc: 0.8866\n",
      "Epoch 96/150\n",
      "3888/3888 [==============================] - 5s 1ms/step - loss: 0.1745 - acc: 0.9342 - val_loss: 0.2489 - val_acc: 0.8981\n",
      "Epoch 97/150\n",
      "3888/3888 [==============================] - 5s 1ms/step - loss: 0.1624 - acc: 0.9403 - val_loss: 0.2485 - val_acc: 0.9051\n",
      "Epoch 98/150\n",
      "3888/3888 [==============================] - 5s 1ms/step - loss: 0.1657 - acc: 0.9396 - val_loss: 0.2395 - val_acc: 0.9074\n",
      "Epoch 99/150\n",
      "3888/3888 [==============================] - 5s 1ms/step - loss: 0.1609 - acc: 0.9390 - val_loss: 0.3299 - val_acc: 0.8681\n",
      "Epoch 100/150\n",
      "3888/3888 [==============================] - 5s 1ms/step - loss: 0.1541 - acc: 0.9468 - val_loss: 0.2441 - val_acc: 0.9097\n",
      "Epoch 101/150\n",
      "3888/3888 [==============================] - 5s 1ms/step - loss: 0.1574 - acc: 0.9411 - val_loss: 0.2399 - val_acc: 0.9005\n",
      "Epoch 102/150\n",
      "3888/3888 [==============================] - 5s 1ms/step - loss: 0.1628 - acc: 0.9406 - val_loss: 0.2399 - val_acc: 0.9120\n",
      "Epoch 103/150\n",
      "3888/3888 [==============================] - 5s 1ms/step - loss: 0.1532 - acc: 0.9396 - val_loss: 0.2419 - val_acc: 0.9074\n",
      "Epoch 104/150\n",
      "3888/3888 [==============================] - 5s 1ms/step - loss: 0.1585 - acc: 0.9401 - val_loss: 0.2471 - val_acc: 0.9074\n",
      "Epoch 105/150\n",
      "3888/3888 [==============================] - 5s 1ms/step - loss: 0.1518 - acc: 0.9455 - val_loss: 0.2898 - val_acc: 0.8912\n",
      "Epoch 106/150\n",
      "3888/3888 [==============================] - 5s 1ms/step - loss: 0.1446 - acc: 0.9465 - val_loss: 0.2525 - val_acc: 0.9097\n",
      "Epoch 107/150\n",
      "3888/3888 [==============================] - 5s 1ms/step - loss: 0.1434 - acc: 0.9483 - val_loss: 0.2622 - val_acc: 0.8889\n",
      "Epoch 108/150\n",
      "3888/3888 [==============================] - 5s 1ms/step - loss: 0.1479 - acc: 0.9462 - val_loss: 0.2886 - val_acc: 0.8819\n",
      "Epoch 109/150\n",
      "3888/3888 [==============================] - 5s 1ms/step - loss: 0.1429 - acc: 0.9516 - val_loss: 0.2648 - val_acc: 0.9005\n",
      "Epoch 110/150\n",
      "3888/3888 [==============================] - 5s 1ms/step - loss: 0.1441 - acc: 0.9475 - val_loss: 0.2337 - val_acc: 0.9005\n",
      "Epoch 111/150\n",
      "3888/3888 [==============================] - 5s 1ms/step - loss: 0.1384 - acc: 0.9532 - val_loss: 0.2376 - val_acc: 0.9028\n",
      "Epoch 112/150\n",
      "3888/3888 [==============================] - 5s 1ms/step - loss: 0.1433 - acc: 0.9486 - val_loss: 0.3183 - val_acc: 0.8935\n",
      "Epoch 113/150\n",
      "3888/3888 [==============================] - 5s 1ms/step - loss: 0.1335 - acc: 0.9545 - val_loss: 0.2579 - val_acc: 0.8981\n",
      "Epoch 114/150\n",
      "3888/3888 [==============================] - 5s 1ms/step - loss: 0.1349 - acc: 0.9527 - val_loss: 0.2679 - val_acc: 0.8889\n",
      "Epoch 115/150\n",
      "3888/3888 [==============================] - 5s 1ms/step - loss: 0.1325 - acc: 0.9545 - val_loss: 0.2673 - val_acc: 0.8981\n",
      "Epoch 116/150\n",
      "3888/3888 [==============================] - 5s 1ms/step - loss: 0.1310 - acc: 0.9511 - val_loss: 0.2365 - val_acc: 0.9074\n",
      "Epoch 117/150\n",
      "3888/3888 [==============================] - 5s 1ms/step - loss: 0.1274 - acc: 0.9537 - val_loss: 0.2556 - val_acc: 0.8935\n",
      "Epoch 118/150\n",
      "3888/3888 [==============================] - 5s 1ms/step - loss: 0.1323 - acc: 0.9516 - val_loss: 0.2899 - val_acc: 0.8912\n",
      "Epoch 119/150\n",
      "3888/3888 [==============================] - 5s 1ms/step - loss: 0.1284 - acc: 0.9555 - val_loss: 0.2575 - val_acc: 0.9028\n",
      "Epoch 120/150\n",
      "3888/3888 [==============================] - 5s 1ms/step - loss: 0.1232 - acc: 0.9586 - val_loss: 0.2293 - val_acc: 0.9120\n",
      "Epoch 121/150\n"
     ]
    },
    {
     "name": "stdout",
     "output_type": "stream",
     "text": [
      "3888/3888 [==============================] - 5s 1ms/step - loss: 0.1277 - acc: 0.9542 - val_loss: 0.2425 - val_acc: 0.9144\n",
      "Epoch 122/150\n",
      "3888/3888 [==============================] - 5s 1ms/step - loss: 0.1298 - acc: 0.9529 - val_loss: 0.2940 - val_acc: 0.8889\n",
      "Epoch 123/150\n",
      "3888/3888 [==============================] - 5s 1ms/step - loss: 0.1208 - acc: 0.9586 - val_loss: 0.2613 - val_acc: 0.8935\n",
      "Epoch 124/150\n",
      "3888/3888 [==============================] - 5s 1ms/step - loss: 0.1195 - acc: 0.9594 - val_loss: 0.2375 - val_acc: 0.9051\n",
      "Epoch 125/150\n",
      "3888/3888 [==============================] - 5s 1ms/step - loss: 0.1176 - acc: 0.9588 - val_loss: 0.3495 - val_acc: 0.8657\n",
      "Epoch 126/150\n",
      "3888/3888 [==============================] - 5s 1ms/step - loss: 0.1192 - acc: 0.9624 - val_loss: 0.2384 - val_acc: 0.9144\n",
      "Epoch 127/150\n",
      "3888/3888 [==============================] - 5s 1ms/step - loss: 0.1136 - acc: 0.9635 - val_loss: 0.3004 - val_acc: 0.8866\n",
      "Epoch 128/150\n",
      "3888/3888 [==============================] - 5s 1ms/step - loss: 0.1086 - acc: 0.9637 - val_loss: 0.2270 - val_acc: 0.9028\n",
      "Epoch 129/150\n",
      "3888/3888 [==============================] - 5s 1ms/step - loss: 0.1118 - acc: 0.9630 - val_loss: 0.2446 - val_acc: 0.9144\n",
      "Epoch 130/150\n",
      "3888/3888 [==============================] - 5s 1ms/step - loss: 0.1114 - acc: 0.9668 - val_loss: 0.3323 - val_acc: 0.8889\n",
      "Epoch 131/150\n",
      "3888/3888 [==============================] - 5s 1ms/step - loss: 0.1068 - acc: 0.9627 - val_loss: 0.3389 - val_acc: 0.8958\n",
      "Epoch 132/150\n",
      "3888/3888 [==============================] - 5s 1ms/step - loss: 0.1067 - acc: 0.9660 - val_loss: 0.2504 - val_acc: 0.9097\n",
      "Epoch 133/150\n",
      "3888/3888 [==============================] - 5s 1ms/step - loss: 0.1096 - acc: 0.9645 - val_loss: 0.2634 - val_acc: 0.8981\n",
      "Epoch 134/150\n",
      "3888/3888 [==============================] - 5s 1ms/step - loss: 0.1046 - acc: 0.9622 - val_loss: 0.2487 - val_acc: 0.9097\n",
      "Epoch 135/150\n",
      "3888/3888 [==============================] - 5s 1ms/step - loss: 0.1061 - acc: 0.9617 - val_loss: 0.2895 - val_acc: 0.8981\n",
      "Epoch 136/150\n",
      "3888/3888 [==============================] - 5s 1ms/step - loss: 0.1005 - acc: 0.9660 - val_loss: 0.2570 - val_acc: 0.9074\n",
      "Epoch 137/150\n",
      "3888/3888 [==============================] - 5s 1ms/step - loss: 0.1059 - acc: 0.9655 - val_loss: 0.2348 - val_acc: 0.9190\n",
      "Epoch 138/150\n",
      "3888/3888 [==============================] - 5s 1ms/step - loss: 0.0964 - acc: 0.9673 - val_loss: 0.2502 - val_acc: 0.9120\n",
      "Epoch 139/150\n",
      "3888/3888 [==============================] - 5s 1ms/step - loss: 0.1047 - acc: 0.9642 - val_loss: 0.4001 - val_acc: 0.8565\n",
      "Epoch 140/150\n",
      "3888/3888 [==============================] - 5s 1ms/step - loss: 0.0947 - acc: 0.9717 - val_loss: 0.2561 - val_acc: 0.9074\n",
      "Epoch 141/150\n",
      "3888/3888 [==============================] - 5s 1ms/step - loss: 0.0953 - acc: 0.9715 - val_loss: 0.2964 - val_acc: 0.9051\n",
      "Epoch 142/150\n",
      "3888/3888 [==============================] - 5s 1ms/step - loss: 0.1030 - acc: 0.9671 - val_loss: 0.2279 - val_acc: 0.9236\n",
      "Epoch 143/150\n",
      "3888/3888 [==============================] - 5s 1ms/step - loss: 0.1038 - acc: 0.9671 - val_loss: 0.2333 - val_acc: 0.9213\n",
      "Epoch 144/150\n",
      "3888/3888 [==============================] - 5s 1ms/step - loss: 0.1062 - acc: 0.9630 - val_loss: 0.3157 - val_acc: 0.8889\n",
      "Epoch 145/150\n",
      "3888/3888 [==============================] - 5s 1ms/step - loss: 0.1109 - acc: 0.9588 - val_loss: 0.3067 - val_acc: 0.8935\n",
      "Epoch 146/150\n",
      "3888/3888 [==============================] - 5s 1ms/step - loss: 0.0952 - acc: 0.9684 - val_loss: 0.2637 - val_acc: 0.9120\n",
      "Epoch 147/150\n",
      "3888/3888 [==============================] - 5s 1ms/step - loss: 0.0878 - acc: 0.9722 - val_loss: 0.3098 - val_acc: 0.9051\n",
      "Epoch 148/150\n",
      "3888/3888 [==============================] - 5s 1ms/step - loss: 0.1001 - acc: 0.9632 - val_loss: 0.2375 - val_acc: 0.9144\n",
      "Epoch 149/150\n",
      "3888/3888 [==============================] - 5s 1ms/step - loss: 0.0811 - acc: 0.9740 - val_loss: 0.3606 - val_acc: 0.8704\n",
      "Epoch 150/150\n",
      "3888/3888 [==============================] - 5s 1ms/step - loss: 0.0866 - acc: 0.9748 - val_loss: 0.2438 - val_acc: 0.9236\n"
     ]
    }
   ],
   "source": [
    "model = Sequential()\n",
    "#model.add(CuDNNLSTM(8, input_shape=(1000, 8), return_sequences=True))\n",
    "model.add(Bidirectional(CuDNNLSTM(16), input_shape=(1000, 12)))\n",
    "#model.add(CuDNNLSTM(8, return_sequences=True))\n",
    "#model.add(CuDNNLSTM(4, return_sequences=True))\n",
    "#model.add(CuDNNLSTM(4))\n",
    "model.add(Dense(1, activation='sigmoid'))\n",
    "model.compile(optimizer='rmsprop', loss='binary_crossentropy', metrics=['acc'])\n",
    "history = model.fit(X_train_rnn, y_train, epochs=150, batch_size=128, validation_split=0.1)"
   ]
  },
  {
   "cell_type": "markdown",
   "metadata": {},
   "source": [
    "**Result**:\n",
    "\n",
    "The following cell **visualize** the training/validation accuracies and losses over each epoch."
   ]
  },
  {
   "cell_type": "code",
   "execution_count": 19,
   "metadata": {},
   "outputs": [
    {
     "data": {
      "image/png": "[encoded data removed]",
      "text/plain": [
       "<Figure size 432x288 with 1 Axes>"
      ]
     },
     "metadata": {},
     "output_type": "display_data"
    },
    {
     "data": {
      "image/png": "[encoded data removed]",
      "text/plain": [
       "<Figure size 432x288 with 1 Axes>"
      ]
     },
     "metadata": {},
     "output_type": "display_data"
    }
   ],
   "source": [
    "acc = history.history['acc']\n",
    "val_acc = history.history['val_acc']\n",
    "loss = history.history['loss']\n",
    "val_loss = history.history['val_loss']\n",
    "\n",
    "epochs = range(1, len(acc) + 1)\n",
    "\n",
    "plt.plot(epochs, acc, 'bo', label='Training Accuracy')\n",
    "plt.plot(epochs, val_acc, 'b', label='Validation Accuracy')\n",
    "plt.title('Training and Validation Accuracy')\n",
    "plt.xlabel('epoches')\n",
    "plt.legend()\n",
    "\n",
    "plt.figure()\n",
    "\n",
    "plt.plot(epochs, loss, 'bo', label='Training Loss')\n",
    "plt.plot(epochs, val_loss, 'b', label='Validation Loss')\n",
    "plt.title('Training and Validation Loss')\n",
    "plt.xlabel('epoches')\n",
    "plt.legend()\n",
    "\n",
    "plt.show()"
   ]
  },
  {
   "cell_type": "code",
   "execution_count": 21,
   "metadata": {},
   "outputs": [
    {
     "name": "stdout",
     "output_type": "stream",
     "text": [
      "Save model to models/adam_2019_04_13.json\n"
     ]
    }
   ],
   "source": [
    "import utility\n",
    "utility.save_model(model, 'models/adam_2019_04_13.json', 'models/adam_2019_04_13_weights.h5')"
   ]
  },
  {
   "cell_type": "markdown",
   "metadata": {},
   "source": [
    "- The validation trend now follows closely to the training trend.\n",
    "\n",
    "**Conclusion**:\n",
    "\n",
    "- The result of the experiment demonstrates a marked improvement over previous experiments and suggests that using more TFBS increases accuracy.\n"
   ]
  },
  {
   "cell_type": "markdown",
   "metadata": {},
   "source": [
    "### False Discovery Rate"
   ]
  },
  {
   "cell_type": "code",
   "execution_count": 10,
   "metadata": {},
   "outputs": [
    {
     "name": "stdout",
     "output_type": "stream",
     "text": [
      "Loaded model from ../models/adam_2019_04_13.json\n"
     ]
    }
   ],
   "source": [
    "import utility\n",
    "model = utility.load_model('../models/adam_2019_04_13.json', '../models/adam_2019_04_13_weights.h5')"
   ]
  },
  {
   "cell_type": "code",
   "execution_count": 11,
   "metadata": {},
   "outputs": [
    {
     "name": "stdout",
     "output_type": "stream",
     "text": [
      "The false discovery rate is: 0.044444444444444446\n"
     ]
    }
   ],
   "source": [
    "X_test_rnn = X_test.reshape(480, 1000, 12)\n",
    "results = model.predict(X_test_rnn, batch_size=16)\n",
    "\n",
    "false_positives = 0\n",
    "true_positives = 0\n",
    "total_negatives = 0\n",
    "total_positives = 0\n",
    "true_negatives = 0\n",
    "\n",
    "for i in range(0,results.size):\n",
    "    \n",
    "    if results[i][0]>=0.5 and y_test[i]==0:\n",
    "        false_positives += 1\n",
    "\n",
    "    if results[i][0]>=0.5 and y_test[i]==1:\n",
    "        true_positives += 1\n",
    "        \n",
    "    if results[i][0]<=0.5 and y_test[i]==0:\n",
    "        true_negatives += 1\n",
    "        \n",
    "    if results[i][0] <= 0.5:\n",
    "        total_negatives += 1\n",
    "        \n",
    "    if results[i][0] >= 0.5:\n",
    "        total_positives += 1\n",
    "\n",
    "false_discovery_rate = false_positives/(false_positives + true_positives)\n",
    "print(\"The false discovery rate is: {}\".format(false_discovery_rate))"
   ]
  },
  {
   "cell_type": "code",
   "execution_count": 12,
   "metadata": {},
   "outputs": [
    {
     "name": "stdout",
     "output_type": "stream",
     "text": [
      "ROC Curve\n"
     ]
    },
    {
     "data": {
      "image/png": "[encoded data removed]",
      "text/plain": [
       "<Figure size 432x288 with 1 Axes>"
      ]
     },
     "metadata": {},
     "output_type": "display_data"
    },
    {
     "name": "stdout",
     "output_type": "stream",
     "text": [
      "c-statistic = 0.12057291666666668\n"
     ]
    }
   ],
   "source": [
    "sensitivities = []\n",
    "false_positive_rates =[]\n",
    "discovery_percentage = 0.05\n",
    "\n",
    "while discovery_percentage < 1.0:\n",
    "    \n",
    "    false_positives = 0\n",
    "    true_positives = 0\n",
    "    total_negatives = 0\n",
    "    total_positives = 0\n",
    "    true_negatives = 0\n",
    "    \n",
    "    for i in range(0,results.size):\n",
    "\n",
    "        if results[i][0]>=discovery_percentage and y_train[i]==0:\n",
    "            false_positives += 1\n",
    "\n",
    "        if results[i][0]>=discovery_percentage and y_train[i]==1:\n",
    "            true_positives += 1\n",
    "\n",
    "        if results[i][0]<=discovery_percentage and y_train[i]==0:\n",
    "            true_negatives += 1\n",
    "\n",
    "        if y_train[i]==0:\n",
    "            total_negatives += 1\n",
    "\n",
    "        if y_train[i]==1:\n",
    "            total_positives += 1\n",
    "            \n",
    "    if total_positives != 0 and total_negatives != 0:\n",
    "        sensitivities.append(true_positives / total_positives)\n",
    "        false_positive_rates.append(1-(true_negatives / total_negatives))\n",
    "    \n",
    "    discovery_percentage += 0.05\n",
    "    \n",
    "riemann = 0.0\n",
    "for i in range(0,len(sensitivities) - 1):\n",
    "    riemann += 0.5 * (sensitivities[i]+sensitivities[i+1]) * (false_positive_rates[i]-false_positive_rates[i+1])\n",
    "    \n",
    "\n",
    "print(\"ROC Curve\")\n",
    "plt.plot(false_positive_rates, sensitivities )\n",
    "plt.ylabel('sensitivity')\n",
    "plt.xlabel('false positive rate')\n",
    "plt.show()\n",
    "print(\"c-statistic = \" + str(riemann))\n"
   ]
  }
 ],
 "metadata": {
  "kernelspec": {
   "display_name": "Python 3",
   "language": "python",
   "name": "python3"
  },
  "language_info": {
   "codemirror_mode": {
    "name": "ipython",
    "version": 3
   },
   "file_extension": ".py",
   "mimetype": "text/x-python",
   "name": "python",
   "nbconvert_exporter": "python",
   "pygments_lexer": "ipython3",
   "version": "3.7.1"
  }
 },
 "nbformat": 4,
 "nbformat_minor": 2
}
