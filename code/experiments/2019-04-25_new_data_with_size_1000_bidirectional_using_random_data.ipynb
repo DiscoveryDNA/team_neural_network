{
 "cells": [
  {
   "cell_type": "markdown",
   "metadata": {},
   "source": [
    "**Date**: 2019-04-25\n",
    "\n",
    "**Authors**: Jesse Woo\n",
    "\n",
    "**Purpose**: To test the model using a random data as a control. \n",
    "\n",
    "**Background**:\n",
    "\n",
    "The model we were trying was doing well, so we want to confirm the model is working as expected. This model is from Adam's 4-6-19 experiment.\n",
    "\n",
    "**Experiment**:"
   ]
  },
  {
   "cell_type": "code",
   "execution_count": 1,
   "metadata": {},
   "outputs": [
    {
     "name": "stderr",
     "output_type": "stream",
     "text": [
      "/home/ubuntu/anaconda3/envs/tensorflow_p36/lib/python3.6/site-packages/matplotlib/__init__.py:1067: UserWarning: Duplicate key in file \"/home/ubuntu/.config/matplotlib/matplotlibrc\", line #2\n",
      "  (fname, cnt))\n",
      "/home/ubuntu/anaconda3/envs/tensorflow_p36/lib/python3.6/site-packages/matplotlib/__init__.py:1067: UserWarning: Duplicate key in file \"/home/ubuntu/.config/matplotlib/matplotlibrc\", line #3\n",
      "  (fname, cnt))\n"
     ]
    }
   ],
   "source": [
    "import pickle\n",
    "import numpy as np\n",
    "import matplotlib.pyplot as plt"
   ]
  },
  {
   "cell_type": "markdown",
   "metadata": {},
   "source": [
    "Load the `pickle` buffered list:"
   ]
  },
  {
   "cell_type": "code",
   "execution_count": 2,
   "metadata": {},
   "outputs": [],
   "source": [
    "with open(\"/home/ubuntu/data/data/Buffer/Random_PWM_Buffer.txt\", \"rb\") as buff:\n",
    "    seq_record_list = pickle.load(buff)"
   ]
  },
  {
   "cell_type": "markdown",
   "metadata": {},
   "source": [
    "The following cell retains only 4800 sequences, for the purpose of testing speed. It also randomly shuffles the 4800 sequences."
   ]
  },
  {
   "cell_type": "code",
   "execution_count": 3,
   "metadata": {},
   "outputs": [],
   "source": [
    "from random import shuffle\n",
    "shuffle(seq_record_list)\n",
    "\n",
    "seq_record_list = seq_record_list[:4800]"
   ]
  },
  {
   "cell_type": "code",
   "execution_count": 32,
   "metadata": {},
   "outputs": [],
   "source": [
    "# len(seq_record_list[0])"
   ]
  },
  {
   "cell_type": "markdown",
   "metadata": {},
   "source": [
    "The following cell transforms the data into a format that is recognizable by the neural network model."
   ]
  },
  {
   "cell_type": "code",
   "execution_count": 5,
   "metadata": {},
   "outputs": [],
   "source": [
    "# A helper function to flatten a 2d list to 1d.\n",
    "# Input: [[1, 2], [2, 3], [3, 4, 5]]\n",
    "# Output: [1, 2, 2, 3, 3, 4, 5]\n",
    "def flatten(lst):\n",
    "    new_lst = []\n",
    "    for sub_lst in lst:\n",
    "        for item in sub_lst:\n",
    "            new_lst.append(item)\n",
    "    return new_lst\n",
    "\n",
    "# A helper function to transform a lst so that its length becomes read_len by:\n",
    "# 1. If len(lst) > read_len, curtail the end of the lst.\n",
    "# 2. If len(lst) < read_len, keep extending the end of the lst with 0 (NA).\n",
    "def curtail(lst, read_len):\n",
    "    if len(lst) > read_len:\n",
    "        lst = lst[:read_len]\n",
    "    else:\n",
    "        for i in range(read_len - len(lst)):\n",
    "            lst.append([0, 0, 0, 0, 0, 0, 0, 0])\n",
    "    return lst\n",
    "\n",
    "# Produce the train-test split\n",
    "# length_read: the length that you want all DNA sequences to conform to\n",
    "def prepare_input(training_size, test_size, length_read):\n",
    "    X_train = []\n",
    "    y_train = []\n",
    "    X_test = []\n",
    "    y_test = []\n",
    "    seq_count = 0\n",
    "    while seq_count < training_size:\n",
    "        X_train.append(flatten(curtail(seq_record_list[seq_count][3], length_read)))\n",
    "        y_train.append(int(seq_record_list[seq_count][1]))\n",
    "        seq_count += 1\n",
    "    while seq_count < (training_size + test_size):\n",
    "        X_test.append(flatten(curtail(seq_record_list[seq_count][3], length_read)))\n",
    "        y_test.append(int(seq_record_list[seq_count][1]))\n",
    "        seq_count += 1\n",
    "    return X_train, y_train, X_test, y_test\n",
    "\n",
    "# Turn list into numpy tensors that can directly feed into a neural network model\n",
    "def to_np_array(X_train, y_train, X_test, y_test):\n",
    "    X_train = np.array(X_train)\n",
    "    y_train = np.array(y_train)\n",
    "    if len(y_train.shape) == 1:\n",
    "        y_train = np.transpose(np.array([y_train]))\n",
    "    X_test = np.array(X_test)\n",
    "    y_test = np.transpose(np.array(y_test))\n",
    "    if len(y_test.shape) == 1:\n",
    "        y_test = np.transpose(np.array([y_test]))\n",
    "    return X_train, y_train, X_test, y_test"
   ]
  },
  {
   "cell_type": "code",
   "execution_count": 7,
   "metadata": {},
   "outputs": [
    {
     "data": {
      "text/plain": [
       "[(4320, 8000), (4320, 1), (480, 8000), (480, 1)]"
      ]
     },
     "execution_count": 7,
     "metadata": {},
     "output_type": "execute_result"
    }
   ],
   "source": [
    "X_train, y_train, X_test, y_test = prepare_input(4320, 480, 1000)\n",
    "X_train, y_train, X_test, y_test = to_np_array(X_train, y_train, X_test, y_test)\n",
    "[X_train.shape, y_train.shape, X_test.shape, y_test.shape]\n"
   ]
  },
  {
   "cell_type": "code",
   "execution_count": 31,
   "metadata": {},
   "outputs": [],
   "source": [
    "# (X_train[0])[:10]"
   ]
  },
  {
   "cell_type": "markdown",
   "metadata": {},
   "source": [
    "The following cells build a recurrent network with one bidirectional LSTM layer."
   ]
  },
  {
   "cell_type": "code",
   "execution_count": 8,
   "metadata": {},
   "outputs": [
    {
     "name": "stderr",
     "output_type": "stream",
     "text": [
      "/home/ubuntu/anaconda3/envs/tensorflow_p36/lib/python3.6/site-packages/h5py/__init__.py:36: FutureWarning: Conversion of the second argument of issubdtype from `float` to `np.floating` is deprecated. In future, it will be treated as `np.float64 == np.dtype(float).type`.\n",
      "  from ._conv import register_converters as _register_converters\n",
      "Using TensorFlow backend.\n"
     ]
    }
   ],
   "source": [
    "from keras.models import Model, Sequential\n",
    "from keras.layers import Dense, CuDNNLSTM, Bidirectional"
   ]
  },
  {
   "cell_type": "code",
   "execution_count": 12,
   "metadata": {},
   "outputs": [],
   "source": [
    "X_train_rnn = X_train.reshape(4320, 1000, 8)"
   ]
  },
  {
   "cell_type": "code",
   "execution_count": 14,
   "metadata": {
    "scrolled": true
   },
   "outputs": [
    {
     "name": "stdout",
     "output_type": "stream",
     "text": [
      "Train on 3888 samples, validate on 432 samples\n",
      "Epoch 1/150\n",
      "3888/3888 [==============================] - 17s 4ms/step - loss: 0.6982 - acc: 0.5123 - val_loss: 0.6958 - val_acc: 0.5347\n",
      "Epoch 2/150\n",
      "3888/3888 [==============================] - 5s 1ms/step - loss: 0.6810 - acc: 0.5445 - val_loss: 0.6805 - val_acc: 0.5185\n",
      "Epoch 3/150\n",
      "3888/3888 [==============================] - 5s 1ms/step - loss: 0.6731 - acc: 0.5512 - val_loss: 0.6776 - val_acc: 0.5301\n",
      "Epoch 4/150\n",
      "3888/3888 [==============================] - 5s 1ms/step - loss: 0.6713 - acc: 0.5532 - val_loss: 0.6771 - val_acc: 0.5370\n",
      "Epoch 5/150\n",
      "3888/3888 [==============================] - 5s 1ms/step - loss: 0.6701 - acc: 0.5545 - val_loss: 0.6825 - val_acc: 0.5324\n",
      "Epoch 6/150\n",
      "3888/3888 [==============================] - 5s 1ms/step - loss: 0.6697 - acc: 0.5592 - val_loss: 0.6794 - val_acc: 0.5324\n",
      "Epoch 7/150\n",
      "3888/3888 [==============================] - 5s 1ms/step - loss: 0.6690 - acc: 0.5669 - val_loss: 0.6783 - val_acc: 0.5486\n",
      "Epoch 8/150\n",
      "3888/3888 [==============================] - 5s 1ms/step - loss: 0.6684 - acc: 0.5671 - val_loss: 0.6792 - val_acc: 0.5324\n",
      "Epoch 9/150\n",
      "3888/3888 [==============================] - 5s 1ms/step - loss: 0.6684 - acc: 0.5622 - val_loss: 0.6787 - val_acc: 0.5324\n",
      "Epoch 10/150\n",
      "3888/3888 [==============================] - 5s 1ms/step - loss: 0.6677 - acc: 0.5674 - val_loss: 0.6758 - val_acc: 0.5833\n",
      "Epoch 11/150\n",
      "3888/3888 [==============================] - 5s 1ms/step - loss: 0.6677 - acc: 0.5638 - val_loss: 0.6756 - val_acc: 0.5833\n",
      "Epoch 12/150\n",
      "3888/3888 [==============================] - 5s 1ms/step - loss: 0.6671 - acc: 0.5689 - val_loss: 0.6763 - val_acc: 0.5625\n",
      "Epoch 13/150\n",
      "3888/3888 [==============================] - 5s 1ms/step - loss: 0.6667 - acc: 0.5746 - val_loss: 0.6762 - val_acc: 0.5741\n",
      "Epoch 14/150\n",
      "3888/3888 [==============================] - 5s 1ms/step - loss: 0.6660 - acc: 0.5756 - val_loss: 0.6817 - val_acc: 0.5324\n",
      "Epoch 15/150\n",
      "3888/3888 [==============================] - 5s 1ms/step - loss: 0.6657 - acc: 0.5720 - val_loss: 0.6753 - val_acc: 0.5972\n",
      "Epoch 16/150\n",
      "3888/3888 [==============================] - 5s 1ms/step - loss: 0.6651 - acc: 0.5779 - val_loss: 0.6748 - val_acc: 0.5833\n",
      "Epoch 17/150\n",
      "3888/3888 [==============================] - 5s 1ms/step - loss: 0.6647 - acc: 0.5808 - val_loss: 0.6761 - val_acc: 0.5833\n",
      "Epoch 18/150\n",
      "3888/3888 [==============================] - 5s 1ms/step - loss: 0.6646 - acc: 0.5797 - val_loss: 0.6784 - val_acc: 0.5486\n",
      "Epoch 19/150\n",
      "3888/3888 [==============================] - 6s 1ms/step - loss: 0.6634 - acc: 0.5818 - val_loss: 0.6778 - val_acc: 0.5509\n",
      "Epoch 20/150\n",
      "3888/3888 [==============================] - 5s 1ms/step - loss: 0.6633 - acc: 0.5859 - val_loss: 0.6830 - val_acc: 0.5278\n",
      "Epoch 21/150\n",
      "3888/3888 [==============================] - 5s 1ms/step - loss: 0.6631 - acc: 0.5795 - val_loss: 0.6750 - val_acc: 0.5718\n",
      "Epoch 22/150\n",
      "3888/3888 [==============================] - 5s 1ms/step - loss: 0.6621 - acc: 0.5769 - val_loss: 0.6751 - val_acc: 0.5764\n",
      "Epoch 23/150\n",
      "3888/3888 [==============================] - 5s 1ms/step - loss: 0.6619 - acc: 0.5828 - val_loss: 0.6790 - val_acc: 0.5440\n",
      "Epoch 24/150\n",
      "3888/3888 [==============================] - 5s 1ms/step - loss: 0.6609 - acc: 0.5908 - val_loss: 0.6827 - val_acc: 0.5394\n",
      "Epoch 25/150\n",
      "3888/3888 [==============================] - 5s 1ms/step - loss: 0.6602 - acc: 0.5900 - val_loss: 0.6802 - val_acc: 0.5509\n",
      "Epoch 26/150\n",
      "3888/3888 [==============================] - 5s 1ms/step - loss: 0.6595 - acc: 0.5846 - val_loss: 0.6810 - val_acc: 0.5579\n",
      "Epoch 27/150\n",
      "3888/3888 [==============================] - 5s 1ms/step - loss: 0.6589 - acc: 0.5869 - val_loss: 0.6799 - val_acc: 0.5486\n",
      "Epoch 28/150\n",
      "3888/3888 [==============================] - 5s 1ms/step - loss: 0.6582 - acc: 0.5918 - val_loss: 0.6907 - val_acc: 0.5139\n",
      "Epoch 29/150\n",
      "3888/3888 [==============================] - 5s 1ms/step - loss: 0.6577 - acc: 0.5908 - val_loss: 0.6782 - val_acc: 0.5926\n",
      "Epoch 30/150\n",
      "3888/3888 [==============================] - 5s 1ms/step - loss: 0.6569 - acc: 0.6003 - val_loss: 0.6831 - val_acc: 0.5602\n",
      "Epoch 31/150\n",
      "3888/3888 [==============================] - 5s 1ms/step - loss: 0.6569 - acc: 0.5967 - val_loss: 0.6789 - val_acc: 0.5718\n",
      "Epoch 32/150\n",
      "3888/3888 [==============================] - 5s 1ms/step - loss: 0.6555 - acc: 0.6001 - val_loss: 0.6826 - val_acc: 0.5602\n",
      "Epoch 33/150\n",
      "3888/3888 [==============================] - 5s 1ms/step - loss: 0.6544 - acc: 0.5952 - val_loss: 0.6872 - val_acc: 0.5532\n",
      "Epoch 34/150\n",
      "3888/3888 [==============================] - 5s 1ms/step - loss: 0.6533 - acc: 0.6062 - val_loss: 0.6800 - val_acc: 0.5718\n",
      "Epoch 35/150\n",
      "3888/3888 [==============================] - 6s 1ms/step - loss: 0.6528 - acc: 0.6019 - val_loss: 0.6835 - val_acc: 0.5532\n",
      "Epoch 36/150\n",
      "3888/3888 [==============================] - 5s 1ms/step - loss: 0.6525 - acc: 0.5990 - val_loss: 0.6835 - val_acc: 0.5718\n",
      "Epoch 37/150\n",
      "3888/3888 [==============================] - 5s 1ms/step - loss: 0.6515 - acc: 0.6062 - val_loss: 0.6817 - val_acc: 0.5880\n",
      "Epoch 38/150\n",
      "3888/3888 [==============================] - 5s 1ms/step - loss: 0.6514 - acc: 0.6109 - val_loss: 0.6896 - val_acc: 0.5486\n",
      "Epoch 39/150\n",
      "3888/3888 [==============================] - 5s 1ms/step - loss: 0.6508 - acc: 0.6024 - val_loss: 0.6921 - val_acc: 0.5463\n",
      "Epoch 40/150\n",
      "3888/3888 [==============================] - 5s 1ms/step - loss: 0.6495 - acc: 0.6047 - val_loss: 0.6976 - val_acc: 0.5301\n",
      "Epoch 41/150\n",
      "3888/3888 [==============================] - 5s 1ms/step - loss: 0.6495 - acc: 0.6155 - val_loss: 0.6843 - val_acc: 0.5718\n",
      "Epoch 42/150\n",
      "3888/3888 [==============================] - 5s 1ms/step - loss: 0.6474 - acc: 0.6157 - val_loss: 0.6846 - val_acc: 0.5718\n",
      "Epoch 43/150\n",
      "3888/3888 [==============================] - 6s 1ms/step - loss: 0.6467 - acc: 0.6224 - val_loss: 0.7018 - val_acc: 0.5347\n",
      "Epoch 44/150\n",
      "3888/3888 [==============================] - 5s 1ms/step - loss: 0.6450 - acc: 0.6222 - val_loss: 0.6966 - val_acc: 0.5532\n",
      "Epoch 45/150\n",
      "3888/3888 [==============================] - 5s 1ms/step - loss: 0.6454 - acc: 0.6160 - val_loss: 0.6882 - val_acc: 0.5556\n",
      "Epoch 46/150\n",
      "3888/3888 [==============================] - 5s 1ms/step - loss: 0.6447 - acc: 0.6175 - val_loss: 0.6926 - val_acc: 0.5602\n",
      "Epoch 47/150\n",
      "3888/3888 [==============================] - 5s 1ms/step - loss: 0.6428 - acc: 0.6281 - val_loss: 0.6921 - val_acc: 0.5532\n",
      "Epoch 48/150\n",
      "3888/3888 [==============================] - 5s 1ms/step - loss: 0.6426 - acc: 0.6250 - val_loss: 0.6911 - val_acc: 0.5625\n",
      "Epoch 49/150\n",
      "3888/3888 [==============================] - 5s 1ms/step - loss: 0.6413 - acc: 0.6247 - val_loss: 0.6902 - val_acc: 0.5579\n",
      "Epoch 50/150\n",
      "3888/3888 [==============================] - 5s 1ms/step - loss: 0.6406 - acc: 0.6235 - val_loss: 0.6927 - val_acc: 0.5602\n",
      "Epoch 51/150\n",
      "3888/3888 [==============================] - 6s 1ms/step - loss: 0.6392 - acc: 0.6253 - val_loss: 0.6870 - val_acc: 0.5764\n",
      "Epoch 52/150\n",
      "3888/3888 [==============================] - 5s 1ms/step - loss: 0.6393 - acc: 0.6312 - val_loss: 0.7052 - val_acc: 0.5463\n",
      "Epoch 53/150\n",
      "3888/3888 [==============================] - 5s 1ms/step - loss: 0.6386 - acc: 0.6314 - val_loss: 0.7033 - val_acc: 0.5532\n",
      "Epoch 54/150\n",
      "3888/3888 [==============================] - 6s 1ms/step - loss: 0.6370 - acc: 0.6384 - val_loss: 0.6910 - val_acc: 0.5671\n",
      "Epoch 55/150\n",
      "3888/3888 [==============================] - 5s 1ms/step - loss: 0.6354 - acc: 0.6345 - val_loss: 0.6963 - val_acc: 0.5532\n",
      "Epoch 56/150\n",
      "3888/3888 [==============================] - 5s 1ms/step - loss: 0.6354 - acc: 0.6332 - val_loss: 0.7117 - val_acc: 0.5556\n",
      "Epoch 57/150\n",
      "3888/3888 [==============================] - 5s 1ms/step - loss: 0.6359 - acc: 0.6340 - val_loss: 0.6898 - val_acc: 0.5602\n",
      "Epoch 58/150\n",
      "3888/3888 [==============================] - 5s 1ms/step - loss: 0.6332 - acc: 0.6433 - val_loss: 0.6932 - val_acc: 0.5486\n",
      "Epoch 59/150\n",
      "3888/3888 [==============================] - 5s 1ms/step - loss: 0.6327 - acc: 0.6451 - val_loss: 0.6896 - val_acc: 0.5625\n",
      "Epoch 60/150\n",
      "3888/3888 [==============================] - 5s 1ms/step - loss: 0.6309 - acc: 0.6389 - val_loss: 0.6928 - val_acc: 0.5602\n"
     ]
    },
    {
     "name": "stdout",
     "output_type": "stream",
     "text": [
      "Epoch 61/150\n",
      "3888/3888 [==============================] - 5s 1ms/step - loss: 0.6321 - acc: 0.6409 - val_loss: 0.6954 - val_acc: 0.5509\n",
      "Epoch 62/150\n",
      "3888/3888 [==============================] - 5s 1ms/step - loss: 0.6305 - acc: 0.6397 - val_loss: 0.6977 - val_acc: 0.5509\n",
      "Epoch 63/150\n",
      "3888/3888 [==============================] - 5s 1ms/step - loss: 0.6299 - acc: 0.6409 - val_loss: 0.6892 - val_acc: 0.5625\n",
      "Epoch 64/150\n",
      "3888/3888 [==============================] - 5s 1ms/step - loss: 0.6271 - acc: 0.6448 - val_loss: 0.7012 - val_acc: 0.5509\n",
      "Epoch 65/150\n",
      "3888/3888 [==============================] - 5s 1ms/step - loss: 0.6288 - acc: 0.6440 - val_loss: 0.6902 - val_acc: 0.5625\n",
      "Epoch 66/150\n",
      "3888/3888 [==============================] - 5s 1ms/step - loss: 0.6257 - acc: 0.6515 - val_loss: 0.6996 - val_acc: 0.5671\n",
      "Epoch 67/150\n",
      "3888/3888 [==============================] - 5s 1ms/step - loss: 0.6260 - acc: 0.6499 - val_loss: 0.6888 - val_acc: 0.5648\n",
      "Epoch 68/150\n",
      "3888/3888 [==============================] - 5s 1ms/step - loss: 0.6251 - acc: 0.6458 - val_loss: 0.6922 - val_acc: 0.5648\n",
      "Epoch 69/150\n",
      "3888/3888 [==============================] - 5s 1ms/step - loss: 0.6214 - acc: 0.6553 - val_loss: 0.6907 - val_acc: 0.5579\n",
      "Epoch 70/150\n",
      "3888/3888 [==============================] - 5s 1ms/step - loss: 0.6217 - acc: 0.6535 - val_loss: 0.6934 - val_acc: 0.5694\n",
      "Epoch 71/150\n",
      "3888/3888 [==============================] - 6s 1ms/step - loss: 0.6214 - acc: 0.6543 - val_loss: 0.6915 - val_acc: 0.5579\n",
      "Epoch 72/150\n",
      "3888/3888 [==============================] - 5s 1ms/step - loss: 0.6213 - acc: 0.6497 - val_loss: 0.6922 - val_acc: 0.5486\n",
      "Epoch 73/150\n",
      "3888/3888 [==============================] - 5s 1ms/step - loss: 0.6198 - acc: 0.6553 - val_loss: 0.7045 - val_acc: 0.5440\n",
      "Epoch 74/150\n",
      "3888/3888 [==============================] - 5s 1ms/step - loss: 0.6202 - acc: 0.6530 - val_loss: 0.7139 - val_acc: 0.5741\n",
      "Epoch 75/150\n",
      "3888/3888 [==============================] - 5s 1ms/step - loss: 0.6159 - acc: 0.6574 - val_loss: 0.6908 - val_acc: 0.5741\n",
      "Epoch 76/150\n",
      "3888/3888 [==============================] - 5s 1ms/step - loss: 0.6163 - acc: 0.6582 - val_loss: 0.6904 - val_acc: 0.5741\n",
      "Epoch 77/150\n",
      "3888/3888 [==============================] - 5s 1ms/step - loss: 0.6139 - acc: 0.6597 - val_loss: 0.7144 - val_acc: 0.5718\n",
      "Epoch 78/150\n",
      "3888/3888 [==============================] - 5s 1ms/step - loss: 0.6142 - acc: 0.6636 - val_loss: 0.6990 - val_acc: 0.5602\n",
      "Epoch 79/150\n",
      "3888/3888 [==============================] - 6s 1ms/step - loss: 0.6126 - acc: 0.6610 - val_loss: 0.6932 - val_acc: 0.5810\n",
      "Epoch 80/150\n",
      "3888/3888 [==============================] - 5s 1ms/step - loss: 0.6137 - acc: 0.6587 - val_loss: 0.7000 - val_acc: 0.5556\n",
      "Epoch 81/150\n",
      "3888/3888 [==============================] - 5s 1ms/step - loss: 0.6092 - acc: 0.6664 - val_loss: 0.6974 - val_acc: 0.5926\n",
      "Epoch 82/150\n",
      "3888/3888 [==============================] - 5s 1ms/step - loss: 0.6128 - acc: 0.6644 - val_loss: 0.6901 - val_acc: 0.5787\n",
      "Epoch 83/150\n",
      "3888/3888 [==============================] - 5s 1ms/step - loss: 0.6079 - acc: 0.6703 - val_loss: 0.6965 - val_acc: 0.5718\n",
      "Epoch 84/150\n",
      "3888/3888 [==============================] - 5s 1ms/step - loss: 0.6060 - acc: 0.6721 - val_loss: 0.6960 - val_acc: 0.5579\n",
      "Epoch 85/150\n",
      "3888/3888 [==============================] - 5s 1ms/step - loss: 0.6072 - acc: 0.6698 - val_loss: 0.6940 - val_acc: 0.5718\n",
      "Epoch 86/150\n",
      "3888/3888 [==============================] - 5s 1ms/step - loss: 0.6041 - acc: 0.6746 - val_loss: 0.6943 - val_acc: 0.5787\n",
      "Epoch 87/150\n",
      "3888/3888 [==============================] - 5s 1ms/step - loss: 0.6024 - acc: 0.6790 - val_loss: 0.7057 - val_acc: 0.5556\n",
      "Epoch 88/150\n",
      "3888/3888 [==============================] - 5s 1ms/step - loss: 0.6016 - acc: 0.6829 - val_loss: 0.7078 - val_acc: 0.5718\n",
      "Epoch 89/150\n",
      "3888/3888 [==============================] - 6s 1ms/step - loss: 0.6015 - acc: 0.6716 - val_loss: 0.6955 - val_acc: 0.5579\n",
      "Epoch 90/150\n",
      "3888/3888 [==============================] - 5s 1ms/step - loss: 0.5995 - acc: 0.6767 - val_loss: 0.6968 - val_acc: 0.5718\n",
      "Epoch 91/150\n",
      "3888/3888 [==============================] - 5s 1ms/step - loss: 0.5984 - acc: 0.6777 - val_loss: 0.6987 - val_acc: 0.5602\n",
      "Epoch 92/150\n",
      "3888/3888 [==============================] - 5s 1ms/step - loss: 0.5980 - acc: 0.6790 - val_loss: 0.7201 - val_acc: 0.5787\n",
      "Epoch 93/150\n",
      "3888/3888 [==============================] - 5s 1ms/step - loss: 0.5944 - acc: 0.6847 - val_loss: 0.7528 - val_acc: 0.5694\n",
      "Epoch 94/150\n",
      "3888/3888 [==============================] - 5s 1ms/step - loss: 0.5968 - acc: 0.6867 - val_loss: 0.7071 - val_acc: 0.5694\n",
      "Epoch 95/150\n",
      "3888/3888 [==============================] - 5s 1ms/step - loss: 0.5933 - acc: 0.6901 - val_loss: 0.7306 - val_acc: 0.5440\n",
      "Epoch 96/150\n",
      "3888/3888 [==============================] - 5s 1ms/step - loss: 0.5914 - acc: 0.6908 - val_loss: 0.7062 - val_acc: 0.5810\n",
      "Epoch 97/150\n",
      "3888/3888 [==============================] - 5s 1ms/step - loss: 0.5947 - acc: 0.6862 - val_loss: 0.7121 - val_acc: 0.5741\n",
      "Epoch 98/150\n",
      "3888/3888 [==============================] - 6s 1ms/step - loss: 0.5870 - acc: 0.6947 - val_loss: 0.7121 - val_acc: 0.5671\n",
      "Epoch 99/150\n",
      "3888/3888 [==============================] - 6s 1ms/step - loss: 0.5874 - acc: 0.6921 - val_loss: 0.7160 - val_acc: 0.5486\n",
      "Epoch 100/150\n",
      "3888/3888 [==============================] - 5s 1ms/step - loss: 0.5857 - acc: 0.6957 - val_loss: 0.7629 - val_acc: 0.5648\n",
      "Epoch 101/150\n",
      "3888/3888 [==============================] - 5s 1ms/step - loss: 0.5847 - acc: 0.6932 - val_loss: 0.7120 - val_acc: 0.5602\n",
      "Epoch 102/150\n",
      "3888/3888 [==============================] - 5s 1ms/step - loss: 0.5839 - acc: 0.7004 - val_loss: 0.7118 - val_acc: 0.5625\n",
      "Epoch 103/150\n",
      "3888/3888 [==============================] - 5s 1ms/step - loss: 0.5820 - acc: 0.6991 - val_loss: 0.7222 - val_acc: 0.5671\n",
      "Epoch 104/150\n",
      "3888/3888 [==============================] - 5s 1ms/step - loss: 0.5794 - acc: 0.6970 - val_loss: 0.7216 - val_acc: 0.5509\n",
      "Epoch 105/150\n",
      "3888/3888 [==============================] - 5s 1ms/step - loss: 0.5790 - acc: 0.6980 - val_loss: 0.7181 - val_acc: 0.5648\n",
      "Epoch 106/150\n",
      "3888/3888 [==============================] - 5s 1ms/step - loss: 0.5770 - acc: 0.6970 - val_loss: 0.7382 - val_acc: 0.5718\n",
      "Epoch 107/150\n",
      "3888/3888 [==============================] - 5s 1ms/step - loss: 0.5776 - acc: 0.7052 - val_loss: 0.7260 - val_acc: 0.5556\n",
      "Epoch 108/150\n",
      "3888/3888 [==============================] - 5s 1ms/step - loss: 0.5771 - acc: 0.7029 - val_loss: 0.7167 - val_acc: 0.5648\n",
      "Epoch 109/150\n",
      "3888/3888 [==============================] - 5s 1ms/step - loss: 0.5731 - acc: 0.7032 - val_loss: 0.7095 - val_acc: 0.5625\n",
      "Epoch 110/150\n",
      "3888/3888 [==============================] - 5s 1ms/step - loss: 0.5729 - acc: 0.7068 - val_loss: 0.7221 - val_acc: 0.5463\n",
      "Epoch 111/150\n",
      "3888/3888 [==============================] - 6s 1ms/step - loss: 0.5703 - acc: 0.7081 - val_loss: 0.7201 - val_acc: 0.5810\n",
      "Epoch 112/150\n",
      "3888/3888 [==============================] - 5s 1ms/step - loss: 0.5717 - acc: 0.7078 - val_loss: 0.7383 - val_acc: 0.5671\n",
      "Epoch 113/150\n",
      "3888/3888 [==============================] - 5s 1ms/step - loss: 0.5671 - acc: 0.7117 - val_loss: 0.7145 - val_acc: 0.5486\n",
      "Epoch 114/150\n",
      "3888/3888 [==============================] - 6s 1ms/step - loss: 0.5688 - acc: 0.7032 - val_loss: 0.7241 - val_acc: 0.5486\n",
      "Epoch 115/150\n",
      "3888/3888 [==============================] - 6s 1ms/step - loss: 0.5633 - acc: 0.7145 - val_loss: 0.7287 - val_acc: 0.5718\n",
      "Epoch 116/150\n",
      "3888/3888 [==============================] - 5s 1ms/step - loss: 0.5659 - acc: 0.7086 - val_loss: 0.7232 - val_acc: 0.5486\n",
      "Epoch 117/150\n",
      "3888/3888 [==============================] - 5s 1ms/step - loss: 0.5620 - acc: 0.7114 - val_loss: 0.7230 - val_acc: 0.5625\n",
      "Epoch 118/150\n",
      "3888/3888 [==============================] - 5s 1ms/step - loss: 0.5630 - acc: 0.7086 - val_loss: 0.7190 - val_acc: 0.5556\n",
      "Epoch 119/150\n",
      "3888/3888 [==============================] - 6s 1ms/step - loss: 0.5597 - acc: 0.7114 - val_loss: 0.7379 - val_acc: 0.5602\n",
      "Epoch 120/150\n",
      "3888/3888 [==============================] - 5s 1ms/step - loss: 0.5564 - acc: 0.7207 - val_loss: 0.7249 - val_acc: 0.5764\n",
      "Epoch 121/150\n"
     ]
    },
    {
     "name": "stdout",
     "output_type": "stream",
     "text": [
      "3888/3888 [==============================] - 6s 1ms/step - loss: 0.5542 - acc: 0.7153 - val_loss: 0.7297 - val_acc: 0.5718\n",
      "Epoch 122/150\n",
      "3888/3888 [==============================] - 5s 1ms/step - loss: 0.5556 - acc: 0.7168 - val_loss: 0.7270 - val_acc: 0.5579\n",
      "Epoch 123/150\n",
      "3888/3888 [==============================] - 5s 1ms/step - loss: 0.5539 - acc: 0.7191 - val_loss: 0.7614 - val_acc: 0.5671\n",
      "Epoch 124/150\n",
      "3888/3888 [==============================] - 5s 1ms/step - loss: 0.5478 - acc: 0.7307 - val_loss: 0.7689 - val_acc: 0.5903\n",
      "Epoch 125/150\n",
      "3888/3888 [==============================] - 6s 1ms/step - loss: 0.5539 - acc: 0.7197 - val_loss: 0.7458 - val_acc: 0.5764\n",
      "Epoch 126/150\n",
      "3888/3888 [==============================] - 5s 1ms/step - loss: 0.5500 - acc: 0.7248 - val_loss: 0.7288 - val_acc: 0.5833\n",
      "Epoch 127/150\n",
      "3888/3888 [==============================] - 5s 1ms/step - loss: 0.5528 - acc: 0.7235 - val_loss: 0.7289 - val_acc: 0.5602\n",
      "Epoch 128/150\n",
      "3888/3888 [==============================] - 5s 1ms/step - loss: 0.5495 - acc: 0.7294 - val_loss: 0.7543 - val_acc: 0.5671\n",
      "Epoch 129/150\n",
      "3888/3888 [==============================] - 5s 1ms/step - loss: 0.5459 - acc: 0.7227 - val_loss: 0.7516 - val_acc: 0.5764\n",
      "Epoch 130/150\n",
      "3888/3888 [==============================] - 5s 1ms/step - loss: 0.5506 - acc: 0.7178 - val_loss: 0.7466 - val_acc: 0.5579\n",
      "Epoch 131/150\n",
      "3888/3888 [==============================] - 5s 1ms/step - loss: 0.5421 - acc: 0.7346 - val_loss: 0.7399 - val_acc: 0.5694\n",
      "Epoch 132/150\n",
      "3888/3888 [==============================] - 5s 1ms/step - loss: 0.5433 - acc: 0.7253 - val_loss: 0.7560 - val_acc: 0.5625\n",
      "Epoch 133/150\n",
      "3888/3888 [==============================] - 5s 1ms/step - loss: 0.5426 - acc: 0.7261 - val_loss: 0.7447 - val_acc: 0.5602\n",
      "Epoch 134/150\n",
      "3888/3888 [==============================] - 5s 1ms/step - loss: 0.5477 - acc: 0.7220 - val_loss: 0.7542 - val_acc: 0.6111\n",
      "Epoch 135/150\n",
      "3888/3888 [==============================] - 5s 1ms/step - loss: 0.5389 - acc: 0.7305 - val_loss: 0.7744 - val_acc: 0.5694\n",
      "Epoch 136/150\n",
      "3888/3888 [==============================] - 6s 1ms/step - loss: 0.5386 - acc: 0.7307 - val_loss: 0.7648 - val_acc: 0.5787\n",
      "Epoch 137/150\n",
      "3888/3888 [==============================] - 5s 1ms/step - loss: 0.5394 - acc: 0.7351 - val_loss: 0.7502 - val_acc: 0.5602\n",
      "Epoch 138/150\n",
      "3888/3888 [==============================] - 5s 1ms/step - loss: 0.5384 - acc: 0.7307 - val_loss: 0.7492 - val_acc: 0.5532\n",
      "Epoch 139/150\n",
      "3888/3888 [==============================] - 5s 1ms/step - loss: 0.5400 - acc: 0.7348 - val_loss: 0.7515 - val_acc: 0.5556\n",
      "Epoch 140/150\n",
      "3888/3888 [==============================] - 5s 1ms/step - loss: 0.5358 - acc: 0.7348 - val_loss: 0.7591 - val_acc: 0.5995\n",
      "Epoch 141/150\n",
      "3888/3888 [==============================] - 5s 1ms/step - loss: 0.5423 - acc: 0.7294 - val_loss: 0.7502 - val_acc: 0.5810\n",
      "Epoch 142/150\n",
      "3888/3888 [==============================] - 6s 1ms/step - loss: 0.5283 - acc: 0.7395 - val_loss: 0.7738 - val_acc: 0.5694\n",
      "Epoch 143/150\n",
      "3888/3888 [==============================] - 5s 1ms/step - loss: 0.5310 - acc: 0.7402 - val_loss: 0.7572 - val_acc: 0.5556\n",
      "Epoch 144/150\n",
      "3888/3888 [==============================] - 5s 1ms/step - loss: 0.5313 - acc: 0.7418 - val_loss: 0.7568 - val_acc: 0.5509\n",
      "Epoch 145/150\n",
      "3888/3888 [==============================] - 6s 1ms/step - loss: 0.5289 - acc: 0.7405 - val_loss: 0.7634 - val_acc: 0.5648\n",
      "Epoch 146/150\n",
      "3888/3888 [==============================] - 5s 1ms/step - loss: 0.5264 - acc: 0.7449 - val_loss: 0.7524 - val_acc: 0.5856\n",
      "Epoch 147/150\n",
      "3888/3888 [==============================] - 5s 1ms/step - loss: 0.5284 - acc: 0.7410 - val_loss: 0.7813 - val_acc: 0.5579\n",
      "Epoch 148/150\n",
      "3888/3888 [==============================] - 5s 1ms/step - loss: 0.5280 - acc: 0.7433 - val_loss: 0.7626 - val_acc: 0.5995\n",
      "Epoch 149/150\n",
      "3888/3888 [==============================] - 5s 1ms/step - loss: 0.5271 - acc: 0.7428 - val_loss: 0.7516 - val_acc: 0.5694\n",
      "Epoch 150/150\n",
      "3888/3888 [==============================] - 6s 1ms/step - loss: 0.5228 - acc: 0.7428 - val_loss: 0.7859 - val_acc: 0.5926\n"
     ]
    }
   ],
   "source": [
    "model = Sequential()\n",
    "#model.add(CuDNNLSTM(8, input_shape=(1000, 8), return_sequences=True))\n",
    "model.add(Bidirectional(CuDNNLSTM(16), input_shape=(1000, 8)))\n",
    "#model.add(CuDNNLSTM(8, return_sequences=True))\n",
    "#model.add(CuDNNLSTM(4, return_sequences=True))\n",
    "#model.add(CuDNNLSTM(4))\n",
    "model.add(Dense(1, activation='sigmoid'))\n",
    "model.compile(optimizer='rmsprop', loss='binary_crossentropy', metrics=['acc'])\n",
    "history = model.fit(X_train_rnn, y_train, epochs=150, batch_size=128, validation_split=0.1)"
   ]
  },
  {
   "cell_type": "markdown",
   "metadata": {},
   "source": [
    "**Result**:\n",
    "\n",
    "The following cell **visualize** the training/validation accuracies and losses over each epoch."
   ]
  },
  {
   "cell_type": "code",
   "execution_count": 15,
   "metadata": {},
   "outputs": [
    {
     "data": {
      "image/png": "[encoded data removed]",
      "text/plain": [
       "<Figure size 432x288 with 1 Axes>"
      ]
     },
     "metadata": {},
     "output_type": "display_data"
    },
    {
     "data": {
      "image/png": "[encoded data removed]",
      "text/plain": [
       "<Figure size 432x288 with 1 Axes>"
      ]
     },
     "metadata": {},
     "output_type": "display_data"
    }
   ],
   "source": [
    "acc = history.history['acc']\n",
    "val_acc = history.history['val_acc']\n",
    "loss = history.history['loss']\n",
    "val_loss = history.history['val_loss']\n",
    "\n",
    "epochs = range(1, len(acc) + 1)\n",
    "\n",
    "plt.plot(epochs, acc, 'bo', label='Training Accuracy')\n",
    "plt.plot(epochs, val_acc, 'b', label='Validation Accuracy')\n",
    "plt.title('Training and Validation Accuracy')\n",
    "plt.xlabel('epoches')\n",
    "plt.legend()\n",
    "\n",
    "plt.figure()\n",
    "\n",
    "plt.plot(epochs, loss, 'bo', label='Training Loss')\n",
    "plt.plot(epochs, val_loss, 'b', label='Validation Loss')\n",
    "plt.title('Training and Validation Loss')\n",
    "plt.xlabel('epoches')\n",
    "plt.legend()\n",
    "\n",
    "plt.show()"
   ]
  },
  {
   "cell_type": "code",
   "execution_count": 24,
   "metadata": {},
   "outputs": [],
   "source": [
    "Model_weights_path = '/home/ubuntu/data/data/Models/random_PWM_2019_04_25_weights.h5'\n",
    "Model_json_path = \"/home/ubuntu/data/data/Models/random_PWM_2019_04_25.json\""
   ]
  },
  {
   "cell_type": "code",
   "execution_count": 25,
   "metadata": {},
   "outputs": [],
   "source": [
    "model.save_weights(Model_weights_path)\n",
    "model_json = model.to_json()\n",
    "\n",
    "file = open(Model_json_path, \"w\")\n",
    "file.write(model_json)\n",
    "file.close() "
   ]
  },
  {
   "cell_type": "markdown",
   "metadata": {},
   "source": [
    "- The validation trend is not close to the training trend.\n",
    "\n",
    "**Conclusion**:\n",
    "\n",
    "- The result of the experiment shows the model performs poorly when training on random data, which is what we wanted. The model does seem to be learning something. \n"
   ]
  },
  {
   "cell_type": "markdown",
   "metadata": {},
   "source": [
    "### False Discovery Rate"
   ]
  },
  {
   "cell_type": "code",
   "execution_count": 26,
   "metadata": {},
   "outputs": [],
   "source": [
    "from keras.models import model_from_json\n",
    "\n",
    "with open(Model_json_path, 'r') as f:\n",
    "    model = model_from_json(f.read())\n",
    "\n",
    "model.load_weights(Model_weights_path)\n"
   ]
  },
  {
   "cell_type": "code",
   "execution_count": 28,
   "metadata": {},
   "outputs": [
    {
     "name": "stdout",
     "output_type": "stream",
     "text": [
      "The false discovery rate is: 0.5251396648044693\n"
     ]
    }
   ],
   "source": [
    "X_test_rnn = X_test.reshape(480, 1000, 8)\n",
    "results = model.predict(X_test_rnn, batch_size=16)\n",
    "\n",
    "false_positives = 0\n",
    "true_positives = 0\n",
    "total_negatives = 0\n",
    "total_positives = 0\n",
    "true_negatives = 0\n",
    "\n",
    "for i in range(0,results.size):\n",
    "    \n",
    "    if results[i][0]>=0.5 and y_test[i]==0:\n",
    "        false_positives += 1\n",
    "\n",
    "    if results[i][0]>=0.5 and y_test[i]==1:\n",
    "        true_positives += 1\n",
    "        \n",
    "    if results[i][0]<=0.5 and y_test[i]==0:\n",
    "        true_negatives += 1\n",
    "        \n",
    "    if results[i][0] <= 0.5:\n",
    "        total_negatives += 1\n",
    "        \n",
    "    if results[i][0] >= 0.5:\n",
    "        total_positives += 1\n",
    "\n",
    "false_discovery_rate = false_positives/(false_positives + true_positives)\n",
    "print(\"The false discovery rate is: {}\".format(false_discovery_rate))"
   ]
  },
  {
   "cell_type": "code",
   "execution_count": 30,
   "metadata": {},
   "outputs": [
    {
     "name": "stdout",
     "output_type": "stream",
     "text": [
      "ROC Curve\n"
     ]
    },
    {
     "data": {
      "image/png": "[encoded data removed]",
      "text/plain": [
       "<Figure size 432x288 with 1 Axes>"
      ]
     },
     "metadata": {},
     "output_type": "display_data"
    },
    {
     "name": "stdout",
     "output_type": "stream",
     "text": [
      "c-statistic = 0.49920460972850683\n"
     ]
    }
   ],
   "source": [
    "sensitivities = []\n",
    "false_positive_rates =[]\n",
    "discovery_percentage = 0.05\n",
    "\n",
    "while discovery_percentage < 1.0:\n",
    "    \n",
    "    false_positives = 0\n",
    "    true_positives = 0\n",
    "    total_negatives = 0\n",
    "    total_positives = 0\n",
    "    true_negatives = 0\n",
    "    \n",
    "    for i in range(0,results.size):\n",
    "\n",
    "        if results[i][0]>=discovery_percentage and y_train[i]==0:\n",
    "            false_positives += 1\n",
    "\n",
    "        if results[i][0]>=discovery_percentage and y_train[i]==1:\n",
    "            true_positives += 1\n",
    "\n",
    "        if results[i][0]<=discovery_percentage and y_train[i]==0:\n",
    "            true_negatives += 1\n",
    "\n",
    "        if y_train[i]==0:\n",
    "            total_negatives += 1\n",
    "\n",
    "        if y_train[i]==1:\n",
    "            total_positives += 1\n",
    "            \n",
    "    if total_positives != 0 and total_negatives != 0:\n",
    "        sensitivities.append(true_positives / total_positives)\n",
    "        false_positive_rates.append(1-(true_negatives / total_negatives))\n",
    "    \n",
    "    discovery_percentage += 0.05\n",
    "    \n",
    "riemann = 0.0\n",
    "for i in range(0,len(sensitivities) - 1):\n",
    "    riemann += 0.5 * (sensitivities[i]+sensitivities[i+1]) * (false_positive_rates[i]-false_positive_rates[i+1])\n",
    "    \n",
    "\n",
    "print(\"ROC Curve\")\n",
    "plt.plot(false_positive_rates, sensitivities )\n",
    "plt.ylabel('sensitivity')\n",
    "plt.xlabel('false positive rate')\n",
    "plt.show()\n",
    "print(\"c-statistic = \" + str(riemann))\n"
   ]
  },
  {
   "cell_type": "markdown",
   "metadata": {},
   "source": [
    "This model is no better than predicting and outcome than random chance so the model does seem to be learning something. "
   ]
  },
  {
   "cell_type": "code",
   "execution_count": null,
   "metadata": {},
   "outputs": [],
   "source": []
  }
 ],
 "metadata": {
  "kernelspec": {
   "display_name": "Environment (conda_tensorflow_p36)",
   "language": "python",
   "name": "conda_tensorflow_p36"
  },
  "language_info": {
   "codemirror_mode": {
    "name": "ipython",
    "version": 3
   },
   "file_extension": ".py",
   "mimetype": "text/x-python",
   "name": "python",
   "nbconvert_exporter": "python",
   "pygments_lexer": "ipython3",
   "version": "3.6.4"
  }
 },
 "nbformat": 4,
 "nbformat_minor": 2
}
