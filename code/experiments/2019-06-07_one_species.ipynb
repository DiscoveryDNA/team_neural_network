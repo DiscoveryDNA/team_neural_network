{
 "cells": [
  {
   "cell_type": "markdown",
   "metadata": {},
   "source": [
    "**Date**: 2019-05-28\n",
    "\n",
    "**Authors**: Adam Stafford\n",
    "\n",
    "**Purpose**: To test whether only using one species raises the accuracy.\n",
    "\n",
    "**Background**:\n",
    "\n",
    "From previous experiments we realized that our results of over 90% classification accuracy were due to homologous regions of DNA being present in the training and validation sets. Once this error was fixed, our accuracy dropped to under 60%. Since all of the papers that we studied only considered one species, we would like to know if we could get higher accuracy if we only considered one species.\n",
    "\n",
    "**Experiment**:"
   ]
  },
  {
   "cell_type": "code",
   "execution_count": 1,
   "metadata": {},
   "outputs": [
    {
     "name": "stderr",
     "output_type": "stream",
     "text": [
      "/home/ubuntu/anaconda3/envs/tensorflow_p36/lib/python3.6/site-packages/matplotlib/__init__.py:1067: UserWarning: Duplicate key in file \"/home/ubuntu/.config/matplotlib/matplotlibrc\", line #2\n",
      "  (fname, cnt))\n",
      "/home/ubuntu/anaconda3/envs/tensorflow_p36/lib/python3.6/site-packages/matplotlib/__init__.py:1067: UserWarning: Duplicate key in file \"/home/ubuntu/.config/matplotlib/matplotlibrc\", line #3\n",
      "  (fname, cnt))\n"
     ]
    }
   ],
   "source": [
    "import pickle\n",
    "import numpy as np\n",
    "import matplotlib.pyplot as plt"
   ]
  },
  {
   "cell_type": "markdown",
   "metadata": {},
   "source": [
    "Load the `pickle` buffered list:"
   ]
  },
  {
   "cell_type": "code",
   "execution_count": 2,
   "metadata": {},
   "outputs": [],
   "source": [
    "with open(\"../../data/larger_dataset/larger_dataset_buffer.txt\", \"rb\") as buff:\n",
    "    seq_record_list = pickle.load(buff)"
   ]
  },
  {
   "cell_type": "markdown",
   "metadata": {},
   "source": [
    "Creating the training and test sets."
   ]
  },
  {
   "cell_type": "code",
   "execution_count": 3,
   "metadata": {},
   "outputs": [],
   "source": [
    "#from random import shuffle\n",
    "#shuffle(seq_record_list)\n",
    "\n",
    "#seq_record_list = seq_record_list[:4800]"
   ]
  },
  {
   "cell_type": "code",
   "execution_count": 4,
   "metadata": {},
   "outputs": [
    {
     "name": "stdout",
     "output_type": "stream",
     "text": [
      "31176\n",
      "4800\n"
     ]
    }
   ],
   "source": [
    "validation2 = seq_record_list[(len(seq_record_list)//24-200)*24:]\n",
    "training2 = seq_record_list[0:(len(seq_record_list)//24-200)*24]\n",
    "print(len(training2))\n",
    "training = [training2[i] for i in range(0, 31176, 24)]\n",
    "print(len(validation2))\n",
    "validation = [validation2[i] for i in range(0, 4800, 24)]\n",
    "from random import shuffle\n",
    "shuffle(validation)\n",
    "shuffle(training)"
   ]
  },
  {
   "cell_type": "markdown",
   "metadata": {},
   "source": [
    "The following cell transforms the data into a format that is recognizable by the neural network model."
   ]
  },
  {
   "cell_type": "code",
   "execution_count": 5,
   "metadata": {},
   "outputs": [],
   "source": [
    "# A helper function to flatten a 2d list to 1d.\n",
    "# Input: [[1, 2], [2, 3], [3, 4, 5]]\n",
    "# Output: [1, 2, 2, 3, 3, 4, 5]\n",
    "def flatten(lst):\n",
    "    new_lst = []\n",
    "    for sub_lst in lst:\n",
    "        for item in sub_lst:\n",
    "            new_lst.append(item)\n",
    "    return new_lst\n",
    "\n",
    "# A helper function to transform a lst so that its length becomes read_len by:\n",
    "# 1. If len(lst) > read_len, curtail the end of the lst.\n",
    "# 2. If len(lst) < read_len, keep extending the end of the lst with 0 (NA).\n",
    "def curtail(lst, read_len):\n",
    "    if len(lst) > read_len:\n",
    "        lst = lst[:read_len]\n",
    "    else:\n",
    "        for i in range(read_len - len(lst)):\n",
    "            lst.append([0, 0, 0, 0, 0, 0, 0, 0, 0, 0, 0 , 0])\n",
    "    return lst\n",
    "\n",
    "# Produce the train-test split\n",
    "# length_read: the length that you want all DNA sequences to conform to\n",
    "def prepare_input(training, test, length_read):\n",
    "    X_train = []\n",
    "    y_train = []\n",
    "    X_test = []\n",
    "    y_test = []\n",
    "    seq_count = 0\n",
    "    while seq_count < len(training):\n",
    "        X_train.append(flatten(curtail(training[seq_count][3], length_read)))\n",
    "        y_train.append(int(training[seq_count][1]))\n",
    "        seq_count += 1\n",
    "    seq_count = 0\n",
    "    while seq_count < len(test):\n",
    "        X_test.append(flatten(curtail(test[seq_count][3], length_read)))\n",
    "        y_test.append(int(test[seq_count][1]))\n",
    "        seq_count += 1\n",
    "    return X_train, y_train, X_test, y_test\n",
    "\n",
    "# Turn list into numpy tensors that can directly feed into a neural network model\n",
    "def to_np_array(X_train, y_train, X_test, y_test):\n",
    "    X_train = np.array(X_train)\n",
    "    y_train = np.array(y_train)\n",
    "    if len(y_train.shape) == 1:\n",
    "        y_train = np.transpose(np.array([y_train]))\n",
    "    X_test = np.array(X_test)\n",
    "    y_test = np.transpose(np.array(y_test))\n",
    "    if len(y_test.shape) == 1:\n",
    "        y_test = np.transpose(np.array([y_test]))\n",
    "    return X_train, y_train, X_test, y_test"
   ]
  },
  {
   "cell_type": "code",
   "execution_count": 6,
   "metadata": {},
   "outputs": [
    {
     "data": {
      "text/plain": [
       "[(1299, 12000), (1299, 1), (200, 12000), (200, 1)]"
      ]
     },
     "execution_count": 6,
     "metadata": {},
     "output_type": "execute_result"
    }
   ],
   "source": [
    "X_train, y_train, X_test, y_test = prepare_input(training, validation, 1000)\n",
    "X_train, y_train, X_test, y_test = to_np_array(X_train, y_train, X_test, y_test)\n",
    "[X_train.shape, y_train.shape, X_test.shape, y_test.shape]\n"
   ]
  },
  {
   "cell_type": "code",
   "execution_count": 7,
   "metadata": {},
   "outputs": [],
   "source": [
    "# (X_train[0])[:10]"
   ]
  },
  {
   "cell_type": "markdown",
   "metadata": {},
   "source": [
    "The following cells build a recurrent network with one bidirectional LSTM layer."
   ]
  },
  {
   "cell_type": "code",
   "execution_count": 8,
   "metadata": {},
   "outputs": [
    {
     "name": "stderr",
     "output_type": "stream",
     "text": [
      "/home/ubuntu/anaconda3/envs/tensorflow_p36/lib/python3.6/site-packages/h5py/__init__.py:36: FutureWarning: Conversion of the second argument of issubdtype from `float` to `np.floating` is deprecated. In future, it will be treated as `np.float64 == np.dtype(float).type`.\n",
      "  from ._conv import register_converters as _register_converters\n",
      "Using TensorFlow backend.\n"
     ]
    }
   ],
   "source": [
    "from keras.models import Model, Sequential\n",
    "from keras.layers import Dense, CuDNNLSTM, Bidirectional"
   ]
  },
  {
   "cell_type": "code",
   "execution_count": null,
   "metadata": {},
   "outputs": [],
   "source": []
  },
  {
   "cell_type": "code",
   "execution_count": 10,
   "metadata": {},
   "outputs": [],
   "source": [
    "X_train_rnn = X_train.reshape(1299, 1000, 12)\n",
    "X_test_rnn = X_test.reshape(200, 1000, 12)"
   ]
  },
  {
   "cell_type": "code",
   "execution_count": 11,
   "metadata": {
    "scrolled": true
   },
   "outputs": [
    {
     "name": "stdout",
     "output_type": "stream",
     "text": [
      "Train on 1299 samples, validate on 200 samples\n",
      "Epoch 1/150\n",
      "1299/1299 [==============================] - 88s 68ms/step - loss: 0.7089 - acc: 0.4973 - val_loss: 0.7048 - val_acc: 0.4850\n",
      "Epoch 2/150\n",
      "1299/1299 [==============================] - 2s 1ms/step - loss: 0.6946 - acc: 0.5296 - val_loss: 0.6793 - val_acc: 0.6150\n",
      "Epoch 3/150\n",
      "1299/1299 [==============================] - 2s 1ms/step - loss: 0.6898 - acc: 0.5481 - val_loss: 0.6752 - val_acc: 0.6000\n",
      "Epoch 4/150\n",
      "1299/1299 [==============================] - 2s 1ms/step - loss: 0.6815 - acc: 0.5597 - val_loss: 0.6751 - val_acc: 0.5900\n",
      "Epoch 5/150\n",
      "1299/1299 [==============================] - 2s 1ms/step - loss: 0.6775 - acc: 0.5589 - val_loss: 0.6887 - val_acc: 0.5250\n",
      "Epoch 6/150\n",
      "1299/1299 [==============================] - 2s 1ms/step - loss: 0.6728 - acc: 0.5643 - val_loss: 0.6725 - val_acc: 0.5500\n",
      "Epoch 7/150\n",
      "1299/1299 [==============================] - 2s 1ms/step - loss: 0.6698 - acc: 0.5704 - val_loss: 0.6775 - val_acc: 0.5250\n",
      "Epoch 8/150\n",
      "1299/1299 [==============================] - 2s 1ms/step - loss: 0.6676 - acc: 0.5751 - val_loss: 0.6668 - val_acc: 0.6000\n",
      "Epoch 9/150\n",
      "1299/1299 [==============================] - 2s 1ms/step - loss: 0.6661 - acc: 0.5866 - val_loss: 0.6695 - val_acc: 0.5850\n",
      "Epoch 10/150\n",
      "1299/1299 [==============================] - 2s 1ms/step - loss: 0.6635 - acc: 0.5912 - val_loss: 0.6671 - val_acc: 0.5950\n",
      "Epoch 11/150\n",
      "1299/1299 [==============================] - 2s 1ms/step - loss: 0.6622 - acc: 0.5974 - val_loss: 0.6755 - val_acc: 0.5450\n",
      "Epoch 12/150\n",
      "1299/1299 [==============================] - 2s 1ms/step - loss: 0.6619 - acc: 0.5958 - val_loss: 0.6737 - val_acc: 0.5750\n",
      "Epoch 13/150\n",
      "1299/1299 [==============================] - 2s 1ms/step - loss: 0.6593 - acc: 0.6143 - val_loss: 0.6865 - val_acc: 0.4550\n",
      "Epoch 14/150\n",
      "1299/1299 [==============================] - 2s 1ms/step - loss: 0.6583 - acc: 0.6043 - val_loss: 0.6754 - val_acc: 0.5550\n",
      "Epoch 15/150\n",
      "1299/1299 [==============================] - 2s 1ms/step - loss: 0.6549 - acc: 0.6228 - val_loss: 0.6821 - val_acc: 0.5200\n",
      "Epoch 16/150\n",
      "1299/1299 [==============================] - 2s 1ms/step - loss: 0.6543 - acc: 0.6074 - val_loss: 0.6678 - val_acc: 0.5600\n",
      "Epoch 17/150\n",
      "1299/1299 [==============================] - 2s 1ms/step - loss: 0.6526 - acc: 0.6205 - val_loss: 0.6630 - val_acc: 0.6000\n",
      "Epoch 18/150\n",
      "1299/1299 [==============================] - 2s 1ms/step - loss: 0.6513 - acc: 0.6120 - val_loss: 0.6740 - val_acc: 0.5550\n",
      "Epoch 19/150\n",
      "1299/1299 [==============================] - 2s 1ms/step - loss: 0.6489 - acc: 0.6266 - val_loss: 0.7097 - val_acc: 0.4750\n",
      "Epoch 20/150\n",
      "1299/1299 [==============================] - 2s 1ms/step - loss: 0.6490 - acc: 0.6289 - val_loss: 0.6891 - val_acc: 0.5000\n",
      "Epoch 21/150\n",
      "1299/1299 [==============================] - 2s 1ms/step - loss: 0.6476 - acc: 0.6066 - val_loss: 0.6804 - val_acc: 0.5300\n",
      "Epoch 22/150\n",
      "1299/1299 [==============================] - 2s 1ms/step - loss: 0.6454 - acc: 0.6351 - val_loss: 0.6952 - val_acc: 0.4750\n",
      "Epoch 23/150\n",
      "1299/1299 [==============================] - 2s 1ms/step - loss: 0.6442 - acc: 0.6297 - val_loss: 0.6758 - val_acc: 0.5300\n",
      "Epoch 24/150\n",
      "1299/1299 [==============================] - 2s 1ms/step - loss: 0.6434 - acc: 0.6236 - val_loss: 0.6859 - val_acc: 0.5200\n",
      "Epoch 25/150\n",
      "1299/1299 [==============================] - 2s 1ms/step - loss: 0.6419 - acc: 0.6443 - val_loss: 0.6614 - val_acc: 0.6200\n",
      "Epoch 26/150\n",
      "1299/1299 [==============================] - 2s 1ms/step - loss: 0.6408 - acc: 0.6305 - val_loss: 0.7001 - val_acc: 0.5100\n",
      "Epoch 27/150\n",
      "1299/1299 [==============================] - 2s 1ms/step - loss: 0.6393 - acc: 0.6397 - val_loss: 0.6960 - val_acc: 0.5200\n",
      "Epoch 28/150\n",
      "1299/1299 [==============================] - 2s 1ms/step - loss: 0.6371 - acc: 0.6343 - val_loss: 0.6938 - val_acc: 0.5250\n",
      "Epoch 29/150\n",
      "1299/1299 [==============================] - 2s 1ms/step - loss: 0.6352 - acc: 0.6382 - val_loss: 0.6753 - val_acc: 0.5350\n",
      "Epoch 30/150\n",
      "1299/1299 [==============================] - 2s 1ms/step - loss: 0.6336 - acc: 0.6413 - val_loss: 0.7154 - val_acc: 0.4850\n",
      "Epoch 31/150\n",
      "1299/1299 [==============================] - 2s 1ms/step - loss: 0.6305 - acc: 0.6397 - val_loss: 0.6676 - val_acc: 0.5900\n",
      "Epoch 32/150\n",
      "1299/1299 [==============================] - 2s 1ms/step - loss: 0.6295 - acc: 0.6467 - val_loss: 0.7072 - val_acc: 0.5000\n",
      "Epoch 33/150\n",
      "1299/1299 [==============================] - 2s 1ms/step - loss: 0.6288 - acc: 0.6574 - val_loss: 0.6949 - val_acc: 0.5400\n",
      "Epoch 34/150\n",
      "1299/1299 [==============================] - 2s 1ms/step - loss: 0.6262 - acc: 0.6513 - val_loss: 0.7147 - val_acc: 0.4900\n",
      "Epoch 35/150\n",
      "1299/1299 [==============================] - 2s 1ms/step - loss: 0.6236 - acc: 0.6574 - val_loss: 0.6656 - val_acc: 0.6150\n",
      "Epoch 36/150\n",
      "1299/1299 [==============================] - 2s 1ms/step - loss: 0.6259 - acc: 0.6420 - val_loss: 0.6845 - val_acc: 0.5300\n",
      "Epoch 37/150\n",
      "1299/1299 [==============================] - 2s 1ms/step - loss: 0.6206 - acc: 0.6659 - val_loss: 0.6693 - val_acc: 0.6000\n",
      "Epoch 38/150\n",
      "1299/1299 [==============================] - 2s 1ms/step - loss: 0.6200 - acc: 0.6528 - val_loss: 0.7510 - val_acc: 0.4650\n",
      "Epoch 39/150\n",
      "1299/1299 [==============================] - 2s 1ms/step - loss: 0.6203 - acc: 0.6744 - val_loss: 0.6872 - val_acc: 0.5450\n",
      "Epoch 40/150\n",
      "1299/1299 [==============================] - 2s 1ms/step - loss: 0.6162 - acc: 0.6721 - val_loss: 0.6935 - val_acc: 0.5450\n",
      "Epoch 41/150\n",
      "1299/1299 [==============================] - 2s 1ms/step - loss: 0.6151 - acc: 0.6697 - val_loss: 0.7189 - val_acc: 0.5250\n",
      "Epoch 42/150\n",
      "1299/1299 [==============================] - 2s 1ms/step - loss: 0.6125 - acc: 0.6651 - val_loss: 0.6692 - val_acc: 0.5950\n",
      "Epoch 43/150\n",
      "1299/1299 [==============================] - 2s 1ms/step - loss: 0.6121 - acc: 0.6674 - val_loss: 0.7083 - val_acc: 0.5450\n",
      "Epoch 44/150\n",
      "1299/1299 [==============================] - 2s 1ms/step - loss: 0.6081 - acc: 0.6790 - val_loss: 0.7122 - val_acc: 0.5400\n",
      "Epoch 45/150\n",
      "1299/1299 [==============================] - 2s 1ms/step - loss: 0.6081 - acc: 0.6659 - val_loss: 0.6784 - val_acc: 0.5950\n",
      "Epoch 46/150\n",
      "1299/1299 [==============================] - 2s 1ms/step - loss: 0.6098 - acc: 0.6682 - val_loss: 0.6715 - val_acc: 0.5950\n",
      "Epoch 47/150\n",
      "1299/1299 [==============================] - 2s 1ms/step - loss: 0.6030 - acc: 0.6821 - val_loss: 0.6969 - val_acc: 0.5600\n",
      "Epoch 48/150\n",
      "1299/1299 [==============================] - 2s 1ms/step - loss: 0.6063 - acc: 0.6667 - val_loss: 0.6837 - val_acc: 0.5750\n",
      "Epoch 49/150\n",
      "1299/1299 [==============================] - 2s 1ms/step - loss: 0.6042 - acc: 0.6751 - val_loss: 0.6740 - val_acc: 0.5950\n",
      "Epoch 50/150\n",
      "1299/1299 [==============================] - 2s 1ms/step - loss: 0.6045 - acc: 0.6667 - val_loss: 0.7604 - val_acc: 0.5050\n",
      "Epoch 51/150\n",
      "1299/1299 [==============================] - 2s 1ms/step - loss: 0.6027 - acc: 0.6898 - val_loss: 0.6870 - val_acc: 0.5600\n",
      "Epoch 52/150\n",
      "1299/1299 [==============================] - 2s 1ms/step - loss: 0.6001 - acc: 0.6867 - val_loss: 0.7214 - val_acc: 0.5400\n",
      "Epoch 53/150\n",
      "1299/1299 [==============================] - 2s 1ms/step - loss: 0.5959 - acc: 0.6821 - val_loss: 0.7060 - val_acc: 0.5550\n",
      "Epoch 54/150\n",
      "1299/1299 [==============================] - 2s 1ms/step - loss: 0.5941 - acc: 0.6952 - val_loss: 0.6768 - val_acc: 0.6000\n",
      "Epoch 55/150\n",
      "1299/1299 [==============================] - 2s 1ms/step - loss: 0.5925 - acc: 0.6882 - val_loss: 0.6922 - val_acc: 0.5650\n",
      "Epoch 56/150\n",
      "1299/1299 [==============================] - 2s 1ms/step - loss: 0.5892 - acc: 0.6921 - val_loss: 0.6837 - val_acc: 0.5650\n",
      "Epoch 57/150\n",
      "1299/1299 [==============================] - 2s 1ms/step - loss: 0.5932 - acc: 0.6798 - val_loss: 0.7009 - val_acc: 0.5700\n",
      "Epoch 58/150\n",
      "1299/1299 [==============================] - 2s 1ms/step - loss: 0.5877 - acc: 0.6890 - val_loss: 0.6797 - val_acc: 0.5950\n",
      "Epoch 59/150\n",
      "1299/1299 [==============================] - 2s 1ms/step - loss: 0.5885 - acc: 0.6890 - val_loss: 0.7402 - val_acc: 0.5600\n",
      "Epoch 60/150\n",
      "1299/1299 [==============================] - 2s 1ms/step - loss: 0.5864 - acc: 0.6928 - val_loss: 0.6784 - val_acc: 0.5950\n"
     ]
    },
    {
     "name": "stdout",
     "output_type": "stream",
     "text": [
      "Epoch 61/150\n",
      "1299/1299 [==============================] - 2s 1ms/step - loss: 0.5847 - acc: 0.6913 - val_loss: 0.6757 - val_acc: 0.5650\n",
      "Epoch 62/150\n",
      "1299/1299 [==============================] - 2s 1ms/step - loss: 0.5825 - acc: 0.6882 - val_loss: 0.7148 - val_acc: 0.5650\n",
      "Epoch 63/150\n",
      "1299/1299 [==============================] - 2s 1ms/step - loss: 0.5847 - acc: 0.7105 - val_loss: 0.6956 - val_acc: 0.5750\n",
      "Epoch 64/150\n",
      "1299/1299 [==============================] - 2s 1ms/step - loss: 0.5793 - acc: 0.7059 - val_loss: 0.6656 - val_acc: 0.6100\n",
      "Epoch 65/150\n",
      "1299/1299 [==============================] - 2s 1ms/step - loss: 0.5814 - acc: 0.7036 - val_loss: 0.6816 - val_acc: 0.5750\n",
      "Epoch 66/150\n",
      "1299/1299 [==============================] - 2s 1ms/step - loss: 0.5791 - acc: 0.6936 - val_loss: 0.7113 - val_acc: 0.5800\n",
      "Epoch 67/150\n",
      "1299/1299 [==============================] - 2s 1ms/step - loss: 0.5735 - acc: 0.7090 - val_loss: 0.7718 - val_acc: 0.5350\n",
      "Epoch 68/150\n",
      "1299/1299 [==============================] - 2s 1ms/step - loss: 0.5739 - acc: 0.7121 - val_loss: 0.6781 - val_acc: 0.5750\n",
      "Epoch 69/150\n",
      "1299/1299 [==============================] - 2s 1ms/step - loss: 0.5710 - acc: 0.7098 - val_loss: 0.6944 - val_acc: 0.5550\n",
      "Epoch 70/150\n",
      "1299/1299 [==============================] - 2s 1ms/step - loss: 0.5699 - acc: 0.7067 - val_loss: 0.6787 - val_acc: 0.5800\n",
      "Epoch 71/150\n",
      "1299/1299 [==============================] - 2s 1ms/step - loss: 0.5683 - acc: 0.7136 - val_loss: 0.7801 - val_acc: 0.5450\n",
      "Epoch 72/150\n",
      "1299/1299 [==============================] - 2s 1ms/step - loss: 0.5687 - acc: 0.6959 - val_loss: 0.6910 - val_acc: 0.5850\n",
      "Epoch 73/150\n",
      "1299/1299 [==============================] - 2s 1ms/step - loss: 0.5651 - acc: 0.7136 - val_loss: 0.7541 - val_acc: 0.5550\n",
      "Epoch 74/150\n",
      "1299/1299 [==============================] - 2s 1ms/step - loss: 0.5651 - acc: 0.7144 - val_loss: 0.7781 - val_acc: 0.5450\n",
      "Epoch 75/150\n",
      "1299/1299 [==============================] - 2s 1ms/step - loss: 0.5629 - acc: 0.7206 - val_loss: 0.6967 - val_acc: 0.5700\n",
      "Epoch 76/150\n",
      "1299/1299 [==============================] - 2s 1ms/step - loss: 0.5610 - acc: 0.7190 - val_loss: 0.7409 - val_acc: 0.5650\n",
      "Epoch 77/150\n",
      "1299/1299 [==============================] - 2s 1ms/step - loss: 0.5583 - acc: 0.7206 - val_loss: 0.7233 - val_acc: 0.5850\n",
      "Epoch 78/150\n",
      "1299/1299 [==============================] - 2s 1ms/step - loss: 0.5559 - acc: 0.7259 - val_loss: 0.6883 - val_acc: 0.5850\n",
      "Epoch 79/150\n",
      "1299/1299 [==============================] - 2s 1ms/step - loss: 0.5533 - acc: 0.7213 - val_loss: 0.7751 - val_acc: 0.5500\n",
      "Epoch 80/150\n",
      "1299/1299 [==============================] - 2s 1ms/step - loss: 0.5539 - acc: 0.7390 - val_loss: 0.7005 - val_acc: 0.5650\n",
      "Epoch 81/150\n",
      "1299/1299 [==============================] - 2s 1ms/step - loss: 0.5469 - acc: 0.7329 - val_loss: 0.7248 - val_acc: 0.5650\n",
      "Epoch 82/150\n",
      "1299/1299 [==============================] - 2s 2ms/step - loss: 0.5491 - acc: 0.7306 - val_loss: 0.7021 - val_acc: 0.5800\n",
      "Epoch 83/150\n",
      "1299/1299 [==============================] - 2s 2ms/step - loss: 0.5474 - acc: 0.7259 - val_loss: 0.8026 - val_acc: 0.5250\n",
      "Epoch 84/150\n",
      "1299/1299 [==============================] - 2s 1ms/step - loss: 0.5489 - acc: 0.7259 - val_loss: 0.6805 - val_acc: 0.5950\n",
      "Epoch 85/150\n",
      "1299/1299 [==============================] - 2s 1ms/step - loss: 0.5491 - acc: 0.7229 - val_loss: 0.7281 - val_acc: 0.5550\n",
      "Epoch 86/150\n",
      "1299/1299 [==============================] - 2s 1ms/step - loss: 0.5405 - acc: 0.7360 - val_loss: 0.6927 - val_acc: 0.5700\n",
      "Epoch 87/150\n",
      "1299/1299 [==============================] - 2s 1ms/step - loss: 0.5399 - acc: 0.7406 - val_loss: 0.7571 - val_acc: 0.5600\n",
      "Epoch 88/150\n",
      "1299/1299 [==============================] - 2s 1ms/step - loss: 0.5371 - acc: 0.7429 - val_loss: 0.6977 - val_acc: 0.5850\n",
      "Epoch 89/150\n",
      "1299/1299 [==============================] - 2s 1ms/step - loss: 0.5369 - acc: 0.7467 - val_loss: 0.7125 - val_acc: 0.6000\n",
      "Epoch 90/150\n",
      "1299/1299 [==============================] - 2s 1ms/step - loss: 0.5340 - acc: 0.7452 - val_loss: 0.8056 - val_acc: 0.5550\n",
      "Epoch 91/150\n",
      "1299/1299 [==============================] - 2s 1ms/step - loss: 0.5360 - acc: 0.7452 - val_loss: 0.7512 - val_acc: 0.5850\n",
      "Epoch 92/150\n",
      "1299/1299 [==============================] - 2s 1ms/step - loss: 0.5299 - acc: 0.7375 - val_loss: 0.7508 - val_acc: 0.5550\n",
      "Epoch 93/150\n",
      "1299/1299 [==============================] - 2s 1ms/step - loss: 0.5294 - acc: 0.7452 - val_loss: 0.6973 - val_acc: 0.5950\n",
      "Epoch 94/150\n",
      "1299/1299 [==============================] - 2s 1ms/step - loss: 0.5330 - acc: 0.7406 - val_loss: 0.6777 - val_acc: 0.6050\n",
      "Epoch 95/150\n",
      "1299/1299 [==============================] - 2s 1ms/step - loss: 0.5258 - acc: 0.7590 - val_loss: 0.7220 - val_acc: 0.5650\n",
      "Epoch 96/150\n",
      "1299/1299 [==============================] - 2s 1ms/step - loss: 0.5266 - acc: 0.7460 - val_loss: 0.7306 - val_acc: 0.5700\n",
      "Epoch 97/150\n",
      "1299/1299 [==============================] - 2s 1ms/step - loss: 0.5234 - acc: 0.7513 - val_loss: 0.7534 - val_acc: 0.5700\n",
      "Epoch 98/150\n",
      "1299/1299 [==============================] - 2s 1ms/step - loss: 0.5252 - acc: 0.7360 - val_loss: 0.8118 - val_acc: 0.5700\n",
      "Epoch 99/150\n",
      "1299/1299 [==============================] - 2s 1ms/step - loss: 0.5215 - acc: 0.7483 - val_loss: 0.7477 - val_acc: 0.5700\n",
      "Epoch 100/150\n",
      "1299/1299 [==============================] - 2s 1ms/step - loss: 0.5163 - acc: 0.7637 - val_loss: 0.6821 - val_acc: 0.6100\n",
      "Epoch 101/150\n",
      "1299/1299 [==============================] - 2s 2ms/step - loss: 0.5157 - acc: 0.7652 - val_loss: 0.7240 - val_acc: 0.5700\n",
      "Epoch 102/150\n",
      "1299/1299 [==============================] - 2s 1ms/step - loss: 0.5152 - acc: 0.7583 - val_loss: 0.7404 - val_acc: 0.5700\n",
      "Epoch 103/150\n",
      "1299/1299 [==============================] - 2s 1ms/step - loss: 0.5156 - acc: 0.7637 - val_loss: 0.7315 - val_acc: 0.5900\n",
      "Epoch 104/150\n",
      "1299/1299 [==============================] - 2s 1ms/step - loss: 0.5112 - acc: 0.7614 - val_loss: 0.7270 - val_acc: 0.5700\n",
      "Epoch 105/150\n",
      "1299/1299 [==============================] - 2s 1ms/step - loss: 0.5065 - acc: 0.7621 - val_loss: 0.8551 - val_acc: 0.5450\n",
      "Epoch 106/150\n",
      "1299/1299 [==============================] - 2s 1ms/step - loss: 0.5114 - acc: 0.7560 - val_loss: 0.7188 - val_acc: 0.5950\n",
      "Epoch 107/150\n",
      "1299/1299 [==============================] - 2s 1ms/step - loss: 0.5052 - acc: 0.7583 - val_loss: 0.7292 - val_acc: 0.5750\n",
      "Epoch 108/150\n",
      "1299/1299 [==============================] - 2s 1ms/step - loss: 0.5010 - acc: 0.7683 - val_loss: 0.8123 - val_acc: 0.5750\n",
      "Epoch 109/150\n",
      "1299/1299 [==============================] - 2s 1ms/step - loss: 0.5046 - acc: 0.7667 - val_loss: 0.7255 - val_acc: 0.5700\n",
      "Epoch 110/150\n",
      "1299/1299 [==============================] - 2s 1ms/step - loss: 0.4976 - acc: 0.7683 - val_loss: 0.7929 - val_acc: 0.5900\n",
      "Epoch 111/150\n",
      "1299/1299 [==============================] - 2s 1ms/step - loss: 0.5007 - acc: 0.7598 - val_loss: 0.8828 - val_acc: 0.5250\n",
      "Epoch 112/150\n",
      "1299/1299 [==============================] - 2s 1ms/step - loss: 0.5022 - acc: 0.7575 - val_loss: 0.7145 - val_acc: 0.6000\n",
      "Epoch 113/150\n",
      "1299/1299 [==============================] - 2s 1ms/step - loss: 0.4903 - acc: 0.7798 - val_loss: 0.7361 - val_acc: 0.5850\n",
      "Epoch 114/150\n",
      "1299/1299 [==============================] - 2s 1ms/step - loss: 0.4903 - acc: 0.7714 - val_loss: 0.7455 - val_acc: 0.5700\n",
      "Epoch 115/150\n",
      "1299/1299 [==============================] - 2s 1ms/step - loss: 0.4910 - acc: 0.7806 - val_loss: 0.7299 - val_acc: 0.5800\n",
      "Epoch 116/150\n",
      "1299/1299 [==============================] - 2s 1ms/step - loss: 0.4895 - acc: 0.7729 - val_loss: 0.8535 - val_acc: 0.5450\n",
      "Epoch 117/150\n",
      "1299/1299 [==============================] - 2s 1ms/step - loss: 0.4867 - acc: 0.7821 - val_loss: 0.7669 - val_acc: 0.5850\n",
      "Epoch 118/150\n",
      "1299/1299 [==============================] - 2s 1ms/step - loss: 0.4839 - acc: 0.7860 - val_loss: 0.7128 - val_acc: 0.5750\n",
      "Epoch 119/150\n",
      "1299/1299 [==============================] - 2s 1ms/step - loss: 0.4853 - acc: 0.7791 - val_loss: 0.7987 - val_acc: 0.5850\n",
      "Epoch 120/150\n",
      "1299/1299 [==============================] - 2s 1ms/step - loss: 0.4857 - acc: 0.7891 - val_loss: 0.7784 - val_acc: 0.6100\n",
      "Epoch 121/150\n"
     ]
    },
    {
     "name": "stdout",
     "output_type": "stream",
     "text": [
      "1299/1299 [==============================] - 2s 1ms/step - loss: 0.4752 - acc: 0.7898 - val_loss: 0.8124 - val_acc: 0.5850\n",
      "Epoch 122/150\n",
      "1299/1299 [==============================] - 2s 1ms/step - loss: 0.4780 - acc: 0.7998 - val_loss: 0.8161 - val_acc: 0.5750\n",
      "Epoch 123/150\n",
      "1299/1299 [==============================] - 2s 1ms/step - loss: 0.4739 - acc: 0.7929 - val_loss: 0.7656 - val_acc: 0.6100\n",
      "Epoch 124/150\n",
      "1299/1299 [==============================] - 2s 1ms/step - loss: 0.4771 - acc: 0.7968 - val_loss: 0.8385 - val_acc: 0.5750\n",
      "Epoch 125/150\n",
      "1299/1299 [==============================] - 2s 1ms/step - loss: 0.4734 - acc: 0.7860 - val_loss: 0.8354 - val_acc: 0.5650\n",
      "Epoch 126/150\n",
      "1299/1299 [==============================] - 2s 1ms/step - loss: 0.4682 - acc: 0.7929 - val_loss: 0.8119 - val_acc: 0.5900\n",
      "Epoch 127/150\n",
      "1299/1299 [==============================] - 2s 1ms/step - loss: 0.4769 - acc: 0.7775 - val_loss: 0.7284 - val_acc: 0.5900\n",
      "Epoch 128/150\n",
      "1299/1299 [==============================] - 2s 1ms/step - loss: 0.4630 - acc: 0.8037 - val_loss: 0.8295 - val_acc: 0.5650\n",
      "Epoch 129/150\n",
      "1299/1299 [==============================] - 2s 1ms/step - loss: 0.4641 - acc: 0.7991 - val_loss: 0.8111 - val_acc: 0.5800\n",
      "Epoch 130/150\n",
      "1299/1299 [==============================] - 2s 1ms/step - loss: 0.4636 - acc: 0.7975 - val_loss: 0.7683 - val_acc: 0.6050\n",
      "Epoch 131/150\n",
      "1299/1299 [==============================] - 2s 1ms/step - loss: 0.4655 - acc: 0.7975 - val_loss: 0.8574 - val_acc: 0.5700\n",
      "Epoch 132/150\n",
      "1299/1299 [==============================] - 2s 1ms/step - loss: 0.4545 - acc: 0.8022 - val_loss: 0.7182 - val_acc: 0.5950\n",
      "Epoch 133/150\n",
      "1299/1299 [==============================] - 2s 1ms/step - loss: 0.4556 - acc: 0.8014 - val_loss: 0.8281 - val_acc: 0.6050\n",
      "Epoch 134/150\n",
      "1299/1299 [==============================] - 2s 1ms/step - loss: 0.4584 - acc: 0.7952 - val_loss: 0.8179 - val_acc: 0.6000\n",
      "Epoch 135/150\n",
      "1299/1299 [==============================] - 2s 1ms/step - loss: 0.4521 - acc: 0.8068 - val_loss: 0.8116 - val_acc: 0.5800\n",
      "Epoch 136/150\n",
      "1299/1299 [==============================] - 2s 1ms/step - loss: 0.4474 - acc: 0.8083 - val_loss: 0.8573 - val_acc: 0.5950\n",
      "Epoch 137/150\n",
      "1299/1299 [==============================] - 2s 1ms/step - loss: 0.4512 - acc: 0.8022 - val_loss: 0.7712 - val_acc: 0.6000\n",
      "Epoch 138/150\n",
      "1299/1299 [==============================] - 2s 1ms/step - loss: 0.4463 - acc: 0.8129 - val_loss: 0.8728 - val_acc: 0.5800\n",
      "Epoch 139/150\n",
      "1299/1299 [==============================] - 2s 1ms/step - loss: 0.4475 - acc: 0.8037 - val_loss: 0.7366 - val_acc: 0.5800\n",
      "Epoch 140/150\n",
      "1299/1299 [==============================] - 2s 1ms/step - loss: 0.4410 - acc: 0.8037 - val_loss: 0.7362 - val_acc: 0.5950\n",
      "Epoch 141/150\n",
      "1299/1299 [==============================] - 2s 1ms/step - loss: 0.4394 - acc: 0.8145 - val_loss: 0.7380 - val_acc: 0.5900\n",
      "Epoch 142/150\n",
      "1299/1299 [==============================] - 2s 1ms/step - loss: 0.4459 - acc: 0.7983 - val_loss: 0.7543 - val_acc: 0.6000\n",
      "Epoch 143/150\n",
      "1299/1299 [==============================] - 2s 1ms/step - loss: 0.4421 - acc: 0.8052 - val_loss: 0.7629 - val_acc: 0.5750\n",
      "Epoch 144/150\n",
      "1299/1299 [==============================] - 2s 1ms/step - loss: 0.4376 - acc: 0.8176 - val_loss: 0.7671 - val_acc: 0.5850\n",
      "Epoch 145/150\n",
      "1299/1299 [==============================] - 2s 1ms/step - loss: 0.4329 - acc: 0.8214 - val_loss: 0.7824 - val_acc: 0.6000\n",
      "Epoch 146/150\n",
      "1299/1299 [==============================] - 2s 1ms/step - loss: 0.4365 - acc: 0.8114 - val_loss: 0.8123 - val_acc: 0.6100\n",
      "Epoch 147/150\n",
      "1299/1299 [==============================] - 2s 1ms/step - loss: 0.4304 - acc: 0.8160 - val_loss: 0.8579 - val_acc: 0.6050\n",
      "Epoch 148/150\n",
      "1299/1299 [==============================] - 2s 1ms/step - loss: 0.4284 - acc: 0.8183 - val_loss: 0.8973 - val_acc: 0.5400\n",
      "Epoch 149/150\n",
      "1299/1299 [==============================] - 2s 1ms/step - loss: 0.4360 - acc: 0.8137 - val_loss: 0.7896 - val_acc: 0.5750\n",
      "Epoch 150/150\n",
      "1299/1299 [==============================] - 2s 1ms/step - loss: 0.4228 - acc: 0.8199 - val_loss: 0.7586 - val_acc: 0.5800\n"
     ]
    }
   ],
   "source": [
    "model = Sequential()\n",
    "#model.add(CuDNNLSTM(8, input_shape=(1000, 8), return_sequences=True))\n",
    "model.add(Bidirectional(CuDNNLSTM(16), input_shape=(1000, 12)))\n",
    "#model.add(CuDNNLSTM(8, return_sequences=True))\n",
    "#model.add(CuDNNLSTM(4, return_sequences=True))\n",
    "#model.add(CuDNNLSTM(4))\n",
    "model.add(Dense(1, activation='sigmoid'))\n",
    "model.compile(optimizer='rmsprop', loss='binary_crossentropy', metrics=['acc'])\n",
    "history = model.fit(X_train_rnn, y_train, epochs=150, batch_size=128, validation_data=(X_test_rnn, y_test))"
   ]
  },
  {
   "cell_type": "markdown",
   "metadata": {},
   "source": [
    "**Result**:\n",
    "\n",
    "The following cell **visualize** the training/validation accuracies and losses over each epoch."
   ]
  },
  {
   "cell_type": "code",
   "execution_count": 12,
   "metadata": {},
   "outputs": [
    {
     "data": {
      "image/png": "[encoded data removed]",
      "text/plain": [
       "<Figure size 432x288 with 1 Axes>"
      ]
     },
     "metadata": {},
     "output_type": "display_data"
    },
    {
     "data": {
      "image/png": "[encoded data removed]",
      "text/plain": [
       "<Figure size 432x288 with 1 Axes>"
      ]
     },
     "metadata": {},
     "output_type": "display_data"
    }
   ],
   "source": [
    "acc = history.history['acc']\n",
    "val_acc = history.history['val_acc']\n",
    "loss = history.history['loss']\n",
    "val_loss = history.history['val_loss']\n",
    "\n",
    "epochs = range(1, len(acc) + 1)\n",
    "\n",
    "plt.plot(epochs, acc, 'bo', label='Training Accuracy')\n",
    "plt.plot(epochs, val_acc, 'b', label='Validation Accuracy')\n",
    "plt.title('Training and Validation Accuracy')\n",
    "plt.xlabel('epoches')\n",
    "plt.legend()\n",
    "\n",
    "plt.figure()\n",
    "\n",
    "plt.plot(epochs, loss, 'bo', label='Training Loss')\n",
    "plt.plot(epochs, val_loss, 'b', label='Validation Loss')\n",
    "plt.title('Training and Validation Loss')\n",
    "plt.xlabel('epoches')\n",
    "plt.legend()\n",
    "\n",
    "plt.show()"
   ]
  },
  {
   "cell_type": "code",
   "execution_count": 15,
   "metadata": {},
   "outputs": [],
   "source": [
    "Model_weights_path = '/home/ubuntu/data/data/Models/random_PWM_2019_04_25_weights.h5'\n",
    "Model_json_path = \"/home/ubuntu/data/data/Models/random_PWM_2019_04_25.json\""
   ]
  },
  {
   "cell_type": "code",
   "execution_count": 16,
   "metadata": {},
   "outputs": [
    {
     "ename": "OSError",
     "evalue": "Unable to create file (unable to open file: name = '/home/ubuntu/data/data/Models/random_PWM_2019_04_25_weights.h5', errno = 2, error message = 'No such file or directory', flags = 13, o_flags = 242)",
     "output_type": "error",
     "traceback": [
      "\u001b[0;31m---------------------------------------------------------------------------\u001b[0m",
      "\u001b[0;31mOSError\u001b[0m                                   Traceback (most recent call last)",
      "\u001b[0;32m<ipython-input-16-7a0b99f63332>\u001b[0m in \u001b[0;36m<module>\u001b[0;34m()\u001b[0m\n\u001b[0;32m----> 1\u001b[0;31m \u001b[0mmodel\u001b[0m\u001b[0;34m.\u001b[0m\u001b[0msave_weights\u001b[0m\u001b[0;34m(\u001b[0m\u001b[0mModel_weights_path\u001b[0m\u001b[0;34m)\u001b[0m\u001b[0;34m\u001b[0m\u001b[0m\n\u001b[0m\u001b[1;32m      2\u001b[0m \u001b[0mmodel_json\u001b[0m \u001b[0;34m=\u001b[0m \u001b[0mmodel\u001b[0m\u001b[0;34m.\u001b[0m\u001b[0mto_json\u001b[0m\u001b[0;34m(\u001b[0m\u001b[0;34m)\u001b[0m\u001b[0;34m\u001b[0m\u001b[0m\n\u001b[1;32m      3\u001b[0m \u001b[0;34m\u001b[0m\u001b[0m\n\u001b[1;32m      4\u001b[0m \u001b[0mfile\u001b[0m \u001b[0;34m=\u001b[0m \u001b[0mopen\u001b[0m\u001b[0;34m(\u001b[0m\u001b[0mModel_json_path\u001b[0m\u001b[0;34m,\u001b[0m \u001b[0;34m\"w\"\u001b[0m\u001b[0;34m)\u001b[0m\u001b[0;34m\u001b[0m\u001b[0m\n\u001b[1;32m      5\u001b[0m \u001b[0mfile\u001b[0m\u001b[0;34m.\u001b[0m\u001b[0mwrite\u001b[0m\u001b[0;34m(\u001b[0m\u001b[0mmodel_json\u001b[0m\u001b[0;34m)\u001b[0m\u001b[0;34m\u001b[0m\u001b[0m\n",
      "\u001b[0;32m~/anaconda3/envs/tensorflow_p36/lib/python3.6/site-packages/keras/models.py\u001b[0m in \u001b[0;36msave_weights\u001b[0;34m(self, filepath, overwrite)\u001b[0m\n\u001b[1;32m    791\u001b[0m             \u001b[0mlayers\u001b[0m \u001b[0;34m=\u001b[0m \u001b[0mself\u001b[0m\u001b[0;34m.\u001b[0m\u001b[0mlayers\u001b[0m\u001b[0;34m\u001b[0m\u001b[0m\n\u001b[1;32m    792\u001b[0m \u001b[0;34m\u001b[0m\u001b[0m\n\u001b[0;32m--> 793\u001b[0;31m         \u001b[0;32mwith\u001b[0m \u001b[0mh5py\u001b[0m\u001b[0;34m.\u001b[0m\u001b[0mFile\u001b[0m\u001b[0;34m(\u001b[0m\u001b[0mfilepath\u001b[0m\u001b[0;34m,\u001b[0m \u001b[0;34m'w'\u001b[0m\u001b[0;34m)\u001b[0m \u001b[0;32mas\u001b[0m \u001b[0mf\u001b[0m\u001b[0;34m:\u001b[0m\u001b[0;34m\u001b[0m\u001b[0m\n\u001b[0m\u001b[1;32m    794\u001b[0m             \u001b[0mtopology\u001b[0m\u001b[0;34m.\u001b[0m\u001b[0msave_weights_to_hdf5_group\u001b[0m\u001b[0;34m(\u001b[0m\u001b[0mf\u001b[0m\u001b[0;34m,\u001b[0m \u001b[0mlayers\u001b[0m\u001b[0;34m)\u001b[0m\u001b[0;34m\u001b[0m\u001b[0m\n\u001b[1;32m    795\u001b[0m             \u001b[0mf\u001b[0m\u001b[0;34m.\u001b[0m\u001b[0mflush\u001b[0m\u001b[0;34m(\u001b[0m\u001b[0;34m)\u001b[0m\u001b[0;34m\u001b[0m\u001b[0m\n",
      "\u001b[0;32m~/anaconda3/envs/tensorflow_p36/lib/python3.6/site-packages/h5py/_hl/files.py\u001b[0m in \u001b[0;36m__init__\u001b[0;34m(self, name, mode, driver, libver, userblock_size, swmr, **kwds)\u001b[0m\n\u001b[1;32m    267\u001b[0m             \u001b[0;32mwith\u001b[0m \u001b[0mphil\u001b[0m\u001b[0;34m:\u001b[0m\u001b[0;34m\u001b[0m\u001b[0m\n\u001b[1;32m    268\u001b[0m                 \u001b[0mfapl\u001b[0m \u001b[0;34m=\u001b[0m \u001b[0mmake_fapl\u001b[0m\u001b[0;34m(\u001b[0m\u001b[0mdriver\u001b[0m\u001b[0;34m,\u001b[0m \u001b[0mlibver\u001b[0m\u001b[0;34m,\u001b[0m \u001b[0;34m**\u001b[0m\u001b[0mkwds\u001b[0m\u001b[0;34m)\u001b[0m\u001b[0;34m\u001b[0m\u001b[0m\n\u001b[0;32m--> 269\u001b[0;31m                 \u001b[0mfid\u001b[0m \u001b[0;34m=\u001b[0m \u001b[0mmake_fid\u001b[0m\u001b[0;34m(\u001b[0m\u001b[0mname\u001b[0m\u001b[0;34m,\u001b[0m \u001b[0mmode\u001b[0m\u001b[0;34m,\u001b[0m \u001b[0muserblock_size\u001b[0m\u001b[0;34m,\u001b[0m \u001b[0mfapl\u001b[0m\u001b[0;34m,\u001b[0m \u001b[0mswmr\u001b[0m\u001b[0;34m=\u001b[0m\u001b[0mswmr\u001b[0m\u001b[0;34m)\u001b[0m\u001b[0;34m\u001b[0m\u001b[0m\n\u001b[0m\u001b[1;32m    270\u001b[0m \u001b[0;34m\u001b[0m\u001b[0m\n\u001b[1;32m    271\u001b[0m                 \u001b[0;32mif\u001b[0m \u001b[0mswmr_support\u001b[0m\u001b[0;34m:\u001b[0m\u001b[0;34m\u001b[0m\u001b[0m\n",
      "\u001b[0;32m~/anaconda3/envs/tensorflow_p36/lib/python3.6/site-packages/h5py/_hl/files.py\u001b[0m in \u001b[0;36mmake_fid\u001b[0;34m(name, mode, userblock_size, fapl, fcpl, swmr)\u001b[0m\n\u001b[1;32m    103\u001b[0m         \u001b[0mfid\u001b[0m \u001b[0;34m=\u001b[0m \u001b[0mh5f\u001b[0m\u001b[0;34m.\u001b[0m\u001b[0mcreate\u001b[0m\u001b[0;34m(\u001b[0m\u001b[0mname\u001b[0m\u001b[0;34m,\u001b[0m \u001b[0mh5f\u001b[0m\u001b[0;34m.\u001b[0m\u001b[0mACC_EXCL\u001b[0m\u001b[0;34m,\u001b[0m \u001b[0mfapl\u001b[0m\u001b[0;34m=\u001b[0m\u001b[0mfapl\u001b[0m\u001b[0;34m,\u001b[0m \u001b[0mfcpl\u001b[0m\u001b[0;34m=\u001b[0m\u001b[0mfcpl\u001b[0m\u001b[0;34m)\u001b[0m\u001b[0;34m\u001b[0m\u001b[0m\n\u001b[1;32m    104\u001b[0m     \u001b[0;32melif\u001b[0m \u001b[0mmode\u001b[0m \u001b[0;34m==\u001b[0m \u001b[0;34m'w'\u001b[0m\u001b[0;34m:\u001b[0m\u001b[0;34m\u001b[0m\u001b[0m\n\u001b[0;32m--> 105\u001b[0;31m         \u001b[0mfid\u001b[0m \u001b[0;34m=\u001b[0m \u001b[0mh5f\u001b[0m\u001b[0;34m.\u001b[0m\u001b[0mcreate\u001b[0m\u001b[0;34m(\u001b[0m\u001b[0mname\u001b[0m\u001b[0;34m,\u001b[0m \u001b[0mh5f\u001b[0m\u001b[0;34m.\u001b[0m\u001b[0mACC_TRUNC\u001b[0m\u001b[0;34m,\u001b[0m \u001b[0mfapl\u001b[0m\u001b[0;34m=\u001b[0m\u001b[0mfapl\u001b[0m\u001b[0;34m,\u001b[0m \u001b[0mfcpl\u001b[0m\u001b[0;34m=\u001b[0m\u001b[0mfcpl\u001b[0m\u001b[0;34m)\u001b[0m\u001b[0;34m\u001b[0m\u001b[0m\n\u001b[0m\u001b[1;32m    106\u001b[0m     \u001b[0;32melif\u001b[0m \u001b[0mmode\u001b[0m \u001b[0;34m==\u001b[0m \u001b[0;34m'a'\u001b[0m\u001b[0;34m:\u001b[0m\u001b[0;34m\u001b[0m\u001b[0m\n\u001b[1;32m    107\u001b[0m         \u001b[0;31m# Open in append mode (read/write).\u001b[0m\u001b[0;34m\u001b[0m\u001b[0;34m\u001b[0m\u001b[0m\n",
      "\u001b[0;32mh5py/_objects.pyx\u001b[0m in \u001b[0;36mh5py._objects.with_phil.wrapper\u001b[0;34m()\u001b[0m\n",
      "\u001b[0;32mh5py/_objects.pyx\u001b[0m in \u001b[0;36mh5py._objects.with_phil.wrapper\u001b[0;34m()\u001b[0m\n",
      "\u001b[0;32mh5py/h5f.pyx\u001b[0m in \u001b[0;36mh5py.h5f.create\u001b[0;34m()\u001b[0m\n",
      "\u001b[0;31mOSError\u001b[0m: Unable to create file (unable to open file: name = '/home/ubuntu/data/data/Models/random_PWM_2019_04_25_weights.h5', errno = 2, error message = 'No such file or directory', flags = 13, o_flags = 242)"
     ]
    }
   ],
   "source": [
    "model.save_weights(Model_weights_path)\n",
    "model_json = model.to_json()\n",
    "\n",
    "file = open(Model_json_path, \"w\")\n",
    "file.write(model_json)\n",
    "file.close() "
   ]
  },
  {
   "cell_type": "markdown",
   "metadata": {},
   "source": [
    "- The validation trend is not close to the training trend.\n",
    "\n",
    "**Conclusion**:\n",
    "\n",
    "- The result of the experiment shows the model performs poorly when training on random data, which is what we wanted. The model does seem to be learning something. \n"
   ]
  },
  {
   "cell_type": "markdown",
   "metadata": {},
   "source": [
    "### False Discovery Rate"
   ]
  },
  {
   "cell_type": "code",
   "execution_count": 26,
   "metadata": {},
   "outputs": [],
   "source": [
    "from keras.models import model_from_json\n",
    "\n",
    "with open(Model_json_path, 'r') as f:\n",
    "    model = model_from_json(f.read())\n",
    "\n",
    "model.load_weights(Model_weights_path)\n"
   ]
  },
  {
   "cell_type": "code",
   "execution_count": 28,
   "metadata": {},
   "outputs": [
    {
     "name": "stdout",
     "output_type": "stream",
     "text": [
      "The false discovery rate is: 0.5251396648044693\n"
     ]
    }
   ],
   "source": [
    "X_test_rnn = X_test.reshape(480, 1000, 8)\n",
    "results = model.predict(X_test_rnn, batch_size=16)\n",
    "\n",
    "false_positives = 0\n",
    "true_positives = 0\n",
    "total_negatives = 0\n",
    "total_positives = 0\n",
    "true_negatives = 0\n",
    "\n",
    "for i in range(0,results.size):\n",
    "    \n",
    "    if results[i][0]>=0.5 and y_test[i]==0:\n",
    "        false_positives += 1\n",
    "\n",
    "    if results[i][0]>=0.5 and y_test[i]==1:\n",
    "        true_positives += 1\n",
    "        \n",
    "    if results[i][0]<=0.5 and y_test[i]==0:\n",
    "        true_negatives += 1\n",
    "        \n",
    "    if results[i][0] <= 0.5:\n",
    "        total_negatives += 1\n",
    "        \n",
    "    if results[i][0] >= 0.5:\n",
    "        total_positives += 1\n",
    "\n",
    "false_discovery_rate = false_positives/(false_positives + true_positives)\n",
    "print(\"The false discovery rate is: {}\".format(false_discovery_rate))"
   ]
  },
  {
   "cell_type": "code",
   "execution_count": 30,
   "metadata": {},
   "outputs": [
    {
     "name": "stdout",
     "output_type": "stream",
     "text": [
      "ROC Curve\n"
     ]
    },
    {
     "data": {
      "image/png": "[encoded data removed]",
      "text/plain": [
       "<Figure size 432x288 with 1 Axes>"
      ]
     },
     "metadata": {},
     "output_type": "display_data"
    },
    {
     "name": "stdout",
     "output_type": "stream",
     "text": [
      "c-statistic = 0.49920460972850683\n"
     ]
    }
   ],
   "source": [
    "sensitivities = []\n",
    "false_positive_rates =[]\n",
    "discovery_percentage = 0.05\n",
    "\n",
    "while discovery_percentage < 1.0:\n",
    "    \n",
    "    false_positives = 0\n",
    "    true_positives = 0\n",
    "    total_negatives = 0\n",
    "    total_positives = 0\n",
    "    true_negatives = 0\n",
    "    \n",
    "    for i in range(0,results.size):\n",
    "\n",
    "        if results[i][0]>=discovery_percentage and y_train[i]==0:\n",
    "            false_positives += 1\n",
    "\n",
    "        if results[i][0]>=discovery_percentage and y_train[i]==1:\n",
    "            true_positives += 1\n",
    "\n",
    "        if results[i][0]<=discovery_percentage and y_train[i]==0:\n",
    "            true_negatives += 1\n",
    "\n",
    "        if y_train[i]==0:\n",
    "            total_negatives += 1\n",
    "\n",
    "        if y_train[i]==1:\n",
    "            total_positives += 1\n",
    "            \n",
    "    if total_positives != 0 and total_negatives != 0:\n",
    "        sensitivities.append(true_positives / total_positives)\n",
    "        false_positive_rates.append(1-(true_negatives / total_negatives))\n",
    "    \n",
    "    discovery_percentage += 0.05\n",
    "    \n",
    "riemann = 0.0\n",
    "for i in range(0,len(sensitivities) - 1):\n",
    "    riemann += 0.5 * (sensitivities[i]+sensitivities[i+1]) * (false_positive_rates[i]-false_positive_rates[i+1])\n",
    "    \n",
    "\n",
    "print(\"ROC Curve\")\n",
    "plt.plot(false_positive_rates, sensitivities )\n",
    "plt.ylabel('sensitivity')\n",
    "plt.xlabel('false positive rate')\n",
    "plt.show()\n",
    "print(\"c-statistic = \" + str(riemann))\n"
   ]
  },
  {
   "cell_type": "markdown",
   "metadata": {},
   "source": [
    "This model is no better than predicting and outcome than random chance so the model does seem to be learning something. "
   ]
  },
  {
   "cell_type": "code",
   "execution_count": null,
   "metadata": {},
   "outputs": [],
   "source": []
  }
 ],
 "metadata": {
  "kernelspec": {
   "display_name": "Environment (conda_tensorflow_p36)",
   "language": "python",
   "name": "conda_tensorflow_p36"
  },
  "language_info": {
   "codemirror_mode": {
    "name": "ipython",
    "version": 3
   },
   "file_extension": ".py",
   "mimetype": "text/x-python",
   "name": "python",
   "nbconvert_exporter": "python",
   "pygments_lexer": "ipython3",
   "version": "3.6.4"
  }
 },
 "nbformat": 4,
 "nbformat_minor": 2
}
