{
 "cells": [
  {
   "cell_type": "markdown",
   "metadata": {},
   "source": [
    "**Date**: 2019-05-28\n",
    "\n",
    "**Authors**: Adam Stafford\n",
    "\n",
    "**Purpose**: To test whether only using one species raises the accuracy.\n",
    "\n",
    "**Background**:\n",
    "\n",
    "From previous experiments we realized that our results of over 90% classification accuracy were due to homologous regions of DNA being present in the training and validation sets. Once this error was fixed, our accuracy dropped to under 60%. Restricting our data to one species, Drosophila Melanogaster, did not make a significant difference on accuracy. I would like to try a new approach, adding an attention layer to the neural network.  \n",
    "\n",
    "**Experiment**:"
   ]
  },
  {
   "cell_type": "code",
   "execution_count": 1,
   "metadata": {},
   "outputs": [
    {
     "name": "stdout",
     "output_type": "stream",
     "text": [
      "Collecting keras_self_attention\n",
      "  Downloading https://files.pythonhosted.org/packages/1b/1c/01599219bef7266fa43b3316e4f55bcb487734d3bafdc60ffd564f3cfe29/keras-self-attention-0.41.0.tar.gz\n",
      "Requirement already satisfied: numpy in /home/ubuntu/anaconda3/envs/tensorflow_p36/lib/python3.6/site-packages (from keras_self_attention) (1.16.3)\n",
      "Requirement already satisfied: Keras in /home/ubuntu/anaconda3/envs/tensorflow_p36/lib/python3.6/site-packages (from keras_self_attention) (2.1.6)\n",
      "Requirement already satisfied: h5py in /home/ubuntu/anaconda3/envs/tensorflow_p36/lib/python3.6/site-packages (from Keras->keras_self_attention) (2.9.0)\n",
      "Requirement already satisfied: pyyaml in /home/ubuntu/anaconda3/envs/tensorflow_p36/lib/python3.6/site-packages (from Keras->keras_self_attention) (5.1)\n",
      "Requirement already satisfied: scipy>=0.14 in /home/ubuntu/anaconda3/envs/tensorflow_p36/lib/python3.6/site-packages (from Keras->keras_self_attention) (1.3.0)\n",
      "Requirement already satisfied: six>=1.9.0 in /home/ubuntu/anaconda3/envs/tensorflow_p36/lib/python3.6/site-packages (from Keras->keras_self_attention) (1.12.0)\n",
      "Building wheels for collected packages: keras-self-attention\n",
      "  Running setup.py bdist_wheel for keras-self-attention ... \u001b[?25ldone\n",
      "\u001b[?25h  Stored in directory: /home/ubuntu/.cache/pip/wheels/cc/dc/17/84258b27a04cd38ac91998abe148203720ca696186635db694\n",
      "Successfully built keras-self-attention\n",
      "\u001b[31mdocker-compose 1.23.2 has requirement PyYAML<4,>=3.10, but you'll have pyyaml 5.1 which is incompatible.\u001b[0m\n",
      "Installing collected packages: keras-self-attention\n",
      "Successfully installed keras-self-attention-0.41.0\n",
      "\u001b[33mYou are using pip version 10.0.1, however version 19.1.1 is available.\n",
      "You should consider upgrading via the 'pip install --upgrade pip' command.\u001b[0m\n"
     ]
    },
    {
     "name": "stderr",
     "output_type": "stream",
     "text": [
      "Using TensorFlow backend.\n"
     ]
    }
   ],
   "source": [
    "import pickle\n",
    "import numpy as np\n",
    "import matplotlib.pyplot as plt\n",
    "!python3 -m pip install keras_self_attention\n",
    "from keras.models import Model, Sequential\n",
    "from keras.layers import Dense, CuDNNLSTM, Bidirectional\n",
    "from keras_self_attention import SeqSelfAttention"
   ]
  },
  {
   "cell_type": "markdown",
   "metadata": {},
   "source": [
    "Load the `pickle` buffered list:"
   ]
  },
  {
   "cell_type": "code",
   "execution_count": 2,
   "metadata": {},
   "outputs": [],
   "source": [
    "with open(\"../../data/larger_dataset/larger_dataset_buffer.txt\", \"rb\") as buff:\n",
    "    seq_record_list = pickle.load(buff)"
   ]
  },
  {
   "cell_type": "markdown",
   "metadata": {},
   "source": [
    "Creating the training and test sets."
   ]
  },
  {
   "cell_type": "code",
   "execution_count": 3,
   "metadata": {},
   "outputs": [],
   "source": [
    "#from random import shuffle\n",
    "#shuffle(seq_record_list)\n",
    "\n",
    "#seq_record_list = seq_record_list[:4800]"
   ]
  },
  {
   "cell_type": "code",
   "execution_count": 4,
   "metadata": {},
   "outputs": [
    {
     "name": "stdout",
     "output_type": "stream",
     "text": [
      "31176\n",
      "4800\n"
     ]
    }
   ],
   "source": [
    "validation2 = seq_record_list[(len(seq_record_list)//24-200)*24:]\n",
    "training2 = seq_record_list[0:(len(seq_record_list)//24-200)*24]\n",
    "print(len(training2))\n",
    "training = [training2[i] for i in range(0, 31176, 24)]\n",
    "print(len(validation2))\n",
    "validation = [validation2[i] for i in range(0, 4800, 24)]\n",
    "from random import shuffle\n",
    "shuffle(validation)\n",
    "shuffle(training)"
   ]
  },
  {
   "cell_type": "markdown",
   "metadata": {},
   "source": [
    "The following cell transforms the data into a format that is recognizable by the neural network model."
   ]
  },
  {
   "cell_type": "code",
   "execution_count": 5,
   "metadata": {},
   "outputs": [],
   "source": [
    "# A helper function to flatten a 2d list to 1d.\n",
    "# Input: [[1, 2], [2, 3], [3, 4, 5]]\n",
    "# Output: [1, 2, 2, 3, 3, 4, 5]\n",
    "def flatten(lst):\n",
    "    new_lst = []\n",
    "    for sub_lst in lst:\n",
    "        for item in sub_lst:\n",
    "            new_lst.append(item)\n",
    "    return new_lst\n",
    "\n",
    "# A helper function to transform a lst so that its length becomes read_len by:\n",
    "# 1. If len(lst) > read_len, curtail the end of the lst.\n",
    "# 2. If len(lst) < read_len, keep extending the end of the lst with 0 (NA).\n",
    "def curtail(lst, read_len):\n",
    "    if len(lst) > read_len:\n",
    "        lst = lst[:read_len]\n",
    "    else:\n",
    "        for i in range(read_len - len(lst)):\n",
    "            lst.append([0, 0, 0, 0, 0, 0, 0, 0, 0, 0, 0 , 0])\n",
    "    return lst\n",
    "\n",
    "# Produce the train-test split\n",
    "# length_read: the length that you want all DNA sequences to conform to\n",
    "def prepare_input(training, test, length_read):\n",
    "    X_train = []\n",
    "    y_train = []\n",
    "    X_test = []\n",
    "    y_test = []\n",
    "    seq_count = 0\n",
    "    while seq_count < len(training):\n",
    "        X_train.append(flatten(curtail(training[seq_count][3], length_read)))\n",
    "        y_train.append(int(training[seq_count][1]))\n",
    "        seq_count += 1\n",
    "    seq_count = 0\n",
    "    while seq_count < len(test):\n",
    "        X_test.append(flatten(curtail(test[seq_count][3], length_read)))\n",
    "        y_test.append(int(test[seq_count][1]))\n",
    "        seq_count += 1\n",
    "    return X_train, y_train, X_test, y_test\n",
    "\n",
    "# Turn list into numpy tensors that can directly feed into a neural network model\n",
    "def to_np_array(X_train, y_train, X_test, y_test):\n",
    "    X_train = np.array(X_train)\n",
    "    y_train = np.array(y_train)\n",
    "    if len(y_train.shape) == 1:\n",
    "        y_train = np.transpose(np.array([y_train]))\n",
    "    X_test = np.array(X_test)\n",
    "    y_test = np.transpose(np.array(y_test))\n",
    "    if len(y_test.shape) == 1:\n",
    "        y_test = np.transpose(np.array([y_test]))\n",
    "    return X_train, y_train, X_test, y_test"
   ]
  },
  {
   "cell_type": "code",
   "execution_count": 6,
   "metadata": {},
   "outputs": [
    {
     "data": {
      "text/plain": [
       "[(1299, 12000), (1299, 1), (200, 12000), (200, 1)]"
      ]
     },
     "execution_count": 6,
     "metadata": {},
     "output_type": "execute_result"
    }
   ],
   "source": [
    "X_train, y_train, X_test, y_test = prepare_input(training, validation, 1000)\n",
    "X_train, y_train, X_test, y_test = to_np_array(X_train, y_train, X_test, y_test)\n",
    "[X_train.shape, y_train.shape, X_test.shape, y_test.shape]\n"
   ]
  },
  {
   "cell_type": "code",
   "execution_count": 7,
   "metadata": {},
   "outputs": [],
   "source": [
    "# (X_train[0])[:10]"
   ]
  },
  {
   "cell_type": "markdown",
   "metadata": {},
   "source": [
    "The following cells build a recurrent network with one bidirectional LSTM layer."
   ]
  },
  {
   "cell_type": "code",
   "execution_count": null,
   "metadata": {},
   "outputs": [],
   "source": []
  },
  {
   "cell_type": "code",
   "execution_count": 8,
   "metadata": {},
   "outputs": [],
   "source": [
    "from keras.layers import Embedding, LSTM, Flatten"
   ]
  },
  {
   "cell_type": "code",
   "execution_count": 9,
   "metadata": {},
   "outputs": [],
   "source": [
    "X_train_rnn = X_train.reshape(1299, 1000, 12)\n",
    "X_test_rnn = X_test.reshape(200, 1000, 12)"
   ]
  },
  {
   "cell_type": "code",
   "execution_count": 10,
   "metadata": {
    "scrolled": true
   },
   "outputs": [
    {
     "name": "stdout",
     "output_type": "stream",
     "text": [
      "Train on 1299 samples, validate on 200 samples\n",
      "Epoch 1/30\n",
      "1299/1299 [==============================] - 161s 124ms/step - loss: 2.5557 - acc: 0.5166 - val_loss: 0.6737 - val_acc: 0.6050\n",
      "Epoch 2/30\n",
      "1299/1299 [==============================] - 51s 39ms/step - loss: 0.8198 - acc: 0.5312 - val_loss: 1.0093 - val_acc: 0.4050\n",
      "Epoch 3/30\n",
      "1299/1299 [==============================] - 51s 39ms/step - loss: 0.7408 - acc: 0.5042 - val_loss: 0.7475 - val_acc: 0.6150\n",
      "Epoch 4/30\n",
      "1299/1299 [==============================] - 51s 39ms/step - loss: 0.7066 - acc: 0.5420 - val_loss: 0.6667 - val_acc: 0.5650\n",
      "Epoch 5/30\n",
      "1299/1299 [==============================] - 51s 39ms/step - loss: 0.7036 - acc: 0.5266 - val_loss: 0.7060 - val_acc: 0.4800\n",
      "Epoch 6/30\n",
      "1299/1299 [==============================] - 51s 39ms/step - loss: 0.6976 - acc: 0.5173 - val_loss: 0.7039 - val_acc: 0.5100\n",
      "Epoch 7/30\n",
      "1299/1299 [==============================] - 51s 39ms/step - loss: 0.6893 - acc: 0.5627 - val_loss: 0.7487 - val_acc: 0.4650\n",
      "Epoch 8/30\n",
      "1299/1299 [==============================] - 51s 39ms/step - loss: 0.6958 - acc: 0.5343 - val_loss: 0.6818 - val_acc: 0.5100\n",
      "Epoch 9/30\n",
      "1299/1299 [==============================] - 51s 39ms/step - loss: 0.6841 - acc: 0.5435 - val_loss: 0.6815 - val_acc: 0.5250\n",
      "Epoch 10/30\n",
      "1299/1299 [==============================] - 51s 39ms/step - loss: 0.6911 - acc: 0.5319 - val_loss: 0.6875 - val_acc: 0.5150\n",
      "Epoch 11/30\n",
      "1299/1299 [==============================] - 51s 39ms/step - loss: 0.6870 - acc: 0.5443 - val_loss: 0.8026 - val_acc: 0.4500\n",
      "Epoch 12/30\n",
      "1299/1299 [==============================] - 51s 39ms/step - loss: 0.6851 - acc: 0.5589 - val_loss: 0.6708 - val_acc: 0.5700\n",
      "Epoch 13/30\n",
      "1299/1299 [==============================] - 51s 39ms/step - loss: 0.6870 - acc: 0.5589 - val_loss: 0.7079 - val_acc: 0.4800\n",
      "Epoch 14/30\n",
      "1299/1299 [==============================] - 51s 39ms/step - loss: 0.6875 - acc: 0.5427 - val_loss: 0.7266 - val_acc: 0.4400\n",
      "Epoch 15/30\n",
      "1299/1299 [==============================] - 51s 39ms/step - loss: 0.6875 - acc: 0.5535 - val_loss: 0.6642 - val_acc: 0.6200\n",
      "Epoch 16/30\n",
      "1299/1299 [==============================] - 51s 39ms/step - loss: 0.6862 - acc: 0.5458 - val_loss: 0.7225 - val_acc: 0.4350\n",
      "Epoch 17/30\n",
      "1299/1299 [==============================] - 51s 39ms/step - loss: 0.6861 - acc: 0.5427 - val_loss: 0.6937 - val_acc: 0.4950\n",
      "Epoch 18/30\n",
      "1299/1299 [==============================] - 51s 39ms/step - loss: 0.6847 - acc: 0.5489 - val_loss: 0.6657 - val_acc: 0.5750\n",
      "Epoch 19/30\n",
      "1299/1299 [==============================] - 51s 39ms/step - loss: 0.6854 - acc: 0.5412 - val_loss: 0.6615 - val_acc: 0.6100\n",
      "Epoch 20/30\n",
      "1299/1299 [==============================] - 51s 39ms/step - loss: 0.6846 - acc: 0.5543 - val_loss: 0.6658 - val_acc: 0.5600\n",
      "Epoch 21/30\n",
      "1299/1299 [==============================] - 51s 39ms/step - loss: 0.6821 - acc: 0.5527 - val_loss: 0.6894 - val_acc: 0.5050\n",
      "Epoch 22/30\n",
      "1299/1299 [==============================] - 51s 39ms/step - loss: 0.6839 - acc: 0.5520 - val_loss: 0.6907 - val_acc: 0.4700\n",
      "Epoch 23/30\n",
      "1299/1299 [==============================] - 51s 39ms/step - loss: 0.6833 - acc: 0.5604 - val_loss: 0.6719 - val_acc: 0.5450\n",
      "Epoch 24/30\n",
      "1299/1299 [==============================] - 51s 39ms/step - loss: 0.6836 - acc: 0.5558 - val_loss: 0.6719 - val_acc: 0.5550\n",
      "Epoch 25/30\n",
      "1299/1299 [==============================] - 51s 39ms/step - loss: 0.6784 - acc: 0.5620 - val_loss: 0.6751 - val_acc: 0.5450\n",
      "Epoch 26/30\n",
      "1299/1299 [==============================] - 51s 39ms/step - loss: 0.6815 - acc: 0.5574 - val_loss: 0.6639 - val_acc: 0.6000\n",
      "Epoch 27/30\n",
      "1299/1299 [==============================] - 51s 39ms/step - loss: 0.6803 - acc: 0.5381 - val_loss: 0.6681 - val_acc: 0.5700\n",
      "Epoch 28/30\n",
      "1299/1299 [==============================] - 51s 39ms/step - loss: 0.6827 - acc: 0.5612 - val_loss: 0.6773 - val_acc: 0.5500\n",
      "Epoch 29/30\n",
      "1299/1299 [==============================] - 51s 39ms/step - loss: 0.6811 - acc: 0.5666 - val_loss: 0.6727 - val_acc: 0.5750\n",
      "Epoch 30/30\n",
      "1299/1299 [==============================] - 51s 39ms/step - loss: 0.6779 - acc: 0.5658 - val_loss: 0.6767 - val_acc: 0.5400\n"
     ]
    }
   ],
   "source": [
    "model = Sequential()\n",
    "#model.add(CuDNNLSTM(8, input_shape=(1000, 8), return_sequences=True))\n",
    "model.add(Bidirectional(CuDNNLSTM(16, return_sequences = True), input_shape=(1000,12)))\n",
    "model.add(SeqSelfAttention(attention_activation='sigmoid'))\n",
    "#model.add(CuDNNLSTM(8, return_sequences=True))\n",
    "#model.add(CuDNNLSTM(4, return_sequences=True))\n",
    "#model.add(CuDNNLSTM(4))\n",
    "model.add(Flatten())\n",
    "model.add(Dense(1, activation='sigmoid'))\n",
    "model.compile(optimizer='rmsprop', loss='binary_crossentropy', metrics=['acc'])\n",
    "history = model.fit(X_train_rnn, y_train, epochs=30, batch_size=16, validation_data=(X_test_rnn, y_test))"
   ]
  },
  {
   "cell_type": "markdown",
   "metadata": {},
   "source": [
    "**Result**:\n",
    "\n",
    "The following cell **visualize** the training/validation accuracies and losses over each epoch."
   ]
  },
  {
   "cell_type": "code",
   "execution_count": 11,
   "metadata": {},
   "outputs": [
    {
     "data": {
      "image/png": "[encoded data removed]",
      "text/plain": [
       "<Figure size 432x288 with 1 Axes>"
      ]
     },
     "metadata": {},
     "output_type": "display_data"
    },
    {
     "data": {
      "image/png": "[encoded data removed]",
      "text/plain": [
       "<Figure size 432x288 with 1 Axes>"
      ]
     },
     "metadata": {},
     "output_type": "display_data"
    }
   ],
   "source": [
    "acc = history.history['acc']\n",
    "val_acc = history.history['val_acc']\n",
    "loss = history.history['loss']\n",
    "val_loss = history.history['val_loss']\n",
    "\n",
    "epochs = range(1, len(acc) + 1)\n",
    "\n",
    "plt.plot(epochs, acc, 'bo', label='Training Accuracy')\n",
    "plt.plot(epochs, val_acc, 'b', label='Validation Accuracy')\n",
    "plt.title('Training and Validation Accuracy')\n",
    "plt.xlabel('epoches')\n",
    "plt.legend()\n",
    "\n",
    "plt.figure()\n",
    "\n",
    "plt.plot(epochs, loss, 'bo', label='Training Loss')\n",
    "plt.plot(epochs, val_loss, 'b', label='Validation Loss')\n",
    "plt.title('Training and Validation Loss')\n",
    "plt.xlabel('epoches')\n",
    "plt.legend()\n",
    "\n",
    "plt.show()"
   ]
  },
  {
   "cell_type": "code",
   "execution_count": 15,
   "metadata": {},
   "outputs": [],
   "source": [
    "Model_weights_path = '/home/ubuntu/data/data/Models/random_PWM_2019_04_25_weights.h5'\n",
    "Model_json_path = \"/home/ubuntu/data/data/Models/random_PWM_2019_04_25.json\""
   ]
  },
  {
   "cell_type": "code",
   "execution_count": 16,
   "metadata": {},
   "outputs": [
    {
     "ename": "OSError",
     "evalue": "Unable to create file (unable to open file: name = '/home/ubuntu/data/data/Models/random_PWM_2019_04_25_weights.h5', errno = 2, error message = 'No such file or directory', flags = 13, o_flags = 242)",
     "output_type": "error",
     "traceback": [
      "\u001b[0;31m---------------------------------------------------------------------------\u001b[0m",
      "\u001b[0;31mOSError\u001b[0m                                   Traceback (most recent call last)",
      "\u001b[0;32m<ipython-input-16-7a0b99f63332>\u001b[0m in \u001b[0;36m<module>\u001b[0;34m()\u001b[0m\n\u001b[0;32m----> 1\u001b[0;31m \u001b[0mmodel\u001b[0m\u001b[0;34m.\u001b[0m\u001b[0msave_weights\u001b[0m\u001b[0;34m(\u001b[0m\u001b[0mModel_weights_path\u001b[0m\u001b[0;34m)\u001b[0m\u001b[0;34m\u001b[0m\u001b[0m\n\u001b[0m\u001b[1;32m      2\u001b[0m \u001b[0mmodel_json\u001b[0m \u001b[0;34m=\u001b[0m \u001b[0mmodel\u001b[0m\u001b[0;34m.\u001b[0m\u001b[0mto_json\u001b[0m\u001b[0;34m(\u001b[0m\u001b[0;34m)\u001b[0m\u001b[0;34m\u001b[0m\u001b[0m\n\u001b[1;32m      3\u001b[0m \u001b[0;34m\u001b[0m\u001b[0m\n\u001b[1;32m      4\u001b[0m \u001b[0mfile\u001b[0m \u001b[0;34m=\u001b[0m \u001b[0mopen\u001b[0m\u001b[0;34m(\u001b[0m\u001b[0mModel_json_path\u001b[0m\u001b[0;34m,\u001b[0m \u001b[0;34m\"w\"\u001b[0m\u001b[0;34m)\u001b[0m\u001b[0;34m\u001b[0m\u001b[0m\n\u001b[1;32m      5\u001b[0m \u001b[0mfile\u001b[0m\u001b[0;34m.\u001b[0m\u001b[0mwrite\u001b[0m\u001b[0;34m(\u001b[0m\u001b[0mmodel_json\u001b[0m\u001b[0;34m)\u001b[0m\u001b[0;34m\u001b[0m\u001b[0m\n",
      "\u001b[0;32m~/anaconda3/envs/tensorflow_p36/lib/python3.6/site-packages/keras/models.py\u001b[0m in \u001b[0;36msave_weights\u001b[0;34m(self, filepath, overwrite)\u001b[0m\n\u001b[1;32m    791\u001b[0m             \u001b[0mlayers\u001b[0m \u001b[0;34m=\u001b[0m \u001b[0mself\u001b[0m\u001b[0;34m.\u001b[0m\u001b[0mlayers\u001b[0m\u001b[0;34m\u001b[0m\u001b[0m\n\u001b[1;32m    792\u001b[0m \u001b[0;34m\u001b[0m\u001b[0m\n\u001b[0;32m--> 793\u001b[0;31m         \u001b[0;32mwith\u001b[0m \u001b[0mh5py\u001b[0m\u001b[0;34m.\u001b[0m\u001b[0mFile\u001b[0m\u001b[0;34m(\u001b[0m\u001b[0mfilepath\u001b[0m\u001b[0;34m,\u001b[0m \u001b[0;34m'w'\u001b[0m\u001b[0;34m)\u001b[0m \u001b[0;32mas\u001b[0m \u001b[0mf\u001b[0m\u001b[0;34m:\u001b[0m\u001b[0;34m\u001b[0m\u001b[0m\n\u001b[0m\u001b[1;32m    794\u001b[0m             \u001b[0mtopology\u001b[0m\u001b[0;34m.\u001b[0m\u001b[0msave_weights_to_hdf5_group\u001b[0m\u001b[0;34m(\u001b[0m\u001b[0mf\u001b[0m\u001b[0;34m,\u001b[0m \u001b[0mlayers\u001b[0m\u001b[0;34m)\u001b[0m\u001b[0;34m\u001b[0m\u001b[0m\n\u001b[1;32m    795\u001b[0m             \u001b[0mf\u001b[0m\u001b[0;34m.\u001b[0m\u001b[0mflush\u001b[0m\u001b[0;34m(\u001b[0m\u001b[0;34m)\u001b[0m\u001b[0;34m\u001b[0m\u001b[0m\n",
      "\u001b[0;32m~/anaconda3/envs/tensorflow_p36/lib/python3.6/site-packages/h5py/_hl/files.py\u001b[0m in \u001b[0;36m__init__\u001b[0;34m(self, name, mode, driver, libver, userblock_size, swmr, **kwds)\u001b[0m\n\u001b[1;32m    267\u001b[0m             \u001b[0;32mwith\u001b[0m \u001b[0mphil\u001b[0m\u001b[0;34m:\u001b[0m\u001b[0;34m\u001b[0m\u001b[0m\n\u001b[1;32m    268\u001b[0m                 \u001b[0mfapl\u001b[0m \u001b[0;34m=\u001b[0m \u001b[0mmake_fapl\u001b[0m\u001b[0;34m(\u001b[0m\u001b[0mdriver\u001b[0m\u001b[0;34m,\u001b[0m \u001b[0mlibver\u001b[0m\u001b[0;34m,\u001b[0m \u001b[0;34m**\u001b[0m\u001b[0mkwds\u001b[0m\u001b[0;34m)\u001b[0m\u001b[0;34m\u001b[0m\u001b[0m\n\u001b[0;32m--> 269\u001b[0;31m                 \u001b[0mfid\u001b[0m \u001b[0;34m=\u001b[0m \u001b[0mmake_fid\u001b[0m\u001b[0;34m(\u001b[0m\u001b[0mname\u001b[0m\u001b[0;34m,\u001b[0m \u001b[0mmode\u001b[0m\u001b[0;34m,\u001b[0m \u001b[0muserblock_size\u001b[0m\u001b[0;34m,\u001b[0m \u001b[0mfapl\u001b[0m\u001b[0;34m,\u001b[0m \u001b[0mswmr\u001b[0m\u001b[0;34m=\u001b[0m\u001b[0mswmr\u001b[0m\u001b[0;34m)\u001b[0m\u001b[0;34m\u001b[0m\u001b[0m\n\u001b[0m\u001b[1;32m    270\u001b[0m \u001b[0;34m\u001b[0m\u001b[0m\n\u001b[1;32m    271\u001b[0m                 \u001b[0;32mif\u001b[0m \u001b[0mswmr_support\u001b[0m\u001b[0;34m:\u001b[0m\u001b[0;34m\u001b[0m\u001b[0m\n",
      "\u001b[0;32m~/anaconda3/envs/tensorflow_p36/lib/python3.6/site-packages/h5py/_hl/files.py\u001b[0m in \u001b[0;36mmake_fid\u001b[0;34m(name, mode, userblock_size, fapl, fcpl, swmr)\u001b[0m\n\u001b[1;32m    103\u001b[0m         \u001b[0mfid\u001b[0m \u001b[0;34m=\u001b[0m \u001b[0mh5f\u001b[0m\u001b[0;34m.\u001b[0m\u001b[0mcreate\u001b[0m\u001b[0;34m(\u001b[0m\u001b[0mname\u001b[0m\u001b[0;34m,\u001b[0m \u001b[0mh5f\u001b[0m\u001b[0;34m.\u001b[0m\u001b[0mACC_EXCL\u001b[0m\u001b[0;34m,\u001b[0m \u001b[0mfapl\u001b[0m\u001b[0;34m=\u001b[0m\u001b[0mfapl\u001b[0m\u001b[0;34m,\u001b[0m \u001b[0mfcpl\u001b[0m\u001b[0;34m=\u001b[0m\u001b[0mfcpl\u001b[0m\u001b[0;34m)\u001b[0m\u001b[0;34m\u001b[0m\u001b[0m\n\u001b[1;32m    104\u001b[0m     \u001b[0;32melif\u001b[0m \u001b[0mmode\u001b[0m \u001b[0;34m==\u001b[0m \u001b[0;34m'w'\u001b[0m\u001b[0;34m:\u001b[0m\u001b[0;34m\u001b[0m\u001b[0m\n\u001b[0;32m--> 105\u001b[0;31m         \u001b[0mfid\u001b[0m \u001b[0;34m=\u001b[0m \u001b[0mh5f\u001b[0m\u001b[0;34m.\u001b[0m\u001b[0mcreate\u001b[0m\u001b[0;34m(\u001b[0m\u001b[0mname\u001b[0m\u001b[0;34m,\u001b[0m \u001b[0mh5f\u001b[0m\u001b[0;34m.\u001b[0m\u001b[0mACC_TRUNC\u001b[0m\u001b[0;34m,\u001b[0m \u001b[0mfapl\u001b[0m\u001b[0;34m=\u001b[0m\u001b[0mfapl\u001b[0m\u001b[0;34m,\u001b[0m \u001b[0mfcpl\u001b[0m\u001b[0;34m=\u001b[0m\u001b[0mfcpl\u001b[0m\u001b[0;34m)\u001b[0m\u001b[0;34m\u001b[0m\u001b[0m\n\u001b[0m\u001b[1;32m    106\u001b[0m     \u001b[0;32melif\u001b[0m \u001b[0mmode\u001b[0m \u001b[0;34m==\u001b[0m \u001b[0;34m'a'\u001b[0m\u001b[0;34m:\u001b[0m\u001b[0;34m\u001b[0m\u001b[0m\n\u001b[1;32m    107\u001b[0m         \u001b[0;31m# Open in append mode (read/write).\u001b[0m\u001b[0;34m\u001b[0m\u001b[0;34m\u001b[0m\u001b[0m\n",
      "\u001b[0;32mh5py/_objects.pyx\u001b[0m in \u001b[0;36mh5py._objects.with_phil.wrapper\u001b[0;34m()\u001b[0m\n",
      "\u001b[0;32mh5py/_objects.pyx\u001b[0m in \u001b[0;36mh5py._objects.with_phil.wrapper\u001b[0;34m()\u001b[0m\n",
      "\u001b[0;32mh5py/h5f.pyx\u001b[0m in \u001b[0;36mh5py.h5f.create\u001b[0;34m()\u001b[0m\n",
      "\u001b[0;31mOSError\u001b[0m: Unable to create file (unable to open file: name = '/home/ubuntu/data/data/Models/random_PWM_2019_04_25_weights.h5', errno = 2, error message = 'No such file or directory', flags = 13, o_flags = 242)"
     ]
    }
   ],
   "source": [
    "model.save_weights(Model_weights_path)\n",
    "model_json = model.to_json()\n",
    "\n",
    "file = open(Model_json_path, \"w\")\n",
    "file.write(model_json)\n",
    "file.close() "
   ]
  },
  {
   "cell_type": "markdown",
   "metadata": {},
   "source": [
    "- The validation trend is not close to the training trend.\n",
    "\n",
    "**Conclusion**:\n",
    "\n",
    "- The result of the experiment shows the model performs poorly when training on random data, which is what we wanted. The model does seem to be learning something. \n"
   ]
  },
  {
   "cell_type": "markdown",
   "metadata": {},
   "source": [
    "### False Discovery Rate"
   ]
  },
  {
   "cell_type": "code",
   "execution_count": 26,
   "metadata": {},
   "outputs": [],
   "source": [
    "from keras.models import model_from_json\n",
    "\n",
    "with open(Model_json_path, 'r') as f:\n",
    "    model = model_from_json(f.read())\n",
    "\n",
    "model.load_weights(Model_weights_path)\n"
   ]
  },
  {
   "cell_type": "code",
   "execution_count": 28,
   "metadata": {},
   "outputs": [
    {
     "name": "stdout",
     "output_type": "stream",
     "text": [
      "The false discovery rate is: 0.5251396648044693\n"
     ]
    }
   ],
   "source": [
    "X_test_rnn = X_test.reshape(480, 1000, 8)\n",
    "results = model.predict(X_test_rnn, batch_size=16)\n",
    "\n",
    "false_positives = 0\n",
    "true_positives = 0\n",
    "total_negatives = 0\n",
    "total_positives = 0\n",
    "true_negatives = 0\n",
    "\n",
    "for i in range(0,results.size):\n",
    "    \n",
    "    if results[i][0]>=0.5 and y_test[i]==0:\n",
    "        false_positives += 1\n",
    "\n",
    "    if results[i][0]>=0.5 and y_test[i]==1:\n",
    "        true_positives += 1\n",
    "        \n",
    "    if results[i][0]<=0.5 and y_test[i]==0:\n",
    "        true_negatives += 1\n",
    "        \n",
    "    if results[i][0] <= 0.5:\n",
    "        total_negatives += 1\n",
    "        \n",
    "    if results[i][0] >= 0.5:\n",
    "        total_positives += 1\n",
    "\n",
    "false_discovery_rate = false_positives/(false_positives + true_positives)\n",
    "print(\"The false discovery rate is: {}\".format(false_discovery_rate))"
   ]
  },
  {
   "cell_type": "code",
   "execution_count": 30,
   "metadata": {},
   "outputs": [
    {
     "name": "stdout",
     "output_type": "stream",
     "text": [
      "ROC Curve\n"
     ]
    },
    {
     "data": {
      "image/png": "[encoded data removed]",
      "text/plain": [
       "<Figure size 432x288 with 1 Axes>"
      ]
     },
     "metadata": {},
     "output_type": "display_data"
    },
    {
     "name": "stdout",
     "output_type": "stream",
     "text": [
      "c-statistic = 0.49920460972850683\n"
     ]
    }
   ],
   "source": [
    "sensitivities = []\n",
    "false_positive_rates =[]\n",
    "discovery_percentage = 0.05\n",
    "\n",
    "while discovery_percentage < 1.0:\n",
    "    \n",
    "    false_positives = 0\n",
    "    true_positives = 0\n",
    "    total_negatives = 0\n",
    "    total_positives = 0\n",
    "    true_negatives = 0\n",
    "    \n",
    "    for i in range(0,results.size):\n",
    "\n",
    "        if results[i][0]>=discovery_percentage and y_train[i]==0:\n",
    "            false_positives += 1\n",
    "\n",
    "        if results[i][0]>=discovery_percentage and y_train[i]==1:\n",
    "            true_positives += 1\n",
    "\n",
    "        if results[i][0]<=discovery_percentage and y_train[i]==0:\n",
    "            true_negatives += 1\n",
    "\n",
    "        if y_train[i]==0:\n",
    "            total_negatives += 1\n",
    "\n",
    "        if y_train[i]==1:\n",
    "            total_positives += 1\n",
    "            \n",
    "    if total_positives != 0 and total_negatives != 0:\n",
    "        sensitivities.append(true_positives / total_positives)\n",
    "        false_positive_rates.append(1-(true_negatives / total_negatives))\n",
    "    \n",
    "    discovery_percentage += 0.05\n",
    "    \n",
    "riemann = 0.0\n",
    "for i in range(0,len(sensitivities) - 1):\n",
    "    riemann += 0.5 * (sensitivities[i]+sensitivities[i+1]) * (false_positive_rates[i]-false_positive_rates[i+1])\n",
    "    \n",
    "\n",
    "print(\"ROC Curve\")\n",
    "plt.plot(false_positive_rates, sensitivities )\n",
    "plt.ylabel('sensitivity')\n",
    "plt.xlabel('false positive rate')\n",
    "plt.show()\n",
    "print(\"c-statistic = \" + str(riemann))\n"
   ]
  },
  {
   "cell_type": "markdown",
   "metadata": {},
   "source": [
    "This model is no better than predicting and outcome than random chance so the model does seem to be learning something. "
   ]
  },
  {
   "cell_type": "code",
   "execution_count": null,
   "metadata": {},
   "outputs": [],
   "source": []
  }
 ],
 "metadata": {
  "kernelspec": {
   "display_name": "Environment (conda_tensorflow_p36)",
   "language": "python",
   "name": "conda_tensorflow_p36"
  },
  "language_info": {
   "codemirror_mode": {
    "name": "ipython",
    "version": 3
   },
   "file_extension": ".py",
   "mimetype": "text/x-python",
   "name": "python",
   "nbconvert_exporter": "python",
   "pygments_lexer": "ipython3",
   "version": "3.6.5"
  }
 },
 "nbformat": 4,
 "nbformat_minor": 2
}
