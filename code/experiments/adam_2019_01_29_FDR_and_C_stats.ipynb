{
 "cells": [
  {
   "cell_type": "markdown",
   "metadata": {},
   "source": [
    "**Author:** Thomas Lane, Zhanyuan Zhang  \n",
    "**Purpose:** This script help calculate the false discovery rate and the C-statistics of a binary classification model.  \n",
    "**Usage:** User needs to input the names of the model and its weights. Since all models should be saved in the *models* folder, this script by default imports model from that folder."
   ]
  },
  {
   "cell_type": "code",
   "execution_count": 11,
   "metadata": {},
   "outputs": [],
   "source": [
    "import tensorflow as tf\n",
    "import matplotlib.pyplot as plt\n",
    "import numpy as np\n",
    "from utility import load_model\n",
    "import pickle"
   ]
  },
  {
   "cell_type": "code",
   "execution_count": 12,
   "metadata": {},
   "outputs": [],
   "source": [
    "# Input the name of the model and its weights\n",
    "model_name = \"adam_2019_01_29\"\n",
    "model_weights = \"adam_2019_01_29_weights\"\n",
    "\n",
    "# Generate the path of the model and its weights\n",
    "model_path = \"models/\" + model_name + \".json\"\n",
    "weights_path = \"models/\" + model_weights + \".h5\""
   ]
  },
  {
   "cell_type": "code",
   "execution_count": 13,
   "metadata": {},
   "outputs": [
    {
     "name": "stdout",
     "output_type": "stream",
     "text": [
      "Loaded model from models/adam_2019_01_29.json\n"
     ]
    }
   ],
   "source": [
    "model = load_model(model_path, weights_path)"
   ]
  },
  {
   "cell_type": "markdown",
   "metadata": {},
   "source": [
    "**Before we calculate the FDR and C-statistics, we need to generate or import the input data and the correct labels**"
   ]
  },
  {
   "cell_type": "code",
   "execution_count": 14,
   "metadata": {},
   "outputs": [],
   "source": [
    "# x_train = np.random.random((1000, 100))\n",
    "# y_train = np.random.randint(2, size=(1000, 1))\n",
    "with open(\"../data/new_list_buffer.txt\", \"rb\") as buff:\n",
    "    seq_record_list = pickle.load(buff)\n",
    "    \n",
    "seq_record_list = seq_record_list[:4800]\n",
    "from random import shuffle\n",
    "shuffle(seq_record_list)"
   ]
  },
  {
   "cell_type": "code",
   "execution_count": 15,
   "metadata": {},
   "outputs": [],
   "source": [
    "# A helper function to flatten a 2d list to 1d.\n",
    "# Input: [[1, 2], [2, 3], [3, 4, 5]]\n",
    "# Output: [1, 2, 2, 3, 3, 4, 5]\n",
    "def flatten(lst):\n",
    "    new_lst = []\n",
    "    for sub_lst in lst:\n",
    "        for item in sub_lst:\n",
    "            new_lst.append(item)\n",
    "    return new_lst\n",
    "\n",
    "# A helper function to transform a lst so that its length becomes read_len by:\n",
    "# 1. If len(lst) > read_len, curtail the end of the lst.\n",
    "# 2. If len(lst) < read_len, keep extending the end of the lst with 0 (NA).\n",
    "def curtail(lst, read_len):\n",
    "    if len(lst) > read_len:\n",
    "        lst = lst[:read_len]\n",
    "    else:\n",
    "        for i in range(read_len - len(lst)):\n",
    "            lst.append([0, 0, 0, 0, 0, 0, 0, 0])\n",
    "    return lst\n",
    "\n",
    "# Produce the train-test split\n",
    "# length_read: the length that you want all DNA sequences to conform to\n",
    "def prepare_input(training_size, test_size, length_read):\n",
    "    X_train = []\n",
    "    y_train = []\n",
    "    X_test = []\n",
    "    y_test = []\n",
    "    seq_count = 0\n",
    "    while seq_count < training_size:\n",
    "        X_train.append(flatten(curtail(seq_record_list[seq_count][3], length_read)))\n",
    "        y_train.append(int(seq_record_list[seq_count][1]))\n",
    "        seq_count += 1\n",
    "    while seq_count < (training_size + test_size):\n",
    "        X_test.append(flatten(curtail(seq_record_list[seq_count][3], length_read)))\n",
    "        y_test.append(int(seq_record_list[seq_count][1]))\n",
    "        seq_count += 1\n",
    "    return X_train, y_train, X_test, y_test\n",
    "\n",
    "# Turn list into numpy tensors that can directly feed into a neural network model\n",
    "def to_np_array(X_train, y_train, X_test, y_test):\n",
    "    X_train = np.array(X_train)\n",
    "    y_train = np.array(y_train)\n",
    "    if len(y_train.shape) == 1:\n",
    "        y_train = np.transpose(np.array([y_train]))\n",
    "    X_test = np.array(X_test)\n",
    "    y_test = np.transpose(np.array(y_test))\n",
    "    if len(y_test.shape) == 1:\n",
    "        y_test = np.transpose(np.array([y_test]))\n",
    "    return X_train, y_train, X_test, y_test"
   ]
  },
  {
   "cell_type": "code",
   "execution_count": 24,
   "metadata": {},
   "outputs": [
    {
     "data": {
      "text/plain": [
       "[(4800, 1, 8000), (4800, 1, 1)]"
      ]
     },
     "execution_count": 24,
     "metadata": {},
     "output_type": "execute_result"
    }
   ],
   "source": [
    "x_train, y_train, x_test, y_test = prepare_input(4800, 0, 1000)\n",
    "x_train, y_train, x_test, y_test = to_np_array(x_train, y_train, x_test, y_test)\n",
    "x_train = np.reshape(x_train, (x_train.shape[0], 1, x_train.shape[1]))\n",
    "y_train = np.reshape(y_train, (y_train.shape[0], 1, y_train.shape[1]))\n",
    "[x_train.shape, y_train.shape]"
   ]
  },
  {
   "cell_type": "code",
   "execution_count": 27,
   "metadata": {},
   "outputs": [],
   "source": [
    "x_train_rnn = x_train.reshape(4800, 1000, 8)"
   ]
  },
  {
   "cell_type": "markdown",
   "metadata": {},
   "source": [
    "# False Discovery Rate\n",
    "This cell uses the model to make predictions on our data.\n",
    "\n",
    "Then it iterates through the results and the real labels and compares them to check for False Positives(FP) and True Positives(TP).\n",
    "\n",
    "Then it uses the formula to calculate the False Discovery Rate (FDR)"
   ]
  },
  {
   "cell_type": "code",
   "execution_count": 28,
   "metadata": {},
   "outputs": [
    {
     "name": "stdout",
     "output_type": "stream",
     "text": [
      "The false discovery rate is: 0.11462264150943396\n"
     ]
    }
   ],
   "source": [
    "results = model.predict(x_train_rnn, batch_size=16)\n",
    "\n",
    "false_positives = 0\n",
    "true_positives = 0\n",
    "total_negatives = 0\n",
    "total_positives = 0\n",
    "true_negatives = 0\n",
    "\n",
    "for i in range(0,results.size):\n",
    "    \n",
    "    if results[i][0]>=0.5 and y_train[i]==0:\n",
    "        false_positives += 1\n",
    "\n",
    "    if results[i][0]>=0.5 and y_train[i]==1:\n",
    "        true_positives += 1\n",
    "        \n",
    "    if results[i][0]<=0.5 and y_train[i]==0:\n",
    "        true_negatives += 1\n",
    "        \n",
    "    if results[i][0] <= 0.5:\n",
    "        total_negatives += 1\n",
    "        \n",
    "    if results[i][0] >= 0.5:\n",
    "        total_positives += 1\n",
    "\n",
    "false_discovery_rate = false_positives/(false_positives + true_positives)\n",
    "print(\"The false discovery rate is: {}\".format(false_discovery_rate))"
   ]
  },
  {
   "cell_type": "markdown",
   "metadata": {},
   "source": [
    "# C-statistics\n",
    "This cell iterates through the data using an incrementing threshold value to generate an ROC Curve then uses a Riemann sum (trapezoidal) to generate the C-statistic"
   ]
  },
  {
   "cell_type": "code",
   "execution_count": 29,
   "metadata": {},
   "outputs": [
    {
     "name": "stdout",
     "output_type": "stream",
     "text": [
      "ROC Curve\n"
     ]
    },
    {
     "data": {
      "image/png": "[encoded data removed]",
      "text/plain": [
       "<Figure size 432x288 with 1 Axes>"
      ]
     },
     "metadata": {},
     "output_type": "display_data"
    },
    {
     "name": "stdout",
     "output_type": "stream",
     "text": [
      "c-statistic = 0.6183236212866321\n"
     ]
    }
   ],
   "source": [
    "sensitivities = []\n",
    "false_positive_rates =[]\n",
    "discovery_percentage = 0.05\n",
    "\n",
    "while discovery_percentage < 1.0:\n",
    "    \n",
    "    false_positives = 0\n",
    "    true_positives = 0\n",
    "    total_negatives = 0\n",
    "    total_positives = 0\n",
    "    true_negatives = 0\n",
    "    \n",
    "    for i in range(0,results.size):\n",
    "\n",
    "        if results[i][0]>=discovery_percentage and y_train[i]==0:\n",
    "            false_positives += 1\n",
    "\n",
    "        if results[i][0]>=discovery_percentage and y_train[i]==1:\n",
    "            true_positives += 1\n",
    "\n",
    "        if results[i][0]<=discovery_percentage and y_train[i]==0:\n",
    "            true_negatives += 1\n",
    "\n",
    "        if y_train[i]==0:\n",
    "            total_negatives += 1\n",
    "\n",
    "        if y_train[i]==1:\n",
    "            total_positives += 1\n",
    "            \n",
    "    if total_positives != 0 and total_negatives != 0:\n",
    "        sensitivities.append(true_positives / total_positives)\n",
    "        false_positive_rates.append(1-(true_negatives / total_negatives))\n",
    "    \n",
    "    discovery_percentage += 0.05\n",
    "    \n",
    "riemann = 0.0\n",
    "for i in range(0,len(sensitivities) - 1):\n",
    "    riemann += 0.5 * (sensitivities[i]+sensitivities[i+1]) * (false_positive_rates[i]-false_positive_rates[i+1])\n",
    "    \n",
    "\n",
    "print(\"ROC Curve\")\n",
    "plt.plot(false_positive_rates, sensitivities )\n",
    "plt.ylabel('sensitivity')\n",
    "plt.xlabel('false positive rate')\n",
    "plt.show()\n",
    "print(\"c-statistic = \" + str(riemann))"
   ]
  },
  {
   "cell_type": "code",
   "execution_count": null,
   "metadata": {},
   "outputs": [],
   "source": []
  }
 ],
 "metadata": {
  "kernelspec": {
   "display_name": "Python 3",
   "language": "python",
   "name": "python3"
  },
  "language_info": {
   "codemirror_mode": {
    "name": "ipython",
    "version": 3
   },
   "file_extension": ".py",
   "mimetype": "text/x-python",
   "name": "python",
   "nbconvert_exporter": "python",
   "pygments_lexer": "ipython3",
   "version": "3.6.4"
  }
 },
 "nbformat": 4,
 "nbformat_minor": 2
}
