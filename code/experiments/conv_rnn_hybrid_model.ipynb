{
 "cells": [
  {
   "cell_type": "code",
   "execution_count": 1,
   "metadata": {},
   "outputs": [
    {
     "name": "stderr",
     "output_type": "stream",
     "text": [
      "Using TensorFlow backend.\n"
     ]
    }
   ],
   "source": [
    "import os, shutil, pickle\n",
    "from Bio import SeqIO\n",
    "import numpy as np\n",
    "import matplotlib.pyplot as plt\n",
    "from keras.models import Model, Sequential\n",
    "from keras.models import Sequential\n",
    "from keras.layers import Dense, Dropout, MaxPooling1D, Flatten, Conv1D, LSTM, CuDNNLSTM, Bidirectional\n",
    "from keras.optimizers import RMSprop"
   ]
  },
  {
   "cell_type": "markdown",
   "metadata": {},
   "source": [
    "Randomly generate training data  \n",
    "`train_x` has shape: (# of training data, max length of sequence, 4),\n",
    "where the maximal length of sequence by default is 1000 and 4 reflects the one-hot encoding of one nucleotide(A, T, G, or C)."
   ]
  },
  {
   "cell_type": "code",
   "execution_count": 40,
   "metadata": {},
   "outputs": [
    {
     "data": {
      "text/plain": [
       "3544"
      ]
     },
     "execution_count": 40,
     "metadata": {},
     "output_type": "execute_result"
    }
   ],
   "source": [
    "input_folder_path = \"../../../temp/samples/\"\n",
    "output_folder_path = \"../../../temp/buffers/\"\n",
    "\n",
    "# sample data from:\n",
    "data_dir = \"/home/ubuntu/group_volume/team_neural_network/data/input/3.24_species_only\"\n",
    "\n",
    "len(os.listdir(data_dir)) # total number of regions"
   ]
  },
  {
   "cell_type": "code",
   "execution_count": 41,
   "metadata": {},
   "outputs": [],
   "source": [
    "# all_data_lst = np.array(os.listdir(data_dir))\n",
    "# n = len(all_data_lst)\n",
    "# num_samples = 209\n",
    "\n",
    "# np.random.seed(189)\n",
    "# sample_indices = np.random.choice(np.arange(n), num_samples, replace = False)\n",
    "# sample_files = all_data_lst[sample_indices]\n",
    "\n",
    "# sample_files_list = []\n",
    "# for file in sample_files:\n",
    "#     sample_files_list.append(file)\n",
    "#     shutil.copy(os.path.join(data_dir, file),\n",
    "#                         input_folder_path)"
   ]
  },
  {
   "cell_type": "code",
   "execution_count": 44,
   "metadata": {},
   "outputs": [
    {
     "name": "stdout",
     "output_type": "stream",
     "text": [
      "save to ../../../temp/buffers/all_regions.data\n"
     ]
    }
   ],
   "source": [
    "# # Use the following dictionary to perform the transformation\n",
    "# base_pairs = {'A': [1, 0, 0, 0], \n",
    "#               'C': [0, 1, 0, 0],\n",
    "#               'G': [0, 0, 1, 0],\n",
    "#               'T': [0, 0, 0, 1],\n",
    "#               'a': [1, 0, 0, 0],\n",
    "#               'c': [0, 1, 0, 0],\n",
    "#               'g': [0, 0, 1, 0],\n",
    "#               't': [0, 0, 0, 1],\n",
    "#               'n': [0, 0, 0, 0],\n",
    "#               'N': [0, 0, 0, 0]}\n",
    "\n",
    "# file_num_limit = 10000    # The maximum number of files to be decoded\n",
    "# file_count = 0\n",
    "\n",
    "# # Iterate through every file\n",
    "# all_regions = []\n",
    "# for file in os.listdir(input_folder_path):\n",
    "#     # When the number of file decoded has reached the limit, stop\n",
    "#     if file_count < file_num_limit:\n",
    "#         data = list(SeqIO.parse(input_folder_path + file,\"fasta\"))\n",
    "#         for n in range(0, len(data)):\n",
    "#             # Extract the header information\n",
    "#             header = data[n].description.split('|')\n",
    "#             descr = data[n].description\n",
    "#             regionID = header[0]\n",
    "#             expressed = header[1]\n",
    "#             speciesID = header[2]\n",
    "#             strand = header[3]\n",
    "#             # Complement all sequences in the negative DNA strand\n",
    "# #             if strand == '-':\n",
    "# #                 # Using the syntax [e for e in base_pairs[n]] to create a new pointer for each position\n",
    "# #                 one_hot.append([descr, expressed, speciesID, [[e for e in base_pairs[n]] for n in data[n].seq.complement()]])\n",
    "# #             else:\n",
    "#             all_regions.append([descr, expressed, speciesID, [[e for e in base_pairs[n]] for n in data[n].seq]])\n",
    "#         file_count += 1\n",
    "        \n",
    "# output_name = 'all_regions.data'\n",
    "# with open(output_folder_path + output_name, mode=\"wb\") as output:\n",
    "#     print(\"save to {}\".format(os.path.join(output_folder_path, output_name)))\n",
    "#     pickle.dump(all_regions, output)"
   ]
  },
  {
   "cell_type": "markdown",
   "metadata": {},
   "source": [
    "### Load sampled data from a buffer"
   ]
  },
  {
   "cell_type": "code",
   "execution_count": 45,
   "metadata": {},
   "outputs": [],
   "source": [
    "output_name = 'all_regions.data'\n",
    "with open(os.path.join(output_folder_path, output_name), 'rb') as file:\n",
    "    all_regions = pickle.load(file)"
   ]
  },
  {
   "cell_type": "code",
   "execution_count": 47,
   "metadata": {},
   "outputs": [],
   "source": [
    "def curtail(lst, read_len):\n",
    "    if len(lst) > read_len:\n",
    "        lst = lst[:read_len]\n",
    "    else:\n",
    "        for i in range(read_len - len(lst)):\n",
    "            lst.append([0, 0, 0, 0])\n",
    "    return lst"
   ]
  },
  {
   "cell_type": "code",
   "execution_count": 48,
   "metadata": {},
   "outputs": [
    {
     "data": {
      "text/plain": [
       "((5016, 1000, 4), (5016,))"
      ]
     },
     "execution_count": 48,
     "metadata": {},
     "output_type": "execute_result"
    }
   ],
   "source": [
    "max_len = 1000\n",
    "\n",
    "train_x, train_y = [], []\n",
    "for region in all_regions:\n",
    "    y, x = int(region[1]), region[3]\n",
    "    x = curtail(x, max_len)\n",
    "    x = np.array(x).flatten()\n",
    "    x = x.reshape((1000, 4))\n",
    "    train_x.append(x)\n",
    "    train_y.append(y)\n",
    "\n",
    "train_x, train_y = np.array(train_x), np.array(train_y)\n",
    "\n",
    "train_x.shape, train_y.shape"
   ]
  },
  {
   "cell_type": "markdown",
   "metadata": {},
   "source": [
    "Sanity check: overfit this small random dataset."
   ]
  },
  {
   "cell_type": "code",
   "execution_count": 57,
   "metadata": {},
   "outputs": [
    {
     "name": "stdout",
     "output_type": "stream",
     "text": [
      "Train on 4012 samples, validate on 1004 samples\n",
      "Epoch 1/1\n",
      "4012/4012 [==============================] - 118s 29ms/step - loss: 0.6787 - acc: 0.5384 - val_loss: 0.6680 - val_acc: 0.6524\n"
     ]
    }
   ],
   "source": [
    "model = Sequential()\n",
    "model.add(Conv1D(filters = 50, \n",
    "                 kernel_size = 26, \n",
    "                 padding = 'valid',\n",
    "                 data_format = 'channels_last',\n",
    "                 activation = 'relu'))\n",
    "model.add(MaxPooling1D(pool_size = 10, strides = 10))\n",
    "model.add(Dropout(0.2))\n",
    "model.add(Bidirectional(LSTM(10), input_shape=(1000, 50)))\n",
    "model.add(Dropout(0.5))\n",
    "model.add(Dense(100, activation = 'relu'))\n",
    "model.add(Dense(50, activation = 'relu'))\n",
    "model.add(Dense(1, activation='sigmoid'))\n",
    "rmsprop = RMSprop(lr=0.001, rho=0.9, epsilon=None, decay=0.0)\n",
    "model.compile(optimizer=rmsprop, loss='binary_crossentropy', metrics=['acc'])\n",
    "history = model.fit(train_x, train_y, epochs=1, batch_size=10, validation_split=0.2)"
   ]
  },
  {
   "cell_type": "code",
   "execution_count": 59,
   "metadata": {},
   "outputs": [
    {
     "name": "stdout",
     "output_type": "stream",
     "text": [
      "_________________________________________________________________\n",
      "Layer (type)                 Output Shape              Param #   \n",
      "=================================================================\n",
      "conv1d_2 (Conv1D)            (None, 975, 50)           5250      \n",
      "_________________________________________________________________\n",
      "max_pooling1d_2 (MaxPooling1 (None, 97, 50)            0         \n",
      "_________________________________________________________________\n",
      "dropout_3 (Dropout)          (None, 97, 50)            0         \n",
      "_________________________________________________________________\n",
      "bidirectional_2 (Bidirection (None, 20)                4880      \n",
      "_________________________________________________________________\n",
      "dropout_4 (Dropout)          (None, 20)                0         \n",
      "_________________________________________________________________\n",
      "dense_4 (Dense)              (None, 100)               2100      \n",
      "_________________________________________________________________\n",
      "dense_5 (Dense)              (None, 50)                5050      \n",
      "_________________________________________________________________\n",
      "dense_6 (Dense)              (None, 1)                 51        \n",
      "=================================================================\n",
      "Total params: 17,331\n",
      "Trainable params: 17,331\n",
      "Non-trainable params: 0\n",
      "_________________________________________________________________\n"
     ]
    }
   ],
   "source": [
    "model.summary()"
   ]
  },
  {
   "cell_type": "code",
   "execution_count": 60,
   "metadata": {},
   "outputs": [
    {
     "data": {
      "image/png": "[encoded data removed]",
      "text/plain": [
       "<Figure size 432x288 with 1 Axes>"
      ]
     },
     "metadata": {},
     "output_type": "display_data"
    },
    {
     "data": {
      "image/png": "[encoded data removed]",
      "text/plain": [
       "<Figure size 432x288 with 1 Axes>"
      ]
     },
     "metadata": {},
     "output_type": "display_data"
    }
   ],
   "source": [
    "acc = history.history['acc']\n",
    "val_acc = history.history['val_acc']\n",
    "loss = history.history['loss']\n",
    "val_loss = history.history['val_loss']\n",
    "\n",
    "epochs = range(1, len(acc) + 1)\n",
    "\n",
    "plt.plot(epochs, acc, '-', label='Training Accuracy')\n",
    "plt.plot(epochs, val_acc, '-', label='Validation Accuracy')\n",
    "plt.title('Training and Validation Accuracy')\n",
    "plt.xlabel('epoches')\n",
    "plt.legend()\n",
    "\n",
    "plt.figure()\n",
    "\n",
    "plt.plot(epochs, loss, '-', label='Training Loss')\n",
    "plt.plot(epochs, val_loss, '-', label='Validation Loss')\n",
    "plt.title('Training and Validation Loss')\n",
    "plt.xlabel('epoches')\n",
    "plt.legend()\n",
    "\n",
    "plt.show()"
   ]
  },
  {
   "cell_type": "code",
   "execution_count": 61,
   "metadata": {},
   "outputs": [
    {
     "data": {
      "text/plain": [
       "(array([[0.53303534]], dtype=float32), array([[1]], dtype=int32))"
      ]
     },
     "execution_count": 61,
     "metadata": {},
     "output_type": "execute_result"
    }
   ],
   "source": [
    "i = 4\n",
    "model.predict(train_x[i].reshape(1, -1, 4)), model.predict_classes(train_x[i].reshape(1, -1, 4))"
   ]
  },
  {
   "cell_type": "code",
   "execution_count": 62,
   "metadata": {},
   "outputs": [],
   "source": [
    "conv_weights = model.layers[0].get_weights()"
   ]
  },
  {
   "cell_type": "code",
   "execution_count": 63,
   "metadata": {},
   "outputs": [
    {
     "data": {
      "text/plain": [
       "(26, 4, 50)"
      ]
     },
     "execution_count": 63,
     "metadata": {},
     "output_type": "execute_result"
    }
   ],
   "source": [
    "# weights\n",
    "conv_weights[0].shape"
   ]
  },
  {
   "cell_type": "code",
   "execution_count": 64,
   "metadata": {},
   "outputs": [
    {
     "data": {
      "text/plain": [
       "(50,)"
      ]
     },
     "execution_count": 64,
     "metadata": {},
     "output_type": "execute_result"
    }
   ],
   "source": [
    "# bias\n",
    "conv_weights[1].shape"
   ]
  },
  {
   "cell_type": "code",
   "execution_count": 65,
   "metadata": {},
   "outputs": [
    {
     "data": {
      "text/plain": [
       "<tf.Tensor 'conv1d_2/Relu:0' shape=(?, 975, 50) dtype=float32>"
      ]
     },
     "execution_count": 65,
     "metadata": {},
     "output_type": "execute_result"
    }
   ],
   "source": [
    "model.layers[0].output"
   ]
  },
  {
   "cell_type": "code",
   "execution_count": null,
   "metadata": {},
   "outputs": [],
   "source": []
  }
 ],
 "metadata": {
  "kernelspec": {
   "display_name": "Python 3",
   "language": "python",
   "name": "python3"
  },
  "language_info": {
   "codemirror_mode": {
    "name": "ipython",
    "version": 3
   },
   "file_extension": ".py",
   "mimetype": "text/x-python",
   "name": "python",
   "nbconvert_exporter": "python",
   "pygments_lexer": "ipython3",
   "version": "3.6.8"
  }
 },
 "nbformat": 4,
 "nbformat_minor": 2
}
