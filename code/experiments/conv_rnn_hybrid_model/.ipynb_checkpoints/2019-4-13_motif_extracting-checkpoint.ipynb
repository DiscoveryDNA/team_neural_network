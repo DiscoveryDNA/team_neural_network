{
 "cells": [
  {
   "cell_type": "code",
   "execution_count": 1,
   "metadata": {},
   "outputs": [],
   "source": [
    "%load_ext autoreload\n",
    "%autoreload 2"
   ]
  },
  {
   "cell_type": "markdown",
   "metadata": {},
   "source": [
    "- **Date:** 2019-4-13\n",
    "- **Author:** Zhanyuan Zhang\n",
    "- **Purpose:** Continuing the work on the [previous experiment](https://github.com/DiscoveryDNA/team_neural_network/blob/master/code/experiments/conv_rnn_hybrid_model/2019-3-22_tried_conv_rnn_hybrid_model.ipynb), this experiment trained a simpler model to build a pipeline of extracting motifs from learned kernels.\n",
    "- **Related Works:**  \n",
    "The model used in this experiment took reference from [DanQ](https://github.com/uci-cbcl/DanQ);\n",
    "The way of retrieving motif from kernels was inspired by [this paper](https://media.nature.com/original/nature-assets/nbt/journal/v33/n8/extref/nbt.3300-S2.pdf)."
   ]
  },
  {
   "cell_type": "code",
   "execution_count": 2,
   "metadata": {},
   "outputs": [
    {
     "name": "stderr",
     "output_type": "stream",
     "text": [
      "Using TensorFlow backend.\n"
     ]
    }
   ],
   "source": [
    "import os, shutil, pickle, shelve\n",
    "from Bio import SeqIO\n",
    "import numpy as np\n",
    "import tensorflow as tf\n",
    "import matplotlib.pyplot as plt\n",
    "from keras.models import load_model, Model\n",
    "from keras.utils import plot_model\n",
    "from keras.models import Model, Sequential\n",
    "from keras.models import Sequential\n",
    "from keras.layers import Dense, Dropout, MaxPooling1D, Flatten, Conv1D, LSTM, CuDNNLSTM, Bidirectional\n",
    "from keras.optimizers import RMSprop, Adam\n",
    "from keras.initializers import glorot_normal\n",
    "import keras\n",
    "from utilities import sampling, one_hot_encoding, curtail, get_training_data, load_data, data_split, dianostic_plots, pad_for_detector"
   ]
  },
  {
   "cell_type": "code",
   "execution_count": 3,
   "metadata": {},
   "outputs": [],
   "source": [
    "# sample data from:\n",
    "data_dir = \"/home/ubuntu/group_volume/team_neural_network/data/input/3.24_species_only\"\n",
    "output_folder_path = \"../../../../temp/buffers/\""
   ]
  },
  {
   "cell_type": "markdown",
   "metadata": {},
   "source": [
    "## 1. Training and validation"
   ]
  },
  {
   "cell_type": "code",
   "execution_count": 4,
   "metadata": {},
   "outputs": [
    {
     "data": {
      "text/plain": [
       "3543"
      ]
     },
     "execution_count": 4,
     "metadata": {},
     "output_type": "execute_result"
    }
   ],
   "source": [
    "input_folder_path = \"../../../../temp/samples/\"\n",
    "# Subset sampling: save to ss_samples\n",
    "output_folder_path = \"../../../../temp/buffers/ss_samples\"\n",
    "\n",
    "data_dir = \"/home/ubuntu/group_volume/team_neural_network/data/input/3.24_species_only\"\n",
    "\n",
    "len(os.listdir(data_dir)) # total number of regions"
   ]
  },
  {
   "cell_type": "markdown",
   "metadata": {},
   "source": [
    "Uncomment the following two code chunks to resample the data"
   ]
  },
  {
   "cell_type": "code",
   "execution_count": 5,
   "metadata": {},
   "outputs": [],
   "source": [
    "# !rm -r /home/ubuntu/data/temp/samples\n",
    "# !mkdir /home/ubuntu/data/temp/samples"
   ]
  },
  {
   "cell_type": "code",
   "execution_count": 6,
   "metadata": {},
   "outputs": [],
   "source": [
    "# all_data_lst = np.array(os.listdir(data_dir))\n",
    "# num_samples = 209\n",
    "\n",
    "# sampling(data_dir, input_folder_path, num_samples, seed = 189)\n",
    "\n",
    "# output_file_path = os.path.join(output_folder_path, 'sampled_data.data')\n",
    "# train_regions = one_hot_encoding(input_folder_path, output_file_path)\n",
    "\n",
    "# data_x, data_y = get_training_data(train_regions, output_folder_path,\n",
    "#                                    max_len = 1000, \n",
    "#                                    train_x_name = 'train_x.data', \n",
    "#                                    train_y_name = 'train_y.data')"
   ]
  },
  {
   "cell_type": "code",
   "execution_count": 5,
   "metadata": {},
   "outputs": [
    {
     "name": "stdout",
     "output_type": "stream",
     "text": [
      "5016 (4013, 1000, 4) (4013,) (1003, 1000, 4) (1003,)\n"
     ]
    }
   ],
   "source": [
    "data_x = pickle.load(open('../../../../temp/buffers/ss_samples/train_x.data', 'rb'))\n",
    "data_y = pickle.load(open('../../../../temp/buffers/ss_samples/train_y.data', 'rb'))\n",
    "train_x, train_y, val_x, val_y = data_split(data_x, data_y, seed = 157)\n",
    "train_x, val_x = pad_for_detector(train_x, 10), pad_for_detector(val_x, 10)"
   ]
  },
  {
   "cell_type": "code",
   "execution_count": 6,
   "metadata": {},
   "outputs": [],
   "source": [
    "def get_hybrid(opt):\n",
    "    \"\"\"  Return a hybrid network given a optimizer\n",
    "    \"\"\"\n",
    "    model = Sequential()\n",
    "    model.add(Conv1D(filters = 15, \n",
    "                     kernel_size = 10, \n",
    "                     padding = 'valid',\n",
    "                     data_format = 'channels_last',\n",
    "                     activation = 'relu'))\n",
    "    model.add(MaxPooling1D(pool_size = 5, strides = 5))\n",
    "    model.add(Dropout(0.6))\n",
    "    model.add(Bidirectional(LSTM(10)))\n",
    "    model.add(Dropout(0.7))\n",
    "    model.add(Dense(20, activation = 'relu'))\n",
    "    model.add(Dense(1, activation='sigmoid'))\n",
    "    model.compile(optimizer=opt, loss='binary_crossentropy', metrics=['acc'])\n",
    "    return model\n",
    "\n",
    "def train(model, train_x, train_y, val_data, config = {'epochs': 35, 'batch_size': 256}):\n",
    "    \"\"\"  Train model for a given config, training data, and validation data\n",
    "    \"\"\"\n",
    "    epochs, batch_size = config['epochs'], config['batch_size']\n",
    "    return model.fit(train_x, train_y, epochs=epochs, batch_size=batch_size, validation_data=val_data)"
   ]
  },
  {
   "cell_type": "code",
   "execution_count": 9,
   "metadata": {},
   "outputs": [
    {
     "name": "stdout",
     "output_type": "stream",
     "text": [
      "WARNING:tensorflow:From /home/ubuntu/anaconda3/envs/tensorflow_p36/lib/python3.6/site-packages/tensorflow/python/framework/op_def_library.py:263: colocate_with (from tensorflow.python.framework.ops) is deprecated and will be removed in a future version.\n",
      "Instructions for updating:\n",
      "Colocations handled automatically by placer.\n",
      "WARNING:tensorflow:From /home/ubuntu/anaconda3/envs/tensorflow_p36/lib/python3.6/site-packages/keras/backend/tensorflow_backend.py:3445: calling dropout (from tensorflow.python.ops.nn_ops) with keep_prob is deprecated and will be removed in a future version.\n",
      "Instructions for updating:\n",
      "Please use `rate` instead of `keep_prob`. Rate should be set to `rate = 1 - keep_prob`.\n",
      "WARNING:tensorflow:From /home/ubuntu/anaconda3/envs/tensorflow_p36/lib/python3.6/site-packages/tensorflow/python/ops/math_ops.py:3066: to_int32 (from tensorflow.python.ops.math_ops) is deprecated and will be removed in a future version.\n",
      "Instructions for updating:\n",
      "Use tf.cast instead.\n",
      "Train on 4013 samples, validate on 1003 samples\n",
      "Epoch 1/35\n",
      "4013/4013 [==============================] - 12s 3ms/step - loss: 0.7028 - acc: 0.4969 - val_loss: 0.6955 - val_acc: 0.5095\n",
      "Epoch 2/35\n",
      "4013/4013 [==============================] - 9s 2ms/step - loss: 0.6940 - acc: 0.5231 - val_loss: 0.6910 - val_acc: 0.5095\n",
      "Epoch 3/35\n",
      "4013/4013 [==============================] - 9s 2ms/step - loss: 0.6903 - acc: 0.5300 - val_loss: 0.6853 - val_acc: 0.5095\n",
      "Epoch 4/35\n",
      "4013/4013 [==============================] - 9s 2ms/step - loss: 0.6811 - acc: 0.5360 - val_loss: 0.6705 - val_acc: 0.5533\n",
      "Epoch 5/35\n",
      "4013/4013 [==============================] - 9s 2ms/step - loss: 0.6700 - acc: 0.5557 - val_loss: 0.6600 - val_acc: 0.5813\n",
      "Epoch 6/35\n",
      "4013/4013 [==============================] - 9s 2ms/step - loss: 0.6674 - acc: 0.5711 - val_loss: 0.6561 - val_acc: 0.6271\n",
      "Epoch 7/35\n",
      "4013/4013 [==============================] - 9s 2ms/step - loss: 0.6651 - acc: 0.5699 - val_loss: 0.6497 - val_acc: 0.6162\n",
      "Epoch 8/35\n",
      "4013/4013 [==============================] - 9s 2ms/step - loss: 0.6569 - acc: 0.5956 - val_loss: 0.6332 - val_acc: 0.6640\n",
      "Epoch 9/35\n",
      "4013/4013 [==============================] - 9s 2ms/step - loss: 0.6474 - acc: 0.6145 - val_loss: 0.6210 - val_acc: 0.6590\n",
      "Epoch 10/35\n",
      "4013/4013 [==============================] - 9s 2ms/step - loss: 0.6459 - acc: 0.6177 - val_loss: 0.6295 - val_acc: 0.6530\n",
      "Epoch 11/35\n",
      "4013/4013 [==============================] - 9s 2ms/step - loss: 0.6402 - acc: 0.6282 - val_loss: 0.6130 - val_acc: 0.6740\n",
      "Epoch 12/35\n",
      "4013/4013 [==============================] - 9s 2ms/step - loss: 0.6287 - acc: 0.6417 - val_loss: 0.5909 - val_acc: 0.7099\n",
      "Epoch 13/35\n",
      "4013/4013 [==============================] - 9s 2ms/step - loss: 0.6366 - acc: 0.6471 - val_loss: 0.6291 - val_acc: 0.6391\n",
      "Epoch 14/35\n",
      "4013/4013 [==============================] - 9s 2ms/step - loss: 0.6373 - acc: 0.6364 - val_loss: 0.5771 - val_acc: 0.7378\n",
      "Epoch 15/35\n",
      "4013/4013 [==============================] - 9s 2ms/step - loss: 0.6074 - acc: 0.6691 - val_loss: 0.5673 - val_acc: 0.7438\n",
      "Epoch 16/35\n",
      "4013/4013 [==============================] - 9s 2ms/step - loss: 0.6019 - acc: 0.6763 - val_loss: 0.5404 - val_acc: 0.7597\n",
      "Epoch 17/35\n",
      "4013/4013 [==============================] - 9s 2ms/step - loss: 0.5953 - acc: 0.6785 - val_loss: 0.5399 - val_acc: 0.7856\n",
      "Epoch 18/35\n",
      "4013/4013 [==============================] - 9s 2ms/step - loss: 0.5937 - acc: 0.6888 - val_loss: 0.5760 - val_acc: 0.7139\n",
      "Epoch 19/35\n",
      "4013/4013 [==============================] - 9s 2ms/step - loss: 0.5839 - acc: 0.6982 - val_loss: 0.5188 - val_acc: 0.7677\n",
      "Epoch 20/35\n",
      "4013/4013 [==============================] - 9s 2ms/step - loss: 0.5796 - acc: 0.6977 - val_loss: 0.5052 - val_acc: 0.7707\n",
      "Epoch 21/35\n",
      "4013/4013 [==============================] - 9s 2ms/step - loss: 0.5780 - acc: 0.6962 - val_loss: 0.5224 - val_acc: 0.7537\n",
      "Epoch 22/35\n",
      "4013/4013 [==============================] - 9s 2ms/step - loss: 0.5720 - acc: 0.7107 - val_loss: 0.4945 - val_acc: 0.7926\n",
      "Epoch 23/35\n",
      "4013/4013 [==============================] - 9s 2ms/step - loss: 0.5652 - acc: 0.7062 - val_loss: 0.4729 - val_acc: 0.7986\n",
      "Epoch 24/35\n",
      "4013/4013 [==============================] - 9s 2ms/step - loss: 0.5588 - acc: 0.7142 - val_loss: 0.4811 - val_acc: 0.7836\n",
      "Epoch 25/35\n",
      "4013/4013 [==============================] - 9s 2ms/step - loss: 0.5600 - acc: 0.7089 - val_loss: 0.4761 - val_acc: 0.7916\n",
      "Epoch 26/35\n",
      "4013/4013 [==============================] - 9s 2ms/step - loss: 0.5727 - acc: 0.7017 - val_loss: 0.4776 - val_acc: 0.7996\n",
      "Epoch 27/35\n",
      "4013/4013 [==============================] - 9s 2ms/step - loss: 0.5466 - acc: 0.7284 - val_loss: 0.4719 - val_acc: 0.7886\n",
      "Epoch 28/35\n",
      "4013/4013 [==============================] - 9s 2ms/step - loss: 0.5508 - acc: 0.7234 - val_loss: 0.4850 - val_acc: 0.7827\n",
      "Epoch 29/35\n",
      "4013/4013 [==============================] - 9s 2ms/step - loss: 0.5459 - acc: 0.7279 - val_loss: 0.4546 - val_acc: 0.7996\n",
      "Epoch 30/35\n",
      "4013/4013 [==============================] - 9s 2ms/step - loss: 0.5509 - acc: 0.7236 - val_loss: 0.4545 - val_acc: 0.8275\n",
      "Epoch 31/35\n",
      "4013/4013 [==============================] - 9s 2ms/step - loss: 0.5317 - acc: 0.7344 - val_loss: 0.4542 - val_acc: 0.8086\n",
      "Epoch 32/35\n",
      "4013/4013 [==============================] - 9s 2ms/step - loss: 0.5389 - acc: 0.7311 - val_loss: 0.4477 - val_acc: 0.8235\n",
      "Epoch 33/35\n",
      "4013/4013 [==============================] - 9s 2ms/step - loss: 0.5339 - acc: 0.7331 - val_loss: 0.4442 - val_acc: 0.8096\n",
      "Epoch 34/35\n",
      "4013/4013 [==============================] - 9s 2ms/step - loss: 0.5304 - acc: 0.7411 - val_loss: 0.4328 - val_acc: 0.8235\n",
      "Epoch 35/35\n",
      "4013/4013 [==============================] - 9s 2ms/step - loss: 0.5333 - acc: 0.7433 - val_loss: 0.4280 - val_acc: 0.8345\n"
     ]
    }
   ],
   "source": [
    "# Start training\n",
    "# Set up some configurations\n",
    "optimizers = {'adam': Adam(lr=1e-3, beta_1=0.9, beta_2=0.999, epsilon=None, decay=1e-2, amsgrad=False),\n",
    "              'rmsprop': RMSprop(lr=1e-2, rho=0.9, epsilon=None, decay=1e-2)}\n",
    "config = {'epochs': 35, 'batch_size': 256}\n",
    "opt = optimizers['rmsprop']\n",
    "model = get_hybrid(opt)\n",
    "history = train(model, train_x, train_y, (val_x, val_y), config)"
   ]
  },
  {
   "cell_type": "code",
   "execution_count": 10,
   "metadata": {},
   "outputs": [],
   "source": [
    "# Save the model for later analysis\n",
    "save_model_path = '/home/ubuntu/data/team_neural_network/code/models'\n",
    "model_name = 'hybrid_net-motif.h5'\n",
    "model.save(os.path.join(save_model_path, model_name))"
   ]
  },
  {
   "cell_type": "code",
   "execution_count": 14,
   "metadata": {},
   "outputs": [
    {
     "data": {
      "image/png": "[encoded data removed]",
      "text/plain": [
       "<Figure size 432x288 with 1 Axes>"
      ]
     },
     "metadata": {},
     "output_type": "display_data"
    },
    {
     "data": {
      "image/png": "[encoded data removed]",
      "text/plain": [
       "<Figure size 432x288 with 1 Axes>"
      ]
     },
     "metadata": {},
     "output_type": "display_data"
    }
   ],
   "source": [
    "acc = history.history['acc']\n",
    "val_acc = history.history['val_acc']\n",
    "loss = history.history['loss']\n",
    "val_loss = history.history['val_loss']\n",
    "\n",
    "dianostic_plots(acc, loss, val_acc, val_loss)"
   ]
  },
  {
   "cell_type": "code",
   "execution_count": 15,
   "metadata": {},
   "outputs": [
    {
     "name": "stdout",
     "output_type": "stream",
     "text": [
      "_________________________________________________________________\n",
      "Layer (type)                 Output Shape              Param #   \n",
      "=================================================================\n",
      "conv1d_1 (Conv1D)            (None, 1009, 15)          615       \n",
      "_________________________________________________________________\n",
      "max_pooling1d_1 (MaxPooling1 (None, 201, 15)           0         \n",
      "_________________________________________________________________\n",
      "dropout_1 (Dropout)          (None, 201, 15)           0         \n",
      "_________________________________________________________________\n",
      "bidirectional_1 (Bidirection (None, 20)                2080      \n",
      "_________________________________________________________________\n",
      "dropout_2 (Dropout)          (None, 20)                0         \n",
      "_________________________________________________________________\n",
      "dense_1 (Dense)              (None, 20)                420       \n",
      "_________________________________________________________________\n",
      "dense_2 (Dense)              (None, 1)                 21        \n",
      "=================================================================\n",
      "Total params: 3,136\n",
      "Trainable params: 3,136\n",
      "Non-trainable params: 0\n",
      "_________________________________________________________________\n"
     ]
    }
   ],
   "source": [
    "model.summary()"
   ]
  },
  {
   "cell_type": "markdown",
   "metadata": {},
   "source": [
    "## 2. Retrieve motif from kernel"
   ]
  },
  {
   "cell_type": "code",
   "execution_count": 7,
   "metadata": {},
   "outputs": [],
   "source": [
    "def get_activated_subseq(activations, test_seq, m):\n",
    "    #################################################################\n",
    "    # Extract those in the TEST_SEQUENCE that has least one position\n",
    "    #     having positive activation.\n",
    "    # m: length of filter\n",
    "    #################################################################\n",
    "    N, L, C = activations.shape\n",
    "    activated_subseq = {}\n",
    "    for i in range(C): # for each filter\n",
    "        activated_subseq[i] = []\n",
    "        activation = activations[:, :, i]\n",
    "        \n",
    "        # candidate and potential_start has a shape (N, )\n",
    "        candidate, potential_start = np.max(activation, axis=1), np.argmax(activation, axis=1)\n",
    "        \n",
    "        # activated_indices should have a shape (K, ), where K = # of positive activations\n",
    "        activated_indices = [i for i in range(N) if candidate[i] > 0]\n",
    "        K = len(activated_indices)\n",
    "        # activated_seq should have a shape(K, n + 2m - 2, 4)\n",
    "        activated_seq, ends = test_seq[activated_indices, :, :], potential_start[activated_indices]\n",
    "        #starts = ends - m + 1\n",
    "        starts = ends + m - 1\n",
    "        for k in range(K):\n",
    "            start, end = starts[k], ends[k]\n",
    "            #activated_subseq[i].append(activated_seq[k, start:(end+1), :])\n",
    "            activated_subseq[i].append(activated_seq[k, end:(start+1), :])\n",
    "    return activated_subseq"
   ]
  },
  {
   "cell_type": "code",
   "execution_count": 9,
   "metadata": {},
   "outputs": [],
   "source": [
    "model = load_model('../../models/hybrid_net-motif.h5')\n",
    "\n",
    "filters = model.layers[0].get_weights()[0]\n",
    "bias = model.layers[0].get_weights()[1]"
   ]
  },
  {
   "cell_type": "code",
   "execution_count": 10,
   "metadata": {},
   "outputs": [
    {
     "data": {
      "text/plain": [
       "(1003, 1018, 4)"
      ]
     },
     "execution_count": 10,
     "metadata": {},
     "output_type": "execute_result"
    }
   ],
   "source": [
    "N, n, m = 100, 1000, 10\n",
    "val_x.shape"
   ]
  },
  {
   "cell_type": "markdown",
   "metadata": {},
   "source": [
    "#### Keras' way of getting intermediate output of a layer"
   ]
  },
  {
   "cell_type": "code",
   "execution_count": 11,
   "metadata": {},
   "outputs": [],
   "source": [
    "layer_name = model.layers[0].get_config()['name']\n",
    "intermediate_layer_model = Model(inputs=model.input,\n",
    "                                 outputs=model.get_layer(layer_name).output)\n",
    "intermediate_output = intermediate_layer_model.predict(val_x)"
   ]
  },
  {
   "cell_type": "code",
   "execution_count": 12,
   "metadata": {},
   "outputs": [
    {
     "data": {
      "text/plain": [
       "(1003, 1009, 15)"
      ]
     },
     "execution_count": 12,
     "metadata": {},
     "output_type": "execute_result"
    }
   ],
   "source": [
    "intermediate_output.shape"
   ]
  },
  {
   "cell_type": "code",
   "execution_count": 13,
   "metadata": {},
   "outputs": [],
   "source": [
    "activated_subseq = get_activated_subseq(intermediate_output, val_x, m)"
   ]
  },
  {
   "cell_type": "code",
   "execution_count": 30,
   "metadata": {},
   "outputs": [],
   "source": [
    "def get_char_list(activated_subseq):\n",
    "    \"\"\" Given an activated subsequence of a filter, convert it from from indices to characters\n",
    "    \"\"\"\n",
    "    def seq2char(seq):\n",
    "        one_hot2int = {0:'A', 1:'C', 2:'G', 3:'T', 4:'N'}\n",
    "        int_list = []\n",
    "        for s in seq:\n",
    "            temp = np.where(s == 1)[0]\n",
    "            if temp.size == 0:\n",
    "                int_list.append(4)\n",
    "            else:\n",
    "                int_list.append(temp[0])\n",
    "        return [one_hot2int[i] for i in int_list]\n",
    "    char_list = []\n",
    "    for i, seq in enumerate(activated_subseq):\n",
    "        char_list.append(seq2char(seq))\n",
    "    return np.array(char_list)  "
   ]
  },
  {
   "cell_type": "code",
   "execution_count": 91,
   "metadata": {},
   "outputs": [],
   "source": [
    "char_list = get_char_list(activated_subseq[0])"
   ]
  },
  {
   "cell_type": "code",
   "execution_count": 92,
   "metadata": {},
   "outputs": [
    {
     "data": {
      "text/plain": [
       "array([['A', 'G', 'A', ..., 'G', 'A', 'A'],\n",
       "       ['T', 'T', 'G', ..., 'T', 'A', 'A'],\n",
       "       ['T', 'C', 'G', ..., 'C', 'T', 'A'],\n",
       "       ...,\n",
       "       ['T', 'T', 'G', ..., 'T', 'T', 'A'],\n",
       "       ['T', 'G', 'A', ..., 'A', 'A', 'A'],\n",
       "       ['T', 'T', 'G', ..., 'C', 'A', 'A']], dtype='<U1')"
      ]
     },
     "execution_count": 92,
     "metadata": {},
     "output_type": "execute_result"
    }
   ],
   "source": [
    "char_list"
   ]
  },
  {
   "cell_type": "code",
   "execution_count": 93,
   "metadata": {},
   "outputs": [],
   "source": [
    "def get_freqs(char_list):\n",
    "    uniques, counts = [], []\n",
    "    N, m = char_list.shape\n",
    "    for i in range(m):\n",
    "        unique, count = np.unique(char_list[:, i], return_counts=True)\n",
    "        counts.append(count/N)\n",
    "        uniques.append(unique)\n",
    "\n",
    "    return uniques, counts"
   ]
  },
  {
   "cell_type": "code",
   "execution_count": 94,
   "metadata": {},
   "outputs": [],
   "source": [
    "uniques, freqs = get_freqs(char_list)"
   ]
  },
  {
   "cell_type": "code",
   "execution_count": 95,
   "metadata": {},
   "outputs": [
    {
     "data": {
      "text/plain": [
       "[array([0.49252243, 0.02592223, 0.08673978, 0.39481555]),\n",
       " array([0.05284148, 0.03190429, 0.76071785, 0.15453639]),\n",
       " array([0.18544367, 0.03988036, 0.69391825, 0.08075773]),\n",
       " array([0.20338983, 0.15852443, 0.46959123, 0.16849452]),\n",
       " array([0.04985045, 0.4556331 , 0.49451645]),\n",
       " array([0.0219342 , 0.44366899, 0.11665005, 0.41774676]),\n",
       " array([0.01794616, 0.0558325 , 0.91226321, 0.01395813]),\n",
       " array([0.1774676 , 0.52043868, 0.09272183, 0.20937188]),\n",
       " array([0.50648056, 0.29112662, 0.20239282]),\n",
       " array([0.95613161, 0.00099701, 0.04287139])]"
      ]
     },
     "execution_count": 95,
     "metadata": {},
     "output_type": "execute_result"
    }
   ],
   "source": [
    "freqs"
   ]
  },
  {
   "cell_type": "code",
   "execution_count": 96,
   "metadata": {},
   "outputs": [
    {
     "data": {
      "text/plain": [
       "[array(['A', 'C', 'G', 'T'], dtype='<U1'),\n",
       " array(['A', 'C', 'G', 'T'], dtype='<U1'),\n",
       " array(['A', 'C', 'G', 'T'], dtype='<U1'),\n",
       " array(['A', 'C', 'G', 'T'], dtype='<U1'),\n",
       " array(['A', 'C', 'T'], dtype='<U1'),\n",
       " array(['A', 'C', 'G', 'T'], dtype='<U1'),\n",
       " array(['A', 'C', 'G', 'T'], dtype='<U1'),\n",
       " array(['A', 'C', 'G', 'T'], dtype='<U1'),\n",
       " array(['A', 'C', 'T'], dtype='<U1'),\n",
       " array(['A', 'G', 'T'], dtype='<U1')]"
      ]
     },
     "execution_count": 96,
     "metadata": {},
     "output_type": "execute_result"
    }
   ],
   "source": [
    "uniques"
   ]
  },
  {
   "cell_type": "code",
   "execution_count": 124,
   "metadata": {},
   "outputs": [],
   "source": [
    "def get_candidates(uniques, freqs, threshold):\n",
    "    candidates = []\n",
    "    assert len(freqs) == len(uniques)\n",
    "    for i in range(len(freqs)):\n",
    "        unique, freq = uniques[i], freqs[i]\n",
    "        sorted_indices = np.argsort(-freq)\n",
    "        size, freq_sum = 1, 0\n",
    "        while freq_sum < threshold:\n",
    "            candi_idx = sorted_indices[:size]\n",
    "            freq_sum = freq[candi_idx].sum()\n",
    "            size += 1\n",
    "        candi = unique[candi_idx]\n",
    "        candidates.append(candi)\n",
    "    return candidates"
   ]
  },
  {
   "cell_type": "code",
   "execution_count": 136,
   "metadata": {},
   "outputs": [],
   "source": [
    "candidates = get_candidates(uniques, freqs, 0.5)"
   ]
  },
  {
   "cell_type": "code",
   "execution_count": 137,
   "metadata": {},
   "outputs": [
    {
     "data": {
      "text/plain": [
       "[array(['A', 'T'], dtype='<U1'),\n",
       " array(['G'], dtype='<U1'),\n",
       " array(['G'], dtype='<U1'),\n",
       " array(['G', 'A'], dtype='<U1'),\n",
       " array(['T', 'C'], dtype='<U1'),\n",
       " array(['C', 'T'], dtype='<U1'),\n",
       " array(['G'], dtype='<U1'),\n",
       " array(['C'], dtype='<U1'),\n",
       " array(['A'], dtype='<U1'),\n",
       " array(['A'], dtype='<U1')]"
      ]
     },
     "execution_count": 137,
     "metadata": {},
     "output_type": "execute_result"
    }
   ],
   "source": [
    "candidates"
   ]
  },
  {
   "cell_type": "code",
   "execution_count": 138,
   "metadata": {},
   "outputs": [],
   "source": [
    "def get_motif(candidates):\n",
    "    # Find all the words by dynamic programming\n",
    "    W = [candidates[0]]\n",
    "    for i in range(1, len(candidates)):\n",
    "        temp = W[i - 1].copy()\n",
    "        W.append([])\n",
    "        for char in candidates[i]:\n",
    "            for word in temp:\n",
    "                W[i].append(word+char)\n",
    "    return W[-1]"
   ]
  },
  {
   "cell_type": "code",
   "execution_count": 139,
   "metadata": {},
   "outputs": [
    {
     "data": {
      "text/plain": [
       "['AGGGTCGCAA',\n",
       " 'TGGGTCGCAA',\n",
       " 'AGGATCGCAA',\n",
       " 'TGGATCGCAA',\n",
       " 'AGGGCCGCAA',\n",
       " 'TGGGCCGCAA',\n",
       " 'AGGACCGCAA',\n",
       " 'TGGACCGCAA',\n",
       " 'AGGGTTGCAA',\n",
       " 'TGGGTTGCAA',\n",
       " 'AGGATTGCAA',\n",
       " 'TGGATTGCAA',\n",
       " 'AGGGCTGCAA',\n",
       " 'TGGGCTGCAA',\n",
       " 'AGGACTGCAA',\n",
       " 'TGGACTGCAA']"
      ]
     },
     "execution_count": 139,
     "metadata": {},
     "output_type": "execute_result"
    }
   ],
   "source": [
    "get_motif(candidates)"
   ]
  },
  {
   "cell_type": "markdown",
   "metadata": {},
   "source": [
    "### Print out all the 15 motifs found by 15 filters"
   ]
  },
  {
   "cell_type": "code",
   "execution_count": 144,
   "metadata": {},
   "outputs": [
    {
     "name": "stdout",
     "output_type": "stream",
     "text": [
      "*************0**************\n",
      "['AGGGTCGCAA', 'TGGGTCGCAA', 'AGGATCGCAA', 'TGGATCGCAA', 'AGGGCCGCAA', 'TGGGCCGCAA', 'AGGACCGCAA', 'TGGACCGCAA', 'AGGGTTGCAA', 'TGGGTTGCAA', 'AGGATTGCAA', 'TGGATTGCAA', 'AGGGCTGCAA', 'TGGGCTGCAA', 'AGGACTGCAA', 'TGGACTGCAA']\n",
      "*****************************\n",
      "\n",
      "*************1**************\n",
      "['GATTACACAC', 'GACTACACAC', 'GATCACACAC', 'GACCACACAC', 'GATTAAACAC', 'GACTAAACAC', 'GATCAAACAC', 'GACCAAACAC', 'GATTACGCAC', 'GACTACGCAC', 'GATCACGCAC', 'GACCACGCAC', 'GATTAAGCAC', 'GACTAAGCAC', 'GATCAAGCAC', 'GACCAAGCAC']\n",
      "*****************************\n",
      "\n",
      "*************2**************\n",
      "['ATGATGATTA', 'ATCATGATTA', 'ATGATGATGA', 'ATCATGATGA', 'ATGATGATTC', 'ATCATGATTC', 'ATGATGATGC', 'ATCATGATGC']\n",
      "*****************************\n",
      "\n",
      "*************3**************\n",
      "['TTCTCTCTGC', 'TTGTCTCTGC', 'TTCTCTCTGT', 'TTGTCTCTGT']\n",
      "*****************************\n",
      "\n",
      "*************4**************\n",
      "['TCCACAACTA', 'TCCGCAACTA', 'TCCACAACAA', 'TCCGCAACAA']\n",
      "*****************************\n",
      "\n",
      "*************5**************\n",
      "['CGATGGCAAT', 'CGATGGCTAT', 'CGATGGCATT', 'CGATGGCTTT', 'CGATGGCAAC', 'CGATGGCTAC', 'CGATGGCATC', 'CGATGGCTTC']\n",
      "*****************************\n",
      "\n",
      "*************6**************\n",
      "['TTGCCCTCGA', 'GTGCCCTCGA', 'TTGCCCTAGA', 'GTGCCCTAGA']\n",
      "*****************************\n",
      "\n",
      "*************7**************\n",
      "['GCTGGAGCTC', 'GCAGGAGCTC', 'GCTAGAGCTC', 'GCAAGAGCTC', 'GCTGGAGCTG', 'GCAGGAGCTG', 'GCTAGAGCTG', 'GCAAGAGCTG']\n",
      "*****************************\n",
      "\n",
      "*************8**************\n",
      "['AGCGCAAGTG', 'AACGCAAGTG', 'AGTGCAAGTG', 'AATGCAAGTG', 'AGCGCGAGTG', 'AACGCGAGTG', 'AGTGCGAGTG', 'AATGCGAGTG', 'AGCGCAATTG', 'AACGCAATTG', 'AGTGCAATTG', 'AATGCAATTG', 'AGCGCGATTG', 'AACGCGATTG', 'AGTGCGATTG', 'AATGCGATTG', 'AGCGCAAGCG', 'AACGCAAGCG', 'AGTGCAAGCG', 'AATGCAAGCG', 'AGCGCGAGCG', 'AACGCGAGCG', 'AGTGCGAGCG', 'AATGCGAGCG', 'AGCGCAATCG', 'AACGCAATCG', 'AGTGCAATCG', 'AATGCAATCG', 'AGCGCGATCG', 'AACGCGATCG', 'AGTGCGATCG', 'AATGCGATCG', 'AGCGCAAGTT', 'AACGCAAGTT', 'AGTGCAAGTT', 'AATGCAAGTT', 'AGCGCGAGTT', 'AACGCGAGTT', 'AGTGCGAGTT', 'AATGCGAGTT', 'AGCGCAATTT', 'AACGCAATTT', 'AGTGCAATTT', 'AATGCAATTT', 'AGCGCGATTT', 'AACGCGATTT', 'AGTGCGATTT', 'AATGCGATTT', 'AGCGCAAGCT', 'AACGCAAGCT', 'AGTGCAAGCT', 'AATGCAAGCT', 'AGCGCGAGCT', 'AACGCGAGCT', 'AGTGCGAGCT', 'AATGCGAGCT', 'AGCGCAATCT', 'AACGCAATCT', 'AGTGCAATCT', 'AATGCAATCT', 'AGCGCGATCT', 'AACGCGATCT', 'AGTGCGATCT', 'AATGCGATCT']\n",
      "*****************************\n",
      "\n",
      "*************9**************\n",
      "['ATACACAACA', 'CTACACAACA', 'ATACACACCA', 'CTACACACCA']\n",
      "*****************************\n",
      "\n",
      "*************10**************\n",
      "['CCTGCTTGCA', 'ACTGCTTGCA', 'CTTGCTTGCA', 'ATTGCTTGCA', 'CCAGCTTGCA', 'ACAGCTTGCA', 'CTAGCTTGCA', 'ATAGCTTGCA']\n",
      "*****************************\n",
      "\n",
      "*************11**************\n",
      "['GCTGTCATCG', 'GCTGCCATCG', 'GCTGTCAACG', 'GCTGCCAACG']\n",
      "*****************************\n",
      "\n",
      "*************12**************\n",
      "['GAGGAGGCGG', 'GAAGAGGCGG', 'GAGGAAGCGG', 'GAAGAAGCGG']\n",
      "*****************************\n",
      "\n",
      "*************13**************\n",
      "['TTTAAGTTCC']\n",
      "*****************************\n",
      "\n",
      "*************14**************\n",
      "['TAATATTTTT', 'CAATATTTTT', 'TAATATATTT', 'CAATATATTT']\n",
      "*****************************\n",
      "\n"
     ]
    }
   ],
   "source": [
    "for i in list(activated_subseq):\n",
    "    char_list = get_char_list(activated_subseq[i])\n",
    "    uniques, freqs = get_freqs(char_list)\n",
    "    candidates = get_candidates(uniques, freqs, 0.5)\n",
    "    print(\"*************{}**************\".format(i))\n",
    "    print(get_motif(candidates))\n",
    "    print(\"*****************************\\n\")"
   ]
  },
  {
   "cell_type": "code",
   "execution_count": null,
   "metadata": {},
   "outputs": [],
   "source": []
  }
 ],
 "metadata": {
  "kernelspec": {
   "display_name": "Python 3",
   "language": "python",
   "name": "python3"
  },
  "language_info": {
   "codemirror_mode": {
    "name": "ipython",
    "version": 3
   },
   "file_extension": ".py",
   "mimetype": "text/x-python",
   "name": "python",
   "nbconvert_exporter": "python",
   "pygments_lexer": "ipython3",
   "version": "3.6.8"
  }
 },
 "nbformat": 4,
 "nbformat_minor": 2
}
