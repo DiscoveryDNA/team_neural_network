{
 "cells": [
  {
   "cell_type": "code",
   "execution_count": 1,
   "metadata": {},
   "outputs": [],
   "source": [
    "%load_ext autoreload\n",
    "%autoreload 2"
   ]
  },
  {
   "cell_type": "code",
   "execution_count": 2,
   "metadata": {},
   "outputs": [
    {
     "name": "stderr",
     "output_type": "stream",
     "text": [
      "Using TensorFlow backend.\n"
     ]
    }
   ],
   "source": [
    "import os, shutil, pickle, shelve\n",
    "from Bio import SeqIO\n",
    "import numpy as np\n",
    "import tensorflow as tf\n",
    "import matplotlib.pyplot as plt\n",
    "from keras.models import load_model, Model\n",
    "from keras.utils import plot_model\n",
    "from keras.models import Model, Sequential\n",
    "from keras.models import Sequential\n",
    "from keras.layers import Dense, Dropout, MaxPooling1D, Flatten, Conv1D, LSTM, CuDNNLSTM, Bidirectional\n",
    "from keras.optimizers import RMSprop, Adam\n",
    "from keras.initializers import glorot_normal\n",
    "import keras\n",
    "from utilities import sampling, one_hot_encoding, curtail, get_training_data, load_data, data_split, dianostic_plots, pad_for_detector"
   ]
  },
  {
   "cell_type": "code",
   "execution_count": 3,
   "metadata": {},
   "outputs": [],
   "source": [
    "# sample data from:\n",
    "data_dir = \"/home/ubuntu/group_volume/team_neural_network/data/input/3.24_species_only\"\n",
    "output_folder_path = \"../../../../temp/buffers/\""
   ]
  },
  {
   "cell_type": "markdown",
   "metadata": {},
   "source": [
    "## 1. Training and validation"
   ]
  },
  {
   "cell_type": "code",
   "execution_count": 4,
   "metadata": {},
   "outputs": [
    {
     "data": {
      "text/plain": [
       "3543"
      ]
     },
     "execution_count": 4,
     "metadata": {},
     "output_type": "execute_result"
    }
   ],
   "source": [
    "input_folder_path = \"../../../../temp/samples/\"\n",
    "# Subset sampling: save to ss_samples\n",
    "output_folder_path = \"../../../../temp/buffers/ss_samples\"\n",
    "\n",
    "data_dir = \"/home/ubuntu/group_volume/team_neural_network/data/input/3.24_species_only\"\n",
    "\n",
    "len(os.listdir(data_dir)) # total number of regions"
   ]
  },
  {
   "cell_type": "markdown",
   "metadata": {},
   "source": [
    "Uncomment the following two code chunks to resample the data"
   ]
  },
  {
   "cell_type": "code",
   "execution_count": 5,
   "metadata": {},
   "outputs": [],
   "source": [
    "# !rm -r /home/ubuntu/data/temp/samples\n",
    "# !mkdir /home/ubuntu/data/temp/samples"
   ]
  },
  {
   "cell_type": "code",
   "execution_count": 6,
   "metadata": {},
   "outputs": [],
   "source": [
    "# all_data_lst = np.array(os.listdir(data_dir))\n",
    "# num_samples = 209\n",
    "\n",
    "# sampling(data_dir, input_folder_path, num_samples, seed = 189)\n",
    "\n",
    "# output_file_path = os.path.join(output_folder_path, 'sampled_data.data')\n",
    "# train_regions = one_hot_encoding(input_folder_path, output_file_path)\n",
    "\n",
    "# data_x, data_y = get_training_data(train_regions, output_folder_path,\n",
    "#                                    max_len = 1000, \n",
    "#                                    train_x_name = 'train_x.data', \n",
    "#                                    train_y_name = 'train_y.data')"
   ]
  },
  {
   "cell_type": "code",
   "execution_count": 7,
   "metadata": {},
   "outputs": [
    {
     "name": "stdout",
     "output_type": "stream",
     "text": [
      "5016 (4013, 1000, 4) (4013,) (1003, 1000, 4) (1003,)\n"
     ]
    }
   ],
   "source": [
    "data_x = pickle.load(open('../../../../temp/buffers/ss_samples/train_x.data', 'rb'))\n",
    "data_y = pickle.load(open('../../../../temp/buffers/ss_samples/train_y.data', 'rb'))\n",
    "train_x, train_y, val_x, val_y = data_split(data_x, data_y, seed = 157)\n",
    "train_x, val_x = pad_for_detector(train_x, 10), pad_for_detector(val_x, 10)"
   ]
  },
  {
   "cell_type": "code",
   "execution_count": 8,
   "metadata": {},
   "outputs": [],
   "source": [
    "def get_hybrid(opt):\n",
    "    \"\"\"  Return a hybrid network given a optimizer\n",
    "    \"\"\"\n",
    "    model = Sequential()\n",
    "    model.add(Conv1D(filters = 15, \n",
    "                     kernel_size = 10, \n",
    "                     padding = 'valid',\n",
    "                     data_format = 'channels_last',\n",
    "                     activation = 'relu'))\n",
    "    model.add(MaxPooling1D(pool_size = 5, strides = 5))\n",
    "    model.add(Dropout(0.6))\n",
    "    model.add(Bidirectional(LSTM(10)))\n",
    "    model.add(Dropout(0.7))\n",
    "    model.add(Dense(20, activation = 'relu'))\n",
    "    model.add(Dense(1, activation='sigmoid'))\n",
    "    model.compile(optimizer=opt, loss='binary_crossentropy', metrics=['acc'])\n",
    "    return model\n",
    "\n",
    "def train(model, train_x, train_y, val_data, config = {'epochs': 35, 'batch_size': 256}):\n",
    "    \"\"\"  Train model for a given config, training data, and validation data\n",
    "    \"\"\"\n",
    "    epochs, batch_size = config['epochs'], config['batch_size']\n",
    "    return model.fit(train_x, train_y, epochs=epochs, batch_size=batch_size, validation_data=val_data)"
   ]
  },
  {
   "cell_type": "code",
   "execution_count": 10,
   "metadata": {},
   "outputs": [
    {
     "name": "stdout",
     "output_type": "stream",
     "text": [
      "Train on 4013 samples, validate on 1003 samples\n",
      "Epoch 1/35\n",
      "4013/4013 [==============================] - 31s 8ms/step - loss: 0.6972 - acc: 0.5138 - val_loss: 0.6882 - val_acc: 0.5095\n",
      "Epoch 2/35\n",
      "4013/4013 [==============================] - 11s 3ms/step - loss: 0.6894 - acc: 0.5378 - val_loss: 0.6804 - val_acc: 0.6311\n",
      "Epoch 3/35\n",
      "4013/4013 [==============================] - 11s 3ms/step - loss: 0.6796 - acc: 0.5696 - val_loss: 0.6633 - val_acc: 0.5703\n",
      "Epoch 4/35\n",
      "4013/4013 [==============================] - 11s 3ms/step - loss: 0.6685 - acc: 0.5709 - val_loss: 0.6530 - val_acc: 0.6321\n",
      "Epoch 5/35\n",
      "4013/4013 [==============================] - 11s 3ms/step - loss: 0.6563 - acc: 0.6010 - val_loss: 0.6368 - val_acc: 0.6281\n",
      "Epoch 6/35\n",
      "4013/4013 [==============================] - 11s 3ms/step - loss: 0.6509 - acc: 0.6085 - val_loss: 0.6198 - val_acc: 0.6989\n",
      "Epoch 7/35\n",
      "4013/4013 [==============================] - 12s 3ms/step - loss: 0.6403 - acc: 0.6319 - val_loss: 0.6008 - val_acc: 0.7069\n",
      "Epoch 8/35\n",
      "4013/4013 [==============================] - 11s 3ms/step - loss: 0.6247 - acc: 0.6541 - val_loss: 0.5742 - val_acc: 0.7438\n",
      "Epoch 9/35\n",
      "4013/4013 [==============================] - 11s 3ms/step - loss: 0.6082 - acc: 0.6711 - val_loss: 0.6293 - val_acc: 0.6790\n",
      "Epoch 10/35\n",
      "4013/4013 [==============================] - 11s 3ms/step - loss: 0.6083 - acc: 0.6681 - val_loss: 0.5720 - val_acc: 0.7069\n",
      "Epoch 11/35\n",
      "4013/4013 [==============================] - 11s 3ms/step - loss: 0.5906 - acc: 0.6835 - val_loss: 0.5745 - val_acc: 0.7198\n",
      "Epoch 12/35\n",
      "4013/4013 [==============================] - 11s 3ms/step - loss: 0.5906 - acc: 0.6952 - val_loss: 0.5258 - val_acc: 0.7617\n",
      "Epoch 13/35\n",
      "4013/4013 [==============================] - 11s 3ms/step - loss: 0.5774 - acc: 0.6992 - val_loss: 0.5001 - val_acc: 0.7916\n",
      "Epoch 14/35\n",
      "4013/4013 [==============================] - 11s 3ms/step - loss: 0.5718 - acc: 0.7037 - val_loss: 0.5122 - val_acc: 0.7587\n",
      "Epoch 15/35\n",
      "4013/4013 [==============================] - 11s 3ms/step - loss: 0.5618 - acc: 0.7117 - val_loss: 0.4909 - val_acc: 0.7717\n",
      "Epoch 16/35\n",
      "4013/4013 [==============================] - 11s 3ms/step - loss: 0.5623 - acc: 0.7132 - val_loss: 0.4847 - val_acc: 0.8056\n",
      "Epoch 17/35\n",
      "4013/4013 [==============================] - 11s 3ms/step - loss: 0.5556 - acc: 0.7184 - val_loss: 0.4863 - val_acc: 0.7727\n",
      "Epoch 18/35\n",
      "4013/4013 [==============================] - 11s 3ms/step - loss: 0.5567 - acc: 0.7152 - val_loss: 0.4679 - val_acc: 0.8265\n",
      "Epoch 19/35\n",
      "4013/4013 [==============================] - 11s 3ms/step - loss: 0.5471 - acc: 0.7256 - val_loss: 0.4634 - val_acc: 0.8086\n",
      "Epoch 20/35\n",
      "4013/4013 [==============================] - 11s 3ms/step - loss: 0.5417 - acc: 0.7326 - val_loss: 0.4670 - val_acc: 0.7946\n",
      "Epoch 21/35\n",
      "4013/4013 [==============================] - 11s 3ms/step - loss: 0.5308 - acc: 0.7416 - val_loss: 0.4512 - val_acc: 0.8245\n",
      "Epoch 22/35\n",
      "4013/4013 [==============================] - 11s 3ms/step - loss: 0.5343 - acc: 0.7364 - val_loss: 0.4521 - val_acc: 0.8285\n",
      "Epoch 23/35\n",
      "4013/4013 [==============================] - 12s 3ms/step - loss: 0.5348 - acc: 0.7379 - val_loss: 0.4375 - val_acc: 0.8205\n",
      "Epoch 24/35\n",
      "4013/4013 [==============================] - 11s 3ms/step - loss: 0.5275 - acc: 0.7423 - val_loss: 0.4367 - val_acc: 0.8375\n",
      "Epoch 25/35\n",
      "4013/4013 [==============================] - 11s 3ms/step - loss: 0.5348 - acc: 0.7329 - val_loss: 0.4358 - val_acc: 0.8315\n",
      "Epoch 26/35\n",
      "4013/4013 [==============================] - 11s 3ms/step - loss: 0.5263 - acc: 0.7386 - val_loss: 0.4311 - val_acc: 0.8375\n",
      "Epoch 27/35\n",
      "4013/4013 [==============================] - 11s 3ms/step - loss: 0.5299 - acc: 0.7413 - val_loss: 0.4341 - val_acc: 0.8385\n",
      "Epoch 28/35\n",
      "4013/4013 [==============================] - 11s 3ms/step - loss: 0.5145 - acc: 0.7550 - val_loss: 0.4227 - val_acc: 0.8445\n",
      "Epoch 29/35\n",
      "4013/4013 [==============================] - 11s 3ms/step - loss: 0.5150 - acc: 0.7476 - val_loss: 0.4171 - val_acc: 0.8375\n",
      "Epoch 30/35\n",
      "4013/4013 [==============================] - 11s 3ms/step - loss: 0.5215 - acc: 0.7461 - val_loss: 0.4204 - val_acc: 0.8375\n",
      "Epoch 31/35\n",
      "4013/4013 [==============================] - 11s 3ms/step - loss: 0.5144 - acc: 0.7528 - val_loss: 0.4151 - val_acc: 0.8385\n",
      "Epoch 32/35\n",
      "4013/4013 [==============================] - 11s 3ms/step - loss: 0.5149 - acc: 0.7498 - val_loss: 0.4146 - val_acc: 0.8504\n",
      "Epoch 33/35\n",
      "4013/4013 [==============================] - 11s 3ms/step - loss: 0.5074 - acc: 0.7595 - val_loss: 0.4078 - val_acc: 0.8435\n",
      "Epoch 34/35\n",
      "4013/4013 [==============================] - 11s 3ms/step - loss: 0.5018 - acc: 0.7585 - val_loss: 0.4050 - val_acc: 0.8534\n",
      "Epoch 35/35\n",
      "4013/4013 [==============================] - 11s 3ms/step - loss: 0.5101 - acc: 0.7625 - val_loss: 0.4041 - val_acc: 0.8495\n"
     ]
    }
   ],
   "source": [
    "# Start training\n",
    "# Set up some configurations\n",
    "optimizers = {'adam': Adam(lr=1e-3, beta_1=0.9, beta_2=0.999, epsilon=None, decay=1e-2, amsgrad=False),\n",
    "              'rmsprop': RMSprop(lr=1e-2, rho=0.9, epsilon=None, decay=1e-2)}\n",
    "config = {'epochs': 35, 'batch_size': 256}\n",
    "opt = optimizers['rmsprop']\n",
    "model = get_hybrid(opt)\n",
    "history = train(model, train_x, train_y, (val_x, val_y), config)"
   ]
  },
  {
   "cell_type": "code",
   "execution_count": 11,
   "metadata": {},
   "outputs": [],
   "source": [
    "# Save the model for later analysis\n",
    "save_model_path = '/home/ubuntu/data/team_neural_network/code/models'\n",
    "model_name = 'hybrid_net-motif.h5'\n",
    "model.save(os.path.join(save_model_path, model_name))"
   ]
  },
  {
   "cell_type": "code",
   "execution_count": 12,
   "metadata": {},
   "outputs": [
    {
     "data": {
      "image/png": "[encoded data removed]",
      "text/plain": [
       "<Figure size 432x288 with 1 Axes>"
      ]
     },
     "metadata": {},
     "output_type": "display_data"
    },
    {
     "data": {
      "image/png": "[encoded data removed]",
      "text/plain": [
       "<Figure size 432x288 with 1 Axes>"
      ]
     },
     "metadata": {},
     "output_type": "display_data"
    }
   ],
   "source": [
    "acc = history.history['acc']\n",
    "val_acc = history.history['val_acc']\n",
    "loss = history.history['loss']\n",
    "val_loss = history.history['val_loss']\n",
    "\n",
    "dianostic_plots(acc, loss, val_acc, val_loss)"
   ]
  },
  {
   "cell_type": "code",
   "execution_count": 13,
   "metadata": {},
   "outputs": [
    {
     "name": "stdout",
     "output_type": "stream",
     "text": [
      "_________________________________________________________________\n",
      "Layer (type)                 Output Shape              Param #   \n",
      "=================================================================\n",
      "conv1d_1 (Conv1D)            (None, 1009, 15)          615       \n",
      "_________________________________________________________________\n",
      "max_pooling1d_1 (MaxPooling1 (None, 201, 15)           0         \n",
      "_________________________________________________________________\n",
      "dropout_1 (Dropout)          (None, 201, 15)           0         \n",
      "_________________________________________________________________\n",
      "bidirectional_1 (Bidirection (None, 20)                2080      \n",
      "_________________________________________________________________\n",
      "dropout_2 (Dropout)          (None, 20)                0         \n",
      "_________________________________________________________________\n",
      "dense_1 (Dense)              (None, 20)                420       \n",
      "_________________________________________________________________\n",
      "dense_2 (Dense)              (None, 1)                 21        \n",
      "=================================================================\n",
      "Total params: 3,136\n",
      "Trainable params: 3,136\n",
      "Non-trainable params: 0\n",
      "_________________________________________________________________\n"
     ]
    }
   ],
   "source": [
    "model.summary()"
   ]
  }
 ],
 "metadata": {
  "kernelspec": {
   "display_name": "Python 3",
   "language": "python",
   "name": "python3"
  },
  "language_info": {
   "codemirror_mode": {
    "name": "ipython",
    "version": 3
   },
   "file_extension": ".py",
   "mimetype": "text/x-python",
   "name": "python",
   "nbconvert_exporter": "python",
   "pygments_lexer": "ipython3",
   "version": "3.6.5"
  }
 },
 "nbformat": 4,
 "nbformat_minor": 2
}
