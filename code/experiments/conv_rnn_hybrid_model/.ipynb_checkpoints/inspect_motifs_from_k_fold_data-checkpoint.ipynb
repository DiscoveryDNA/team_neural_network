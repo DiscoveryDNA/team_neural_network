{
 "cells": [
  {
   "cell_type": "code",
   "execution_count": 1,
   "metadata": {},
   "outputs": [],
   "source": [
    "%load_ext autoreload\n",
    "%autoreload 2"
   ]
  },
  {
   "cell_type": "code",
   "execution_count": 59,
   "metadata": {},
   "outputs": [],
   "source": [
    "import os, shutil, pickle, shelve\n",
    "from Bio import SeqIO\n",
    "import numpy as np\n",
    "import tensorflow as tf\n",
    "import matplotlib.pyplot as plt\n",
    "from keras.models import load_model, Model\n",
    "from keras.utils import plot_model\n",
    "from keras.models import Model, Sequential\n",
    "from keras.models import Sequential\n",
    "from keras.layers import Dense, Dropout, MaxPooling1D, Flatten, Conv1D, LSTM, CuDNNLSTM, Bidirectional, TimeDistributed\n",
    "from keras.optimizers import RMSprop, Adam\n",
    "from keras.initializers import glorot_normal\n",
    "from utilities import sampling, one_hot_encoding, curtail, get_training_data, load_data, data_split, dianostic_plots, pad_for_detector\n",
    "from utilities import get_char_list, get_activated_subseq, get_freqs, get_candidates, get_motif\n",
    "import keras\n",
    "import utilities"
   ]
  },
  {
   "cell_type": "code",
   "execution_count": 4,
   "metadata": {},
   "outputs": [
    {
     "data": {
      "text/plain": [
       "3543"
      ]
     },
     "execution_count": 4,
     "metadata": {},
     "output_type": "execute_result"
    }
   ],
   "source": [
    "# Subset sampling: save to me_samples; \"me\" for \"mutually exclusive\"\n",
    "output_folder_path = \"../../../../temp/buffers/me_samples\"\n",
    "\n",
    "data_dir = \"/home/ubuntu/group_volume/team_neural_network/data/input/3.24_species_only\"\n",
    "\n",
    "len(os.listdir(data_dir)) # total number of regions"
   ]
  },
  {
   "cell_type": "markdown",
   "metadata": {},
   "source": [
    "### Start creating 5 folds of training data"
   ]
  },
  {
   "cell_type": "code",
   "execution_count": 18,
   "metadata": {},
   "outputs": [],
   "source": [
    "L = len(os.listdir(data_dir))\n",
    "k = 5\n",
    "r = 1/(k + 1)\n",
    "partition = [int(n*r*L) for n in range(0, k)] + [L]"
   ]
  },
  {
   "cell_type": "code",
   "execution_count": 19,
   "metadata": {},
   "outputs": [
    {
     "data": {
      "text/plain": [
       "[0, 590, 1181, 1771, 2362, 3543]"
      ]
     },
     "execution_count": 19,
     "metadata": {},
     "output_type": "execute_result"
    }
   ],
   "source": [
    "partition"
   ]
  },
  {
   "cell_type": "code",
   "execution_count": 22,
   "metadata": {},
   "outputs": [],
   "source": [
    "folds = [np.arange(partition[i], partition[i+1]) for i in range(k)]"
   ]
  },
  {
   "cell_type": "code",
   "execution_count": 29,
   "metadata": {},
   "outputs": [
    {
     "name": "stdout",
     "output_type": "stream",
     "text": [
      "copied training samples to /home/ubuntu/data/temp/folds/fold1\n",
      "copied training samples to /home/ubuntu/data/temp/folds/fold2\n",
      "copied training samples to /home/ubuntu/data/temp/folds/fold3\n",
      "copied training samples to /home/ubuntu/data/temp/folds/fold4\n",
      "copied training samples to /home/ubuntu/data/temp/folds/fold5\n"
     ]
    }
   ],
   "source": [
    "all_data_lst = np.array(os.listdir(data_dir))\n",
    "fold_root_dir = '/home/ubuntu/data/temp/folds'\n",
    "for i in range(k):\n",
    "    fold_files = all_data_lst[folds[i]]\n",
    "    fold_dir = os.path.join(fold_root_dir, 'fold'+str(i+1))\n",
    "    for file in fold_files:\n",
    "        shutil.copy(os.path.join(data_dir, file),\n",
    "                              fold_dir)\n",
    "    print('copied training samples to {}'.format(fold_dir))"
   ]
  },
  {
   "cell_type": "code",
   "execution_count": 43,
   "metadata": {},
   "outputs": [
    {
     "name": "stdout",
     "output_type": "stream",
     "text": [
      "save to /home/ubuntu/data/temp/buffers/folds/fold1/fold1.data\n",
      "(14160, 1000, 4) (14160,)\n",
      "save to /home/ubuntu/data/temp/buffers/folds/fold1/fold1_x.data\n",
      "save to /home/ubuntu/data/temp/buffers/folds/fold1/fold1_y.data\n",
      "save to /home/ubuntu/data/temp/buffers/folds/fold2/fold2.data\n",
      "(14184, 1000, 4) (14184,)\n",
      "save to /home/ubuntu/data/temp/buffers/folds/fold2/fold2_x.data\n",
      "save to /home/ubuntu/data/temp/buffers/folds/fold2/fold2_y.data\n",
      "save to /home/ubuntu/data/temp/buffers/folds/fold3/fold3.data\n",
      "(14160, 1000, 4) (14160,)\n",
      "save to /home/ubuntu/data/temp/buffers/folds/fold3/fold3_x.data\n",
      "save to /home/ubuntu/data/temp/buffers/folds/fold3/fold3_y.data\n",
      "save to /home/ubuntu/data/temp/buffers/folds/fold4/fold4.data\n",
      "(14184, 1000, 4) (14184,)\n",
      "save to /home/ubuntu/data/temp/buffers/folds/fold4/fold4_x.data\n",
      "save to /home/ubuntu/data/temp/buffers/folds/fold4/fold4_y.data\n",
      "save to /home/ubuntu/data/temp/buffers/folds/fold5/fold5.data\n",
      "(28344, 1000, 4) (28344,)\n",
      "save to /home/ubuntu/data/temp/buffers/folds/fold5/fold5_x.data\n",
      "save to /home/ubuntu/data/temp/buffers/folds/fold5/fold5_y.data\n"
     ]
    }
   ],
   "source": [
    "k_fold_data = []\n",
    "i = 0\n",
    "fold_output_path = '/home/ubuntu/data/temp/buffers/folds/'\n",
    "for i in range(k):\n",
    "    one_fold_output_path = os.path.join(fold_output_path, 'fold'+str(i+1))\n",
    "    all_regions = one_hot_encoding(os.path.join(fold_root_dir, 'fold'+str(i+1)+'/'),\n",
    "                                   os.path.join(one_fold_output_path, 'fold'+str(i+1)+'.data'))\n",
    "    temp_x, temp_y = get_training_data(all_regions, one_fold_output_path,\n",
    "                                       1000, 'fold'+str(i+1)+'_x.data', 'fold'+str(i+1)+'_y.data')\n",
    "    k_fold_data.append((temp_x, temp_y))"
   ]
  },
  {
   "cell_type": "markdown",
   "metadata": {},
   "source": [
    "### Finish creating 5 folds of data"
   ]
  },
  {
   "cell_type": "markdown",
   "metadata": {},
   "source": [
    "## Start training model and extracting motifs on all 5 folds"
   ]
  },
  {
   "cell_type": "code",
   "execution_count": 44,
   "metadata": {},
   "outputs": [
    {
     "name": "stdout",
     "output_type": "stream",
     "text": [
      "28344 (22676, 1000, 4) (22676,) (5668, 1000, 4) (5668,)\n"
     ]
    }
   ],
   "source": [
    "data_x = pickle.load(open('/home/ubuntu/data/temp/buffers/folds/fold5/fold5_x.data', 'rb'))\n",
    "data_y = pickle.load(open('/home/ubuntu/data/temp/buffers/folds/fold5/fold5_y.data', 'rb'))\n",
    "train_x, train_y, val_x, val_y = data_split(data_x, data_y, seed = 157)\n",
    "train_x, val_x = pad_for_detector(train_x, 10), pad_for_detector(val_x, 10)"
   ]
  },
  {
   "cell_type": "code",
   "execution_count": 62,
   "metadata": {},
   "outputs": [],
   "source": [
    "n = 15 # number of filters\n",
    "m = 10 # filter size\n",
    "def get_hybrid(opt, num_filters, kernel_size):\n",
    "    \"\"\"  Return a hybrid network given a optimizer\n",
    "    \"\"\"\n",
    "    model = Sequential()\n",
    "    model.add(Conv1D(filters = num_filters, \n",
    "                     kernel_size = kernel_size, \n",
    "                     padding = 'valid',\n",
    "                     activation = 'relu'))\n",
    "    model.add(MaxPooling1D(pool_size = 5, strides = 5))\n",
    "    model.add(Dropout(0.1))\n",
    "    #model.add(Bidirectional(LSTM(20)))\n",
    "    #model.add(Bidirectional(CuDNNLSTM(15, return_sequences=True)))\n",
    "    model.add(Bidirectional(CuDNNLSTM(20)))\n",
    "    model.add(Dropout(0.2))\n",
    "    model.add(Dense(50))\n",
    "    model.add(keras.layers.LeakyReLU(alpha=0.3))\n",
    "    model.add(Dense(20))\n",
    "    model.add(keras.layers.LeakyReLU(alpha=0.3))\n",
    "    model.add(Dense(1, activation='sigmoid'))\n",
    "    model.compile(optimizer=opt, loss='binary_crossentropy', metrics=['acc'])\n",
    "    return model\n",
    "\n",
    "\n",
    "def train(model, train_x, train_y, val_data, config = {'epochs': 35, 'batch_size': 256}):\n",
    "    \"\"\"  Train model for a given config, training data, and validation data\n",
    "    \"\"\"\n",
    "    epochs, batch_size = config['epochs'], config['batch_size']\n",
    "    return model.fit(train_x, train_y, epochs=epochs, batch_size=batch_size, validation_data=val_data)"
   ]
  },
  {
   "cell_type": "code",
   "execution_count": 85,
   "metadata": {},
   "outputs": [],
   "source": [
    "# Start training\n",
    "# Set up some configurations\n",
    "optimizers = {'adam': Adam(lr=1e-3, beta_1=0.9, beta_2=0.999, epsilon=None, decay=1e-2, amsgrad=False),\n",
    "              'rmsprop': RMSprop(lr=1e-2, rho=0.9, epsilon=None, decay=1e-2)}\n",
    "config = {'epochs': 100, 'batch_size': 562}\n",
    "opt = optimizers['rmsprop']"
   ]
  },
  {
   "cell_type": "code",
   "execution_count": null,
   "metadata": {},
   "outputs": [
    {
     "name": "stdout",
     "output_type": "stream",
     "text": [
      "************************************\n",
      "Training on fold 1\n",
      "14160 (11328, 1000, 4) (11328,) (2832, 1000, 4) (2832,)\n",
      "Train on 11328 samples, validate on 2832 samples\n",
      "Epoch 1/100\n",
      "11328/11328 [==============================] - 9s 805us/step - loss: 0.7347 - acc: 0.5475 - val_loss: 0.6894 - val_acc: 0.5576\n",
      "Epoch 2/100\n",
      " 2810/11328 [======>.......................] - ETA: 2s - loss: 0.6856 - acc: 0.5669"
     ]
    }
   ],
   "source": [
    "save_model_path = '/home/ubuntu/data/team_neural_network/code/models'\n",
    "k_fold_history = []\n",
    "for i in range(1, k+1):\n",
    "    print(\"************************************\")\n",
    "    print(\"Training on fold {}\".format(i))\n",
    "    \n",
    "    data_x_path = '/home/ubuntu/data/temp/buffers/folds/fold{}/fold{}_x.data'.format(i, i)\n",
    "    data_y_path = '/home/ubuntu/data/temp/buffers/folds/fold{}/fold{}_y.data'.format(i, i)\n",
    "    # Data preparation\n",
    "    data_x = pickle.load(open(data_x_path, 'rb'))\n",
    "    data_y = pickle.load(open(data_y_path, 'rb'))\n",
    "    train_x, train_y, val_x, val_y = data_split(data_x, data_y, seed = 157)\n",
    "    train_x, val_x = pad_for_detector(train_x, m), pad_for_detector(val_x, 10)\n",
    "    \n",
    "    # Training\n",
    "    model = get_hybrid(opt, num_filters = n, kernel_size = m)\n",
    "    history = train(model, train_x, train_y, (val_x, val_y), config)\n",
    "    \n",
    "    # Saving models\n",
    "    k_fold_history.append(history)\n",
    "    model_name = 'hybrid_net_fold' + str(i) + '.h5'\n",
    "    model.save(os.path.join(save_model_path, model_name))\n",
    "    print(\"************************************\")"
   ]
  },
  {
   "cell_type": "code",
   "execution_count": null,
   "metadata": {},
   "outputs": [],
   "source": [
    "motifs_from_k_folds = {i:[] for i in range(1, k+1)}\n",
    "\n",
    "for i in range(1, k+1):\n",
    "    model_name = 'hybrid_net_fold' + str(i) + '.h5'\n",
    "    model = load_model(os.path.join('../../models/', model_name))\n",
    "\n",
    "    filters = model.layers[0].get_weights()[0]\n",
    "    bias = model.layers[0].get_weights()[1]\n",
    "\n",
    "    layer_name = model.layers[0].get_config()['name']\n",
    "    intermediate_layer_model = Model(inputs=model.input,\n",
    "                                     outputs=model.get_layer(layer_name).output)\n",
    "    intermediate_output = intermediate_layer_model.predict(val_x)\n",
    "\n",
    "    activated_subseq = get_activated_subseq(intermediate_output, val_x, m)\n",
    "    for k in list(activated_subseq):\n",
    "        char_list = get_char_list(activated_subseq[k])\n",
    "        uniques, freqs = get_freqs(char_list)\n",
    "        candidates = get_candidates(uniques, freqs, 0.45)\n",
    "        motifs_from_k_folds[i].append(get_motif(candidates))"
   ]
  },
  {
   "cell_type": "code",
   "execution_count": null,
   "metadata": {},
   "outputs": [],
   "source": [
    "k = 5\n",
    "for i in range(1, k+1):\n",
    "    print(\"**************************\")\n",
    "    print(\"motifs extracted from fold {}\\n\".format(i))\n",
    "    for seq in motifs_from_k_folds[i]:\n",
    "        print(seq)\n",
    "    print(\"**************************\")"
   ]
  }
 ],
 "metadata": {
  "kernelspec": {
   "display_name": "Python 3",
   "language": "python",
   "name": "python3"
  },
  "language_info": {
   "codemirror_mode": {
    "name": "ipython",
    "version": 3
   },
   "file_extension": ".py",
   "mimetype": "text/x-python",
   "name": "python",
   "nbconvert_exporter": "python",
   "pygments_lexer": "ipython3",
   "version": "3.6.4"
  }
 },
 "nbformat": 4,
 "nbformat_minor": 2
}
