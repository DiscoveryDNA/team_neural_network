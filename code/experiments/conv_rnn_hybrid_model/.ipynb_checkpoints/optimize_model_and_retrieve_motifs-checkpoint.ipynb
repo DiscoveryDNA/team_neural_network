{
 "cells": [
  {
   "cell_type": "code",
   "execution_count": 189,
   "metadata": {},
   "outputs": [],
   "source": [
    "import os, shutil, pickle, shelve\n",
    "#from Bio import SeqIO\n",
    "import numpy as np\n",
    "import tensorflow as tf\n",
    "import matplotlib.pyplot as plt\n",
    "from keras.models import load_model, Model\n",
    "from keras.utils import plot_model\n",
    "from keras.models import Model, Sequential\n",
    "from keras.models import Sequential\n",
    "from keras.layers import Dense, Dropout, MaxPooling1D, Flatten, Conv1D, LSTM, CuDNNLSTM, Bidirectional\n",
    "from keras.optimizers import RMSprop, Adam\n",
    "from keras.initializers import glorot_normal\n",
    "from utilities import one_hot_encoding, curtail, get_training_data, dianostic_plots"
   ]
  },
  {
   "cell_type": "code",
   "execution_count": null,
   "metadata": {},
   "outputs": [],
   "source": [
    "# sample data from:\n",
    "data_dir = \"/home/ubuntu/group_volume/team_neural_network/data/input/3.24_species_only\""
   ]
  },
  {
   "cell_type": "markdown",
   "metadata": {},
   "source": [
    "## 1. Training and validation"
   ]
  },
  {
   "cell_type": "code",
   "execution_count": null,
   "metadata": {},
   "outputs": [],
   "source": [
    "def pad_for_detector(input_x, kernel_size):\n",
    "    \"\"\" Pad the input matrix such that the (i, k) entry of the output \n",
    "        matrix is the score of motif detector k aligned to position i.\n",
    "    input_x has shape = (N, n, 4)\n",
    "    kernel_size has shape m\n",
    "    output has shape = (N, n + 2m - 2, 4)\n",
    "    \"\"\"\n",
    "    N, n, C = input_x.shape\n",
    "    pad_value, num_pad = 0.25, kernel_size - 1\n",
    "    pad_matrix = np.full((N, num_pad, C), pad_value)\n",
    "    return np.concatenate((pad_matrix, input_x, pad_matrix), axis=1)"
   ]
  },
  {
   "cell_type": "code",
   "execution_count": null,
   "metadata": {},
   "outputs": [],
   "source": [
    "# Sample training and validation data\n",
    "# Make sure that they don't have intersection.\n",
    "all_data_lst = np.array(os.listdir(data_dir))\n",
    "n = len(all_data_lst)\n",
    "train_files = all_data_lst[:500]\n",
    "num_val = 100\n",
    "val_indices = np.random.choice(np.arange(500, n), num_val, replace = False)\n",
    "val_files = all_data_lst[val_indices]\n",
    "\n",
    "train_dest = '/home/ubuntu/data/temp/train'\n",
    "for file in train_files:\n",
    "    shutil.copy(os.path.join(data_dir, file),\n",
    "                          dest)\n",
    "print('copied training samples to {}'.format(dest))\n",
    "\n",
    "val_dest = '/home/ubuntu/data/temp/val'\n",
    "for file in val_files:\n",
    "    shutil.copy(os.path.join(data_dir, file),\n",
    "                          dest)\n",
    "print('copied validation samples to {}'.format(dest))\n",
    "\n",
    "# Preprocess train and val data so that they are ready to be fed to models\n",
    "train_output_path = os.path.join(output_folder_path, 'train.data')\n",
    "val_output_path = os.path.join(output_folder_path, 'val.data')\n",
    "\n",
    "train_regions = one_hot_encoding(test_folder_path, train_output_path)\n",
    "val_regions = one_hot_encoding(test_folder_path, val_output_path)\n",
    "train_x, train_y = get_training_data(train_regions, train_output_path,\n",
    "                                   max_len = 1000, \n",
    "                                   train_x_name = 'train_x.data', \n",
    "                                   train_y_name = 'train_y.data')\n",
    "val_x, val_y = get_training_data(val_regions, val_output_path,\n",
    "                                   max_len = 1000, \n",
    "                                   train_x_name = 'val_x.data', \n",
    "                                   train_y_name = 'val_y.data')\n",
    "# Pad for motif detectors\n",
    "train_x, val_x = pad_for_detector(train_x, 15), pad_for_detector(val_x, 15)"
   ]
  },
  {
   "cell_type": "code",
   "execution_count": 4,
   "metadata": {},
   "outputs": [],
   "source": [
    "def get_hybrid(opt):\n",
    "    \"\"\"  Return a hybrid network given a optimizer\n",
    "    \"\"\"\n",
    "    model = Sequential()\n",
    "    model.add(Conv1D(filters = 30, \n",
    "                     kernel_size = 15, \n",
    "                     padding = 'valid',\n",
    "                     data_format = 'channels_last',\n",
    "                     activation = 'relu'))\n",
    "    model.add(MaxPooling1D(pool_size = 5, strides = 5))\n",
    "    model.add(Dropout(0.6))\n",
    "    model.add(Bidirectional(LSTM(10)))\n",
    "    model.add(Dropout(0.7))\n",
    "    model.add(Dense(20, activation = 'relu'))\n",
    "    model.add(Dense(1, activation='sigmoid'))\n",
    "    model.compile(optimizer=opt, loss='binary_crossentropy', metrics=['acc'])\n",
    "    return model\n",
    "\n",
    "def train(model, train_x, train_y, val_data, config = {'epochs': 35, 'batch_size': 256}):\n",
    "    \"\"\"  Train model for a given config, training data, and validation data\n",
    "    \"\"\"\n",
    "    epochs, batch_size = config['epochs'], config['batch_size']\n",
    "    return model.fit(train_x, train_y, epochs=epochs, batch_size=batch_size, validation_data=val_data)\n",
    "\n",
    "def dianostic_plots(train_acc, train_loss, val_train_acc, val_loss):\n",
    "    \"\"\"  Plot dianostic plots of a model:\n",
    "    Plot 1: Traning loss & validation loss against epochs\n",
    "    Plot 2: Training acc & validation acc against epochs\n",
    "    \"\"\"\n",
    "    epochs = range(1, len(train_acc) + 1)\n",
    "\n",
    "    plt.plot(epochs, train_acc, '-', label='Training train_accuracy')\n",
    "    plt.plot(epochs, val_train_acc, '-', label='Validation Accuracy')\n",
    "    plt.title('Training and Validation Accuracy')\n",
    "    plt.xlabel('epoches')\n",
    "    plt.legend()\n",
    "\n",
    "    plt.figure()\n",
    "    plt.plot(epochs, loss, '-', label='Training Loss')\n",
    "    plt.plot(epochs, val_loss, '-', label='Validation Loss')\n",
    "    plt.title('Training and Validation Loss')\n",
    "    plt.xlabel('epoches')\n",
    "    plt.legend()\n",
    "    \n",
    "    plt.show()"
   ]
  },
  {
   "cell_type": "code",
   "execution_count": null,
   "metadata": {},
   "outputs": [],
   "source": [
    "# Start training\n",
    "# Set up some configurations\n",
    "optimizers = {'adam': Adam(lr=1e-3, beta_1=0.9, beta_2=0.999, epsilon=None, decay=1e-2, amsgrad=False),\n",
    "              'rmsprop': RMSprop(lr=1e-2, rho=0.9, epsilon=None, decay=1e-2)}\n",
    "config = {'epochs': 35, 'batch_size': 256}\n",
    "opt = optimizers['rmsprop']\n",
    "model = get_hybrid(opt)\n",
    "history = train(model, train_x, train_y, (val_x, val_y), config)"
   ]
  },
  {
   "cell_type": "code",
   "execution_count": null,
   "metadata": {},
   "outputs": [],
   "source": [
    "model.summary()"
   ]
  },
  {
   "cell_type": "code",
   "execution_count": null,
   "metadata": {},
   "outputs": [],
   "source": [
    "acc = history.history['acc']\n",
    "val_acc = history.history['val_acc']\n",
    "loss = history.history['loss']\n",
    "val_loss = history.history['val_loss']\n",
    "\n",
    "dianostic_plots(acc, loss, val_acc, val_loss)"
   ]
  },
  {
   "cell_type": "code",
   "execution_count": null,
   "metadata": {},
   "outputs": [],
   "source": [
    "# Save the model for later analysis\n",
    "save_model_path = '/home/ubuntu/data/team_neural_network/code/models'\n",
    "model_name = 'hybrid_net2.h5'\n",
    "model.save(os.path.join(save_model_path, model_name))"
   ]
  },
  {
   "cell_type": "markdown",
   "metadata": {},
   "source": [
    "## 2. Retrieve motif from kernel"
   ]
  },
  {
   "cell_type": "code",
   "execution_count": 184,
   "metadata": {},
   "outputs": [],
   "source": [
    "def get_activated_subseq(activations, test_seq, m):\n",
    "    #################################################################\n",
    "    # Extract those in the TEST_SEQUENCE that has least one position\n",
    "    #     having positive activation.\n",
    "    #################################################################\n",
    "    N, L, C = activations.shape\n",
    "    activated_subseq = {}\n",
    "    for i in range(C): # for each filter\n",
    "        activated_subseq[i] = []\n",
    "        activation = activations[:, :, i]\n",
    "        \n",
    "        # candidate and potential_start has a shape (N, )\n",
    "        candidate, potential_start = np.max(activation, axis=1), np.argmax(activation, axis=1)\n",
    "        \n",
    "        # activated_indices should have a shape (K, ), where K = # of positive activations\n",
    "        activated_indices = [i for i in range(N) if candidate[i] > 0]\n",
    "        K = len(activated_indices)\n",
    "        \n",
    "        # activated_seq should have a shape(K, n + 2m - 2, 4)\n",
    "        activated_seq, ends = test_seq[activated_indices, :, :], potential_start[activated_indices]\n",
    "        starts = ends - m + 1\n",
    "        for k in range(K):\n",
    "            start, end = starts[k], ends[k]\n",
    "            activated_subseq[i].append(activated_seq[k, start:(end+1), :])\n",
    "    return activated_subseq"
   ]
  },
  {
   "cell_type": "code",
   "execution_count": 50,
   "metadata": {},
   "outputs": [],
   "source": [
    "model = load_model('../../models/hybrid_net.h5')\n",
    "\n",
    "filters = model.layers[0].get_weights()[0]\n",
    "bias = model.layers[0].get_weights()[1]"
   ]
  },
  {
   "cell_type": "code",
   "execution_count": 180,
   "metadata": {},
   "outputs": [
    {
     "data": {
      "text/plain": [
       "(100, 1028, 4)"
      ]
     },
     "execution_count": 180,
     "metadata": {},
     "output_type": "execute_result"
    }
   ],
   "source": [
    "N, n, m = 100, 1000, 15\n",
    "test_seq = np.random.randint(2, size = N*n*4).reshape((N, n, 4))\n",
    "padded_test_seq = pad_for_detector(test_seq, m)\n",
    "padded_test_seq.shape"
   ]
  },
  {
   "cell_type": "code",
   "execution_count": 181,
   "metadata": {},
   "outputs": [],
   "source": [
    "layer_name = model.layers[0].get_config()['name']\n",
    "intermediate_layer_model = Model(inputs=model.input,\n",
    "                                 outputs=model.get_layer(layer_name).output)\n",
    "intermediate_output = intermediate_layer_model.predict(test_seq)"
   ]
  },
  {
   "cell_type": "code",
   "execution_count": 182,
   "metadata": {},
   "outputs": [
    {
     "data": {
      "text/plain": [
       "(100, 986, 30)"
      ]
     },
     "execution_count": 182,
     "metadata": {},
     "output_type": "execute_result"
    }
   ],
   "source": [
    "intermediate_output.shape"
   ]
  },
  {
   "cell_type": "code",
   "execution_count": 185,
   "metadata": {},
   "outputs": [],
   "source": [
    "activated_subseq = get_activated_subseq(intermediate_output, test_seq, m)"
   ]
  },
  {
   "cell_type": "code",
   "execution_count": 188,
   "metadata": {},
   "outputs": [
    {
     "data": {
      "text/plain": [
       "[array([1, 0, 1, 1]),\n",
       " array([1, 0, 0, 0]),\n",
       " array([1, 0, 1, 1]),\n",
       " array([1, 0, 1, 1]),\n",
       " array([1, 0, 0, 1]),\n",
       " array([0, 1, 1, 0]),\n",
       " array([0, 1, 1, 1]),\n",
       " array([1, 1, 0, 0]),\n",
       " array([1, 1, 0, 1]),\n",
       " array([1, 0, 0, 0]),\n",
       " array([0, 0, 0, 1]),\n",
       " array([0, 0, 1, 0]),\n",
       " array([1, 1, 1, 1]),\n",
       " array([1, 0, 0, 1]),\n",
       " array([1, 0, 1, 0])]"
      ]
     },
     "execution_count": 188,
     "metadata": {},
     "output_type": "execute_result"
    }
   ],
   "source": [
    "activated_subseq[0][0]"
   ]
  },
  {
   "cell_type": "code",
   "execution_count": null,
   "metadata": {},
   "outputs": [],
   "source": [
    "def convert_to_car(one_hot_code):\n",
    "    char_to_code = {'A': np.array([1, 0, 0, 0]),\n",
    "                    'C': np.array([0, 1, 0, 0]),\n",
    "                    'G': np.array([0, 0, 1, 0]),\n",
    "                    'T': np.array([0, 0, 0, 1]),\n",
    "                    'N': np.array([0.25, 0.25, 0.25, 0.25])}\n",
    "    for char in ['A', 'C', 'G', 'T', 'N']:\n",
    "        if sum(char_to_code[char] - one_hot_code) == 0:\n",
    "            return char\n",
    "\n",
    "def get_pwm(activated_subseq):\n",
    "    pwm = {}\n",
    "    for i in range(m):\n",
    "        subseqs = activated_subseq[i]\n",
    "        counter = {char: 0 for char in ['A', 'C', 'G', 'T']}\n",
    "        for j in range(len(subseqs)):\n",
    "            subseq = list(subseqs[j])\n",
    "            for code in subseq:\n",
    "                c = convert_to_car(code)\n",
    "                counter[c] += 1\n",
    "        pwm[i] = counter.copy()\n",
    "    return pwm"
   ]
  }
 ],
 "metadata": {
  "kernelspec": {
   "display_name": "Python 3",
   "language": "python",
   "name": "python3"
  },
  "language_info": {
   "codemirror_mode": {
    "name": "ipython",
    "version": 3
   },
   "file_extension": ".py",
   "mimetype": "text/x-python",
   "name": "python",
   "nbconvert_exporter": "python",
   "pygments_lexer": "ipython3",
   "version": "3.6.8"
  }
 },
 "nbformat": 4,
 "nbformat_minor": 2
}
