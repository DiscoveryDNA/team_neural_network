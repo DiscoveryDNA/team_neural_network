{
 "cells": [
  {
   "cell_type": "markdown",
   "metadata": {},
   "source": [
    "**Date:** 2019-3-22  \n",
    "**Authors:** Zhanyuan Zhang  \n",
    "**Purposes:** This experiment aims to accomplish the following things:\n",
    "- Training a simple convolutional and recurrent hybrid network.\n",
    "- Evaluate the performence of the hybrid network."
   ]
  },
  {
   "cell_type": "code",
   "execution_count": 1,
   "metadata": {},
   "outputs": [
    {
     "name": "stderr",
     "output_type": "stream",
     "text": [
      "Using TensorFlow backend.\n"
     ]
    }
   ],
   "source": [
    "import os, shutil, pickle, shelve\n",
    "from Bio import SeqIO\n",
    "import numpy as np\n",
    "import matplotlib.pyplot as plt\n",
    "from keras.utils import plot_model\n",
    "from keras.models import Model, Sequential\n",
    "from keras.models import Sequential\n",
    "from keras.layers import Dense, Dropout, MaxPooling1D, Flatten, Conv1D, LSTM, CuDNNLSTM, Bidirectional\n",
    "from keras.optimizers import RMSprop, Adam\n",
    "from keras.initializers import glorot_normal"
   ]
  },
  {
   "cell_type": "markdown",
   "metadata": {},
   "source": [
    "## 1. Data sampling and preparation"
   ]
  },
  {
   "cell_type": "markdown",
   "metadata": {},
   "source": [
    "This part may get removed to another notebook in the future."
   ]
  },
  {
   "cell_type": "code",
   "execution_count": 2,
   "metadata": {},
   "outputs": [
    {
     "data": {
      "text/plain": [
       "3544"
      ]
     },
     "execution_count": 2,
     "metadata": {},
     "output_type": "execute_result"
    }
   ],
   "source": [
    "input_folder_path = \"../../../temp/samples/\"\n",
    "output_folder_path = \"../../../temp/buffers/\"\n",
    "\n",
    "# This should be the parent folder of motif files\n",
    "motif_folder_path = \"../../../Map_Motif_no_threshold_14Nov2018/\"\n",
    "\n",
    "# The shelve with motif as the outermost key\n",
    "motif_species_shelve_path = \"../../../temp/formatted/motif_dic\"\n",
    "\n",
    "# The shelve with species name as the outermost key\n",
    "species_motif_shelve_path = \"../../../temp/formatted/species_motif_dic\"\n",
    "# sample data from:\n",
    "data_dir = \"/home/ubuntu/group_volume/team_neural_network/data/input/3.24_species_only\"\n",
    "\n",
    "len(os.listdir(data_dir)) # total number of regions"
   ]
  },
  {
   "cell_type": "markdown",
   "metadata": {},
   "source": [
    "If need different set of samples, uncomment the following folded cells to perform sampling and saving data into a new buffer.  \n",
    "**Note:** To make sure the number of samples is exactly `num_samples`, clear all the samples in the `input_folder_path`."
   ]
  },
  {
   "cell_type": "code",
   "execution_count": null,
   "metadata": {},
   "outputs": [],
   "source": [
    "!rm -r /home/ubuntu/data/temp/samples\n",
    "!mkdir /home/ubuntu/data/temp/samples"
   ]
  },
  {
   "cell_type": "markdown",
   "metadata": {},
   "source": [
    "**Helper functions for data processiong:**"
   ]
  },
  {
   "cell_type": "code",
   "execution_count": 3,
   "metadata": {
    "code_folding": [
     0,
     16,
     67,
     77
    ]
   },
   "outputs": [],
   "source": [
    "def sampling(src, dest, num_samples, seed=42):\n",
    "    \"\"\"  \n",
    "    Sample NUM_SAMPLES of data from SRC and copy them to DEST.\n",
    "    Set random seed to be SEED.\n",
    "    \"\"\"\n",
    "    np.random.seed(seed)\n",
    "    all_data_lst = np.array(os.listdir(src))\n",
    "    n = len(all_data_lst)\n",
    "    sample_indices = np.random.choice(np.arange(n), num_samples, replace = False)\n",
    "    sample_files = all_data_lst[sample_indices]\n",
    "\n",
    "    for file in sample_files:\n",
    "        shutil.copy(os.path.join(src, file),\n",
    "                            dest)\n",
    "    print('copied samples to {}'.format(dest))\n",
    "        \n",
    "def one_hot_encoding(input_folder_path, output_file_path, \n",
    "                     max_file_num=10000):\n",
    "    \"\"\"\n",
    "    Given the data in INPUT_FOLDER_PATH, encode them and save\n",
    "    as a buffer called OUTPUT_FILE_PATH.\n",
    "    \n",
    "    Note: INPUT_FOLDER_PATH is a directory while OUTPUT_FILE_PATH\n",
    "          is a file.\n",
    "    \"\"\"\n",
    "    # Use the following dictionary to perform the transformation\n",
    "    base_pairs = {'A': [1, 0, 0, 0], \n",
    "                  'C': [0, 1, 0, 0],\n",
    "                  'G': [0, 0, 1, 0],\n",
    "                  'T': [0, 0, 0, 1],\n",
    "                  'a': [1, 0, 0, 0],\n",
    "                  'c': [0, 1, 0, 0],\n",
    "                  'g': [0, 0, 1, 0],\n",
    "                  't': [0, 0, 0, 1],\n",
    "                  'n': [0, 0, 0, 0],\n",
    "                  'N': [0, 0, 0, 0]}\n",
    "\n",
    "    file_num_limit = max_file_num    # The maximum number of files to be decoded\n",
    "    file_count = 0\n",
    "\n",
    "    # Iterate through every file\n",
    "    all_regions = []\n",
    "    for file in os.listdir(input_folder_path):\n",
    "        # When the number of file decoded has reached the limit, stop\n",
    "        if file_count < file_num_limit:\n",
    "            data = list(SeqIO.parse(input_folder_path + file,\"fasta\"))\n",
    "            for n in range(0, len(data)):\n",
    "                # Extract the header information\n",
    "                header = data[n].description.split('|')\n",
    "                descr = data[n].description\n",
    "                regionID = header[0]\n",
    "                expressed = header[1]\n",
    "                speciesID = header[2]\n",
    "                strand = header[3]\n",
    "                # Complement all sequences in the negative DNA strand\n",
    "    #             if strand == '-':\n",
    "    #                 # Using the syntax [e for e in base_pairs[n]] to create a new pointer for each position\n",
    "    #                 one_hot.append([descr, expressed, speciesID, [[e for e in base_pairs[n]] for n in data[n].seq.complement()]])\n",
    "    #             else:\n",
    "                all_regions.append([descr, expressed, speciesID, [[e for e in base_pairs[n]] for n in data[n].seq]])\n",
    "            file_count += 1\n",
    "\n",
    "    with open(output_file_path, mode=\"wb\") as output:\n",
    "        print(\"save to {}\".format(output_file_path))\n",
    "        pickle.dump(all_regions, output)\n",
    "    return all_regions\n",
    "\n",
    "def curtail(lst, read_len):\n",
    "    \"\"\" A helper function of get_training_data\n",
    "    \"\"\"\n",
    "    if len(lst) > read_len:\n",
    "        lst = lst[:read_len]\n",
    "    else:\n",
    "        for i in range(read_len - len(lst)):\n",
    "            lst.append([0, 0, 0, 0])\n",
    "    return lst\n",
    "\n",
    "def get_training_data(input_data, output_folder_path,\n",
    "                      max_len, train_x_name, train_y_name):\n",
    "    \"\"\" \n",
    "    Convert INPUT_DATA to ready-to-be-fed training data and \n",
    "        corresponding labels.\n",
    "    Save them to OUTPUT_FOLDER_PATH with name TRAIN_X_NAME and\n",
    "        TRAIN_Y_NAME.\n",
    "    INPUT_DATA is directly generated by the function one_hot_encoding. \n",
    "    \"\"\"\n",
    "    train_x, train_y = [], []\n",
    "    for region in input_data:\n",
    "        y, x = int(region[1]), region[3]\n",
    "        x = curtail(x, max_len)  # Curtail\n",
    "        x = np.array(x).flatten() # Flatten\n",
    "        x = x.reshape((1000, 4)) # Reshape\n",
    "        train_x.append(x)\n",
    "        train_y.append(y)\n",
    "\n",
    "    train_x, train_y = np.array(train_x), np.array(train_y)\n",
    "\n",
    "    print(train_x.shape, train_y.shape)\n",
    "\n",
    "    with open(os.path.join(output_folder_path, train_x_name), mode=\"wb\") as output:\n",
    "        print(\"save to {}\".format(os.path.join(output_folder_path, train_x_name)))\n",
    "        pickle.dump(train_x, output)\n",
    "\n",
    "    with open(os.path.join(output_folder_path, train_y_name), mode=\"wb\") as output:\n",
    "        print(\"save to {}\".format(os.path.join(output_folder_path, train_y_name)))\n",
    "        pickle.dump(train_y, output)\n",
    "    return train_x, train_y\n",
    "\n",
    "def load_data(data_folder_path, train_x_name, train_y_name):\n",
    "    output_name = train_x_name\n",
    "    with open(os.path.join(output_folder_path, output_name), 'rb') as file:\n",
    "        data_x = pickle.load(file)\n",
    "\n",
    "    output_name = train_y_name\n",
    "    with open(os.path.join(output_folder_path, output_name), 'rb') as file:\n",
    "        data_y = pickle.load(file)\n",
    "\n",
    "    print(data_x.shape, data_y.shape)\n",
    "    \n",
    "def data_split(data_x, data_y, val_split=0.2, seed=42):\n",
    "    \"\"\"\n",
    "    Given totally N data, randomly sample N*VAL_SPLIT of them \n",
    "        to form validation data.\n",
    "    Set random seed to SEED.\n",
    "    \"\"\"\n",
    "    # Split it into training and validation data sets\n",
    "    N = data_x.shape[0]\n",
    "    num_val = int(N * val_split)\n",
    "    \n",
    "    np.random.seed(seed)\n",
    "    val_indices = np.random.choice(np.arange(N), num_val, replace=False)\n",
    "    train_indices = np.arange(N)[~np.isin(np.arange(N), val_indices)]\n",
    "\n",
    "    train_x, train_y = data_x[train_indices], data_y[train_indices]\n",
    "    val_x, val_y = data_x[val_indices], data_y[val_indices]\n",
    "    \n",
    "    print(N, train_x.shape, train_y.shape, val_x.shape, val_y.shape)\n",
    "    return train_x, train_y, val_x, val_y"
   ]
  },
  {
   "cell_type": "code",
   "execution_count": 4,
   "metadata": {},
   "outputs": [
    {
     "name": "stdout",
     "output_type": "stream",
     "text": [
      "copied samples to ../../../temp/samples/\n",
      "save to ../../../temp/buffers/train.data\n",
      "(5016, 1000, 4) (5016,)\n",
      "save to ../../../temp/buffers/train_x.data\n",
      "save to ../../../temp/buffers/train_y.data\n",
      "5016 (4013, 1000, 4) (4013,) (1003, 1000, 4) (1003,)\n"
     ]
    }
   ],
   "source": [
    "all_data_lst = np.array(os.listdir(data_dir))\n",
    "num_samples = 209\n",
    "\n",
    "sampling(data_dir, input_folder_path, num_samples, seed = 189)\n",
    "\n",
    "output_file_path = os.path.join(output_folder_path, 'train.data')\n",
    "train_regions = one_hot_encoding(input_folder_path, output_file_path)\n",
    "\n",
    "data_x, data_y = get_training_data(train_regions, output_folder_path,\n",
    "                                   max_len = 1000, \n",
    "                                   train_x_name = 'train_x.data', \n",
    "                                   train_y_name = 'train_y.data')\n",
    "\n",
    "train_x, train_y, val_x, val_y = data_split(data_x, data_y, seed = 157)"
   ]
  },
  {
   "cell_type": "markdown",
   "metadata": {},
   "source": [
    "`train_x` has shape: (*# of training data*, *max length of sequence*, 4),\n",
    "where the maximal length of sequence by default is 1000 and 4 reflects the one-hot encoding of one nucleotide(A, T, G, or C)."
   ]
  },
  {
   "cell_type": "markdown",
   "metadata": {},
   "source": [
    "## 2. Model and configurations"
   ]
  },
  {
   "cell_type": "code",
   "execution_count": 7,
   "metadata": {
    "code_folding": [
     0,
     18,
     26,
     32
    ]
   },
   "outputs": [],
   "source": [
    "def get_hybrid(opt):\n",
    "    \"\"\"  Return a hybrid network given a optimizer\n",
    "    \"\"\"\n",
    "    model = Sequential()\n",
    "    model.add(Conv1D(filters = 30, \n",
    "                     kernel_size = 15, \n",
    "                     padding = 'valid',\n",
    "                     data_format = 'channels_last',\n",
    "                     activation = 'relu'))\n",
    "    model.add(MaxPooling1D(pool_size = 5, strides = 5))\n",
    "    model.add(Dropout(0.8)) # 0.2\n",
    "    model.add(Bidirectional(LSTM(50))) # input_shape=(100, 50)\n",
    "    model.add(Dropout(0.8)) # 0.5\n",
    "    model.add(Dense(20, activation = 'relu'))\n",
    "    model.add(Dense(1, activation='sigmoid'))\n",
    "    model.compile(optimizer=opt, loss='binary_crossentropy', metrics=['acc'])\n",
    "    return model\n",
    "\n",
    "def train(model, train_x, train_y, val_data, config = {'epochs': 35, 'batch_size': 256}):\n",
    "    \"\"\"  Train model for a given config, training data, and validation data\n",
    "    \"\"\"\n",
    "    epochs, batch_size = config['epochs'], config['batch_size']\n",
    "    return model.fit(train_x, train_y, epochs=epochs, batch_size=batch_size, validation_data=val_data)\n",
    "\n",
    "def dianostic_plots(train_acc, train_loss, val_train_acc, val_loss):\n",
    "    \"\"\"  Plot dianostic plots of a model:\n",
    "    Plot 1: Traning loss & validation loss against epochs\n",
    "    Plot 2: Training acc & validation acc against epochs\n",
    "    \"\"\"\n",
    "    epochs = range(1, len(train_acc) + 1)\n",
    "\n",
    "    plt.plot(epochs, train_acc, '-', label='Training train_accuracy')\n",
    "    plt.plot(epochs, val_train_acc, '-', label='Validation Accuracy')\n",
    "    plt.title('Training and Validation Accuracy')\n",
    "    plt.xlabel('epoches')\n",
    "    plt.legend()\n",
    "\n",
    "    plt.figure()\n",
    "    plt.plot(epochs, loss, '-', label='Training Loss')\n",
    "    plt.plot(epochs, val_loss, '-', label='Validation Loss')\n",
    "    plt.title('Training and Validation Loss')\n",
    "    plt.xlabel('epoches')\n",
    "    plt.legend()\n",
    "    \n",
    "    plt.show()"
   ]
  },
  {
   "cell_type": "markdown",
   "metadata": {},
   "source": [
    "### 2.1 Training and Tuning"
   ]
  },
  {
   "cell_type": "code",
   "execution_count": 8,
   "metadata": {},
   "outputs": [],
   "source": [
    "# Set up some configurations\n",
    "optimizers = {'adam': Adam(lr=1e-3, beta_1=0.9, beta_2=0.999, epsilon=None, decay=1e-2, amsgrad=False),\n",
    "              'rmsprop': RMSprop(lr=1e-2, rho=0.9, epsilon=None, decay=1e-2)}\n",
    "\n",
    "model_prefix = ['hybrid']"
   ]
  },
  {
   "cell_type": "code",
   "execution_count": 9,
   "metadata": {},
   "outputs": [
    {
     "name": "stdout",
     "output_type": "stream",
     "text": [
      "Train on 4013 samples, validate on 1003 samples\n",
      "Epoch 1/35\n",
      "4013/4013 [==============================] - 26s 7ms/step - loss: 0.7404 - acc: 0.5121 - val_loss: 0.7023 - val_acc: 0.5075\n",
      "Epoch 2/35\n",
      "4013/4013 [==============================] - 24s 6ms/step - loss: 0.6768 - acc: 0.5405 - val_loss: 0.6913 - val_acc: 0.5075\n",
      "Epoch 3/35\n",
      "4013/4013 [==============================] - 24s 6ms/step - loss: 0.6605 - acc: 0.5497 - val_loss: 0.6515 - val_acc: 0.5573\n",
      "Epoch 4/35\n",
      "4013/4013 [==============================] - 24s 6ms/step - loss: 0.6610 - acc: 0.5522 - val_loss: 0.6527 - val_acc: 0.5723\n",
      "Epoch 5/35\n",
      "4013/4013 [==============================] - 25s 6ms/step - loss: 0.6617 - acc: 0.5460 - val_loss: 0.6525 - val_acc: 0.5095\n",
      "Epoch 6/35\n",
      "4013/4013 [==============================] - 24s 6ms/step - loss: 0.6597 - acc: 0.5535 - val_loss: 0.6496 - val_acc: 0.5643\n",
      "Epoch 7/35\n",
      "4013/4013 [==============================] - 24s 6ms/step - loss: 0.6510 - acc: 0.5622 - val_loss: 0.6452 - val_acc: 0.6112\n",
      "Epoch 8/35\n",
      "4013/4013 [==============================] - 24s 6ms/step - loss: 0.6551 - acc: 0.5811 - val_loss: 0.6450 - val_acc: 0.5932\n",
      "Epoch 9/35\n",
      "4013/4013 [==============================] - 24s 6ms/step - loss: 0.6422 - acc: 0.6075 - val_loss: 0.6241 - val_acc: 0.6291\n",
      "Epoch 10/35\n",
      "4013/4013 [==============================] - 24s 6ms/step - loss: 0.6316 - acc: 0.6165 - val_loss: 0.6083 - val_acc: 0.6750\n",
      "Epoch 11/35\n",
      "4013/4013 [==============================] - 24s 6ms/step - loss: 0.7051 - acc: 0.6332 - val_loss: 0.6075 - val_acc: 0.6680\n",
      "Epoch 12/35\n",
      "4013/4013 [==============================] - 24s 6ms/step - loss: 0.6117 - acc: 0.6581 - val_loss: 0.5702 - val_acc: 0.7159\n",
      "Epoch 13/35\n",
      "4013/4013 [==============================] - 25s 6ms/step - loss: 0.6026 - acc: 0.6671 - val_loss: 0.5544 - val_acc: 0.7587\n",
      "Epoch 14/35\n",
      "4013/4013 [==============================] - 24s 6ms/step - loss: 0.5877 - acc: 0.6840 - val_loss: 0.5456 - val_acc: 0.6979\n",
      "Epoch 15/35\n",
      "4013/4013 [==============================] - 24s 6ms/step - loss: 0.5565 - acc: 0.7050 - val_loss: 0.5099 - val_acc: 0.7916\n",
      "Epoch 16/35\n",
      "4013/4013 [==============================] - 24s 6ms/step - loss: 0.5859 - acc: 0.7072 - val_loss: 0.4850 - val_acc: 0.8166\n",
      "Epoch 17/35\n",
      "4013/4013 [==============================] - 24s 6ms/step - loss: 0.5405 - acc: 0.7236 - val_loss: 0.4799 - val_acc: 0.8096\n",
      "Epoch 18/35\n",
      "4013/4013 [==============================] - 24s 6ms/step - loss: 0.5213 - acc: 0.7381 - val_loss: 0.4304 - val_acc: 0.8495\n",
      "Epoch 19/35\n",
      "4013/4013 [==============================] - 24s 6ms/step - loss: 0.5162 - acc: 0.7448 - val_loss: 0.4279 - val_acc: 0.8355\n",
      "Epoch 20/35\n",
      "4013/4013 [==============================] - 23s 6ms/step - loss: 0.5151 - acc: 0.7463 - val_loss: 0.4249 - val_acc: 0.8504\n",
      "Epoch 21/35\n",
      "4013/4013 [==============================] - 25s 6ms/step - loss: 0.4939 - acc: 0.7531 - val_loss: 0.3893 - val_acc: 0.8644\n",
      "Epoch 22/35\n",
      "4013/4013 [==============================] - 24s 6ms/step - loss: 0.4953 - acc: 0.7575 - val_loss: 0.4489 - val_acc: 0.7926\n",
      "Epoch 23/35\n",
      "4013/4013 [==============================] - 24s 6ms/step - loss: 0.4843 - acc: 0.7673 - val_loss: 0.3786 - val_acc: 0.8754\n",
      "Epoch 24/35\n",
      "4013/4013 [==============================] - 24s 6ms/step - loss: 0.5819 - acc: 0.7575 - val_loss: 0.3677 - val_acc: 0.8614\n",
      "Epoch 25/35\n",
      "4013/4013 [==============================] - 24s 6ms/step - loss: 0.4686 - acc: 0.7800 - val_loss: 0.3719 - val_acc: 0.8664\n",
      "Epoch 26/35\n",
      "4013/4013 [==============================] - 23s 6ms/step - loss: 0.4744 - acc: 0.7770 - val_loss: 0.3590 - val_acc: 0.8913\n",
      "Epoch 27/35\n",
      "4013/4013 [==============================] - 23s 6ms/step - loss: 0.4486 - acc: 0.7894 - val_loss: 0.3464 - val_acc: 0.8983\n",
      "Epoch 28/35\n",
      "4013/4013 [==============================] - 24s 6ms/step - loss: 0.4564 - acc: 0.7914 - val_loss: 0.3319 - val_acc: 0.8923\n",
      "Epoch 29/35\n",
      "4013/4013 [==============================] - 23s 6ms/step - loss: 0.4361 - acc: 0.8021 - val_loss: 0.3311 - val_acc: 0.8853\n",
      "Epoch 30/35\n",
      "4013/4013 [==============================] - 23s 6ms/step - loss: 0.4317 - acc: 0.8034 - val_loss: 0.3203 - val_acc: 0.8983\n",
      "Epoch 31/35\n",
      "4013/4013 [==============================] - 23s 6ms/step - loss: 0.4353 - acc: 0.7942 - val_loss: 0.3157 - val_acc: 0.9033\n",
      "Epoch 32/35\n",
      "4013/4013 [==============================] - 23s 6ms/step - loss: 0.4194 - acc: 0.8106 - val_loss: 0.3010 - val_acc: 0.9063\n",
      "Epoch 33/35\n",
      "4013/4013 [==============================] - 23s 6ms/step - loss: 0.4173 - acc: 0.8109 - val_loss: 0.3069 - val_acc: 0.9063\n",
      "Epoch 34/35\n",
      "4013/4013 [==============================] - 23s 6ms/step - loss: 0.4185 - acc: 0.8086 - val_loss: 0.2849 - val_acc: 0.9073\n",
      "Epoch 35/35\n",
      "4013/4013 [==============================] - 23s 6ms/step - loss: 0.4065 - acc: 0.8156 - val_loss: 0.2927 - val_acc: 0.9023\n"
     ]
    }
   ],
   "source": [
    "# Start training\n",
    "opt = optimizers['rmsprop']\n",
    "model = get_hybrid(opt)\n",
    "history = train(model, train_x, train_y, (val_x, val_y))"
   ]
  },
  {
   "cell_type": "code",
   "execution_count": 10,
   "metadata": {},
   "outputs": [
    {
     "name": "stdout",
     "output_type": "stream",
     "text": [
      "_________________________________________________________________\n",
      "Layer (type)                 Output Shape              Param #   \n",
      "=================================================================\n",
      "conv1d_1 (Conv1D)            (None, 986, 30)           1830      \n",
      "_________________________________________________________________\n",
      "max_pooling1d_1 (MaxPooling1 (None, 197, 30)           0         \n",
      "_________________________________________________________________\n",
      "dropout_1 (Dropout)          (None, 197, 30)           0         \n",
      "_________________________________________________________________\n",
      "bidirectional_1 (Bidirection (None, 100)               32400     \n",
      "_________________________________________________________________\n",
      "dropout_2 (Dropout)          (None, 100)               0         \n",
      "_________________________________________________________________\n",
      "dense_1 (Dense)              (None, 20)                2020      \n",
      "_________________________________________________________________\n",
      "dense_2 (Dense)              (None, 1)                 21        \n",
      "=================================================================\n",
      "Total params: 36,271\n",
      "Trainable params: 36,271\n",
      "Non-trainable params: 0\n",
      "_________________________________________________________________\n"
     ]
    }
   ],
   "source": [
    "model.summary()"
   ]
  },
  {
   "cell_type": "code",
   "execution_count": 11,
   "metadata": {},
   "outputs": [
    {
     "data": {
      "image/png": "[encoded data removed]",
      "text/plain": [
       "<Figure size 432x288 with 1 Axes>"
      ]
     },
     "metadata": {},
     "output_type": "display_data"
    },
    {
     "data": {
      "image/png": "[encoded data removed]",
      "text/plain": [
       "<Figure size 432x288 with 1 Axes>"
      ]
     },
     "metadata": {},
     "output_type": "display_data"
    }
   ],
   "source": [
    "acc = history.history['acc']\n",
    "val_acc = history.history['val_acc']\n",
    "loss = history.history['loss']\n",
    "val_loss = history.history['val_loss']\n",
    "\n",
    "dianostic_plots(acc, loss, val_acc, val_loss)"
   ]
  },
  {
   "cell_type": "code",
   "execution_count": 12,
   "metadata": {},
   "outputs": [],
   "source": [
    "# Save the model for later analysis\n",
    "save_model_path = '/home/ubuntu/data/team_neural_network/code/models'\n",
    "model_name = 'hybrid_net'\n",
    "model.save(os.path.join(save_model_path, model_name))"
   ]
  },
  {
   "cell_type": "markdown",
   "metadata": {},
   "source": [
    "## 3. Evaluation"
   ]
  },
  {
   "cell_type": "code",
   "execution_count": null,
   "metadata": {},
   "outputs": [],
   "source": [
    "!rm -r /home/ubuntu/data/temp/test\n",
    "!mkdir /home/ubuntu/data/temp/test"
   ]
  },
  {
   "cell_type": "code",
   "execution_count": 13,
   "metadata": {},
   "outputs": [
    {
     "name": "stdout",
     "output_type": "stream",
     "text": [
      "copied samples to /home/ubuntu/data/temp/test/\n",
      "save to ../../../temp/buffers/test.data\n",
      "(5016, 1000, 4) (5016,)\n",
      "save to ../../../temp/buffers/test_x.data\n",
      "save to ../../../temp/buffers/test_y.data\n"
     ]
    }
   ],
   "source": [
    "all_data_lst = np.array(os.listdir(data_dir))\n",
    "num_samples = 209\n",
    "\n",
    "test_folder_path = '/home/ubuntu/data/temp/test/'\n",
    "sampling(data_dir, test_folder_path, num_samples, seed = 182)\n",
    "\n",
    "output_file_path = os.path.join(output_folder_path, 'test.data')\n",
    "test_regions = one_hot_encoding(test_folder_path, output_file_path)\n",
    "\n",
    "test_x, test_y = get_training_data(test_regions, output_folder_path,\n",
    "                                   max_len = 1000, \n",
    "                                   train_x_name = 'test_x.data', \n",
    "                                   train_y_name = 'test_y.data')"
   ]
  },
  {
   "cell_type": "code",
   "execution_count": 14,
   "metadata": {},
   "outputs": [
    {
     "data": {
      "text/plain": [
       "['loss', 'acc']"
      ]
     },
     "execution_count": 14,
     "metadata": {},
     "output_type": "execute_result"
    }
   ],
   "source": [
    "model.metrics_names"
   ]
  },
  {
   "cell_type": "code",
   "execution_count": 15,
   "metadata": {},
   "outputs": [
    {
     "name": "stdout",
     "output_type": "stream",
     "text": [
      "5016/5016 [==============================] - 13s 3ms/step\n"
     ]
    },
    {
     "data": {
      "text/plain": [
       "[0.9070065562899984, 0.5572169059011164]"
      ]
     },
     "execution_count": 15,
     "metadata": {},
     "output_type": "execute_result"
    }
   ],
   "source": [
    "model.evaluate(x = test_x, y = test_y)"
   ]
  },
  {
   "cell_type": "markdown",
   "metadata": {},
   "source": [
    "**Conclusion:**  \n",
    "The model performs poorly on test set, even though it performs well on validation set. Note that the training data and validation data are actually a partition of the sequences in the sampled regions, and thus it's highly possible that the model never gets trained on those regions of test set since we sampled testing regions separately. This implies that either the model fails to learn the correlation among different regions, or the sequences coming from different regions have different distributions.  "
   ]
  },
  {
   "cell_type": "markdown",
   "metadata": {},
   "source": [
    "**TODO:**  \n",
    "- Optimize the model.\n",
    "- Try training the model on more regions then do validation on other regions that are not in the training set.\n",
    "- Check the similarity of the sequences among 24 species in one region.\n",
    "- (Optional) Write an API for data processing based on the helper functions defined in this experiment."
   ]
  }
 ],
 "metadata": {
  "kernelspec": {
   "display_name": "Python 3",
   "language": "python",
   "name": "python3"
  },
  "language_info": {
   "codemirror_mode": {
    "name": "ipython",
    "version": 3
   },
   "file_extension": ".py",
   "mimetype": "text/x-python",
   "name": "python",
   "nbconvert_exporter": "python",
   "pygments_lexer": "ipython3",
   "version": "3.6.8"
  }
 },
 "nbformat": 4,
 "nbformat_minor": 2
}
