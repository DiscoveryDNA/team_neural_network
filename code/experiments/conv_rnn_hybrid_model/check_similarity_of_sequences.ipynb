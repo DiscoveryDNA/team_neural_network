{
 "cells": [
  {
   "cell_type": "code",
   "execution_count": 1,
   "metadata": {},
   "outputs": [],
   "source": [
    "%load_ext autoreload\n",
    "%autoreload 2"
   ]
  },
  {
   "cell_type": "code",
   "execution_count": 6,
   "metadata": {},
   "outputs": [],
   "source": [
    "import os, shutil, pickle, shelve\n",
    "from Bio import SeqIO\n",
    "import numpy as np\n",
    "import tensorflow as tf\n",
    "import matplotlib.pyplot as plt\n",
    "from keras.models import load_model, Model\n",
    "from keras.utils import plot_model\n",
    "from keras.models import Model, Sequential\n",
    "from keras.models import Sequential\n",
    "from keras.layers import Dense, Dropout, MaxPooling1D, Flatten, Conv1D, LSTM, CuDNNLSTM, Bidirectional, TimeDistributed\n",
    "from keras.optimizers import RMSprop, Adam\n",
    "from keras.initializers import glorot_normal\n",
    "from utilities import sampling, one_hot_encoding, curtail, get_training_data, load_data, data_split, dianostic_plots, pad_for_detector\n",
    "from utilities import get_char_list, get_activated_subseq, get_freqs, get_candidates, get_motif\n",
    "import keras\n",
    "import utilities\n",
    "from scipy import spatial"
   ]
  },
  {
   "cell_type": "code",
   "execution_count": 7,
   "metadata": {},
   "outputs": [],
   "source": [
    "def cos_similarity(seq1, seq2):\n",
    "    return 1 - spatial.distance.cosine(seq1, seq2)"
   ]
  },
  {
   "cell_type": "code",
   "execution_count": 4,
   "metadata": {},
   "outputs": [
    {
     "name": "stdout",
     "output_type": "stream",
     "text": [
      "14160 (11328, 1000, 4) (11328,) (2832, 1000, 4) (2832,)\n"
     ]
    }
   ],
   "source": [
    "data_x = pickle.load(open('/home/ubuntu/data/temp/buffers/folds/fold1/fold1_x.data', 'rb'))\n",
    "data_y = pickle.load(open('/home/ubuntu/data/temp/buffers/folds/fold1/fold1_y.data', 'rb'))\n",
    "seq1_train_x, seq1_train_y, seq1_val_x, seq1_val_y = data_split(data_x, data_y, seed = 157)"
   ]
  },
  {
   "cell_type": "code",
   "execution_count": 5,
   "metadata": {},
   "outputs": [
    {
     "name": "stdout",
     "output_type": "stream",
     "text": [
      "28344 (22676, 1000, 4) (22676,) (5668, 1000, 4) (5668,)\n"
     ]
    }
   ],
   "source": [
    "data_x = pickle.load(open('/home/ubuntu/data/temp/buffers/folds/fold5/fold5_x.data', 'rb'))\n",
    "data_y = pickle.load(open('/home/ubuntu/data/temp/buffers/folds/fold5/fold5_y.data', 'rb'))\n",
    "seq2_train_x, seq2_train_y, seq2_val_x, seq2_val_y = data_split(data_x, data_y, seed = 157)"
   ]
  },
  {
   "cell_type": "code",
   "execution_count": 21,
   "metadata": {},
   "outputs": [
    {
     "data": {
      "text/plain": [
       "0.3096812710296766"
      ]
     },
     "execution_count": 21,
     "metadata": {},
     "output_type": "execute_result"
    }
   ],
   "source": [
    "i = 1000\n",
    "cos_similarity(seq1_train_x[i][:, 3], seq2_train_x[i][:, 3])"
   ]
  },
  {
   "cell_type": "code",
   "execution_count": 23,
   "metadata": {},
   "outputs": [
    {
     "data": {
      "text/plain": [
       "2.246058540010603e-05"
      ]
     },
     "execution_count": 23,
     "metadata": {},
     "output_type": "execute_result"
    }
   ],
   "source": [
    "N = min(seq1_train_x.shape[0], seq2_train_x.shape[0])\n",
    "for i in range(N):\n",
    "    cum_similarity = 0\n",
    "    for j in range(4):\n",
    "        cum_similarity += cos_similarity(seq1_train_x[i][:, j], seq2_train_x[i][:, j])\n",
    "cum_similarity / (4*N)"
   ]
  },
  {
   "cell_type": "code",
   "execution_count": null,
   "metadata": {},
   "outputs": [],
   "source": [
    "N = seq1_train_x.shape[0]\n",
    "for i in range(N):\n",
    "    cum_similarity = 0\n",
    "    for j in range(i+1, N):\n",
    "        for k in range(4):\n",
    "            cum_similarity += cos_similarity(seq1_train_x[i][:, k], seq1_train_x[j][:, k])\n",
    "cum_similarity / (4*N)"
   ]
  },
  {
   "cell_type": "code",
   "execution_count": 28,
   "metadata": {},
   "outputs": [
    {
     "data": {
      "text/plain": [
       "0.07731144609592511"
      ]
     },
     "execution_count": 28,
     "metadata": {},
     "output_type": "execute_result"
    }
   ],
   "source": [
    "cum_similarity / (4*N)"
   ]
  },
  {
   "cell_type": "code",
   "execution_count": null,
   "metadata": {},
   "outputs": [],
   "source": []
  }
 ],
 "metadata": {
  "kernelspec": {
   "display_name": "Python 3",
   "language": "python",
   "name": "python3"
  }
 },
 "nbformat": 4,
 "nbformat_minor": 2
}
