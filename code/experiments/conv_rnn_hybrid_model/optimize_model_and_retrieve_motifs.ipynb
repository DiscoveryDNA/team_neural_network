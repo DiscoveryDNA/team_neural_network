{
 "cells": [
  {
   "cell_type": "code",
   "execution_count": 62,
   "metadata": {},
   "outputs": [],
   "source": [
    "import os, shutil, pickle, shelve\n",
    "from Bio import SeqIO\n",
    "import numpy as np\n",
    "import tensorflow as tf\n",
    "import matplotlib.pyplot as plt\n",
    "from keras.models import load_model, Model\n",
    "from keras.utils import plot_model\n",
    "from keras.models import Model, Sequential\n",
    "from keras.models import Sequential\n",
    "from keras.layers import Dense, Dropout, MaxPooling1D, Flatten, Conv1D, LSTM, CuDNNLSTM, Bidirectional\n",
    "from keras.optimizers import RMSprop, Adam\n",
    "from keras.initializers import glorot_normal"
   ]
  },
  {
   "cell_type": "code",
   "execution_count": 63,
   "metadata": {},
   "outputs": [],
   "source": [
    "# sample data from:\n",
    "data_dir = \"/home/ubuntu/group_volume/team_neural_network/data/input/3.24_species_only\"\n",
    "output_folder_path = \"../../../../temp/buffers/\""
   ]
  },
  {
   "cell_type": "markdown",
   "metadata": {},
   "source": [
    "## 1. Training and validation"
   ]
  },
  {
   "cell_type": "code",
   "execution_count": 64,
   "metadata": {
    "code_folding": [
     0,
     12,
     65,
     96
    ]
   },
   "outputs": [],
   "source": [
    "def pad_for_detector(input_x, kernel_size):\n",
    "    \"\"\" Pad the input matrix such that the (i, k) entry of the output \n",
    "        matrix is the score of motif detector k aligned to position i.\n",
    "    input_x has shape = (N, n, 4)\n",
    "    kernel_size has shape m\n",
    "    output has shape = (N, n + 2m - 2, 4)\n",
    "    \"\"\"\n",
    "    N, n, C = input_x.shape\n",
    "    pad_value, num_pad = 0.25, kernel_size - 1\n",
    "    pad_matrix = np.full((N, num_pad, C), pad_value)\n",
    "    return np.concatenate((pad_matrix, input_x, pad_matrix), axis=1)\n",
    "\n",
    "def one_hot_encoding(input_folder_path, output_file_path, \n",
    "                     max_file_num=10000):\n",
    "    \"\"\"\n",
    "    Given the data in INPUT_FOLDER_PATH, encode them and save\n",
    "    as a buffer called OUTPUT_FILE_PATH.\n",
    "    \n",
    "    Note: INPUT_FOLDER_PATH is a directory while OUTPUT_FILE_PATH\n",
    "          is a file.\n",
    "    \"\"\"\n",
    "    import os\n",
    "    # Use the following dictionary to perform the transformation\n",
    "    base_pairs = {'A': [1, 0, 0, 0], \n",
    "                  'C': [0, 1, 0, 0],\n",
    "                  'G': [0, 0, 1, 0],\n",
    "                  'T': [0, 0, 0, 1],\n",
    "                  'a': [1, 0, 0, 0],\n",
    "                  'c': [0, 1, 0, 0],\n",
    "                  'g': [0, 0, 1, 0],\n",
    "                  't': [0, 0, 0, 1],\n",
    "                  'n': [0, 0, 0, 0],\n",
    "                  'N': [0, 0, 0, 0]}\n",
    "\n",
    "    file_num_limit = max_file_num    # The maximum number of files to be decoded\n",
    "    file_count = 0\n",
    "\n",
    "    # Iterate through every file\n",
    "    all_regions = []\n",
    "    for file in os.listdir(input_folder_path):\n",
    "        # When the number of file decoded has reached the limit, stop\n",
    "        if file_count < file_num_limit:\n",
    "            #print(input_folder_path + file)\n",
    "            data = list(SeqIO.parse(input_folder_path + file,\"fasta\"))\n",
    "            for n in range(0, len(data)):\n",
    "                # Extract the header information\n",
    "                header = data[n].description.split('|')\n",
    "                descr = data[n].description\n",
    "                regionID = header[0]\n",
    "                expressed = header[1]\n",
    "                speciesID = header[2]\n",
    "                strand = header[3]\n",
    "                # Complement all sequences in the negative DNA strand\n",
    "    #             if strand == '-':\n",
    "    #                 # Using the syntax [e for e in base_pairs[n]] to create a new pointer for each position\n",
    "    #                 one_hot.append([descr, expressed, speciesID, [[e for e in base_pairs[n]] for n in data[n].seq.complement()]])\n",
    "    #             else:\n",
    "                all_regions.append([descr, expressed, speciesID, [[e for e in base_pairs[n]] for n in data[n].seq]])\n",
    "            file_count += 1\n",
    "\n",
    "    with open(output_file_path, mode=\"wb\") as output:\n",
    "        print(\"save to {}\".format(output_file_path))\n",
    "        pickle.dump(all_regions, output)\n",
    "    return all_regions\n",
    "\n",
    "def get_training_data(input_data, output_folder_path,\n",
    "                      max_len, train_x_name, train_y_name):\n",
    "    \"\"\" \n",
    "    Convert INPUT_DATA to ready-to-be-fed training data and \n",
    "        corresponding labels.\n",
    "    Save them to OUTPUT_FOLDER_PATH with name TRAIN_X_NAME and\n",
    "        TRAIN_Y_NAME.\n",
    "    INPUT_DATA is directly generated by the function one_hot_encoding. \n",
    "    \"\"\"\n",
    "    train_x, train_y = [], []\n",
    "    for region in input_data:\n",
    "        y, x = int(region[1]), region[3]\n",
    "        x = curtail(x, max_len)  # Curtail\n",
    "        x = np.array(x).flatten() # Flatten\n",
    "        x = x.reshape((1000, 4)) # Reshape\n",
    "        train_x.append(x)\n",
    "        train_y.append(y)\n",
    "\n",
    "    train_x, train_y = np.array(train_x), np.array(train_y)\n",
    "\n",
    "    print(train_x.shape, train_y.shape)\n",
    "\n",
    "    with open(os.path.join(output_folder_path, train_x_name), mode=\"wb\") as output:\n",
    "        print(\"save to {}\".format(os.path.join(output_folder_path, train_x_name)))\n",
    "        pickle.dump(train_x, output)\n",
    "\n",
    "    with open(os.path.join(output_folder_path, train_y_name), mode=\"wb\") as output:\n",
    "        print(\"save to {}\".format(os.path.join(output_folder_path, train_y_name)))\n",
    "        pickle.dump(train_y, output)\n",
    "    return train_x, train_y\n",
    "\n",
    "def dianostic_plots(train_acc, train_loss, val_train_acc, val_loss):\n",
    "    \"\"\"  Plot dianostic plots of a model:\n",
    "    Plot 1: Traning loss & validation loss against epochs\n",
    "    Plot 2: Training acc & validation acc against epochs\n",
    "    \"\"\"\n",
    "    epochs = range(1, len(train_acc) + 1)\n",
    "\n",
    "    plt.plot(epochs, train_acc, '-', label='Training train_accuracy')\n",
    "    plt.plot(epochs, val_train_acc, '-', label='Validation Accuracy')\n",
    "    plt.title('Training and Validation Accuracy')\n",
    "    plt.xlabel('epoches')\n",
    "    plt.legend()\n",
    "\n",
    "    plt.figure()\n",
    "    plt.plot(epochs, loss, '-', label='Training Loss')\n",
    "    plt.plot(epochs, val_loss, '-', label='Validation Loss')\n",
    "    plt.title('Training and Validation Loss')\n",
    "    plt.xlabel('epoches')\n",
    "    plt.legend()\n",
    "    \n",
    "    plt.show()"
   ]
  },
  {
   "cell_type": "code",
   "execution_count": 65,
   "metadata": {},
   "outputs": [],
   "source": [
    "!rm -r /home/ubuntu/data/temp/train\n",
    "!mkdir /home/ubuntu/data/temp/train\n",
    "!rm -r /home/ubuntu/data/temp/val\n",
    "!mkdir /home/ubuntu/data/temp/val"
   ]
  },
  {
   "cell_type": "code",
   "execution_count": 66,
   "metadata": {},
   "outputs": [
    {
     "name": "stdout",
     "output_type": "stream",
     "text": [
      "copied training samples to /home/ubuntu/data/temp/train/\n",
      "copied validation samples to /home/ubuntu/data/temp/val/\n",
      "save to ../../../../temp/buffers/train.data\n",
      "save to ../../../../temp/buffers/val.data\n",
      "(12000, 1000, 4) (12000,)\n",
      "save to ../../../../temp/buffers/train_x.data\n",
      "save to ../../../../temp/buffers/train_y.data\n",
      "(2400, 1000, 4) (2400,)\n",
      "save to ../../../../temp/buffers/val_x.data\n",
      "save to ../../../../temp/buffers/val_y.data\n"
     ]
    }
   ],
   "source": [
    "# Sample training and validation data\n",
    "# Make sure that they don't have intersection.\n",
    "all_data_lst = np.array(os.listdir(data_dir))\n",
    "n = len(all_data_lst)\n",
    "train_files = all_data_lst[:500]\n",
    "num_val = 100\n",
    "val_indices = np.random.choice(np.arange(500, n), num_val, replace = False)\n",
    "val_files = all_data_lst[val_indices]\n",
    "\n",
    "train_dest = '/home/ubuntu/data/temp/train/'\n",
    "for file in train_files:\n",
    "    shutil.copy(os.path.join(data_dir, file),\n",
    "                          train_dest)\n",
    "print('copied training samples to {}'.format(train_dest))\n",
    "\n",
    "val_dest = '/home/ubuntu/data/temp/val/'\n",
    "for file in val_files:\n",
    "    shutil.copy(os.path.join(data_dir, file),\n",
    "                          val_dest)\n",
    "print('copied validation samples to {}'.format(val_dest))\n",
    "\n",
    "# Preprocess train and val data so that they are ready to be fed to models\n",
    "train_output_path = os.path.join(output_folder_path, 'train.data')\n",
    "val_output_path = os.path.join(output_folder_path, 'val.data')\n",
    "\n",
    "train_regions = one_hot_encoding(train_dest, train_output_path)\n",
    "val_regions = one_hot_encoding(val_dest, val_output_path)\n",
    "train_x, train_y = get_training_data(train_regions, output_folder_path,\n",
    "                                   max_len = 1000, \n",
    "                                   train_x_name = 'train_x.data', \n",
    "                                   train_y_name = 'train_y.data')\n",
    "val_x, val_y = get_training_data(val_regions, output_folder_path,\n",
    "                                   max_len = 1000, \n",
    "                                   train_x_name = 'val_x.data', \n",
    "                                   train_y_name = 'val_y.data')\n",
    "# Pad for motif detectors\n",
    "train_x, val_x = pad_for_detector(train_x, 15), pad_for_detector(val_x, 15)"
   ]
  },
  {
   "cell_type": "code",
   "execution_count": 67,
   "metadata": {},
   "outputs": [],
   "source": [
    "def get_hybrid(opt):\n",
    "    \"\"\"  Return a hybrid network given a optimizer\n",
    "    \"\"\"\n",
    "    model = Sequential()\n",
    "    model.add(Conv1D(filters = 30, \n",
    "                     kernel_size = 15, \n",
    "                     padding = 'valid',\n",
    "                     data_format = 'channels_last',\n",
    "                     activation = 'relu'))\n",
    "    model.add(MaxPooling1D(pool_size = 5, strides = 5))\n",
    "    model.add(Dropout(0.6))\n",
    "    model.add(Bidirectional(LSTM(10)))\n",
    "    model.add(Dropout(0.7))\n",
    "    model.add(Dense(20, activation = 'relu'))\n",
    "    model.add(Dense(1, activation='sigmoid'))\n",
    "    model.compile(optimizer=opt, loss='binary_crossentropy', metrics=['acc'])\n",
    "    return model\n",
    "\n",
    "def train(model, train_x, train_y, val_data, config = {'epochs': 35, 'batch_size': 256}):\n",
    "    \"\"\"  Train model for a given config, training data, and validation data\n",
    "    \"\"\"\n",
    "    epochs, batch_size = config['epochs'], config['batch_size']\n",
    "    return model.fit(train_x, train_y, epochs=epochs, batch_size=batch_size, validation_data=val_data)"
   ]
  },
  {
   "cell_type": "code",
   "execution_count": 68,
   "metadata": {},
   "outputs": [
    {
     "name": "stdout",
     "output_type": "stream",
     "text": [
      "Train on 12000 samples, validate on 2400 samples\n",
      "Epoch 1/35\n",
      "12000/12000 [==============================] - 40s 3ms/step - loss: 0.6901 - acc: 0.5488 - val_loss: 0.6894 - val_acc: 0.5400\n",
      "Epoch 2/35\n",
      "12000/12000 [==============================] - 35s 3ms/step - loss: 0.6875 - acc: 0.5522 - val_loss: 0.6680 - val_acc: 0.5400\n",
      "Epoch 3/35\n",
      "12000/12000 [==============================] - 35s 3ms/step - loss: 0.6845 - acc: 0.5513 - val_loss: 0.6627 - val_acc: 0.5400\n",
      "Epoch 4/35\n",
      "12000/12000 [==============================] - 35s 3ms/step - loss: 0.6846 - acc: 0.5518 - val_loss: 0.6631 - val_acc: 0.5400\n",
      "Epoch 5/35\n",
      "12000/12000 [==============================] - 35s 3ms/step - loss: 0.6843 - acc: 0.5505 - val_loss: 0.6578 - val_acc: 0.5400\n",
      "Epoch 6/35\n",
      "12000/12000 [==============================] - 35s 3ms/step - loss: 0.6822 - acc: 0.5508 - val_loss: 0.6558 - val_acc: 0.5808\n",
      "Epoch 7/35\n",
      "12000/12000 [==============================] - 35s 3ms/step - loss: 0.6790 - acc: 0.5581 - val_loss: 0.6519 - val_acc: 0.5967\n",
      "Epoch 8/35\n",
      " 6656/12000 [===============>..............] - ETA: 14s - loss: 0.6777 - acc: 0.5535"
     ]
    },
    {
     "ename": "KeyboardInterrupt",
     "evalue": "",
     "output_type": "error",
     "traceback": [
      "\u001b[0;31m---------------------------------------------------------------------------\u001b[0m",
      "\u001b[0;31mKeyboardInterrupt\u001b[0m                         Traceback (most recent call last)",
      "\u001b[0;32m<ipython-input-68-6a97188e49a5>\u001b[0m in \u001b[0;36m<module>\u001b[0;34m()\u001b[0m\n\u001b[1;32m      6\u001b[0m \u001b[0mopt\u001b[0m \u001b[0;34m=\u001b[0m \u001b[0moptimizers\u001b[0m\u001b[0;34m[\u001b[0m\u001b[0;34m'rmsprop'\u001b[0m\u001b[0;34m]\u001b[0m\u001b[0;34m\u001b[0m\u001b[0;34m\u001b[0m\u001b[0m\n\u001b[1;32m      7\u001b[0m \u001b[0mmodel\u001b[0m \u001b[0;34m=\u001b[0m \u001b[0mget_hybrid\u001b[0m\u001b[0;34m(\u001b[0m\u001b[0mopt\u001b[0m\u001b[0;34m)\u001b[0m\u001b[0;34m\u001b[0m\u001b[0;34m\u001b[0m\u001b[0m\n\u001b[0;32m----> 8\u001b[0;31m \u001b[0mhistory\u001b[0m \u001b[0;34m=\u001b[0m \u001b[0mtrain\u001b[0m\u001b[0;34m(\u001b[0m\u001b[0mmodel\u001b[0m\u001b[0;34m,\u001b[0m \u001b[0mtrain_x\u001b[0m\u001b[0;34m,\u001b[0m \u001b[0mtrain_y\u001b[0m\u001b[0;34m,\u001b[0m \u001b[0;34m(\u001b[0m\u001b[0mval_x\u001b[0m\u001b[0;34m,\u001b[0m \u001b[0mval_y\u001b[0m\u001b[0;34m)\u001b[0m\u001b[0;34m,\u001b[0m \u001b[0mconfig\u001b[0m\u001b[0;34m)\u001b[0m\u001b[0;34m\u001b[0m\u001b[0;34m\u001b[0m\u001b[0m\n\u001b[0m",
      "\u001b[0;32m<ipython-input-67-71c0b4f0f7a1>\u001b[0m in \u001b[0;36mtrain\u001b[0;34m(model, train_x, train_y, val_data, config)\u001b[0m\n\u001b[1;32m     21\u001b[0m     \"\"\"\n\u001b[1;32m     22\u001b[0m     \u001b[0mepochs\u001b[0m\u001b[0;34m,\u001b[0m \u001b[0mbatch_size\u001b[0m \u001b[0;34m=\u001b[0m \u001b[0mconfig\u001b[0m\u001b[0;34m[\u001b[0m\u001b[0;34m'epochs'\u001b[0m\u001b[0;34m]\u001b[0m\u001b[0;34m,\u001b[0m \u001b[0mconfig\u001b[0m\u001b[0;34m[\u001b[0m\u001b[0;34m'batch_size'\u001b[0m\u001b[0;34m]\u001b[0m\u001b[0;34m\u001b[0m\u001b[0;34m\u001b[0m\u001b[0m\n\u001b[0;32m---> 23\u001b[0;31m     \u001b[0;32mreturn\u001b[0m \u001b[0mmodel\u001b[0m\u001b[0;34m.\u001b[0m\u001b[0mfit\u001b[0m\u001b[0;34m(\u001b[0m\u001b[0mtrain_x\u001b[0m\u001b[0;34m,\u001b[0m \u001b[0mtrain_y\u001b[0m\u001b[0;34m,\u001b[0m \u001b[0mepochs\u001b[0m\u001b[0;34m=\u001b[0m\u001b[0mepochs\u001b[0m\u001b[0;34m,\u001b[0m \u001b[0mbatch_size\u001b[0m\u001b[0;34m=\u001b[0m\u001b[0mbatch_size\u001b[0m\u001b[0;34m,\u001b[0m \u001b[0mvalidation_data\u001b[0m\u001b[0;34m=\u001b[0m\u001b[0mval_data\u001b[0m\u001b[0;34m)\u001b[0m\u001b[0;34m\u001b[0m\u001b[0;34m\u001b[0m\u001b[0m\n\u001b[0m",
      "\u001b[0;32m~/anaconda3/envs/tensorflow_p36/lib/python3.6/site-packages/keras/engine/training.py\u001b[0m in \u001b[0;36mfit\u001b[0;34m(self, x, y, batch_size, epochs, verbose, callbacks, validation_split, validation_data, shuffle, class_weight, sample_weight, initial_epoch, steps_per_epoch, validation_steps, **kwargs)\u001b[0m\n\u001b[1;32m   1037\u001b[0m                                         \u001b[0minitial_epoch\u001b[0m\u001b[0;34m=\u001b[0m\u001b[0minitial_epoch\u001b[0m\u001b[0;34m,\u001b[0m\u001b[0;34m\u001b[0m\u001b[0;34m\u001b[0m\u001b[0m\n\u001b[1;32m   1038\u001b[0m                                         \u001b[0msteps_per_epoch\u001b[0m\u001b[0;34m=\u001b[0m\u001b[0msteps_per_epoch\u001b[0m\u001b[0;34m,\u001b[0m\u001b[0;34m\u001b[0m\u001b[0;34m\u001b[0m\u001b[0m\n\u001b[0;32m-> 1039\u001b[0;31m                                         validation_steps=validation_steps)\n\u001b[0m\u001b[1;32m   1040\u001b[0m \u001b[0;34m\u001b[0m\u001b[0m\n\u001b[1;32m   1041\u001b[0m     def evaluate(self, x=None, y=None,\n",
      "\u001b[0;32m~/anaconda3/envs/tensorflow_p36/lib/python3.6/site-packages/keras/engine/training_arrays.py\u001b[0m in \u001b[0;36mfit_loop\u001b[0;34m(model, f, ins, out_labels, batch_size, epochs, verbose, callbacks, val_f, val_ins, shuffle, callback_metrics, initial_epoch, steps_per_epoch, validation_steps)\u001b[0m\n\u001b[1;32m    197\u001b[0m                     \u001b[0mins_batch\u001b[0m\u001b[0;34m[\u001b[0m\u001b[0mi\u001b[0m\u001b[0;34m]\u001b[0m \u001b[0;34m=\u001b[0m \u001b[0mins_batch\u001b[0m\u001b[0;34m[\u001b[0m\u001b[0mi\u001b[0m\u001b[0;34m]\u001b[0m\u001b[0;34m.\u001b[0m\u001b[0mtoarray\u001b[0m\u001b[0;34m(\u001b[0m\u001b[0;34m)\u001b[0m\u001b[0;34m\u001b[0m\u001b[0;34m\u001b[0m\u001b[0m\n\u001b[1;32m    198\u001b[0m \u001b[0;34m\u001b[0m\u001b[0m\n\u001b[0;32m--> 199\u001b[0;31m                 \u001b[0mouts\u001b[0m \u001b[0;34m=\u001b[0m \u001b[0mf\u001b[0m\u001b[0;34m(\u001b[0m\u001b[0mins_batch\u001b[0m\u001b[0;34m)\u001b[0m\u001b[0;34m\u001b[0m\u001b[0;34m\u001b[0m\u001b[0m\n\u001b[0m\u001b[1;32m    200\u001b[0m                 \u001b[0mouts\u001b[0m \u001b[0;34m=\u001b[0m \u001b[0mto_list\u001b[0m\u001b[0;34m(\u001b[0m\u001b[0mouts\u001b[0m\u001b[0;34m)\u001b[0m\u001b[0;34m\u001b[0m\u001b[0;34m\u001b[0m\u001b[0m\n\u001b[1;32m    201\u001b[0m                 \u001b[0;32mfor\u001b[0m \u001b[0ml\u001b[0m\u001b[0;34m,\u001b[0m \u001b[0mo\u001b[0m \u001b[0;32min\u001b[0m \u001b[0mzip\u001b[0m\u001b[0;34m(\u001b[0m\u001b[0mout_labels\u001b[0m\u001b[0;34m,\u001b[0m \u001b[0mouts\u001b[0m\u001b[0;34m)\u001b[0m\u001b[0;34m:\u001b[0m\u001b[0;34m\u001b[0m\u001b[0;34m\u001b[0m\u001b[0m\n",
      "\u001b[0;32m~/anaconda3/envs/tensorflow_p36/lib/python3.6/site-packages/keras/backend/tensorflow_backend.py\u001b[0m in \u001b[0;36m__call__\u001b[0;34m(self, inputs)\u001b[0m\n\u001b[1;32m   2713\u001b[0m                 \u001b[0;32mreturn\u001b[0m \u001b[0mself\u001b[0m\u001b[0;34m.\u001b[0m\u001b[0m_legacy_call\u001b[0m\u001b[0;34m(\u001b[0m\u001b[0minputs\u001b[0m\u001b[0;34m)\u001b[0m\u001b[0;34m\u001b[0m\u001b[0;34m\u001b[0m\u001b[0m\n\u001b[1;32m   2714\u001b[0m \u001b[0;34m\u001b[0m\u001b[0m\n\u001b[0;32m-> 2715\u001b[0;31m             \u001b[0;32mreturn\u001b[0m \u001b[0mself\u001b[0m\u001b[0;34m.\u001b[0m\u001b[0m_call\u001b[0m\u001b[0;34m(\u001b[0m\u001b[0minputs\u001b[0m\u001b[0;34m)\u001b[0m\u001b[0;34m\u001b[0m\u001b[0;34m\u001b[0m\u001b[0m\n\u001b[0m\u001b[1;32m   2716\u001b[0m         \u001b[0;32melse\u001b[0m\u001b[0;34m:\u001b[0m\u001b[0;34m\u001b[0m\u001b[0;34m\u001b[0m\u001b[0m\n\u001b[1;32m   2717\u001b[0m             \u001b[0;32mif\u001b[0m \u001b[0mpy_any\u001b[0m\u001b[0;34m(\u001b[0m\u001b[0mis_tensor\u001b[0m\u001b[0;34m(\u001b[0m\u001b[0mx\u001b[0m\u001b[0;34m)\u001b[0m \u001b[0;32mfor\u001b[0m \u001b[0mx\u001b[0m \u001b[0;32min\u001b[0m \u001b[0minputs\u001b[0m\u001b[0;34m)\u001b[0m\u001b[0;34m:\u001b[0m\u001b[0;34m\u001b[0m\u001b[0;34m\u001b[0m\u001b[0m\n",
      "\u001b[0;32m~/anaconda3/envs/tensorflow_p36/lib/python3.6/site-packages/keras/backend/tensorflow_backend.py\u001b[0m in \u001b[0;36m_call\u001b[0;34m(self, inputs)\u001b[0m\n\u001b[1;32m   2673\u001b[0m             \u001b[0mfetched\u001b[0m \u001b[0;34m=\u001b[0m \u001b[0mself\u001b[0m\u001b[0;34m.\u001b[0m\u001b[0m_callable_fn\u001b[0m\u001b[0;34m(\u001b[0m\u001b[0;34m*\u001b[0m\u001b[0marray_vals\u001b[0m\u001b[0;34m,\u001b[0m \u001b[0mrun_metadata\u001b[0m\u001b[0;34m=\u001b[0m\u001b[0mself\u001b[0m\u001b[0;34m.\u001b[0m\u001b[0mrun_metadata\u001b[0m\u001b[0;34m)\u001b[0m\u001b[0;34m\u001b[0m\u001b[0;34m\u001b[0m\u001b[0m\n\u001b[1;32m   2674\u001b[0m         \u001b[0;32melse\u001b[0m\u001b[0;34m:\u001b[0m\u001b[0;34m\u001b[0m\u001b[0;34m\u001b[0m\u001b[0m\n\u001b[0;32m-> 2675\u001b[0;31m             \u001b[0mfetched\u001b[0m \u001b[0;34m=\u001b[0m \u001b[0mself\u001b[0m\u001b[0;34m.\u001b[0m\u001b[0m_callable_fn\u001b[0m\u001b[0;34m(\u001b[0m\u001b[0;34m*\u001b[0m\u001b[0marray_vals\u001b[0m\u001b[0;34m)\u001b[0m\u001b[0;34m\u001b[0m\u001b[0;34m\u001b[0m\u001b[0m\n\u001b[0m\u001b[1;32m   2676\u001b[0m         \u001b[0;32mreturn\u001b[0m \u001b[0mfetched\u001b[0m\u001b[0;34m[\u001b[0m\u001b[0;34m:\u001b[0m\u001b[0mlen\u001b[0m\u001b[0;34m(\u001b[0m\u001b[0mself\u001b[0m\u001b[0;34m.\u001b[0m\u001b[0moutputs\u001b[0m\u001b[0;34m)\u001b[0m\u001b[0;34m]\u001b[0m\u001b[0;34m\u001b[0m\u001b[0;34m\u001b[0m\u001b[0m\n\u001b[1;32m   2677\u001b[0m \u001b[0;34m\u001b[0m\u001b[0m\n",
      "\u001b[0;32m~/anaconda3/envs/tensorflow_p36/lib/python3.6/site-packages/tensorflow/python/client/session.py\u001b[0m in \u001b[0;36m__call__\u001b[0;34m(self, *args, **kwargs)\u001b[0m\n\u001b[1;32m   1437\u001b[0m           ret = tf_session.TF_SessionRunCallable(\n\u001b[1;32m   1438\u001b[0m               \u001b[0mself\u001b[0m\u001b[0;34m.\u001b[0m\u001b[0m_session\u001b[0m\u001b[0;34m.\u001b[0m\u001b[0m_session\u001b[0m\u001b[0;34m,\u001b[0m \u001b[0mself\u001b[0m\u001b[0;34m.\u001b[0m\u001b[0m_handle\u001b[0m\u001b[0;34m,\u001b[0m \u001b[0margs\u001b[0m\u001b[0;34m,\u001b[0m \u001b[0mstatus\u001b[0m\u001b[0;34m,\u001b[0m\u001b[0;34m\u001b[0m\u001b[0;34m\u001b[0m\u001b[0m\n\u001b[0;32m-> 1439\u001b[0;31m               run_metadata_ptr)\n\u001b[0m\u001b[1;32m   1440\u001b[0m         \u001b[0;32mif\u001b[0m \u001b[0mrun_metadata\u001b[0m\u001b[0;34m:\u001b[0m\u001b[0;34m\u001b[0m\u001b[0;34m\u001b[0m\u001b[0m\n\u001b[1;32m   1441\u001b[0m           \u001b[0mproto_data\u001b[0m \u001b[0;34m=\u001b[0m \u001b[0mtf_session\u001b[0m\u001b[0;34m.\u001b[0m\u001b[0mTF_GetBuffer\u001b[0m\u001b[0;34m(\u001b[0m\u001b[0mrun_metadata_ptr\u001b[0m\u001b[0;34m)\u001b[0m\u001b[0;34m\u001b[0m\u001b[0;34m\u001b[0m\u001b[0m\n",
      "\u001b[0;31mKeyboardInterrupt\u001b[0m: "
     ]
    }
   ],
   "source": [
    "# Start training\n",
    "# Set up some configurations\n",
    "optimizers = {'adam': Adam(lr=1e-3, beta_1=0.9, beta_2=0.999, epsilon=None, decay=1e-2, amsgrad=False),\n",
    "              'rmsprop': RMSprop(lr=1e-2, rho=0.9, epsilon=None, decay=1e-2)}\n",
    "config = {'epochs': 35, 'batch_size': 256}\n",
    "opt = optimizers['rmsprop']\n",
    "model = get_hybrid(opt)\n",
    "history = train(model, train_x, train_y, (val_x, val_y), config)"
   ]
  },
  {
   "cell_type": "code",
   "execution_count": null,
   "metadata": {},
   "outputs": [],
   "source": [
    "model.summary()"
   ]
  },
  {
   "cell_type": "code",
   "execution_count": null,
   "metadata": {},
   "outputs": [],
   "source": [
    "acc = history.history['acc']\n",
    "val_acc = history.history['val_acc']\n",
    "loss = history.history['loss']\n",
    "val_loss = history.history['val_loss']\n",
    "\n",
    "dianostic_plots(acc, loss, val_acc, val_loss)"
   ]
  },
  {
   "cell_type": "code",
   "execution_count": null,
   "metadata": {},
   "outputs": [],
   "source": [
    "# Save the model for later analysis\n",
    "save_model_path = '/home/ubuntu/data/team_neural_network/code/models'\n",
    "model_name = 'hybrid_net2.h5'\n",
    "model.save(os.path.join(save_model_path, model_name))"
   ]
  },
  {
   "cell_type": "markdown",
   "metadata": {},
   "source": [
    "## 2. Retrieve motif from kernel"
   ]
  },
  {
   "cell_type": "code",
   "execution_count": 184,
   "metadata": {},
   "outputs": [],
   "source": [
    "def get_activated_subseq(activations, test_seq, m):\n",
    "    #################################################################\n",
    "    # Extract those in the TEST_SEQUENCE that has least one position\n",
    "    #     having positive activation.\n",
    "    #################################################################\n",
    "    N, L, C = activations.shape\n",
    "    activated_subseq = {}\n",
    "    for i in range(C): # for each filter\n",
    "        activated_subseq[i] = []\n",
    "        activation = activations[:, :, i]\n",
    "        \n",
    "        # candidate and potential_start has a shape (N, )\n",
    "        candidate, potential_start = np.max(activation, axis=1), np.argmax(activation, axis=1)\n",
    "        \n",
    "        # activated_indices should have a shape (K, ), where K = # of positive activations\n",
    "        activated_indices = [i for i in range(N) if candidate[i] > 0]\n",
    "        K = len(activated_indices)\n",
    "        \n",
    "        # activated_seq should have a shape(K, n + 2m - 2, 4)\n",
    "        activated_seq, ends = test_seq[activated_indices, :, :], potential_start[activated_indices]\n",
    "        starts = ends - m + 1\n",
    "        for k in range(K):\n",
    "            start, end = starts[k], ends[k]\n",
    "            activated_subseq[i].append(activated_seq[k, start:(end+1), :])\n",
    "    return activated_subseq"
   ]
  },
  {
   "cell_type": "code",
   "execution_count": 50,
   "metadata": {},
   "outputs": [],
   "source": [
    "model = load_model('../../models/hybrid_net.h5')\n",
    "\n",
    "filters = model.layers[0].get_weights()[0]\n",
    "bias = model.layers[0].get_weights()[1]"
   ]
  },
  {
   "cell_type": "code",
   "execution_count": 180,
   "metadata": {},
   "outputs": [
    {
     "data": {
      "text/plain": [
       "(100, 1028, 4)"
      ]
     },
     "execution_count": 180,
     "metadata": {},
     "output_type": "execute_result"
    }
   ],
   "source": [
    "N, n, m = 100, 1000, 15\n",
    "test_seq = np.random.randint(2, size = N*n*4).reshape((N, n, 4))\n",
    "padded_test_seq = pad_for_detector(test_seq, m)\n",
    "padded_test_seq.shape"
   ]
  },
  {
   "cell_type": "code",
   "execution_count": 181,
   "metadata": {},
   "outputs": [],
   "source": [
    "layer_name = model.layers[0].get_config()['name']\n",
    "intermediate_layer_model = Model(inputs=model.input,\n",
    "                                 outputs=model.get_layer(layer_name).output)\n",
    "intermediate_output = intermediate_layer_model.predict(test_seq)"
   ]
  },
  {
   "cell_type": "code",
   "execution_count": 182,
   "metadata": {},
   "outputs": [
    {
     "data": {
      "text/plain": [
       "(100, 986, 30)"
      ]
     },
     "execution_count": 182,
     "metadata": {},
     "output_type": "execute_result"
    }
   ],
   "source": [
    "intermediate_output.shape"
   ]
  },
  {
   "cell_type": "code",
   "execution_count": 185,
   "metadata": {},
   "outputs": [],
   "source": [
    "activated_subseq = get_activated_subseq(intermediate_output, test_seq, m)"
   ]
  },
  {
   "cell_type": "code",
   "execution_count": 188,
   "metadata": {},
   "outputs": [
    {
     "data": {
      "text/plain": [
       "[array([1, 0, 1, 1]),\n",
       " array([1, 0, 0, 0]),\n",
       " array([1, 0, 1, 1]),\n",
       " array([1, 0, 1, 1]),\n",
       " array([1, 0, 0, 1]),\n",
       " array([0, 1, 1, 0]),\n",
       " array([0, 1, 1, 1]),\n",
       " array([1, 1, 0, 0]),\n",
       " array([1, 1, 0, 1]),\n",
       " array([1, 0, 0, 0]),\n",
       " array([0, 0, 0, 1]),\n",
       " array([0, 0, 1, 0]),\n",
       " array([1, 1, 1, 1]),\n",
       " array([1, 0, 0, 1]),\n",
       " array([1, 0, 1, 0])]"
      ]
     },
     "execution_count": 188,
     "metadata": {},
     "output_type": "execute_result"
    }
   ],
   "source": [
    "activated_subseq[0][0]"
   ]
  },
  {
   "cell_type": "code",
   "execution_count": null,
   "metadata": {},
   "outputs": [],
   "source": [
    "def convert_to_car(one_hot_code):\n",
    "    char_to_code = {'A': np.array([1, 0, 0, 0]),\n",
    "                    'C': np.array([0, 1, 0, 0]),\n",
    "                    'G': np.array([0, 0, 1, 0]),\n",
    "                    'T': np.array([0, 0, 0, 1]),\n",
    "                    'N': np.array([0.25, 0.25, 0.25, 0.25])}\n",
    "    for char in ['A', 'C', 'G', 'T', 'N']:\n",
    "        if sum(char_to_code[char] - one_hot_code) == 0:\n",
    "            return char\n",
    "\n",
    "def get_pwm(activated_subseq):\n",
    "    pwm = {}\n",
    "    for i in range(m):\n",
    "        subseqs = activated_subseq[i]\n",
    "        counter = {char: 0 for char in ['A', 'C', 'G', 'T']}\n",
    "        for j in range(len(subseqs)):\n",
    "            subseq = list(subseqs[j])\n",
    "            for code in subseq:\n",
    "                c = convert_to_car(code)\n",
    "                counter[c] += 1\n",
    "        pwm[i] = counter.copy()\n",
    "    return pwm"
   ]
  }
 ],
 "metadata": {
  "kernelspec": {
   "display_name": "Python 3",
   "language": "python",
   "name": "python3"
  },
  "language_info": {
   "codemirror_mode": {
    "name": "ipython",
    "version": 3
   },
   "file_extension": ".py",
   "mimetype": "text/x-python",
   "name": "python",
   "nbconvert_exporter": "python",
   "pygments_lexer": "ipython3",
   "version": "3.6.8"
  }
 },
 "nbformat": 4,
 "nbformat_minor": 2
}
