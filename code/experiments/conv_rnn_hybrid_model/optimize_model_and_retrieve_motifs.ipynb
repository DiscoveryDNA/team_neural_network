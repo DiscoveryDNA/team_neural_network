{
 "cells": [
  {
   "cell_type": "code",
   "execution_count": 1,
   "metadata": {},
   "outputs": [
    {
     "name": "stderr",
     "output_type": "stream",
     "text": [
      "Using TensorFlow backend.\n"
     ]
    }
   ],
   "source": [
    "import os, shutil, pickle, shelve\n",
    "from Bio import SeqIO\n",
    "import numpy as np\n",
    "import tensorflow as tf\n",
    "import matplotlib.pyplot as plt\n",
    "from keras.models import load_model, Model\n",
    "from keras.utils import plot_model\n",
    "from keras.models import Model, Sequential\n",
    "from keras.models import Sequential\n",
    "from keras.layers import Dense, Dropout, MaxPooling1D, Flatten, Conv1D, LSTM, CuDNNLSTM, Bidirectional\n",
    "from keras.optimizers import RMSprop, Adam\n",
    "from keras.initializers import glorot_normal\n",
    "import keras\n",
    "#from utilities import sampling, one_hot_encoding, curtail, get_training_data, load_data, data_split"
   ]
  },
  {
   "cell_type": "code",
   "execution_count": 2,
   "metadata": {},
   "outputs": [],
   "source": [
    "# sample data from:\n",
    "data_dir = \"/home/ubuntu/group_volume/team_neural_network/data/input/3.24_species_only\"\n",
    "output_folder_path = \"../../../../temp/buffers/\""
   ]
  },
  {
   "cell_type": "markdown",
   "metadata": {},
   "source": [
    "## 1. Training and validation"
   ]
  },
  {
   "cell_type": "code",
   "execution_count": 7,
   "metadata": {
    "code_folding": [
     0
    ]
   },
   "outputs": [],
   "source": [
    "# Helper functions\n",
    "\n",
    "def sampling(src, dest, num_samples, seed=42):\n",
    "    \"\"\"  \n",
    "    Sample NUM_SAMPLES of data from SRC and copy them to DEST.\n",
    "    Set random seed to be SEED.\n",
    "    \"\"\"\n",
    "    np.random.seed(seed)\n",
    "    all_data_lst = np.array(os.listdir(src))\n",
    "    n = len(all_data_lst)\n",
    "    sample_indices = np.random.choice(np.arange(n), num_samples, replace=False)\n",
    "    sample_files = all_data_lst[sample_indices]\n",
    "\n",
    "    for file in sample_files:\n",
    "        shutil.copy(os.path.join(src, file),\n",
    "                    dest)\n",
    "    print('copied samples to {}'.format(dest))\n",
    "\n",
    "def pad_for_detector(input_x, kernel_size):\n",
    "    \"\"\" Pad the input matrix such that the (i, k) entry of the output \n",
    "        matrix is the score of motif detector k aligned to position i.\n",
    "    input_x has shape = (N, n, 4)\n",
    "    kernel_size has shape m\n",
    "    output has shape = (N, n + 2m - 2, 4)\n",
    "    \"\"\"\n",
    "    N, n, C = input_x.shape\n",
    "    pad_value, num_pad = 0.25, kernel_size - 1\n",
    "    pad_matrix = np.full((N, num_pad, C), pad_value)\n",
    "    return np.concatenate((pad_matrix, input_x, pad_matrix), axis=1)\n",
    "\n",
    "def one_hot_encoding(input_folder_path, output_file_path, \n",
    "                     max_file_num=10000):\n",
    "    \"\"\"\n",
    "    Given the data in INPUT_FOLDER_PATH, encode them and save\n",
    "    as a buffer called OUTPUT_FILE_PATH.\n",
    "    \n",
    "    Note: INPUT_FOLDER_PATH is a directory while OUTPUT_FILE_PATH\n",
    "          is a file.\n",
    "    \"\"\"\n",
    "    import os\n",
    "    # Use the following dictionary to perform the transformation\n",
    "    base_pairs = {'A': [1, 0, 0, 0], \n",
    "                  'C': [0, 1, 0, 0],\n",
    "                  'G': [0, 0, 1, 0],\n",
    "                  'T': [0, 0, 0, 1],\n",
    "                  'a': [1, 0, 0, 0],\n",
    "                  'c': [0, 1, 0, 0],\n",
    "                  'g': [0, 0, 1, 0],\n",
    "                  't': [0, 0, 0, 1],\n",
    "                  'n': [0, 0, 0, 0],\n",
    "                  'N': [0, 0, 0, 0]}\n",
    "\n",
    "    file_num_limit = max_file_num    # The maximum number of files to be decoded\n",
    "    file_count = 0\n",
    "\n",
    "    # Iterate through every file\n",
    "    all_regions = []\n",
    "    for file in os.listdir(input_folder_path):\n",
    "        # When the number of file decoded has reached the limit, stop\n",
    "        if file_count < file_num_limit:\n",
    "            #print(input_folder_path + file)\n",
    "            data = list(SeqIO.parse(input_folder_path + file,\"fasta\"))\n",
    "            for n in range(0, len(data)):\n",
    "                # Extract the header information\n",
    "                header = data[n].description.split('|')\n",
    "                descr = data[n].description\n",
    "                regionID = header[0]\n",
    "                expressed = header[1]\n",
    "                speciesID = header[2]\n",
    "                strand = header[3]\n",
    "                # Complement all sequences in the negative DNA strand\n",
    "    #             if strand == '-':\n",
    "    #                 # Using the syntax [e for e in base_pairs[n]] to create a new pointer for each position\n",
    "    #                 one_hot.append([descr, expressed, speciesID, [[e for e in base_pairs[n]] for n in data[n].seq.complement()]])\n",
    "    #             else:\n",
    "                all_regions.append([descr, expressed, speciesID, [[e for e in base_pairs[n]] for n in data[n].seq]])\n",
    "            file_count += 1\n",
    "\n",
    "    with open(output_file_path, mode=\"wb\") as output:\n",
    "        print(\"save to {}\".format(output_file_path))\n",
    "        pickle.dump(all_regions, output)\n",
    "    return all_regions\n",
    "\n",
    "def curtail(lst, read_len):\n",
    "    \"\"\" A helper function of get_training_data\n",
    "    \"\"\"\n",
    "    if len(lst) > read_len:\n",
    "        lst = lst[:read_len]\n",
    "    else:\n",
    "        for i in range(read_len - len(lst)):\n",
    "            lst.append([0, 0, 0, 0])\n",
    "    return lst\n",
    "\n",
    "def get_training_data(input_data, output_folder_path,\n",
    "                      max_len, train_x_name, train_y_name):\n",
    "    \"\"\" \n",
    "    Convert INPUT_DATA to ready-to-be-fed training data and \n",
    "        corresponding labels.\n",
    "    Save them to OUTPUT_FOLDER_PATH with name TRAIN_X_NAME and\n",
    "        TRAIN_Y_NAME.\n",
    "    INPUT_DATA is directly generated by the function one_hot_encoding. \n",
    "    \"\"\"\n",
    "    train_x, train_y = [], []\n",
    "    for region in input_data:\n",
    "        y, x = int(region[1]), region[3]\n",
    "        x = curtail(x, max_len)  # Curtail\n",
    "        x = np.array(x).flatten() # Flatten\n",
    "        x = x.reshape((1000, 4)) # Reshape\n",
    "        train_x.append(x)\n",
    "        train_y.append(y)\n",
    "\n",
    "    train_x, train_y = np.array(train_x), np.array(train_y)\n",
    "\n",
    "    print(train_x.shape, train_y.shape)\n",
    "\n",
    "    with open(os.path.join(output_folder_path, train_x_name), mode=\"wb\") as output:\n",
    "        print(\"save to {}\".format(os.path.join(output_folder_path, train_x_name)))\n",
    "        pickle.dump(train_x, output)\n",
    "\n",
    "    with open(os.path.join(output_folder_path, train_y_name), mode=\"wb\") as output:\n",
    "        print(\"save to {}\".format(os.path.join(output_folder_path, train_y_name)))\n",
    "        pickle.dump(train_y, output)\n",
    "    return train_x, train_y\n",
    "\n",
    "def data_split(data_x, data_y, val_split=0.2, seed=42):\n",
    "    \"\"\"\n",
    "    Given totally N data, randomly sample N*VAL_SPLIT of them \n",
    "        to form validation data.\n",
    "    Set random seed to SEED.\n",
    "    \"\"\"\n",
    "    # Split it into training and validation data sets\n",
    "    N = data_x.shape[0]\n",
    "    num_val = int(N * val_split)\n",
    "\n",
    "    np.random.seed(seed)\n",
    "    val_indices = np.random.choice(np.arange(N), num_val, replace=False)\n",
    "    train_indices = np.arange(N)[~np.isin(np.arange(N), val_indices)]\n",
    "\n",
    "    train_x, train_y = data_x[train_indices], data_y[train_indices]\n",
    "    val_x, val_y = data_x[val_indices], data_y[val_indices]\n",
    "\n",
    "    print(N, train_x.shape, train_y.shape, val_x.shape, val_y.shape)\n",
    "    return train_x, train_y, val_x, val_y\n",
    "\n",
    "\n",
    "def dianostic_plots(train_acc, train_loss, val_train_acc, val_loss):\n",
    "    \"\"\"  Plot dianostic plots of a model:\n",
    "    Plot 1: Traning loss & validation loss against epochs\n",
    "    Plot 2: Training acc & validation acc against epochs\n",
    "    \"\"\"\n",
    "    epochs = range(1, len(train_acc) + 1)\n",
    "\n",
    "    plt.plot(epochs, train_acc, '-', label='Training train_accuracy')\n",
    "    plt.plot(epochs, val_train_acc, '-', label='Validation Accuracy')\n",
    "    plt.title('Training and Validation Accuracy')\n",
    "    plt.xlabel('epoches')\n",
    "    plt.legend()\n",
    "\n",
    "    plt.figure()\n",
    "    plt.plot(epochs, loss, '-', label='Training Loss')\n",
    "    plt.plot(epochs, val_loss, '-', label='Validation Loss')\n",
    "    plt.title('Training and Validation Loss')\n",
    "    plt.xlabel('epoches')\n",
    "    plt.legend()\n",
    "    \n",
    "    plt.show()"
   ]
  },
  {
   "cell_type": "code",
   "execution_count": 8,
   "metadata": {},
   "outputs": [
    {
     "data": {
      "text/plain": [
       "3543"
      ]
     },
     "execution_count": 8,
     "metadata": {},
     "output_type": "execute_result"
    }
   ],
   "source": [
    "input_folder_path = \"../../../../temp/samples/\"\n",
    "output_folder_path = \"../../../../temp/buffers/\"\n",
    "\n",
    "# This should be the parent folder of motif files\n",
    "motif_folder_path = \"../../../..Map_Motif_no_threshold_14Nov2018/\"\n",
    "\n",
    "# The shelve with motif as the outermost key\n",
    "motif_species_shelve_path = \"../../../../temp/formatted/motif_dic\"\n",
    "\n",
    "# The shelve with species name as the outermost key\n",
    "species_motif_shelve_path = \"../../../../temp/formatted/species_motif_dic\"\n",
    "# sample data from:\n",
    "data_dir = \"/home/ubuntu/group_volume/team_neural_network/data/input/3.24_species_only\"\n",
    "\n",
    "len(os.listdir(data_dir)) # total number of regions"
   ]
  },
  {
   "cell_type": "code",
   "execution_count": 9,
   "metadata": {},
   "outputs": [],
   "source": [
    "!rm -r /home/ubuntu/data/temp/samples\n",
    "!mkdir /home/ubuntu/data/temp/samples"
   ]
  },
  {
   "cell_type": "code",
   "execution_count": 10,
   "metadata": {},
   "outputs": [
    {
     "name": "stdout",
     "output_type": "stream",
     "text": [
      "copied samples to ../../../../temp/samples/\n",
      "save to ../../../../temp/buffers/train.data\n",
      "(5016, 1000, 4) (5016,)\n",
      "save to ../../../../temp/buffers/train_x.data\n",
      "save to ../../../../temp/buffers/train_y.data\n",
      "5016 (4013, 1000, 4) (4013,) (1003, 1000, 4) (1003,)\n"
     ]
    }
   ],
   "source": [
    "all_data_lst = np.array(os.listdir(data_dir))\n",
    "num_samples = 209\n",
    "\n",
    "sampling(data_dir, input_folder_path, num_samples, seed = 189)\n",
    "\n",
    "output_file_path = os.path.join(output_folder_path, 'train.data')\n",
    "train_regions = one_hot_encoding(input_folder_path, output_file_path)\n",
    "\n",
    "data_x, data_y = get_training_data(train_regions, output_folder_path,\n",
    "                                   max_len = 1000, \n",
    "                                   train_x_name = 'train_x.data', \n",
    "                                   train_y_name = 'train_y.data')\n",
    "\n",
    "train_x, train_y, val_x, val_y = data_split(data_x, data_y, seed = 157)"
   ]
  },
  {
   "cell_type": "code",
   "execution_count": 11,
   "metadata": {},
   "outputs": [],
   "source": [
    "train_x, val_x = pad_for_detector(train_x, 15), pad_for_detector(val_x, 15)"
   ]
  },
  {
   "cell_type": "code",
   "execution_count": 12,
   "metadata": {},
   "outputs": [],
   "source": [
    "def get_hybrid(opt):\n",
    "    \"\"\"  Return a hybrid network given a optimizer\n",
    "    \"\"\"\n",
    "    model = Sequential()\n",
    "    model.add(Conv1D(filters = 30, \n",
    "                     kernel_size = 15, \n",
    "                     padding = 'valid',\n",
    "                     data_format = 'channels_last',\n",
    "                     activation = 'relu'))\n",
    "    model.add(MaxPooling1D(pool_size = 5, strides = 5))\n",
    "    model.add(Dropout(0.6))\n",
    "    model.add(Bidirectional(LSTM(10)))\n",
    "    model.add(Dropout(0.7))\n",
    "    model.add(Dense(20, activation = 'relu'))\n",
    "    model.add(Dense(1, activation='sigmoid'))\n",
    "    model.compile(optimizer=opt, loss='binary_crossentropy', metrics=['acc'])\n",
    "    return model\n",
    "\n",
    "def train(model, train_x, train_y, val_data, config = {'epochs': 35, 'batch_size': 256}):\n",
    "    \"\"\"  Train model for a given config, training data, and validation data\n",
    "    \"\"\"\n",
    "    epochs, batch_size = config['epochs'], config['batch_size']\n",
    "    return model.fit(train_x, train_y, epochs=epochs, batch_size=batch_size, validation_data=val_data)"
   ]
  },
  {
   "cell_type": "code",
   "execution_count": 13,
   "metadata": {},
   "outputs": [
    {
     "name": "stdout",
     "output_type": "stream",
     "text": [
      "WARNING:tensorflow:From /home/ubuntu/anaconda3/envs/tensorflow_p36/lib/python3.6/site-packages/tensorflow/python/framework/op_def_library.py:263: colocate_with (from tensorflow.python.framework.ops) is deprecated and will be removed in a future version.\n",
      "Instructions for updating:\n",
      "Colocations handled automatically by placer.\n",
      "WARNING:tensorflow:From /home/ubuntu/anaconda3/envs/tensorflow_p36/lib/python3.6/site-packages/keras/backend/tensorflow_backend.py:3445: calling dropout (from tensorflow.python.ops.nn_ops) with keep_prob is deprecated and will be removed in a future version.\n",
      "Instructions for updating:\n",
      "Please use `rate` instead of `keep_prob`. Rate should be set to `rate = 1 - keep_prob`.\n",
      "WARNING:tensorflow:From /home/ubuntu/anaconda3/envs/tensorflow_p36/lib/python3.6/site-packages/tensorflow/python/ops/math_ops.py:3066: to_int32 (from tensorflow.python.ops.math_ops) is deprecated and will be removed in a future version.\n",
      "Instructions for updating:\n",
      "Use tf.cast instead.\n",
      "Train on 4013 samples, validate on 1003 samples\n",
      "Epoch 1/35\n",
      "4013/4013 [==============================] - 28s 7ms/step - loss: 0.7027 - acc: 0.4974 - val_loss: 0.6923 - val_acc: 0.5095\n",
      "Epoch 2/35\n",
      "4013/4013 [==============================] - 20s 5ms/step - loss: 0.6929 - acc: 0.5176 - val_loss: 0.6857 - val_acc: 0.5095\n",
      "Epoch 3/35\n",
      "4013/4013 [==============================] - 20s 5ms/step - loss: 0.6854 - acc: 0.5395 - val_loss: 0.7004 - val_acc: 0.5095\n",
      "Epoch 4/35\n",
      "4013/4013 [==============================] - 20s 5ms/step - loss: 0.6837 - acc: 0.5345 - val_loss: 0.6918 - val_acc: 0.5523\n",
      "Epoch 5/35\n",
      "4013/4013 [==============================] - 20s 5ms/step - loss: 0.6775 - acc: 0.5457 - val_loss: 0.6540 - val_acc: 0.6221\n",
      "Epoch 6/35\n",
      "4013/4013 [==============================] - 19s 5ms/step - loss: 0.6734 - acc: 0.5674 - val_loss: 0.6575 - val_acc: 0.6351\n",
      "Epoch 7/35\n",
      "4013/4013 [==============================] - 19s 5ms/step - loss: 0.6655 - acc: 0.5756 - val_loss: 0.6437 - val_acc: 0.6201\n",
      "Epoch 8/35\n",
      "4013/4013 [==============================] - 19s 5ms/step - loss: 0.6530 - acc: 0.6058 - val_loss: 0.6329 - val_acc: 0.6351\n",
      "Epoch 9/35\n",
      "4013/4013 [==============================] - 19s 5ms/step - loss: 0.6588 - acc: 0.6058 - val_loss: 0.6314 - val_acc: 0.6391\n",
      "Epoch 10/35\n",
      "4013/4013 [==============================] - 19s 5ms/step - loss: 0.6442 - acc: 0.6182 - val_loss: 0.6177 - val_acc: 0.6790\n",
      "Epoch 11/35\n",
      "4013/4013 [==============================] - 19s 5ms/step - loss: 0.6477 - acc: 0.6235 - val_loss: 0.6355 - val_acc: 0.6590\n",
      "Epoch 12/35\n",
      "4013/4013 [==============================] - 19s 5ms/step - loss: 0.6346 - acc: 0.6422 - val_loss: 0.5903 - val_acc: 0.7198\n",
      "Epoch 13/35\n",
      "4013/4013 [==============================] - 20s 5ms/step - loss: 0.6245 - acc: 0.6531 - val_loss: 0.5784 - val_acc: 0.7149\n",
      "Epoch 14/35\n",
      "4013/4013 [==============================] - 19s 5ms/step - loss: 0.6103 - acc: 0.6703 - val_loss: 0.5627 - val_acc: 0.7139\n",
      "Epoch 15/35\n",
      "4013/4013 [==============================] - 19s 5ms/step - loss: 0.6051 - acc: 0.6743 - val_loss: 0.5576 - val_acc: 0.7218\n",
      "Epoch 16/35\n",
      "4013/4013 [==============================] - 19s 5ms/step - loss: 0.5835 - acc: 0.7012 - val_loss: 0.5182 - val_acc: 0.7458\n",
      "Epoch 17/35\n",
      "4013/4013 [==============================] - 19s 5ms/step - loss: 0.5650 - acc: 0.7144 - val_loss: 0.5053 - val_acc: 0.7557\n",
      "Epoch 18/35\n",
      "4013/4013 [==============================] - 19s 5ms/step - loss: 0.5467 - acc: 0.7207 - val_loss: 0.4916 - val_acc: 0.8016\n",
      "Epoch 19/35\n",
      "4013/4013 [==============================] - 19s 5ms/step - loss: 0.5483 - acc: 0.7311 - val_loss: 0.4979 - val_acc: 0.7926\n",
      "Epoch 20/35\n",
      "4013/4013 [==============================] - 19s 5ms/step - loss: 0.5462 - acc: 0.7279 - val_loss: 0.4361 - val_acc: 0.8195\n",
      "Epoch 21/35\n",
      "4013/4013 [==============================] - 19s 5ms/step - loss: 0.5317 - acc: 0.7496 - val_loss: 0.4336 - val_acc: 0.8245\n",
      "Epoch 22/35\n",
      "4013/4013 [==============================] - 19s 5ms/step - loss: 0.5224 - acc: 0.7518 - val_loss: 0.4181 - val_acc: 0.8305\n",
      "Epoch 23/35\n",
      "4013/4013 [==============================] - 19s 5ms/step - loss: 0.5026 - acc: 0.7665 - val_loss: 0.3966 - val_acc: 0.8375\n",
      "Epoch 24/35\n",
      "4013/4013 [==============================] - 18s 5ms/step - loss: 0.4912 - acc: 0.7780 - val_loss: 0.3812 - val_acc: 0.8584\n",
      "Epoch 25/35\n",
      "4013/4013 [==============================] - 18s 5ms/step - loss: 0.4921 - acc: 0.7695 - val_loss: 0.4180 - val_acc: 0.8325\n",
      "Epoch 26/35\n",
      "4013/4013 [==============================] - 19s 5ms/step - loss: 0.5022 - acc: 0.7595 - val_loss: 0.4194 - val_acc: 0.8205\n",
      "Epoch 27/35\n",
      "4013/4013 [==============================] - 18s 5ms/step - loss: 0.4802 - acc: 0.7812 - val_loss: 0.4003 - val_acc: 0.8485\n",
      "Epoch 28/35\n",
      "4013/4013 [==============================] - 18s 5ms/step - loss: 0.4704 - acc: 0.7837 - val_loss: 0.4294 - val_acc: 0.8175\n",
      "Epoch 29/35\n",
      "4013/4013 [==============================] - 18s 5ms/step - loss: 0.4649 - acc: 0.7879 - val_loss: 0.4162 - val_acc: 0.8056\n",
      "Epoch 30/35\n",
      "4013/4013 [==============================] - 18s 5ms/step - loss: 0.4681 - acc: 0.7864 - val_loss: 0.3572 - val_acc: 0.8624\n",
      "Epoch 31/35\n",
      "4013/4013 [==============================] - 18s 5ms/step - loss: 0.4470 - acc: 0.7974 - val_loss: 0.3668 - val_acc: 0.8465\n",
      "Epoch 32/35\n",
      "4013/4013 [==============================] - 19s 5ms/step - loss: 0.4415 - acc: 0.8029 - val_loss: 0.3318 - val_acc: 0.8714\n",
      "Epoch 33/35\n",
      "4013/4013 [==============================] - 19s 5ms/step - loss: 0.4322 - acc: 0.8071 - val_loss: 0.3090 - val_acc: 0.8804\n",
      "Epoch 34/35\n",
      "4013/4013 [==============================] - 18s 5ms/step - loss: 0.4274 - acc: 0.8121 - val_loss: 0.3197 - val_acc: 0.8714\n",
      "Epoch 35/35\n",
      "4013/4013 [==============================] - 19s 5ms/step - loss: 0.4303 - acc: 0.8111 - val_loss: 0.2993 - val_acc: 0.8903\n"
     ]
    }
   ],
   "source": [
    "# Start training\n",
    "# Set up some configurations\n",
    "optimizers = {'adam': Adam(lr=1e-3, beta_1=0.9, beta_2=0.999, epsilon=None, decay=1e-2, amsgrad=False),\n",
    "              'rmsprop': RMSprop(lr=1e-2, rho=0.9, epsilon=None, decay=1e-2)}\n",
    "config = {'epochs': 35, 'batch_size': 256}\n",
    "opt = optimizers['rmsprop']\n",
    "model = get_hybrid(opt)\n",
    "history = train(model, train_x, train_y, (val_x, val_y), config)"
   ]
  },
  {
   "cell_type": "code",
   "execution_count": 14,
   "metadata": {},
   "outputs": [],
   "source": [
    "# Save the model for later analysis\n",
    "save_model_path = '/home/ubuntu/data/team_neural_network/code/models'\n",
    "model_name = 'hybrid_net2.h5'\n",
    "model.save(os.path.join(save_model_path, model_name))"
   ]
  },
  {
   "cell_type": "code",
   "execution_count": 15,
   "metadata": {},
   "outputs": [
    {
     "data": {
      "image/png": "[encoded data removed]",
      "text/plain": [
       "<Figure size 432x288 with 1 Axes>"
      ]
     },
     "metadata": {},
     "output_type": "display_data"
    },
    {
     "data": {
      "image/png": "[encoded data removed]",
      "text/plain": [
       "<Figure size 432x288 with 1 Axes>"
      ]
     },
     "metadata": {},
     "output_type": "display_data"
    }
   ],
   "source": [
    "acc = history.history['acc']\n",
    "val_acc = history.history['val_acc']\n",
    "loss = history.history['loss']\n",
    "val_loss = history.history['val_loss']\n",
    "\n",
    "dianostic_plots(acc, loss, val_acc, val_loss)"
   ]
  },
  {
   "cell_type": "code",
   "execution_count": 16,
   "metadata": {},
   "outputs": [
    {
     "name": "stdout",
     "output_type": "stream",
     "text": [
      "_________________________________________________________________\n",
      "Layer (type)                 Output Shape              Param #   \n",
      "=================================================================\n",
      "conv1d_1 (Conv1D)            (None, 1014, 30)          1830      \n",
      "_________________________________________________________________\n",
      "max_pooling1d_1 (MaxPooling1 (None, 202, 30)           0         \n",
      "_________________________________________________________________\n",
      "dropout_1 (Dropout)          (None, 202, 30)           0         \n",
      "_________________________________________________________________\n",
      "bidirectional_1 (Bidirection (None, 20)                3280      \n",
      "_________________________________________________________________\n",
      "dropout_2 (Dropout)          (None, 20)                0         \n",
      "_________________________________________________________________\n",
      "dense_1 (Dense)              (None, 20)                420       \n",
      "_________________________________________________________________\n",
      "dense_2 (Dense)              (None, 1)                 21        \n",
      "=================================================================\n",
      "Total params: 5,551\n",
      "Trainable params: 5,551\n",
      "Non-trainable params: 0\n",
      "_________________________________________________________________\n"
     ]
    }
   ],
   "source": [
    "model.summary()"
   ]
  },
  {
   "cell_type": "markdown",
   "metadata": {},
   "source": [
    "## 2. Retrieve motif from kernel"
   ]
  },
  {
   "cell_type": "code",
   "execution_count": 49,
   "metadata": {},
   "outputs": [],
   "source": [
    "def get_activated_subseq(activations, test_seq, m):\n",
    "    #################################################################\n",
    "    # Extract those in the TEST_SEQUENCE that has least one position\n",
    "    #     having positive activation.\n",
    "    #################################################################\n",
    "    N, L, C = activations.shape\n",
    "    activated_subseq = {}\n",
    "    for i in range(C): # for each filter\n",
    "        activated_subseq[i] = []\n",
    "        activation = activations[:, :, i]\n",
    "        \n",
    "        # candidate and potential_start has a shape (N, )\n",
    "        candidate, potential_start = np.max(activation, axis=1), np.argmax(activation, axis=1)\n",
    "        \n",
    "        # activated_indices should have a shape (K, ), where K = # of positive activations\n",
    "        activated_indices = [i for i in range(N) if candidate[i] > 0]\n",
    "        K = len(activated_indices)\n",
    "        # activated_seq should have a shape(K, n + 2m - 2, 4)\n",
    "        activated_seq, ends = test_seq[activated_indices, :, :], potential_start[activated_indices]\n",
    "        starts = ends - m + 1\n",
    "        for k in range(K):\n",
    "            start, end = starts[k], ends[k]\n",
    "            activated_subseq[i].append(activated_seq[k, start:(end+1), :])\n",
    "    return activated_subseq"
   ]
  },
  {
   "cell_type": "code",
   "execution_count": 41,
   "metadata": {},
   "outputs": [],
   "source": [
    "model = load_model('../../models/hybrid_net2.h5')\n",
    "\n",
    "filters = model.layers[0].get_weights()[0]\n",
    "bias = model.layers[0].get_weights()[1]"
   ]
  },
  {
   "cell_type": "code",
   "execution_count": 42,
   "metadata": {},
   "outputs": [
    {
     "data": {
      "text/plain": [
       "(1003, 1028, 4)"
      ]
     },
     "execution_count": 42,
     "metadata": {},
     "output_type": "execute_result"
    }
   ],
   "source": [
    "N, n, m = 100, 1000, 15\n",
    "val_x.shape"
   ]
  },
  {
   "cell_type": "code",
   "execution_count": 43,
   "metadata": {},
   "outputs": [],
   "source": [
    "layer_name = model.layers[0].get_config()['name']\n",
    "intermediate_layer_model = Model(inputs=model.input,\n",
    "                                 outputs=model.get_layer(layer_name).output)\n",
    "intermediate_output = intermediate_layer_model.predict(val_x)"
   ]
  },
  {
   "cell_type": "code",
   "execution_count": 44,
   "metadata": {},
   "outputs": [
    {
     "data": {
      "text/plain": [
       "(1003, 1014, 30)"
      ]
     },
     "execution_count": 44,
     "metadata": {},
     "output_type": "execute_result"
    }
   ],
   "source": [
    "intermediate_output.shape"
   ]
  },
  {
   "cell_type": "code",
   "execution_count": 102,
   "metadata": {},
   "outputs": [],
   "source": [
    "activated_subseq = get_activated_subseq(intermediate_output, val_x, m)"
   ]
  },
  {
   "cell_type": "code",
   "execution_count": 103,
   "metadata": {},
   "outputs": [
    {
     "data": {
      "text/plain": [
       "array([[0., 0., 0., 1.],\n",
       "       [0., 0., 0., 1.],\n",
       "       [1., 0., 0., 0.],\n",
       "       [0., 0., 1., 0.],\n",
       "       [0., 0., 0., 1.],\n",
       "       [1., 0., 0., 0.],\n",
       "       [1., 0., 0., 0.],\n",
       "       [0., 0., 1., 0.],\n",
       "       [1., 0., 0., 0.],\n",
       "       [0., 1., 0., 0.],\n",
       "       [0., 0., 0., 1.],\n",
       "       [0., 1., 0., 0.],\n",
       "       [0., 0., 0., 1.],\n",
       "       [0., 0., 1., 0.],\n",
       "       [1., 0., 0., 0.]])"
      ]
     },
     "execution_count": 103,
     "metadata": {},
     "output_type": "execute_result"
    }
   ],
   "source": [
    "activated_subseq[0][0]"
   ]
  },
  {
   "cell_type": "code",
   "execution_count": 104,
   "metadata": {},
   "outputs": [],
   "source": [
    "def convert_to_car(one_hot_code):\n",
    "    char_to_code = {'A': np.array([1, 0, 0, 0]),\n",
    "                    'C': np.array([0, 1, 0, 0]),\n",
    "                    'G': np.array([0, 0, 1, 0]),\n",
    "                    'T': np.array([0, 0, 0, 1]),\n",
    "                    'N': np.array([0.25, 0.25, 0.25, 0.25])}\n",
    "    for char in ['A', 'C', 'G', 'T', 'N']:\n",
    "        if sum(char_to_code[char] - one_hot_code) == 0:\n",
    "            return char\n",
    "\n",
    "def get_pwm(activated_subseq):\n",
    "    pwm = {}\n",
    "    for i in range(m):\n",
    "        subseqs = activated_subseq[i]\n",
    "        counter = {char: 0 for char in ['A', 'C', 'G', 'T']}\n",
    "        for j in range(len(subseqs)):\n",
    "            subseq = list(subseqs[j])\n",
    "            for code in subseq:\n",
    "                c = convert_to_car(code)\n",
    "                counter[c] += 1\n",
    "        pwm[i] = counter.copy()\n",
    "    return pwm"
   ]
  },
  {
   "cell_type": "code",
   "execution_count": 105,
   "metadata": {},
   "outputs": [
    {
     "name": "stdout",
     "output_type": "stream",
     "text": [
      "(1003, 15, 4)\n",
      "(1003, 15, 4)\n",
      "(1003,)\n",
      "(1003,)\n",
      "(1003, 15, 4)\n",
      "(1003,)\n",
      "(1003,)\n",
      "(1003,)\n",
      "(1003, 15, 4)\n",
      "(1003,)\n",
      "(1003,)\n",
      "(1003, 15, 4)\n",
      "(1003, 15, 4)\n",
      "(1003,)\n",
      "(1003,)\n",
      "(1003, 15, 4)\n",
      "(1003, 15, 4)\n",
      "(1003,)\n",
      "(1003,)\n",
      "(1003,)\n",
      "(1003,)\n",
      "(1003, 15, 4)\n",
      "(1003, 15, 4)\n",
      "(1003,)\n",
      "(1003, 15, 4)\n",
      "(1003,)\n",
      "(1003,)\n",
      "(1003,)\n",
      "(1003,)\n",
      "(1003,)\n"
     ]
    }
   ],
   "source": [
    "activated_subseq_list = []\n",
    "for key, value in activated_subseq.items():\n",
    "    print(np.array(value).shape)\n",
    "    activated_subseq_list.append(value)\n",
    "activated_subseq_list = np.array(activated_subseq_list)"
   ]
  },
  {
   "cell_type": "code",
   "execution_count": 90,
   "metadata": {},
   "outputs": [
    {
     "data": {
      "text/plain": [
       "(30, 15, 4)"
      ]
     },
     "execution_count": 90,
     "metadata": {},
     "output_type": "execute_result"
    }
   ],
   "source": [
    "activated_subseq_list.shape"
   ]
  },
  {
   "cell_type": "code",
   "execution_count": null,
   "metadata": {},
   "outputs": [],
   "source": []
  }
 ],
 "metadata": {
  "kernelspec": {
   "display_name": "Python 3",
   "language": "python",
   "name": "python3"
  },
  "language_info": {
   "codemirror_mode": {
    "name": "ipython",
    "version": 3
   },
   "file_extension": ".py",
   "mimetype": "text/x-python",
   "name": "python",
   "nbconvert_exporter": "python",
   "pygments_lexer": "ipython3",
   "version": "3.6.8"
  }
 },
 "nbformat": 4,
 "nbformat_minor": 2
}
