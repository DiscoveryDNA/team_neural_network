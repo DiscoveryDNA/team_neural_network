{
 "cells": [
  {
   "cell_type": "code",
   "execution_count": 59,
   "metadata": {},
   "outputs": [],
   "source": [
    "import os, shutil, pickle, shelve\n",
    "from Bio import SeqIO\n",
    "import numpy as np\n",
    "import tensorflow as tf\n",
    "import matplotlib.pyplot as plt\n",
    "from keras.models import load_model, Model\n",
    "from keras.utils import plot_model\n",
    "from keras.models import Model, Sequential\n",
    "from keras.models import Sequential\n",
    "from keras.layers import Dense, Dropout, MaxPooling1D, Flatten, Conv1D, LSTM, CuDNNLSTM, Bidirectional\n",
    "from keras.optimizers import RMSprop, Adam\n",
    "from keras.initializers import glorot_normal\n",
    "import keras\n",
    "#from utilities import sampling, one_hot_encoding, curtail, get_training_data, load_data, data_split"
   ]
  },
  {
   "cell_type": "code",
   "execution_count": 23,
   "metadata": {},
   "outputs": [],
   "source": [
    "# sample data from:\n",
    "data_dir = \"/home/ubuntu/group_volume/team_neural_network/data/input/3.24_species_only\"\n",
    "output_folder_path = \"../../../../temp/buffers/\""
   ]
  },
  {
   "cell_type": "markdown",
   "metadata": {},
   "source": [
    "## 1. Training and validation"
   ]
  },
  {
   "cell_type": "code",
   "execution_count": 41,
   "metadata": {
    "code_folding": [
     0
    ]
   },
   "outputs": [],
   "source": [
    "# Helper functions\n",
    "\n",
    "def sampling(src, dest, num_samples, seed=42):\n",
    "    \"\"\"  \n",
    "    Sample NUM_SAMPLES of data from SRC and copy them to DEST.\n",
    "    Set random seed to be SEED.\n",
    "    \"\"\"\n",
    "    np.random.seed(seed)\n",
    "    all_data_lst = np.array(os.listdir(src))\n",
    "    n = len(all_data_lst)\n",
    "    sample_indices = np.random.choice(np.arange(n), num_samples, replace=False)\n",
    "    sample_files = all_data_lst[sample_indices]\n",
    "\n",
    "    for file in sample_files:\n",
    "        shutil.copy(os.path.join(src, file),\n",
    "                    dest)\n",
    "    print('copied samples to {}'.format(dest))\n",
    "\n",
    "def pad_for_detector(input_x, kernel_size):\n",
    "    \"\"\" Pad the input matrix such that the (i, k) entry of the output \n",
    "        matrix is the score of motif detector k aligned to position i.\n",
    "    input_x has shape = (N, n, 4)\n",
    "    kernel_size has shape m\n",
    "    output has shape = (N, n + 2m - 2, 4)\n",
    "    \"\"\"\n",
    "    N, n, C = input_x.shape\n",
    "    pad_value, num_pad = 0.25, kernel_size - 1\n",
    "    pad_matrix = np.full((N, num_pad, C), pad_value)\n",
    "    return np.concatenate((pad_matrix, input_x, pad_matrix), axis=1)\n",
    "\n",
    "def one_hot_encoding(input_folder_path, output_file_path, \n",
    "                     max_file_num=10000):\n",
    "    \"\"\"\n",
    "    Given the data in INPUT_FOLDER_PATH, encode them and save\n",
    "    as a buffer called OUTPUT_FILE_PATH.\n",
    "    \n",
    "    Note: INPUT_FOLDER_PATH is a directory while OUTPUT_FILE_PATH\n",
    "          is a file.\n",
    "    \"\"\"\n",
    "    import os\n",
    "    # Use the following dictionary to perform the transformation\n",
    "    base_pairs = {'A': [1, 0, 0, 0], \n",
    "                  'C': [0, 1, 0, 0],\n",
    "                  'G': [0, 0, 1, 0],\n",
    "                  'T': [0, 0, 0, 1],\n",
    "                  'a': [1, 0, 0, 0],\n",
    "                  'c': [0, 1, 0, 0],\n",
    "                  'g': [0, 0, 1, 0],\n",
    "                  't': [0, 0, 0, 1],\n",
    "                  'n': [0, 0, 0, 0],\n",
    "                  'N': [0, 0, 0, 0]}\n",
    "\n",
    "    file_num_limit = max_file_num    # The maximum number of files to be decoded\n",
    "    file_count = 0\n",
    "\n",
    "    # Iterate through every file\n",
    "    all_regions = []\n",
    "    for file in os.listdir(input_folder_path):\n",
    "        # When the number of file decoded has reached the limit, stop\n",
    "        if file_count < file_num_limit:\n",
    "            #print(input_folder_path + file)\n",
    "            data = list(SeqIO.parse(input_folder_path + file,\"fasta\"))\n",
    "            for n in range(0, len(data)):\n",
    "                # Extract the header information\n",
    "                header = data[n].description.split('|')\n",
    "                descr = data[n].description\n",
    "                regionID = header[0]\n",
    "                expressed = header[1]\n",
    "                speciesID = header[2]\n",
    "                strand = header[3]\n",
    "                # Complement all sequences in the negative DNA strand\n",
    "    #             if strand == '-':\n",
    "    #                 # Using the syntax [e for e in base_pairs[n]] to create a new pointer for each position\n",
    "    #                 one_hot.append([descr, expressed, speciesID, [[e for e in base_pairs[n]] for n in data[n].seq.complement()]])\n",
    "    #             else:\n",
    "                all_regions.append([descr, expressed, speciesID, [[e for e in base_pairs[n]] for n in data[n].seq]])\n",
    "            file_count += 1\n",
    "\n",
    "    with open(output_file_path, mode=\"wb\") as output:\n",
    "        print(\"save to {}\".format(output_file_path))\n",
    "        pickle.dump(all_regions, output)\n",
    "    return all_regions\n",
    "\n",
    "def get_training_data(input_data, output_folder_path,\n",
    "                      max_len, train_x_name, train_y_name):\n",
    "    \"\"\" \n",
    "    Convert INPUT_DATA to ready-to-be-fed training data and \n",
    "        corresponding labels.\n",
    "    Save them to OUTPUT_FOLDER_PATH with name TRAIN_X_NAME and\n",
    "        TRAIN_Y_NAME.\n",
    "    INPUT_DATA is directly generated by the function one_hot_encoding. \n",
    "    \"\"\"\n",
    "    train_x, train_y = [], []\n",
    "    for region in input_data:\n",
    "        y, x = int(region[1]), region[3]\n",
    "        x = curtail(x, max_len)  # Curtail\n",
    "        x = np.array(x).flatten() # Flatten\n",
    "        x = x.reshape((1000, 4)) # Reshape\n",
    "        train_x.append(x)\n",
    "        train_y.append(y)\n",
    "\n",
    "    train_x, train_y = np.array(train_x), np.array(train_y)\n",
    "\n",
    "    print(train_x.shape, train_y.shape)\n",
    "\n",
    "    with open(os.path.join(output_folder_path, train_x_name), mode=\"wb\") as output:\n",
    "        print(\"save to {}\".format(os.path.join(output_folder_path, train_x_name)))\n",
    "        pickle.dump(train_x, output)\n",
    "\n",
    "    with open(os.path.join(output_folder_path, train_y_name), mode=\"wb\") as output:\n",
    "        print(\"save to {}\".format(os.path.join(output_folder_path, train_y_name)))\n",
    "        pickle.dump(train_y, output)\n",
    "    return train_x, train_y\n",
    "\n",
    "def data_split(data_x, data_y, val_split=0.2, seed=42):\n",
    "    \"\"\"\n",
    "    Given totally N data, randomly sample N*VAL_SPLIT of them \n",
    "        to form validation data.\n",
    "    Set random seed to SEED.\n",
    "    \"\"\"\n",
    "    # Split it into training and validation data sets\n",
    "    N = data_x.shape[0]\n",
    "    num_val = int(N * val_split)\n",
    "\n",
    "    np.random.seed(seed)\n",
    "    val_indices = np.random.choice(np.arange(N), num_val, replace=False)\n",
    "    train_indices = np.arange(N)[~np.isin(np.arange(N), val_indices)]\n",
    "\n",
    "    train_x, train_y = data_x[train_indices], data_y[train_indices]\n",
    "    val_x, val_y = data_x[val_indices], data_y[val_indices]\n",
    "\n",
    "    print(N, train_x.shape, train_y.shape, val_x.shape, val_y.shape)\n",
    "    return train_x, train_y, val_x, val_y\n",
    "\n",
    "\n",
    "def dianostic_plots(train_acc, train_loss, val_train_acc, val_loss):\n",
    "    \"\"\"  Plot dianostic plots of a model:\n",
    "    Plot 1: Traning loss & validation loss against epochs\n",
    "    Plot 2: Training acc & validation acc against epochs\n",
    "    \"\"\"\n",
    "    epochs = range(1, len(train_acc) + 1)\n",
    "\n",
    "    plt.plot(epochs, train_acc, '-', label='Training train_accuracy')\n",
    "    plt.plot(epochs, val_train_acc, '-', label='Validation Accuracy')\n",
    "    plt.title('Training and Validation Accuracy')\n",
    "    plt.xlabel('epoches')\n",
    "    plt.legend()\n",
    "\n",
    "    plt.figure()\n",
    "    plt.plot(epochs, loss, '-', label='Training Loss')\n",
    "    plt.plot(epochs, val_loss, '-', label='Validation Loss')\n",
    "    plt.title('Training and Validation Loss')\n",
    "    plt.xlabel('epoches')\n",
    "    plt.legend()\n",
    "    \n",
    "    plt.show()"
   ]
  },
  {
   "cell_type": "code",
   "execution_count": 38,
   "metadata": {},
   "outputs": [
    {
     "data": {
      "text/plain": [
       "3543"
      ]
     },
     "execution_count": 38,
     "metadata": {},
     "output_type": "execute_result"
    }
   ],
   "source": [
    "input_folder_path = \"../../../../temp/samples/\"\n",
    "output_folder_path = \"../../../../temp/buffers/\"\n",
    "\n",
    "# This should be the parent folder of motif files\n",
    "motif_folder_path = \"../../../..Map_Motif_no_threshold_14Nov2018/\"\n",
    "\n",
    "# The shelve with motif as the outermost key\n",
    "motif_species_shelve_path = \"../../../../temp/formatted/motif_dic\"\n",
    "\n",
    "# The shelve with species name as the outermost key\n",
    "species_motif_shelve_path = \"../../../../temp/formatted/species_motif_dic\"\n",
    "# sample data from:\n",
    "data_dir = \"/home/ubuntu/group_volume/team_neural_network/data/input/3.24_species_only\"\n",
    "\n",
    "len(os.listdir(data_dir)) # total number of regions"
   ]
  },
  {
   "cell_type": "code",
   "execution_count": 42,
   "metadata": {},
   "outputs": [],
   "source": [
    "!rm -r /home/ubuntu/data/temp/samples\n",
    "!mkdir /home/ubuntu/data/temp/samples"
   ]
  },
  {
   "cell_type": "code",
   "execution_count": 43,
   "metadata": {},
   "outputs": [
    {
     "name": "stdout",
     "output_type": "stream",
     "text": [
      "copied samples to ../../../../temp/samples/\n",
      "save to ../../../../temp/buffers/train.data\n",
      "(5016, 1000, 4) (5016,)\n",
      "save to ../../../../temp/buffers/train_x.data\n",
      "save to ../../../../temp/buffers/train_y.data\n",
      "5016 (4013, 1000, 4) (4013,) (1003, 1000, 4) (1003,)\n"
     ]
    }
   ],
   "source": [
    "all_data_lst = np.array(os.listdir(data_dir))\n",
    "num_samples = 209\n",
    "\n",
    "sampling(data_dir, input_folder_path, num_samples, seed = 189)\n",
    "\n",
    "output_file_path = os.path.join(output_folder_path, 'train.data')\n",
    "train_regions = one_hot_encoding(input_folder_path, output_file_path)\n",
    "\n",
    "data_x, data_y = get_training_data(train_regions, output_folder_path,\n",
    "                                   max_len = 1000, \n",
    "                                   train_x_name = 'train_x.data', \n",
    "                                   train_y_name = 'train_y.data')\n",
    "\n",
    "train_x, train_y, val_x, val_y = data_split(data_x, data_y, seed = 157)"
   ]
  },
  {
   "cell_type": "code",
   "execution_count": 55,
   "metadata": {},
   "outputs": [],
   "source": [
    "train_x, val_x = pad_for_detector(train_x, 15), pad_for_detector(val_x, 15)"
   ]
  },
  {
   "cell_type": "code",
   "execution_count": 61,
   "metadata": {},
   "outputs": [],
   "source": [
    "def get_hybrid(opt):\n",
    "    \"\"\"  Return a hybrid network given a optimizer\n",
    "    \"\"\"\n",
    "    model = Sequential()\n",
    "    model.add(Conv1D(filters = 30, \n",
    "                     kernel_size = 15, \n",
    "                     padding = 'valid',\n",
    "                     data_format = 'channels_last',\n",
    "                     activation = 'relu'))\n",
    "    model.add(MaxPooling1D(pool_size = 5, strides = 5))\n",
    "    model.add(Dropout(0.6))\n",
    "    model.add(Bidirectional(LSTM(10)))\n",
    "    model.add(Dropout(0.7))\n",
    "    model.add(Dense(20, activation = 'relu'))\n",
    "    model.add(Dense(1, activation='sigmoid'))\n",
    "    model.compile(optimizer=opt, loss='binary_crossentropy', metrics=['acc'])\n",
    "    return model\n",
    "\n",
    "def train(model, train_x, train_y, val_data, config = {'epochs': 35, 'batch_size': 256}):\n",
    "    \"\"\"  Train model for a given config, training data, and validation data\n",
    "    \"\"\"\n",
    "    epochs, batch_size = config['epochs'], config['batch_size']\n",
    "    return model.fit(train_x, train_y, epochs=epochs, batch_size=batch_size, validation_data=val_data)"
   ]
  },
  {
   "cell_type": "code",
   "execution_count": 62,
   "metadata": {},
   "outputs": [
    {
     "name": "stdout",
     "output_type": "stream",
     "text": [
      "Train on 4013 samples, validate on 1003 samples\n",
      "Epoch 1/35\n",
      "4013/4013 [==============================] - 16s 4ms/step - loss: 0.6988 - acc: 0.5081 - val_loss: 0.6935 - val_acc: 0.5095\n",
      "Epoch 2/35\n",
      "4013/4013 [==============================] - 13s 3ms/step - loss: 0.6898 - acc: 0.5293 - val_loss: 0.6740 - val_acc: 0.5852\n",
      "Epoch 3/35\n",
      "4013/4013 [==============================] - 12s 3ms/step - loss: 0.6846 - acc: 0.5405 - val_loss: 0.6718 - val_acc: 0.5214\n",
      "Epoch 4/35\n",
      "4013/4013 [==============================] - 13s 3ms/step - loss: 0.6747 - acc: 0.5432 - val_loss: 0.6516 - val_acc: 0.6171\n",
      "Epoch 5/35\n",
      "4013/4013 [==============================] - 12s 3ms/step - loss: 0.6701 - acc: 0.5709 - val_loss: 0.6681 - val_acc: 0.5583\n",
      "Epoch 6/35\n",
      "4013/4013 [==============================] - 12s 3ms/step - loss: 0.6694 - acc: 0.5647 - val_loss: 0.6554 - val_acc: 0.6560\n",
      "Epoch 7/35\n",
      "4013/4013 [==============================] - 13s 3ms/step - loss: 0.6585 - acc: 0.5878 - val_loss: 0.6555 - val_acc: 0.5922\n",
      "Epoch 8/35\n",
      "4013/4013 [==============================] - 12s 3ms/step - loss: 0.6525 - acc: 0.6108 - val_loss: 0.6269 - val_acc: 0.6760\n",
      "Epoch 9/35\n",
      "4013/4013 [==============================] - 12s 3ms/step - loss: 0.6450 - acc: 0.6197 - val_loss: 0.6160 - val_acc: 0.6790\n",
      "Epoch 10/35\n",
      "4013/4013 [==============================] - 12s 3ms/step - loss: 0.6363 - acc: 0.6437 - val_loss: 0.6272 - val_acc: 0.6132\n",
      "Epoch 11/35\n",
      "4013/4013 [==============================] - 13s 3ms/step - loss: 0.6140 - acc: 0.6706 - val_loss: 0.5793 - val_acc: 0.7168\n",
      "Epoch 12/35\n",
      "4013/4013 [==============================] - 12s 3ms/step - loss: 0.4522 - acc: 0.7959 - val_loss: 0.3441 - val_acc: 0.8654\n",
      "Epoch 22/35\n",
      "4013/4013 [==============================] - 13s 3ms/step - loss: 0.4435 - acc: 0.8016 - val_loss: 0.3352 - val_acc: 0.8754\n",
      "Epoch 23/35\n",
      "4013/4013 [==============================] - 12s 3ms/step - loss: 0.4300 - acc: 0.8096 - val_loss: 0.3178 - val_acc: 0.8853\n",
      "Epoch 24/35\n",
      "4013/4013 [==============================] - 12s 3ms/step - loss: 0.4246 - acc: 0.8109 - val_loss: 0.3164 - val_acc: 0.8764\n",
      "Epoch 25/35\n",
      "4013/4013 [==============================] - 12s 3ms/step - loss: 0.4280 - acc: 0.8074 - val_loss: 0.3101 - val_acc: 0.8824\n",
      "Epoch 26/35\n",
      "4013/4013 [==============================] - 13s 3ms/step - loss: 0.4140 - acc: 0.8208 - val_loss: 0.3238 - val_acc: 0.8694\n",
      "Epoch 27/35\n",
      "4013/4013 [==============================] - 12s 3ms/step - loss: 0.4086 - acc: 0.8256 - val_loss: 0.2830 - val_acc: 0.8983\n",
      "Epoch 28/35\n",
      "4013/4013 [==============================] - 12s 3ms/step - loss: 0.4028 - acc: 0.8238 - val_loss: 0.3144 - val_acc: 0.8724\n",
      "Epoch 29/35\n",
      "4013/4013 [==============================] - 12s 3ms/step - loss: 0.4013 - acc: 0.8256 - val_loss: 0.3247 - val_acc: 0.8564\n",
      "Epoch 30/35\n",
      "4013/4013 [==============================] - 12s 3ms/step - loss: 0.3911 - acc: 0.8283 - val_loss: 0.2768 - val_acc: 0.9003\n",
      "Epoch 31/35\n",
      "4013/4013 [==============================] - 12s 3ms/step - loss: 0.3874 - acc: 0.8313 - val_loss: 0.2627 - val_acc: 0.9063\n",
      "Epoch 32/35\n",
      "4013/4013 [==============================] - 12s 3ms/step - loss: 0.3762 - acc: 0.8390 - val_loss: 0.2573 - val_acc: 0.9043\n",
      "Epoch 33/35\n",
      "4013/4013 [==============================] - 13s 3ms/step - loss: 0.3718 - acc: 0.8345 - val_loss: 0.2445 - val_acc: 0.9143\n",
      "Epoch 34/35\n",
      "4013/4013 [==============================] - 12s 3ms/step - loss: 0.3628 - acc: 0.8462 - val_loss: 0.2480 - val_acc: 0.9043\n",
      "Epoch 35/35\n",
      "4013/4013 [==============================] - 12s 3ms/step - loss: 0.3643 - acc: 0.8423 - val_loss: 0.2407 - val_acc: 0.9073\n"
     ]
    }
   ],
   "source": [
    "# Start training\n",
    "# Set up some configurations\n",
    "optimizers = {'adam': Adam(lr=1e-3, beta_1=0.9, beta_2=0.999, epsilon=None, decay=1e-2, amsgrad=False),\n",
    "              'rmsprop': RMSprop(lr=1e-2, rho=0.9, epsilon=None, decay=1e-2)}\n",
    "config = {'epochs': 35, 'batch_size': 256}\n",
    "opt = optimizers['rmsprop']\n",
    "model = get_hybrid(opt)\n",
    "history = train(model, train_x, train_y, (val_x, val_y), config)"
   ]
  },
  {
   "cell_type": "code",
   "execution_count": 63,
   "metadata": {},
   "outputs": [],
   "source": [
    "# Save the model for later analysis\n",
    "save_model_path = '/home/ubuntu/data/team_neural_network/code/models'\n",
    "model_name = 'hybrid_net2.h5'\n",
    "model.save(os.path.join(save_model_path, model_name))"
   ]
  },
  {
   "cell_type": "code",
   "execution_count": 64,
   "metadata": {},
   "outputs": [
    {
     "data": {
      "image/png": "[encoded data removed]",
      "text/plain": [
       "<Figure size 432x288 with 1 Axes>"
      ]
     },
     "metadata": {},
     "output_type": "display_data"
    },
    {
     "data": {
      "image/png": "[encoded data removed]",
      "text/plain": [
       "<Figure size 432x288 with 1 Axes>"
      ]
     },
     "metadata": {},
     "output_type": "display_data"
    }
   ],
   "source": [
    "acc = history.history['acc']\n",
    "val_acc = history.history['val_acc']\n",
    "loss = history.history['loss']\n",
    "val_loss = history.history['val_loss']\n",
    "\n",
    "dianostic_plots(acc, loss, val_acc, val_loss)"
   ]
  },
  {
   "cell_type": "code",
   "execution_count": 65,
   "metadata": {},
   "outputs": [
    {
     "name": "stdout",
     "output_type": "stream",
     "text": [
      "_________________________________________________________________\n",
      "Layer (type)                 Output Shape              Param #   \n",
      "=================================================================\n",
      "conv1d_1 (Conv1D)            (None, 1014, 30)          1830      \n",
      "_________________________________________________________________\n",
      "max_pooling1d_1 (MaxPooling1 (None, 202, 30)           0         \n",
      "_________________________________________________________________\n",
      "dropout_1 (Dropout)          (None, 202, 30)           0         \n",
      "_________________________________________________________________\n",
      "bidirectional_1 (Bidirection (None, 20)                3280      \n",
      "_________________________________________________________________\n",
      "dropout_2 (Dropout)          (None, 20)                0         \n",
      "_________________________________________________________________\n",
      "dense_1 (Dense)              (None, 20)                420       \n",
      "_________________________________________________________________\n",
      "dense_2 (Dense)              (None, 1)                 21        \n",
      "=================================================================\n",
      "Total params: 5,551\n",
      "Trainable params: 5,551\n",
      "Non-trainable params: 0\n",
      "_________________________________________________________________\n"
     ]
    }
   ],
   "source": [
    "model.summary()"
   ]
  },
  {
   "cell_type": "markdown",
   "metadata": {},
   "source": [
    "## 2. Retrieve motif from kernel"
   ]
  },
  {
   "cell_type": "code",
   "execution_count": 66,
   "metadata": {},
   "outputs": [],
   "source": [
    "def get_activated_subseq(activations, test_seq, m):\n",
    "    #################################################################\n",
    "    # Extract those in the TEST_SEQUENCE that has least one position\n",
    "    #     having positive activation.\n",
    "    #################################################################\n",
    "    N, L, C = activations.shape\n",
    "    activated_subseq = {}\n",
    "    for i in range(C): # for each filter\n",
    "        activated_subseq[i] = []\n",
    "        activation = activations[:, :, i]\n",
    "        \n",
    "        # candidate and potential_start has a shape (N, )\n",
    "        candidate, potential_start = np.max(activation, axis=1), np.argmax(activation, axis=1)\n",
    "        \n",
    "        # activated_indices should have a shape (K, ), where K = # of positive activations\n",
    "        activated_indices = [i for i in range(N) if candidate[i] > 0]\n",
    "        K = len(activated_indices)\n",
    "        \n",
    "        # activated_seq should have a shape(K, n + 2m - 2, 4)\n",
    "        activated_seq, ends = test_seq[activated_indices, :, :], potential_start[activated_indices]\n",
    "        starts = ends - m + 1\n",
    "        for k in range(K):\n",
    "            start, end = starts[k], ends[k]\n",
    "            activated_subseq[i].append(activated_seq[k, start:(end+1), :])\n",
    "    return activated_subseq"
   ]
  },
  {
   "cell_type": "code",
   "execution_count": 67,
   "metadata": {},
   "outputs": [],
   "source": [
    "model = load_model('../../models/hybrid_net2.h5')\n",
    "\n",
    "filters = model.layers[0].get_weights()[0]\n",
    "bias = model.layers[0].get_weights()[1]"
   ]
  },
  {
   "cell_type": "code",
   "execution_count": 68,
   "metadata": {},
   "outputs": [
    {
     "data": {
      "text/plain": [
       "(1003, 1028, 4)"
      ]
     },
     "execution_count": 68,
     "metadata": {},
     "output_type": "execute_result"
    }
   ],
   "source": [
    "N, n, m = 100, 1000, 15\n",
    "val_x.shape"
   ]
  },
  {
   "cell_type": "code",
   "execution_count": 70,
   "metadata": {},
   "outputs": [],
   "source": [
    "layer_name = model.layers[0].get_config()['name']\n",
    "intermediate_layer_model = Model(inputs=model.input,\n",
    "                                 outputs=model.get_layer(layer_name).output)\n",
    "intermediate_output = intermediate_layer_model.predict(val_x)"
   ]
  },
  {
   "cell_type": "code",
   "execution_count": 71,
   "metadata": {},
   "outputs": [
    {
     "data": {
      "text/plain": [
       "(1003, 1014, 30)"
      ]
     },
     "execution_count": 71,
     "metadata": {},
     "output_type": "execute_result"
    }
   ],
   "source": [
    "intermediate_output.shape"
   ]
  },
  {
   "cell_type": "code",
   "execution_count": 73,
   "metadata": {},
   "outputs": [],
   "source": [
    "activated_subseq = get_activated_subseq(intermediate_output, val_x, m)"
   ]
  },
  {
   "cell_type": "code",
   "execution_count": 74,
   "metadata": {},
   "outputs": [
    {
     "data": {
      "text/plain": [
       "array([[0., 0., 0., 1.],\n",
       "       [1., 0., 0., 0.],\n",
       "       [0., 0., 0., 1.],\n",
       "       [0., 0., 0., 1.],\n",
       "       [0., 0., 0., 1.],\n",
       "       [1., 0., 0., 0.],\n",
       "       [0., 0., 1., 0.],\n",
       "       [0., 0., 0., 1.],\n",
       "       [0., 0., 0., 1.],\n",
       "       [1., 0., 0., 0.],\n",
       "       [1., 0., 0., 0.],\n",
       "       [0., 0., 0., 1.],\n",
       "       [0., 0., 0., 1.],\n",
       "       [0., 1., 0., 0.],\n",
       "       [1., 0., 0., 0.]])"
      ]
     },
     "execution_count": 74,
     "metadata": {},
     "output_type": "execute_result"
    }
   ],
   "source": [
    "activated_subseq[0][0]"
   ]
  },
  {
   "cell_type": "code",
   "execution_count": 75,
   "metadata": {},
   "outputs": [],
   "source": [
    "def convert_to_car(one_hot_code):\n",
    "    char_to_code = {'A': np.array([1, 0, 0, 0]),\n",
    "                    'C': np.array([0, 1, 0, 0]),\n",
    "                    'G': np.array([0, 0, 1, 0]),\n",
    "                    'T': np.array([0, 0, 0, 1]),\n",
    "                    'N': np.array([0.25, 0.25, 0.25, 0.25])}\n",
    "    for char in ['A', 'C', 'G', 'T', 'N']:\n",
    "        if sum(char_to_code[char] - one_hot_code) == 0:\n",
    "            return char\n",
    "\n",
    "def get_pwm(activated_subseq):\n",
    "    pwm = {}\n",
    "    for i in range(m):\n",
    "        subseqs = activated_subseq[i]\n",
    "        counter = {char: 0 for char in ['A', 'C', 'G', 'T']}\n",
    "        for j in range(len(subseqs)):\n",
    "            subseq = list(subseqs[j])\n",
    "            for code in subseq:\n",
    "                c = convert_to_car(code)\n",
    "                counter[c] += 1\n",
    "        pwm[i] = counter.copy()\n",
    "    return pwm"
   ]
  }
 ],
 "metadata": {
  "kernelspec": {
   "display_name": "Python 3",
   "language": "python",
   "name": "python3"
  },
  "language_info": {
   "codemirror_mode": {
    "name": "ipython",
    "version": 3
   },
   "file_extension": ".py",
   "mimetype": "text/x-python",
   "name": "python",
   "nbconvert_exporter": "python",
   "pygments_lexer": "ipython3",
   "version": "3.6.8"
  }
 },
 "nbformat": 4,
 "nbformat_minor": 2
}
