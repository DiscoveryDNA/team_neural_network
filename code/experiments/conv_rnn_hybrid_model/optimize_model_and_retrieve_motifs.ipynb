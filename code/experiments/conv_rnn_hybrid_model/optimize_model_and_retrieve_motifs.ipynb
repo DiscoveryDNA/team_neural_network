{
 "cells": [
  {
   "cell_type": "code",
   "execution_count": 90,
   "metadata": {},
   "outputs": [],
   "source": [
    "import os, shutil, pickle, shelve\n",
    "#from Bio import SeqIO\n",
    "import numpy as np\n",
    "import tensorflow as tf\n",
    "import matplotlib.pyplot as plt\n",
    "from keras.models import load_model, Model\n",
    "from keras.utils import plot_model\n",
    "from keras.models import Model, Sequential\n",
    "from keras.models import Sequential\n",
    "from keras.layers import Dense, Dropout, MaxPooling1D, Flatten, Conv1D, LSTM, CuDNNLSTM, Bidirectional\n",
    "from keras.optimizers import RMSprop, Adam\n",
    "from keras.initializers import glorot_normal\n",
    "import utilities"
   ]
  },
  {
   "cell_type": "code",
   "execution_count": 4,
   "metadata": {},
   "outputs": [],
   "source": [
    "def get_hybrid(opt):\n",
    "    \"\"\"  Return a hybrid network given a optimizer\n",
    "    \"\"\"\n",
    "    model = Sequential()\n",
    "    model.add(Conv1D(filters = 30, \n",
    "                     kernel_size = 15, \n",
    "                     padding = 'valid',\n",
    "                     data_format = 'channels_last',\n",
    "                     activation = 'relu'))\n",
    "    model.add(MaxPooling1D(pool_size = 5, strides = 5))\n",
    "    model.add(Dropout(0.6))\n",
    "    model.add(Bidirectional(LSTM(10)))\n",
    "    model.add(Dropout(0.7))\n",
    "    model.add(Dense(20, activation = 'relu'))\n",
    "    model.add(Dense(1, activation='sigmoid'))\n",
    "    model.compile(optimizer=opt, loss='binary_crossentropy', metrics=['acc'])\n",
    "    return model\n",
    "\n",
    "def train(model, train_x, train_y, val_data, config = {'epochs': 35, 'batch_size': 256}):\n",
    "    \"\"\"  Train model for a given config, training data, and validation data\n",
    "    \"\"\"\n",
    "    epochs, batch_size = config['epochs'], config['batch_size']\n",
    "    return model.fit(train_x, train_y, epochs=epochs, batch_size=batch_size, validation_data=val_data)"
   ]
  },
  {
   "cell_type": "code",
   "execution_count": 34,
   "metadata": {},
   "outputs": [],
   "source": [
    "def pad_for_detector(input_x, kernel_size):\n",
    "    \"\"\" Pad the input matrix such that the (i, k) entry of the output \n",
    "        matrix is the score of motif detector k aligned to position i.\n",
    "    input_x has shape = (N, n, 4)\n",
    "    kernel_size has shape m\n",
    "    output has shape = (N, n + 2m - 2, 4)\n",
    "    \"\"\"\n",
    "    N, n, C = input_x.shape\n",
    "    pad_value, num_pad = 0.25, kernel_size - 1\n",
    "    pad_matrix = np.full((N, num_pad, C), pad_value)\n",
    "    return np.concatenate((pad_matrix, input_x, pad_matrix), axis=1)\n",
    "        \n",
    "def get_pwm(test_seqs, kernel, bias):\n",
    "    \"\"\"\n",
    "    test_seqs: (N, n + 2m - 2, 4)\n",
    "    kernel: (m, 4)\n",
    "    bias: (1, )\n",
    "    output: (k, m, 4)\n",
    "    \"\"\"\n",
    "    N, L, C = test_seqs.shape\n",
    "    m, _ = kernel.shape\n",
    "    \n",
    "    ################################\n",
    "    # Reconstruct the motif detector\n",
    "    ################################\n",
    "    conv_layer = Conv1D()\n",
    "    \n",
    "    ###############################################\n",
    "    # Pass TEST_SEQUENCE through the motif detector\n",
    "    # activation has a shape (N, n + m - 1)\n",
    "    ###############################################\n",
    "    activation = kernel(test_sequence)\n",
    "    \n",
    "    #################################################################\n",
    "    # Extract those in the TEST_SEQUENCE that has least one position\n",
    "    #     having positive activation.\n",
    "    #################################################################\n",
    "    \n",
    "    # candidate and potential_start has a shape (N, )\n",
    "    candidate, potential_start = np.max(activation, axis=1), np.argmax(activation, axis=1)\n",
    "    \n",
    "    # activated_indices should have a shape (k, )\n",
    "    activated_indices = [i for i in range(N) if candidate[i] > 0]\n",
    "    \n",
    "    # activated_seq should have a shape(k, n + 2m - 2, 4)\n",
    "    activated_seq, end = test_sequences[activated_indices, :, :], potential_start[activated_indices]\n",
    "    start = end - m + 1\n",
    "    activated_subseq = activated_seq[:, start:end+1, :]\n",
    "    return activated_subseq"
   ]
  },
  {
   "cell_type": "code",
   "execution_count": 50,
   "metadata": {},
   "outputs": [],
   "source": [
    "model = load_model('../../models/hybrid_net.h5')\n",
    "\n",
    "filters = model.layers[0].get_weights()[0]\n",
    "bias = model.layers[0].get_weights()[1]"
   ]
  },
  {
   "cell_type": "code",
   "execution_count": 63,
   "metadata": {},
   "outputs": [
    {
     "data": {
      "text/plain": [
       "((15, 4), ())"
      ]
     },
     "execution_count": 63,
     "metadata": {},
     "output_type": "execute_result"
    }
   ],
   "source": [
    "filter0 = filters[:, :, 0]\n",
    "bias0 = bias[0]\n",
    "filter0.shape, bias0.shape"
   ]
  },
  {
   "cell_type": "code",
   "execution_count": 65,
   "metadata": {},
   "outputs": [
    {
     "data": {
      "text/plain": [
       "(100, 1028, 4)"
      ]
     },
     "execution_count": 65,
     "metadata": {},
     "output_type": "execute_result"
    }
   ],
   "source": [
    "N, n, m = 100, 1000, 15\n",
    "test_seq = np.random.randint(2, size = N*n*4).reshape((N, n, 4))\n",
    "padded_test_seq = pad_for_detector(test_seq, m)\n",
    "padded_test_seq.shape"
   ]
  },
  {
   "cell_type": "code",
   "execution_count": 66,
   "metadata": {},
   "outputs": [
    {
     "data": {
      "text/plain": [
       "((15, 4), ())"
      ]
     },
     "execution_count": 66,
     "metadata": {},
     "output_type": "execute_result"
    }
   ],
   "source": [
    "filter0.shape, bias0.shape"
   ]
  },
  {
   "cell_type": "code",
   "execution_count": 94,
   "metadata": {},
   "outputs": [],
   "source": [
    "conv_layer = tf.layers.Conv1D(filters = 1,\n",
    "                              kernel_size = m,\n",
    "                              trainable=False)\n",
    "weight, bias = tf.constant(filter0, dtype=tf.float32), tf.constant(bias0, dtype=tf.float32)"
   ]
  },
  {
   "cell_type": "code",
   "execution_count": null,
   "metadata": {},
   "outputs": [],
   "source": []
  }
 ],
 "metadata": {
  "kernelspec": {
   "display_name": "Python 3",
   "language": "python",
   "name": "python3"
  },
  "language_info": {
   "codemirror_mode": {
    "name": "ipython",
    "version": 3
   },
   "file_extension": ".py",
   "mimetype": "text/x-python",
   "name": "python",
   "nbconvert_exporter": "python",
   "pygments_lexer": "ipython3",
   "version": "3.6.8"
  }
 },
 "nbformat": 4,
 "nbformat_minor": 2
}
