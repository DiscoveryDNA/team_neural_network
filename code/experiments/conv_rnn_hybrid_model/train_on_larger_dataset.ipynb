{
 "cells": [
  {
   "cell_type": "code",
   "execution_count": 1,
   "metadata": {},
   "outputs": [],
   "source": [
    "%load_ext autoreload\n",
    "%autoreload 2"
   ]
  },
  {
   "cell_type": "code",
   "execution_count": 2,
   "metadata": {},
   "outputs": [
    {
     "name": "stderr",
     "output_type": "stream",
     "text": [
      "/home/ubuntu/anaconda3/envs/tensorflow_p36/lib/python3.6/site-packages/h5py/__init__.py:36: FutureWarning: Conversion of the second argument of issubdtype from `float` to `np.floating` is deprecated. In future, it will be treated as `np.float64 == np.dtype(float).type`.\n",
      "  from ._conv import register_converters as _register_converters\n",
      "/home/ubuntu/anaconda3/envs/tensorflow_p36/lib/python3.6/site-packages/matplotlib/__init__.py:1067: UserWarning: Duplicate key in file \"/home/ubuntu/.config/matplotlib/matplotlibrc\", line #2\n",
      "  (fname, cnt))\n",
      "/home/ubuntu/anaconda3/envs/tensorflow_p36/lib/python3.6/site-packages/matplotlib/__init__.py:1067: UserWarning: Duplicate key in file \"/home/ubuntu/.config/matplotlib/matplotlibrc\", line #3\n",
      "  (fname, cnt))\n",
      "Using TensorFlow backend.\n"
     ]
    }
   ],
   "source": [
    "import os, shutil, pickle, shelve\n",
    "from Bio import SeqIO\n",
    "import numpy as np\n",
    "import tensorflow as tf\n",
    "import matplotlib.pyplot as plt\n",
    "from keras.models import load_model, Model\n",
    "from keras.utils import plot_model\n",
    "from keras.models import Model, Sequential\n",
    "from keras.models import Sequential\n",
    "from keras.layers import Dense, Dropout, MaxPooling1D, Flatten, Conv1D, LSTM, CuDNNLSTM, Bidirectional\n",
    "from keras.optimizers import RMSprop, Adam\n",
    "from keras.initializers import glorot_normal\n",
    "from utilities import sampling, one_hot_encoding, curtail, get_training_data, load_data, data_split, dianostic_plots, pad_for_detector\n",
    "from utilities import get_char_list, get_freqs, get_candidates, get_motif\n",
    "import keras\n",
    "import utilities"
   ]
  },
  {
   "cell_type": "code",
   "execution_count": 3,
   "metadata": {},
   "outputs": [
    {
     "data": {
      "text/plain": [
       "3543"
      ]
     },
     "execution_count": 3,
     "metadata": {},
     "output_type": "execute_result"
    }
   ],
   "source": [
    "# Subset sampling: save to me_samples; \"me\" for \"mutually exclusive\"\n",
    "output_folder_path = \"../../../../temp/buffers/me_samples\"\n",
    "\n",
    "data_dir = \"/home/ubuntu/group_volume/team_neural_network/data/input/3.24_species_only\"\n",
    "\n",
    "len(os.listdir(data_dir)) # total number of regions"
   ]
  },
  {
   "cell_type": "markdown",
   "metadata": {},
   "source": [
    "Uncomment the following code chunk to resample training and validation data"
   ]
  },
  {
   "cell_type": "code",
   "execution_count": 7,
   "metadata": {},
   "outputs": [
    {
     "name": "stdout",
     "output_type": "stream",
     "text": [
      "copied training samples to /home/ubuntu/data/temp/train/\n",
      "copied validation samples to /home/ubuntu/data/temp/val/\n",
      "save to ../../../../temp/buffers/me_samples/train.data\n",
      "save to ../../../../temp/buffers/me_samples/val.data\n",
      "(68016, 1000, 4) (68016,)\n",
      "save to ../../../../temp/buffers/me_samples/train_x.data\n",
      "save to ../../../../temp/buffers/me_samples/train_y.data\n",
      "(17016, 1000, 4) (17016,)\n",
      "save to ../../../../temp/buffers/me_samples/val_x.data\n",
      "save to ../../../../temp/buffers/me_samples/val_y.data\n"
     ]
    },
    {
     "ename": "NameError",
     "evalue": "name 'pad_for_detector' is not defined",
     "output_type": "error",
     "traceback": [
      "\u001b[0;31m---------------------------------------------------------------------------\u001b[0m",
      "\u001b[0;31mNameError\u001b[0m                                 Traceback (most recent call last)",
      "\u001b[0;32m<ipython-input-7-8889bfe91816>\u001b[0m in \u001b[0;36m<module>\u001b[0;34m()\u001b[0m\n\u001b[1;32m     43\u001b[0m                                    train_y_name = 'val_y.data')\n\u001b[1;32m     44\u001b[0m \u001b[0;31m# Pad for motif detectors\u001b[0m\u001b[0;34m\u001b[0m\u001b[0;34m\u001b[0m\u001b[0;34m\u001b[0m\u001b[0m\n\u001b[0;32m---> 45\u001b[0;31m \u001b[0mtrain_x\u001b[0m\u001b[0;34m,\u001b[0m \u001b[0mval_x\u001b[0m \u001b[0;34m=\u001b[0m \u001b[0mpad_for_detector\u001b[0m\u001b[0;34m(\u001b[0m\u001b[0mtrain_x\u001b[0m\u001b[0;34m,\u001b[0m \u001b[0;36m15\u001b[0m\u001b[0;34m)\u001b[0m\u001b[0;34m,\u001b[0m \u001b[0mpad_for_detector\u001b[0m\u001b[0;34m(\u001b[0m\u001b[0mval_x\u001b[0m\u001b[0;34m,\u001b[0m \u001b[0;36m15\u001b[0m\u001b[0;34m)\u001b[0m\u001b[0;34m\u001b[0m\u001b[0;34m\u001b[0m\u001b[0m\n\u001b[0m",
      "\u001b[0;31mNameError\u001b[0m: name 'pad_for_detector' is not defined"
     ]
    }
   ],
   "source": [
    "# !rm -r /home/ubuntu/data/temp/train\n",
    "# !mkdir /home/ubuntu/data/temp/train\n",
    "# !rm -r /home/ubuntu/data/temp/val\n",
    "# !mkdir /home/ubuntu/data/temp/val\n",
    "\n",
    "# ###############################################################################\n",
    "# # Sample training and validation data\n",
    "# # IMPORTANT: Make sure that training and validation don't have intersection!!!\n",
    "# ###############################################################################\n",
    "# all_data_lst = np.array(os.listdir(data_dir))\n",
    "# n = len(all_data_lst)\n",
    "# num_trained_regions = int(n * 0.8)\n",
    "# train_files = all_data_lst[:num_trained_regions]\n",
    "# num_val = n - num_trained_regions\n",
    "# val_indices = np.random.choice(np.arange(num_trained_regions, n), num_val, replace = False)\n",
    "# val_files = all_data_lst[val_indices]\n",
    "\n",
    "# train_dest = '/home/ubuntu/data/temp/train/'\n",
    "# for file in train_files:\n",
    "#     shutil.copy(os.path.join(data_dir, file),\n",
    "#                           train_dest)\n",
    "# print('copied training samples to {}'.format(train_dest))\n",
    "\n",
    "# val_dest = '/home/ubuntu/data/temp/val/'\n",
    "# for file in val_files:\n",
    "#     shutil.copy(os.path.join(data_dir, file),\n",
    "#                           val_dest)\n",
    "# print('copied validation samples to {}'.format(val_dest))\n",
    "\n",
    "# # Preprocess train and val data so that they are ready to be fed to models\n",
    "# train_output_path = os.path.join(output_folder_path, 'train.data')\n",
    "# val_output_path = os.path.join(output_folder_path, 'val.data')\n",
    "\n",
    "# train_regions = one_hot_encoding(train_dest, train_output_path)\n",
    "# val_regions = one_hot_encoding(val_dest, val_output_path)\n",
    "# train_x, train_y = get_training_data(train_regions, output_folder_path,\n",
    "#                                    max_len = 1000, \n",
    "#                                    train_x_name = 'train_x.data', \n",
    "#                                    train_y_name = 'train_y.data')\n",
    "# val_x, val_y = get_training_data(val_regions, output_folder_path,\n",
    "#                                    max_len = 1000, \n",
    "#                                    train_x_name = 'val_x.data', \n",
    "#                                    train_y_name = 'val_y.data')\n",
    "# # Pad for motif detectors\n",
    "# train_x, val_x = pad_for_detector(train_x, 15), pad_for_detector(val_x, 15)"
   ]
  },
  {
   "cell_type": "code",
   "execution_count": 21,
   "metadata": {},
   "outputs": [],
   "source": [
    "train_x = pickle.load(open(os.path.join(output_folder_path, 'train_x.data'), 'rb'))\n",
    "train_y = pickle.load(open(os.path.join(output_folder_path, 'train_y.data'), 'rb'))\n",
    "val_x = pickle.load(open(os.path.join(output_folder_path, 'val_x.data'), 'rb'))\n",
    "val_y = pickle.load(open(os.path.join(output_folder_path, 'val_y.data'), 'rb'))"
   ]
  },
  {
   "cell_type": "code",
   "execution_count": 22,
   "metadata": {},
   "outputs": [],
   "source": [
    "n = 15 # number of filters\n",
    "m = 10 # filter size\n",
    "train_x, val_x = pad_for_detector(train_x, m), pad_for_detector(val_x, m)"
   ]
  },
  {
   "cell_type": "code",
   "execution_count": 23,
   "metadata": {},
   "outputs": [],
   "source": [
    "def get_hybrid(opt, num_filters, kernel_size):\n",
    "    \"\"\"  Return a hybrid network given a optimizer\n",
    "    \"\"\"\n",
    "    model = Sequential()\n",
    "    model.add(Conv1D(filters = num_filters, \n",
    "                     kernel_size = kernel_size, \n",
    "                     padding = 'valid',\n",
    "                     data_format = 'channels_last',\n",
    "                     activation = 'relu'))\n",
    "    model.add(MaxPooling1D(pool_size = 5, strides = 5))\n",
    "    model.add(Dropout(0.6))\n",
    "    #model.add(Bidirectional(LSTM(20)))\n",
    "    model.add(Bidirectional(CuDNNLSTM(20)))\n",
    "    model.add(Dropout(0.7))\n",
    "    model.add(Dense(10, activation = 'relu'))\n",
    "    model.add(Dense(1, activation='sigmoid'))\n",
    "    model.compile(optimizer=opt, loss='binary_crossentropy', metrics=['acc'])\n",
    "    return model\n",
    "\n",
    "def train(model, train_x, train_y, val_data, config = {'epochs': 35, 'batch_size': 256}):\n",
    "    \"\"\"  Train model for a given config, training data, and validation data\n",
    "    \"\"\"\n",
    "    epochs, batch_size = config['epochs'], config['batch_size']\n",
    "    return model.fit(train_x, train_y, epochs=epochs, batch_size=batch_size, validation_data=val_data)"
   ]
  },
  {
   "cell_type": "code",
   "execution_count": null,
   "metadata": {},
   "outputs": [],
   "source": [
    "train_x.shape"
   ]
  },
  {
   "cell_type": "code",
   "execution_count": 27,
   "metadata": {},
   "outputs": [
    {
     "name": "stdout",
     "output_type": "stream",
     "text": [
      "Train on 68016 samples, validate on 17016 samples\n",
      "Epoch 1/50\n",
      "68016/68016 [==============================] - 13s 195us/step - loss: 0.6801 - acc: 0.5482 - val_loss: 0.6792 - val_acc: 0.5275\n",
      "Epoch 2/50\n",
      "68016/68016 [==============================] - 11s 168us/step - loss: 0.6747 - acc: 0.5516 - val_loss: 0.6776 - val_acc: 0.5275\n",
      "Epoch 3/50\n",
      "68016/68016 [==============================] - 11s 168us/step - loss: 0.6737 - acc: 0.5519 - val_loss: 0.6801 - val_acc: 0.5275\n",
      "Epoch 4/50\n",
      "68016/68016 [==============================] - 11s 168us/step - loss: 0.6719 - acc: 0.5518 - val_loss: 0.6791 - val_acc: 0.5277\n",
      "Epoch 5/50\n",
      "68016/68016 [==============================] - 12s 170us/step - loss: 0.6714 - acc: 0.5541 - val_loss: 0.6783 - val_acc: 0.5300\n",
      "Epoch 6/50\n",
      "68016/68016 [==============================] - 11s 169us/step - loss: 0.6697 - acc: 0.5560 - val_loss: 0.6774 - val_acc: 0.5437\n",
      "Epoch 7/50\n",
      "68016/68016 [==============================] - 11s 169us/step - loss: 0.6687 - acc: 0.5550 - val_loss: 0.6773 - val_acc: 0.5349\n",
      "Epoch 8/50\n",
      "68016/68016 [==============================] - 11s 168us/step - loss: 0.6682 - acc: 0.5593 - val_loss: 0.6768 - val_acc: 0.5320\n",
      "Epoch 9/50\n",
      "68016/68016 [==============================] - 11s 168us/step - loss: 0.6675 - acc: 0.5569 - val_loss: 0.6761 - val_acc: 0.5350\n",
      "Epoch 10/50\n",
      "68016/68016 [==============================] - 12s 170us/step - loss: 0.6662 - acc: 0.5586 - val_loss: 0.6762 - val_acc: 0.5444\n",
      "Epoch 11/50\n",
      "68016/68016 [==============================] - 12s 170us/step - loss: 0.6661 - acc: 0.5601 - val_loss: 0.6766 - val_acc: 0.5399\n",
      "Epoch 12/50\n",
      "68016/68016 [==============================] - 12s 171us/step - loss: 0.6655 - acc: 0.5589 - val_loss: 0.6760 - val_acc: 0.5381\n",
      "Epoch 13/50\n",
      "68016/68016 [==============================] - 12s 171us/step - loss: 0.6655 - acc: 0.5613 - val_loss: 0.6769 - val_acc: 0.5332\n",
      "Epoch 14/50\n",
      "68016/68016 [==============================] - 11s 168us/step - loss: 0.6652 - acc: 0.5627 - val_loss: 0.6756 - val_acc: 0.5414\n",
      "Epoch 15/50\n",
      "68016/68016 [==============================] - 12s 170us/step - loss: 0.6640 - acc: 0.5637 - val_loss: 0.6758 - val_acc: 0.5375\n",
      "Epoch 16/50\n",
      "68016/68016 [==============================] - 12s 171us/step - loss: 0.6639 - acc: 0.5625 - val_loss: 0.6757 - val_acc: 0.5401\n",
      "Epoch 17/50\n",
      "68016/68016 [==============================] - 12s 171us/step - loss: 0.6636 - acc: 0.5644 - val_loss: 0.6762 - val_acc: 0.5368\n",
      "Epoch 18/50\n",
      "68016/68016 [==============================] - 12s 169us/step - loss: 0.6634 - acc: 0.5650 - val_loss: 0.6752 - val_acc: 0.5465\n",
      "Epoch 19/50\n",
      "68016/68016 [==============================] - 12s 169us/step - loss: 0.6634 - acc: 0.5653 - val_loss: 0.6754 - val_acc: 0.5432\n",
      "Epoch 20/50\n",
      "68016/68016 [==============================] - 12s 170us/step - loss: 0.6629 - acc: 0.5615 - val_loss: 0.6751 - val_acc: 0.5423\n",
      "Epoch 21/50\n",
      "68016/68016 [==============================] - 12s 170us/step - loss: 0.6632 - acc: 0.5640 - val_loss: 0.6756 - val_acc: 0.5394\n",
      "Epoch 22/50\n",
      "68016/68016 [==============================] - 11s 168us/step - loss: 0.6619 - acc: 0.5642 - val_loss: 0.6752 - val_acc: 0.5461\n",
      "Epoch 23/50\n",
      "68016/68016 [==============================] - 11s 167us/step - loss: 0.6617 - acc: 0.5686 - val_loss: 0.6758 - val_acc: 0.5472\n",
      "Epoch 24/50\n",
      "68016/68016 [==============================] - 12s 171us/step - loss: 0.6621 - acc: 0.5655 - val_loss: 0.6756 - val_acc: 0.5465\n",
      "Epoch 25/50\n",
      "68016/68016 [==============================] - 12s 170us/step - loss: 0.6624 - acc: 0.5661 - val_loss: 0.6748 - val_acc: 0.5462\n",
      "Epoch 26/50\n",
      "68016/68016 [==============================] - 12s 170us/step - loss: 0.6617 - acc: 0.5631 - val_loss: 0.6750 - val_acc: 0.5464\n",
      "Epoch 27/50\n",
      "68016/68016 [==============================] - 12s 171us/step - loss: 0.6609 - acc: 0.5662 - val_loss: 0.6747 - val_acc: 0.5481\n",
      "Epoch 28/50\n",
      "68016/68016 [==============================] - 12s 170us/step - loss: 0.6609 - acc: 0.5684 - val_loss: 0.6753 - val_acc: 0.5475\n",
      "Epoch 29/50\n",
      "68016/68016 [==============================] - 12s 169us/step - loss: 0.6616 - acc: 0.5660 - val_loss: 0.6758 - val_acc: 0.5477\n",
      "Epoch 30/50\n",
      "68016/68016 [==============================] - 12s 170us/step - loss: 0.6611 - acc: 0.5681 - val_loss: 0.6745 - val_acc: 0.5504\n",
      "Epoch 31/50\n",
      "68016/68016 [==============================] - 12s 170us/step - loss: 0.6609 - acc: 0.5675 - val_loss: 0.6744 - val_acc: 0.5490\n",
      "Epoch 32/50\n",
      "68016/68016 [==============================] - 12s 169us/step - loss: 0.6613 - acc: 0.5663 - val_loss: 0.6752 - val_acc: 0.5463\n",
      "Epoch 33/50\n",
      "68016/68016 [==============================] - 12s 169us/step - loss: 0.6605 - acc: 0.5678 - val_loss: 0.6750 - val_acc: 0.5505\n",
      "Epoch 34/50\n",
      "68016/68016 [==============================] - 11s 169us/step - loss: 0.6603 - acc: 0.5701 - val_loss: 0.6747 - val_acc: 0.5507\n",
      "Epoch 35/50\n",
      "68016/68016 [==============================] - 11s 168us/step - loss: 0.6613 - acc: 0.5672 - val_loss: 0.6757 - val_acc: 0.5461\n",
      "Epoch 36/50\n",
      "68016/68016 [==============================] - 11s 167us/step - loss: 0.6601 - acc: 0.5687 - val_loss: 0.6744 - val_acc: 0.5528\n",
      "Epoch 37/50\n",
      "68016/68016 [==============================] - 11s 169us/step - loss: 0.6596 - acc: 0.5717 - val_loss: 0.6751 - val_acc: 0.5502\n",
      "Epoch 38/50\n",
      "68016/68016 [==============================] - 11s 168us/step - loss: 0.6609 - acc: 0.5699 - val_loss: 0.6740 - val_acc: 0.5531\n",
      "Epoch 39/50\n",
      "68016/68016 [==============================] - 11s 168us/step - loss: 0.6605 - acc: 0.5670 - val_loss: 0.6747 - val_acc: 0.5497\n",
      "Epoch 40/50\n",
      "68016/68016 [==============================] - 11s 169us/step - loss: 0.6600 - acc: 0.5679 - val_loss: 0.6748 - val_acc: 0.5533\n",
      "Epoch 41/50\n",
      "68016/68016 [==============================] - 11s 169us/step - loss: 0.6600 - acc: 0.5707 - val_loss: 0.6743 - val_acc: 0.5540\n",
      "Epoch 42/50\n",
      "68016/68016 [==============================] - 12s 169us/step - loss: 0.6596 - acc: 0.5703 - val_loss: 0.6751 - val_acc: 0.5519\n",
      "Epoch 43/50\n",
      "68016/68016 [==============================] - 11s 169us/step - loss: 0.6592 - acc: 0.5687 - val_loss: 0.6757 - val_acc: 0.5491\n",
      "Epoch 44/50\n",
      "68016/68016 [==============================] - 12s 170us/step - loss: 0.6598 - acc: 0.5714 - val_loss: 0.6745 - val_acc: 0.5535\n",
      "Epoch 45/50\n",
      "68016/68016 [==============================] - 11s 168us/step - loss: 0.6596 - acc: 0.5694 - val_loss: 0.6744 - val_acc: 0.5545\n",
      "Epoch 46/50\n",
      "68016/68016 [==============================] - 12s 170us/step - loss: 0.6594 - acc: 0.5706 - val_loss: 0.6744 - val_acc: 0.5545\n",
      "Epoch 47/50\n",
      "68016/68016 [==============================] - 12s 170us/step - loss: 0.6595 - acc: 0.5685 - val_loss: 0.6753 - val_acc: 0.5530\n",
      "Epoch 48/50\n",
      "68016/68016 [==============================] - 12s 169us/step - loss: 0.6601 - acc: 0.5692 - val_loss: 0.6750 - val_acc: 0.5483\n",
      "Epoch 49/50\n",
      "68016/68016 [==============================] - 12s 170us/step - loss: 0.6591 - acc: 0.5724 - val_loss: 0.6746 - val_acc: 0.5541\n",
      "Epoch 50/50\n",
      "68016/68016 [==============================] - 12s 169us/step - loss: 0.6591 - acc: 0.5702 - val_loss: 0.6745 - val_acc: 0.5518\n"
     ]
    }
   ],
   "source": [
    "# Start training\n",
    "# Set up some configurations\n",
    "optimizers = {'adam': Adam(lr=1e-4, beta_1=0.9, beta_2=0.999, epsilon=None, decay=1e-2, amsgrad=False),\n",
    "              'rmsprop': RMSprop(lr=1e-2, rho=0.9, epsilon=None, decay=1e-2)}\n",
    "config = {'epochs': 50, 'batch_size': 400}\n",
    "opt = optimizers['rmsprop']\n",
    "\n",
    "model = get_hybrid(opt, num_filters = n, kernel_size = m)\n",
    "history = train(model, train_x, train_y, (val_x, val_y), config)"
   ]
  },
  {
   "cell_type": "code",
   "execution_count": 28,
   "metadata": {},
   "outputs": [
    {
     "name": "stdout",
     "output_type": "stream",
     "text": [
      "_________________________________________________________________\n",
      "Layer (type)                 Output Shape              Param #   \n",
      "=================================================================\n",
      "conv1d_13 (Conv1D)           (None, 1009, 15)          615       \n",
      "_________________________________________________________________\n",
      "max_pooling1d_13 (MaxPooling (None, 201, 15)           0         \n",
      "_________________________________________________________________\n",
      "dropout_25 (Dropout)         (None, 201, 15)           0         \n",
      "_________________________________________________________________\n",
      "bidirectional_13 (Bidirectio (None, 40)                5920      \n",
      "_________________________________________________________________\n",
      "dropout_26 (Dropout)         (None, 40)                0         \n",
      "_________________________________________________________________\n",
      "dense_25 (Dense)             (None, 10)                410       \n",
      "_________________________________________________________________\n",
      "dense_26 (Dense)             (None, 1)                 11        \n",
      "=================================================================\n",
      "Total params: 6,956\n",
      "Trainable params: 6,956\n",
      "Non-trainable params: 0\n",
      "_________________________________________________________________\n"
     ]
    }
   ],
   "source": [
    "model.summary()"
   ]
  },
  {
   "cell_type": "code",
   "execution_count": 29,
   "metadata": {},
   "outputs": [
    {
     "data": {
      "image/png": "[encoded data removed]",
      "text/plain": [
       "<Figure size 432x288 with 1 Axes>"
      ]
     },
     "metadata": {},
     "output_type": "display_data"
    },
    {
     "data": {
      "image/png": "[encoded data removed]",
      "text/plain": [
       "<Figure size 432x288 with 1 Axes>"
      ]
     },
     "metadata": {},
     "output_type": "display_data"
    }
   ],
   "source": [
    "acc = history.history['acc']\n",
    "val_acc = history.history['val_acc']\n",
    "loss = history.history['loss']\n",
    "val_loss = history.history['val_loss']\n",
    "\n",
    "dianostic_plots(acc, loss, val_acc, val_loss)"
   ]
  },
  {
   "cell_type": "code",
   "execution_count": null,
   "metadata": {},
   "outputs": [],
   "source": [
    "# Save the model for later analysis\n",
    "save_model_path = '/home/ubuntu/data/team_neural_network/code/models'\n",
    "model_name = 'big_hybrid_net.h5'\n",
    "model.save(os.path.join(save_model_path, model_name))"
   ]
  },
  {
   "cell_type": "code",
   "execution_count": null,
   "metadata": {},
   "outputs": [],
   "source": [
    "model = load_model('../../models/big_hybrid_net.h5')\n",
    "\n",
    "filters = model.layers[0].get_weights()[0]\n",
    "bias = model.layers[0].get_weights()[1]"
   ]
  },
  {
   "cell_type": "code",
   "execution_count": null,
   "metadata": {},
   "outputs": [],
   "source": [
    "layer_name = model.layers[0].get_config()['name']\n",
    "intermediate_layer_model = Model(inputs=model.input,\n",
    "                                 outputs=model.get_layer(layer_name).output)\n",
    "intermediate_output = intermediate_layer_model.predict(val_x)"
   ]
  },
  {
   "cell_type": "code",
   "execution_count": null,
   "metadata": {},
   "outputs": [],
   "source": [
    "activated_subseq = get_activated_subseq(intermediate_output, val_x, m)"
   ]
  },
  {
   "cell_type": "code",
   "execution_count": null,
   "metadata": {},
   "outputs": [],
   "source": [
    "for i in list(activated_subseq):\n",
    "    char_list = get_char_list(activated_subseq[i])\n",
    "    uniques, freqs = get_freqs(char_list)\n",
    "    candidates = get_candidates(uniques, freqs, 0.45)\n",
    "    print(\"*************{}**************\".format(i))\n",
    "    print(get_motif(candidates))\n",
    "    print(\"*****************************\\n\")"
   ]
  }
 ],
 "metadata": {
  "kernelspec": {
   "display_name": "Python 3",
   "language": "python",
   "name": "python3"
  },
  "language_info": {
   "codemirror_mode": {
    "name": "ipython",
    "version": 3
   },
   "file_extension": ".py",
   "mimetype": "text/x-python",
   "name": "python",
   "nbconvert_exporter": "python",
   "pygments_lexer": "ipython3",
   "version": "3.6.4"
  }
 },
 "nbformat": 4,
 "nbformat_minor": 2
}
