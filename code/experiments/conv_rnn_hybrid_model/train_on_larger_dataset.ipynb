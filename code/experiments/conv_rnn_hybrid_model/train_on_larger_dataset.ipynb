{
 "cells": [
  {
   "cell_type": "code",
   "execution_count": 1,
   "metadata": {},
   "outputs": [],
   "source": [
    "%load_ext autoreload\n",
    "%autoreload 2"
   ]
  },
  {
   "cell_type": "code",
   "execution_count": 2,
   "metadata": {},
   "outputs": [
    {
     "name": "stderr",
     "output_type": "stream",
     "text": [
      "/home/ubuntu/anaconda3/envs/tensorflow_p36/lib/python3.6/site-packages/h5py/__init__.py:36: FutureWarning: Conversion of the second argument of issubdtype from `float` to `np.floating` is deprecated. In future, it will be treated as `np.float64 == np.dtype(float).type`.\n",
      "  from ._conv import register_converters as _register_converters\n",
      "/home/ubuntu/anaconda3/envs/tensorflow_p36/lib/python3.6/site-packages/matplotlib/__init__.py:1067: UserWarning: Duplicate key in file \"/home/ubuntu/.config/matplotlib/matplotlibrc\", line #2\n",
      "  (fname, cnt))\n",
      "/home/ubuntu/anaconda3/envs/tensorflow_p36/lib/python3.6/site-packages/matplotlib/__init__.py:1067: UserWarning: Duplicate key in file \"/home/ubuntu/.config/matplotlib/matplotlibrc\", line #3\n",
      "  (fname, cnt))\n",
      "Using TensorFlow backend.\n"
     ]
    }
   ],
   "source": [
    "import os, shutil, pickle, shelve\n",
    "from Bio import SeqIO\n",
    "import numpy as np\n",
    "import tensorflow as tf\n",
    "import matplotlib.pyplot as plt\n",
    "from keras.models import load_model, Model\n",
    "from keras.utils import plot_model\n",
    "from keras.models import Model, Sequential\n",
    "from keras.models import Sequential\n",
    "from keras.layers import Dense, Dropout, MaxPooling1D, Flatten, Conv1D, LSTM, CuDNNLSTM, Bidirectional, TimeDistributed\n",
    "from keras.optimizers import RMSprop, Adam\n",
    "from keras.initializers import glorot_normal\n",
    "from utilities import sampling, one_hot_encoding, curtail, get_training_data, load_data, data_split, dianostic_plots, pad_for_detector\n",
    "from utilities import get_char_list, get_freqs, get_candidates, get_motif\n",
    "import keras\n",
    "import utilities"
   ]
  },
  {
   "cell_type": "code",
   "execution_count": 3,
   "metadata": {},
   "outputs": [
    {
     "data": {
      "text/plain": [
       "3543"
      ]
     },
     "execution_count": 3,
     "metadata": {},
     "output_type": "execute_result"
    }
   ],
   "source": [
    "# Subset sampling: save to me_samples; \"me\" for \"mutually exclusive\"\n",
    "output_folder_path = \"../../../../temp/buffers/me_samples\"\n",
    "\n",
    "data_dir = \"/home/ubuntu/group_volume/team_neural_network/data/input/3.24_species_only\"\n",
    "\n",
    "len(os.listdir(data_dir)) # total number of regions"
   ]
  },
  {
   "cell_type": "markdown",
   "metadata": {},
   "source": [
    "Uncomment the following code chunk to resample training and validation data"
   ]
  },
  {
   "cell_type": "code",
   "execution_count": 7,
   "metadata": {},
   "outputs": [
    {
     "name": "stdout",
     "output_type": "stream",
     "text": [
      "copied training samples to /home/ubuntu/data/temp/train/\n",
      "copied validation samples to /home/ubuntu/data/temp/val/\n",
      "save to ../../../../temp/buffers/me_samples/train.data\n",
      "save to ../../../../temp/buffers/me_samples/val.data\n",
      "(68016, 1000, 4) (68016,)\n",
      "save to ../../../../temp/buffers/me_samples/train_x.data\n",
      "save to ../../../../temp/buffers/me_samples/train_y.data\n",
      "(17016, 1000, 4) (17016,)\n",
      "save to ../../../../temp/buffers/me_samples/val_x.data\n",
      "save to ../../../../temp/buffers/me_samples/val_y.data\n"
     ]
    },
    {
     "ename": "NameError",
     "evalue": "name 'pad_for_detector' is not defined",
     "output_type": "error",
     "traceback": [
      "\u001b[0;31m---------------------------------------------------------------------------\u001b[0m",
      "\u001b[0;31mNameError\u001b[0m                                 Traceback (most recent call last)",
      "\u001b[0;32m<ipython-input-7-8889bfe91816>\u001b[0m in \u001b[0;36m<module>\u001b[0;34m()\u001b[0m\n\u001b[1;32m     43\u001b[0m                                    train_y_name = 'val_y.data')\n\u001b[1;32m     44\u001b[0m \u001b[0;31m# Pad for motif detectors\u001b[0m\u001b[0;34m\u001b[0m\u001b[0;34m\u001b[0m\u001b[0;34m\u001b[0m\u001b[0m\n\u001b[0;32m---> 45\u001b[0;31m \u001b[0mtrain_x\u001b[0m\u001b[0;34m,\u001b[0m \u001b[0mval_x\u001b[0m \u001b[0;34m=\u001b[0m \u001b[0mpad_for_detector\u001b[0m\u001b[0;34m(\u001b[0m\u001b[0mtrain_x\u001b[0m\u001b[0;34m,\u001b[0m \u001b[0;36m15\u001b[0m\u001b[0;34m)\u001b[0m\u001b[0;34m,\u001b[0m \u001b[0mpad_for_detector\u001b[0m\u001b[0;34m(\u001b[0m\u001b[0mval_x\u001b[0m\u001b[0;34m,\u001b[0m \u001b[0;36m15\u001b[0m\u001b[0;34m)\u001b[0m\u001b[0;34m\u001b[0m\u001b[0;34m\u001b[0m\u001b[0m\n\u001b[0m",
      "\u001b[0;31mNameError\u001b[0m: name 'pad_for_detector' is not defined"
     ]
    }
   ],
   "source": [
    "# !rm -r /home/ubuntu/data/temp/train\n",
    "# !mkdir /home/ubuntu/data/temp/train\n",
    "# !rm -r /home/ubuntu/data/temp/val\n",
    "# !mkdir /home/ubuntu/data/temp/val\n",
    "\n",
    "# ###############################################################################\n",
    "# # Sample training and validation data\n",
    "# # IMPORTANT: Make sure that training and validation don't have intersection!!!\n",
    "# ###############################################################################\n",
    "# all_data_lst = np.array(os.listdir(data_dir))\n",
    "# n = len(all_data_lst)\n",
    "# num_trained_regions = int(n * 0.8)\n",
    "# train_files = all_data_lst[:num_trained_regions]\n",
    "# num_val = n - num_trained_regions\n",
    "# val_indices = np.random.choice(np.arange(num_trained_regions, n), num_val, replace = False)\n",
    "# val_files = all_data_lst[val_indices]\n",
    "\n",
    "# train_dest = '/home/ubuntu/data/temp/train/'\n",
    "# for file in train_files:\n",
    "#     shutil.copy(os.path.join(data_dir, file),\n",
    "#                           train_dest)\n",
    "# print('copied training samples to {}'.format(train_dest))\n",
    "\n",
    "# val_dest = '/home/ubuntu/data/temp/val/'\n",
    "# for file in val_files:\n",
    "#     shutil.copy(os.path.join(data_dir, file),\n",
    "#                           val_dest)\n",
    "# print('copied validation samples to {}'.format(val_dest))\n",
    "\n",
    "# # Preprocess train and val data so that they are ready to be fed to models\n",
    "# train_output_path = os.path.join(output_folder_path, 'train.data')\n",
    "# val_output_path = os.path.join(output_folder_path, 'val.data')\n",
    "\n",
    "# train_regions = one_hot_encoding(train_dest, train_output_path)\n",
    "# val_regions = one_hot_encoding(val_dest, val_output_path)\n",
    "# train_x, train_y = get_training_data(train_regions, output_folder_path,\n",
    "#                                    max_len = 1000, \n",
    "#                                    train_x_name = 'train_x.data', \n",
    "#                                    train_y_name = 'train_y.data')\n",
    "# val_x, val_y = get_training_data(val_regions, output_folder_path,\n",
    "#                                    max_len = 1000, \n",
    "#                                    train_x_name = 'val_x.data', \n",
    "#                                    train_y_name = 'val_y.data')\n",
    "# # Pad for motif detectors\n",
    "# train_x, val_x = pad_for_detector(train_x, 15), pad_for_detector(val_x, 15)"
   ]
  },
  {
   "cell_type": "code",
   "execution_count": null,
   "metadata": {},
   "outputs": [],
   "source": [
    "# data_x = pickle.load(open('../../../../temp/buffers/ss_samples/train_x.data', 'rb'))\n",
    "# data_y = pickle.load(open('../../../../temp/buffers/ss_samples/train_y.data', 'rb'))\n",
    "# train_x, train_y, val_x, val_y = data_split(data_x, data_y, seed = 157)\n",
    "# train_x, val_x = pad_for_detector(train_x, 10), pad_for_detector(val_x, 10)"
   ]
  },
  {
   "cell_type": "code",
   "execution_count": 4,
   "metadata": {},
   "outputs": [],
   "source": [
    "train_x = pickle.load(open(os.path.join(output_folder_path, 'train_x.data'), 'rb'))\n",
    "train_y = pickle.load(open(os.path.join(output_folder_path, 'train_y.data'), 'rb'))\n",
    "val_x = pickle.load(open(os.path.join(output_folder_path, 'val_x.data'), 'rb'))\n",
    "val_y = pickle.load(open(os.path.join(output_folder_path, 'val_y.data'), 'rb'))"
   ]
  },
  {
   "cell_type": "code",
   "execution_count": 5,
   "metadata": {},
   "outputs": [],
   "source": [
    "n = 30 # number of filters\n",
    "m = 10 # filter size\n",
    "train_x, val_x = pad_for_detector(train_x, m), pad_for_detector(val_x, m)"
   ]
  },
  {
   "cell_type": "code",
   "execution_count": 21,
   "metadata": {},
   "outputs": [],
   "source": [
    "def get_hybrid(opt, num_filters, kernel_size):\n",
    "    \"\"\"  Return a hybrid network given a optimizer\n",
    "    \"\"\"\n",
    "    model = Sequential()\n",
    "    model.add(Conv1D(filters = num_filters, \n",
    "                     kernel_size = kernel_size, \n",
    "                     padding = 'valid',\n",
    "                     activation = 'relu'))\n",
    "    model.add(MaxPooling1D(pool_size = 5, strides = 5))\n",
    "    model.add(Dropout(0.1))\n",
    "    #model.add(Bidirectional(LSTM(20)))\n",
    "    model.add(Bidirectional(CuDNNLSTM(15, return_sequences=True)))\n",
    "    model.add(Bidirectional(CuDNNLSTM(10)))\n",
    "    model.add(Dropout(0.2))\n",
    "    model.add(Dense(50))\n",
    "    model.add(keras.layers.LeakyReLU(alpha=0.3))\n",
    "    model.add(Dense(20))\n",
    "    model.add(keras.layers.LeakyReLU(alpha=0.3))\n",
    "    model.add(Dense(1, activation='sigmoid'))\n",
    "    model.compile(optimizer=opt, loss='binary_crossentropy', metrics=['acc'])\n",
    "    return model\n",
    "\n",
    "\n",
    "def train(model, train_x, train_y, val_data, config = {'epochs': 35, 'batch_size': 256}):\n",
    "    \"\"\"  Train model for a given config, training data, and validation data\n",
    "    \"\"\"\n",
    "    epochs, batch_size = config['epochs'], config['batch_size']\n",
    "    return model.fit(train_x, train_y, epochs=epochs, batch_size=batch_size, validation_data=val_data)"
   ]
  },
  {
   "cell_type": "code",
   "execution_count": 28,
   "metadata": {},
   "outputs": [
    {
     "name": "stdout",
     "output_type": "stream",
     "text": [
      "Train on 68016 samples, validate on 17016 samples\n",
      "Epoch 1/100\n",
      "68016/68016 [==============================] - 25s 368us/step - loss: 0.6872 - acc: 0.5505 - val_loss: 0.6835 - val_acc: 0.5275\n",
      "Epoch 2/100\n",
      "68016/68016 [==============================] - 23s 335us/step - loss: 0.6791 - acc: 0.5504 - val_loss: 0.6774 - val_acc: 0.5278\n",
      "Epoch 3/100\n",
      "68016/68016 [==============================] - 23s 335us/step - loss: 0.6771 - acc: 0.5514 - val_loss: 0.6773 - val_acc: 0.5275\n",
      "Epoch 4/100\n",
      "68016/68016 [==============================] - 23s 335us/step - loss: 0.6767 - acc: 0.5526 - val_loss: 0.6768 - val_acc: 0.5279\n",
      "Epoch 5/100\n",
      "68016/68016 [==============================] - 23s 334us/step - loss: 0.6758 - acc: 0.5518 - val_loss: 0.6765 - val_acc: 0.5323\n",
      "Epoch 6/100\n",
      "68016/68016 [==============================] - 23s 333us/step - loss: 0.6760 - acc: 0.5520 - val_loss: 0.6760 - val_acc: 0.5352\n",
      "Epoch 7/100\n",
      "68016/68016 [==============================] - 22s 327us/step - loss: 0.6757 - acc: 0.5511 - val_loss: 0.6756 - val_acc: 0.5334\n",
      "Epoch 8/100\n",
      "68016/68016 [==============================] - 22s 326us/step - loss: 0.6750 - acc: 0.5525 - val_loss: 0.6753 - val_acc: 0.5368\n",
      "Epoch 9/100\n",
      "68016/68016 [==============================] - 22s 316us/step - loss: 0.6758 - acc: 0.5525 - val_loss: 0.6754 - val_acc: 0.5348\n",
      "Epoch 10/100\n",
      "68016/68016 [==============================] - 20s 298us/step - loss: 0.6745 - acc: 0.5550 - val_loss: 0.6751 - val_acc: 0.5391\n",
      "Epoch 11/100\n",
      "68016/68016 [==============================] - 20s 290us/step - loss: 0.6747 - acc: 0.5555 - val_loss: 0.6752 - val_acc: 0.5374\n",
      "Epoch 12/100\n",
      "68016/68016 [==============================] - 19s 286us/step - loss: 0.6745 - acc: 0.5536 - val_loss: 0.6751 - val_acc: 0.5427\n",
      "Epoch 13/100\n",
      "68016/68016 [==============================] - 19s 284us/step - loss: 0.6748 - acc: 0.5545 - val_loss: 0.6750 - val_acc: 0.5415\n",
      "Epoch 14/100\n",
      "68016/68016 [==============================] - 19s 282us/step - loss: 0.6741 - acc: 0.5539 - val_loss: 0.6749 - val_acc: 0.5424\n",
      "Epoch 15/100\n",
      "68016/68016 [==============================] - 19s 282us/step - loss: 0.6745 - acc: 0.5553 - val_loss: 0.6748 - val_acc: 0.5435\n",
      "Epoch 16/100\n",
      "68016/68016 [==============================] - 19s 283us/step - loss: 0.6737 - acc: 0.5556 - val_loss: 0.6747 - val_acc: 0.5480\n",
      "Epoch 17/100\n",
      "68016/68016 [==============================] - 19s 281us/step - loss: 0.6745 - acc: 0.5544 - val_loss: 0.6749 - val_acc: 0.5451\n",
      "Epoch 18/100\n",
      "68016/68016 [==============================] - 19s 281us/step - loss: 0.6744 - acc: 0.5549 - val_loss: 0.6749 - val_acc: 0.5485\n",
      "Epoch 19/100\n",
      "68016/68016 [==============================] - 19s 283us/step - loss: 0.6739 - acc: 0.5554 - val_loss: 0.6747 - val_acc: 0.5495\n",
      "Epoch 20/100\n",
      "68016/68016 [==============================] - 19s 281us/step - loss: 0.6738 - acc: 0.5560 - val_loss: 0.6746 - val_acc: 0.5497\n",
      "Epoch 21/100\n",
      "68016/68016 [==============================] - 19s 282us/step - loss: 0.6731 - acc: 0.5577 - val_loss: 0.6746 - val_acc: 0.5517\n",
      "Epoch 22/100\n",
      "68016/68016 [==============================] - 19s 282us/step - loss: 0.6738 - acc: 0.5557 - val_loss: 0.6745 - val_acc: 0.5502\n",
      "Epoch 23/100\n",
      "68016/68016 [==============================] - 19s 283us/step - loss: 0.6736 - acc: 0.5544 - val_loss: 0.6745 - val_acc: 0.5478\n",
      "Epoch 24/100\n",
      "68016/68016 [==============================] - 19s 284us/step - loss: 0.6733 - acc: 0.5570 - val_loss: 0.6744 - val_acc: 0.5485\n",
      "Epoch 25/100\n",
      "68016/68016 [==============================] - 19s 283us/step - loss: 0.6733 - acc: 0.5563 - val_loss: 0.6745 - val_acc: 0.5490\n",
      "Epoch 26/100\n",
      "68016/68016 [==============================] - 19s 282us/step - loss: 0.6736 - acc: 0.5568 - val_loss: 0.6745 - val_acc: 0.5499\n",
      "Epoch 27/100\n",
      "68016/68016 [==============================] - 19s 282us/step - loss: 0.6728 - acc: 0.5582 - val_loss: 0.6744 - val_acc: 0.5495\n",
      "Epoch 28/100\n",
      "68016/68016 [==============================] - 19s 282us/step - loss: 0.6734 - acc: 0.5562 - val_loss: 0.6745 - val_acc: 0.5492\n",
      "Epoch 29/100\n",
      "68016/68016 [==============================] - 19s 284us/step - loss: 0.6733 - acc: 0.5561 - val_loss: 0.6746 - val_acc: 0.5512\n",
      "Epoch 30/100\n",
      "68016/68016 [==============================] - 19s 283us/step - loss: 0.6731 - acc: 0.5579 - val_loss: 0.6747 - val_acc: 0.5552\n",
      "Epoch 31/100\n",
      "68016/68016 [==============================] - 19s 283us/step - loss: 0.6728 - acc: 0.5599 - val_loss: 0.6743 - val_acc: 0.5537\n",
      "Epoch 38/100\n",
      "68016/68016 [==============================] - 19s 282us/step - loss: 0.6728 - acc: 0.5587 - val_loss: 0.6744 - val_acc: 0.5545\n",
      "Epoch 39/100\n",
      "68016/68016 [==============================] - 19s 282us/step - loss: 0.6726 - acc: 0.5569 - val_loss: 0.6743 - val_acc: 0.5548\n",
      "Epoch 40/100\n",
      "68016/68016 [==============================] - 19s 282us/step - loss: 0.6735 - acc: 0.5556 - val_loss: 0.6744 - val_acc: 0.5538\n",
      "Epoch 41/100\n",
      "68016/68016 [==============================] - 19s 284us/step - loss: 0.6730 - acc: 0.5604 - val_loss: 0.6744 - val_acc: 0.5547\n",
      "Epoch 42/100\n",
      "68016/68016 [==============================] - 19s 283us/step - loss: 0.6723 - acc: 0.5591 - val_loss: 0.6743 - val_acc: 0.5532\n",
      "Epoch 43/100\n",
      "68016/68016 [==============================] - 19s 283us/step - loss: 0.6727 - acc: 0.5590 - val_loss: 0.6744 - val_acc: 0.5545\n",
      "Epoch 44/100\n",
      "68016/68016 [==============================] - 19s 284us/step - loss: 0.6726 - acc: 0.5598 - val_loss: 0.6745 - val_acc: 0.5555\n",
      "Epoch 45/100\n",
      "68016/68016 [==============================] - 19s 283us/step - loss: 0.6725 - acc: 0.5580 - val_loss: 0.6743 - val_acc: 0.5541\n",
      "Epoch 46/100\n",
      "68016/68016 [==============================] - 19s 283us/step - loss: 0.6728 - acc: 0.5599 - val_loss: 0.6744 - val_acc: 0.5527\n",
      "Epoch 47/100\n",
      "68016/68016 [==============================] - 19s 284us/step - loss: 0.6724 - acc: 0.5592 - val_loss: 0.6744 - val_acc: 0.5549\n",
      "Epoch 48/100\n",
      "68016/68016 [==============================] - 19s 284us/step - loss: 0.6721 - acc: 0.5581 - val_loss: 0.6743 - val_acc: 0.5522\n",
      "Epoch 49/100\n",
      "68016/68016 [==============================] - 19s 282us/step - loss: 0.6724 - acc: 0.5606 - val_loss: 0.6744 - val_acc: 0.5526\n",
      "Epoch 50/100\n",
      "68016/68016 [==============================] - 19s 282us/step - loss: 0.6725 - acc: 0.5601 - val_loss: 0.6744 - val_acc: 0.5532\n",
      "Epoch 51/100\n",
      "68016/68016 [==============================] - 19s 283us/step - loss: 0.6729 - acc: 0.5582 - val_loss: 0.6744 - val_acc: 0.5528\n",
      "Epoch 52/100\n",
      "68016/68016 [==============================] - 19s 283us/step - loss: 0.6721 - acc: 0.5589 - val_loss: 0.6744 - val_acc: 0.5531\n",
      "Epoch 53/100\n",
      "68016/68016 [==============================] - 19s 283us/step - loss: 0.6724 - acc: 0.5596 - val_loss: 0.6744 - val_acc: 0.5530\n",
      "Epoch 54/100\n",
      "68016/68016 [==============================] - 19s 282us/step - loss: 0.6720 - acc: 0.5605 - val_loss: 0.6744 - val_acc: 0.5527\n",
      "Epoch 55/100\n",
      "68016/68016 [==============================] - 19s 283us/step - loss: 0.6720 - acc: 0.5601 - val_loss: 0.6743 - val_acc: 0.5532\n",
      "Epoch 56/100\n",
      "68016/68016 [==============================] - 19s 282us/step - loss: 0.6725 - acc: 0.5599 - val_loss: 0.6743 - val_acc: 0.5537\n",
      "Epoch 57/100\n",
      "68016/68016 [==============================] - 19s 283us/step - loss: 0.6718 - acc: 0.5611 - val_loss: 0.6743 - val_acc: 0.5548\n",
      "Epoch 58/100\n",
      "68016/68016 [==============================] - 19s 283us/step - loss: 0.6722 - acc: 0.5600 - val_loss: 0.6742 - val_acc: 0.5538\n",
      "Epoch 59/100\n",
      "68016/68016 [==============================] - 19s 283us/step - loss: 0.6719 - acc: 0.5621 - val_loss: 0.6742 - val_acc: 0.5537\n",
      "Epoch 60/100\n",
      "68016/68016 [==============================] - 19s 283us/step - loss: 0.6718 - acc: 0.5627 - val_loss: 0.6742 - val_acc: 0.5543\n",
      "Epoch 61/100\n",
      "58448/68016 [========================>.....] - ETA: 2s - loss: 0.6715 - acc: 0.5629"
     ]
    },
    {
     "name": "stderr",
     "output_type": "stream",
     "text": [
      "IOPub message rate exceeded.\n",
      "The notebook server will temporarily stop sending output\n",
      "to the client in order to avoid crashing it.\n",
      "To change this limit, set the config variable\n",
      "`--NotebookApp.iopub_msg_rate_limit`.\n",
      "\n",
      "Current values:\n",
      "NotebookApp.iopub_msg_rate_limit=1000.0 (msgs/sec)\n",
      "NotebookApp.rate_limit_window=3.0 (secs)\n",
      "\n"
     ]
    },
    {
     "name": "stdout",
     "output_type": "stream",
     "text": [
      "68016/68016 [==============================] - 19s 282us/step - loss: 0.6717 - acc: 0.5628 - val_loss: 0.6742 - val_acc: 0.5531\n",
      "Epoch 99/100\n",
      "68016/68016 [==============================] - 19s 283us/step - loss: 0.6711 - acc: 0.5609 - val_loss: 0.6742 - val_acc: 0.5532\n",
      "Epoch 100/100\n",
      "68016/68016 [==============================] - 19s 282us/step - loss: 0.6712 - acc: 0.5638 - val_loss: 0.6742 - val_acc: 0.5534\n"
     ]
    }
   ],
   "source": [
    "# Start training\n",
    "# Set up some configurations\n",
    "optimizers = {'adam': Adam(lr=1e-3, beta_1=0.9, beta_2=0.999, epsilon=None, decay=1e-2, amsgrad=False),\n",
    "              'rmsprop': RMSprop(lr=1e-2, rho=0.9, epsilon=None, decay=1e-2)}\n",
    "config = {'epochs': 100, 'batch_size': 562}\n",
    "opt = optimizers['adam']\n",
    "\n",
    "model = get_hybrid(opt, num_filters = n, kernel_size = m)\n",
    "history = train(model, train_x, train_y, (val_x, val_y), config)"
   ]
  },
  {
   "cell_type": "code",
   "execution_count": 29,
   "metadata": {},
   "outputs": [
    {
     "name": "stdout",
     "output_type": "stream",
     "text": [
      "_________________________________________________________________\n",
      "Layer (type)                 Output Shape              Param #   \n",
      "=================================================================\n",
      "conv1d_11 (Conv1D)           (None, 1009, 30)          1230      \n",
      "_________________________________________________________________\n",
      "max_pooling1d_11 (MaxPooling (None, 201, 30)           0         \n",
      "_________________________________________________________________\n",
      "dropout_21 (Dropout)         (None, 201, 30)           0         \n",
      "_________________________________________________________________\n",
      "bidirectional_17 (Bidirectio (None, 201, 30)           5640      \n",
      "_________________________________________________________________\n",
      "bidirectional_18 (Bidirectio (None, 20)                3360      \n",
      "_________________________________________________________________\n",
      "dropout_22 (Dropout)         (None, 20)                0         \n",
      "_________________________________________________________________\n",
      "dense_31 (Dense)             (None, 50)                1050      \n",
      "_________________________________________________________________\n",
      "leaky_re_lu_21 (LeakyReLU)   (None, 50)                0         \n",
      "_________________________________________________________________\n",
      "dense_32 (Dense)             (None, 20)                1020      \n",
      "_________________________________________________________________\n",
      "leaky_re_lu_22 (LeakyReLU)   (None, 20)                0         \n",
      "_________________________________________________________________\n",
      "dense_33 (Dense)             (None, 1)                 21        \n",
      "=================================================================\n",
      "Total params: 12,321\n",
      "Trainable params: 12,321\n",
      "Non-trainable params: 0\n",
      "_________________________________________________________________\n"
     ]
    }
   ],
   "source": [
    "model.summary()"
   ]
  },
  {
   "cell_type": "code",
   "execution_count": 30,
   "metadata": {},
   "outputs": [
    {
     "data": {
      "image/png": "[encoded data removed]",
      "text/plain": [
       "<Figure size 432x288 with 1 Axes>"
      ]
     },
     "metadata": {},
     "output_type": "display_data"
    },
    {
     "data": {
      "image/png": "[encoded data removed]",
      "text/plain": [
       "<Figure size 432x288 with 1 Axes>"
      ]
     },
     "metadata": {},
     "output_type": "display_data"
    }
   ],
   "source": [
    "acc = history.history['acc']\n",
    "val_acc = history.history['val_acc']\n",
    "loss = history.history['loss']\n",
    "val_loss = history.history['val_loss']\n",
    "\n",
    "dianostic_plots(acc, loss, val_acc, val_loss)"
   ]
  },
  {
   "cell_type": "code",
   "execution_count": null,
   "metadata": {},
   "outputs": [],
   "source": [
    "# Save the model for later analysis\n",
    "save_model_path = '/home/ubuntu/data/team_neural_network/code/models'\n",
    "model_name = 'big_hybrid_net.h5'\n",
    "model.save(os.path.join(save_model_path, model_name))"
   ]
  },
  {
   "cell_type": "code",
   "execution_count": null,
   "metadata": {},
   "outputs": [],
   "source": [
    "model = load_model('../../models/big_hybrid_net.h5')\n",
    "\n",
    "filters = model.layers[0].get_weights()[0]\n",
    "bias = model.layers[0].get_weights()[1]"
   ]
  },
  {
   "cell_type": "code",
   "execution_count": null,
   "metadata": {},
   "outputs": [],
   "source": [
    "layer_name = model.layers[0].get_config()['name']\n",
    "intermediate_layer_model = Model(inputs=model.input,\n",
    "                                 outputs=model.get_layer(layer_name).output)\n",
    "intermediate_output = intermediate_layer_model.predict(val_x)"
   ]
  },
  {
   "cell_type": "code",
   "execution_count": null,
   "metadata": {},
   "outputs": [],
   "source": [
    "activated_subseq = get_activated_subseq(intermediate_output, val_x, m)"
   ]
  },
  {
   "cell_type": "code",
   "execution_count": null,
   "metadata": {},
   "outputs": [],
   "source": [
    "for i in list(activated_subseq):\n",
    "    char_list = get_char_list(activated_subseq[i])\n",
    "    uniques, freqs = get_freqs(char_list)\n",
    "    candidates = get_candidates(uniques, freqs, 0.45)\n",
    "    print(\"*************{}**************\".format(i))\n",
    "    print(get_motif(candidates))\n",
    "    print(\"*****************************\\n\")"
   ]
  }
 ],
 "metadata": {
  "kernelspec": {
   "display_name": "Python 3",
   "language": "python",
   "name": "python3"
  },
  "language_info": {
   "codemirror_mode": {
    "name": "ipython",
    "version": 3
   },
   "file_extension": ".py",
   "mimetype": "text/x-python",
   "name": "python",
   "nbconvert_exporter": "python",
   "pygments_lexer": "ipython3",
   "version": "3.6.4"
  }
 },
 "nbformat": 4,
 "nbformat_minor": 2
}
