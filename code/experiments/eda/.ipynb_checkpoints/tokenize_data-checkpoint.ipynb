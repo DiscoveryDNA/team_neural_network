{
 "cells": [
  {
   "cell_type": "code",
   "execution_count": 1,
   "metadata": {},
   "outputs": [],
   "source": [
    "import os\n",
    "import glob\n",
    "import ast\n",
    "import pickle\n",
    "import pandas as pd\n",
    "import numpy as np\n",
    "from Bio import SeqIO"
   ]
  },
  {
   "cell_type": "code",
   "execution_count": 2,
   "metadata": {},
   "outputs": [],
   "source": [
    "file = os.path.join(\"/home/ubuntu/data/dmel_seq\", \"dmel_only_with_length.fa\")\n",
    "output_folder_path = \"/home/ubuntu/data/dmel_seq\"\n",
    "# NOTE: the buffer file need not be created beforehands. Just write the path\n",
    "#       and the file name here. The file would be created by the system."
   ]
  },
  {
   "cell_type": "code",
   "execution_count": 3,
   "metadata": {},
   "outputs": [
    {
     "name": "stdout",
     "output_type": "stream",
     "text": [
      "7131\n"
     ]
    }
   ],
   "source": [
    "data = list(SeqIO.parse(file,\"fasta\"))\n",
    "regionids = np.array([seq.description.split('|')[0] for seq in data])\n",
    "unique_regions, counts = np.unique(regionids, return_counts=True)\n",
    "\n",
    "print(len(unique_regions))\n",
    "counts = {regionid:0 for regionid in unique_regions}\n",
    "unique_data = []\n",
    "for seq in data:\n",
    "    regionid, _, _, _, _ =seq.description.split('|')\n",
    "    if counts[regionid] == 0:\n",
    "        unique_data.append(seq)\n",
    "        counts[regionid] += 1"
   ]
  },
  {
   "cell_type": "code",
   "execution_count": 4,
   "metadata": {},
   "outputs": [],
   "source": [
    "base_pairs = {'A': 1, \n",
    "              'C': 2,\n",
    "              'G': 3,\n",
    "              'T': 4,\n",
    "              'a': 1,\n",
    "              'c': 2,\n",
    "              'g': 3,\n",
    "              't': 4,\n",
    "              'n': 0,\n",
    "              'N': 0}"
   ]
  },
  {
   "cell_type": "code",
   "execution_count": 5,
   "metadata": {},
   "outputs": [
    {
     "data": {
      "text/plain": [
       "(116, 3388)"
      ]
     },
     "execution_count": 5,
     "metadata": {},
     "output_type": "execute_result"
    }
   ],
   "source": [
    "# min and max len\n",
    "min_len = min([int(seq.description.split('|')[-1]) for seq in unique_data])\n",
    "max_len = max([int(seq.description.split('|')[-1]) for seq in unique_data])\n",
    "min_len, max_len"
   ]
  },
  {
   "cell_type": "code",
   "execution_count": 6,
   "metadata": {},
   "outputs": [
    {
     "data": {
      "text/plain": [
       "((5704,), (1427,))"
      ]
     },
     "execution_count": 6,
     "metadata": {},
     "output_type": "execute_result"
    }
   ],
   "source": [
    "np.random.seed(42)\n",
    "train_idx = np.random.choice(np.arange(len(unique_data)), int(0.8*len(unique_data)), replace=False)\n",
    "val_idx = np.array([idx for idx in range(len(unique_data)) if idx not in train_idx])\n",
    "train_idx.shape, val_idx.shape"
   ]
  },
  {
   "cell_type": "code",
   "execution_count": 7,
   "metadata": {},
   "outputs": [
    {
     "data": {
      "text/plain": [
       "(5704, 1427)"
      ]
     },
     "execution_count": 7,
     "metadata": {},
     "output_type": "execute_result"
    }
   ],
   "source": [
    "train_data, val_data = [], []\n",
    "for idx in train_idx:\n",
    "    train_data.append(unique_data[idx])\n",
    "for idx in val_idx:\n",
    "    val_data.append(unique_data[idx])\n",
    "len(train_data), len(val_data)"
   ]
  },
  {
   "cell_type": "code",
   "execution_count": 8,
   "metadata": {},
   "outputs": [],
   "source": [
    "train_x_ex, train_y_ex = [], []\n",
    "for seq in train_data:\n",
    "    regionid, expressed, speciesid, strand, _ = seq.description.split('|')\n",
    "    y = int(expressed)\n",
    "    x_len = len(seq.seq)\n",
    "    x = [base_pairs[char] for char in seq.seq]\n",
    "    x_comp = [base_pairs[char] for char in seq.seq.complement()]\n",
    "    while x_len < max_len:\n",
    "        x.append(0)\n",
    "        x_comp.append(0)\n",
    "        x_len += 1\n",
    "    train_x_ex.append(x)\n",
    "    train_x_ex.append(x_comp)\n",
    "    train_y_ex.append(y)\n",
    "    train_y_ex.append(y)\n",
    "\n",
    "train_x_ex, train_y_ex = np.array(train_x_ex), np.array(train_y_ex)"
   ]
  },
  {
   "cell_type": "code",
   "execution_count": 9,
   "metadata": {},
   "outputs": [],
   "source": [
    "val_x_ex, val_y_ex = [], []\n",
    "for seq in val_data:\n",
    "    regionid, expressed, speciesid, strand, _ = seq.description.split('|')\n",
    "    y = int(expressed)\n",
    "    x_len = len(seq.seq)\n",
    "    x = [base_pairs[char] for char in seq.seq]\n",
    "    x_comp = [base_pairs[char] for char in seq.seq.complement()]\n",
    "    while x_len < max_len:\n",
    "        x.append(0)\n",
    "        x_comp.append(0)\n",
    "        x_len += 1\n",
    "    val_x_ex.append(x)\n",
    "    val_x_ex.append(x_comp)\n",
    "    val_y_ex.append(y)\n",
    "    val_y_ex.append(y)\n",
    "\n",
    "val_x_ex, val_y_ex = np.array(val_x_ex), np.array(val_y_ex)"
   ]
  },
  {
   "cell_type": "code",
   "execution_count": 10,
   "metadata": {},
   "outputs": [
    {
     "data": {
      "text/plain": [
       "((11408, 3388), (11408,), (2854, 3388), (2854,))"
      ]
     },
     "execution_count": 10,
     "metadata": {},
     "output_type": "execute_result"
    }
   ],
   "source": [
    "train_x_ex.shape, train_y_ex.shape, val_x_ex.shape, val_y_ex.shape"
   ]
  },
  {
   "cell_type": "code",
   "execution_count": 11,
   "metadata": {},
   "outputs": [],
   "source": [
    "with open(os.path.join(output_folder_path, 'train_tk_x_ex.np'), mode='wb') as output:\n",
    "    pickle.dump(train_x_ex, output)\n",
    "with open(os.path.join(output_folder_path, 'train_tk_y_ex.np'), mode='wb') as output:\n",
    "    pickle.dump(train_y_ex, output)"
   ]
  },
  {
   "cell_type": "code",
   "execution_count": 12,
   "metadata": {},
   "outputs": [],
   "source": [
    "with open(os.path.join(output_folder_path, 'val_tk_x_ex.np'), mode='wb') as output:\n",
    "    pickle.dump(val_x_ex, output)\n",
    "with open(os.path.join(output_folder_path, 'val_tk_y_ex.np'), mode='wb') as output:\n",
    "    pickle.dump(val_y_ex, output)"
   ]
  }
 ],
 "metadata": {
  "kernelspec": {
   "display_name": "Python 3",
   "language": "python",
   "name": "python3"
  },
  "language_info": {
   "codemirror_mode": {
    "name": "ipython",
    "version": 3
   },
   "file_extension": ".py",
   "mimetype": "text/x-python",
   "name": "python",
   "nbconvert_exporter": "python",
   "pygments_lexer": "ipython3",
   "version": "3.6.5"
  }
 },
 "nbformat": 4,
 "nbformat_minor": 2
}
