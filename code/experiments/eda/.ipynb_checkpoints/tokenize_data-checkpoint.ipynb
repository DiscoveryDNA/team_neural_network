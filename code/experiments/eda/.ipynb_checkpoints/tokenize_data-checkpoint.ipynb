{
 "cells": [
  {
   "cell_type": "code",
   "execution_count": 1,
   "metadata": {},
   "outputs": [],
   "source": [
    "import os\n",
    "import glob\n",
    "import ast\n",
    "import pickle\n",
    "import pandas as pd\n",
    "import numpy as np\n",
    "from Bio import SeqIO"
   ]
  },
  {
   "cell_type": "code",
   "execution_count": 2,
   "metadata": {},
   "outputs": [],
   "source": [
    "file = os.path.join(\"/home/ubuntu/data/dmel_seq\", \"dmel_only_with_length.fa\")\n",
    "output_folder_path = \"/home/ubuntu/data/dmel_seq\"\n",
    "# NOTE: the buffer file need not be created beforehands. Just write the path\n",
    "#       and the file name here. The file would be created by the system."
   ]
  },
  {
   "cell_type": "code",
   "execution_count": 3,
   "metadata": {},
   "outputs": [],
   "source": [
    "base_pairs = {'A': 1, \n",
    "              'C': 2,\n",
    "              'G': 3,\n",
    "              'T': 4,\n",
    "              'a': 1,\n",
    "              'c': 2,\n",
    "              'g': 3,\n",
    "              't': 4,\n",
    "              'n': 0,\n",
    "              'N': 0}"
   ]
  },
  {
   "cell_type": "code",
   "execution_count": 4,
   "metadata": {},
   "outputs": [],
   "source": [
    "data = list(SeqIO.parse(file,\"fasta\"))"
   ]
  },
  {
   "cell_type": "code",
   "execution_count": 5,
   "metadata": {},
   "outputs": [
    {
     "data": {
      "text/plain": [
       "(116, 3388)"
      ]
     },
     "execution_count": 5,
     "metadata": {},
     "output_type": "execute_result"
    }
   ],
   "source": [
    "# min and max len\n",
    "min_len = min([int(seq.description.split('|')[-1]) for seq in data])\n",
    "max_len = max([int(seq.description.split('|')[-1]) for seq in data])\n",
    "min_len, max_len"
   ]
  },
  {
   "cell_type": "code",
   "execution_count": 8,
   "metadata": {},
   "outputs": [
    {
     "data": {
      "text/plain": [
       "(2030.5040557667935, 2135.0)"
      ]
     },
     "execution_count": 8,
     "metadata": {},
     "output_type": "execute_result"
    }
   ],
   "source": [
    "mu_len = np.mean([int(seq.description.split('|')[-1]) for seq in data])\n",
    "median_len = np.median([int(seq.description.split('|')[-1]) for seq in data])\n",
    "mu_len, median_len"
   ]
  },
  {
   "cell_type": "code",
   "execution_count": 6,
   "metadata": {},
   "outputs": [],
   "source": [
    "data_x, data_y = [], []\n",
    "for seq in data:\n",
    "    regionid, expressed, speciesid, strand, _ = seq.description.split('|')\n",
    "    y = int(expressed)\n",
    "    x_len = len(seq.seq)\n",
    "    x = [base_pairs[char] for char in seq.seq]\n",
    "    x_comp = [base_pairs[char] for char in seq.seq.complement()]\n",
    "    while x_len < median:\n",
    "        x.append(0)\n",
    "        x_comp.append(0)\n",
    "        x_len += 1\n",
    "    data_x.append(x)\n",
    "    data_x.append(x_comp)\n",
    "    data_y.append(y)\n",
    "    data_y.append(y)\n",
    "\n",
    "tokenized_x, tokenized_y = np.array(data_x), np.array(data_y)"
   ]
  },
  {
   "cell_type": "code",
   "execution_count": 11,
   "metadata": {},
   "outputs": [
    {
     "data": {
      "text/plain": [
       "((15780, 3388), (15780,))"
      ]
     },
     "execution_count": 11,
     "metadata": {},
     "output_type": "execute_result"
    }
   ],
   "source": [
    "tokenized_x.shape, tokenized_y.shape"
   ]
  },
  {
   "cell_type": "code",
   "execution_count": 9,
   "metadata": {},
   "outputs": [],
   "source": [
    "with open(os.path.join(output_folder_path, 'tokenized_x.np'), mode='wb') as output:\n",
    "    pickle.dump(tokenized_x, output)\n",
    "with open(os.path.join(output_folder_path, 'tokenized_y.np'), mode='wb') as output:\n",
    "    pickle.dump(tokenized_y, output)"
   ]
  },
  {
   "cell_type": "code",
   "execution_count": null,
   "metadata": {},
   "outputs": [],
   "source": []
  }
 ],
 "metadata": {
  "kernelspec": {
   "display_name": "Python 3",
   "language": "python",
   "name": "python3"
  },
  "language_info": {
   "codemirror_mode": {
    "name": "ipython",
    "version": 3
   },
   "file_extension": ".py",
   "mimetype": "text/x-python",
   "name": "python",
   "nbconvert_exporter": "python",
   "pygments_lexer": "ipython3",
   "version": "3.6.5"
  }
 },
 "nbformat": 4,
 "nbformat_minor": 2
}
