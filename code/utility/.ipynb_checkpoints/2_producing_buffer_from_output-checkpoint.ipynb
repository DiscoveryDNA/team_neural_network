{
 "cells": [
  {
   "cell_type": "markdown",
   "metadata": {},
   "source": [
    "**Author**: Yichen Fang\n",
    "\n",
    "This notebook saves all output files in a folder as a single list buffer to speed up model training process."
   ]
  },
  {
   "cell_type": "code",
   "execution_count": null,
   "metadata": {
    "collapsed": true
   },
   "outputs": [],
   "source": [
    "import os\n",
    "import glob\n",
    "import ast\n",
    "import pickle\n",
    "import numpy as np\n",
    "from Bio import SeqIO"
   ]
  },
  {
   "cell_type": "code",
   "execution_count": null,
   "metadata": {
    "collapsed": true
   },
   "outputs": [],
   "source": [
    "output_folder_path = \"/home/ubuntu/formatted/random_sequences/1000_output/raw\" + \"/\"\n",
    "path_to_buffer_file = \"/home/ubuntu/formatted/random_sequences/1000_output/buffer\" + \"/\" + \"1000_random_sequence_buffer.txt\"\n",
    "# NOTE: the buffer file need not to be created beforehands. Just write the path\n",
    "#       and the file name here. The file would be created by the system."
   ]
  },
  {
   "cell_type": "markdown",
   "metadata": {},
   "source": [
    "The following cell reads in one-hot encoding files as a list `seq_record_list`."
   ]
  },
  {
   "cell_type": "code",
   "execution_count": null,
   "metadata": {
    "collapsed": true
   },
   "outputs": [],
   "source": [
    "all_txts = glob.glob(output_folder_path + '*.txt')\n",
    "seq_record_list = []\n",
    "i = 0\n",
    "# Iterate through all one-hot encoding files\n",
    "for txt_ in all_txts:\n",
    "    i += 1\n",
    "    print(\"files processed: \" + str(i))\n",
    "    with open(txt_, encoding='utf-8') as f:\n",
    "        # attach the one-hot encoding information of this file to the end of seq_record_list\n",
    "        seq_record_list += ast.literal_eval(f.read())\n",
    "print(\"All Files have been processed! The number of distinct sequences are: \" + str(len(seq_record_list)))"
   ]
  },
  {
   "cell_type": "markdown",
   "metadata": {},
   "source": [
    "The following cell saves `seq_record_list` as a `pickle` buffer so that it can be retreated much faster next time."
   ]
  },
  {
   "cell_type": "code",
   "execution_count": null,
   "metadata": {
    "collapsed": true
   },
   "outputs": [],
   "source": [
    "with open(path_to_buffer_file, \"wb\") as buff:\n",
    "    pickle.dump(seq_record_list, buff)"
   ]
  }
 ],
 "metadata": {
  "kernelspec": {
   "display_name": "Python 3",
   "language": "python",
   "name": "python3"
  },
  "language_info": {
   "codemirror_mode": {
    "name": "ipython",
    "version": 3
   },
   "file_extension": ".py",
   "mimetype": "text/x-python",
   "name": "python",
   "nbconvert_exporter": "python",
   "pygments_lexer": "ipython3",
   "version": "3.6.5"
  }
 },
 "nbformat": 4,
 "nbformat_minor": 2
}
