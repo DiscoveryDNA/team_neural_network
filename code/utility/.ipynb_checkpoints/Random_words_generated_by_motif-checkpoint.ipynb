{
 "cells": [
  {
   "cell_type": "markdown",
   "metadata": {},
   "source": [
    "**Author:** Boren Tsai\n",
    "**Purpose:** This notebook randomly generates DNA sequences by a motif's position weight matrix (PWM)"
   ]
  },
  {
   "cell_type": "code",
   "execution_count": 51,
   "metadata": {},
   "outputs": [],
   "source": [
    "import numpy as np\n",
    "import random\n",
    "import os"
   ]
  },
  {
   "cell_type": "code",
   "execution_count": 52,
   "metadata": {},
   "outputs": [],
   "source": [
    "# Motifs\n",
    "jaspar_files = [\"MA0049.1_hb.jaspar\", \"MA0216.2_cad.jaspar\", \"MA0212.1_bcd.jaspar\", \"MA0447.1_gt.jaspar\"]\n",
    "\n",
    "# Path (modify accordingly)\n",
    "file_path = \"C:/Users/nicho/Desktop/team_neural_network/data/input/jaspar_pwm/\""
   ]
  },
  {
   "cell_type": "code",
   "execution_count": 53,
   "metadata": {},
   "outputs": [
    {
     "data": {
      "text/plain": [
       "['>MA0216.2\\tcad\\n',\n",
       " 'A  [   854    575      0    745   2117      0   2236   2303   2303   1637   1046 ]\\n',\n",
       " 'C  [     0    341   1481   1475      0     95      0      0      0    115    755 ]\\n',\n",
       " 'G  [  1143   1387      0      0    186      0      0      0      0    147      0 ]\\n',\n",
       " 'T  [   306      0    822     83      0   2208     67      0      0    404    502 ]\\n']"
      ]
     },
     "execution_count": 53,
     "metadata": {},
     "output_type": "execute_result"
    }
   ],
   "source": [
    "# Change the index according to the jaspar_list\n",
    "motif_index = 1\n",
    "data = open(file_path + jaspar_files[motif_index], 'r').readlines()\n",
    "\n",
    "# Extract the name of the motif for buffering\n",
    "motif_name = data[0].split()[1]\n",
    "\n",
    "# The first digit shows up at START, the last one shows up at END\n",
    "start = 4\n",
    "end = len(data[1]) - 3\n",
    "\n",
    "data"
   ]
  },
  {
   "cell_type": "code",
   "execution_count": 54,
   "metadata": {},
   "outputs": [
    {
     "name": "stdout",
     "output_type": "stream",
     "text": [
      "Position Weight Matrix: MA0216.2_cad.jaspar\n",
      " [[854, 575, 0, 745, 2117, 0, 2236, 2303, 2303, 1637, 1046], [0, 341, 1481, 1475, 0, 95, 0, 0, 0, 115, 755], [1143, 1387, 0, 0, 186, 0, 0, 0, 0, 147, 0], [306, 0, 822, 83, 0, 2208, 67, 0, 0, 404, 502]] \n",
      "\n"
     ]
    }
   ],
   "source": [
    "#Convert jaspar into numpy matrix \n",
    "PWM = []\n",
    "for a_line in data[1:]:\n",
    "    row = a_line.split(\"\\t\")[0][start:end]\n",
    "    numbers = row.split() \n",
    "    entries = [int(k) for k in numbers] # cast to int\n",
    "    PWM.append(entries)\n",
    "\n",
    "rows = sum([row[0] for row in PWM])\n",
    "columns = len(PWM[0])\n",
    "\n",
    "DNA_Array = np.zeros(shape=(rows, columns))\n",
    "\n",
    "print(\"Position Weight Matrix: \" \n",
    "      + jaspar_files[motif_index] \n",
    "      + \"\\n\", PWM, \"\\n\")"
   ]
  },
  {
   "cell_type": "code",
   "execution_count": 55,
   "metadata": {},
   "outputs": [],
   "source": [
    "# Places FILL into MATRIX at column POSITION\n",
    "# NUM amount of times\n",
    "def fillIn(matrix, fill, position, num):\n",
    "    counter = 0\n",
    "    random_position = random.sample(range(rows), rows)\n",
    "    while (len(random_position) > 0):\n",
    "        if counter > num:\n",
    "            break\n",
    "        else:\n",
    "            place = random_position.pop()\n",
    "            while(matrix[place][position] != 0) :\n",
    "                if len(random_position) > 0:\n",
    "                    place = random_position.pop()\n",
    "                else:\n",
    "                    break\n",
    "            if matrix[place][position] == 0:\n",
    "                matrix[place][position] = fill\n",
    "                counter += 1"
   ]
  },
  {
   "cell_type": "code",
   "execution_count": 56,
   "metadata": {},
   "outputs": [],
   "source": [
    "# Creates randomly generator DNA sequences based off\n",
    "# the information given by the specified posiiton weight matrix\n",
    "def randomizedSeqGenerator(WeightMatrix):\n",
    "    for k in range(1, 5):\n",
    "        for i in range(columns):\n",
    "            fillIn(DNA_Array, k, i, WeightMatrix[k-1][i])\n",
    "\n",
    "    reader = {1 : \"A\", 2 : \"C\", 3 : \"G\", 4: \"T\"}\n",
    "\n",
    "    lst = [\"\" for i in range(rows)]\n",
    "\n",
    "    for i in range(rows):\n",
    "        for j in range(columns):\n",
    "            lst[i] += reader[DNA_Array[i][j]]\n",
    "\n",
    "    seq = {}\n",
    "    \n",
    "    for i in range(len(lst)):\n",
    "        if not (lst[i] in seq.keys()):\n",
    "            seq[lst[i]] = 1\n",
    "        else:\n",
    "            pass\n",
    "    \n",
    "    for i in seq.keys():\n",
    "        yield i"
   ]
  },
  {
   "cell_type": "code",
   "execution_count": 59,
   "metadata": {},
   "outputs": [],
   "source": [
    "generator = randomizedSeqGenerator"
   ]
  },
  {
   "cell_type": "code",
   "execution_count": 62,
   "metadata": {},
   "outputs": [
    {
     "ename": "TypeError",
     "evalue": "'function' object is not an iterator",
     "output_type": "error",
     "traceback": [
      "\u001b[1;31m---------------------------------------------------------------------------\u001b[0m",
      "\u001b[1;31mTypeError\u001b[0m                                 Traceback (most recent call last)",
      "\u001b[1;32m<ipython-input-62-323ce5d717bb>\u001b[0m in \u001b[0;36m<module>\u001b[1;34m\u001b[0m\n\u001b[1;32m----> 1\u001b[1;33m \u001b[0mnext\u001b[0m\u001b[1;33m(\u001b[0m\u001b[0mgenerator\u001b[0m\u001b[1;33m)\u001b[0m\u001b[1;33m\u001b[0m\u001b[0m\n\u001b[0m",
      "\u001b[1;31mTypeError\u001b[0m: 'function' object is not an iterator"
     ]
    }
   ],
   "source": [
    "for i in generator:\n",
    "    print(i)"
   ]
  },
  {
   "cell_type": "code",
   "execution_count": null,
   "metadata": {},
   "outputs": [],
   "source": []
  }
 ],
 "metadata": {
  "kernelspec": {
   "display_name": "Python 3",
   "language": "python",
   "name": "python3"
  },
  "language_info": {
   "codemirror_mode": {
    "name": "ipython",
    "version": 3
   },
   "file_extension": ".py",
   "mimetype": "text/x-python",
   "name": "python",
   "nbconvert_exporter": "python",
   "pygments_lexer": "ipython3",
   "version": "3.7.0"
  }
 },
 "nbformat": 4,
 "nbformat_minor": 2
}
