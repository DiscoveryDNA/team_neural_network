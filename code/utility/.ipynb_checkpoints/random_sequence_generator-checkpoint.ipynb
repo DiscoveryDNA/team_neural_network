{
 "cells": [
  {
   "cell_type": "markdown",
   "metadata": {},
   "source": [
    "**Author**: Yichen Fang\n",
    "\n",
    "**Credit to**: Joanne Chen for the original `generate_one_seq` and `generate_fasta` functions (it was subsequently modified).\n",
    "\n",
    "This notebook can be used to generate random pseudo-dna-sequences."
   ]
  },
  {
   "cell_type": "code",
   "execution_count": null,
   "metadata": {},
   "outputs": [],
   "source": [
    "import pickle\n",
    "import random\n",
    "import glob\n",
    "import numpy as np"
   ]
  },
  {
   "cell_type": "code",
   "execution_count": null,
   "metadata": {},
   "outputs": [],
   "source": [
    "seq_num = 5000 # number of sequences to generate\n",
    "seq_len = 1000 # the length of each sequence\n",
    "path_to_buffer_file = \"/home/ubuntu/formatted/random_sequences/\" + \"random_sequnce_buffer.txt\"\n",
    "# path to the folder that stores the random sequence list as a buffer"
   ]
  },
  {
   "cell_type": "code",
   "execution_count": null,
   "metadata": {},
   "outputs": [],
   "source": [
    "def generate_one_seq(length):\n",
    "    ''' Randomly generates a sequence.\n",
    "        length: the length of the sequence\n",
    "        Returns a pseudo header, the pseudo sequence itself, and a randomly assigned class indicator for the sequence\n",
    "    '''\n",
    "    header = \"VT0000|\" + str(np.random.randint(0, 2)) + \"|MEMB001A|+|\" + str(np.random.randint(1000,9000))\n",
    "    random_list = [random.choice(\"ACGT\") for i in range(length)]\n",
    "    sequence = \"\".join(random_list) # 1 long string\n",
    "    # class_indicator = np.random.randint(0, 2)\n",
    "    # return header, class_indicator, sequence\n",
    "    return header + \"\\n\" + sequence\n",
    "\n",
    "def generate_fasta(path):\n",
    "    \"\"\"\n",
    "    path: a string indicating the location in which random file will be created / used\n",
    "    \"\"\"\n",
    "    ofile = open(path, \"w\")\n",
    "    u = 0\n",
    "    for i in range(1000):\n",
    "        ofile.write(\">\" + generate_one_seq(1000) + \"\\n\")\n",
    "        u += 1\n",
    "        if u % 100 == 0:\n",
    "            print(\"finished: \" + str(u))\n",
    "    ofile.close()\n",
    "    # return glob(path)[0]"
   ]
  },
  {
   "cell_type": "code",
   "execution_count": null,
   "metadata": {},
   "outputs": [],
   "source": [
    "generate_fasta(\"/home/ubuntu/formatted/random_sequences/output/1000_raw_random_sequences.fa\")"
   ]
  },
  {
   "cell_type": "code",
   "execution_count": null,
   "metadata": {},
   "outputs": [],
   "source": [
    "seq_lst = []\n",
    "counter = 0\n",
    "\n",
    "for seq in range(seq_num):\n",
    "    seq_header, seq_indicator, seq_detail = generate_one_seq(seq_len)\n",
    "    seq_lst.append([seq_header, seq_indicator, seq_detail])\n",
    "    counter += 1\n",
    "    if counter % 100 == 0:\n",
    "        print(\"finished: \" + str(counter))"
   ]
  },
  {
   "cell_type": "code",
   "execution_count": null,
   "metadata": {},
   "outputs": [],
   "source": [
    "base_pairs = {'A': [1, 0, 0, 0], \n",
    "              'C': [0, 1, 0, 0],\n",
    "              'G': [0, 0, 1, 0],\n",
    "              'T': [0, 0, 0, 1],\n",
    "              'a': [1, 0, 0, 0],\n",
    "              'c': [0, 1, 0, 0],\n",
    "              'g': [0, 0, 1, 0],\n",
    "              't': [0, 0, 0, 1],\n",
    "              'n': [0, 0, 0, 0],\n",
    "              'N': [0, 0, 0, 0]}\n",
    "\n",
    "def one_hot_encoding(seq_info, seq_len):\n",
    "    ''' Transform the random sequence into one-hot encoding,\n",
    "        and adding random motif scores (random float among [-1, 1) to the end of each position.'''\n",
    "    encoding = [[e for e in base_pairs[n]] for n in seq_info[2]]\n",
    "    for i in range(seq_len):\n",
    "        encoding[i].extend([np.random.uniform(low=-1, high=1) for _ in range(3)])\n",
    "    return encoding"
   ]
  },
  {
   "cell_type": "code",
   "execution_count": null,
   "metadata": {},
   "outputs": [],
   "source": [
    "counter = 0\n",
    "\n",
    "for i in range(seq_num):\n",
    "    encoding = one_hot_encoding(seq_lst[i], seq_len)\n",
    "    seq_lst[i][2] = encoding\n",
    "    counter += 1\n",
    "    if counter % 100 == 0:\n",
    "        print(\"finished: \" + str(counter))"
   ]
  },
  {
   "cell_type": "code",
   "execution_count": null,
   "metadata": {},
   "outputs": [],
   "source": [
    "seq_lst[1]"
   ]
  },
  {
   "cell_type": "code",
   "execution_count": null,
   "metadata": {},
   "outputs": [],
   "source": [
    "with open(path_to_buffer_file, \"wb\") as buff:\n",
    "    pickle.dump(seq_lst, buff)"
   ]
  }
 ],
 "metadata": {
  "kernelspec": {
   "display_name": "Environment (conda_tensorflow_p36)",
   "language": "python",
   "name": "conda_tensorflow_p36"
  },
  "language_info": {
   "codemirror_mode": {
    "name": "ipython",
    "version": 3
   },
   "file_extension": ".py",
   "mimetype": "text/x-python",
   "name": "python",
   "nbconvert_exporter": "python",
   "pygments_lexer": "ipython3",
   "version": "3.6.4"
  }
 },
 "nbformat": 4,
 "nbformat_minor": 2
}
