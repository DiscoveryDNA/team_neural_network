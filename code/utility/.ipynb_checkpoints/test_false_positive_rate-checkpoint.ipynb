{
 "cells": [
  {
   "cell_type": "markdown",
   "metadata": {},
   "source": [
    "This cell creates a model and trains it on dummy data, this is not very interesting"
   ]
  },
  {
   "cell_type": "code",
   "execution_count": 4,
   "metadata": {},
   "outputs": [
    {
     "name": "stdout",
     "output_type": "stream",
     "text": [
      "Epoch 1/10\n",
      "1000/1000 [==============================] - 0s 162us/step - loss: 0.7171 - acc: 0.4910\n",
      "Epoch 2/10\n",
      "1000/1000 [==============================] - 0s 53us/step - loss: 0.6982 - acc: 0.5190\n",
      "Epoch 3/10\n",
      "1000/1000 [==============================] - 0s 54us/step - loss: 0.6969 - acc: 0.5260\n",
      "Epoch 4/10\n",
      "1000/1000 [==============================] - 0s 45us/step - loss: 0.6938 - acc: 0.5280\n",
      "Epoch 5/10\n",
      "1000/1000 [==============================] - 0s 47us/step - loss: 0.6883 - acc: 0.5390\n",
      "Epoch 6/10\n",
      "1000/1000 [==============================] - 0s 47us/step - loss: 0.6834 - acc: 0.5590\n",
      "Epoch 7/10\n",
      "1000/1000 [==============================] - 0s 38us/step - loss: 0.6795 - acc: 0.5580\n",
      "Epoch 8/10\n",
      "1000/1000 [==============================] - 0s 45us/step - loss: 0.6767 - acc: 0.5620\n",
      "Epoch 9/10\n",
      "1000/1000 [==============================] - 0s 39us/step - loss: 0.6713 - acc: 0.5670\n",
      "Epoch 10/10\n",
      "1000/1000 [==============================] - 0s 48us/step - loss: 0.6681 - acc: 0.5940\n"
     ]
    },
    {
     "data": {
      "text/plain": [
       "<keras.callbacks.History at 0x7fca14798438>"
      ]
     },
     "execution_count": 4,
     "metadata": {},
     "output_type": "execute_result"
    }
   ],
   "source": [
    "import tensorflow as tf\n",
    "import matplotlib.pyplot as plt\n",
    "\n",
    "import numpy as np\n",
    "import keras\n",
    "from keras.models import Sequential\n",
    "from keras.layers import Dense, Dropout, Flatten\n",
    "from keras.layers import Conv2D, MaxPooling2D\n",
    "from keras.optimizers import SGD\n",
    "from keras.models import Sequential\n",
    "from keras.layers import Dense, Dropout\n",
    "from keras.layers import Embedding\n",
    "from keras.layers import Conv1D, GlobalAveragePooling1D, MaxPooling1D\n",
    "\n",
    "\n",
    "seq_length = 64\n",
    "\n",
    "model = Sequential()\n",
    "model.add(Dense(32, activation='relu', input_dim=100))\n",
    "model.add(Dense(1, activation='sigmoid'))\n",
    "model.compile(optimizer='rmsprop',\n",
    "              loss='binary_crossentropy',\n",
    "              metrics=['accuracy'])\n",
    "\n",
    "# Generate dummy data\n",
    "import numpy as np\n",
    "x_train = np.random.random((1000, 100))\n",
    "y_train = np.random.randint(2, size=(1000, 1))\n",
    "\n",
    "# Train the model, iterating on the data in batches of 32 samples\n",
    "model.fit(x_train, y_train, epochs=10, batch_size=32)"
   ]
  },
  {
   "cell_type": "markdown",
   "metadata": {},
   "source": [
    "This cell uses the model to make predictions on our data.\n",
    "\n",
    "Then it iterates through the results and the real labels and compares them to check for False Positives(FP) and True Negatives(TN).\n",
    "\n",
    "Then it uses the formula to calculate the False Positve Rate (FPR)"
   ]
  },
  {
   "cell_type": "code",
   "execution_count": 5,
   "metadata": {},
   "outputs": [
    {
     "name": "stdout",
     "output_type": "stream",
     "text": [
      "0.41922290388548056\n"
     ]
    }
   ],
   "source": [
    "results = model.predict(x_train, batch_size=16)\n",
    "\n",
    "false_positives = 0\n",
    "true_positives = 0\n",
    "total_negatives = 0\n",
    "total_positives = 0\n",
    "true_negatives = 0\n",
    "\n",
    "for i in range(0,results.size):\n",
    "    \n",
    "    if results[i][0]>=0.5 and y_train[i]==0:\n",
    "        false_positives += 1\n",
    "\n",
    "    if results[i][0]>=0.5 and y_train[i]==1:\n",
    "        true_positives += 1\n",
    "        \n",
    "    if results[i][0]<=0.5 and y_train[i]==0:\n",
    "        true_negatives += 1\n",
    "        \n",
    "    if results[i][0] <= 0.5:\n",
    "        total_negatives += 1\n",
    "        \n",
    "    if results[i][0] >= 0.5:\n",
    "        total_positives += 1\n",
    "\n",
    "false_discovery_rate = false_positives/(false_positives + true_negatives)\n",
    "print(false_discovery_rate)"
   ]
  },
  {
   "cell_type": "code",
   "execution_count": 6,
   "metadata": {},
   "outputs": [
    {
     "name": "stdout",
     "output_type": "stream",
     "text": [
      "ROC Curve\n"
     ]
    },
    {
     "data": {
      "image/png": "[encoded data removed]",
      "text/plain": [
       "<Figure size 432x288 with 1 Axes>"
      ]
     },
     "metadata": {},
     "output_type": "display_data"
    },
    {
     "name": "stdout",
     "output_type": "stream",
     "text": [
      "c-statistic = 0.6663725243017621\n"
     ]
    }
   ],
   "source": [
    "\n",
    "sensitivities = []\n",
    "false_positive_rates =[]\n",
    "discovery_percentage = 0.05\n",
    "\n",
    "while discovery_percentage < 1.0:\n",
    "    \n",
    "    false_positives = 0\n",
    "    true_positives = 0\n",
    "    total_negatives = 0\n",
    "    total_positives = 0\n",
    "    true_negatives = 0\n",
    "    \n",
    "    for i in range(0,results.size):\n",
    "\n",
    "        if results[i][0]>=discovery_percentage and y_train[i]==0:\n",
    "            false_positives += 1\n",
    "\n",
    "        if results[i][0]>=discovery_percentage and y_train[i]==1:\n",
    "            true_positives += 1\n",
    "\n",
    "        if results[i][0]<=discovery_percentage and y_train[i]==0:\n",
    "            true_negatives += 1\n",
    "\n",
    "        if y_train[i]==0:\n",
    "            total_negatives += 1\n",
    "\n",
    "        if y_train[i]==1:\n",
    "            total_positives += 1\n",
    "            \n",
    "    if total_positives != 0 and total_negatives != 0:\n",
    "        sensitivities.append(true_positives / total_positives)\n",
    "        false_positive_rates.append(1-(true_negatives / total_negatives))\n",
    "    \n",
    "    discovery_percentage += 0.05\n",
    "    \n",
    "def trapezoid_area(b1,b2,h):\n",
    "    return 0.5 * h * (b1 + b2)\n",
    "\n",
    "riemann = 0.0\n",
    "for i in range(0,len(sensitivities) - 1):\n",
    "    riemann += 0.5 * (sensitivities[i]+sensitivities[i+1]) * (false_positive_rates[i]-false_positive_rates[i+1])\n",
    "    \n",
    "\n",
    "print(\"ROC Curve\")\n",
    "plt.plot(false_positive_rates, sensitivities )\n",
    "plt.ylabel('sensitivity')\n",
    "plt.xlabel('false positive rate')\n",
    "plt.show()\n",
    "print(\"c-statistic = \" + str(riemann))"
   ]
  },
  {
   "cell_type": "code",
   "execution_count": null,
   "metadata": {},
   "outputs": [],
   "source": []
  }
 ],
 "metadata": {
  "kernelspec": {
   "display_name": "Python 3",
   "language": "python",
   "name": "python3"
  },
  "language_info": {
   "codemirror_mode": {
    "name": "ipython",
    "version": 3
   },
   "file_extension": ".py",
   "mimetype": "text/x-python",
   "name": "python",
   "nbconvert_exporter": "python",
   "pygments_lexer": "ipython3",
   "version": "3.6.5"
  }
 },
 "nbformat": 4,
 "nbformat_minor": 2
}
