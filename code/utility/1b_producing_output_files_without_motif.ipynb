{
 "cells": [
  {
   "cell_type": "markdown",
   "metadata": {},
   "source": [
    "**Author**: Yichen Fang\n",
    "\n",
    "**Purpose**:\n",
    "\n",
    "The purpose of this notebook is to produce output files by one-hot encoding the dna sequence.\n",
    "\n",
    "The output files are first saved as plain txt files in the `data/output_without_motif` folder. They are also combined together into one huge list which is stored as a `pickle` buffer (so that the loading time of the output is faster).\n",
    "\n",
    "**Important Note Before Using the File**:\n",
    "\n",
    "1. Always check the **output location** and the **buffer file name** are correct and intended. Otherwise, you may accidentally **overwrite** previous results.\n",
    "2. ALways check the motif file names corresponds to the ones you are using. Otherwise, the script would not work correctly.\n",
    "3. This file should only be used to generate outputs without motifs. To generate outputs with motifs attached, please use the script `producing_output_files_with_motif.ipynb`."
   ]
  },
  {
   "cell_type": "code",
   "execution_count": null,
   "metadata": {
    "collapsed": true
   },
   "outputs": [],
   "source": [
    "import os\n",
    "import glob\n",
    "import ast\n",
    "import pickle\n",
    "import pandas as pd\n",
    "import numpy as np\n",
    "from Bio import SeqIO"
   ]
  },
  {
   "cell_type": "markdown",
   "metadata": {},
   "source": [
    "Set address variables in the following cell:"
   ]
  },
  {
   "cell_type": "code",
   "execution_count": null,
   "metadata": {
    "collapsed": true
   },
   "outputs": [],
   "source": [
    "input_folder_path = \"change_the_path_here\" + \"/\"\n",
    "output_folder_path = \"change_the_path_here\" + \"/\"\n",
    "path_to_buffer_file = \"change_the_path_here\" + \"/\" + \"change_the_name_here.txt\"\n",
    "# NOTE: the buffer file need not be created beforehands. Just write the path\n",
    "#       and the file name here. The file would be created by the system."
   ]
  },
  {
   "cell_type": "markdown",
   "metadata": {},
   "source": [
    "The aim of the following cell is to produce a one-hot encoding scheme for each DNA sequence segment.\n",
    "\n",
    "It consists of three parts:\n",
    "\n",
    "1. Read in all DNA sequence segments.\n",
    "2. Transform each position of the DNA sequence into a 4-letter one-hot encoding based on the `base_pairs` dictionary.\n",
    "3. Output the final encoding into `txt` files for bookkeeping."
   ]
  },
  {
   "cell_type": "code",
   "execution_count": null,
   "metadata": {
    "collapsed": true
   },
   "outputs": [],
   "source": [
    "# Use the following dictionary to perform the transformation\n",
    "base_pairs = {'A': [1, 0, 0, 0], \n",
    "              'C': [0, 1, 0, 0],\n",
    "              'G': [0, 0, 1, 0],\n",
    "              'T': [0, 0, 0, 1],\n",
    "              'a': [1, 0, 0, 0],\n",
    "              'c': [0, 1, 0, 0],\n",
    "              'g': [0, 0, 1, 0],\n",
    "              't': [0, 0, 0, 1],\n",
    "              'n': [0, 0, 0, 0],\n",
    "              'N': [0, 0, 0, 0]}\n",
    "\n",
    "file_num_limit = 10000    # The maximum number of files to be decoded\n",
    "file_count = 0\n",
    "\n",
    "# Iterate through every file\n",
    "for file in os.listdir(input_folder_path):\n",
    "    one_hot = []\n",
    "    # When the number of file decoded has reached the limit, stop\n",
    "    if file_count < file_num_limit:\n",
    "        data = list(SeqIO.parse(input_folder_path + file,\"fasta\"))\n",
    "        for n in range(0, len(data)):\n",
    "            # Extract the header information\n",
    "            header = data[n].description.split('|')\n",
    "            descr = data[n].description\n",
    "            regionID = header[0]\n",
    "            expressed = header[1]\n",
    "            speciesID = header[2]\n",
    "            strand = header[3]\n",
    "            # Complement all sequences in the negative DNA strand\n",
    "            if strand == '-':\n",
    "                # Using the syntax [e for e in base_pairs[n]] to create a new pointer for each position\n",
    "                one_hot.append([descr, expressed, speciesID, [[e for e in base_pairs[n]] for n in data[n].seq.complement()]])\n",
    "            else:\n",
    "                one_hot.append([descr, expressed, speciesID, [[e for e in base_pairs[n]] for n in data[n].seq]])\n",
    "        with open(output_folder_path + regionID + \".txt\", mode=\"w\", encoding='utf-8') as output:\n",
    "            output.write(str(one_hot))\n",
    "        file_count += 1"
   ]
  },
  {
   "cell_type": "markdown",
   "metadata": {},
   "source": [
    "The rest of the notebook uses the one-hot encoding files produced above to build a neural network prototype to make sure everything works as intended.\n",
    "\n",
    "The following cell reads in one-hot encoding files as a list `seq_record_list`."
   ]
  },
  {
   "cell_type": "code",
   "execution_count": null,
   "metadata": {
    "collapsed": true
   },
   "outputs": [],
   "source": [
    "all_txts = glob.glob(output_folder_path + '*.txt')\n",
    "seq_record_list = []\n",
    "i = 0\n",
    "# Iterate through all one-hot encoding files\n",
    "for txt_ in all_txts:\n",
    "    i += 1\n",
    "    print(i)\n",
    "    with open(txt_, encoding='utf-8') as f:\n",
    "        # attach the one-hot encoding information of this file to the end of seq_record_list\n",
    "        seq_record_list += ast.literal_eval(f.read())\n",
    "len(seq_record_list)"
   ]
  },
  {
   "cell_type": "markdown",
   "metadata": {},
   "source": [
    "The following cell saves `seq_record_list` as a `pickle` buffer so that it can be retreated much faster next time."
   ]
  },
  {
   "cell_type": "code",
   "execution_count": null,
   "metadata": {
    "collapsed": true
   },
   "outputs": [],
   "source": [
    "with open(path_to_buffer_file, \"wb\") as buff:\n",
    "    pickle.dump(seq_record_list, buff)"
   ]
  }
 ],
 "metadata": {
  "kernelspec": {
   "display_name": "Python 3",
   "language": "python",
   "name": "python3"
  },
  "language_info": {
   "codemirror_mode": {
    "name": "ipython",
    "version": 3
   },
   "file_extension": ".py",
   "mimetype": "text/x-python",
   "name": "python",
   "nbconvert_exporter": "python",
   "pygments_lexer": "ipython3",
   "version": "3.6.5"
  }
 },
 "nbformat": 4,
 "nbformat_minor": 2
}
