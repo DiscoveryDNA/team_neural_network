{
 "cells": [
  {
   "cell_type": "markdown",
   "metadata": {},
   "source": [
    "**Authors:** Zhanyuan Zhang, Adam Stafford  \n",
    "**Purpose:** This notebook automates the process of generating words by a motif's position weight matrix.  \n",
    "**Usage:** \n",
    "* Update the jaspar_list if necessary  \n",
    "* Modify the jaspar_path if necessary\n",
    "* Set corresponding motif_index\n",
    "* Run the rest of the notebook, and check if the intermediate outputs match expectations\n",
    "* Finally, set the buffer_file_path, where the list of words is buffered to"
   ]
  },
  {
   "cell_type": "code",
   "execution_count": 1,
   "metadata": {},
   "outputs": [],
   "source": [
    "import numpy as np\n",
    "import os\n",
    "import pickle\n",
    "import json"
   ]
  },
  {
   "cell_type": "code",
   "execution_count": 2,
   "metadata": {},
   "outputs": [],
   "source": [
    "# May add more motifs in the future to this list\n",
    "jaspar_list = [\"MA0049.1_hb.jaspar\", \"MA0216.2_cad.jaspar\", \"MA0212.1_bcd.jaspar\", \"MA0447.1_gt.jaspar\"]\n",
    "\n",
    "# Modify this path appropriately\n",
    "jaspar_path = \"/home/zhanyuan/uc-berkeley/discoverydna/team_neural_network/data/input/jaspar_pwm/\""
   ]
  },
  {
   "cell_type": "code",
   "execution_count": 3,
   "metadata": {},
   "outputs": [
    {
     "data": {
      "text/plain": [
       "['>MA0216.2\\tcad\\n',\n",
       " 'A  [   854    575      0    745   2117      0   2236   2303   2303   1637   1046 ]\\n',\n",
       " 'C  [     0    341   1481   1475      0     95      0      0      0    115    755 ]\\n',\n",
       " 'G  [  1143   1387      0      0    186      0      0      0      0    147      0 ]\\n',\n",
       " 'T  [   306      0    822     83      0   2208     67      0      0    404    502 ]\\n']"
      ]
     },
     "execution_count": 3,
     "metadata": {},
     "output_type": "execute_result"
    }
   ],
   "source": [
    "# Change the index according to the jaspar_list\n",
    "motif_index = 1\n",
    "data = open(jaspar_path + jaspar_list[motif_index], 'r').readlines()\n",
    "\n",
    "# Extract the name of the motif for buffering\n",
    "motif_name = data[0].split()[1]\n",
    "\n",
    "# The first digit shows up at START, the last one shows up at END\n",
    "start = 4\n",
    "end = len(data[1]) - 3\n",
    "\n",
    "data"
   ]
  },
  {
   "cell_type": "code",
   "execution_count": 4,
   "metadata": {},
   "outputs": [
    {
     "data": {
      "text/plain": [
       "[[854.0,\n",
       "  575.0,\n",
       "  0.0,\n",
       "  745.0,\n",
       "  2117.0,\n",
       "  0.0,\n",
       "  2236.0,\n",
       "  2303.0,\n",
       "  2303.0,\n",
       "  1637.0,\n",
       "  1046.0],\n",
       " [0.0, 341.0, 1481.0, 1475.0, 0.0, 95.0, 0.0, 0.0, 0.0, 115.0, 755.0],\n",
       " [1143.0, 1387.0, 0.0, 0.0, 186.0, 0.0, 0.0, 0.0, 0.0, 147.0, 0.0],\n",
       " [306.0, 0.0, 822.0, 83.0, 0.0, 2208.0, 67.0, 0.0, 0.0, 404.0, 502.0]]"
      ]
     },
     "execution_count": 4,
     "metadata": {},
     "output_type": "execute_result"
    }
   ],
   "source": [
    "pre_pwm = []\n",
    "for a_line in data[1:]:\n",
    "    row = a_line.split(\"\\t\")[0][start:end]\n",
    "    numbers = row.split() \n",
    "    entries = [float(k) for k in numbers] # cast to float\n",
    "    pre_pwm.append(entries)\n",
    "pre_pwm"
   ]
  },
  {
   "cell_type": "code",
   "execution_count": 5,
   "metadata": {},
   "outputs": [
    {
     "name": "stdout",
     "output_type": "stream",
     "text": [
      "[[ 3.94257655e-01 -1.30349790e-03            -inf  2.57710680e-01\n",
      "   1.30208173e+00            -inf  1.35677030e+00  1.38629436e+00\n",
      "   1.38629436e+00  1.04494704e+00  5.97055106e-01]\n",
      " [           -inf -5.23791061e-01  9.44799276e-01  9.40739730e-01\n",
      "             -inf -1.80179665e+00            -inf            -inf\n",
      "             -inf -1.61074141e+00  2.71044211e-01]\n",
      " [ 6.85738125e-01  8.79224882e-01            -inf            -inf\n",
      "  -1.12992686e+00            -inf            -inf            -inf\n",
      "             -inf -1.36524095e+00            -inf]\n",
      " [-6.32088437e-01            -inf  3.56066856e-01 -1.93683293e+00\n",
      "             -inf  1.34416887e+00 -2.15098092e+00            -inf\n",
      "             -inf -3.54258661e-01 -1.37073419e-01]]\n"
     ]
    },
    {
     "name": "stderr",
     "output_type": "stream",
     "text": [
      "/usr/lib/python3/dist-packages/ipykernel_launcher.py:14: RuntimeWarning: divide by zero encountered in log\n",
      "  \n"
     ]
    }
   ],
   "source": [
    "# Convert the 2D list into a matrix\n",
    "hbpwm = np.matrix(pre_pwm)\n",
    "\n",
    "# Find the length of the words\n",
    "word_length = len(pre_pwm[0])\n",
    "\n",
    "# Determine the background model (assuming ATCG show up uniformly)\n",
    "total_obs = 0\n",
    "for i in range(len(pre_pwm)):\n",
    "    total_obs += pre_pwm[i][0]\n",
    "b = total_obs/4\n",
    "\n",
    "# Transform the entries by taking log\n",
    "log_hbpwm = np.log(hbpwm/b)\n",
    "print(log_hbpwm)"
   ]
  },
  {
   "cell_type": "code",
   "execution_count": 6,
   "metadata": {},
   "outputs": [
    {
     "data": {
      "text/plain": [
       "[(0, 0),\n",
       " (0, 3),\n",
       " (0, 4),\n",
       " (0, 6),\n",
       " (0, 7),\n",
       " (0, 8),\n",
       " (0, 9),\n",
       " (0, 10),\n",
       " (1, 2),\n",
       " (1, 3),\n",
       " (1, 10),\n",
       " (2, 0),\n",
       " (2, 1),\n",
       " (3, 2),\n",
       " (3, 5)]"
      ]
     },
     "execution_count": 6,
     "metadata": {},
     "output_type": "execute_result"
    }
   ],
   "source": [
    "positive_entries = []\n",
    "for i in range (log_hbpwm.shape[0]):\n",
    "    for j in range(log_hbpwm.shape[1]):\n",
    "        if log_hbpwm[i, j] > 0:\n",
    "            positive_entries.append((i, j))\n",
    "positive_entries"
   ]
  },
  {
   "cell_type": "code",
   "execution_count": 7,
   "metadata": {},
   "outputs": [
    {
     "name": "stdout",
     "output_type": "stream",
     "text": [
      "[['A', 'G'], ['G'], ['C', 'T'], ['A', 'C'], ['A'], ['T'], ['A'], ['A'], ['A'], ['A'], ['A', 'C']]\n"
     ]
    }
   ],
   "source": [
    "ACGT = {0:\"A\", 1:\"C\", 2:\"G\", 3:\"T\"}\n",
    "pairs = []\n",
    "for i in range(0, word_length):\n",
    "    temp = []\n",
    "    for j in range(0, len(positive_entries)):\n",
    "        if (positive_entries[j][1] == i):\n",
    "            temp.append(ACGT[positive_entries[j][0]])\n",
    "    pairs.append(temp)\n",
    "print(pairs)"
   ]
  },
  {
   "cell_type": "code",
   "execution_count": 8,
   "metadata": {},
   "outputs": [],
   "source": [
    "# Find all the words by dynamic programming\n",
    "W = [pairs[0]]\n",
    "for i in range(1, len(pairs)):\n",
    "    temp = W[i - 1].copy()\n",
    "    W.append([])\n",
    "    for char in pairs[i]:\n",
    "        for word in temp:\n",
    "            W[i].append(word+char)"
   ]
  },
  {
   "cell_type": "code",
   "execution_count": 9,
   "metadata": {},
   "outputs": [
    {
     "data": {
      "text/plain": [
       "['AGCAATAAAAA',\n",
       " 'GGCAATAAAAA',\n",
       " 'AGTAATAAAAA',\n",
       " 'GGTAATAAAAA',\n",
       " 'AGCCATAAAAA',\n",
       " 'GGCCATAAAAA',\n",
       " 'AGTCATAAAAA',\n",
       " 'GGTCATAAAAA',\n",
       " 'AGCAATAAAAC',\n",
       " 'GGCAATAAAAC',\n",
       " 'AGTAATAAAAC',\n",
       " 'GGTAATAAAAC',\n",
       " 'AGCCATAAAAC',\n",
       " 'GGCCATAAAAC',\n",
       " 'AGTCATAAAAC',\n",
       " 'GGTCATAAAAC']"
      ]
     },
     "execution_count": 9,
     "metadata": {},
     "output_type": "execute_result"
    }
   ],
   "source": [
    "W[word_length - 1]"
   ]
  },
  {
   "cell_type": "code",
   "execution_count": 10,
   "metadata": {},
   "outputs": [],
   "source": [
    "buffer_file_path = jaspar_path + \"words_generated_by_\" + motif_name"
   ]
  },
  {
   "cell_type": "code",
   "execution_count": 11,
   "metadata": {},
   "outputs": [],
   "source": [
    "with open(buffer_file_path, \"wb\") as buff:\n",
    "    pickle.dump(W[word_length - 1], buff)"
   ]
  },
  {
   "cell_type": "code",
   "execution_count": null,
   "metadata": {},
   "outputs": [],
   "source": []
  }
 ],
 "metadata": {
  "kernelspec": {
   "display_name": "Python 3",
   "language": "python",
   "name": "python3"
  },
  "language_info": {
   "codemirror_mode": {
    "name": "ipython",
    "version": 3
   },
   "file_extension": ".py",
   "mimetype": "text/x-python",
   "name": "python",
   "nbconvert_exporter": "python",
   "pygments_lexer": "ipython3",
   "version": "3.6.6"
  }
 },
 "nbformat": 4,
 "nbformat_minor": 2
}
