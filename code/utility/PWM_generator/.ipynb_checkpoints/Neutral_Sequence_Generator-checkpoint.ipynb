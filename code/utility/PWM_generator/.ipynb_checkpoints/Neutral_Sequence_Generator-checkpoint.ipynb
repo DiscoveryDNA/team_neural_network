{
 "cells": [
  {
   "cell_type": "markdown",
   "metadata": {},
   "source": [
    "Author: Thomas Lane\n",
    "\n",
    "Purpose: This notebook generates a random sequence with motifs at a specified frequency and uses siteout to make sure the \n",
    "    linking sequences are motif free.\n",
    "\n",
    "Use: - Change the pathname for motif_reader to wherever the motif_pfm files are.\n",
    "\n",
    " - Specify the frequency for each motif to be inserted in a list\n",
    " - Specify the length of the sequence you want\n",
    " - .pfm files had to be modified by deleting the letters and symbols before the numbers\n",
    " \n",
    "Note: siteout.py is written in Python2. So to run this you must have python2 downloaded. Change the command in sitout_call() to \n",
    "your path to python2"
   ]
  },
  {
   "cell_type": "code",
   "execution_count": 1,
   "metadata": {},
   "outputs": [],
   "source": [
    "import random\n",
    "from Bio import motifs\n",
    "from Bio.Seq import Seq\n",
    "from Bio.SeqRecord import SeqRecord\n",
    "from Bio.Alphabet import IUPAC\n",
    "from Bio.SeqRecord import SeqRecord\n",
    "from Bio import SeqIO\n",
    "import os\n"
   ]
  },
  {
   "cell_type": "markdown",
   "metadata": {},
   "source": [
    "motif_reader looks in the folder that contains the .pfm for motifs (downloaded from Jaspar) and reads and saves each motif in the folder"
   ]
  },
  {
   "cell_type": "code",
   "execution_count": 2,
   "metadata": {},
   "outputs": [
    {
     "ename": "FileNotFoundError",
     "evalue": "[Errno 2] No such file or directory: 'C:/Users/Lanes/ResearchLab/team_neural_network/data/input/motif_pfm/'",
     "output_type": "error",
     "traceback": [
      "\u001b[0;31m---------------------------------------------------------------------------\u001b[0m",
      "\u001b[0;31mFileNotFoundError\u001b[0m                         Traceback (most recent call last)",
      "\u001b[0;32m<ipython-input-2-dac2075ecdb8>\u001b[0m in \u001b[0;36m<module>\u001b[0;34m()\u001b[0m\n\u001b[1;32m     12\u001b[0m     \u001b[0;32mreturn\u001b[0m \u001b[0mmotif_list\u001b[0m\u001b[0;34m\u001b[0m\u001b[0m\n\u001b[1;32m     13\u001b[0m \u001b[0;34m\u001b[0m\u001b[0m\n\u001b[0;32m---> 14\u001b[0;31m \u001b[0mmotifs_test\u001b[0m \u001b[0;34m=\u001b[0m \u001b[0mmotif_reader\u001b[0m\u001b[0;34m(\u001b[0m\u001b[0;34m\"C:/Users/Lanes/ResearchLab/team_neural_network/data/input/motif_pfm/\"\u001b[0m\u001b[0;34m)\u001b[0m\u001b[0;34m\u001b[0m\u001b[0m\n\u001b[0m\u001b[1;32m     15\u001b[0m \u001b[0mmotifs_test\u001b[0m\u001b[0;34m\u001b[0m\u001b[0m\n",
      "\u001b[0;32m<ipython-input-2-dac2075ecdb8>\u001b[0m in \u001b[0;36mmotif_reader\u001b[0;34m(path_name)\u001b[0m\n\u001b[1;32m      1\u001b[0m \u001b[0;32mdef\u001b[0m \u001b[0mmotif_reader\u001b[0m\u001b[0;34m(\u001b[0m\u001b[0mpath_name\u001b[0m\u001b[0;34m)\u001b[0m\u001b[0;34m:\u001b[0m\u001b[0;34m\u001b[0m\u001b[0m\n\u001b[1;32m      2\u001b[0m     \u001b[0mmotif_list\u001b[0m \u001b[0;34m=\u001b[0m\u001b[0;34m[\u001b[0m\u001b[0;34m]\u001b[0m\u001b[0;34m\u001b[0m\u001b[0m\n\u001b[0;32m----> 3\u001b[0;31m     \u001b[0;32mfor\u001b[0m \u001b[0mfilename\u001b[0m \u001b[0;32min\u001b[0m \u001b[0mos\u001b[0m\u001b[0;34m.\u001b[0m\u001b[0mlistdir\u001b[0m\u001b[0;34m(\u001b[0m\u001b[0mpath_name\u001b[0m\u001b[0;34m)\u001b[0m\u001b[0;34m:\u001b[0m\u001b[0;34m\u001b[0m\u001b[0m\n\u001b[0m\u001b[1;32m      4\u001b[0m         \u001b[0mprint\u001b[0m\u001b[0;34m(\u001b[0m\u001b[0mfilename\u001b[0m\u001b[0;34m)\u001b[0m\u001b[0;34m\u001b[0m\u001b[0m\n\u001b[1;32m      5\u001b[0m         \u001b[0;32mwith\u001b[0m \u001b[0mopen\u001b[0m\u001b[0;34m(\u001b[0m\u001b[0mpath_name\u001b[0m \u001b[0;34m+\u001b[0m \u001b[0mfilename\u001b[0m\u001b[0;34m)\u001b[0m \u001b[0;32mas\u001b[0m \u001b[0mhandle\u001b[0m\u001b[0;34m:\u001b[0m\u001b[0;34m\u001b[0m\u001b[0m\n",
      "\u001b[0;31mFileNotFoundError\u001b[0m: [Errno 2] No such file or directory: 'C:/Users/Lanes/ResearchLab/team_neural_network/data/input/motif_pfm/'"
     ]
    }
   ],
   "source": [
    "def motif_reader(path_name):\n",
    "    motif_list =[]\n",
    "    for filename in os.listdir(path_name):\n",
    "        print(filename)\n",
    "        with open(path_name + filename) as handle:\n",
    "             word = motifs.read(handle, \"pfm\")\n",
    "             handle.close()\n",
    "        motif = str(word.consensus)\n",
    "        print(motif)\n",
    "        motif_list.append(motif)\n",
    "\n",
    "    return motif_list\n",
    "\n",
    "motifs_test = motif_reader(\"/mnt/c/users/Jesse Woo/Documents/GitHub/team_neural_network/code/utility/PWM_generator/motif_pfm/\")\n",
    "motifs_test"
   ]
  },
  {
   "cell_type": "markdown",
   "metadata": {},
   "source": [
    "Creates a list of the motifs with the proportion of the motifs determined by the probabilities and length"
   ]
  },
  {
   "cell_type": "code",
   "execution_count": 87,
   "metadata": {},
   "outputs": [
    {
     "data": {
      "text/plain": [
       "['ATTACGTAAT',\n",
       " 'GGCCATAAAA',\n",
       " 'ATTACGTAAT',\n",
       " 'ATTACGTAAT',\n",
       " 'TAATCC',\n",
       " 'ATTACGTAAT',\n",
       " 'ATTACGTAAT',\n",
       " 'TAATCC',\n",
       " 'GGCCATAAAA',\n",
       " 'GCATAAAAAA',\n",
       " 'GGCCATAAAA',\n",
       " 'GGCCATAAAA',\n",
       " 'GGCCATAAAA',\n",
       " 'GGCCATAAAA',\n",
       " 'GGCCATAAAA',\n",
       " 'GGCCATAAAA',\n",
       " 'GGCCATAAAA',\n",
       " 'TAATCC',\n",
       " 'GGCCATAAAA',\n",
       " 'ATTACGTAAT',\n",
       " 'ATTACGTAAT']"
      ]
     },
     "execution_count": 87,
     "metadata": {},
     "output_type": "execute_result"
    }
   ],
   "source": [
    "def motif_dist(motifs, probabilities, length):\n",
    "\tdist = []\n",
    "\tfor i,j in zip(motifs,probabilities):\n",
    "\t\trepeats = round(j*length)\n",
    "\t\tfor k in range(0, repeats):\n",
    "\t\t\tdist.append(i)\n",
    "\t\n",
    "\trandom.shuffle(dist)\n",
    "\treturn dist\n",
    "\n",
    "motif_dist(motifs_test,[.001,.003,.01,.007], 1000)"
   ]
  },
  {
   "cell_type": "markdown",
   "metadata": {},
   "source": [
    "Writes the Sequence.txt file, used for siteout.py, using the distribution and the list of motifs"
   ]
  },
  {
   "cell_type": "code",
   "execution_count": 88,
   "metadata": {},
   "outputs": [],
   "source": [
    "def write_seq_txt(dist, motifs):\n",
    "\n",
    "\tseq_txt = open(\"Sequences.txt\", \"w\")\n",
    "\tfor i in dist:\n",
    "\t\t\n",
    "\t\t\n",
    "\t\ttry:\n",
    "\t\t\tmot = str(motifs.pop())\n",
    "\t\t\tseq_txt.write(mot+\",\")\n",
    "\t\t\t\n",
    "\t\texcept:\n",
    "\t\t\tseq_txt.write('A'+\",\")\n",
    "\t\tseq_txt.write(str(i) + \"\")\n",
    "\t\tseq_txt.write(\"\\n\")\n",
    "\n",
    "\tseq_txt.close()"
   ]
  },
  {
   "cell_type": "markdown",
   "metadata": {},
   "source": [
    "Writes the Motifs.txt file, used for siteout.py"
   ]
  },
  {
   "cell_type": "code",
   "execution_count": 89,
   "metadata": {},
   "outputs": [],
   "source": [
    "def write_motif_txt(motifs):\n",
    "\tmot_txt = open(\"motifs.txt\", \"w\")\n",
    "\tfor i in range(1, len(motifs)+1 ):\n",
    "\t\tmot_txt.write(\"> motif\" + str(i))\n",
    "\t\tmot_txt.write(\"\\n\")\n",
    "\t\tmot_txt.write(motifs[i-1])\n",
    "\t\tmot_txt.write(\"\\n\")\n",
    "\tmot_txt.close()"
   ]
  },
  {
   "cell_type": "markdown",
   "metadata": {},
   "source": [
    "Uses Python2 to run siteout.py\n",
    "\n",
    "Change the first argument to you location of the python2 python.exe file\n",
    "\n",
    "Estrada J, Ruiz-Herrero T, Scholes C, Wunderlich Z, DePace AH (2016)\n",
    "SiteOut: An Online Tool to Design Binding Site-Free DNA Sequences.\n",
    "    PLoS ONE 11(3): e0151740. https://doi.org/10.1371/journal.pone.0151740"
   ]
  },
  {
   "cell_type": "code",
   "execution_count": 90,
   "metadata": {},
   "outputs": [],
   "source": [
    "import subprocess\n",
    "def siteout_call(GC):\n",
    "\tprocess = subprocess.run(\"C:/Python27/python.exe siteout.py .05 .5 \"+GC+ \" Sequences.txt motifs.txt\")"
   ]
  },
  {
   "cell_type": "markdown",
   "metadata": {},
   "source": [
    "creates a distribution of numbers that add up to the amount of netural sequence we need to create a sequence with the \n",
    "desired length and number of motifs\n"
   ]
  },
  {
   "cell_type": "code",
   "execution_count": 91,
   "metadata": {},
   "outputs": [
    {
     "data": {
      "text/plain": [
       "[53,\n",
       " 33,\n",
       " 57,\n",
       " 70,\n",
       " 63,\n",
       " 31,\n",
       " 20,\n",
       " 43,\n",
       " 66,\n",
       " 60,\n",
       " 3,\n",
       " 66,\n",
       " 52,\n",
       " 20,\n",
       " 13,\n",
       " 4,\n",
       " 71,\n",
       " 51,\n",
       " 15,\n",
       " 6,\n",
       " 16,\n",
       " 10]"
      ]
     },
     "execution_count": 91,
     "metadata": {},
     "output_type": "execute_result"
    }
   ],
   "source": [
    "def distribution(length, probability):\n",
    "\tdivisions = (length * probability) + 1\n",
    "\tlength= length - (divisions * 8)\n",
    "\trand_col = []\n",
    "\tfor i in range(0, int(divisions)):\n",
    "\t\trand_col.append(random.random())\n",
    "\n",
    "\ttotal = sum(rand_col)\n",
    "\tsum_k = []\n",
    "\tfor j in rand_col:\n",
    "\t\tsum_k.append(round((j/total)*length))\n",
    "\n",
    "\treturn sum_k\n",
    "\n",
    "distribution(1000,sum([.001,.003,.01,.007]))"
   ]
  },
  {
   "cell_type": "markdown",
   "metadata": {},
   "source": [
    "This is the function that develops one neutral sequence using all the previous functions.\n",
    "\n",
    "Use:\n",
    "\n",
    "    -Length: integer ex. 10000\n",
    "    -probabilities: a list of floats with same length as motifs in the motif folder ex. [.001,.003,.004,.0008]\n",
    "        for best results make sure the sum of probabilities is less than .1\n",
    "    -GC_percent: float (has to be float and not integer) ex. 50.0"
   ]
  },
  {
   "cell_type": "code",
   "execution_count": 92,
   "metadata": {},
   "outputs": [],
   "source": [
    "def main(length, probabilities, GC_percent=50.0):\n",
    "\n",
    "\tmotifs = motifs_test\n",
    "\tmotif_list = motif_dist(motifs,probabilities, length)\n",
    "\tnumbers = distribution(length, sum(probabilities))\n",
    "\twrite_seq_txt(numbers, motif_list)\n",
    "\twrite_motif_txt(motifs)\n",
    "\tsiteout_call(str(GC_percent))"
   ]
  },
  {
   "cell_type": "markdown",
   "metadata": {},
   "source": [
    "This brings together all functions and  creates a fasta file that has 24 randomly generated sequences with\n",
    "a random enhancer functionality"
   ]
  },
  {
   "cell_type": "code",
   "execution_count": 93,
   "metadata": {},
   "outputs": [],
   "source": [
    "def sequence_generator(length, motif_frequencies):\n",
    "\n",
    "    write=[]\n",
    "    for i in range(0,24):\n",
    "\n",
    "        main(length,motif_frequencies)\n",
    "\n",
    "        generated_sequence = SeqIO.read(\"neutralseq.fa\", \"fasta\")\n",
    "        generated_sequence = generated_sequence.seq\n",
    "        \n",
    "\n",
    "        \n",
    "        enhancer = str(random.randint(0,1))\n",
    "        output = SeqRecord(generated_sequence, id=str(i)+'|'+enhancer, name=\"random\", description=\"This is a randomly generated sequence\")\n",
    "        write.append(output)\n",
    "\n",
    "    SeqIO.write(write, \"my_example.faa\", \"fasta\")"
   ]
  },
  {
   "cell_type": "code",
   "execution_count": 94,
   "metadata": {},
   "outputs": [
    {
     "name": "stdout",
     "output_type": "stream",
     "text": [
      "result saved to my_example.fa\n"
     ]
    }
   ],
   "source": [
    "#Be Patient, this may take a while (approx. 30sec)\n",
    "sequence_generator(10000,[.001,.005,.002,.005])\n",
    "print(\"result saved to my_example.fa\")"
   ]
  },
  {
   "cell_type": "code",
   "execution_count": null,
   "metadata": {},
   "outputs": [],
   "source": []
  }
 ],
 "metadata": {
  "kernelspec": {
   "display_name": "Python 3",
   "language": "python",
   "name": "python3"
  },
  "language_info": {
   "codemirror_mode": {
    "name": "ipython",
    "version": 3
   },
   "file_extension": ".py",
   "mimetype": "text/x-python",
   "name": "python",
   "nbconvert_exporter": "python",
   "pygments_lexer": "ipython3",
   "version": "3.6.5"
  }
 },
 "nbformat": 4,
 "nbformat_minor": 2
}
