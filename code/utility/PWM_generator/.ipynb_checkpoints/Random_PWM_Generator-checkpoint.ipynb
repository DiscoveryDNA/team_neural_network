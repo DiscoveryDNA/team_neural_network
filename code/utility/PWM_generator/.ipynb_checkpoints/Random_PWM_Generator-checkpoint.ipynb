{
 "cells": [
  {
   "cell_type": "markdown",
   "metadata": {},
   "source": [
    "Author: Jesse Woo\n",
    "\n",
    "Purpose: This notebook generates a file containing a random TFBS Position Weight Matrix\n",
    "\n",
    "Use:\n",
    " - Specify the length you want the random PWM to be. \n",
    " - Specify the name of the file to be created"
   ]
  },
  {
   "cell_type": "code",
   "execution_count": 1,
   "metadata": {},
   "outputs": [],
   "source": [
    "from random import random\n",
    "import numpy as np"
   ]
  },
  {
   "cell_type": "code",
   "execution_count": 2,
   "metadata": {},
   "outputs": [],
   "source": [
    "# Creates values for random PWM for a .fm file format\n",
    "\n",
    "def random_pwm_fm(length, file_name):\n",
    "    '''\n",
    "    Creates a text file containing a random PWM where the rows are the positions and the columns are the nucleotides\n",
    "    \n",
    "    random_pwm_fm(2, \"example.fm\") creates a text file called \"example.fm\" containing a random 2 position PWM. \n",
    "    '''\n",
    "    # Creates a list containing a list of the proportions of ACTG at each position\n",
    "    PWM=[]\n",
    "    for position in range(length):\n",
    "        random_numbers = np.array([random() for nucleotide in range(4)])\n",
    "        proportion = random_numbers/sum(random_numbers)\n",
    "        PWM += [list(proportion)]\n",
    "    \n",
    "    # Creates a file containing the PWM\n",
    "    file = open(file_name, \"w\") \n",
    "    for position in PWM:\n",
    "        line = \"\"\n",
    "        for i in range(len(position)):\n",
    "            line += str(position[i]) + \" \" \n",
    "        file.write(line + \"\\n\")\n",
    "    "
   ]
  },
  {
   "cell_type": "code",
   "execution_count": 3,
   "metadata": {},
   "outputs": [],
   "source": [
    "random_pwm_fm(8, \"example.fm\")"
   ]
  },
  {
   "cell_type": "code",
   "execution_count": 2,
   "metadata": {},
   "outputs": [],
   "source": [
    "# Creates values for random PWM for a .pfm file format\n",
    "\n",
    "def random_pwm_pfm(length, file_name):\n",
    "    '''\n",
    "    Creates a text file containing a random PWM where the rows are the nucleotides and the columns are the positions\n",
    "    \n",
    "    random_pwm_pfm(2, \"example.pfm\") creates a text file called \"example.pfm\" containing a random 2 position PWM. \n",
    "    '''\n",
    "    # Creates a list containing a list of the proportions of ACTG at each position\n",
    "    PWM = [[],[],[],[]]\n",
    "    for position in range(length):\n",
    "        random_numbers = np.array([random() for nucleotide in range(4)])\n",
    "        proportion = random_numbers/sum(random_numbers)\n",
    "        for i in range(4):\n",
    "            PWM[i] += [proportion[i]]\n",
    "    \n",
    "    # Creates a file containing the PWM\n",
    "    file = open(file_name, \"w\") \n",
    "    for nucleotide in range(4):\n",
    "        line = \"\"\n",
    "        for i in range(length):\n",
    "            line += str(PWM[nucleotide][i]) + \" \" \n",
    "        file.write(line + \"\\n\")"
   ]
  },
  {
   "cell_type": "code",
   "execution_count": 4,
   "metadata": {},
   "outputs": [],
   "source": [
    "random_pwm_pfm(8, \"motif_pfm/example.pfm\")"
   ]
  },
  {
   "cell_type": "code",
   "execution_count": null,
   "metadata": {},
   "outputs": [],
   "source": []
  },
  {
   "cell_type": "markdown",
   "metadata": {},
   "source": []
  },
  {
   "cell_type": "code",
   "execution_count": 5,
   "metadata": {},
   "outputs": [
    {
     "name": "stdout",
     "output_type": "stream",
     "text": [
      "/mnt/c/users/Jesse Woo/Documents/GitHub/team_neural_network/code/utility/PWM_generator\r\n"
     ]
    }
   ],
   "source": [
    "!pwd"
   ]
  },
  {
   "cell_type": "code",
   "execution_count": null,
   "metadata": {},
   "outputs": [],
   "source": []
  }
 ],
 "metadata": {
  "kernelspec": {
   "display_name": "Python 3",
   "language": "python",
   "name": "python3"
  },
  "language_info": {
   "codemirror_mode": {
    "name": "ipython",
    "version": 3
   },
   "file_extension": ".py",
   "mimetype": "text/x-python",
   "name": "python",
   "nbconvert_exporter": "python",
   "pygments_lexer": "ipython3",
   "version": "3.6.5"
  }
 },
 "nbformat": 4,
 "nbformat_minor": 2
}
