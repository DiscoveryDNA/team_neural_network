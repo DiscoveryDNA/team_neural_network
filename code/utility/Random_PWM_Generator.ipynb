{
 "cells": [
  {
   "cell_type": "markdown",
   "metadata": {},
   "source": [
    "Author: Jesse Woo\n",
    "\n",
    "Purpose: This notebook generates a file containing a random TFBS Position Weight Matrix\n",
    "\n",
    "Use:\n",
    " - Specify the length you want the random PWM to be. \n",
    " - Specify the name of the file to be created"
   ]
  },
  {
   "cell_type": "code",
   "execution_count": 1,
   "metadata": {},
   "outputs": [],
   "source": [
    "# Creates values for random PWM\n",
    "\n",
    "from random import random\n",
    "import numpy as np\n",
    "\n",
    "def random_pwm(length, file_name):\n",
    "    '''\n",
    "    Creates a text file containing random PWM. \n",
    "    \n",
    "    random_pwm(2)[i] returns a list of the random proportions at the i + 1 position. \n",
    "    '''\n",
    "    # Creates a list containing a list of the proportions of ACTG at each position\n",
    "    PWM=[]\n",
    "    for position in range(length):\n",
    "        proportion = np.array([random() for nucleotide in range(4)])\n",
    "        PWM += [list(proportion/sum(proportion))]\n",
    "    \n",
    "    # Creates a file containing the PWM\n",
    "    file = open(file_name, \"w\") \n",
    "    for position in PWM:\n",
    "        line = \"\"\n",
    "        for i in range(len(position)):\n",
    "            line += str(position[i]) + \" \" \n",
    "        file.write(line + \"\\n\")\n",
    "    "
   ]
  },
  {
   "cell_type": "code",
   "execution_count": 4,
   "metadata": {},
   "outputs": [],
   "source": [
    "random_pwm(8, \"example.fm\")"
   ]
  },
  {
   "cell_type": "code",
   "execution_count": null,
   "metadata": {},
   "outputs": [],
   "source": []
  },
  {
   "cell_type": "markdown",
   "metadata": {},
   "source": [
    "Possible improvements:\n",
    "    - create file in specific directory (currently creates it in current directory)\n",
    "    - include extra info about the random sequences"
   ]
  },
  {
   "cell_type": "code",
   "execution_count": null,
   "metadata": {},
   "outputs": [],
   "source": []
  }
 ],
 "metadata": {
  "kernelspec": {
   "display_name": "Python 3",
   "language": "python",
   "name": "python3"
  },
  "language_info": {
   "codemirror_mode": {
    "name": "ipython",
    "version": 3
   },
   "file_extension": ".py",
   "mimetype": "text/x-python",
   "name": "python",
   "nbconvert_exporter": "python",
   "pygments_lexer": "ipython3",
   "version": "3.6.5"
  }
 },
 "nbformat": 4,
 "nbformat_minor": 2
}
