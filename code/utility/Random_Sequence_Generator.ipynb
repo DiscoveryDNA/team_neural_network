{
 "cells": [
  {
   "cell_type": "markdown",
   "metadata": {},
   "source": [
    "Author: Thomas Lane\n",
    "\n",
    "Purpose: This notebook generates a random sequence with motifs at a specified frequency.\n",
    "\n",
    "Use: - Change the pathname for motif_reader to wherever the motif_pfm files are.\n",
    "     - Specify the frequency you want motifs to be inserted\n",
    "     - Specify the length of the sequence you want\n",
    "     - If you set save=True the sequence output will be saved to a file (default \"my_example.faa\")\n",
    "     - .pfm files had to be modified by deleting the letters and symbols before the numbers\n"
   ]
  },
  {
   "cell_type": "code",
   "execution_count": 84,
   "metadata": {},
   "outputs": [],
   "source": [
    "import random\n",
    "from Bio import motifs\n",
    "from Bio.Seq import Seq\n",
    "from Bio.SeqRecord import SeqRecord\n",
    "from Bio.Alphabet import IUPAC\n",
    "from Bio.SeqRecord import SeqRecord\n",
    "from Bio import SeqIO\n",
    "import os"
   ]
  },
  {
   "cell_type": "markdown",
   "metadata": {},
   "source": [
    "motif_reader looks in the folder that contains the .pfm for motifs (downloaded from Jaspar) and reads and saves each motif in the folder"
   ]
  },
  {
   "cell_type": "code",
   "execution_count": 85,
   "metadata": {},
   "outputs": [],
   "source": [
    "def motif_reader(path_name):\n",
    "    motif_list =[]\n",
    "    for filename in os.listdir(path_name):\n",
    "        print(filename)\n",
    "        with open(path_name + filename) as handle:\n",
    "             word = motifs.read(handle, \"pfm\")\n",
    "             handle.close()\n",
    "        motif = str(word.consensus)\n",
    "        print(motif)\n",
    "        motif_list.append(motif)\n",
    "\n",
    "    return motif_list"
   ]
  },
  {
   "cell_type": "markdown",
   "metadata": {},
   "source": [
    "This function can create a random sequence where you can specify options\n",
    "\n",
    "- motif_frequency: (float 0 <= x <= )1The frequency that the function will insert the motif\n",
    "- length: (positve integer) the length of the generated sequence\n",
    "- save: (bool) if you want the function to output to a file and save it"
   ]
  },
  {
   "cell_type": "code",
   "execution_count": 86,
   "metadata": {},
   "outputs": [],
   "source": [
    "def sequence_generator(motif_frequency=.002, length=1000, save=False):\n",
    "    \n",
    "    \n",
    "    write = []\n",
    "    motifs = motif_reader(\"C:/Users/Lanes/ResearchLab/team_neural_network/data/input/motif_pfm/\")\n",
    "    sequences = []\n",
    "\n",
    "    # this is to create 24 sequences to mirror our 24 species\n",
    "    for _ in range(0,24):\n",
    "\n",
    "        bases= ['A','G','C','T']\n",
    "        generated_sequence =\"\"\n",
    "\n",
    "        # This creates a sequence of the specified length\n",
    "        for i in range(0,length):\n",
    "            # this creates a random number according to frequency and decides if it should insert a random motif\n",
    "            check = random.random()\n",
    "            if motif_frequency >= check:\n",
    "                generated_sequence += random.choice(motifs)\n",
    "            else:\n",
    "                generated_sequence+= random.choice(bases)\n",
    "\n",
    "        #This creates a BioPython Sequence that is randomly assigned a positive or negative enhancer function\n",
    "        seq = Seq(generated_sequence,  IUPAC.unambiguous_dna)\n",
    "        enhancer = str(random.randint(0,1))\n",
    "        output = SeqRecord(seq, id=\"000000|\"+enhancer, name=\"random\", description=\"This is a randomly generated sequence\")\n",
    "        write.append(output)\n",
    "        sequences.append(generated_sequence)\n",
    "        \n",
    "    # saves the sequence to a fasta file\n",
    "    if save:\n",
    "        SeqIO.write(write, \"my_example.faa\", \"fasta\")\n",
    "    \n",
    "    return sequences"
   ]
  },
  {
   "cell_type": "code",
   "execution_count": 87,
   "metadata": {},
   "outputs": [
    {
     "name": "stdout",
     "output_type": "stream",
     "text": [
      "MA0049.1.pfm\n",
      "GCATAAAAAA\n",
      "MA0212.1.pfm\n",
      "TAATCC\n",
      "MA0216.2.pfm\n",
      "GGCCATAAAA\n",
      "MA0447.1.pfm\n",
      "ATTACGTAAT\n"
     ]
    }
   ],
   "source": [
    "i = sequence_generator(motif_frequency=0.003, save=False, length=1200)"
   ]
  },
  {
   "cell_type": "markdown",
   "metadata": {},
   "source": [
    "This cell counts how many of one motif are in each sequence, this is used as a quick check to make sure the function worked"
   ]
  },
  {
   "cell_type": "code",
   "execution_count": 88,
   "metadata": {},
   "outputs": [
    {
     "name": "stdout",
     "output_type": "stream",
     "text": [
      "MA0049.1.pfm\n",
      "GCATAAAAAA\n",
      "MA0212.1.pfm\n",
      "TAATCC\n",
      "MA0216.2.pfm\n",
      "GGCCATAAAA\n",
      "MA0447.1.pfm\n",
      "ATTACGTAAT\n",
      "1\n",
      "1\n",
      "0\n",
      "1\n",
      "3\n",
      "3\n",
      "1\n",
      "2\n",
      "0\n",
      "2\n",
      "3\n",
      "0\n",
      "2\n",
      "1\n",
      "0\n",
      "1\n",
      "0\n",
      "2\n",
      "1\n",
      "1\n",
      "1\n",
      "0\n",
      "3\n",
      "1\n"
     ]
    }
   ],
   "source": [
    "motifs = motif_reader(\"C:/Users/Lanes/ResearchLab/team_neural_network/data/input/motif_pfm/\")\n",
    "for k in i:\n",
    "    counter = k.count(motifs[0])\n",
    "    print(counter)"
   ]
  },
  {
   "cell_type": "code",
   "execution_count": null,
   "metadata": {},
   "outputs": [],
   "source": []
  }
 ],
 "metadata": {
  "kernelspec": {
   "display_name": "Python 3",
   "language": "python",
   "name": "python3"
  },
  "language_info": {
   "codemirror_mode": {
    "name": "ipython",
    "version": 3
   },
   "file_extension": ".py",
   "mimetype": "text/x-python",
   "name": "python",
   "nbconvert_exporter": "python",
   "pygments_lexer": "ipython3",
   "version": "3.6.4"
  }
 },
 "nbformat": 4,
 "nbformat_minor": 2
}
