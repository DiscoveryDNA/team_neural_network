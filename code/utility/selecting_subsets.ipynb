{
 "cells": [
  {
   "cell_type": "markdown",
   "metadata": {},
   "source": [
    "**Author**: Yichen Fang\n",
    "\n",
    "The purpose of this file is to produce random subsets of outputs to facilitate testing on smaller values in order to save both time and money."
   ]
  },
  {
   "cell_type": "code",
   "execution_count": null,
   "metadata": {},
   "outputs": [],
   "source": [
    "import glob\n",
    "import ast\n",
    "import pickle\n",
    "from random import shuffle"
   ]
  },
  {
   "cell_type": "code",
   "execution_count": null,
   "metadata": {},
   "outputs": [],
   "source": [
    "output_folder_path = \"/home/ubuntu/formatted/output\" + \"/\" # Path to the folder where the complete output is stored\n",
    "path_to_buffer_folder = \"/home/ubuntu/formatted\" + \"/\" # Path to the folder where buffer of random subset is saved\n",
    "selection_ratio = 0.2 # Set the number of sequences in the subset as a ratio of the complete output\n",
    "selection_times = 3 # Set the number of subsets to be produced"
   ]
  },
  {
   "cell_type": "markdown",
   "metadata": {},
   "source": [
    "The following cell produces the subsets according to the variables set above. All subsets are stored as binary `pickle` buffers that can be directly imported as a Python list."
   ]
  },
  {
   "cell_type": "code",
   "execution_count": null,
   "metadata": {},
   "outputs": [],
   "source": [
    "all_txts = glob.glob(output_folder_path + '*.txt')\n",
    "\n",
    "file_count = int(len(all_txts) * selection_ratio)\n",
    "i = 0\n",
    "\n",
    "for times in range(selection_times):\n",
    "    shuffle(all_txts)\n",
    "    curtailed_txts = all_txts[:file_count]\n",
    "    seq_record_list = []\n",
    "    # Iterate through all one-hot encoding files\n",
    "    j = 0\n",
    "    for txt_ in curtailed_txts:\n",
    "        with open(txt_, encoding='utf-8') as f:\n",
    "            # attach the one-hot encoding information of this file to the end of seq_record_list\n",
    "            seq_record_list += ast.literal_eval(f.read())\n",
    "            j += 1\n",
    "            print(j)\n",
    "    with open(path_to_buffer_folder + \"random_\" + str(selection_ratio) + \"_instance_\" + str(times + 1) + \".txt\", \"wb\") as buff:\n",
    "        pickle.dump(seq_record_list, buff)\n",
    "    i += 1\n",
    "    print(\"finished: \" + str(i))"
   ]
  }
 ],
 "metadata": {
  "kernelspec": {
   "display_name": "Environment (conda_tensorflow_p36)",
   "language": "python",
   "name": "conda_tensorflow_p36"
  },
  "language_info": {
   "codemirror_mode": {
    "name": "ipython",
    "version": 3
   },
   "file_extension": ".py",
   "mimetype": "text/x-python",
   "name": "python",
   "nbconvert_exporter": "python",
   "pygments_lexer": "ipython3",
   "version": "3.6.4"
  }
 },
 "nbformat": 4,
 "nbformat_minor": 2
}
