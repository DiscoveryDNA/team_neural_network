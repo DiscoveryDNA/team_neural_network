{
 "cells": [
  {
   "cell_type": "markdown",
   "metadata": {},
   "source": [
    "This cell creates a model and trains it on dummy data, this is not very interesting"
   ]
  },
  {
   "cell_type": "code",
   "execution_count": 30,
   "metadata": {},
   "outputs": [
    {
     "name": "stdout",
     "output_type": "stream",
     "text": [
      "Epoch 1/10\n",
      "1000/1000 [==============================] - 1s 1ms/step - loss: 0.7072 - acc: 0.5070\n",
      "Epoch 2/10\n",
      "1000/1000 [==============================] - 0s 54us/step - loss: 0.6954 - acc: 0.5160\n",
      "Epoch 3/10\n",
      "1000/1000 [==============================] - 0s 47us/step - loss: 0.6893 - acc: 0.5430\n",
      "Epoch 4/10\n",
      "1000/1000 [==============================] - 0s 49us/step - loss: 0.6878 - acc: 0.5520\n",
      "Epoch 5/10\n",
      "1000/1000 [==============================] - 0s 45us/step - loss: 0.6836 - acc: 0.5530\n",
      "Epoch 6/10\n",
      "1000/1000 [==============================] - 0s 45us/step - loss: 0.6810 - acc: 0.5600\n",
      "Epoch 7/10\n",
      "1000/1000 [==============================] - 0s 46us/step - loss: 0.6801 - acc: 0.5780\n",
      "Epoch 8/10\n",
      "1000/1000 [==============================] - 0s 49us/step - loss: 0.6735 - acc: 0.5760\n",
      "Epoch 9/10\n",
      "1000/1000 [==============================] - 0s 45us/step - loss: 0.6710 - acc: 0.5910\n",
      "Epoch 10/10\n",
      "1000/1000 [==============================] - 0s 45us/step - loss: 0.6692 - acc: 0.6010\n"
     ]
    },
    {
     "data": {
      "text/plain": [
       "<keras.callbacks.History at 0x1c60e171898>"
      ]
     },
     "execution_count": 30,
     "metadata": {},
     "output_type": "execute_result"
    }
   ],
   "source": [
    "import tensorflow as tf\n",
    "import matplotlib.pyplot as plt\n",
    "\n",
    "import numpy as np\n",
    "import keras\n",
    "from keras.models import Sequential\n",
    "from keras.layers import Dense, Dropout, Flatten\n",
    "from keras.layers import Conv2D, MaxPooling2D\n",
    "from keras.optimizers import SGD\n",
    "from keras.models import Sequential\n",
    "from keras.layers import Dense, Dropout\n",
    "from keras.layers import Embedding\n",
    "from keras.layers import Conv1D, GlobalAveragePooling1D, MaxPooling1D\n",
    "\n",
    "\n",
    "seq_length = 64\n",
    "\n",
    "model = Sequential()\n",
    "model.add(Dense(32, activation='relu', input_dim=100))\n",
    "model.add(Dense(1, activation='sigmoid'))\n",
    "model.compile(optimizer='rmsprop',\n",
    "              loss='binary_crossentropy',\n",
    "              metrics=['accuracy'])\n",
    "\n",
    "# Generate dummy data\n",
    "import numpy as np\n",
    "x_train = np.random.random((1000, 100))\n",
    "y_train = np.random.randint(2, size=(1000, 1))\n",
    "\n",
    "# Train the model, iterating on the data in batches of 32 samples\n",
    "model.fit(x_train, y_train, epochs=10, batch_size=32)\n",
    "\n",
    "\n",
    "\n",
    "\n",
    "\n",
    "\n",
    "\n",
    "\n",
    "\n"
   ]
  },
  {
   "cell_type": "markdown",
   "metadata": {},
   "source": [
    "This cell uses the model to make predictions on our data.\n",
    "\n",
    "Then it iterates through the results and the real labels and compares them to check for False Positives(FP) and True Negatives(TN).\n",
    "\n",
    "Then it uses the formula to calculate the False Positve Rate (FPR)"
   ]
  },
  {
   "cell_type": "code",
   "execution_count": 31,
   "metadata": {},
   "outputs": [
    {
     "name": "stdout",
     "output_type": "stream",
     "text": [
      "0.15180265654648956\n"
     ]
    }
   ],
   "source": [
    "results = model.predict(x_train, batch_size=16)\n",
    "\n",
    "false_positives = 0\n",
    "true_positives = 0\n",
    "total_negatives = 0\n",
    "total_positives = 0\n",
    "true_negatives = 0\n",
    "\n",
    "for i in range(0,results.size):\n",
    "    \n",
    "    if results[i][0]>=0.5 and y_train[i]==0:\n",
    "        false_positives += 1\n",
    "\n",
    "    if results[i][0]>=0.5 and y_train[i]==1:\n",
    "        true_positives += 1\n",
    "        \n",
    "    if results[i][0]<=0.5 and y_train[i]==0:\n",
    "        true_negatives += 1\n",
    "        \n",
    "    if results[i][0] <= 0.5:\n",
    "        total_negatives += 1\n",
    "        \n",
    "    if results[i][0] >= 0.5:\n",
    "        total_positives += 1\n",
    "\n",
    "false_discovery_rate = false_positives/(false_positives + true_negatives)\n",
    "print(false_discovery_rate)\n",
    "\n",
    "\n",
    "\n"
   ]
  },
  {
   "cell_type": "code",
   "execution_count": 32,
   "metadata": {},
   "outputs": [
    {
     "name": "stdout",
     "output_type": "stream",
     "text": [
      "ROC Curve\n"
     ]
    },
    {
     "data": {
      "image/png": "[encoded data removed]",
      "text/plain": [
       "<matplotlib.figure.Figure at 0x1c60e1caa90>"
      ]
     },
     "metadata": {},
     "output_type": "display_data"
    },
    {
     "name": "stdout",
     "output_type": "stream",
     "text": [
      "c-statistic = 0.6681463146535297\n"
     ]
    }
   ],
   "source": [
    "\n",
    "sensitivities = []\n",
    "false_positive_rates =[]\n",
    "discovery_percentage = 0.05\n",
    "\n",
    "while discovery_percentage < 1.0:\n",
    "    \n",
    "    false_positives = 0\n",
    "    true_positives = 0\n",
    "    total_negatives = 0\n",
    "    total_positives = 0\n",
    "    true_negatives = 0\n",
    "    \n",
    "    for i in range(0,results.size):\n",
    "\n",
    "        if results[i][0]>=discovery_percentage and y_train[i]==0:\n",
    "            false_positives += 1\n",
    "\n",
    "        if results[i][0]>=discovery_percentage and y_train[i]==1:\n",
    "            true_positives += 1\n",
    "\n",
    "        if results[i][0]<=discovery_percentage and y_train[i]==0:\n",
    "            true_negatives += 1\n",
    "\n",
    "        if y_train[i]==0:\n",
    "            total_negatives += 1\n",
    "\n",
    "        if y_train[i]==1:\n",
    "            total_positives += 1\n",
    "            \n",
    "    if total_positives != 0 and total_negatives != 0:\n",
    "        sensitivities.append(true_positives / total_positives)\n",
    "        false_positive_rates.append(1-(true_negatives / total_negatives))\n",
    "    \n",
    "    discovery_percentage += 0.05\n",
    "    \n",
    "def trapezoid_area(b1,b2,h):\n",
    "    return 0.5 * h * (b1 + b2)\n",
    "\n",
    "riemann = 0.0\n",
    "for i in range(0,len(sensitivities) - 1):\n",
    "    riemann += 0.5 * (sensitivities[i]+sensitivities[i+1]) * (false_positive_rates[i]-false_positive_rates[i+1])\n",
    "    \n",
    "\n",
    "print(\"ROC Curve\")\n",
    "plt.plot(false_positive_rates, sensitivities )\n",
    "plt.ylabel('sensitivity')\n",
    "plt.xlabel('false positive rate')\n",
    "plt.show()\n",
    "print(\"c-statistic = \" + str(riemann))"
   ]
  },
  {
   "cell_type": "code",
   "execution_count": null,
   "metadata": {},
   "outputs": [],
   "source": []
  }
 ],
 "metadata": {
  "kernelspec": {
   "display_name": "Python 3",
   "language": "python",
   "name": "python3"
  },
  "language_info": {
   "codemirror_mode": {
    "name": "ipython",
    "version": 3
   },
   "file_extension": ".py",
   "mimetype": "text/x-python",
   "name": "python",
   "nbconvert_exporter": "python",
   "pygments_lexer": "ipython3",
   "version": "3.6.4"
  }
 },
 "nbformat": 4,
 "nbformat_minor": 2
}
